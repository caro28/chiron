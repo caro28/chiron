{
 "cells": [
  {
   "cell_type": "code",
   "execution_count": 1,
   "id": "fb86e78e-5676-42d7-8574-b2f31ba0656d",
   "metadata": {},
   "outputs": [],
   "source": [
    "import json, os, glob\n",
    "from ast import literal_eval\n",
    "from functions import read_alignments, load_txt_as_lst\n",
    "from collections import defaultdict"
   ]
  },
  {
   "cell_type": "code",
   "execution_count": 2,
   "id": "be6f44fc-90fe-43ea-8b1d-1715b6e0f1dd",
   "metadata": {},
   "outputs": [],
   "source": [
    "def build__src_2_tgt_dict(alignments_lst):\n",
    "    '''\n",
    "    If alignment is null on one side, inserts \"null\" \n",
    "    '''\n",
    "    src_id_to_tgt_ids = defaultdict(set)\n",
    "    for src, tgt in alignments_lst:\n",
    "        if (src, tgt) == ([], []):\n",
    "            continue\n",
    "        else:\n",
    "            if src == []:\n",
    "                src = [\"null\"]\n",
    "            if tgt == []:\n",
    "                tgt = [\"null\"]\n",
    "            for src_id in src:\n",
    "                for tgt_id in tgt:\n",
    "                    src_id_to_tgt_ids[src_id].add(tgt_id)\n",
    "    # convert to vals to list for writing to json\n",
    "    for key in src_id_to_tgt_ids.keys():\n",
    "        src_id_to_tgt_ids[key] = list(src_id_to_tgt_ids[key])\n",
    "    return src_id_to_tgt_ids\n",
    "\n",
    "def build_tgt_2_src_dict(alignments_lst):\n",
    "    '''\n",
    "    If alignment is null on one side, inserts \"null\" \n",
    "    '''\n",
    "    tgt_id_to_src_ids = defaultdict(set)\n",
    "    # tgt_id_to_src_ids = {}\n",
    "    for src, tgt in alignments_lst:\n",
    "        if (src, tgt) == ([], []):\n",
    "            continue\n",
    "        else:\n",
    "            if src == []:\n",
    "                src = [\"null\"]\n",
    "            if tgt == []:\n",
    "                tgt = [\"null\"]\n",
    "            for tgt_id in tgt:\n",
    "                for src_id in src:\n",
    "                    if tgt_id in tgt_id_to_src_ids.keys():\n",
    "                        tgt_id_to_src_ids[tgt_id].add(src_id)\n",
    "                    else:\n",
    "                        tgt_id_to_src_ids[tgt_id] = {src_id}\n",
    "                    # tgt_id_to_src_ids[tgt_id].add(src_id)\n",
    "    # convert to vals to list for writing to json\n",
    "    for key in tgt_id_to_src_ids.keys():\n",
    "        tgt_id_to_src_ids[key] = list(tgt_id_to_src_ids[key])\n",
    "    return tgt_id_to_src_ids\n",
    "\n",
    "def initialize_text_dict(src_sents_path):\n",
    "    '''\n",
    "    Initialize dict, build dict of src idx 2 src sent\n",
    "    '''\n",
    "    text_dict = {}\n",
    "    sents = load_txt_as_lst(src_sents_path)\n",
    "    sents = [sent.rstrip(\"\\n\") for sent in sents]\n",
    "    txt_keys = [num for num in range(len(sents))]\n",
    "    txt_dict = dict(zip(txt_keys, sents))\n",
    "    text_dict[\"src_text\"] = txt_dict\n",
    "    return text_dict\n",
    "\n",
    "def build_translation_dict(aligns_rslts_path, tgt_sents_path, lang):\n",
    "    aligns = read_alignments(aligns_rslts_path)\n",
    "    transl_dict = {}\n",
    "    # build dict of src idx 2 tgt idx\n",
    "    transl_dict[\"src2tgt_aligns\"] = build__src_2_tgt_dict(aligns)\n",
    "    # build dict of tgt idx 2 src idx\n",
    "    transl_dict[\"tgt2src_aligns\"] = build_tgt_2_src_dict(aligns)\n",
    "    \n",
    "    # build dict of tgt idx 2 tgt sent\n",
    "    tgt_sents = load_txt_as_lst(tgt_sents_path)\n",
    "    # get keys: idx of tgt sents\n",
    "    tgt_sents_idx = [num for num in range(len(tgt_sents))]\n",
    "    # strip trailing \\n from writing file to text; these are vals\n",
    "    tgt_sents = [sent.rstrip(\"\\n\") for sent in tgt_sents]\n",
    "    tgt_txt_dict = dict(zip(tgt_sents_idx, tgt_sents))\n",
    "    transl_dict[\"tgt_text\"] = tgt_txt_dict\n",
    "    \n",
    "    transl_dict[\"tgt_lang\"] = lang\n",
    "    return transl_dict"
   ]
  },
  {
   "cell_type": "markdown",
   "id": "1edbff6f-f279-4759-b220-8f5013f765f9",
   "metadata": {
    "jp-MarkdownHeadingCollapsed": true,
    "tags": []
   },
   "source": [
    "# Build logic"
   ]
  },
  {
   "cell_type": "code",
   "execution_count": null,
   "id": "81bfaeae-4a85-4cf0-8e73-181d81fef338",
   "metadata": {},
   "outputs": [],
   "source": [
    "# thuc1_aligns_rslts = \"/home/craig.car/repos/chiron/chironata/data/alignments_rslts/urn:cts:greekLit:tlg0003.tlg001_thucydides_1_1852.rslts\"\n",
    "# thuc2_aligns_rslts = \"/home/craig.car/repos/chiron/chironata/data/alignments_rslts/urn:cts:greekLit:tlg0003.tlg001_thucydides_1863.rslts\""
   ]
  },
  {
   "cell_type": "code",
   "execution_count": null,
   "id": "ba2ebd9c-5604-492e-ac46-b1ba2d769a75",
   "metadata": {},
   "outputs": [],
   "source": [
    "# thuc1_aligns = read_alignments(thuc1_aligns_rslts)\n",
    "# thuc2_aligns = read_alignments(thuc2_aligns_rslts)"
   ]
  },
  {
   "cell_type": "code",
   "execution_count": null,
   "id": "ca741066-da9f-4679-870c-9968acbcd0b6",
   "metadata": {},
   "outputs": [],
   "source": [
    "# # top level: filename would be \"urn:cts:greekLit:tlg0003.tlg001.json\"\n",
    "# thucydides = {}\n",
    "\n",
    "# # dict for thuc1 translation\n",
    "# thucydides_1_1852 = {}"
   ]
  },
  {
   "cell_type": "code",
   "execution_count": null,
   "id": "a04d32cd-c862-4d69-908b-3bf77367a97c",
   "metadata": {},
   "outputs": [],
   "source": [
    "# thucydides_1_1852[\"aligns_idx\"] = build__src_2_tgt_dict(thuc1_aligns)"
   ]
  },
  {
   "cell_type": "code",
   "execution_count": null,
   "id": "dcdd4e62-d2a5-4d03-84ba-64c8b0ccdfd5",
   "metadata": {},
   "outputs": [],
   "source": [
    "# thucydides_1_1852[\"aligns_idx\"][0]"
   ]
  },
  {
   "cell_type": "code",
   "execution_count": null,
   "id": "78f33e14-d127-42f7-9bf6-0240a02b8240",
   "metadata": {},
   "outputs": [],
   "source": [
    "# thucydides[\"thucydides_1_1852\"] = thucydides_1_1852"
   ]
  },
  {
   "cell_type": "code",
   "execution_count": null,
   "id": "0eee6b68-f4d2-4a6e-9dd3-fc7440eb55d1",
   "metadata": {},
   "outputs": [],
   "source": [
    "# thucydides_sents = load_txt_as_lst(\"/home/craig.car/repos/chiron/chironata/data/src_data/urn:cts:greekLit:tlg0003.tlg001.sents\")\n",
    "# thuc1_sents = load_txt_as_lst(\"/home/craig.car/repos/chiron/chironata/data/french_trans-dev/thucydides_1_1852.sents\")"
   ]
  },
  {
   "cell_type": "code",
   "execution_count": null,
   "id": "1ab0ea88-0629-4d03-87c9-a7cf5053b0d9",
   "metadata": {},
   "outputs": [],
   "source": [
    "# # sending to file added newlines to end of each line - strip\n",
    "# thucydides_sents = [sent.rstrip(\"\\n\") for sent in thucydides_sents]\n",
    "# thuc1_sents = [sent.rstrip(\"\\n\") for sent in thuc1_sents]"
   ]
  },
  {
   "cell_type": "code",
   "execution_count": null,
   "id": "f2e38f50-297d-42a4-b672-17ee51ea5779",
   "metadata": {},
   "outputs": [],
   "source": [
    "# src_txt_keys = [num for num in range(len(thucydides_sents))]\n",
    "# src_txt = dict(zip(src_txt_keys, thucydides_sents))"
   ]
  },
  {
   "cell_type": "code",
   "execution_count": null,
   "id": "962d2ba0-51d2-4b71-bfcd-90ecb50ac916",
   "metadata": {},
   "outputs": [],
   "source": [
    "# tgt_txt_keys = [num for num in range(len(thuc1_sents))]\n",
    "# print(len(tgt_txt_keys))\n",
    "# tgt_txt = dict(zip(tgt_txt_keys, thuc1_sents))\n",
    "# print(len(thuc1_sents))"
   ]
  },
  {
   "cell_type": "code",
   "execution_count": null,
   "id": "36e55fd7-aaa3-43d1-919e-0aa6877c4780",
   "metadata": {
    "tags": []
   },
   "outputs": [],
   "source": [
    "# thucydides[\"src_text\"] = src_txt\n",
    "# thucydides[\"thucydides_1_1852\"][\"tgt_text\"] = tgt_txt"
   ]
  },
  {
   "cell_type": "markdown",
   "id": "b90aa41f-17c7-43cc-bd3e-0ba35fe60161",
   "metadata": {
    "jp-MarkdownHeadingCollapsed": true,
    "tags": []
   },
   "source": [
    "# Build from functions"
   ]
  },
  {
   "cell_type": "code",
   "execution_count": null,
   "id": "d3f41505-1092-4480-a440-e649a21cbb99",
   "metadata": {},
   "outputs": [],
   "source": [
    "# build from functions\n",
    "thuc1_aligns_rslts = \"/home/craig.car/repos/chiron/chironata/data/alignments_rslts/urn:cts:greekLit:tlg0003.tlg001_thucydides_1_1852.rslts\"\n",
    "thuc_sents_path = \"/home/craig.car/repos/chiron/chironata/data/src_data/urn:cts:greekLit:tlg0003.tlg001.sents\"\n",
    "thucydides = initialize_text_dict(thuc_sents_path)\n",
    "thuc1_sents_path = \"/home/craig.car/repos/chiron/chironata/data/french_trans-dev/thucydides_1_1852.sents\"\n",
    "thucydides[\"thucydides_1_1852\"] = build_translation_dict(thuc1_aligns_rslts, thuc1_sents_path)"
   ]
  },
  {
   "cell_type": "code",
   "execution_count": null,
   "id": "cbd39f79-5bb1-4486-9545-72b215249c75",
   "metadata": {},
   "outputs": [],
   "source": [
    "thucydides.keys()"
   ]
  },
  {
   "cell_type": "code",
   "execution_count": null,
   "id": "0f473469-cc9f-44aa-8fb6-3238ffa05255",
   "metadata": {},
   "outputs": [],
   "source": [
    "thucydides['thucydides_1_1852'].keys()"
   ]
  },
  {
   "cell_type": "code",
   "execution_count": null,
   "id": "258c5e3b-7fe0-4a02-af39-3c0826d8d5d8",
   "metadata": {},
   "outputs": [],
   "source": [
    "# add another translation to test\n",
    "thuc2_aligns_rslts = \"/home/craig.car/repos/chiron/chironata/data/alignments_rslts/urn:cts:greekLit:tlg0003.tlg001_thucydides_1863.rslts\"\n",
    "thuc2_sents_path = \"/home/craig.car/repos/chiron/chironata/data/french_trans-dev/thucydides_1863.sents\"\n",
    "thucydides[\"thucydides_1863\"] = build_translation_dict(thuc2_aligns_rslts, thuc2_sents_path)"
   ]
  },
  {
   "cell_type": "code",
   "execution_count": null,
   "id": "4c454910-0a54-403f-abd1-0a1c17f2d1ab",
   "metadata": {},
   "outputs": [],
   "source": [
    "thucydides.keys()"
   ]
  },
  {
   "cell_type": "code",
   "execution_count": null,
   "id": "961114b2-6f35-4ba4-be2c-f0aae410fd94",
   "metadata": {},
   "outputs": [],
   "source": [
    "thucydides[\"thucydides_1863\"].keys()"
   ]
  },
  {
   "cell_type": "code",
   "execution_count": null,
   "id": "304d17b3-6043-4758-b9a6-4b82c9a78a3a",
   "metadata": {},
   "outputs": [],
   "source": [
    "len(thucydides[\"thucydides_1863\"]['aligns_idx'].keys())"
   ]
  },
  {
   "cell_type": "code",
   "execution_count": null,
   "id": "01d7c2b9-fc48-4eb9-b8e2-48be5328acf5",
   "metadata": {},
   "outputs": [],
   "source": [
    "len(thucydides[\"thucydides_1863\"]['tgt_text'].keys())"
   ]
  },
  {
   "cell_type": "code",
   "execution_count": null,
   "id": "49858f39-1f09-48be-9096-4ca26210ecc3",
   "metadata": {},
   "outputs": [],
   "source": [
    "# last value is empty. also in src2tgt dict. but doesn't seem to cause errors?\n",
    "print(thucydides[\"thucydides_1863\"]['aligns_idx'][4418])\n",
    "print(thucydides[\"thucydides_1863\"]['aligns_idx'][4419])"
   ]
  },
  {
   "cell_type": "code",
   "execution_count": null,
   "id": "d15ac9d3-760b-411e-97a4-12a50ce2e9b5",
   "metadata": {},
   "outputs": [],
   "source": [
    "thucydides[\"src_text\"][4418]"
   ]
  },
  {
   "cell_type": "code",
   "execution_count": null,
   "id": "836fcc60-1a96-43f6-ac8c-fe01b34d0301",
   "metadata": {},
   "outputs": [],
   "source": [
    "test = load_txt_as_lst(thuc2_aligns_rslts)"
   ]
  },
  {
   "cell_type": "code",
   "execution_count": null,
   "id": "9df65128-fab5-49a1-9d17-7d2674c714ca",
   "metadata": {},
   "outputs": [],
   "source": [
    "test[-1]"
   ]
  },
  {
   "cell_type": "code",
   "execution_count": null,
   "id": "21eb7bf0-f493-473a-9104-08519db7d0d0",
   "metadata": {},
   "outputs": [],
   "source": [
    "print(len(test))"
   ]
  },
  {
   "cell_type": "markdown",
   "id": "72c405e1-fec4-4624-ad72-9d0c4a07a114",
   "metadata": {},
   "source": [
    "# Build for all src texts"
   ]
  },
  {
   "cell_type": "code",
   "execution_count": 3,
   "id": "e13cdbc7-6c4e-418f-b979-f5c42aa2ef1b",
   "metadata": {},
   "outputs": [],
   "source": [
    "# load lookup table\n",
    "lookup_path = \"/home/craig.car/repos/chiron/chironata/data/cts_lookup_table.json\"\n",
    "with open(lookup_path) as f:\n",
    "    lookup = json.load(f)\n",
    "\n",
    "# get dir names\n",
    "align_rslts_dir = \"/home/craig.car/repos/chiron/chironata/data/alignments_rslts/\"\n",
    "src_data_dir = \"/home/craig.car/repos/chiron/chironata/data/src_data/\"\n",
    "fr_dir = \"/home/craig.car/repos/chiron/chironata/data/french_trans-dev/\"\n",
    "de_dir = \"/home/craig.car/repos/chiron/chironata/data/german_trans-dev/\"\n",
    "it_dir = \"/home/craig.car/repos/chiron/chironata/data/italian_trans-dev/\"\n",
    "en_dir = \"/home/craig.car/repos/chiron/chironata/data/english_trans-dev/\"\n",
    "pathout = \"/home/craig.car/repos/chiron/chironata/sentence_aligned_texts/\""
   ]
  },
  {
   "cell_type": "code",
   "execution_count": 4,
   "id": "e17c31f1-cfd6-4f9b-a533-349ad6a1125c",
   "metadata": {},
   "outputs": [
    {
     "data": {
      "text/plain": [
       "['aristophanes_1873',\n",
       " 'aristophanes_1881_1',\n",
       " 'aristophanes_1_1915',\n",
       " 'aristophanes_2_1915',\n",
       " 'aristophanes_1907_1',\n",
       " 'tlg0019.tlg004.ogl-eng2.xml',\n",
       " 'aristophanes_1_1830',\n",
       " 'aristophanes_1_1858',\n",
       " 'aristophanes_3_1830']"
      ]
     },
     "execution_count": 4,
     "metadata": {},
     "output_type": "execute_result"
    }
   ],
   "source": [
    "lookup[\"urn:cts:greekLit:tlg0019.tlg004\"]"
   ]
  },
  {
   "cell_type": "code",
   "execution_count": 7,
   "id": "8073bfeb-2aca-4d38-ad3c-af1e25ae79f7",
   "metadata": {
    "tags": []
   },
   "outputs": [
    {
     "name": "stdout",
     "output_type": "stream",
     "text": [
      "working on urn:cts:greekLit:tlg0099.tlg001\n",
      "['strabo_1858', 'strabo_4_1890', 'strabo_1856']\n",
      "working on urn:cts:greekLit:tlg0554.tlg001\n",
      "['chariton_1764', 'chariton_1913']\n"
     ]
    }
   ],
   "source": [
    "# path_tofix = \"/home/craig.car/repos/chiron/chironata/data/src_data/urn:cts:greekLit:tlg0554.tlg001.sents\"\n",
    "# for src_sents_path in glob.iglob(path_tofix):\n",
    "for src_sents_path in glob.iglob(src_data_dir+\"*.sents\"):   #### uncomment to run on whole directory\n",
    "    # get cts urn\n",
    "    ctsurn = os.path.splitext(os.path.basename(src_sents_path))[0]\n",
    "    path_out = pathout+ctsurn+\".json\"\n",
    "    if os.path.isfile(path_out) == False: ### uncomment to run only on missing files, and indent code below\n",
    "        print(f\"working on {ctsurn}\")\n",
    "        # initialize dict; will use cts as filename when write to json file\n",
    "        text_dict = initialize_text_dict(src_sents_path)\n",
    "        # get translations using lookup table\n",
    "        translations = lookup[ctsurn]\n",
    "        print(translations)\n",
    "        for translation in translations:\n",
    "            if translation.endswith(\".xml\"):\n",
    "                translation = translation.split(\".xml\")[0]\n",
    "            # get alignment results\n",
    "            align_rslt_filename = align_rslts_dir+ctsurn+\"_\"+translation+\".rslts\"\n",
    "            transl_sents_filename = translation+\".sents\"\n",
    "            if os.path.isfile(align_rslt_filename):\n",
    "                # get tgt sents and lang\n",
    "                if os.path.isfile(de_dir+transl_sents_filename):\n",
    "                    tranls_sents_path = de_dir+transl_sents_filename\n",
    "                    trans_lang = \"de\"\n",
    "                elif os.path.isfile(en_dir+transl_sents_filename):\n",
    "                    tranls_sents_path = en_dir+transl_sents_filename\n",
    "                    trans_lang = \"en\"\n",
    "                elif os.path.isfile(it_dir+transl_sents_filename):\n",
    "                    tranls_sents_path = it_dir+transl_sents_filename\n",
    "                    trans_lang = \"it\"\n",
    "                elif os.path.isfile(fr_dir+transl_sents_filename):\n",
    "                    tranls_sents_path = fr_dir+transl_sents_filename\n",
    "                    trans_lang = \"fr\"\n",
    "                transl_dict = build_translation_dict(align_rslt_filename, tranls_sents_path, trans_lang)\n",
    "                text_dict[translation] = transl_dict\n",
    "            # write to json\n",
    "            with open(path_out, 'w') as fp:\n",
    "                json.dump(text_dict, fp, ensure_ascii=False)"
   ]
  },
  {
   "cell_type": "code",
   "execution_count": 16,
   "id": "214bdfd4-e6fe-4c3e-896e-5019ae5e7986",
   "metadata": {},
   "outputs": [
    {
     "data": {
      "text/plain": [
       "dict_keys(['src_text', 'aristophanes_1_1858', 'aristophanes_1_1915', 'aristophanes_2_1915', 'aristophanes_3_1830', 'aristophanes_1881_1', 'aristophanes_1_1830', 'aristophanes_1873', 'tlg0019.tlg004.ogl-eng2', 'aristophanes_1907_1'])"
      ]
     },
     "execution_count": 16,
     "metadata": {},
     "output_type": "execute_result"
    }
   ],
   "source": [
    "text_dict.keys()"
   ]
  },
  {
   "cell_type": "code",
   "execution_count": 20,
   "id": "133c3450-676b-474a-9fe5-b26302f43b12",
   "metadata": {
    "tags": []
   },
   "outputs": [
    {
     "data": {
      "text/plain": [
       "10625"
      ]
     },
     "execution_count": 20,
     "metadata": {},
     "output_type": "execute_result"
    }
   ],
   "source": [
    "len(text_dict['aristophanes_1_1858']['tgt2src_aligns'].keys())"
   ]
  },
  {
   "cell_type": "code",
   "execution_count": 21,
   "id": "b8f95b81-c6de-4a25-a50e-1c37ad924abe",
   "metadata": {},
   "outputs": [
    {
     "data": {
      "text/plain": [
       "10625"
      ]
     },
     "execution_count": 21,
     "metadata": {},
     "output_type": "execute_result"
    }
   ],
   "source": [
    "len(text_dict['aristophanes_1_1858']['tgt_text'].keys())"
   ]
  },
  {
   "cell_type": "markdown",
   "id": "300693b1-9630-41a8-9c3f-36d68787392b",
   "metadata": {},
   "source": [
    "# Build for individual concatenated src text runs"
   ]
  },
  {
   "cell_type": "code",
   "execution_count": 19,
   "id": "5cdaa01f-c042-4c33-98ff-6a17be4fde0f",
   "metadata": {},
   "outputs": [],
   "source": [
    "def build_data_dict_concatenated(src_sents_path, path_out, align_rslts_path,\n",
    "                                 tgt_sents_path, transl_lang):\n",
    "    # initialize dict; will use cts as filename when write to json file\n",
    "    text_dict = initialize_text_dict(src_sents_path)    \n",
    "    transl_dict = build_translation_dict(align_rslts_path, tgt_sents_path, transl_lang)\n",
    "    text_dict[\"plautus_1862_1\"] = transl_dict\n",
    "    # write to json\n",
    "    with open(path_out, 'w') as fp:\n",
    "        json.dump(text_dict, fp, ensure_ascii=False)"
   ]
  },
  {
   "cell_type": "code",
   "execution_count": 18,
   "id": "4470a38b-0761-4540-82f2-1634e0d0e181",
   "metadata": {},
   "outputs": [],
   "source": [
    "# build for plautus concatenated vol1 (tgt: plautus_1862_1)\n",
    "build_data_dict_concatenated(\n",
    "    \"/home/craig.car/repos/chiron/chironata/data/concatenated_src_data/src_plautus_vol1.sents\",\n",
    "    \"/home/craig.car/repos/chiron/chironata/data/concatenated_src_data/datadict.json\",\n",
    "    \"/home/craig.car/repos/chiron/chironata/data/concatenated_src_data/src_plautus_vol1.rslts\",\n",
    "    \"/home/craig.car/repos/chiron/chironata/data/german_trans-dev/plautus_1862_1.sents\",\n",
    "    \"de\")"
   ]
  },
  {
   "cell_type": "code",
   "execution_count": null,
   "id": "531ed97f-c551-4ad9-9310-5b65f6fee5a7",
   "metadata": {},
   "outputs": [],
   "source": []
  }
 ],
 "metadata": {
  "kernelspec": {
   "display_name": "Python 3 (ipykernel)",
   "language": "python",
   "name": "python3"
  },
  "language_info": {
   "codemirror_mode": {
    "name": "ipython",
    "version": 3
   },
   "file_extension": ".py",
   "mimetype": "text/x-python",
   "name": "python",
   "nbconvert_exporter": "python",
   "pygments_lexer": "ipython3",
   "version": "3.7.13"
  }
 },
 "nbformat": 4,
 "nbformat_minor": 5
}
