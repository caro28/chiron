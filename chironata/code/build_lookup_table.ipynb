{
 "cells": [
  {
   "cell_type": "code",
   "execution_count": 1,
   "id": "055e59cf-fdd7-42a6-88e1-cf6d508ffddb",
   "metadata": {},
   "outputs": [],
   "source": [
    "import glob, os, json\n",
    "import subprocess\n",
    "import pandas as pd\n",
    "import shutil"
   ]
  },
  {
   "cell_type": "markdown",
   "id": "f000f10a-4d61-4002-a8d5-c3bf2250c233",
   "metadata": {
    "tags": []
   },
   "source": [
    "# Build lookup table"
   ]
  },
  {
   "cell_type": "code",
   "execution_count": 31,
   "id": "92fe0602-8518-468e-9038-2fc3c674a3fa",
   "metadata": {},
   "outputs": [],
   "source": [
    "transl_path = \"/home/craig.car/repos/chiron/align_texts_project/data/translations_repositories.csv\""
   ]
  },
  {
   "cell_type": "code",
   "execution_count": 32,
   "id": "17b70323-cce9-49ad-9867-b34140dd9569",
   "metadata": {},
   "outputs": [],
   "source": [
    "transl_df = pd.read_csv(transl_path)\n",
    "transl_df = transl_df.rename(columns={\"CTS-URN/s\":\"cts-urns_grp\", \"Original File Name/Location\":\"Original_File_Name\", \n",
    "                                      \"Addiional File location/locations\":\"Additional_File_locations\", \"Translation Language\":\"translation_language\",\n",
    "                                     \"New File Name/s\":\"New_File_Name\"})"
   ]
  },
  {
   "cell_type": "code",
   "execution_count": 33,
   "id": "70c02a12-9b49-4559-9a6e-e56f49babd85",
   "metadata": {},
   "outputs": [
    {
     "data": {
      "text/html": [
       "<div>\n",
       "<style scoped>\n",
       "    .dataframe tbody tr th:only-of-type {\n",
       "        vertical-align: middle;\n",
       "    }\n",
       "\n",
       "    .dataframe tbody tr th {\n",
       "        vertical-align: top;\n",
       "    }\n",
       "\n",
       "    .dataframe thead th {\n",
       "        text-align: right;\n",
       "    }\n",
       "</style>\n",
       "<table border=\"1\" class=\"dataframe\">\n",
       "  <thead>\n",
       "    <tr style=\"text-align: right;\">\n",
       "      <th></th>\n",
       "      <th>Author Name</th>\n",
       "      <th>WORK IDs</th>\n",
       "      <th>cts-urns_grp</th>\n",
       "      <th># of translations</th>\n",
       "      <th>Edition Title</th>\n",
       "      <th>Editor; Translator</th>\n",
       "      <th>Publisher</th>\n",
       "      <th>Date</th>\n",
       "      <th>Original_File_Name</th>\n",
       "      <th>Additional_File_locations</th>\n",
       "      <th>Source Edition LInk</th>\n",
       "      <th>translation_language</th>\n",
       "      <th>Worldcat Link</th>\n",
       "      <th>Work/s Split Up/Renamed in Branch</th>\n",
       "      <th>New_File_Name</th>\n",
       "      <th>Notes</th>\n",
       "      <th>TOC</th>\n",
       "      <th>Additional TOC</th>\n",
       "    </tr>\n",
       "  </thead>\n",
       "  <tbody>\n",
       "    <tr>\n",
       "      <th>31</th>\n",
       "      <td>Aristophanes</td>\n",
       "      <td>0019.001 0019.002 0019.003 0019.004 0019.005 0...</td>\n",
       "      <td>urn:cts:greekLit:tlg0019.tlg001.ogl-eng1 urn:c...</td>\n",
       "      <td>11.0</td>\n",
       "      <td>The Comedies of Aristophanes, Vol 1: Archarnia...</td>\n",
       "      <td>Hickie, William James</td>\n",
       "      <td>Bohn</td>\n",
       "      <td>1858</td>\n",
       "      <td>aristophanes_1_1858.xml</td>\n",
       "      <td>aristophanes_1907_1.xml</td>\n",
       "      <td>https://archive.org/details/cu31924087931675 (...</td>\n",
       "      <td>English</td>\n",
       "      <td>NaN</td>\n",
       "      <td>no</td>\n",
       "      <td>NaN</td>\n",
       "      <td>Second file misname, it is volume 2 of this ed...</td>\n",
       "      <td>NaN</td>\n",
       "      <td>NaN</td>\n",
       "    </tr>\n",
       "    <tr>\n",
       "      <th>32</th>\n",
       "      <td>Aristophanes</td>\n",
       "      <td>NaN</td>\n",
       "      <td>NaN</td>\n",
       "      <td>5.0</td>\n",
       "      <td>The Comedies of Aristophanes, Vol 2 (DUPLICATE)</td>\n",
       "      <td>Hickie, William James</td>\n",
       "      <td>Bohn</td>\n",
       "      <td>1853</td>\n",
       "      <td>aristophanes_2_1853.xml</td>\n",
       "      <td>NaN</td>\n",
       "      <td>https://archive.org/details/cu31924087931683</td>\n",
       "      <td>English</td>\n",
       "      <td>NaN</td>\n",
       "      <td>no</td>\n",
       "      <td>NaN</td>\n",
       "      <td>NaN</td>\n",
       "      <td>NaN</td>\n",
       "      <td>NaN</td>\n",
       "    </tr>\n",
       "    <tr>\n",
       "      <th>41</th>\n",
       "      <td>Aristophanes; Plautus</td>\n",
       "      <td>0019.011, 119.10</td>\n",
       "      <td>urn:cts:greekLit:tlg0019.tlg011.ogl-eng3 urn:c...</td>\n",
       "      <td>2.0</td>\n",
       "      <td>The Comedies of Aristophanes, Vol 6:  The Plut...</td>\n",
       "      <td>Hickie, William James</td>\n",
       "      <td>Bell</td>\n",
       "      <td>1907</td>\n",
       "      <td>aristophanes_1907_2.xml</td>\n",
       "      <td>NaN</td>\n",
       "      <td>https://archive.org/details/ComediesOfAristoph...</td>\n",
       "      <td>English</td>\n",
       "      <td>NaN</td>\n",
       "      <td>no</td>\n",
       "      <td>NaN</td>\n",
       "      <td>Work contains a stealth translation of a work ...</td>\n",
       "      <td>NaN</td>\n",
       "      <td>NaN</td>\n",
       "    </tr>\n",
       "  </tbody>\n",
       "</table>\n",
       "</div>"
      ],
      "text/plain": [
       "              Author Name                                           WORK IDs  \\\n",
       "31           Aristophanes  0019.001 0019.002 0019.003 0019.004 0019.005 0...   \n",
       "32           Aristophanes                                                NaN   \n",
       "41  Aristophanes; Plautus                                   0019.011, 119.10   \n",
       "\n",
       "                                         cts-urns_grp  # of translations  \\\n",
       "31  urn:cts:greekLit:tlg0019.tlg001.ogl-eng1 urn:c...               11.0   \n",
       "32                                                NaN                5.0   \n",
       "41  urn:cts:greekLit:tlg0019.tlg011.ogl-eng3 urn:c...                2.0   \n",
       "\n",
       "                                        Edition Title     Editor; Translator  \\\n",
       "31  The Comedies of Aristophanes, Vol 1: Archarnia...  Hickie, William James   \n",
       "32    The Comedies of Aristophanes, Vol 2 (DUPLICATE)  Hickie, William James   \n",
       "41  The Comedies of Aristophanes, Vol 6:  The Plut...  Hickie, William James   \n",
       "\n",
       "   Publisher  Date       Original_File_Name Additional_File_locations  \\\n",
       "31      Bohn  1858  aristophanes_1_1858.xml   aristophanes_1907_1.xml   \n",
       "32      Bohn  1853  aristophanes_2_1853.xml                       NaN   \n",
       "41      Bell  1907  aristophanes_1907_2.xml                       NaN   \n",
       "\n",
       "                                  Source Edition LInk translation_language  \\\n",
       "31  https://archive.org/details/cu31924087931675 (...              English   \n",
       "32       https://archive.org/details/cu31924087931683              English   \n",
       "41  https://archive.org/details/ComediesOfAristoph...              English   \n",
       "\n",
       "   Worldcat Link Work/s Split Up/Renamed in Branch New_File_Name  \\\n",
       "31           NaN                                no           NaN   \n",
       "32           NaN                                no           NaN   \n",
       "41           NaN                                no           NaN   \n",
       "\n",
       "                                                Notes  TOC Additional TOC  \n",
       "31  Second file misname, it is volume 2 of this ed...  NaN            NaN  \n",
       "32                                                NaN  NaN            NaN  \n",
       "41  Work contains a stealth translation of a work ...  NaN            NaN  "
      ]
     },
     "execution_count": 33,
     "metadata": {},
     "output_type": "execute_result"
    }
   ],
   "source": [
    "transl_df.loc[transl_df[\"Editor; Translator\"] == \"Hickie, William James\"]"
   ]
  },
  {
   "cell_type": "code",
   "execution_count": 34,
   "id": "056e7ace-ca1b-4d8d-808f-f6e30c30b645",
   "metadata": {},
   "outputs": [
    {
     "data": {
      "text/plain": [
       "'urn:cts:greekLit:tlg0085.tlg001.ogl-eng1 urn:cts:greekLit:tlg0085.tlg002.ogl-eng1 urn:cts:greekLit:tlg0085.tlg003.ogl-eng1 urn:cts:greekLit:tlg0085.tlg004.ogl-eng1 urn:cts:greekLit:tlg0085.tlg005.ogl-eng1 urn:cts:greekLit:tlg0085.tlg006.ogl-eng1 urn:cts:greekLit:tlg0085.tlg007.ogl-eng1'"
      ]
     },
     "execution_count": 34,
     "metadata": {},
     "output_type": "execute_result"
    }
   ],
   "source": [
    "transl_df.loc[0,\"cts-urns_grp\"]"
   ]
  },
  {
   "cell_type": "code",
   "execution_count": 35,
   "id": "b5dd53a3-ce91-4fc3-81af-6e36085eb438",
   "metadata": {},
   "outputs": [
    {
     "data": {
      "text/plain": [
       "['urn:cts:greekLit:tlg0085.tlg001.ogl-eng1',\n",
       " 'urn:cts:greekLit:tlg0085.tlg002.ogl-eng1',\n",
       " 'urn:cts:greekLit:tlg0085.tlg003.ogl-eng1',\n",
       " 'urn:cts:greekLit:tlg0085.tlg004.ogl-eng1',\n",
       " 'urn:cts:greekLit:tlg0085.tlg005.ogl-eng1',\n",
       " 'urn:cts:greekLit:tlg0085.tlg006.ogl-eng1',\n",
       " 'urn:cts:greekLit:tlg0085.tlg007.ogl-eng1']"
      ]
     },
     "execution_count": 35,
     "metadata": {},
     "output_type": "execute_result"
    }
   ],
   "source": [
    "transl_df.loc[0,\"cts-urns_grp\"].split()"
   ]
  },
  {
   "cell_type": "code",
   "execution_count": 36,
   "id": "a5fa6c5a-7d66-4a07-81ea-8b7bf6b53418",
   "metadata": {},
   "outputs": [],
   "source": [
    "transl_df[\"cts-urns_uniques\"] = transl_df[\"cts-urns_grp\"].str.split()"
   ]
  },
  {
   "cell_type": "code",
   "execution_count": 37,
   "id": "4dbade60-8379-4efb-9ae9-d14e86073127",
   "metadata": {},
   "outputs": [],
   "source": [
    "transl_df = transl_df.explode(\"cts-urns_uniques\", ignore_index=True)"
   ]
  },
  {
   "cell_type": "code",
   "execution_count": 38,
   "id": "6bc47234-d3e0-4788-9ff3-55cec79916d3",
   "metadata": {},
   "outputs": [],
   "source": [
    "transl_df[\"ctsurns\"] = transl_df[\"cts-urns_uniques\"].str.rsplit(\".\",1).str[0]"
   ]
  },
  {
   "cell_type": "code",
   "execution_count": 39,
   "id": "b0c49c69-4679-49d5-b777-73479e36333f",
   "metadata": {},
   "outputs": [],
   "source": [
    "transl_df[\"filename1\"] = transl_df[\"Original_File_Name\"].str.split(\".\").str[0]"
   ]
  },
  {
   "cell_type": "code",
   "execution_count": 40,
   "id": "84506a8c-de58-411d-8476-d995f2398d22",
   "metadata": {},
   "outputs": [],
   "source": [
    "transl_df[\"filename2\"] = transl_df[\"Additional_File_locations\"].str.split(\".\").str[0]"
   ]
  },
  {
   "cell_type": "code",
   "execution_count": 41,
   "id": "9ec9ab4f-67c9-4220-b45a-a65587318c20",
   "metadata": {},
   "outputs": [
    {
     "data": {
      "text/plain": [
       "55    tlg0640.tlg001.ogl-eng1.xml\n",
       "Name: New_File_Name, dtype: object"
      ]
     },
     "execution_count": 41,
     "metadata": {},
     "output_type": "execute_result"
    }
   ],
   "source": [
    "transl_df.loc[transl_df[\"ctsurns\"]==\"urn:cts:greekLit:tlg0640.tlg001\",\"New_File_Name\"]"
   ]
  },
  {
   "cell_type": "code",
   "execution_count": 42,
   "id": "5078d5bb-6c8f-4279-b08a-c7aa6bce6ef1",
   "metadata": {},
   "outputs": [],
   "source": [
    "# don't split filenames in this col\n",
    "transl_df[\"filename3\"] = transl_df[\"New_File_Name\"]"
   ]
  },
  {
   "cell_type": "code",
   "execution_count": 43,
   "id": "9e10828d-978d-44be-9686-322d6a8f37e0",
   "metadata": {},
   "outputs": [
    {
     "data": {
      "text/html": [
       "<div>\n",
       "<style scoped>\n",
       "    .dataframe tbody tr th:only-of-type {\n",
       "        vertical-align: middle;\n",
       "    }\n",
       "\n",
       "    .dataframe tbody tr th {\n",
       "        vertical-align: top;\n",
       "    }\n",
       "\n",
       "    .dataframe thead th {\n",
       "        text-align: right;\n",
       "    }\n",
       "</style>\n",
       "<table border=\"1\" class=\"dataframe\">\n",
       "  <thead>\n",
       "    <tr style=\"text-align: right;\">\n",
       "      <th></th>\n",
       "      <th>Author Name</th>\n",
       "      <th>WORK IDs</th>\n",
       "      <th>cts-urns_grp</th>\n",
       "      <th># of translations</th>\n",
       "      <th>Edition Title</th>\n",
       "      <th>Editor; Translator</th>\n",
       "      <th>Publisher</th>\n",
       "      <th>Date</th>\n",
       "      <th>Original_File_Name</th>\n",
       "      <th>Additional_File_locations</th>\n",
       "      <th>...</th>\n",
       "      <th>Work/s Split Up/Renamed in Branch</th>\n",
       "      <th>New_File_Name</th>\n",
       "      <th>Notes</th>\n",
       "      <th>TOC</th>\n",
       "      <th>Additional TOC</th>\n",
       "      <th>cts-urns_uniques</th>\n",
       "      <th>ctsurns</th>\n",
       "      <th>filename1</th>\n",
       "      <th>filename2</th>\n",
       "      <th>filename3</th>\n",
       "    </tr>\n",
       "  </thead>\n",
       "  <tbody>\n",
       "    <tr>\n",
       "      <th>0</th>\n",
       "      <td>Aeschylus</td>\n",
       "      <td>0085.001 0085.002 0085.003 0085.004 0085.005 0...</td>\n",
       "      <td>urn:cts:greekLit:tlg0085.tlg001.ogl-eng1 urn:c...</td>\n",
       "      <td>7.0</td>\n",
       "      <td>The Dramas of Aeschylus</td>\n",
       "      <td>Swanwick, Anna, 1831-1899</td>\n",
       "      <td>Bell</td>\n",
       "      <td>1886</td>\n",
       "      <td>aeschylus_1886.xml</td>\n",
       "      <td>NaN</td>\n",
       "      <td>...</td>\n",
       "      <td>no</td>\n",
       "      <td>NaN</td>\n",
       "      <td>NaN</td>\n",
       "      <td>NaN</td>\n",
       "      <td>NaN</td>\n",
       "      <td>urn:cts:greekLit:tlg0085.tlg001.ogl-eng1</td>\n",
       "      <td>urn:cts:greekLit:tlg0085.tlg001</td>\n",
       "      <td>aeschylus_1886</td>\n",
       "      <td>NaN</td>\n",
       "      <td>NaN</td>\n",
       "    </tr>\n",
       "    <tr>\n",
       "      <th>1</th>\n",
       "      <td>Aeschylus</td>\n",
       "      <td>0085.001 0085.002 0085.003 0085.004 0085.005 0...</td>\n",
       "      <td>urn:cts:greekLit:tlg0085.tlg001.ogl-eng1 urn:c...</td>\n",
       "      <td>7.0</td>\n",
       "      <td>The Dramas of Aeschylus</td>\n",
       "      <td>Swanwick, Anna, 1831-1899</td>\n",
       "      <td>Bell</td>\n",
       "      <td>1886</td>\n",
       "      <td>aeschylus_1886.xml</td>\n",
       "      <td>NaN</td>\n",
       "      <td>...</td>\n",
       "      <td>no</td>\n",
       "      <td>NaN</td>\n",
       "      <td>NaN</td>\n",
       "      <td>NaN</td>\n",
       "      <td>NaN</td>\n",
       "      <td>urn:cts:greekLit:tlg0085.tlg002.ogl-eng1</td>\n",
       "      <td>urn:cts:greekLit:tlg0085.tlg002</td>\n",
       "      <td>aeschylus_1886</td>\n",
       "      <td>NaN</td>\n",
       "      <td>NaN</td>\n",
       "    </tr>\n",
       "    <tr>\n",
       "      <th>2</th>\n",
       "      <td>Aeschylus</td>\n",
       "      <td>0085.001 0085.002 0085.003 0085.004 0085.005 0...</td>\n",
       "      <td>urn:cts:greekLit:tlg0085.tlg001.ogl-eng1 urn:c...</td>\n",
       "      <td>7.0</td>\n",
       "      <td>The Dramas of Aeschylus</td>\n",
       "      <td>Swanwick, Anna, 1831-1899</td>\n",
       "      <td>Bell</td>\n",
       "      <td>1886</td>\n",
       "      <td>aeschylus_1886.xml</td>\n",
       "      <td>NaN</td>\n",
       "      <td>...</td>\n",
       "      <td>no</td>\n",
       "      <td>NaN</td>\n",
       "      <td>NaN</td>\n",
       "      <td>NaN</td>\n",
       "      <td>NaN</td>\n",
       "      <td>urn:cts:greekLit:tlg0085.tlg003.ogl-eng1</td>\n",
       "      <td>urn:cts:greekLit:tlg0085.tlg003</td>\n",
       "      <td>aeschylus_1886</td>\n",
       "      <td>NaN</td>\n",
       "      <td>NaN</td>\n",
       "    </tr>\n",
       "    <tr>\n",
       "      <th>3</th>\n",
       "      <td>Aeschylus</td>\n",
       "      <td>0085.001 0085.002 0085.003 0085.004 0085.005 0...</td>\n",
       "      <td>urn:cts:greekLit:tlg0085.tlg001.ogl-eng1 urn:c...</td>\n",
       "      <td>7.0</td>\n",
       "      <td>The Dramas of Aeschylus</td>\n",
       "      <td>Swanwick, Anna, 1831-1899</td>\n",
       "      <td>Bell</td>\n",
       "      <td>1886</td>\n",
       "      <td>aeschylus_1886.xml</td>\n",
       "      <td>NaN</td>\n",
       "      <td>...</td>\n",
       "      <td>no</td>\n",
       "      <td>NaN</td>\n",
       "      <td>NaN</td>\n",
       "      <td>NaN</td>\n",
       "      <td>NaN</td>\n",
       "      <td>urn:cts:greekLit:tlg0085.tlg004.ogl-eng1</td>\n",
       "      <td>urn:cts:greekLit:tlg0085.tlg004</td>\n",
       "      <td>aeschylus_1886</td>\n",
       "      <td>NaN</td>\n",
       "      <td>NaN</td>\n",
       "    </tr>\n",
       "    <tr>\n",
       "      <th>4</th>\n",
       "      <td>Aeschylus</td>\n",
       "      <td>0085.001 0085.002 0085.003 0085.004 0085.005 0...</td>\n",
       "      <td>urn:cts:greekLit:tlg0085.tlg001.ogl-eng1 urn:c...</td>\n",
       "      <td>7.0</td>\n",
       "      <td>The Dramas of Aeschylus</td>\n",
       "      <td>Swanwick, Anna, 1831-1899</td>\n",
       "      <td>Bell</td>\n",
       "      <td>1886</td>\n",
       "      <td>aeschylus_1886.xml</td>\n",
       "      <td>NaN</td>\n",
       "      <td>...</td>\n",
       "      <td>no</td>\n",
       "      <td>NaN</td>\n",
       "      <td>NaN</td>\n",
       "      <td>NaN</td>\n",
       "      <td>NaN</td>\n",
       "      <td>urn:cts:greekLit:tlg0085.tlg005.ogl-eng1</td>\n",
       "      <td>urn:cts:greekLit:tlg0085.tlg005</td>\n",
       "      <td>aeschylus_1886</td>\n",
       "      <td>NaN</td>\n",
       "      <td>NaN</td>\n",
       "    </tr>\n",
       "  </tbody>\n",
       "</table>\n",
       "<p>5 rows × 23 columns</p>\n",
       "</div>"
      ],
      "text/plain": [
       "  Author Name                                           WORK IDs  \\\n",
       "0   Aeschylus  0085.001 0085.002 0085.003 0085.004 0085.005 0...   \n",
       "1   Aeschylus  0085.001 0085.002 0085.003 0085.004 0085.005 0...   \n",
       "2   Aeschylus  0085.001 0085.002 0085.003 0085.004 0085.005 0...   \n",
       "3   Aeschylus  0085.001 0085.002 0085.003 0085.004 0085.005 0...   \n",
       "4   Aeschylus  0085.001 0085.002 0085.003 0085.004 0085.005 0...   \n",
       "\n",
       "                                        cts-urns_grp  # of translations  \\\n",
       "0  urn:cts:greekLit:tlg0085.tlg001.ogl-eng1 urn:c...                7.0   \n",
       "1  urn:cts:greekLit:tlg0085.tlg001.ogl-eng1 urn:c...                7.0   \n",
       "2  urn:cts:greekLit:tlg0085.tlg001.ogl-eng1 urn:c...                7.0   \n",
       "3  urn:cts:greekLit:tlg0085.tlg001.ogl-eng1 urn:c...                7.0   \n",
       "4  urn:cts:greekLit:tlg0085.tlg001.ogl-eng1 urn:c...                7.0   \n",
       "\n",
       "             Edition Title         Editor; Translator Publisher  Date  \\\n",
       "0  The Dramas of Aeschylus  Swanwick, Anna, 1831-1899      Bell  1886   \n",
       "1  The Dramas of Aeschylus  Swanwick, Anna, 1831-1899      Bell  1886   \n",
       "2  The Dramas of Aeschylus  Swanwick, Anna, 1831-1899      Bell  1886   \n",
       "3  The Dramas of Aeschylus  Swanwick, Anna, 1831-1899      Bell  1886   \n",
       "4  The Dramas of Aeschylus  Swanwick, Anna, 1831-1899      Bell  1886   \n",
       "\n",
       "   Original_File_Name Additional_File_locations  ...  \\\n",
       "0  aeschylus_1886.xml                       NaN  ...   \n",
       "1  aeschylus_1886.xml                       NaN  ...   \n",
       "2  aeschylus_1886.xml                       NaN  ...   \n",
       "3  aeschylus_1886.xml                       NaN  ...   \n",
       "4  aeschylus_1886.xml                       NaN  ...   \n",
       "\n",
       "  Work/s Split Up/Renamed in Branch New_File_Name Notes  TOC Additional TOC  \\\n",
       "0                                no           NaN   NaN  NaN            NaN   \n",
       "1                                no           NaN   NaN  NaN            NaN   \n",
       "2                                no           NaN   NaN  NaN            NaN   \n",
       "3                                no           NaN   NaN  NaN            NaN   \n",
       "4                                no           NaN   NaN  NaN            NaN   \n",
       "\n",
       "                           cts-urns_uniques                          ctsurns  \\\n",
       "0  urn:cts:greekLit:tlg0085.tlg001.ogl-eng1  urn:cts:greekLit:tlg0085.tlg001   \n",
       "1  urn:cts:greekLit:tlg0085.tlg002.ogl-eng1  urn:cts:greekLit:tlg0085.tlg002   \n",
       "2  urn:cts:greekLit:tlg0085.tlg003.ogl-eng1  urn:cts:greekLit:tlg0085.tlg003   \n",
       "3  urn:cts:greekLit:tlg0085.tlg004.ogl-eng1  urn:cts:greekLit:tlg0085.tlg004   \n",
       "4  urn:cts:greekLit:tlg0085.tlg005.ogl-eng1  urn:cts:greekLit:tlg0085.tlg005   \n",
       "\n",
       "        filename1 filename2 filename3  \n",
       "0  aeschylus_1886       NaN       NaN  \n",
       "1  aeschylus_1886       NaN       NaN  \n",
       "2  aeschylus_1886       NaN       NaN  \n",
       "3  aeschylus_1886       NaN       NaN  \n",
       "4  aeschylus_1886       NaN       NaN  \n",
       "\n",
       "[5 rows x 23 columns]"
      ]
     },
     "execution_count": 43,
     "metadata": {},
     "output_type": "execute_result"
    }
   ],
   "source": [
    "transl_df.head()"
   ]
  },
  {
   "cell_type": "code",
   "execution_count": 44,
   "id": "597bfae3-0736-4a7d-b233-14bebedfb862",
   "metadata": {},
   "outputs": [
    {
     "data": {
      "text/plain": [
       "Author Name                            25\n",
       "WORK IDs                               15\n",
       "cts-urns_grp                           19\n",
       "# of translations                       5\n",
       "Edition Title                           0\n",
       "Editor; Translator                      1\n",
       "Publisher                               2\n",
       "Date                                    4\n",
       "Original_File_Name                     12\n",
       "Additional_File_locations            1074\n",
       "Source Edition LInk                    14\n",
       "translation_language                   22\n",
       "Worldcat Link                        1292\n",
       "Work/s Split Up/Renamed in Branch    1532\n",
       "New_File_Name                        1597\n",
       "Notes                                1239\n",
       "TOC                                  1252\n",
       "Additional TOC                       1547\n",
       "cts-urns_uniques                       19\n",
       "ctsurns                                19\n",
       "filename1                              12\n",
       "filename2                            1074\n",
       "filename3                            1597\n",
       "dtype: int64"
      ]
     },
     "execution_count": 44,
     "metadata": {},
     "output_type": "execute_result"
    }
   ],
   "source": [
    "transl_df.isna().sum()"
   ]
  },
  {
   "cell_type": "code",
   "execution_count": 45,
   "id": "e5409dcf-1c67-47d9-bf45-eeed1eed475b",
   "metadata": {},
   "outputs": [],
   "source": [
    "transl_df.fillna(\"\", inplace=True)"
   ]
  },
  {
   "cell_type": "code",
   "execution_count": 46,
   "id": "69dfd94b-8475-4beb-8c53-91cf839e89ee",
   "metadata": {},
   "outputs": [
    {
     "data": {
      "text/plain": [
       "796"
      ]
     },
     "execution_count": 46,
     "metadata": {},
     "output_type": "execute_result"
    }
   ],
   "source": [
    "transl_df[\"ctsurns\"].duplicated().sum()"
   ]
  },
  {
   "cell_type": "code",
   "execution_count": 47,
   "id": "15bcc478-f44d-49e2-be08-cbe51bd6169c",
   "metadata": {},
   "outputs": [
    {
     "data": {
      "text/plain": [
       "485    euripides_2_1884\n",
       "493                    \n",
       "494                    \n",
       "500                    \n",
       "Name: filename2, dtype: object"
      ]
     },
     "execution_count": 47,
     "metadata": {},
     "output_type": "execute_result"
    }
   ],
   "source": [
    "transl_df.loc[transl_df[\"ctsurns\"] == \"urn:cts:greekLit:tlg0006.tlg001\", \"filename2\"]"
   ]
  },
  {
   "cell_type": "code",
   "execution_count": 48,
   "id": "1dbfb423-770b-444d-be4a-a90f70ad4b08",
   "metadata": {},
   "outputs": [
    {
     "data": {
      "text/plain": [
       "485    euripides_2_1884\n",
       "493                    \n",
       "494                    \n",
       "500                    \n",
       "Name: filename2, dtype: object"
      ]
     },
     "execution_count": 48,
     "metadata": {},
     "output_type": "execute_result"
    }
   ],
   "source": [
    "transl_df.loc[transl_df[\"ctsurns\"] == \"urn:cts:greekLit:tlg0006.tlg001\", \"filename2\"]"
   ]
  },
  {
   "cell_type": "code",
   "execution_count": 49,
   "id": "5eaa67a1-d297-43b6-bf0f-72be1be8c3d3",
   "metadata": {},
   "outputs": [
    {
     "data": {
      "text/plain": [
       "0     \n",
       "7     \n",
       "14    \n",
       "24    \n",
       "34    \n",
       "Name: filename2, dtype: object"
      ]
     },
     "execution_count": 49,
     "metadata": {},
     "output_type": "execute_result"
    }
   ],
   "source": [
    "transl_df.loc[transl_df[\"ctsurns\"] == \"urn:cts:greekLit:tlg0085.tlg001\", \"filename2\"]"
   ]
  },
  {
   "cell_type": "code",
   "execution_count": 50,
   "id": "0d2bc113-5400-4b8d-80c3-8b9cecaf1d3e",
   "metadata": {},
   "outputs": [
    {
     "data": {
      "text/html": [
       "<div>\n",
       "<style scoped>\n",
       "    .dataframe tbody tr th:only-of-type {\n",
       "        vertical-align: middle;\n",
       "    }\n",
       "\n",
       "    .dataframe tbody tr th {\n",
       "        vertical-align: top;\n",
       "    }\n",
       "\n",
       "    .dataframe thead th {\n",
       "        text-align: right;\n",
       "    }\n",
       "</style>\n",
       "<table border=\"1\" class=\"dataframe\">\n",
       "  <thead>\n",
       "    <tr style=\"text-align: right;\">\n",
       "      <th></th>\n",
       "      <th>Author Name</th>\n",
       "      <th>WORK IDs</th>\n",
       "      <th>cts-urns_grp</th>\n",
       "      <th># of translations</th>\n",
       "      <th>Edition Title</th>\n",
       "      <th>Editor; Translator</th>\n",
       "      <th>Publisher</th>\n",
       "      <th>Date</th>\n",
       "      <th>Original_File_Name</th>\n",
       "      <th>Additional_File_locations</th>\n",
       "      <th>...</th>\n",
       "      <th>Work/s Split Up/Renamed in Branch</th>\n",
       "      <th>New_File_Name</th>\n",
       "      <th>Notes</th>\n",
       "      <th>TOC</th>\n",
       "      <th>Additional TOC</th>\n",
       "      <th>cts-urns_uniques</th>\n",
       "      <th>ctsurns</th>\n",
       "      <th>filename1</th>\n",
       "      <th>filename2</th>\n",
       "      <th>filename3</th>\n",
       "    </tr>\n",
       "  </thead>\n",
       "  <tbody>\n",
       "    <tr>\n",
       "      <th>485</th>\n",
       "      <td>Euripides</td>\n",
       "      <td>0006.007 0006.015 0006.003 0006.005 0006.002 0...</td>\n",
       "      <td>urn:cts:greekLit:tlg0006.tlg007.ogl-fre1 urn:c...</td>\n",
       "      <td>18.0</td>\n",
       "      <td>Euripide, Volumes 1-2. 1, Hékabé. Les Phoini...</td>\n",
       "      <td>Leconte de Lisle, Charles-Marie, 1818-1894\\r\\n...</td>\n",
       "      <td>Lemerre</td>\n",
       "      <td>1884</td>\n",
       "      <td>euripides_1_1884.xml</td>\n",
       "      <td>euripides_2_1884.xml</td>\n",
       "      <td>...</td>\n",
       "      <td></td>\n",
       "      <td></td>\n",
       "      <td></td>\n",
       "      <td></td>\n",
       "      <td></td>\n",
       "      <td>urn:cts:greekLit:tlg0006.tlg001.ogl-fre1</td>\n",
       "      <td>urn:cts:greekLit:tlg0006.tlg001</td>\n",
       "      <td>euripides_1_1884</td>\n",
       "      <td>euripides_2_1884</td>\n",
       "      <td></td>\n",
       "    </tr>\n",
       "    <tr>\n",
       "      <th>493</th>\n",
       "      <td>Euripides</td>\n",
       "      <td>0006.015 0006.001</td>\n",
       "      <td>urn:cts:greekLit:tlg0006.tlg015.ogl-ger1 urn:c...</td>\n",
       "      <td>2.0</td>\n",
       "      <td>Die Dramen des Euripides: Die Phönizierinnen (...</td>\n",
       "      <td>Minckwitz, Johannes, 1812-1885\\r\\n            ...</td>\n",
       "      <td>Hoffman</td>\n",
       "      <td>1857</td>\n",
       "      <td>euripides_1857_1</td>\n",
       "      <td></td>\n",
       "      <td>...</td>\n",
       "      <td></td>\n",
       "      <td></td>\n",
       "      <td>Line 6219-starts a second Volume bound in this...</td>\n",
       "      <td></td>\n",
       "      <td></td>\n",
       "      <td>urn:cts:greekLit:tlg0006.tlg001.ogl-ger1</td>\n",
       "      <td>urn:cts:greekLit:tlg0006.tlg001</td>\n",
       "      <td>euripides_1857_1</td>\n",
       "      <td></td>\n",
       "      <td></td>\n",
       "    </tr>\n",
       "    <tr>\n",
       "      <th>494</th>\n",
       "      <td>Euripides</td>\n",
       "      <td>0006.001 0006.002 0006.003  0006.011</td>\n",
       "      <td>urn:cts:greekLit:tlg0006.tlg001.ogl-ger2 urn:c...</td>\n",
       "      <td>4.0</td>\n",
       "      <td>Griechische Tragödien, Volume 3. Euripides: D...</td>\n",
       "      <td>Wilamowitz-Moellendorff, Ulrich von 1848-1931</td>\n",
       "      <td>Weidmann</td>\n",
       "      <td>1906</td>\n",
       "      <td>euripides_1906_3</td>\n",
       "      <td></td>\n",
       "      <td>...</td>\n",
       "      <td></td>\n",
       "      <td></td>\n",
       "      <td></td>\n",
       "      <td></td>\n",
       "      <td></td>\n",
       "      <td>urn:cts:greekLit:tlg0006.tlg001.ogl-ger2</td>\n",
       "      <td>urn:cts:greekLit:tlg0006.tlg001</td>\n",
       "      <td>euripides_1906_3</td>\n",
       "      <td></td>\n",
       "      <td></td>\n",
       "    </tr>\n",
       "    <tr>\n",
       "      <th>500</th>\n",
       "      <td>Euripides</td>\n",
       "      <td>0006.001</td>\n",
       "      <td>urn:cts:greekLit:tlg0006.tlg001.ogl-ita1</td>\n",
       "      <td>1.0</td>\n",
       "      <td>Il Ciclope</td>\n",
       "      <td>Romagnoli, Ettore, 1871-1938</td>\n",
       "      <td>Casa Editrice Italiana di A. Quattrin</td>\n",
       "      <td>1911</td>\n",
       "      <td>euripides_1911.xml</td>\n",
       "      <td></td>\n",
       "      <td>...</td>\n",
       "      <td></td>\n",
       "      <td></td>\n",
       "      <td></td>\n",
       "      <td></td>\n",
       "      <td></td>\n",
       "      <td>urn:cts:greekLit:tlg0006.tlg001.ogl-ita1</td>\n",
       "      <td>urn:cts:greekLit:tlg0006.tlg001</td>\n",
       "      <td>euripides_1911</td>\n",
       "      <td></td>\n",
       "      <td></td>\n",
       "    </tr>\n",
       "  </tbody>\n",
       "</table>\n",
       "<p>4 rows × 23 columns</p>\n",
       "</div>"
      ],
      "text/plain": [
       "    Author Name                                           WORK IDs  \\\n",
       "485   Euripides  0006.007 0006.015 0006.003 0006.005 0006.002 0...   \n",
       "493   Euripides                                  0006.015 0006.001   \n",
       "494   Euripides               0006.001 0006.002 0006.003  0006.011   \n",
       "500   Euripides                                           0006.001   \n",
       "\n",
       "                                          cts-urns_grp # of translations  \\\n",
       "485  urn:cts:greekLit:tlg0006.tlg007.ogl-fre1 urn:c...              18.0   \n",
       "493  urn:cts:greekLit:tlg0006.tlg015.ogl-ger1 urn:c...               2.0   \n",
       "494  urn:cts:greekLit:tlg0006.tlg001.ogl-ger2 urn:c...               4.0   \n",
       "500           urn:cts:greekLit:tlg0006.tlg001.ogl-ita1               1.0   \n",
       "\n",
       "                                         Edition Title  \\\n",
       "485  Euripide, Volumes 1-2. 1, Hékabé. Les Phoini...   \n",
       "493  Die Dramen des Euripides: Die Phönizierinnen (...   \n",
       "494  Griechische Tragödien, Volume 3. Euripides: D...   \n",
       "500                                         Il Ciclope   \n",
       "\n",
       "                                    Editor; Translator  \\\n",
       "485  Leconte de Lisle, Charles-Marie, 1818-1894\\r\\n...   \n",
       "493  Minckwitz, Johannes, 1812-1885\\r\\n            ...   \n",
       "494      Wilamowitz-Moellendorff, Ulrich von 1848-1931   \n",
       "500                       Romagnoli, Ettore, 1871-1938   \n",
       "\n",
       "                                 Publisher  Date    Original_File_Name  \\\n",
       "485                                Lemerre  1884  euripides_1_1884.xml   \n",
       "493                                Hoffman  1857      euripides_1857_1   \n",
       "494                               Weidmann  1906      euripides_1906_3   \n",
       "500  Casa Editrice Italiana di A. Quattrin  1911    euripides_1911.xml   \n",
       "\n",
       "    Additional_File_locations  ... Work/s Split Up/Renamed in Branch  \\\n",
       "485      euripides_2_1884.xml  ...                                     \n",
       "493                            ...                                     \n",
       "494                            ...                                     \n",
       "500                            ...                                     \n",
       "\n",
       "    New_File_Name                                              Notes TOC  \\\n",
       "485                                                                        \n",
       "493                Line 6219-starts a second Volume bound in this...       \n",
       "494                                                                        \n",
       "500                                                                        \n",
       "\n",
       "    Additional TOC                          cts-urns_uniques  \\\n",
       "485                 urn:cts:greekLit:tlg0006.tlg001.ogl-fre1   \n",
       "493                 urn:cts:greekLit:tlg0006.tlg001.ogl-ger1   \n",
       "494                 urn:cts:greekLit:tlg0006.tlg001.ogl-ger2   \n",
       "500                 urn:cts:greekLit:tlg0006.tlg001.ogl-ita1   \n",
       "\n",
       "                             ctsurns         filename1         filename2  \\\n",
       "485  urn:cts:greekLit:tlg0006.tlg001  euripides_1_1884  euripides_2_1884   \n",
       "493  urn:cts:greekLit:tlg0006.tlg001  euripides_1857_1                     \n",
       "494  urn:cts:greekLit:tlg0006.tlg001  euripides_1906_3                     \n",
       "500  urn:cts:greekLit:tlg0006.tlg001    euripides_1911                     \n",
       "\n",
       "    filename3  \n",
       "485            \n",
       "493            \n",
       "494            \n",
       "500            \n",
       "\n",
       "[4 rows x 23 columns]"
      ]
     },
     "execution_count": 50,
     "metadata": {},
     "output_type": "execute_result"
    }
   ],
   "source": [
    "transl_df.loc[transl_df[\"ctsurns\"] == \"urn:cts:greekLit:tlg0006.tlg001\"]"
   ]
  },
  {
   "cell_type": "code",
   "execution_count": 51,
   "id": "0b801ee6-33c2-4680-afee-52bf3220f4d9",
   "metadata": {
    "tags": []
   },
   "outputs": [],
   "source": [
    "# lookup_table = {}\n",
    "# keys = transl_df[\"ctsurns\"].unique()\n",
    "# for ctsurn in keys:\n",
    "#     # print(ctsurn)\n",
    "#     # lookup_table[ctsurn] = list(transl_df.loc[transl_df[\"ctsurns\"] == ctsurn, \"filename\"])\n",
    "#     filenames = list(transl_df.loc[transl_df[\"ctsurns\"] == ctsurn, \"filename1\"])\n",
    "#     # print(vals)\n",
    "#     lang = list(transl_df.loc[transl_df[\"ctsurns\"] == ctsurn, \"translation_language\"])\n",
    "#     # print(lang)\n",
    "#     # print(lang.index)\n",
    "   \n",
    "#     # print(test)\n",
    "#     for other_name in list(transl_df.loc[transl_df[\"ctsurns\"] == ctsurn, \"filename2\"]):\n",
    "#         if other_name != \"\":\n",
    "#             filenames.append(other_name)\n",
    "#             # get lang\n",
    "#             language = transl_df.loc[transl_df[\"filename2\"] == other_name, \"translation_language\"]\n",
    "#             # print(other_name)\n",
    "#             # print(language)\n",
    "#             break\n",
    "            \n",
    "    \n",
    "#     # for other_name in list(transl_df.loc[transl_df[\"ctsurns\"] == ctsurn, \"filename2\"]):\n",
    "#     #     # don't add empty string values (previously NaN)\n",
    "#     #     if other_name != \"\":\n",
    "#     #         vals.append(other_name)\n",
    "#     #         print(type(other_name))\n",
    "#     #         break\n",
    "#     # vals = list(zip(filenames,lang))\n",
    "#     # # turn back to list to write to json\n",
    "#     # lookup_table[ctsurn] = list(vals)"
   ]
  },
  {
   "cell_type": "code",
   "execution_count": 52,
   "id": "dd7c8219-762a-4481-a2f6-24a58481d82e",
   "metadata": {},
   "outputs": [
    {
     "name": "stdout",
     "output_type": "stream",
     "text": [
      "urn:cts:greekLit:tlg0019.tlg003\n",
      "urn:cts:greekLit:tlg7000.tlg001\n",
      "urn:cts:greekLit:tlg0001.tlg001\n",
      "urn:cts:greekLit:tlg0019.tlg004\n",
      "urn:cts:greekLit:tlg0019.tlg010\n",
      "urn:cts:greekLit:tlg0019.tlg005\n",
      "urn:cts:greekLit:tlg0019.tlg009\n",
      "urn:cts:greekLit:tlg0006.tlg018\n",
      "urn:cts:greekLit:tlg0016.tlg001\n",
      "urn:cts:greekLit:tlg0012.tlg002\n",
      "urn:cts:greekLit:tlg0099.tlg001\n"
     ]
    }
   ],
   "source": [
    "lookup_table = {}\n",
    "keys = transl_df[\"ctsurns\"].unique()\n",
    "for ctsurn in keys:\n",
    "    # lookup_table[ctsurn] = list(transl_df.loc[transl_df[\"ctsurns\"] == ctsurn, \"filename\"])\n",
    "    vals_initial = set(transl_df.loc[transl_df[\"ctsurns\"] == ctsurn, \"filename1\"])\n",
    "    vals = set([name for name in vals_initial if name != \"\"])\n",
    "    # should only print \"urn:cts:greekLit:tlg0001.tlg001\" because I deleted the filename in \"filename1\" col\n",
    "    if vals_initial != vals:\n",
    "        print(ctsurn)\n",
    "    for other_files in list(transl_df.loc[transl_df[\"ctsurns\"] == ctsurn, \"filename2\"]):\n",
    "        # don't add empty string values (previously NaN)\n",
    "        if other_files != \"\":\n",
    "            new_files = other_files.split()\n",
    "            for file in new_files:\n",
    "                vals.add(file)\n",
    "    for other_files in list(transl_df.loc[transl_df[\"ctsurns\"] == ctsurn, \"filename3\"]):\n",
    "        # don't add empty string values (previously NaN)\n",
    "        if other_files != \"\":\n",
    "            new_files = other_files.split()\n",
    "            for file in new_files:\n",
    "                vals.add(file)\n",
    "    # turn back to list to write to json\n",
    "    lookup_table[ctsurn] = list(vals)"
   ]
  },
  {
   "cell_type": "code",
   "execution_count": 53,
   "id": "bafb552e-033c-40f2-9dbb-3b30eb3c4b28",
   "metadata": {},
   "outputs": [
    {
     "data": {
      "text/plain": [
       "3     aeschylus_1886\n",
       "10    aeschylus_1888\n",
       "17    aeschylus_1909\n",
       "27    aeschylus_1872\n",
       "37    aeschylus_1868\n",
       "Name: filename1, dtype: object"
      ]
     },
     "execution_count": 53,
     "metadata": {},
     "output_type": "execute_result"
    }
   ],
   "source": [
    "# spot check dict values\n",
    "transl_df.loc[transl_df[\"ctsurns\"] == \"urn:cts:greekLit:tlg0085.tlg004\", \"filename1\"]"
   ]
  },
  {
   "cell_type": "code",
   "execution_count": 54,
   "id": "acc4efdb-01f3-4a61-9c19-6e9d4067d7c2",
   "metadata": {
    "tags": []
   },
   "outputs": [
    {
     "data": {
      "text/plain": [
       "['sophocles_1811',\n",
       " 'sophocles_1804',\n",
       " 'greekDramas_1912',\n",
       " 'sophocles_1907',\n",
       " 'sophocles_1873_1',\n",
       " 'sophocles_1905_en']"
      ]
     },
     "execution_count": 54,
     "metadata": {},
     "output_type": "execute_result"
    }
   ],
   "source": [
    "lookup_table[\"urn:cts:greekLit:tlg0011.tlg004\"]"
   ]
  },
  {
   "cell_type": "code",
   "execution_count": 55,
   "id": "d0fe2e70-9605-46aa-890d-53d43a005949",
   "metadata": {},
   "outputs": [
    {
     "data": {
      "text/plain": [
       "['arrian_1_1802', 'arrian_1862', 'arrian_1802(3)']"
      ]
     },
     "execution_count": 55,
     "metadata": {},
     "output_type": "execute_result"
    }
   ],
   "source": [
    "lookup_table[\"urn:cts:greekLit:tlg0074.tlg001\"]"
   ]
  },
  {
   "cell_type": "code",
   "execution_count": 56,
   "id": "c23b9196-9ed4-43aa-ab32-592f274e6068",
   "metadata": {},
   "outputs": [
    {
     "data": {
      "text/plain": [
       "28"
      ]
     },
     "execution_count": 56,
     "metadata": {},
     "output_type": "execute_result"
    }
   ],
   "source": [
    "len(\"/scratch/craig.car/src_data/\")"
   ]
  },
  {
   "cell_type": "code",
   "execution_count": 57,
   "id": "50a518fa-d091-45f1-bdee-62b615f5f889",
   "metadata": {},
   "outputs": [
    {
     "data": {
      "text/plain": [
       "'urn:cts:greekLit:tlg0001.tlg001'"
      ]
     },
     "execution_count": 57,
     "metadata": {},
     "output_type": "execute_result"
    }
   ],
   "source": [
    "\"/scratch/craig.car/src_data/urn:cts:greekLit:tlg0001.tlg001\"[28:]"
   ]
  },
  {
   "cell_type": "code",
   "execution_count": 59,
   "id": "6c48a55a-ce89-41a8-9015-44369fdc0613",
   "metadata": {},
   "outputs": [],
   "source": [
    "# path_out = \"/home/craig.car/repos/chiron/chironata/data/cts_lookup_table.json\"\n",
    "# with open(path_out, 'w') as fp:\n",
    "#     json.dump(lookup_table, fp)"
   ]
  },
  {
   "cell_type": "markdown",
   "id": "bdee1ea8-d9ea-4456-bd4e-0eccf97cd596",
   "metadata": {},
   "source": [
    "# Load lookup table to test it worked"
   ]
  },
  {
   "cell_type": "code",
   "execution_count": 53,
   "id": "02b0046c-85f7-4cc2-bb75-eea460fc03d5",
   "metadata": {},
   "outputs": [],
   "source": [
    "# test lookup table\n",
    "lookup_path = \"/home/craig.car/repos/chiron/chironata/data/cts_lookup_table.json\"\n",
    "\n",
    "with open(lookup_path) as f:\n",
    "    lookup_test = json.load(f)\n"
   ]
  },
  {
   "cell_type": "code",
   "execution_count": 54,
   "id": "19f8f8dc-3659-4af0-b451-7d8d6bd8d59d",
   "metadata": {},
   "outputs": [
    {
     "data": {
      "text/plain": [
       "['appian_1832_10', 'Appianus_1828', 'appian_1830_5']"
      ]
     },
     "execution_count": 54,
     "metadata": {},
     "output_type": "execute_result"
    }
   ],
   "source": [
    "lookup_test[\"urn:cts:greekLit:tlg0551.tlg002\"]"
   ]
  },
  {
   "cell_type": "code",
   "execution_count": 61,
   "id": "8a05e07d-df87-4784-9e63-a38909aad783",
   "metadata": {},
   "outputs": [
    {
     "data": {
      "text/plain": [
       "['apollonius_1889',\n",
       " 'tlg0001.tlg001.opp-eng1.xml',\n",
       " 'apolloniusRhodius_1_1791',\n",
       " 'apolloniusRhodius_1892']"
      ]
     },
     "execution_count": 61,
     "metadata": {},
     "output_type": "execute_result"
    }
   ],
   "source": [
    "lookup_test[\"urn:cts:greekLit:tlg0001.tlg001\"]"
   ]
  },
  {
   "cell_type": "code",
   "execution_count": 56,
   "id": "be458e3d-7050-4409-815b-6a4c19ce1e75",
   "metadata": {},
   "outputs": [
    {
     "data": {
      "text/plain": [
       "True"
      ]
     },
     "execution_count": 56,
     "metadata": {},
     "output_type": "execute_result"
    }
   ],
   "source": [
    "lookup_test == lookup_table"
   ]
  },
  {
   "cell_type": "markdown",
   "id": "d580af8e-55d6-4cc7-9bed-e32fc3132502",
   "metadata": {
    "tags": []
   },
   "source": [
    "# Run Vecalign - moved to python file"
   ]
  },
  {
   "cell_type": "code",
   "execution_count": 46,
   "id": "f43f59fd-342b-4f7c-89fd-a9882517e40b",
   "metadata": {},
   "outputs": [],
   "source": [
    "params = {\n",
    "    'QUEUE':'short',\n",
    "    'SWORKERS':2,\n",
    "    'SMEM':4\n",
    "}\n",
    "\n",
    "labse_vec_cpu = 'srun --partition=short --nodes=1 --mem=4GB --time=01:00:00 /bin/bash -c \"source /home/craig.car/miniconda3/bin/activate; conda activate labse_vec_pipeline; {command};\"'\n",
    "\n",
    "src_dir = \"/scratch/craig.car/src_data/\"\n",
    "fr_dir = \"/scratch/craig.car/french_trans-dev/\"\n",
    "en_dir = \"/scratch/craig.car/english_trans-dev/\"\n",
    "it_dir_sub = \"/scratch/craig.car/italian_trans-dev/as_yet_unedited_DDD/\"\n",
    "it_dir = \"/scratch/craig.car/italian_trans-dev/\"\n",
    "de_dir = \"/scratch/craig.car/german_trans-dev/\"\n",
    "\n",
    "rslts_dir = \"/home/craig.car/repos/chiron/chironata/data/alignments_rslts/\""
   ]
  },
  {
   "cell_type": "code",
   "execution_count": 48,
   "id": "4fc34d1b-c37f-4f72-af85-caa1022dd3fe",
   "metadata": {
    "tags": []
   },
   "outputs": [],
   "source": [
    "for src_emb in glob.iglob(src_dir+\"*.emb\"):\n",
    "    ctsurn = os.path.splitext(os.path.basename(src_emb))[0]\n",
    "    src_prefix = src_dir+ctsurn\n",
    "    tgt_files = lookup_table[ctsurn]\n",
    "    for tgt_name in tgt_files:\n",
    "        tgt_prefix = fr_dir+tgt_name\n",
    "        # check if a fr translation exists\n",
    "        if os.path.isfile(tgt_prefix+\".emb\") != False: \n",
    "            params['command'] = f'./vecalign.py --alignment_max_size 8 --src {src_prefix+\".sents\"} --tgt {tgt_prefix+\".sents\"} --src_embed {src_prefix+\".overlaps\"} {src_emb} --tgt_embed {tgt_prefix+\".overlaps\"} {tgt_prefix+\".emb\"}'\n",
    "            # print(labse_vec_cpu.format(**params))\n",
    "            if os.path.isfile(f\"{rslts_dir}{ctsurn}_{tgt_name}.rslts\") == False:\n",
    "                print(f\"working on {ctsurn}_{tgt_name}\")\n",
    "                subprocess.run(labse_vec_cpu.format(**params),shell=True)\n",
    "    \n",
    "            "
   ]
  },
  {
   "cell_type": "markdown",
   "id": "c4991f14-2a82-487d-981c-f5ce5df00267",
   "metadata": {
    "tags": []
   },
   "source": [
    "## For English files"
   ]
  },
  {
   "cell_type": "code",
   "execution_count": 32,
   "id": "0152af05-f9f7-41b1-ac4c-a3eae77ed551",
   "metadata": {
    "collapsed": true,
    "jupyter": {
     "outputs_hidden": true
    },
    "tags": []
   },
   "outputs": [
    {
     "name": "stdout",
     "output_type": "stream",
     "text": [
      "working on urn:cts:greekLit:tlg0007.tlg052_plutarch_4_1908\n"
     ]
    },
    {
     "name": "stderr",
     "output_type": "stream",
     "text": [
      "2023-11-29 10:19:48,896  WARNI  expected an embedding size of 1024, got 768\n",
      "2023-11-29 10:19:49,705  WARNI  expected an embedding size of 1024, got 768\n"
     ]
    },
    {
     "name": "stdout",
     "output_type": "stream",
     "text": [
      "/home/craig.car/repos/chiron/chironata/data/alignments_rslts/urn:cts:greekLit:tlg0007.tlg052_plutarch_4_1908\n",
      "working on urn:cts:greekLit:tlg0007.tlg052_plutarch_3_1908\n"
     ]
    },
    {
     "name": "stderr",
     "output_type": "stream",
     "text": [
      "2023-11-29 10:20:01,922  WARNI  expected an embedding size of 1024, got 768\n",
      "2023-11-29 10:20:02,447  WARNI  expected an embedding size of 1024, got 768\n"
     ]
    },
    {
     "name": "stdout",
     "output_type": "stream",
     "text": [
      "/home/craig.car/repos/chiron/chironata/data/alignments_rslts/urn:cts:greekLit:tlg0007.tlg052_plutarch_3_1908\n",
      "working on urn:cts:greekLit:tlg0007.tlg053_plutarch_4_1908\n"
     ]
    },
    {
     "name": "stderr",
     "output_type": "stream",
     "text": [
      "2023-11-29 10:20:10,197  WARNI  expected an embedding size of 1024, got 768\n",
      "2023-11-29 10:20:10,889  WARNI  expected an embedding size of 1024, got 768\n"
     ]
    },
    {
     "name": "stdout",
     "output_type": "stream",
     "text": [
      "/home/craig.car/repos/chiron/chironata/data/alignments_rslts/urn:cts:greekLit:tlg0007.tlg053_plutarch_4_1908\n",
      "working on urn:cts:greekLit:tlg0007.tlg053_plutarch_3_1908\n"
     ]
    },
    {
     "name": "stderr",
     "output_type": "stream",
     "text": [
      "2023-11-29 10:20:21,270  WARNI  expected an embedding size of 1024, got 768\n",
      "2023-11-29 10:20:21,726  WARNI  expected an embedding size of 1024, got 768\n"
     ]
    },
    {
     "name": "stdout",
     "output_type": "stream",
     "text": [
      "/home/craig.car/repos/chiron/chironata/data/alignments_rslts/urn:cts:greekLit:tlg0007.tlg053_plutarch_3_1908\n",
      "working on urn:cts:greekLit:tlg0007.tlg054_plutarch_4_1908\n"
     ]
    },
    {
     "name": "stderr",
     "output_type": "stream",
     "text": [
      "2023-11-29 10:20:27,917  WARNI  expected an embedding size of 1024, got 768\n",
      "2023-11-29 10:20:28,619  WARNI  expected an embedding size of 1024, got 768\n"
     ]
    },
    {
     "name": "stdout",
     "output_type": "stream",
     "text": [
      "/home/craig.car/repos/chiron/chironata/data/alignments_rslts/urn:cts:greekLit:tlg0007.tlg054_plutarch_4_1908\n",
      "working on urn:cts:greekLit:tlg0007.tlg054_plutarch_3_1908\n"
     ]
    },
    {
     "name": "stderr",
     "output_type": "stream",
     "text": [
      "2023-11-29 10:20:41,278  WARNI  expected an embedding size of 1024, got 768\n",
      "2023-11-29 10:20:41,738  WARNI  expected an embedding size of 1024, got 768\n"
     ]
    },
    {
     "name": "stdout",
     "output_type": "stream",
     "text": [
      "/home/craig.car/repos/chiron/chironata/data/alignments_rslts/urn:cts:greekLit:tlg0007.tlg054_plutarch_3_1908\n",
      "working on urn:cts:greekLit:tlg0007.tlg055_plutarch_4_1908\n"
     ]
    },
    {
     "name": "stderr",
     "output_type": "stream",
     "text": [
      "2023-11-29 10:20:50,003  WARNI  expected an embedding size of 1024, got 768\n",
      "2023-11-29 10:20:50,679  WARNI  expected an embedding size of 1024, got 768\n"
     ]
    },
    {
     "name": "stdout",
     "output_type": "stream",
     "text": [
      "/home/craig.car/repos/chiron/chironata/data/alignments_rslts/urn:cts:greekLit:tlg0007.tlg055_plutarch_4_1908\n",
      "working on urn:cts:greekLit:tlg0007.tlg055_plutarch_3_1908\n"
     ]
    },
    {
     "name": "stderr",
     "output_type": "stream",
     "text": [
      "2023-11-29 10:21:02,849  WARNI  expected an embedding size of 1024, got 768\n",
      "2023-11-29 10:21:03,294  WARNI  expected an embedding size of 1024, got 768\n"
     ]
    },
    {
     "name": "stdout",
     "output_type": "stream",
     "text": [
      "/home/craig.car/repos/chiron/chironata/data/alignments_rslts/urn:cts:greekLit:tlg0007.tlg055_plutarch_3_1908\n",
      "working on urn:cts:greekLit:tlg0007.tlg056_plutarch_4_1908\n"
     ]
    },
    {
     "name": "stderr",
     "output_type": "stream",
     "text": [
      "2023-11-29 10:21:11,490  WARNI  expected an embedding size of 1024, got 768\n",
      "2023-11-29 10:21:12,172  WARNI  expected an embedding size of 1024, got 768\n"
     ]
    },
    {
     "name": "stdout",
     "output_type": "stream",
     "text": [
      "/home/craig.car/repos/chiron/chironata/data/alignments_rslts/urn:cts:greekLit:tlg0007.tlg056_plutarch_4_1908\n",
      "working on urn:cts:greekLit:tlg0007.tlg056_plutarch_3_1908\n"
     ]
    },
    {
     "name": "stderr",
     "output_type": "stream",
     "text": [
      "2023-11-29 10:21:23,011  WARNI  expected an embedding size of 1024, got 768\n",
      "2023-11-29 10:21:23,462  WARNI  expected an embedding size of 1024, got 768\n"
     ]
    },
    {
     "name": "stdout",
     "output_type": "stream",
     "text": [
      "/home/craig.car/repos/chiron/chironata/data/alignments_rslts/urn:cts:greekLit:tlg0007.tlg056_plutarch_3_1908\n",
      "working on urn:cts:greekLit:tlg0007.tlg057_plutarch_4_1908\n"
     ]
    },
    {
     "name": "stderr",
     "output_type": "stream",
     "text": [
      "2023-11-29 10:21:30,914  WARNI  expected an embedding size of 1024, got 768\n",
      "2023-11-29 10:21:31,597  WARNI  expected an embedding size of 1024, got 768\n"
     ]
    },
    {
     "name": "stdout",
     "output_type": "stream",
     "text": [
      "/home/craig.car/repos/chiron/chironata/data/alignments_rslts/urn:cts:greekLit:tlg0007.tlg057_plutarch_4_1908\n",
      "working on urn:cts:greekLit:tlg0007.tlg057_plutarch_3_1908\n"
     ]
    },
    {
     "name": "stderr",
     "output_type": "stream",
     "text": [
      "2023-11-29 10:21:43,647  WARNI  expected an embedding size of 1024, got 768\n",
      "2023-11-29 10:21:44,091  WARNI  expected an embedding size of 1024, got 768\n"
     ]
    },
    {
     "name": "stdout",
     "output_type": "stream",
     "text": [
      "/home/craig.car/repos/chiron/chironata/data/alignments_rslts/urn:cts:greekLit:tlg0007.tlg057_plutarch_3_1908\n",
      "working on urn:cts:greekLit:tlg0007.tlg058_plutarch_4_1908\n"
     ]
    },
    {
     "name": "stderr",
     "output_type": "stream",
     "text": [
      "2023-11-29 10:21:53,088  WARNI  expected an embedding size of 1024, got 768\n",
      "2023-11-29 10:21:53,766  WARNI  expected an embedding size of 1024, got 768\n"
     ]
    },
    {
     "name": "stdout",
     "output_type": "stream",
     "text": [
      "/home/craig.car/repos/chiron/chironata/data/alignments_rslts/urn:cts:greekLit:tlg0007.tlg058_plutarch_4_1908\n",
      "working on urn:cts:greekLit:tlg0007.tlg058_plutarch_3_1908\n"
     ]
    },
    {
     "name": "stderr",
     "output_type": "stream",
     "text": [
      "2023-11-29 10:22:06,610  WARNI  expected an embedding size of 1024, got 768\n",
      "2023-11-29 10:22:07,054  WARNI  expected an embedding size of 1024, got 768\n"
     ]
    },
    {
     "name": "stdout",
     "output_type": "stream",
     "text": [
      "/home/craig.car/repos/chiron/chironata/data/alignments_rslts/urn:cts:greekLit:tlg0007.tlg058_plutarch_3_1908\n",
      "working on urn:cts:greekLit:tlg0007.tlg059_plutarch_4_1908\n"
     ]
    },
    {
     "name": "stderr",
     "output_type": "stream",
     "text": [
      "2023-11-29 10:22:15,752  WARNI  expected an embedding size of 1024, got 768\n",
      "2023-11-29 10:22:16,435  WARNI  expected an embedding size of 1024, got 768\n"
     ]
    },
    {
     "name": "stdout",
     "output_type": "stream",
     "text": [
      "/home/craig.car/repos/chiron/chironata/data/alignments_rslts/urn:cts:greekLit:tlg0007.tlg059_plutarch_4_1908\n",
      "working on urn:cts:greekLit:tlg0007.tlg059_plutarch_3_1908\n"
     ]
    },
    {
     "name": "stderr",
     "output_type": "stream",
     "text": [
      "2023-11-29 10:22:27,481  WARNI  expected an embedding size of 1024, got 768\n",
      "2023-11-29 10:22:27,942  WARNI  expected an embedding size of 1024, got 768\n"
     ]
    },
    {
     "name": "stdout",
     "output_type": "stream",
     "text": [
      "/home/craig.car/repos/chiron/chironata/data/alignments_rslts/urn:cts:greekLit:tlg0007.tlg059_plutarch_3_1908\n",
      "working on urn:cts:greekLit:tlg0007.tlg060_plutarch_4_1908\n"
     ]
    },
    {
     "name": "stderr",
     "output_type": "stream",
     "text": [
      "2023-11-29 10:22:34,673  WARNI  expected an embedding size of 1024, got 768\n",
      "2023-11-29 10:22:35,349  WARNI  expected an embedding size of 1024, got 768\n"
     ]
    },
    {
     "name": "stdout",
     "output_type": "stream",
     "text": [
      "/home/craig.car/repos/chiron/chironata/data/alignments_rslts/urn:cts:greekLit:tlg0007.tlg060_plutarch_4_1908\n",
      "working on urn:cts:greekLit:tlg0007.tlg060_plutarch_3_1908\n"
     ]
    },
    {
     "name": "stderr",
     "output_type": "stream",
     "text": [
      "2023-11-29 10:22:47,375  WARNI  expected an embedding size of 1024, got 768\n",
      "2023-11-29 10:22:47,828  WARNI  expected an embedding size of 1024, got 768\n"
     ]
    },
    {
     "name": "stdout",
     "output_type": "stream",
     "text": [
      "/home/craig.car/repos/chiron/chironata/data/alignments_rslts/urn:cts:greekLit:tlg0007.tlg060_plutarch_3_1908\n",
      "working on urn:cts:greekLit:tlg0007.tlg061_plutarch_4_1908\n"
     ]
    },
    {
     "name": "stderr",
     "output_type": "stream",
     "text": [
      "2023-11-29 10:22:56,087  WARNI  expected an embedding size of 1024, got 768\n",
      "2023-11-29 10:22:56,758  WARNI  expected an embedding size of 1024, got 768\n"
     ]
    },
    {
     "name": "stdout",
     "output_type": "stream",
     "text": [
      "/home/craig.car/repos/chiron/chironata/data/alignments_rslts/urn:cts:greekLit:tlg0007.tlg061_plutarch_4_1908\n",
      "working on urn:cts:greekLit:tlg0007.tlg061_plutarch_3_1908\n"
     ]
    },
    {
     "name": "stderr",
     "output_type": "stream",
     "text": [
      "2023-11-29 10:23:08,373  WARNI  expected an embedding size of 1024, got 768\n",
      "2023-11-29 10:23:08,820  WARNI  expected an embedding size of 1024, got 768\n"
     ]
    },
    {
     "name": "stdout",
     "output_type": "stream",
     "text": [
      "/home/craig.car/repos/chiron/chironata/data/alignments_rslts/urn:cts:greekLit:tlg0007.tlg061_plutarch_3_1908\n",
      "working on urn:cts:greekLit:tlg0007.tlg062_plutarch_4_1908\n"
     ]
    },
    {
     "name": "stderr",
     "output_type": "stream",
     "text": [
      "2023-11-29 10:23:16,639  WARNI  expected an embedding size of 1024, got 768\n",
      "2023-11-29 10:23:17,313  WARNI  expected an embedding size of 1024, got 768\n"
     ]
    },
    {
     "name": "stdout",
     "output_type": "stream",
     "text": [
      "/home/craig.car/repos/chiron/chironata/data/alignments_rslts/urn:cts:greekLit:tlg0007.tlg062_plutarch_4_1908\n",
      "working on urn:cts:greekLit:tlg0007.tlg062_plutarch_3_1908\n"
     ]
    },
    {
     "name": "stderr",
     "output_type": "stream",
     "text": [
      "2023-11-29 10:23:27,857  WARNI  expected an embedding size of 1024, got 768\n",
      "2023-11-29 10:23:28,330  WARNI  expected an embedding size of 1024, got 768\n"
     ]
    },
    {
     "name": "stdout",
     "output_type": "stream",
     "text": [
      "/home/craig.car/repos/chiron/chironata/data/alignments_rslts/urn:cts:greekLit:tlg0007.tlg062_plutarch_3_1908\n",
      "working on urn:cts:greekLit:tlg0007.tlg067_plutarch_1898_ethical\n"
     ]
    },
    {
     "name": "stderr",
     "output_type": "stream",
     "text": [
      "2023-11-29 10:23:34,486  WARNI  expected an embedding size of 1024, got 768\n",
      "2023-11-29 10:23:34,913  WARNI  expected an embedding size of 1024, got 768\n"
     ]
    },
    {
     "name": "stdout",
     "output_type": "stream",
     "text": [
      "/home/craig.car/repos/chiron/chironata/data/alignments_rslts/urn:cts:greekLit:tlg0007.tlg067_plutarch_1898_ethical\n",
      "working on urn:cts:greekLit:tlg0007.tlg070_plutarch_1898_ethical\n"
     ]
    },
    {
     "name": "stderr",
     "output_type": "stream",
     "text": [
      "2023-11-29 10:23:40,306  WARNI  expected an embedding size of 1024, got 768\n",
      "2023-11-29 10:23:40,662  WARNI  expected an embedding size of 1024, got 768\n"
     ]
    },
    {
     "name": "stdout",
     "output_type": "stream",
     "text": [
      "/home/craig.car/repos/chiron/chironata/data/alignments_rslts/urn:cts:greekLit:tlg0007.tlg070_plutarch_1898_ethical\n",
      "working on urn:cts:greekLit:tlg0007.tlg071_plutarch_1898_ethical\n"
     ]
    },
    {
     "name": "stderr",
     "output_type": "stream",
     "text": [
      "2023-11-29 10:23:46,543  WARNI  expected an embedding size of 1024, got 768\n",
      "2023-11-29 10:23:46,894  WARNI  expected an embedding size of 1024, got 768\n"
     ]
    },
    {
     "name": "stdout",
     "output_type": "stream",
     "text": [
      "/home/craig.car/repos/chiron/chironata/data/alignments_rslts/urn:cts:greekLit:tlg0007.tlg071_plutarch_1898_ethical\n",
      "working on urn:cts:greekLit:tlg0007.tlg072_plutarch_1898_ethical\n"
     ]
    },
    {
     "name": "stderr",
     "output_type": "stream",
     "text": [
      "2023-11-29 10:23:52,751  WARNI  expected an embedding size of 1024, got 768\n",
      "2023-11-29 10:23:53,101  WARNI  expected an embedding size of 1024, got 768\n"
     ]
    },
    {
     "name": "stdout",
     "output_type": "stream",
     "text": [
      "/home/craig.car/repos/chiron/chironata/data/alignments_rslts/urn:cts:greekLit:tlg0007.tlg072_plutarch_1898_ethical\n",
      "working on urn:cts:greekLit:tlg0007.tlg073_plutarch_1898_ethical\n"
     ]
    },
    {
     "name": "stderr",
     "output_type": "stream",
     "text": [
      "2023-11-29 10:23:59,116  WARNI  expected an embedding size of 1024, got 768\n",
      "2023-11-29 10:23:59,465  WARNI  expected an embedding size of 1024, got 768\n"
     ]
    },
    {
     "name": "stdout",
     "output_type": "stream",
     "text": [
      "/home/craig.car/repos/chiron/chironata/data/alignments_rslts/urn:cts:greekLit:tlg0007.tlg073_plutarch_1898_ethical\n",
      "working on urn:cts:greekLit:tlg0007.tlg074_plutarch_1898_ethical\n"
     ]
    },
    {
     "name": "stderr",
     "output_type": "stream",
     "text": [
      "2023-11-29 10:24:04,599  WARNI  expected an embedding size of 1024, got 768\n",
      "2023-11-29 10:24:04,957  WARNI  expected an embedding size of 1024, got 768\n"
     ]
    },
    {
     "name": "stdout",
     "output_type": "stream",
     "text": [
      "/home/craig.car/repos/chiron/chironata/data/alignments_rslts/urn:cts:greekLit:tlg0007.tlg074_plutarch_1898_ethical\n",
      "working on urn:cts:greekLit:tlg0007.tlg075_plutarch_1898_ethical\n"
     ]
    },
    {
     "name": "stderr",
     "output_type": "stream",
     "text": [
      "2023-11-29 10:24:10,412  WARNI  expected an embedding size of 1024, got 768\n",
      "2023-11-29 10:24:10,762  WARNI  expected an embedding size of 1024, got 768\n"
     ]
    },
    {
     "name": "stdout",
     "output_type": "stream",
     "text": [
      "/home/craig.car/repos/chiron/chironata/data/alignments_rslts/urn:cts:greekLit:tlg0007.tlg075_plutarch_1898_ethical\n",
      "working on urn:cts:greekLit:tlg0007.tlg078_plutarch_1898_ethical\n"
     ]
    },
    {
     "name": "stderr",
     "output_type": "stream",
     "text": [
      "2023-11-29 10:24:15,793  WARNI  expected an embedding size of 1024, got 768\n",
      "2023-11-29 10:24:16,143  WARNI  expected an embedding size of 1024, got 768\n"
     ]
    },
    {
     "name": "stdout",
     "output_type": "stream",
     "text": [
      "/home/craig.car/repos/chiron/chironata/data/alignments_rslts/urn:cts:greekLit:tlg0007.tlg078_plutarch_1898_ethical\n",
      "working on urn:cts:greekLit:tlg0007.tlg080_plutarch_1898_theosophical\n"
     ]
    },
    {
     "name": "stderr",
     "output_type": "stream",
     "text": [
      "2023-11-29 10:24:21,783  WARNI  expected an embedding size of 1024, got 768\n",
      "2023-11-29 10:24:22,088  WARNI  expected an embedding size of 1024, got 768\n"
     ]
    },
    {
     "name": "stdout",
     "output_type": "stream",
     "text": [
      "/home/craig.car/repos/chiron/chironata/data/alignments_rslts/urn:cts:greekLit:tlg0007.tlg080_plutarch_1898_theosophical\n",
      "working on urn:cts:greekLit:tlg0007.tlg089_plutarch_1898_theosophical\n"
     ]
    },
    {
     "name": "stderr",
     "output_type": "stream",
     "text": [
      "2023-11-29 10:24:26,287  WARNI  expected an embedding size of 1024, got 768\n",
      "2023-11-29 10:24:26,537  WARNI  expected an embedding size of 1024, got 768\n"
     ]
    },
    {
     "name": "stdout",
     "output_type": "stream",
     "text": [
      "/home/craig.car/repos/chiron/chironata/data/alignments_rslts/urn:cts:greekLit:tlg0007.tlg089_plutarch_1898_theosophical\n",
      "working on urn:cts:greekLit:tlg0007.tlg090_plutarch_1898_theosophical\n"
     ]
    },
    {
     "name": "stderr",
     "output_type": "stream",
     "text": [
      "2023-11-29 10:24:31,269  WARNI  expected an embedding size of 1024, got 768\n",
      "2023-11-29 10:24:31,511  WARNI  expected an embedding size of 1024, got 768\n"
     ]
    },
    {
     "name": "stdout",
     "output_type": "stream",
     "text": [
      "/home/craig.car/repos/chiron/chironata/data/alignments_rslts/urn:cts:greekLit:tlg0007.tlg090_plutarch_1898_theosophical\n",
      "working on urn:cts:greekLit:tlg0007.tlg091_plutarch_1898_theosophical\n"
     ]
    },
    {
     "name": "stderr",
     "output_type": "stream",
     "text": [
      "2023-11-29 10:24:35,770  WARNI  expected an embedding size of 1024, got 768\n",
      "2023-11-29 10:24:36,011  WARNI  expected an embedding size of 1024, got 768\n"
     ]
    },
    {
     "name": "stdout",
     "output_type": "stream",
     "text": [
      "/home/craig.car/repos/chiron/chironata/data/alignments_rslts/urn:cts:greekLit:tlg0007.tlg091_plutarch_1898_theosophical\n",
      "working on urn:cts:greekLit:tlg0007.tlg092_plutarch_1898_theosophical\n"
     ]
    },
    {
     "name": "stderr",
     "output_type": "stream",
     "text": [
      "2023-11-29 10:24:40,617  WARNI  expected an embedding size of 1024, got 768\n",
      "2023-11-29 10:24:40,862  WARNI  expected an embedding size of 1024, got 768\n"
     ]
    },
    {
     "name": "stdout",
     "output_type": "stream",
     "text": [
      "/home/craig.car/repos/chiron/chironata/data/alignments_rslts/urn:cts:greekLit:tlg0007.tlg092_plutarch_1898_theosophical\n",
      "working on urn:cts:greekLit:tlg0007.tlg093_plutarch_1898_ethical\n"
     ]
    },
    {
     "name": "stderr",
     "output_type": "stream",
     "text": [
      "2023-11-29 10:24:45,597  WARNI  expected an embedding size of 1024, got 768\n",
      "2023-11-29 10:24:45,946  WARNI  expected an embedding size of 1024, got 768\n"
     ]
    },
    {
     "name": "stdout",
     "output_type": "stream",
     "text": [
      "/home/craig.car/repos/chiron/chironata/data/alignments_rslts/urn:cts:greekLit:tlg0007.tlg093_plutarch_1898_ethical\n",
      "working on urn:cts:greekLit:tlg0007.tlg094_plutarch_1898_ethical\n"
     ]
    },
    {
     "name": "stderr",
     "output_type": "stream",
     "text": [
      "2023-11-29 10:24:51,160  WARNI  expected an embedding size of 1024, got 768\n",
      "2023-11-29 10:24:51,509  WARNI  expected an embedding size of 1024, got 768\n"
     ]
    },
    {
     "name": "stdout",
     "output_type": "stream",
     "text": [
      "/home/craig.car/repos/chiron/chironata/data/alignments_rslts/urn:cts:greekLit:tlg0007.tlg094_plutarch_1898_ethical\n",
      "working on urn:cts:greekLit:tlg0007.tlg095_plutarch_1898_ethical\n"
     ]
    },
    {
     "name": "stderr",
     "output_type": "stream",
     "text": [
      "2023-11-29 10:24:57,186  WARNI  expected an embedding size of 1024, got 768\n",
      "2023-11-29 10:24:57,590  WARNI  expected an embedding size of 1024, got 768\n"
     ]
    },
    {
     "name": "stdout",
     "output_type": "stream",
     "text": [
      "/home/craig.car/repos/chiron/chironata/data/alignments_rslts/urn:cts:greekLit:tlg0007.tlg095_plutarch_1898_ethical\n",
      "working on urn:cts:greekLit:tlg0007.tlg096_plutarch_1898_ethical\n"
     ]
    },
    {
     "name": "stderr",
     "output_type": "stream",
     "text": [
      "2023-11-29 10:25:03,699  WARNI  expected an embedding size of 1024, got 768\n",
      "2023-11-29 10:25:04,048  WARNI  expected an embedding size of 1024, got 768\n"
     ]
    },
    {
     "name": "stdout",
     "output_type": "stream",
     "text": [
      "/home/craig.car/repos/chiron/chironata/data/alignments_rslts/urn:cts:greekLit:tlg0007.tlg096_plutarch_1898_ethical\n",
      "working on urn:cts:greekLit:tlg0007.tlg098_plutarch_1898_ethical\n"
     ]
    },
    {
     "name": "stderr",
     "output_type": "stream",
     "text": [
      "2023-11-29 10:25:10,014  WARNI  expected an embedding size of 1024, got 768\n",
      "2023-11-29 10:25:10,362  WARNI  expected an embedding size of 1024, got 768\n"
     ]
    },
    {
     "name": "stdout",
     "output_type": "stream",
     "text": [
      "/home/craig.car/repos/chiron/chironata/data/alignments_rslts/urn:cts:greekLit:tlg0007.tlg098_plutarch_1898_ethical\n",
      "working on urn:cts:greekLit:tlg0007.tlg099_plutarch_1898_ethical\n"
     ]
    },
    {
     "name": "stderr",
     "output_type": "stream",
     "text": [
      "2023-11-29 10:25:15,727  WARNI  expected an embedding size of 1024, got 768\n",
      "2023-11-29 10:25:16,075  WARNI  expected an embedding size of 1024, got 768\n"
     ]
    },
    {
     "name": "stdout",
     "output_type": "stream",
     "text": [
      "/home/craig.car/repos/chiron/chironata/data/alignments_rslts/urn:cts:greekLit:tlg0007.tlg099_plutarch_1898_ethical\n",
      "working on urn:cts:greekLit:tlg0007.tlg100_plutarch_1898_ethical\n"
     ]
    },
    {
     "name": "stderr",
     "output_type": "stream",
     "text": [
      "2023-11-29 10:25:20,994  WARNI  expected an embedding size of 1024, got 768\n",
      "2023-11-29 10:25:21,339  WARNI  expected an embedding size of 1024, got 768\n"
     ]
    },
    {
     "name": "stdout",
     "output_type": "stream",
     "text": [
      "/home/craig.car/repos/chiron/chironata/data/alignments_rslts/urn:cts:greekLit:tlg0007.tlg100_plutarch_1898_ethical\n",
      "working on urn:cts:greekLit:tlg0007.tlg101_plutarch_1898_ethical\n"
     ]
    },
    {
     "name": "stderr",
     "output_type": "stream",
     "text": [
      "2023-11-29 10:25:26,241  WARNI  expected an embedding size of 1024, got 768\n",
      "2023-11-29 10:25:26,589  WARNI  expected an embedding size of 1024, got 768\n"
     ]
    },
    {
     "name": "stdout",
     "output_type": "stream",
     "text": [
      "/home/craig.car/repos/chiron/chironata/data/alignments_rslts/urn:cts:greekLit:tlg0007.tlg101_plutarch_1898_ethical\n",
      "working on urn:cts:greekLit:tlg0007.tlg102_plutarch_1898_ethical\n"
     ]
    },
    {
     "name": "stderr",
     "output_type": "stream",
     "text": [
      "2023-11-29 10:25:32,604  WARNI  expected an embedding size of 1024, got 768\n",
      "2023-11-29 10:25:32,959  WARNI  expected an embedding size of 1024, got 768\n"
     ]
    },
    {
     "name": "stdout",
     "output_type": "stream",
     "text": [
      "/home/craig.car/repos/chiron/chironata/data/alignments_rslts/urn:cts:greekLit:tlg0007.tlg102_plutarch_1898_ethical\n",
      "working on urn:cts:greekLit:tlg0007.tlg104_plutarch_1898_ethical\n"
     ]
    },
    {
     "name": "stderr",
     "output_type": "stream",
     "text": [
      "2023-11-29 10:25:38,487  WARNI  expected an embedding size of 1024, got 768\n",
      "2023-11-29 10:25:38,834  WARNI  expected an embedding size of 1024, got 768\n"
     ]
    },
    {
     "name": "stdout",
     "output_type": "stream",
     "text": [
      "/home/craig.car/repos/chiron/chironata/data/alignments_rslts/urn:cts:greekLit:tlg0007.tlg104_plutarch_1898_ethical\n",
      "working on urn:cts:greekLit:tlg0007.tlg105_plutarch_1898_ethical\n"
     ]
    },
    {
     "name": "stderr",
     "output_type": "stream",
     "text": [
      "2023-11-29 10:25:44,975  WARNI  expected an embedding size of 1024, got 768\n",
      "2023-11-29 10:25:45,325  WARNI  expected an embedding size of 1024, got 768\n"
     ]
    },
    {
     "name": "stdout",
     "output_type": "stream",
     "text": [
      "/home/craig.car/repos/chiron/chironata/data/alignments_rslts/urn:cts:greekLit:tlg0007.tlg105_plutarch_1898_ethical\n",
      "working on urn:cts:greekLit:tlg0007.tlg106_plutarch_1898_ethical\n"
     ]
    },
    {
     "name": "stderr",
     "output_type": "stream",
     "text": [
      "2023-11-29 10:25:50,516  WARNI  expected an embedding size of 1024, got 768\n",
      "2023-11-29 10:25:50,864  WARNI  expected an embedding size of 1024, got 768\n"
     ]
    },
    {
     "name": "stdout",
     "output_type": "stream",
     "text": [
      "/home/craig.car/repos/chiron/chironata/data/alignments_rslts/urn:cts:greekLit:tlg0007.tlg106_plutarch_1898_ethical\n",
      "working on urn:cts:greekLit:tlg0007.tlg107_plutarch_1898_ethical\n"
     ]
    },
    {
     "name": "stderr",
     "output_type": "stream",
     "text": [
      "2023-11-29 10:25:56,639  WARNI  expected an embedding size of 1024, got 768\n",
      "2023-11-29 10:25:56,995  WARNI  expected an embedding size of 1024, got 768\n"
     ]
    },
    {
     "name": "stdout",
     "output_type": "stream",
     "text": [
      "/home/craig.car/repos/chiron/chironata/data/alignments_rslts/urn:cts:greekLit:tlg0007.tlg107_plutarch_1898_ethical\n",
      "working on urn:cts:greekLit:tlg0007.tlg110_plutarch_1898_ethical\n"
     ]
    },
    {
     "name": "stderr",
     "output_type": "stream",
     "text": [
      "2023-11-29 10:26:03,620  WARNI  expected an embedding size of 1024, got 768\n",
      "2023-11-29 10:26:03,976  WARNI  expected an embedding size of 1024, got 768\n"
     ]
    },
    {
     "name": "stdout",
     "output_type": "stream",
     "text": [
      "/home/craig.car/repos/chiron/chironata/data/alignments_rslts/urn:cts:greekLit:tlg0007.tlg110_plutarch_1898_ethical\n",
      "working on urn:cts:greekLit:tlg0007.tlg111_plutarch_1898_ethical\n"
     ]
    },
    {
     "name": "stderr",
     "output_type": "stream",
     "text": [
      "2023-11-29 10:26:10,289  WARNI  expected an embedding size of 1024, got 768\n",
      "2023-11-29 10:26:10,643  WARNI  expected an embedding size of 1024, got 768\n"
     ]
    },
    {
     "name": "stdout",
     "output_type": "stream",
     "text": [
      "/home/craig.car/repos/chiron/chironata/data/alignments_rslts/urn:cts:greekLit:tlg0007.tlg111_plutarch_1898_ethical\n",
      "working on urn:cts:greekLit:tlg0007.tlg113_plutarch_1898_ethical\n"
     ]
    },
    {
     "name": "stderr",
     "output_type": "stream",
     "text": [
      "2023-11-29 10:26:15,961  WARNI  expected an embedding size of 1024, got 768\n",
      "2023-11-29 10:26:16,310  WARNI  expected an embedding size of 1024, got 768\n"
     ]
    },
    {
     "name": "stdout",
     "output_type": "stream",
     "text": [
      "/home/craig.car/repos/chiron/chironata/data/alignments_rslts/urn:cts:greekLit:tlg0007.tlg113_plutarch_1898_ethical\n",
      "working on urn:cts:greekLit:tlg0007.tlg120_plutarch_1898_ethical\n"
     ]
    },
    {
     "name": "stderr",
     "output_type": "stream",
     "text": [
      "2023-11-29 10:26:22,681  WARNI  expected an embedding size of 1024, got 768\n",
      "2023-11-29 10:26:23,035  WARNI  expected an embedding size of 1024, got 768\n"
     ]
    },
    {
     "name": "stdout",
     "output_type": "stream",
     "text": [
      "/home/craig.car/repos/chiron/chironata/data/alignments_rslts/urn:cts:greekLit:tlg0007.tlg120_plutarch_1898_ethical\n",
      "working on urn:cts:greekLit:tlg0007.tlg141_plutarch_1898_ethical\n"
     ]
    },
    {
     "name": "stderr",
     "output_type": "stream",
     "text": [
      "2023-11-29 10:26:27,921  WARNI  expected an embedding size of 1024, got 768\n",
      "2023-11-29 10:26:28,267  WARNI  expected an embedding size of 1024, got 768\n"
     ]
    },
    {
     "name": "stdout",
     "output_type": "stream",
     "text": [
      "/home/craig.car/repos/chiron/chironata/data/alignments_rslts/urn:cts:greekLit:tlg0007.tlg141_plutarch_1898_ethical\n",
      "working on urn:cts:greekLit:tlg0011.tlg001_sophocles_1905\n"
     ]
    },
    {
     "name": "stderr",
     "output_type": "stream",
     "text": [
      "2023-11-29 10:26:33,822  WARNI  expected an embedding size of 1024, got 768\n",
      "2023-11-29 10:26:34,358  WARNI  expected an embedding size of 1024, got 768\n"
     ]
    },
    {
     "name": "stdout",
     "output_type": "stream",
     "text": [
      "/home/craig.car/repos/chiron/chironata/data/alignments_rslts/urn:cts:greekLit:tlg0011.tlg001_sophocles_1905\n",
      "working on urn:cts:greekLit:tlg0011.tlg002_sophocles_1905\n"
     ]
    },
    {
     "name": "stderr",
     "output_type": "stream",
     "text": [
      "2023-11-29 10:26:45,730  WARNI  expected an embedding size of 1024, got 768\n",
      "2023-11-29 10:26:46,156  WARNI  expected an embedding size of 1024, got 768\n"
     ]
    },
    {
     "name": "stdout",
     "output_type": "stream",
     "text": [
      "/home/craig.car/repos/chiron/chironata/data/alignments_rslts/urn:cts:greekLit:tlg0011.tlg002_sophocles_1905\n",
      "working on urn:cts:greekLit:tlg0011.tlg002_greekDramas_1912\n"
     ]
    },
    {
     "name": "stderr",
     "output_type": "stream",
     "text": [
      "2023-11-29 10:26:57,548  WARNI  expected an embedding size of 1024, got 768\n",
      "2023-11-29 10:26:58,019  WARNI  expected an embedding size of 1024, got 768\n"
     ]
    },
    {
     "name": "stdout",
     "output_type": "stream",
     "text": [
      "/home/craig.car/repos/chiron/chironata/data/alignments_rslts/urn:cts:greekLit:tlg0011.tlg002_greekDramas_1912\n",
      "working on urn:cts:greekLit:tlg0011.tlg003_sophocles_1905\n"
     ]
    },
    {
     "name": "stderr",
     "output_type": "stream",
     "text": [
      "2023-11-29 10:27:08,219  WARNI  expected an embedding size of 1024, got 768\n",
      "2023-11-29 10:27:08,637  WARNI  expected an embedding size of 1024, got 768\n"
     ]
    },
    {
     "name": "stdout",
     "output_type": "stream",
     "text": [
      "/home/craig.car/repos/chiron/chironata/data/alignments_rslts/urn:cts:greekLit:tlg0011.tlg003_sophocles_1905\n",
      "working on urn:cts:greekLit:tlg0011.tlg004_sophocles_1905\n"
     ]
    },
    {
     "name": "stderr",
     "output_type": "stream",
     "text": [
      "2023-11-29 10:27:20,424  WARNI  expected an embedding size of 1024, got 768\n",
      "2023-11-29 10:27:20,843  WARNI  expected an embedding size of 1024, got 768\n"
     ]
    },
    {
     "name": "stdout",
     "output_type": "stream",
     "text": [
      "/home/craig.car/repos/chiron/chironata/data/alignments_rslts/urn:cts:greekLit:tlg0011.tlg004_sophocles_1905\n",
      "working on urn:cts:greekLit:tlg0011.tlg004_greekDramas_1912\n"
     ]
    },
    {
     "name": "stderr",
     "output_type": "stream",
     "text": [
      "2023-11-29 10:27:32,647  WARNI  expected an embedding size of 1024, got 768\n",
      "2023-11-29 10:27:33,045  WARNI  expected an embedding size of 1024, got 768\n"
     ]
    },
    {
     "name": "stdout",
     "output_type": "stream",
     "text": [
      "/home/craig.car/repos/chiron/chironata/data/alignments_rslts/urn:cts:greekLit:tlg0011.tlg004_greekDramas_1912\n",
      "working on urn:cts:greekLit:tlg0011.tlg005_sophocles_1905\n"
     ]
    },
    {
     "name": "stderr",
     "output_type": "stream",
     "text": [
      "2023-11-29 10:27:44,066  WARNI  expected an embedding size of 1024, got 768\n",
      "2023-11-29 10:27:44,489  WARNI  expected an embedding size of 1024, got 768\n"
     ]
    },
    {
     "name": "stdout",
     "output_type": "stream",
     "text": [
      "/home/craig.car/repos/chiron/chironata/data/alignments_rslts/urn:cts:greekLit:tlg0011.tlg005_sophocles_1905\n",
      "working on urn:cts:greekLit:tlg0011.tlg006_sophocles_1905\n"
     ]
    },
    {
     "name": "stderr",
     "output_type": "stream",
     "text": [
      "2023-11-29 10:27:56,087  WARNI  expected an embedding size of 1024, got 768\n",
      "2023-11-29 10:27:56,525  WARNI  expected an embedding size of 1024, got 768\n"
     ]
    },
    {
     "name": "stdout",
     "output_type": "stream",
     "text": [
      "/home/craig.car/repos/chiron/chironata/data/alignments_rslts/urn:cts:greekLit:tlg0011.tlg006_sophocles_1905\n",
      "working on urn:cts:greekLit:tlg0011.tlg007_sophocles_1905\n"
     ]
    },
    {
     "name": "stderr",
     "output_type": "stream",
     "text": [
      "2023-11-29 10:28:08,956  WARNI  expected an embedding size of 1024, got 768\n",
      "2023-11-29 10:28:09,373  WARNI  expected an embedding size of 1024, got 768\n"
     ]
    },
    {
     "name": "stdout",
     "output_type": "stream",
     "text": [
      "/home/craig.car/repos/chiron/chironata/data/alignments_rslts/urn:cts:greekLit:tlg0011.tlg007_sophocles_1905\n",
      "working on urn:cts:greekLit:tlg0012.tlg001_homer_1843\n"
     ]
    },
    {
     "name": "stderr",
     "output_type": "stream",
     "text": [
      "2023-11-29 10:28:21,537  WARNI  expected an embedding size of 1024, got 768\n",
      "2023-11-29 10:28:22,290  WARNI  expected an embedding size of 1024, got 768\n"
     ]
    },
    {
     "name": "stdout",
     "output_type": "stream",
     "text": [
      "/home/craig.car/repos/chiron/chironata/data/alignments_rslts/urn:cts:greekLit:tlg0012.tlg001_homer_1843\n",
      "working on urn:cts:greekLit:tlg0012.tlg001_homer_1909\n"
     ]
    },
    {
     "name": "stderr",
     "output_type": "stream",
     "text": [
      "2023-11-29 10:28:41,062  WARNI  expected an embedding size of 1024, got 768\n",
      "2023-11-29 10:28:41,869  WARNI  expected an embedding size of 1024, got 768\n"
     ]
    },
    {
     "name": "stdout",
     "output_type": "stream",
     "text": [
      "/home/craig.car/repos/chiron/chironata/data/alignments_rslts/urn:cts:greekLit:tlg0012.tlg001_homer_1909\n",
      "working on urn:cts:greekLit:tlg0012.tlg002_homer_1902\n"
     ]
    },
    {
     "name": "stderr",
     "output_type": "stream",
     "text": [
      "2023-11-29 10:29:01,167  WARNI  expected an embedding size of 1024, got 768\n",
      "2023-11-29 10:29:01,705  WARNI  expected an embedding size of 1024, got 768\n"
     ]
    },
    {
     "name": "stdout",
     "output_type": "stream",
     "text": [
      "/home/craig.car/repos/chiron/chironata/data/alignments_rslts/urn:cts:greekLit:tlg0012.tlg002_homer_1902\n",
      "working on urn:cts:greekLit:tlg0012.tlg002_homer_1843\n"
     ]
    },
    {
     "name": "stderr",
     "output_type": "stream",
     "text": [
      "2023-11-29 10:29:16,787  WARNI  expected an embedding size of 1024, got 768\n",
      "2023-11-29 10:29:17,367  WARNI  expected an embedding size of 1024, got 768\n"
     ]
    },
    {
     "name": "stdout",
     "output_type": "stream",
     "text": [
      "/home/craig.car/repos/chiron/chironata/data/alignments_rslts/urn:cts:greekLit:tlg0012.tlg002_homer_1843\n",
      "working on urn:cts:greekLit:tlg0014.tlg004_demosthenes_1902\n"
     ]
    },
    {
     "name": "stderr",
     "output_type": "stream",
     "text": [
      "2023-11-29 10:29:35,639  WARNI  expected an embedding size of 1024, got 768\n",
      "2023-11-29 10:29:36,074  WARNI  expected an embedding size of 1024, got 768\n"
     ]
    },
    {
     "name": "stdout",
     "output_type": "stream",
     "text": [
      "/home/craig.car/repos/chiron/chironata/data/alignments_rslts/urn:cts:greekLit:tlg0014.tlg004_demosthenes_1902\n",
      "working on urn:cts:greekLit:tlg0014.tlg006_demosthenes_1902\n"
     ]
    },
    {
     "name": "stderr",
     "output_type": "stream",
     "text": [
      "2023-11-29 10:29:43,086  WARNI  expected an embedding size of 1024, got 768\n",
      "2023-11-29 10:29:43,445  WARNI  expected an embedding size of 1024, got 768\n"
     ]
    },
    {
     "name": "stdout",
     "output_type": "stream",
     "text": [
      "/home/craig.car/repos/chiron/chironata/data/alignments_rslts/urn:cts:greekLit:tlg0014.tlg006_demosthenes_1902\n",
      "working on urn:cts:greekLit:tlg0014.tlg009_demosthenes_1902\n"
     ]
    },
    {
     "name": "stderr",
     "output_type": "stream",
     "text": [
      "2023-11-29 10:29:50,231  WARNI  expected an embedding size of 1024, got 768\n",
      "2023-11-29 10:29:50,578  WARNI  expected an embedding size of 1024, got 768\n"
     ]
    },
    {
     "name": "stdout",
     "output_type": "stream",
     "text": [
      "/home/craig.car/repos/chiron/chironata/data/alignments_rslts/urn:cts:greekLit:tlg0014.tlg009_demosthenes_1902\n",
      "working on urn:cts:greekLit:tlg0014.tlg018_demosthenes_1855\n"
     ]
    },
    {
     "name": "stderr",
     "output_type": "stream",
     "text": [
      "2023-11-29 10:29:57,877  WARNI  expected an embedding size of 1024, got 768\n",
      "2023-11-29 10:29:58,342  WARNI  expected an embedding size of 1024, got 768\n"
     ]
    },
    {
     "name": "stdout",
     "output_type": "stream",
     "text": [
      "/home/craig.car/repos/chiron/chironata/data/alignments_rslts/urn:cts:greekLit:tlg0014.tlg018_demosthenes_1855\n",
      "working on urn:cts:greekLit:tlg0014.tlg019_demosthenes_1855\n"
     ]
    },
    {
     "name": "stderr",
     "output_type": "stream",
     "text": [
      "2023-11-29 10:30:07,534  WARNI  expected an embedding size of 1024, got 768\n",
      "2023-11-29 10:30:07,940  WARNI  expected an embedding size of 1024, got 768\n"
     ]
    },
    {
     "name": "stdout",
     "output_type": "stream",
     "text": [
      "/home/craig.car/repos/chiron/chironata/data/alignments_rslts/urn:cts:greekLit:tlg0014.tlg019_demosthenes_1855\n",
      "working on urn:cts:greekLit:tlg0014.tlg020_demosthenes_1856\n"
     ]
    },
    {
     "name": "stderr",
     "output_type": "stream",
     "text": [
      "2023-11-29 10:30:16,873  WARNI  expected an embedding size of 1024, got 768\n",
      "2023-11-29 10:30:17,343  WARNI  expected an embedding size of 1024, got 768\n"
     ]
    },
    {
     "name": "stdout",
     "output_type": "stream",
     "text": [
      "/home/craig.car/repos/chiron/chironata/data/alignments_rslts/urn:cts:greekLit:tlg0014.tlg020_demosthenes_1856\n",
      "working on urn:cts:greekLit:tlg0014.tlg021_demosthenes_1856\n"
     ]
    },
    {
     "name": "stderr",
     "output_type": "stream",
     "text": [
      "2023-11-29 10:30:24,985  WARNI  expected an embedding size of 1024, got 768\n",
      "2023-11-29 10:30:25,377  WARNI  expected an embedding size of 1024, got 768\n"
     ]
    },
    {
     "name": "stdout",
     "output_type": "stream",
     "text": [
      "/home/craig.car/repos/chiron/chironata/data/alignments_rslts/urn:cts:greekLit:tlg0014.tlg021_demosthenes_1856\n",
      "working on urn:cts:greekLit:tlg0014.tlg022_demosthenes_1856\n"
     ]
    },
    {
     "name": "stderr",
     "output_type": "stream",
     "text": [
      "2023-11-29 10:30:32,654  WARNI  expected an embedding size of 1024, got 768\n",
      "2023-11-29 10:30:33,032  WARNI  expected an embedding size of 1024, got 768\n"
     ]
    },
    {
     "name": "stdout",
     "output_type": "stream",
     "text": [
      "/home/craig.car/repos/chiron/chironata/data/alignments_rslts/urn:cts:greekLit:tlg0014.tlg022_demosthenes_1856\n",
      "working on urn:cts:greekLit:tlg0014.tlg023_demosthenes_1856\n"
     ]
    },
    {
     "name": "stderr",
     "output_type": "stream",
     "text": [
      "2023-11-29 10:30:40,576  WARNI  expected an embedding size of 1024, got 768\n",
      "2023-11-29 10:30:40,965  WARNI  expected an embedding size of 1024, got 768\n"
     ]
    },
    {
     "name": "stdout",
     "output_type": "stream",
     "text": [
      "/home/craig.car/repos/chiron/chironata/data/alignments_rslts/urn:cts:greekLit:tlg0014.tlg023_demosthenes_1856\n",
      "working on urn:cts:greekLit:tlg0014.tlg024_demosthenes_1877\n"
     ]
    },
    {
     "name": "stderr",
     "output_type": "stream",
     "text": [
      "2023-11-29 10:30:48,353  WARNI  expected an embedding size of 1024, got 768\n",
      "2023-11-29 10:30:48,893  WARNI  expected an embedding size of 1024, got 768\n"
     ]
    },
    {
     "name": "stdout",
     "output_type": "stream",
     "text": [
      "/home/craig.car/repos/chiron/chironata/data/alignments_rslts/urn:cts:greekLit:tlg0014.tlg024_demosthenes_1877\n",
      "working on urn:cts:greekLit:tlg0014.tlg025_demosthenes_1877\n"
     ]
    },
    {
     "name": "stderr",
     "output_type": "stream",
     "text": [
      "2023-11-29 10:30:57,798  WARNI  expected an embedding size of 1024, got 768\n",
      "2023-11-29 10:30:58,225  WARNI  expected an embedding size of 1024, got 768\n"
     ]
    },
    {
     "name": "stdout",
     "output_type": "stream",
     "text": [
      "/home/craig.car/repos/chiron/chironata/data/alignments_rslts/urn:cts:greekLit:tlg0014.tlg025_demosthenes_1877\n",
      "working on urn:cts:greekLit:tlg0014.tlg026_demosthenes_1877\n"
     ]
    },
    {
     "name": "stderr",
     "output_type": "stream",
     "text": [
      "2023-11-29 10:31:06,077  WARNI  expected an embedding size of 1024, got 768\n",
      "2023-11-29 10:31:06,480  WARNI  expected an embedding size of 1024, got 768\n"
     ]
    },
    {
     "name": "stdout",
     "output_type": "stream",
     "text": [
      "/home/craig.car/repos/chiron/chironata/data/alignments_rslts/urn:cts:greekLit:tlg0014.tlg026_demosthenes_1877\n",
      "working on urn:cts:greekLit:tlg0014.tlg027_demosthenes_1877\n"
     ]
    },
    {
     "name": "stderr",
     "output_type": "stream",
     "text": [
      "2023-11-29 10:31:13,429  WARNI  expected an embedding size of 1024, got 768\n",
      "2023-11-29 10:31:13,835  WARNI  expected an embedding size of 1024, got 768\n"
     ]
    },
    {
     "name": "stdout",
     "output_type": "stream",
     "text": [
      "/home/craig.car/repos/chiron/chironata/data/alignments_rslts/urn:cts:greekLit:tlg0014.tlg027_demosthenes_1877\n",
      "working on urn:cts:greekLit:tlg0014.tlg028_demosthenes_1877\n"
     ]
    },
    {
     "name": "stderr",
     "output_type": "stream",
     "text": [
      "2023-11-29 10:31:21,879  WARNI  expected an embedding size of 1024, got 768\n",
      "2023-11-29 10:31:22,284  WARNI  expected an embedding size of 1024, got 768\n"
     ]
    },
    {
     "name": "stdout",
     "output_type": "stream",
     "text": [
      "/home/craig.car/repos/chiron/chironata/data/alignments_rslts/urn:cts:greekLit:tlg0014.tlg028_demosthenes_1877\n",
      "working on urn:cts:greekLit:tlg0014.tlg029_demosthenes_1877\n"
     ]
    },
    {
     "name": "stderr",
     "output_type": "stream",
     "text": [
      "2023-11-29 10:31:29,908  WARNI  expected an embedding size of 1024, got 768\n",
      "2023-11-29 10:31:30,312  WARNI  expected an embedding size of 1024, got 768\n"
     ]
    },
    {
     "name": "stdout",
     "output_type": "stream",
     "text": [
      "/home/craig.car/repos/chiron/chironata/data/alignments_rslts/urn:cts:greekLit:tlg0014.tlg029_demosthenes_1877\n",
      "working on urn:cts:greekLit:tlg0014.tlg030_demosthenes_1877\n"
     ]
    },
    {
     "name": "stderr",
     "output_type": "stream",
     "text": [
      "2023-11-29 10:31:38,391  WARNI  expected an embedding size of 1024, got 768\n",
      "2023-11-29 10:31:38,803  WARNI  expected an embedding size of 1024, got 768\n"
     ]
    },
    {
     "name": "stdout",
     "output_type": "stream",
     "text": [
      "/home/craig.car/repos/chiron/chironata/data/alignments_rslts/urn:cts:greekLit:tlg0014.tlg030_demosthenes_1877\n",
      "working on urn:cts:greekLit:tlg0014.tlg031_demosthenes_1877\n"
     ]
    },
    {
     "name": "stderr",
     "output_type": "stream",
     "text": [
      "2023-11-29 10:31:46,743  WARNI  expected an embedding size of 1024, got 768\n",
      "2023-11-29 10:31:47,162  WARNI  expected an embedding size of 1024, got 768\n"
     ]
    },
    {
     "name": "stdout",
     "output_type": "stream",
     "text": [
      "/home/craig.car/repos/chiron/chironata/data/alignments_rslts/urn:cts:greekLit:tlg0014.tlg031_demosthenes_1877\n",
      "working on urn:cts:greekLit:tlg0014.tlg032_demosthenes_1877\n"
     ]
    },
    {
     "name": "stderr",
     "output_type": "stream",
     "text": [
      "2023-11-29 10:31:54,285  WARNI  expected an embedding size of 1024, got 768\n",
      "2023-11-29 10:31:54,691  WARNI  expected an embedding size of 1024, got 768\n"
     ]
    },
    {
     "name": "stdout",
     "output_type": "stream",
     "text": [
      "/home/craig.car/repos/chiron/chironata/data/alignments_rslts/urn:cts:greekLit:tlg0014.tlg032_demosthenes_1877\n",
      "working on urn:cts:greekLit:tlg0014.tlg033_demosthenes_1877\n"
     ]
    },
    {
     "name": "stderr",
     "output_type": "stream",
     "text": [
      "2023-11-29 10:32:01,896  WARNI  expected an embedding size of 1024, got 768\n",
      "2023-11-29 10:32:02,306  WARNI  expected an embedding size of 1024, got 768\n"
     ]
    },
    {
     "name": "stdout",
     "output_type": "stream",
     "text": [
      "/home/craig.car/repos/chiron/chironata/data/alignments_rslts/urn:cts:greekLit:tlg0014.tlg033_demosthenes_1877\n",
      "working on urn:cts:greekLit:tlg0014.tlg034_demosthenes_1877\n"
     ]
    },
    {
     "name": "stderr",
     "output_type": "stream",
     "text": [
      "2023-11-29 10:32:09,406  WARNI  expected an embedding size of 1024, got 768\n",
      "2023-11-29 10:32:09,818  WARNI  expected an embedding size of 1024, got 768\n"
     ]
    },
    {
     "name": "stdout",
     "output_type": "stream",
     "text": [
      "/home/craig.car/repos/chiron/chironata/data/alignments_rslts/urn:cts:greekLit:tlg0014.tlg034_demosthenes_1877\n",
      "working on urn:cts:greekLit:tlg0014.tlg035_demosthenes_1877\n"
     ]
    },
    {
     "name": "stderr",
     "output_type": "stream",
     "text": [
      "2023-11-29 10:32:17,176  WARNI  expected an embedding size of 1024, got 768\n",
      "2023-11-29 10:32:17,586  WARNI  expected an embedding size of 1024, got 768\n"
     ]
    },
    {
     "name": "stdout",
     "output_type": "stream",
     "text": [
      "/home/craig.car/repos/chiron/chironata/data/alignments_rslts/urn:cts:greekLit:tlg0014.tlg035_demosthenes_1877\n",
      "working on urn:cts:greekLit:tlg0014.tlg036_demosthenes_1877\n"
     ]
    },
    {
     "name": "stderr",
     "output_type": "stream",
     "text": [
      "2023-11-29 10:32:25,824  WARNI  expected an embedding size of 1024, got 768\n",
      "2023-11-29 10:32:26,238  WARNI  expected an embedding size of 1024, got 768\n"
     ]
    },
    {
     "name": "stdout",
     "output_type": "stream",
     "text": [
      "/home/craig.car/repos/chiron/chironata/data/alignments_rslts/urn:cts:greekLit:tlg0014.tlg036_demosthenes_1877\n",
      "working on urn:cts:greekLit:tlg0014.tlg037_demosthenes_1877\n"
     ]
    },
    {
     "name": "stderr",
     "output_type": "stream",
     "text": [
      "2023-11-29 10:32:34,959  WARNI  expected an embedding size of 1024, got 768\n",
      "2023-11-29 10:32:35,379  WARNI  expected an embedding size of 1024, got 768\n"
     ]
    },
    {
     "name": "stdout",
     "output_type": "stream",
     "text": [
      "/home/craig.car/repos/chiron/chironata/data/alignments_rslts/urn:cts:greekLit:tlg0014.tlg037_demosthenes_1877\n",
      "working on urn:cts:greekLit:tlg0014.tlg038_demosthenes_1877\n"
     ]
    },
    {
     "name": "stderr",
     "output_type": "stream",
     "text": [
      "2023-11-29 10:32:43,419  WARNI  expected an embedding size of 1024, got 768\n",
      "2023-11-29 10:32:43,831  WARNI  expected an embedding size of 1024, got 768\n"
     ]
    },
    {
     "name": "stdout",
     "output_type": "stream",
     "text": [
      "/home/craig.car/repos/chiron/chironata/data/alignments_rslts/urn:cts:greekLit:tlg0014.tlg038_demosthenes_1877\n",
      "working on urn:cts:greekLit:tlg0014.tlg039_demosthenes_1877\n"
     ]
    },
    {
     "name": "stderr",
     "output_type": "stream",
     "text": [
      "2023-11-29 10:32:50,930  WARNI  expected an embedding size of 1024, got 768\n",
      "2023-11-29 10:32:51,352  WARNI  expected an embedding size of 1024, got 768\n"
     ]
    },
    {
     "name": "stdout",
     "output_type": "stream",
     "text": [
      "/home/craig.car/repos/chiron/chironata/data/alignments_rslts/urn:cts:greekLit:tlg0014.tlg039_demosthenes_1877\n",
      "working on urn:cts:greekLit:tlg0014.tlg040_demosthenes_1877\n"
     ]
    },
    {
     "name": "stderr",
     "output_type": "stream",
     "text": [
      "2023-11-29 10:32:58,925  WARNI  expected an embedding size of 1024, got 768\n",
      "2023-11-29 10:32:59,341  WARNI  expected an embedding size of 1024, got 768\n"
     ]
    },
    {
     "name": "stdout",
     "output_type": "stream",
     "text": [
      "/home/craig.car/repos/chiron/chironata/data/alignments_rslts/urn:cts:greekLit:tlg0014.tlg040_demosthenes_1877\n",
      "working on urn:cts:greekLit:tlg0014.tlg041_demosthenes_1877\n"
     ]
    },
    {
     "name": "stderr",
     "output_type": "stream",
     "text": [
      "2023-11-29 10:33:06,419  WARNI  expected an embedding size of 1024, got 768\n",
      "2023-11-29 10:33:06,832  WARNI  expected an embedding size of 1024, got 768\n"
     ]
    },
    {
     "name": "stdout",
     "output_type": "stream",
     "text": [
      "/home/craig.car/repos/chiron/chironata/data/alignments_rslts/urn:cts:greekLit:tlg0014.tlg041_demosthenes_1877\n",
      "working on urn:cts:greekLit:tlg0014.tlg042_demosthenes_1877\n"
     ]
    },
    {
     "name": "stderr",
     "output_type": "stream",
     "text": [
      "2023-11-29 10:33:14,200  WARNI  expected an embedding size of 1024, got 768\n",
      "2023-11-29 10:33:14,615  WARNI  expected an embedding size of 1024, got 768\n"
     ]
    },
    {
     "name": "stdout",
     "output_type": "stream",
     "text": [
      "/home/craig.car/repos/chiron/chironata/data/alignments_rslts/urn:cts:greekLit:tlg0014.tlg042_demosthenes_1877\n",
      "working on urn:cts:greekLit:tlg0014.tlg043_demosthenes_1902\n"
     ]
    },
    {
     "name": "stderr",
     "output_type": "stream",
     "text": [
      "2023-11-29 10:33:22,181  WARNI  expected an embedding size of 1024, got 768\n",
      "2023-11-29 10:33:22,544  WARNI  expected an embedding size of 1024, got 768\n"
     ]
    },
    {
     "name": "stdout",
     "output_type": "stream",
     "text": [
      "/home/craig.car/repos/chiron/chironata/data/alignments_rslts/urn:cts:greekLit:tlg0014.tlg043_demosthenes_1902\n",
      "working on urn:cts:greekLit:tlg0014.tlg044_demosthenes_1902\n"
     ]
    },
    {
     "name": "stderr",
     "output_type": "stream",
     "text": [
      "2023-11-29 10:33:30,462  WARNI  expected an embedding size of 1024, got 768\n",
      "2023-11-29 10:33:30,823  WARNI  expected an embedding size of 1024, got 768\n"
     ]
    },
    {
     "name": "stdout",
     "output_type": "stream",
     "text": [
      "/home/craig.car/repos/chiron/chironata/data/alignments_rslts/urn:cts:greekLit:tlg0014.tlg044_demosthenes_1902\n",
      "working on urn:cts:greekLit:tlg0014.tlg045_demosthenes_1902\n"
     ]
    },
    {
     "name": "stderr",
     "output_type": "stream",
     "text": [
      "2023-11-29 10:33:37,709  WARNI  expected an embedding size of 1024, got 768\n",
      "2023-11-29 10:33:38,088  WARNI  expected an embedding size of 1024, got 768\n"
     ]
    },
    {
     "name": "stdout",
     "output_type": "stream",
     "text": [
      "/home/craig.car/repos/chiron/chironata/data/alignments_rslts/urn:cts:greekLit:tlg0014.tlg045_demosthenes_1902\n",
      "working on urn:cts:greekLit:tlg0014.tlg046_demosthenes_1902\n"
     ]
    },
    {
     "name": "stderr",
     "output_type": "stream",
     "text": [
      "2023-11-29 10:33:44,936  WARNI  expected an embedding size of 1024, got 768\n",
      "2023-11-29 10:33:45,296  WARNI  expected an embedding size of 1024, got 768\n"
     ]
    },
    {
     "name": "stdout",
     "output_type": "stream",
     "text": [
      "/home/craig.car/repos/chiron/chironata/data/alignments_rslts/urn:cts:greekLit:tlg0014.tlg046_demosthenes_1902\n",
      "working on urn:cts:greekLit:tlg0014.tlg047_demosthenes_1902\n"
     ]
    },
    {
     "name": "stderr",
     "output_type": "stream",
     "text": [
      "2023-11-29 10:33:51,494  WARNI  expected an embedding size of 1024, got 768\n",
      "2023-11-29 10:33:51,858  WARNI  expected an embedding size of 1024, got 768\n"
     ]
    },
    {
     "name": "stdout",
     "output_type": "stream",
     "text": [
      "/home/craig.car/repos/chiron/chironata/data/alignments_rslts/urn:cts:greekLit:tlg0014.tlg047_demosthenes_1902\n",
      "working on urn:cts:greekLit:tlg0014.tlg048_demosthenes_1902\n"
     ]
    },
    {
     "name": "stderr",
     "output_type": "stream",
     "text": [
      "2023-11-29 10:33:58,829  WARNI  expected an embedding size of 1024, got 768\n",
      "2023-11-29 10:33:59,191  WARNI  expected an embedding size of 1024, got 768\n"
     ]
    },
    {
     "name": "stdout",
     "output_type": "stream",
     "text": [
      "/home/craig.car/repos/chiron/chironata/data/alignments_rslts/urn:cts:greekLit:tlg0014.tlg048_demosthenes_1902\n",
      "working on urn:cts:greekLit:tlg0014.tlg049_demosthenes_1902\n"
     ]
    },
    {
     "name": "stderr",
     "output_type": "stream",
     "text": [
      "2023-11-29 10:34:06,276  WARNI  expected an embedding size of 1024, got 768\n",
      "2023-11-29 10:34:06,640  WARNI  expected an embedding size of 1024, got 768\n"
     ]
    },
    {
     "name": "stdout",
     "output_type": "stream",
     "text": [
      "/home/craig.car/repos/chiron/chironata/data/alignments_rslts/urn:cts:greekLit:tlg0014.tlg049_demosthenes_1902\n",
      "working on urn:cts:greekLit:tlg0014.tlg050_demosthenes_1902\n"
     ]
    },
    {
     "name": "stderr",
     "output_type": "stream",
     "text": [
      "2023-11-29 10:34:14,251  WARNI  expected an embedding size of 1024, got 768\n",
      "2023-11-29 10:34:14,625  WARNI  expected an embedding size of 1024, got 768\n"
     ]
    },
    {
     "name": "stdout",
     "output_type": "stream",
     "text": [
      "/home/craig.car/repos/chiron/chironata/data/alignments_rslts/urn:cts:greekLit:tlg0014.tlg050_demosthenes_1902\n",
      "working on urn:cts:greekLit:tlg0014.tlg051_demosthenes_1902\n"
     ]
    },
    {
     "name": "stderr",
     "output_type": "stream",
     "text": [
      "2023-11-29 10:34:21,138  WARNI  expected an embedding size of 1024, got 768\n",
      "2023-11-29 10:34:21,500  WARNI  expected an embedding size of 1024, got 768\n"
     ]
    },
    {
     "name": "stdout",
     "output_type": "stream",
     "text": [
      "/home/craig.car/repos/chiron/chironata/data/alignments_rslts/urn:cts:greekLit:tlg0014.tlg051_demosthenes_1902\n",
      "working on urn:cts:greekLit:tlg0014.tlg052_demosthenes_1902\n"
     ]
    },
    {
     "name": "stderr",
     "output_type": "stream",
     "text": [
      "2023-11-29 10:34:27,917  WARNI  expected an embedding size of 1024, got 768\n",
      "2023-11-29 10:34:28,289  WARNI  expected an embedding size of 1024, got 768\n"
     ]
    },
    {
     "name": "stdout",
     "output_type": "stream",
     "text": [
      "/home/craig.car/repos/chiron/chironata/data/alignments_rslts/urn:cts:greekLit:tlg0014.tlg052_demosthenes_1902\n",
      "working on urn:cts:greekLit:tlg0014.tlg053_demosthenes_1902\n"
     ]
    },
    {
     "name": "stderr",
     "output_type": "stream",
     "text": [
      "2023-11-29 10:34:35,313  WARNI  expected an embedding size of 1024, got 768\n",
      "2023-11-29 10:34:35,698  WARNI  expected an embedding size of 1024, got 768\n"
     ]
    },
    {
     "name": "stdout",
     "output_type": "stream",
     "text": [
      "/home/craig.car/repos/chiron/chironata/data/alignments_rslts/urn:cts:greekLit:tlg0014.tlg053_demosthenes_1902\n",
      "working on urn:cts:greekLit:tlg0014.tlg054_demosthenes_1902\n"
     ]
    },
    {
     "name": "stderr",
     "output_type": "stream",
     "text": [
      "2023-11-29 10:34:42,373  WARNI  expected an embedding size of 1024, got 768\n",
      "2023-11-29 10:34:42,749  WARNI  expected an embedding size of 1024, got 768\n"
     ]
    },
    {
     "name": "stdout",
     "output_type": "stream",
     "text": [
      "/home/craig.car/repos/chiron/chironata/data/alignments_rslts/urn:cts:greekLit:tlg0014.tlg054_demosthenes_1902\n",
      "working on urn:cts:greekLit:tlg0014.tlg055_demosthenes_1902\n"
     ]
    },
    {
     "name": "stderr",
     "output_type": "stream",
     "text": [
      "2023-11-29 10:34:49,162  WARNI  expected an embedding size of 1024, got 768\n",
      "2023-11-29 10:34:49,530  WARNI  expected an embedding size of 1024, got 768\n"
     ]
    },
    {
     "name": "stdout",
     "output_type": "stream",
     "text": [
      "/home/craig.car/repos/chiron/chironata/data/alignments_rslts/urn:cts:greekLit:tlg0014.tlg055_demosthenes_1902\n",
      "working on urn:cts:greekLit:tlg0014.tlg056_demosthenes_1902\n"
     ]
    },
    {
     "name": "stderr",
     "output_type": "stream",
     "text": [
      "2023-11-29 10:34:55,921  WARNI  expected an embedding size of 1024, got 768\n",
      "2023-11-29 10:34:56,286  WARNI  expected an embedding size of 1024, got 768\n"
     ]
    },
    {
     "name": "stdout",
     "output_type": "stream",
     "text": [
      "/home/craig.car/repos/chiron/chironata/data/alignments_rslts/urn:cts:greekLit:tlg0014.tlg056_demosthenes_1902\n",
      "working on urn:cts:greekLit:tlg0014.tlg057_demosthenes_1902\n"
     ]
    },
    {
     "name": "stderr",
     "output_type": "stream",
     "text": [
      "2023-11-29 10:35:03,383  WARNI  expected an embedding size of 1024, got 768\n",
      "2023-11-29 10:35:03,754  WARNI  expected an embedding size of 1024, got 768\n"
     ]
    },
    {
     "name": "stdout",
     "output_type": "stream",
     "text": [
      "/home/craig.car/repos/chiron/chironata/data/alignments_rslts/urn:cts:greekLit:tlg0014.tlg057_demosthenes_1902\n",
      "working on urn:cts:greekLit:tlg0014.tlg058_demosthenes_1902\n"
     ]
    },
    {
     "name": "stderr",
     "output_type": "stream",
     "text": [
      "2023-11-29 10:35:10,381  WARNI  expected an embedding size of 1024, got 768\n",
      "2023-11-29 10:35:10,755  WARNI  expected an embedding size of 1024, got 768\n"
     ]
    },
    {
     "name": "stdout",
     "output_type": "stream",
     "text": [
      "/home/craig.car/repos/chiron/chironata/data/alignments_rslts/urn:cts:greekLit:tlg0014.tlg058_demosthenes_1902\n",
      "working on urn:cts:greekLit:tlg0014.tlg059_demosthenes_1902\n"
     ]
    },
    {
     "name": "stderr",
     "output_type": "stream",
     "text": [
      "2023-11-29 10:35:17,842  WARNI  expected an embedding size of 1024, got 768\n",
      "2023-11-29 10:35:18,225  WARNI  expected an embedding size of 1024, got 768\n"
     ]
    },
    {
     "name": "stdout",
     "output_type": "stream",
     "text": [
      "/home/craig.car/repos/chiron/chironata/data/alignments_rslts/urn:cts:greekLit:tlg0014.tlg059_demosthenes_1902\n",
      "working on urn:cts:greekLit:tlg0014.tlg060_demosthenes_1902\n"
     ]
    },
    {
     "name": "stderr",
     "output_type": "stream",
     "text": [
      "2023-11-29 10:35:25,452  WARNI  expected an embedding size of 1024, got 768\n",
      "2023-11-29 10:35:25,863  WARNI  expected an embedding size of 1024, got 768\n"
     ]
    },
    {
     "name": "stdout",
     "output_type": "stream",
     "text": [
      "/home/craig.car/repos/chiron/chironata/data/alignments_rslts/urn:cts:greekLit:tlg0014.tlg060_demosthenes_1902\n",
      "working on urn:cts:greekLit:tlg0014.tlg061_demosthenes_1902\n"
     ]
    },
    {
     "name": "stderr",
     "output_type": "stream",
     "text": [
      "2023-11-29 10:35:32,755  WARNI  expected an embedding size of 1024, got 768\n",
      "2023-11-29 10:35:33,124  WARNI  expected an embedding size of 1024, got 768\n"
     ]
    },
    {
     "name": "stdout",
     "output_type": "stream",
     "text": [
      "/home/craig.car/repos/chiron/chironata/data/alignments_rslts/urn:cts:greekLit:tlg0014.tlg061_demosthenes_1902\n",
      "working on urn:cts:greekLit:tlg0014.tlg062_demosthenes_1902\n"
     ]
    },
    {
     "name": "stderr",
     "output_type": "stream",
     "text": [
      "2023-11-29 10:35:40,352  WARNI  expected an embedding size of 1024, got 768\n",
      "2023-11-29 10:35:40,721  WARNI  expected an embedding size of 1024, got 768\n"
     ]
    },
    {
     "name": "stdout",
     "output_type": "stream",
     "text": [
      "/home/craig.car/repos/chiron/chironata/data/alignments_rslts/urn:cts:greekLit:tlg0014.tlg062_demosthenes_1902\n",
      "working on urn:cts:greekLit:tlg0014.tlg063_demosthenes_1902\n"
     ]
    },
    {
     "name": "stderr",
     "output_type": "stream",
     "text": [
      "2023-11-29 10:35:48,407  WARNI  expected an embedding size of 1024, got 768\n",
      "2023-11-29 10:35:48,782  WARNI  expected an embedding size of 1024, got 768\n"
     ]
    },
    {
     "name": "stdout",
     "output_type": "stream",
     "text": [
      "/home/craig.car/repos/chiron/chironata/data/alignments_rslts/urn:cts:greekLit:tlg0014.tlg063_demosthenes_1902\n",
      "working on urn:cts:greekLit:tlg0016.tlg001_herodotus_1879\n"
     ]
    },
    {
     "name": "stderr",
     "output_type": "stream",
     "text": [
      "2023-11-29 10:35:56,456  WARNI  expected an embedding size of 1024, got 768\n",
      "2023-11-29 10:35:57,241  WARNI  expected an embedding size of 1024, got 768\n"
     ]
    },
    {
     "name": "stdout",
     "output_type": "stream",
     "text": [
      "/home/craig.car/repos/chiron/chironata/data/alignments_rslts/urn:cts:greekLit:tlg0016.tlg001_herodotus_1879\n",
      "working on urn:cts:greekLit:tlg0018.tlg001_philo_1_1854\n"
     ]
    },
    {
     "name": "stderr",
     "output_type": "stream",
     "text": [
      "2023-11-29 10:36:17,568  WARNI  expected an embedding size of 1024, got 768\n",
      "2023-11-29 10:36:18,162  WARNI  expected an embedding size of 1024, got 768\n"
     ]
    },
    {
     "name": "stdout",
     "output_type": "stream",
     "text": [
      "/home/craig.car/repos/chiron/chironata/data/alignments_rslts/urn:cts:greekLit:tlg0018.tlg001_philo_1_1854\n",
      "working on urn:cts:greekLit:tlg0018.tlg002_philo_1_1854\n"
     ]
    },
    {
     "name": "stderr",
     "output_type": "stream",
     "text": [
      "2023-11-29 10:36:27,521  WARNI  expected an embedding size of 1024, got 768\n",
      "2023-11-29 10:36:27,986  WARNI  expected an embedding size of 1024, got 768\n"
     ]
    },
    {
     "name": "stdout",
     "output_type": "stream",
     "text": [
      "/home/craig.car/repos/chiron/chironata/data/alignments_rslts/urn:cts:greekLit:tlg0018.tlg002_philo_1_1854\n",
      "working on urn:cts:greekLit:tlg0018.tlg003_philo_1_1854\n"
     ]
    },
    {
     "name": "stderr",
     "output_type": "stream",
     "text": [
      "2023-11-29 10:36:37,824  WARNI  expected an embedding size of 1024, got 768\n",
      "2023-11-29 10:36:38,269  WARNI  expected an embedding size of 1024, got 768\n"
     ]
    },
    {
     "name": "stdout",
     "output_type": "stream",
     "text": [
      "/home/craig.car/repos/chiron/chironata/data/alignments_rslts/urn:cts:greekLit:tlg0018.tlg003_philo_1_1854\n",
      "working on urn:cts:greekLit:tlg0018.tlg004_philo_1_1854\n"
     ]
    },
    {
     "name": "stderr",
     "output_type": "stream",
     "text": [
      "2023-11-29 10:36:47,012  WARNI  expected an embedding size of 1024, got 768\n",
      "2023-11-29 10:36:47,462  WARNI  expected an embedding size of 1024, got 768\n"
     ]
    },
    {
     "name": "stdout",
     "output_type": "stream",
     "text": [
      "/home/craig.car/repos/chiron/chironata/data/alignments_rslts/urn:cts:greekLit:tlg0018.tlg004_philo_1_1854\n",
      "working on urn:cts:greekLit:tlg0018.tlg005_philo_1_1854\n"
     ]
    },
    {
     "name": "stderr",
     "output_type": "stream",
     "text": [
      "2023-11-29 10:36:56,022  WARNI  expected an embedding size of 1024, got 768\n",
      "2023-11-29 10:36:56,476  WARNI  expected an embedding size of 1024, got 768\n"
     ]
    },
    {
     "name": "stdout",
     "output_type": "stream",
     "text": [
      "/home/craig.car/repos/chiron/chironata/data/alignments_rslts/urn:cts:greekLit:tlg0018.tlg005_philo_1_1854\n",
      "working on urn:cts:greekLit:tlg0018.tlg006_philo_1_1854\n"
     ]
    },
    {
     "name": "stderr",
     "output_type": "stream",
     "text": [
      "2023-11-29 10:37:04,621  WARNI  expected an embedding size of 1024, got 768\n",
      "2023-11-29 10:37:05,072  WARNI  expected an embedding size of 1024, got 768\n"
     ]
    },
    {
     "name": "stdout",
     "output_type": "stream",
     "text": [
      "/home/craig.car/repos/chiron/chironata/data/alignments_rslts/urn:cts:greekLit:tlg0018.tlg006_philo_1_1854\n",
      "working on urn:cts:greekLit:tlg0018.tlg007_philo_1_1854\n"
     ]
    },
    {
     "name": "stderr",
     "output_type": "stream",
     "text": [
      "2023-11-29 10:37:13,999  WARNI  expected an embedding size of 1024, got 768\n",
      "2023-11-29 10:37:14,442  WARNI  expected an embedding size of 1024, got 768\n"
     ]
    },
    {
     "name": "stdout",
     "output_type": "stream",
     "text": [
      "/home/craig.car/repos/chiron/chironata/data/alignments_rslts/urn:cts:greekLit:tlg0018.tlg007_philo_1_1854\n",
      "working on urn:cts:greekLit:tlg0018.tlg008_philo_1_1854\n"
     ]
    },
    {
     "name": "stderr",
     "output_type": "stream",
     "text": [
      "2023-11-29 10:37:22,099  WARNI  expected an embedding size of 1024, got 768\n",
      "2023-11-29 10:37:22,541  WARNI  expected an embedding size of 1024, got 768\n"
     ]
    },
    {
     "name": "stdout",
     "output_type": "stream",
     "text": [
      "/home/craig.car/repos/chiron/chironata/data/alignments_rslts/urn:cts:greekLit:tlg0018.tlg008_philo_1_1854\n",
      "working on urn:cts:greekLit:tlg0018.tlg009_philo_1_1854\n"
     ]
    },
    {
     "name": "stderr",
     "output_type": "stream",
     "text": [
      "2023-11-29 10:37:31,241  WARNI  expected an embedding size of 1024, got 768\n",
      "2023-11-29 10:37:31,694  WARNI  expected an embedding size of 1024, got 768\n"
     ]
    },
    {
     "name": "stdout",
     "output_type": "stream",
     "text": [
      "/home/craig.car/repos/chiron/chironata/data/alignments_rslts/urn:cts:greekLit:tlg0018.tlg009_philo_1_1854\n",
      "working on urn:cts:greekLit:tlg0018.tlg010_philo_1_1854\n"
     ]
    },
    {
     "name": "stderr",
     "output_type": "stream",
     "text": [
      "2023-11-29 10:37:40,792  WARNI  expected an embedding size of 1024, got 768\n",
      "2023-11-29 10:37:41,236  WARNI  expected an embedding size of 1024, got 768\n"
     ]
    },
    {
     "name": "stdout",
     "output_type": "stream",
     "text": [
      "/home/craig.car/repos/chiron/chironata/data/alignments_rslts/urn:cts:greekLit:tlg0018.tlg010_philo_1_1854\n",
      "working on urn:cts:greekLit:tlg0018.tlg011_philo_1_1854\n"
     ]
    },
    {
     "name": "stderr",
     "output_type": "stream",
     "text": [
      "2023-11-29 10:37:50,293  WARNI  expected an embedding size of 1024, got 768\n",
      "2023-11-29 10:37:50,737  WARNI  expected an embedding size of 1024, got 768\n"
     ]
    },
    {
     "name": "stdout",
     "output_type": "stream",
     "text": [
      "/home/craig.car/repos/chiron/chironata/data/alignments_rslts/urn:cts:greekLit:tlg0018.tlg011_philo_1_1854\n",
      "working on urn:cts:greekLit:tlg0018.tlg012_philo_1_1854\n"
     ]
    },
    {
     "name": "stderr",
     "output_type": "stream",
     "text": [
      "2023-11-29 10:38:00,428  WARNI  expected an embedding size of 1024, got 768\n",
      "2023-11-29 10:38:00,900  WARNI  expected an embedding size of 1024, got 768\n"
     ]
    },
    {
     "name": "stdout",
     "output_type": "stream",
     "text": [
      "/home/craig.car/repos/chiron/chironata/data/alignments_rslts/urn:cts:greekLit:tlg0018.tlg012_philo_1_1854\n",
      "working on urn:cts:greekLit:tlg0018.tlg013_philo_1_1854\n"
     ]
    },
    {
     "name": "stderr",
     "output_type": "stream",
     "text": [
      "2023-11-29 10:38:09,480  WARNI  expected an embedding size of 1024, got 768\n",
      "2023-11-29 10:38:09,924  WARNI  expected an embedding size of 1024, got 768\n"
     ]
    },
    {
     "name": "stdout",
     "output_type": "stream",
     "text": [
      "/home/craig.car/repos/chiron/chironata/data/alignments_rslts/urn:cts:greekLit:tlg0018.tlg013_philo_1_1854\n",
      "working on urn:cts:greekLit:tlg0018.tlg014_philo_1_1854\n"
     ]
    },
    {
     "name": "stderr",
     "output_type": "stream",
     "text": [
      "2023-11-29 10:38:19,579  WARNI  expected an embedding size of 1024, got 768\n",
      "2023-11-29 10:38:20,030  WARNI  expected an embedding size of 1024, got 768\n"
     ]
    },
    {
     "name": "stdout",
     "output_type": "stream",
     "text": [
      "/home/craig.car/repos/chiron/chironata/data/alignments_rslts/urn:cts:greekLit:tlg0018.tlg014_philo_1_1854\n",
      "working on urn:cts:greekLit:tlg0018.tlg015_philo_1_1854\n"
     ]
    },
    {
     "name": "stderr",
     "output_type": "stream",
     "text": [
      "2023-11-29 10:38:30,227  WARNI  expected an embedding size of 1024, got 768\n",
      "2023-11-29 10:38:30,666  WARNI  expected an embedding size of 1024, got 768\n"
     ]
    },
    {
     "name": "stdout",
     "output_type": "stream",
     "text": [
      "/home/craig.car/repos/chiron/chironata/data/alignments_rslts/urn:cts:greekLit:tlg0018.tlg015_philo_1_1854\n",
      "working on urn:cts:greekLit:tlg0018.tlg016_philo_1_1854\n"
     ]
    },
    {
     "name": "stderr",
     "output_type": "stream",
     "text": [
      "2023-11-29 10:38:40,871  WARNI  expected an embedding size of 1024, got 768\n",
      "2023-11-29 10:38:41,325  WARNI  expected an embedding size of 1024, got 768\n"
     ]
    },
    {
     "name": "stdout",
     "output_type": "stream",
     "text": [
      "/home/craig.car/repos/chiron/chironata/data/alignments_rslts/urn:cts:greekLit:tlg0018.tlg016_philo_1_1854\n",
      "working on urn:cts:greekLit:tlg0018.tlg017_philo_1_1854\n"
     ]
    },
    {
     "name": "stderr",
     "output_type": "stream",
     "text": [
      "2023-11-29 10:38:52,483  WARNI  expected an embedding size of 1024, got 768\n",
      "2023-11-29 10:38:52,937  WARNI  expected an embedding size of 1024, got 768\n"
     ]
    },
    {
     "name": "stdout",
     "output_type": "stream",
     "text": [
      "/home/craig.car/repos/chiron/chironata/data/alignments_rslts/urn:cts:greekLit:tlg0018.tlg017_philo_1_1854\n",
      "working on urn:cts:greekLit:tlg0018.tlg018_philo_1_1854\n"
     ]
    },
    {
     "name": "stderr",
     "output_type": "stream",
     "text": [
      "2023-11-29 10:39:03,316  WARNI  expected an embedding size of 1024, got 768\n",
      "2023-11-29 10:39:03,776  WARNI  expected an embedding size of 1024, got 768\n"
     ]
    },
    {
     "name": "stdout",
     "output_type": "stream",
     "text": [
      "/home/craig.car/repos/chiron/chironata/data/alignments_rslts/urn:cts:greekLit:tlg0018.tlg018_philo_1_1854\n",
      "working on urn:cts:greekLit:tlg0018.tlg019_philo_1_1854\n"
     ]
    },
    {
     "name": "stderr",
     "output_type": "stream",
     "text": [
      "2023-11-29 10:39:14,041  WARNI  expected an embedding size of 1024, got 768\n",
      "2023-11-29 10:39:14,517  WARNI  expected an embedding size of 1024, got 768\n"
     ]
    },
    {
     "name": "stdout",
     "output_type": "stream",
     "text": [
      "/home/craig.car/repos/chiron/chironata/data/alignments_rslts/urn:cts:greekLit:tlg0018.tlg019_philo_1_1854\n",
      "working on urn:cts:greekLit:tlg0018.tlg020_philo_1_1854\n"
     ]
    },
    {
     "name": "stderr",
     "output_type": "stream",
     "text": [
      "2023-11-29 10:39:24,854  WARNI  expected an embedding size of 1024, got 768\n",
      "2023-11-29 10:39:25,317  WARNI  expected an embedding size of 1024, got 768\n"
     ]
    },
    {
     "name": "stdout",
     "output_type": "stream",
     "text": [
      "/home/craig.car/repos/chiron/chironata/data/alignments_rslts/urn:cts:greekLit:tlg0018.tlg020_philo_1_1854\n",
      "working on urn:cts:greekLit:tlg0018.tlg021_philo_1_1854\n"
     ]
    },
    {
     "name": "stderr",
     "output_type": "stream",
     "text": [
      "2023-11-29 10:39:35,058  WARNI  expected an embedding size of 1024, got 768\n",
      "2023-11-29 10:39:35,525  WARNI  expected an embedding size of 1024, got 768\n"
     ]
    },
    {
     "name": "stdout",
     "output_type": "stream",
     "text": [
      "/home/craig.car/repos/chiron/chironata/data/alignments_rslts/urn:cts:greekLit:tlg0018.tlg021_philo_1_1854\n",
      "working on urn:cts:greekLit:tlg0019.tlg001_aristophanes_1907_1\n"
     ]
    },
    {
     "name": "stderr",
     "output_type": "stream",
     "text": [
      "2023-11-29 10:39:45,147  WARNI  expected an embedding size of 1024, got 768\n",
      "2023-11-29 10:39:45,547  WARNI  expected an embedding size of 1024, got 768\n"
     ]
    },
    {
     "name": "stdout",
     "output_type": "stream",
     "text": [
      "/home/craig.car/repos/chiron/chironata/data/alignments_rslts/urn:cts:greekLit:tlg0019.tlg001_aristophanes_1907_1\n",
      "working on urn:cts:greekLit:tlg0019.tlg001_aristophanes_1_1858\n"
     ]
    },
    {
     "name": "stderr",
     "output_type": "stream",
     "text": [
      "2023-11-29 10:39:56,015  WARNI  expected an embedding size of 1024, got 768\n",
      "2023-11-29 10:39:56,532  WARNI  expected an embedding size of 1024, got 768\n"
     ]
    },
    {
     "name": "stdout",
     "output_type": "stream",
     "text": [
      "/home/craig.car/repos/chiron/chironata/data/alignments_rslts/urn:cts:greekLit:tlg0019.tlg001_aristophanes_1_1858\n",
      "working on urn:cts:greekLit:tlg0019.tlg002_aristophanes_1907_1\n"
     ]
    },
    {
     "name": "stderr",
     "output_type": "stream",
     "text": [
      "2023-11-29 10:40:08,481  WARNI  expected an embedding size of 1024, got 768\n",
      "2023-11-29 10:40:08,766  WARNI  expected an embedding size of 1024, got 768\n"
     ]
    },
    {
     "name": "stdout",
     "output_type": "stream",
     "text": [
      "/home/craig.car/repos/chiron/chironata/data/alignments_rslts/urn:cts:greekLit:tlg0019.tlg002_aristophanes_1907_1\n",
      "working on urn:cts:greekLit:tlg0019.tlg002_aristophanes_1_1858\n"
     ]
    },
    {
     "name": "stderr",
     "output_type": "stream",
     "text": [
      "2023-11-29 10:40:19,402  WARNI  expected an embedding size of 1024, got 768\n",
      "2023-11-29 10:40:19,805  WARNI  expected an embedding size of 1024, got 768\n"
     ]
    },
    {
     "name": "stdout",
     "output_type": "stream",
     "text": [
      "/home/craig.car/repos/chiron/chironata/data/alignments_rslts/urn:cts:greekLit:tlg0019.tlg002_aristophanes_1_1858\n",
      "working on urn:cts:greekLit:tlg0019.tlg003_tlg0019.tlg003.ogl-eng2\n"
     ]
    },
    {
     "name": "stderr",
     "output_type": "stream",
     "text": [
      "2023-11-29 10:40:31,452  WARNI  expected an embedding size of 1024, got 768\n",
      "2023-11-29 10:40:31,467  WARNI  expected an embedding size of 1024, got 768\n"
     ]
    },
    {
     "name": "stdout",
     "output_type": "stream",
     "text": [
      "/home/craig.car/repos/chiron/chironata/data/alignments_rslts/urn:cts:greekLit:tlg0019.tlg003_tlg0019.tlg003.ogl-eng2\n",
      "working on urn:cts:greekLit:tlg0019.tlg003_aristophanes_1852\n"
     ]
    },
    {
     "name": "stderr",
     "output_type": "stream",
     "text": [
      "2023-11-29 10:40:34,076  WARNI  expected an embedding size of 1024, got 768\n",
      "2023-11-29 10:40:34,089  WARNI  expected an embedding size of 1024, got 768\n"
     ]
    },
    {
     "name": "stdout",
     "output_type": "stream",
     "text": [
      "/home/craig.car/repos/chiron/chironata/data/alignments_rslts/urn:cts:greekLit:tlg0019.tlg003_aristophanes_1852\n",
      "working on urn:cts:greekLit:tlg0019.tlg003_aristophanes_1907_1\n"
     ]
    },
    {
     "name": "stderr",
     "output_type": "stream",
     "text": [
      "2023-11-29 10:40:36,357  WARNI  expected an embedding size of 1024, got 768\n",
      "2023-11-29 10:40:36,624  WARNI  expected an embedding size of 1024, got 768\n"
     ]
    },
    {
     "name": "stdout",
     "output_type": "stream",
     "text": [
      "/home/craig.car/repos/chiron/chironata/data/alignments_rslts/urn:cts:greekLit:tlg0019.tlg003_aristophanes_1907_1\n",
      "working on urn:cts:greekLit:tlg0019.tlg003_greekDramas_1912\n"
     ]
    },
    {
     "name": "stderr",
     "output_type": "stream",
     "text": [
      "2023-11-29 10:40:46,446  WARNI  expected an embedding size of 1024, got 768\n",
      "2023-11-29 10:40:46,791  WARNI  expected an embedding size of 1024, got 768\n"
     ]
    },
    {
     "name": "stdout",
     "output_type": "stream",
     "text": [
      "/home/craig.car/repos/chiron/chironata/data/alignments_rslts/urn:cts:greekLit:tlg0019.tlg003_greekDramas_1912\n",
      "working on urn:cts:greekLit:tlg0019.tlg003_aristophanes_1_1858\n"
     ]
    },
    {
     "name": "stderr",
     "output_type": "stream",
     "text": [
      "2023-11-29 10:40:57,008  WARNI  expected an embedding size of 1024, got 768\n",
      "2023-11-29 10:40:57,362  WARNI  expected an embedding size of 1024, got 768\n"
     ]
    },
    {
     "name": "stdout",
     "output_type": "stream",
     "text": [
      "/home/craig.car/repos/chiron/chironata/data/alignments_rslts/urn:cts:greekLit:tlg0019.tlg003_aristophanes_1_1858\n",
      "working on urn:cts:greekLit:tlg0019.tlg004_tlg0019.tlg004.ogl-eng2\n"
     ]
    },
    {
     "name": "stderr",
     "output_type": "stream",
     "text": [
      "2023-11-29 10:41:08,153  WARNI  expected an embedding size of 1024, got 768\n",
      "2023-11-29 10:41:08,603  WARNI  expected an embedding size of 1024, got 768\n"
     ]
    },
    {
     "name": "stdout",
     "output_type": "stream",
     "text": [
      "/home/craig.car/repos/chiron/chironata/data/alignments_rslts/urn:cts:greekLit:tlg0019.tlg004_tlg0019.tlg004.ogl-eng2\n",
      "working on urn:cts:greekLit:tlg0019.tlg004_aristophanes_1875\n"
     ]
    },
    {
     "name": "stderr",
     "output_type": "stream",
     "text": [
      "2023-11-29 10:41:17,778  WARNI  expected an embedding size of 1024, got 768\n",
      "2023-11-29 10:41:18,224  WARNI  expected an embedding size of 1024, got 768\n"
     ]
    },
    {
     "name": "stdout",
     "output_type": "stream",
     "text": [
      "/home/craig.car/repos/chiron/chironata/data/alignments_rslts/urn:cts:greekLit:tlg0019.tlg004_aristophanes_1875\n",
      "working on urn:cts:greekLit:tlg0019.tlg004_aristophanes_1907_1\n"
     ]
    },
    {
     "name": "stderr",
     "output_type": "stream",
     "text": [
      "2023-11-29 10:41:27,392  WARNI  expected an embedding size of 1024, got 768\n",
      "2023-11-29 10:41:27,660  WARNI  expected an embedding size of 1024, got 768\n"
     ]
    },
    {
     "name": "stdout",
     "output_type": "stream",
     "text": [
      "/home/craig.car/repos/chiron/chironata/data/alignments_rslts/urn:cts:greekLit:tlg0019.tlg004_aristophanes_1907_1\n",
      "working on urn:cts:greekLit:tlg0019.tlg004_aristophanes_1_1858\n"
     ]
    },
    {
     "name": "stderr",
     "output_type": "stream",
     "text": [
      "2023-11-29 10:41:37,627  WARNI  expected an embedding size of 1024, got 768\n",
      "2023-11-29 10:41:37,976  WARNI  expected an embedding size of 1024, got 768\n"
     ]
    },
    {
     "name": "stdout",
     "output_type": "stream",
     "text": [
      "/home/craig.car/repos/chiron/chironata/data/alignments_rslts/urn:cts:greekLit:tlg0019.tlg004_aristophanes_1_1858\n",
      "working on urn:cts:greekLit:tlg0019.tlg005_tlg0019.tlg005.ogl-eng2\n"
     ]
    },
    {
     "name": "stderr",
     "output_type": "stream",
     "text": [
      "2023-11-29 10:41:48,693  WARNI  expected an embedding size of 1024, got 768\n",
      "2023-11-29 10:41:49,065  WARNI  expected an embedding size of 1024, got 768\n"
     ]
    },
    {
     "name": "stdout",
     "output_type": "stream",
     "text": [
      "/home/craig.car/repos/chiron/chironata/data/alignments_rslts/urn:cts:greekLit:tlg0019.tlg005_tlg0019.tlg005.ogl-eng2\n",
      "working on urn:cts:greekLit:tlg0019.tlg005_aristophanes_1907_1\n"
     ]
    },
    {
     "name": "stderr",
     "output_type": "stream",
     "text": [
      "2023-11-29 10:41:57,101  WARNI  expected an embedding size of 1024, got 768\n",
      "2023-11-29 10:41:57,368  WARNI  expected an embedding size of 1024, got 768\n"
     ]
    },
    {
     "name": "stdout",
     "output_type": "stream",
     "text": [
      "/home/craig.car/repos/chiron/chironata/data/alignments_rslts/urn:cts:greekLit:tlg0019.tlg005_aristophanes_1907_1\n",
      "working on urn:cts:greekLit:tlg0019.tlg005_aristophanes_1_1858\n"
     ]
    },
    {
     "name": "stderr",
     "output_type": "stream",
     "text": [
      "2023-11-29 10:42:07,030  WARNI  expected an embedding size of 1024, got 768\n",
      "2023-11-29 10:42:07,376  WARNI  expected an embedding size of 1024, got 768\n"
     ]
    },
    {
     "name": "stdout",
     "output_type": "stream",
     "text": [
      "/home/craig.car/repos/chiron/chironata/data/alignments_rslts/urn:cts:greekLit:tlg0019.tlg005_aristophanes_1_1858\n",
      "working on urn:cts:greekLit:tlg0019.tlg005_aristophanes_1913\n"
     ]
    },
    {
     "name": "stderr",
     "output_type": "stream",
     "text": [
      "2023-11-29 10:42:19,095  WARNI  expected an embedding size of 1024, got 768\n",
      "2023-11-29 10:42:19,465  WARNI  expected an embedding size of 1024, got 768\n"
     ]
    },
    {
     "name": "stdout",
     "output_type": "stream",
     "text": [
      "/home/craig.car/repos/chiron/chironata/data/alignments_rslts/urn:cts:greekLit:tlg0019.tlg005_aristophanes_1913\n",
      "working on urn:cts:greekLit:tlg0019.tlg006_aristophanes_1907_1\n"
     ]
    },
    {
     "name": "stderr",
     "output_type": "stream",
     "text": [
      "2023-11-29 10:42:27,203  WARNI  expected an embedding size of 1024, got 768\n",
      "2023-11-29 10:42:27,475  WARNI  expected an embedding size of 1024, got 768\n"
     ]
    },
    {
     "name": "stdout",
     "output_type": "stream",
     "text": [
      "/home/craig.car/repos/chiron/chironata/data/alignments_rslts/urn:cts:greekLit:tlg0019.tlg006_aristophanes_1907_1\n",
      "working on urn:cts:greekLit:tlg0019.tlg006_aristophanes_1_1858\n"
     ]
    },
    {
     "name": "stderr",
     "output_type": "stream",
     "text": [
      "2023-11-29 10:42:37,455  WARNI  expected an embedding size of 1024, got 768\n",
      "2023-11-29 10:42:37,799  WARNI  expected an embedding size of 1024, got 768\n"
     ]
    },
    {
     "name": "stdout",
     "output_type": "stream",
     "text": [
      "/home/craig.car/repos/chiron/chironata/data/alignments_rslts/urn:cts:greekLit:tlg0019.tlg006_aristophanes_1_1858\n",
      "working on urn:cts:greekLit:tlg0019.tlg007_aristophanes_4_1911\n"
     ]
    },
    {
     "name": "stderr",
     "output_type": "stream",
     "text": [
      "2023-11-29 10:42:50,733  WARNI  expected an embedding size of 1024, got 768\n",
      "2023-11-29 10:42:51,560  WARNI  expected an embedding size of 1024, got 768\n"
     ]
    },
    {
     "name": "stdout",
     "output_type": "stream",
     "text": [
      "/home/craig.car/repos/chiron/chironata/data/alignments_rslts/urn:cts:greekLit:tlg0019.tlg007_aristophanes_4_1911\n",
      "working on urn:cts:greekLit:tlg0019.tlg007_aristophanes_1907_1\n"
     ]
    },
    {
     "name": "stderr",
     "output_type": "stream",
     "text": [
      "2023-11-29 10:43:06,670  WARNI  expected an embedding size of 1024, got 768\n",
      "2023-11-29 10:43:06,933  WARNI  expected an embedding size of 1024, got 768\n"
     ]
    },
    {
     "name": "stdout",
     "output_type": "stream",
     "text": [
      "/home/craig.car/repos/chiron/chironata/data/alignments_rslts/urn:cts:greekLit:tlg0019.tlg007_aristophanes_1907_1\n",
      "working on urn:cts:greekLit:tlg0019.tlg007_aristophanes_1_1858\n"
     ]
    },
    {
     "name": "stderr",
     "output_type": "stream",
     "text": [
      "2023-11-29 10:43:16,524  WARNI  expected an embedding size of 1024, got 768\n",
      "2023-11-29 10:43:16,886  WARNI  expected an embedding size of 1024, got 768\n"
     ]
    },
    {
     "name": "stdout",
     "output_type": "stream",
     "text": [
      "/home/craig.car/repos/chiron/chironata/data/alignments_rslts/urn:cts:greekLit:tlg0019.tlg007_aristophanes_1_1858\n",
      "working on urn:cts:greekLit:tlg0019.tlg008_aristophanes_1907_1\n"
     ]
    },
    {
     "name": "stderr",
     "output_type": "stream",
     "text": [
      "2023-11-29 10:43:28,922  WARNI  expected an embedding size of 1024, got 768\n",
      "2023-11-29 10:43:29,188  WARNI  expected an embedding size of 1024, got 768\n"
     ]
    },
    {
     "name": "stdout",
     "output_type": "stream",
     "text": [
      "/home/craig.car/repos/chiron/chironata/data/alignments_rslts/urn:cts:greekLit:tlg0019.tlg008_aristophanes_1907_1\n",
      "working on urn:cts:greekLit:tlg0019.tlg008_aristophanes_4_1911\n"
     ]
    },
    {
     "name": "stderr",
     "output_type": "stream",
     "text": [
      "2023-11-29 10:43:38,764  WARNI  expected an embedding size of 1024, got 768\n",
      "2023-11-29 10:43:39,463  WARNI  expected an embedding size of 1024, got 768\n"
     ]
    },
    {
     "name": "stdout",
     "output_type": "stream",
     "text": [
      "/home/craig.car/repos/chiron/chironata/data/alignments_rslts/urn:cts:greekLit:tlg0019.tlg008_aristophanes_4_1911\n",
      "working on urn:cts:greekLit:tlg0019.tlg008_aristophanes_1_1858\n"
     ]
    },
    {
     "name": "stderr",
     "output_type": "stream",
     "text": [
      "2023-11-29 10:43:53,653  WARNI  expected an embedding size of 1024, got 768\n",
      "2023-11-29 10:43:54,009  WARNI  expected an embedding size of 1024, got 768\n"
     ]
    },
    {
     "name": "stdout",
     "output_type": "stream",
     "text": [
      "/home/craig.car/repos/chiron/chironata/data/alignments_rslts/urn:cts:greekLit:tlg0019.tlg008_aristophanes_1_1858\n",
      "working on urn:cts:greekLit:tlg0019.tlg009_tlg0019.tlg009.ogl-eng3\n"
     ]
    },
    {
     "name": "stderr",
     "output_type": "stream",
     "text": [
      "2023-11-29 10:44:07,760  WARNI  expected an embedding size of 1024, got 768\n",
      "2023-11-29 10:44:08,260  WARNI  expected an embedding size of 1024, got 768\n"
     ]
    },
    {
     "name": "stdout",
     "output_type": "stream",
     "text": [
      "/home/craig.car/repos/chiron/chironata/data/alignments_rslts/urn:cts:greekLit:tlg0019.tlg009_tlg0019.tlg009.ogl-eng3\n",
      "working on urn:cts:greekLit:tlg0019.tlg009_tlg0019.tlg009.ogl-eng4\n"
     ]
    },
    {
     "name": "stderr",
     "output_type": "stream",
     "text": [
      "2023-11-29 10:44:17,708  WARNI  expected an embedding size of 1024, got 768\n",
      "2023-11-29 10:44:17,823  WARNI  expected an embedding size of 1024, got 768\n"
     ]
    },
    {
     "name": "stdout",
     "output_type": "stream",
     "text": [
      "/home/craig.car/repos/chiron/chironata/data/alignments_rslts/urn:cts:greekLit:tlg0019.tlg009_tlg0019.tlg009.ogl-eng4\n",
      "working on urn:cts:greekLit:tlg0019.tlg009_aristophanes_1911\n"
     ]
    },
    {
     "name": "stderr",
     "output_type": "stream",
     "text": [
      "2023-11-29 10:44:22,130  WARNI  expected an embedding size of 1024, got 768\n",
      "2023-11-29 10:44:22,249  WARNI  expected an embedding size of 1024, got 768\n"
     ]
    },
    {
     "name": "stdout",
     "output_type": "stream",
     "text": [
      "/home/craig.car/repos/chiron/chironata/data/alignments_rslts/urn:cts:greekLit:tlg0019.tlg009_aristophanes_1911\n",
      "working on urn:cts:greekLit:tlg0019.tlg009_aristophanes_1907_1\n"
     ]
    },
    {
     "name": "stderr",
     "output_type": "stream",
     "text": [
      "2023-11-29 10:44:26,535  WARNI  expected an embedding size of 1024, got 768\n",
      "2023-11-29 10:44:26,847  WARNI  expected an embedding size of 1024, got 768\n"
     ]
    },
    {
     "name": "stdout",
     "output_type": "stream",
     "text": [
      "/home/craig.car/repos/chiron/chironata/data/alignments_rslts/urn:cts:greekLit:tlg0019.tlg009_aristophanes_1907_1\n",
      "working on urn:cts:greekLit:tlg0019.tlg009_aristophanes_1_1858\n"
     ]
    },
    {
     "name": "stderr",
     "output_type": "stream",
     "text": [
      "2023-11-29 10:44:37,176  WARNI  expected an embedding size of 1024, got 768\n",
      "2023-11-29 10:44:37,587  WARNI  expected an embedding size of 1024, got 768\n"
     ]
    },
    {
     "name": "stdout",
     "output_type": "stream",
     "text": [
      "/home/craig.car/repos/chiron/chironata/data/alignments_rslts/urn:cts:greekLit:tlg0019.tlg009_aristophanes_1_1858\n",
      "working on urn:cts:greekLit:tlg0019.tlg009_aristophanes_1919\n"
     ]
    },
    {
     "name": "stderr",
     "output_type": "stream",
     "text": [
      "2023-11-29 10:44:50,158  WARNI  expected an embedding size of 1024, got 768\n",
      "2023-11-29 10:44:50,689  WARNI  expected an embedding size of 1024, got 768\n"
     ]
    },
    {
     "name": "stdout",
     "output_type": "stream",
     "text": [
      "/home/craig.car/repos/chiron/chironata/data/alignments_rslts/urn:cts:greekLit:tlg0019.tlg009_aristophanes_1919\n",
      "working on urn:cts:greekLit:tlg0019.tlg010_tlg0019.tlg010.ogl-eng2\n"
     ]
    },
    {
     "name": "stderr",
     "output_type": "stream",
     "text": [
      "2023-11-29 10:45:00,740  WARNI  expected an embedding size of 1024, got 768\n",
      "2023-11-29 10:45:01,200  WARNI  expected an embedding size of 1024, got 768\n"
     ]
    },
    {
     "name": "stdout",
     "output_type": "stream",
     "text": [
      "/home/craig.car/repos/chiron/chironata/data/alignments_rslts/urn:cts:greekLit:tlg0019.tlg010_tlg0019.tlg010.ogl-eng2\n",
      "working on urn:cts:greekLit:tlg0019.tlg010_aristophanes_1907_1\n"
     ]
    },
    {
     "name": "stderr",
     "output_type": "stream",
     "text": [
      "2023-11-29 10:45:10,882  WARNI  expected an embedding size of 1024, got 768\n",
      "2023-11-29 10:45:11,201  WARNI  expected an embedding size of 1024, got 768\n"
     ]
    },
    {
     "name": "stdout",
     "output_type": "stream",
     "text": [
      "/home/craig.car/repos/chiron/chironata/data/alignments_rslts/urn:cts:greekLit:tlg0019.tlg010_aristophanes_1907_1\n",
      "working on urn:cts:greekLit:tlg0019.tlg010_aristophanes_1902\n"
     ]
    },
    {
     "name": "stderr",
     "output_type": "stream",
     "text": [
      "2023-11-29 10:45:21,298  WARNI  expected an embedding size of 1024, got 768\n",
      "2023-11-29 10:45:21,739  WARNI  expected an embedding size of 1024, got 768\n"
     ]
    },
    {
     "name": "stdout",
     "output_type": "stream",
     "text": [
      "/home/craig.car/repos/chiron/chironata/data/alignments_rslts/urn:cts:greekLit:tlg0019.tlg010_aristophanes_1902\n",
      "working on urn:cts:greekLit:tlg0019.tlg010_aristophanes_1_1858\n"
     ]
    },
    {
     "name": "stderr",
     "output_type": "stream",
     "text": [
      "2023-11-29 10:45:29,605  WARNI  expected an embedding size of 1024, got 768\n",
      "2023-11-29 10:45:30,016  WARNI  expected an embedding size of 1024, got 768\n"
     ]
    },
    {
     "name": "stdout",
     "output_type": "stream",
     "text": [
      "/home/craig.car/repos/chiron/chironata/data/alignments_rslts/urn:cts:greekLit:tlg0019.tlg010_aristophanes_1_1858\n",
      "working on urn:cts:greekLit:tlg0019.tlg011_aristophanes_1907_1\n"
     ]
    },
    {
     "name": "stderr",
     "output_type": "stream",
     "text": [
      "2023-11-29 10:45:42,287  WARNI  expected an embedding size of 1024, got 768\n",
      "2023-11-29 10:45:42,603  WARNI  expected an embedding size of 1024, got 768\n"
     ]
    },
    {
     "name": "stdout",
     "output_type": "stream",
     "text": [
      "/home/craig.car/repos/chiron/chironata/data/alignments_rslts/urn:cts:greekLit:tlg0019.tlg011_aristophanes_1907_1\n",
      "working on urn:cts:greekLit:tlg0019.tlg011_greekDramas_1912\n"
     ]
    },
    {
     "name": "stderr",
     "output_type": "stream",
     "text": [
      "2023-11-29 10:45:53,351  WARNI  expected an embedding size of 1024, got 768\n",
      "2023-11-29 10:45:53,753  WARNI  expected an embedding size of 1024, got 768\n"
     ]
    },
    {
     "name": "stdout",
     "output_type": "stream",
     "text": [
      "/home/craig.car/repos/chiron/chironata/data/alignments_rslts/urn:cts:greekLit:tlg0019.tlg011_greekDramas_1912\n",
      "working on urn:cts:greekLit:tlg0019.tlg011_aristophanes_1907_2\n"
     ]
    },
    {
     "name": "stderr",
     "output_type": "stream",
     "text": [
      "2023-11-29 10:46:04,695  WARNI  expected an embedding size of 1024, got 768\n",
      "2023-11-29 10:46:05,101  WARNI  expected an embedding size of 1024, got 768\n"
     ]
    },
    {
     "name": "stdout",
     "output_type": "stream",
     "text": [
      "/home/craig.car/repos/chiron/chironata/data/alignments_rslts/urn:cts:greekLit:tlg0019.tlg011_aristophanes_1907_2\n",
      "working on urn:cts:greekLit:tlg0019.tlg011_aristophanes_1_1858\n"
     ]
    },
    {
     "name": "stderr",
     "output_type": "stream",
     "text": [
      "2023-11-29 10:46:14,384  WARNI  expected an embedding size of 1024, got 768\n",
      "2023-11-29 10:46:14,792  WARNI  expected an embedding size of 1024, got 768\n"
     ]
    },
    {
     "name": "stdout",
     "output_type": "stream",
     "text": [
      "/home/craig.car/repos/chiron/chironata/data/alignments_rslts/urn:cts:greekLit:tlg0019.tlg011_aristophanes_1_1858\n",
      "working on urn:cts:greekLit:tlg0020.tlg001_hesiod-callim-theogn_1897\n"
     ]
    },
    {
     "name": "stderr",
     "output_type": "stream",
     "text": [
      "2023-11-29 10:46:27,094  WARNI  expected an embedding size of 1024, got 768\n",
      "2023-11-29 10:46:27,567  WARNI  expected an embedding size of 1024, got 768\n"
     ]
    },
    {
     "name": "stdout",
     "output_type": "stream",
     "text": [
      "/home/craig.car/repos/chiron/chironata/data/alignments_rslts/urn:cts:greekLit:tlg0020.tlg001_hesiod-callim-theogn_1897\n",
      "working on urn:cts:greekLit:tlg0020.tlg002_hesiod-callim-theogn_1897\n"
     ]
    },
    {
     "name": "stderr",
     "output_type": "stream",
     "text": [
      "2023-11-29 10:46:36,351  WARNI  expected an embedding size of 1024, got 768\n",
      "2023-11-29 10:46:36,737  WARNI  expected an embedding size of 1024, got 768\n"
     ]
    },
    {
     "name": "stdout",
     "output_type": "stream",
     "text": [
      "/home/craig.car/repos/chiron/chironata/data/alignments_rslts/urn:cts:greekLit:tlg0020.tlg002_hesiod-callim-theogn_1897\n",
      "working on urn:cts:greekLit:tlg0020.tlg003_hesiod-callim-theogn_1897\n"
     ]
    },
    {
     "name": "stderr",
     "output_type": "stream",
     "text": [
      "2023-11-29 10:46:45,542  WARNI  expected an embedding size of 1024, got 768\n",
      "2023-11-29 10:46:45,908  WARNI  expected an embedding size of 1024, got 768\n"
     ]
    },
    {
     "name": "stdout",
     "output_type": "stream",
     "text": [
      "/home/craig.car/repos/chiron/chironata/data/alignments_rslts/urn:cts:greekLit:tlg0020.tlg003_hesiod-callim-theogn_1897\n",
      "working on urn:cts:greekLit:tlg0032.tlg001_xenophon_1909\n"
     ]
    },
    {
     "name": "stderr",
     "output_type": "stream",
     "text": [
      "2023-11-29 10:46:54,697  WARNI  expected an embedding size of 1024, got 768\n",
      "2023-11-29 10:46:55,405  WARNI  expected an embedding size of 1024, got 768\n"
     ]
    },
    {
     "name": "stdout",
     "output_type": "stream",
     "text": [
      "/home/craig.car/repos/chiron/chironata/data/alignments_rslts/urn:cts:greekLit:tlg0032.tlg001_xenophon_1909\n",
      "working on urn:cts:greekLit:tlg0032.tlg002_xenophon_1907\n"
     ]
    },
    {
     "name": "stderr",
     "output_type": "stream",
     "text": [
      "2023-11-29 10:47:08,690  WARNI  expected an embedding size of 1024, got 768\n",
      "2023-11-29 10:47:09,309  WARNI  expected an embedding size of 1024, got 768\n"
     ]
    },
    {
     "name": "stdout",
     "output_type": "stream",
     "text": [
      "/home/craig.car/repos/chiron/chironata/data/alignments_rslts/urn:cts:greekLit:tlg0032.tlg002_xenophon_1907\n",
      "working on urn:cts:greekLit:tlg0032.tlg003_xenophon_1898\n"
     ]
    },
    {
     "name": "stderr",
     "output_type": "stream",
     "text": [
      "2023-11-29 10:47:20,576  WARNI  expected an embedding size of 1024, got 768\n",
      "2023-11-29 10:47:20,927  WARNI  expected an embedding size of 1024, got 768\n"
     ]
    },
    {
     "name": "stdout",
     "output_type": "stream",
     "text": [
      "/home/craig.car/repos/chiron/chironata/data/alignments_rslts/urn:cts:greekLit:tlg0032.tlg003_xenophon_1898\n",
      "working on urn:cts:greekLit:tlg0032.tlg004_xenophon_1898\n"
     ]
    },
    {
     "name": "stderr",
     "output_type": "stream",
     "text": [
      "2023-11-29 10:47:28,381  WARNI  expected an embedding size of 1024, got 768\n",
      "2023-11-29 10:47:28,683  WARNI  expected an embedding size of 1024, got 768\n"
     ]
    },
    {
     "name": "stdout",
     "output_type": "stream",
     "text": [
      "/home/craig.car/repos/chiron/chironata/data/alignments_rslts/urn:cts:greekLit:tlg0032.tlg004_xenophon_1898\n",
      "working on urn:cts:greekLit:tlg0032.tlg004_xenophon_1909\n"
     ]
    },
    {
     "name": "stderr",
     "output_type": "stream",
     "text": [
      "2023-11-29 10:47:34,893  WARNI  expected an embedding size of 1024, got 768\n",
      "2023-11-29 10:47:35,500  WARNI  expected an embedding size of 1024, got 768\n"
     ]
    },
    {
     "name": "stdout",
     "output_type": "stream",
     "text": [
      "/home/craig.car/repos/chiron/chironata/data/alignments_rslts/urn:cts:greekLit:tlg0032.tlg004_xenophon_1909\n",
      "working on urn:cts:greekLit:tlg0032.tlg005_xenophon_1898\n"
     ]
    },
    {
     "name": "stderr",
     "output_type": "stream",
     "text": [
      "2023-11-29 10:47:47,783  WARNI  expected an embedding size of 1024, got 768\n",
      "2023-11-29 10:47:48,064  WARNI  expected an embedding size of 1024, got 768\n"
     ]
    },
    {
     "name": "stdout",
     "output_type": "stream",
     "text": [
      "/home/craig.car/repos/chiron/chironata/data/alignments_rslts/urn:cts:greekLit:tlg0032.tlg005_xenophon_1898\n",
      "working on urn:cts:greekLit:tlg0032.tlg006_xenophon_1907\n"
     ]
    },
    {
     "name": "stderr",
     "output_type": "stream",
     "text": [
      "2023-11-29 10:47:53,859  WARNI  expected an embedding size of 1024, got 768\n",
      "2023-11-29 10:47:54,451  WARNI  expected an embedding size of 1024, got 768\n"
     ]
    },
    {
     "name": "stdout",
     "output_type": "stream",
     "text": [
      "/home/craig.car/repos/chiron/chironata/data/alignments_rslts/urn:cts:greekLit:tlg0032.tlg006_xenophon_1907\n",
      "working on urn:cts:greekLit:tlg0032.tlg008_xenophon_1898\n"
     ]
    },
    {
     "name": "stderr",
     "output_type": "stream",
     "text": [
      "2023-11-29 10:48:05,951  WARNI  expected an embedding size of 1024, got 768\n",
      "2023-11-29 10:48:06,219  WARNI  expected an embedding size of 1024, got 768\n"
     ]
    },
    {
     "name": "stdout",
     "output_type": "stream",
     "text": [
      "/home/craig.car/repos/chiron/chironata/data/alignments_rslts/urn:cts:greekLit:tlg0032.tlg008_xenophon_1898\n",
      "working on urn:cts:greekLit:tlg0032.tlg009_xenophon_1898\n"
     ]
    },
    {
     "name": "stderr",
     "output_type": "stream",
     "text": [
      "2023-11-29 10:48:12,374  WARNI  expected an embedding size of 1024, got 768\n",
      "2023-11-29 10:48:12,645  WARNI  expected an embedding size of 1024, got 768\n"
     ]
    },
    {
     "name": "stdout",
     "output_type": "stream",
     "text": [
      "/home/craig.car/repos/chiron/chironata/data/alignments_rslts/urn:cts:greekLit:tlg0032.tlg009_xenophon_1898\n",
      "working on urn:cts:greekLit:tlg0032.tlg010_xenophon_1898\n"
     ]
    },
    {
     "name": "stderr",
     "output_type": "stream",
     "text": [
      "2023-11-29 10:48:18,667  WARNI  expected an embedding size of 1024, got 768\n",
      "2023-11-29 10:48:18,941  WARNI  expected an embedding size of 1024, got 768\n"
     ]
    },
    {
     "name": "stdout",
     "output_type": "stream",
     "text": [
      "/home/craig.car/repos/chiron/chironata/data/alignments_rslts/urn:cts:greekLit:tlg0032.tlg010_xenophon_1898\n",
      "working on urn:cts:greekLit:tlg0032.tlg011_xenophon_1898\n"
     ]
    },
    {
     "name": "stderr",
     "output_type": "stream",
     "text": [
      "2023-11-29 10:48:25,277  WARNI  expected an embedding size of 1024, got 768\n",
      "2023-11-29 10:48:25,556  WARNI  expected an embedding size of 1024, got 768\n"
     ]
    },
    {
     "name": "stdout",
     "output_type": "stream",
     "text": [
      "/home/craig.car/repos/chiron/chironata/data/alignments_rslts/urn:cts:greekLit:tlg0032.tlg011_xenophon_1898\n",
      "working on urn:cts:greekLit:tlg0032.tlg012_xenophon_1898\n"
     ]
    },
    {
     "name": "stderr",
     "output_type": "stream",
     "text": [
      "2023-11-29 10:48:31,200  WARNI  expected an embedding size of 1024, got 768\n",
      "2023-11-29 10:48:31,468  WARNI  expected an embedding size of 1024, got 768\n"
     ]
    },
    {
     "name": "stdout",
     "output_type": "stream",
     "text": [
      "/home/craig.car/repos/chiron/chironata/data/alignments_rslts/urn:cts:greekLit:tlg0032.tlg012_xenophon_1898\n",
      "working on urn:cts:greekLit:tlg0032.tlg013_xenophon_1898\n"
     ]
    },
    {
     "name": "stderr",
     "output_type": "stream",
     "text": [
      "2023-11-29 10:48:37,464  WARNI  expected an embedding size of 1024, got 768\n",
      "2023-11-29 10:48:37,730  WARNI  expected an embedding size of 1024, got 768\n"
     ]
    },
    {
     "name": "stdout",
     "output_type": "stream",
     "text": [
      "/home/craig.car/repos/chiron/chironata/data/alignments_rslts/urn:cts:greekLit:tlg0032.tlg013_xenophon_1898\n",
      "working on urn:cts:greekLit:tlg0032.tlg014_xenophon_1898\n"
     ]
    },
    {
     "name": "stderr",
     "output_type": "stream",
     "text": [
      "2023-11-29 10:48:44,290  WARNI  expected an embedding size of 1024, got 768\n",
      "2023-11-29 10:48:44,596  WARNI  expected an embedding size of 1024, got 768\n"
     ]
    },
    {
     "name": "stdout",
     "output_type": "stream",
     "text": [
      "/home/craig.car/repos/chiron/chironata/data/alignments_rslts/urn:cts:greekLit:tlg0032.tlg014_xenophon_1898\n",
      "working on urn:cts:greekLit:tlg0033.tlg001_pindar_1915\n"
     ]
    },
    {
     "name": "stderr",
     "output_type": "stream",
     "text": [
      "2023-11-29 10:48:51,005  WARNI  expected an embedding size of 1024, got 768\n",
      "2023-11-29 10:48:51,365  WARNI  expected an embedding size of 1024, got 768\n"
     ]
    },
    {
     "name": "stdout",
     "output_type": "stream",
     "text": [
      "/home/craig.car/repos/chiron/chironata/data/alignments_rslts/urn:cts:greekLit:tlg0033.tlg001_pindar_1915\n",
      "working on urn:cts:greekLit:tlg0033.tlg002_pindar_1915\n"
     ]
    },
    {
     "name": "stderr",
     "output_type": "stream",
     "text": [
      "2023-11-29 10:48:58,070  WARNI  expected an embedding size of 1024, got 768\n",
      "2023-11-29 10:48:58,353  WARNI  expected an embedding size of 1024, got 768\n"
     ]
    },
    {
     "name": "stdout",
     "output_type": "stream",
     "text": [
      "/home/craig.car/repos/chiron/chironata/data/alignments_rslts/urn:cts:greekLit:tlg0033.tlg002_pindar_1915\n",
      "working on urn:cts:greekLit:tlg0033.tlg003_pindar_1915\n"
     ]
    },
    {
     "name": "stderr",
     "output_type": "stream",
     "text": [
      "2023-11-29 10:49:04,825  WARNI  expected an embedding size of 1024, got 768\n",
      "2023-11-29 10:49:05,104  WARNI  expected an embedding size of 1024, got 768\n"
     ]
    },
    {
     "name": "stdout",
     "output_type": "stream",
     "text": [
      "/home/craig.car/repos/chiron/chironata/data/alignments_rslts/urn:cts:greekLit:tlg0033.tlg003_pindar_1915\n",
      "working on urn:cts:greekLit:tlg0033.tlg004_pindar_1915\n"
     ]
    },
    {
     "name": "stderr",
     "output_type": "stream",
     "text": [
      "2023-11-29 10:49:11,587  WARNI  expected an embedding size of 1024, got 768\n",
      "2023-11-29 10:49:11,866  WARNI  expected an embedding size of 1024, got 768\n"
     ]
    },
    {
     "name": "stdout",
     "output_type": "stream",
     "text": [
      "/home/craig.car/repos/chiron/chironata/data/alignments_rslts/urn:cts:greekLit:tlg0033.tlg004_pindar_1915\n",
      "working on urn:cts:greekLit:tlg0035.tlg001_theocritus_1878\n"
     ]
    },
    {
     "name": "stderr",
     "output_type": "stream",
     "text": [
      "2023-11-29 10:49:18,534  WARNI  expected an embedding size of 1024, got 768\n",
      "2023-11-29 10:49:18,923  WARNI  expected an embedding size of 1024, got 768\n"
     ]
    },
    {
     "name": "stdout",
     "output_type": "stream",
     "text": [
      "/home/craig.car/repos/chiron/chironata/data/alignments_rslts/urn:cts:greekLit:tlg0035.tlg001_theocritus_1878\n",
      "working on urn:cts:greekLit:tlg0035.tlg002_theocritus_1878\n"
     ]
    },
    {
     "name": "stderr",
     "output_type": "stream",
     "text": [
      "2023-11-29 10:49:28,069  WARNI  expected an embedding size of 1024, got 768\n",
      "2023-11-29 10:49:28,401  WARNI  expected an embedding size of 1024, got 768\n"
     ]
    },
    {
     "name": "stdout",
     "output_type": "stream",
     "text": [
      "/home/craig.car/repos/chiron/chironata/data/alignments_rslts/urn:cts:greekLit:tlg0035.tlg002_theocritus_1878\n",
      "working on urn:cts:greekLit:tlg0035.tlg003_theocritus_1878\n"
     ]
    },
    {
     "name": "stderr",
     "output_type": "stream",
     "text": [
      "2023-11-29 10:49:35,621  WARNI  expected an embedding size of 1024, got 768\n",
      "2023-11-29 10:49:35,913  WARNI  expected an embedding size of 1024, got 768\n"
     ]
    },
    {
     "name": "stdout",
     "output_type": "stream",
     "text": [
      "/home/craig.car/repos/chiron/chironata/data/alignments_rslts/urn:cts:greekLit:tlg0035.tlg003_theocritus_1878\n",
      "working on urn:cts:greekLit:tlg0035.tlg004_theocritus_1878\n"
     ]
    },
    {
     "name": "stderr",
     "output_type": "stream",
     "text": [
      "2023-11-29 10:49:42,399  WARNI  expected an embedding size of 1024, got 768\n",
      "2023-11-29 10:49:42,690  WARNI  expected an embedding size of 1024, got 768\n"
     ]
    },
    {
     "name": "stdout",
     "output_type": "stream",
     "text": [
      "/home/craig.car/repos/chiron/chironata/data/alignments_rslts/urn:cts:greekLit:tlg0035.tlg004_theocritus_1878\n",
      "working on urn:cts:greekLit:tlg0035.tlg005_theocritus_1878\n"
     ]
    },
    {
     "name": "stderr",
     "output_type": "stream",
     "text": [
      "2023-11-29 10:49:49,141  WARNI  expected an embedding size of 1024, got 768\n",
      "2023-11-29 10:49:49,427  WARNI  expected an embedding size of 1024, got 768\n"
     ]
    },
    {
     "name": "stdout",
     "output_type": "stream",
     "text": [
      "/home/craig.car/repos/chiron/chironata/data/alignments_rslts/urn:cts:greekLit:tlg0035.tlg005_theocritus_1878\n",
      "working on urn:cts:greekLit:tlg0036.tlg001_theocritus_1878\n"
     ]
    },
    {
     "name": "stderr",
     "output_type": "stream",
     "text": [
      "2023-11-29 10:49:54,249  WARNI  expected an embedding size of 1024, got 768\n",
      "2023-11-29 10:49:54,535  WARNI  expected an embedding size of 1024, got 768\n"
     ]
    },
    {
     "name": "stdout",
     "output_type": "stream",
     "text": [
      "/home/craig.car/repos/chiron/chironata/data/alignments_rslts/urn:cts:greekLit:tlg0036.tlg001_theocritus_1878\n",
      "working on urn:cts:greekLit:tlg0036.tlg002_theocritus_1878\n"
     ]
    },
    {
     "name": "stderr",
     "output_type": "stream",
     "text": [
      "2023-11-29 10:50:00,833  WARNI  expected an embedding size of 1024, got 768\n",
      "2023-11-29 10:50:01,119  WARNI  expected an embedding size of 1024, got 768\n"
     ]
    },
    {
     "name": "stdout",
     "output_type": "stream",
     "text": [
      "/home/craig.car/repos/chiron/chironata/data/alignments_rslts/urn:cts:greekLit:tlg0036.tlg002_theocritus_1878\n",
      "working on urn:cts:greekLit:tlg0036.tlg003_theocritus_1878\n"
     ]
    },
    {
     "name": "stderr",
     "output_type": "stream",
     "text": [
      "2023-11-29 10:50:05,619  WARNI  expected an embedding size of 1024, got 768\n",
      "2023-11-29 10:50:05,905  WARNI  expected an embedding size of 1024, got 768\n"
     ]
    },
    {
     "name": "stdout",
     "output_type": "stream",
     "text": [
      "/home/craig.car/repos/chiron/chironata/data/alignments_rslts/urn:cts:greekLit:tlg0036.tlg003_theocritus_1878\n",
      "working on urn:cts:greekLit:tlg0059.tlg001_plato_1_1848\n"
     ]
    },
    {
     "name": "stderr",
     "output_type": "stream",
     "text": [
      "2023-11-29 10:50:11,960  WARNI  expected an embedding size of 1024, got 768\n",
      "2023-11-29 10:50:12,642  WARNI  expected an embedding size of 1024, got 768\n"
     ]
    },
    {
     "name": "stdout",
     "output_type": "stream",
     "text": [
      "/home/craig.car/repos/chiron/chironata/data/alignments_rslts/urn:cts:greekLit:tlg0059.tlg001_plato_1_1848\n",
      "working on urn:cts:greekLit:tlg0059.tlg002_plato_1_1848\n"
     ]
    },
    {
     "name": "stderr",
     "output_type": "stream",
     "text": [
      "2023-11-29 10:50:27,730  WARNI  expected an embedding size of 1024, got 768\n",
      "2023-11-29 10:50:28,262  WARNI  expected an embedding size of 1024, got 768\n"
     ]
    },
    {
     "name": "stdout",
     "output_type": "stream",
     "text": [
      "/home/craig.car/repos/chiron/chironata/data/alignments_rslts/urn:cts:greekLit:tlg0059.tlg002_plato_1_1848\n",
      "working on urn:cts:greekLit:tlg0059.tlg003_plato_1_1848\n"
     ]
    },
    {
     "name": "stderr",
     "output_type": "stream",
     "text": [
      "2023-11-29 10:50:40,848  WARNI  expected an embedding size of 1024, got 768\n",
      "2023-11-29 10:50:41,361  WARNI  expected an embedding size of 1024, got 768\n"
     ]
    },
    {
     "name": "stdout",
     "output_type": "stream",
     "text": [
      "/home/craig.car/repos/chiron/chironata/data/alignments_rslts/urn:cts:greekLit:tlg0059.tlg003_plato_1_1848\n",
      "working on urn:cts:greekLit:tlg0059.tlg004_plato_1_1848\n"
     ]
    },
    {
     "name": "stderr",
     "output_type": "stream",
     "text": [
      "2023-11-29 10:50:54,956  WARNI  expected an embedding size of 1024, got 768\n",
      "2023-11-29 10:50:55,459  WARNI  expected an embedding size of 1024, got 768\n"
     ]
    },
    {
     "name": "stdout",
     "output_type": "stream",
     "text": [
      "/home/craig.car/repos/chiron/chironata/data/alignments_rslts/urn:cts:greekLit:tlg0059.tlg004_plato_1_1848\n",
      "working on urn:cts:greekLit:tlg0059.tlg005_plato_1_1848\n"
     ]
    },
    {
     "name": "stderr",
     "output_type": "stream",
     "text": [
      "2023-11-29 10:51:09,635  WARNI  expected an embedding size of 1024, got 768\n",
      "2023-11-29 10:51:10,136  WARNI  expected an embedding size of 1024, got 768\n"
     ]
    },
    {
     "name": "stdout",
     "output_type": "stream",
     "text": [
      "/home/craig.car/repos/chiron/chironata/data/alignments_rslts/urn:cts:greekLit:tlg0059.tlg005_plato_1_1848\n",
      "working on urn:cts:greekLit:tlg0059.tlg006_plato_1_1848\n"
     ]
    },
    {
     "name": "stderr",
     "output_type": "stream",
     "text": [
      "2023-11-29 10:51:25,955  WARNI  expected an embedding size of 1024, got 768\n",
      "2023-11-29 10:51:26,452  WARNI  expected an embedding size of 1024, got 768\n"
     ]
    },
    {
     "name": "stdout",
     "output_type": "stream",
     "text": [
      "/home/craig.car/repos/chiron/chironata/data/alignments_rslts/urn:cts:greekLit:tlg0059.tlg006_plato_1_1848\n",
      "working on urn:cts:greekLit:tlg0059.tlg007_plato_1_1848\n"
     ]
    },
    {
     "name": "stderr",
     "output_type": "stream",
     "text": [
      "2023-11-29 10:51:43,641  WARNI  expected an embedding size of 1024, got 768\n",
      "2023-11-29 10:51:44,195  WARNI  expected an embedding size of 1024, got 768\n"
     ]
    },
    {
     "name": "stdout",
     "output_type": "stream",
     "text": [
      "/home/craig.car/repos/chiron/chironata/data/alignments_rslts/urn:cts:greekLit:tlg0059.tlg007_plato_1_1848\n",
      "working on urn:cts:greekLit:tlg0059.tlg008_plato_1_1848\n"
     ]
    },
    {
     "name": "stderr",
     "output_type": "stream",
     "text": [
      "2023-11-29 10:52:00,595  WARNI  expected an embedding size of 1024, got 768\n",
      "2023-11-29 10:52:01,100  WARNI  expected an embedding size of 1024, got 768\n"
     ]
    },
    {
     "name": "stdout",
     "output_type": "stream",
     "text": [
      "/home/craig.car/repos/chiron/chironata/data/alignments_rslts/urn:cts:greekLit:tlg0059.tlg008_plato_1_1848\n",
      "working on urn:cts:greekLit:tlg0059.tlg009_plato_1_1848\n"
     ]
    },
    {
     "name": "stderr",
     "output_type": "stream",
     "text": [
      "2023-11-29 10:52:17,702  WARNI  expected an embedding size of 1024, got 768\n",
      "2023-11-29 10:52:18,201  WARNI  expected an embedding size of 1024, got 768\n"
     ]
    },
    {
     "name": "stdout",
     "output_type": "stream",
     "text": [
      "/home/craig.car/repos/chiron/chironata/data/alignments_rslts/urn:cts:greekLit:tlg0059.tlg009_plato_1_1848\n",
      "working on urn:cts:greekLit:tlg0059.tlg011_plato_1_1848\n"
     ]
    },
    {
     "name": "stderr",
     "output_type": "stream",
     "text": [
      "2023-11-29 10:52:33,098  WARNI  expected an embedding size of 1024, got 768\n",
      "2023-11-29 10:52:33,611  WARNI  expected an embedding size of 1024, got 768\n"
     ]
    },
    {
     "name": "stdout",
     "output_type": "stream",
     "text": [
      "/home/craig.car/repos/chiron/chironata/data/alignments_rslts/urn:cts:greekLit:tlg0059.tlg011_plato_1_1848\n",
      "working on urn:cts:greekLit:tlg0059.tlg012_plato_1_1848\n"
     ]
    },
    {
     "name": "stderr",
     "output_type": "stream",
     "text": [
      "2023-11-29 10:52:48,974  WARNI  expected an embedding size of 1024, got 768\n",
      "2023-11-29 10:52:49,476  WARNI  expected an embedding size of 1024, got 768\n"
     ]
    },
    {
     "name": "stdout",
     "output_type": "stream",
     "text": [
      "/home/craig.car/repos/chiron/chironata/data/alignments_rslts/urn:cts:greekLit:tlg0059.tlg012_plato_1_1848\n",
      "working on urn:cts:greekLit:tlg0059.tlg020_plato_1_1848\n"
     ]
    },
    {
     "name": "stderr",
     "output_type": "stream",
     "text": [
      "2023-11-29 10:53:04,126  WARNI  expected an embedding size of 1024, got 768\n",
      "2023-11-29 10:53:04,666  WARNI  expected an embedding size of 1024, got 768\n"
     ]
    },
    {
     "name": "stdout",
     "output_type": "stream",
     "text": [
      "/home/craig.car/repos/chiron/chironata/data/alignments_rslts/urn:cts:greekLit:tlg0059.tlg020_plato_1_1848\n",
      "working on urn:cts:greekLit:tlg0059.tlg021_plato_1_1848\n"
     ]
    },
    {
     "name": "stderr",
     "output_type": "stream",
     "text": [
      "2023-11-29 10:53:18,786  WARNI  expected an embedding size of 1024, got 768\n",
      "2023-11-29 10:53:19,285  WARNI  expected an embedding size of 1024, got 768\n"
     ]
    },
    {
     "name": "stdout",
     "output_type": "stream",
     "text": [
      "/home/craig.car/repos/chiron/chironata/data/alignments_rslts/urn:cts:greekLit:tlg0059.tlg021_plato_1_1848\n",
      "working on urn:cts:greekLit:tlg0059.tlg022_plato_1_1848\n"
     ]
    },
    {
     "name": "stderr",
     "output_type": "stream",
     "text": [
      "2023-11-29 10:53:33,853  WARNI  expected an embedding size of 1024, got 768\n",
      "2023-11-29 10:53:34,366  WARNI  expected an embedding size of 1024, got 768\n"
     ]
    },
    {
     "name": "stdout",
     "output_type": "stream",
     "text": [
      "/home/craig.car/repos/chiron/chironata/data/alignments_rslts/urn:cts:greekLit:tlg0059.tlg022_plato_1_1848\n",
      "working on urn:cts:greekLit:tlg0059.tlg023_plato_1864\n"
     ]
    },
    {
     "name": "stderr",
     "output_type": "stream",
     "text": [
      "2023-11-29 10:53:48,782  WARNI  expected an embedding size of 1024, got 768\n",
      "2023-11-29 10:53:49,031  WARNI  expected an embedding size of 1024, got 768\n"
     ]
    },
    {
     "name": "stdout",
     "output_type": "stream",
     "text": [
      "/home/craig.car/repos/chiron/chironata/data/alignments_rslts/urn:cts:greekLit:tlg0059.tlg023_plato_1864\n",
      "working on urn:cts:greekLit:tlg0059.tlg023_plato_1_1848\n"
     ]
    },
    {
     "name": "stderr",
     "output_type": "stream",
     "text": [
      "2023-11-29 10:53:57,198  WARNI  expected an embedding size of 1024, got 768\n",
      "2023-11-29 10:53:57,763  WARNI  expected an embedding size of 1024, got 768\n"
     ]
    },
    {
     "name": "stdout",
     "output_type": "stream",
     "text": [
      "/home/craig.car/repos/chiron/chironata/data/alignments_rslts/urn:cts:greekLit:tlg0059.tlg023_plato_1_1848\n",
      "working on urn:cts:greekLit:tlg0059.tlg024_plato_1_1848\n"
     ]
    },
    {
     "name": "stderr",
     "output_type": "stream",
     "text": [
      "2023-11-29 10:54:13,882  WARNI  expected an embedding size of 1024, got 768\n",
      "2023-11-29 10:54:14,384  WARNI  expected an embedding size of 1024, got 768\n"
     ]
    },
    {
     "name": "stdout",
     "output_type": "stream",
     "text": [
      "/home/craig.car/repos/chiron/chironata/data/alignments_rslts/urn:cts:greekLit:tlg0059.tlg024_plato_1_1848\n",
      "working on urn:cts:greekLit:tlg0059.tlg030_plato_1_1848\n"
     ]
    },
    {
     "name": "stderr",
     "output_type": "stream",
     "text": [
      "2023-11-29 10:54:29,227  WARNI  expected an embedding size of 1024, got 768\n",
      "2023-11-29 10:54:29,818  WARNI  expected an embedding size of 1024, got 768\n"
     ]
    },
    {
     "name": "stdout",
     "output_type": "stream",
     "text": [
      "/home/craig.car/repos/chiron/chironata/data/alignments_rslts/urn:cts:greekLit:tlg0059.tlg030_plato_1_1848\n",
      "working on urn:cts:greekLit:tlg0059.tlg031_plato_1_1848\n"
     ]
    },
    {
     "name": "stderr",
     "output_type": "stream",
     "text": [
      "2023-11-29 10:54:48,941  WARNI  expected an embedding size of 1024, got 768\n",
      "2023-11-29 10:54:49,456  WARNI  expected an embedding size of 1024, got 768\n"
     ]
    },
    {
     "name": "stdout",
     "output_type": "stream",
     "text": [
      "/home/craig.car/repos/chiron/chironata/data/alignments_rslts/urn:cts:greekLit:tlg0059.tlg031_plato_1_1848\n",
      "working on urn:cts:greekLit:tlg0059.tlg032_plato_1_1848\n"
     ]
    },
    {
     "name": "stderr",
     "output_type": "stream",
     "text": [
      "2023-11-29 10:55:03,283  WARNI  expected an embedding size of 1024, got 768\n",
      "2023-11-29 10:55:03,798  WARNI  expected an embedding size of 1024, got 768\n"
     ]
    },
    {
     "name": "stdout",
     "output_type": "stream",
     "text": [
      "/home/craig.car/repos/chiron/chironata/data/alignments_rslts/urn:cts:greekLit:tlg0059.tlg032_plato_1_1848\n",
      "working on urn:cts:greekLit:tlg0059.tlg034_plato_1_1848\n"
     ]
    },
    {
     "name": "stderr",
     "output_type": "stream",
     "text": [
      "2023-11-29 10:55:16,984  WARNI  expected an embedding size of 1024, got 768\n",
      "2023-11-29 10:55:17,533  WARNI  expected an embedding size of 1024, got 768\n"
     ]
    },
    {
     "name": "stdout",
     "output_type": "stream",
     "text": [
      "/home/craig.car/repos/chiron/chironata/data/alignments_rslts/urn:cts:greekLit:tlg0059.tlg034_plato_1_1848\n",
      "working on urn:cts:greekLit:tlg0059.tlg035_plato_1_1848\n"
     ]
    },
    {
     "name": "stderr",
     "output_type": "stream",
     "text": [
      "2023-11-29 10:55:36,470  WARNI  expected an embedding size of 1024, got 768\n",
      "2023-11-29 10:55:36,973  WARNI  expected an embedding size of 1024, got 768\n"
     ]
    },
    {
     "name": "stdout",
     "output_type": "stream",
     "text": [
      "/home/craig.car/repos/chiron/chironata/data/alignments_rslts/urn:cts:greekLit:tlg0059.tlg035_plato_1_1848\n",
      "working on urn:cts:greekLit:tlg0059.tlg037_plato_1_1848\n"
     ]
    },
    {
     "name": "stderr",
     "output_type": "stream",
     "text": [
      "2023-11-29 10:55:50,392  WARNI  expected an embedding size of 1024, got 768\n",
      "2023-11-29 10:55:50,903  WARNI  expected an embedding size of 1024, got 768\n"
     ]
    },
    {
     "name": "stdout",
     "output_type": "stream",
     "text": [
      "/home/craig.car/repos/chiron/chironata/data/alignments_rslts/urn:cts:greekLit:tlg0059.tlg037_plato_1_1848\n",
      "working on urn:cts:greekLit:tlg0062.tlg015_lucian_1888\n"
     ]
    },
    {
     "name": "stderr",
     "output_type": "stream",
     "text": [
      "2023-11-29 10:56:03,902  WARNI  expected an embedding size of 1024, got 768\n",
      "2023-11-29 10:56:04,257  WARNI  expected an embedding size of 1024, got 768\n"
     ]
    },
    {
     "name": "stdout",
     "output_type": "stream",
     "text": [
      "/home/craig.car/repos/chiron/chironata/data/alignments_rslts/urn:cts:greekLit:tlg0062.tlg015_lucian_1888\n",
      "working on urn:cts:greekLit:tlg0062.tlg017_lucian_1888\n"
     ]
    },
    {
     "name": "stderr",
     "output_type": "stream",
     "text": [
      "2023-11-29 10:56:11,578  WARNI  expected an embedding size of 1024, got 768\n",
      "2023-11-29 10:56:11,858  WARNI  expected an embedding size of 1024, got 768\n"
     ]
    },
    {
     "name": "stdout",
     "output_type": "stream",
     "text": [
      "/home/craig.car/repos/chiron/chironata/data/alignments_rslts/urn:cts:greekLit:tlg0062.tlg017_lucian_1888\n",
      "working on urn:cts:greekLit:tlg0062.tlg018_lucian_1888\n"
     ]
    },
    {
     "name": "stderr",
     "output_type": "stream",
     "text": [
      "2023-11-29 10:56:18,334  WARNI  expected an embedding size of 1024, got 768\n",
      "2023-11-29 10:56:18,609  WARNI  expected an embedding size of 1024, got 768\n"
     ]
    },
    {
     "name": "stdout",
     "output_type": "stream",
     "text": [
      "/home/craig.car/repos/chiron/chironata/data/alignments_rslts/urn:cts:greekLit:tlg0062.tlg018_lucian_1888\n",
      "working on urn:cts:greekLit:tlg0062.tlg035_lucian_1888\n"
     ]
    },
    {
     "name": "stderr",
     "output_type": "stream",
     "text": [
      "2023-11-29 10:56:25,986  WARNI  expected an embedding size of 1024, got 768\n",
      "2023-11-29 10:56:26,254  WARNI  expected an embedding size of 1024, got 768\n"
     ]
    },
    {
     "name": "stdout",
     "output_type": "stream",
     "text": [
      "/home/craig.car/repos/chiron/chironata/data/alignments_rslts/urn:cts:greekLit:tlg0062.tlg035_lucian_1888\n",
      "working on urn:cts:greekLit:tlg0062.tlg051_lucian_1888\n"
     ]
    },
    {
     "name": "stderr",
     "output_type": "stream",
     "text": [
      "2023-11-29 10:56:33,050  WARNI  expected an embedding size of 1024, got 768\n",
      "2023-11-29 10:56:33,346  WARNI  expected an embedding size of 1024, got 768\n"
     ]
    },
    {
     "name": "stdout",
     "output_type": "stream",
     "text": [
      "/home/craig.car/repos/chiron/chironata/data/alignments_rslts/urn:cts:greekLit:tlg0062.tlg051_lucian_1888\n",
      "working on urn:cts:greekLit:tlg0062.tlg066_lucian_1888\n"
     ]
    },
    {
     "name": "stderr",
     "output_type": "stream",
     "text": [
      "2023-11-29 10:56:40,451  WARNI  expected an embedding size of 1024, got 768\n",
      "2023-11-29 10:56:40,725  WARNI  expected an embedding size of 1024, got 768\n"
     ]
    },
    {
     "name": "stdout",
     "output_type": "stream",
     "text": [
      "/home/craig.car/repos/chiron/chironata/data/alignments_rslts/urn:cts:greekLit:tlg0062.tlg066_lucian_1888\n",
      "working on urn:cts:greekLit:tlg0062.tlg067_lucian_1888\n"
     ]
    },
    {
     "name": "stderr",
     "output_type": "stream",
     "text": [
      "2023-11-29 10:56:48,758  WARNI  expected an embedding size of 1024, got 768\n",
      "2023-11-29 10:56:49,036  WARNI  expected an embedding size of 1024, got 768\n"
     ]
    },
    {
     "name": "stdout",
     "output_type": "stream",
     "text": [
      "/home/craig.car/repos/chiron/chironata/data/alignments_rslts/urn:cts:greekLit:tlg0062.tlg067_lucian_1888\n",
      "working on urn:cts:greekLit:tlg0062.tlg068_lucian_1888\n"
     ]
    },
    {
     "name": "stderr",
     "output_type": "stream",
     "text": [
      "2023-11-29 10:56:57,437  WARNI  expected an embedding size of 1024, got 768\n",
      "2023-11-29 10:56:57,709  WARNI  expected an embedding size of 1024, got 768\n"
     ]
    },
    {
     "name": "stdout",
     "output_type": "stream",
     "text": [
      "/home/craig.car/repos/chiron/chironata/data/alignments_rslts/urn:cts:greekLit:tlg0062.tlg068_lucian_1888\n",
      "working on urn:cts:greekLit:tlg0085.tlg001_aeschylus_1886\n"
     ]
    },
    {
     "name": "stderr",
     "output_type": "stream",
     "text": [
      "2023-11-29 10:57:05,786  WARNI  expected an embedding size of 1024, got 768\n",
      "2023-11-29 10:57:06,147  WARNI  expected an embedding size of 1024, got 768\n"
     ]
    },
    {
     "name": "stdout",
     "output_type": "stream",
     "text": [
      "/home/craig.car/repos/chiron/chironata/data/alignments_rslts/urn:cts:greekLit:tlg0085.tlg001_aeschylus_1886\n",
      "working on urn:cts:greekLit:tlg0085.tlg001_aeschylus_1888\n"
     ]
    },
    {
     "name": "stderr",
     "output_type": "stream",
     "text": [
      "2023-11-29 10:57:15,055  WARNI  expected an embedding size of 1024, got 768\n",
      "2023-11-29 10:57:15,369  WARNI  expected an embedding size of 1024, got 768\n"
     ]
    },
    {
     "name": "stdout",
     "output_type": "stream",
     "text": [
      "/home/craig.car/repos/chiron/chironata/data/alignments_rslts/urn:cts:greekLit:tlg0085.tlg001_aeschylus_1888\n",
      "working on urn:cts:greekLit:tlg0085.tlg001_aeschylus_1909\n"
     ]
    },
    {
     "name": "stderr",
     "output_type": "stream",
     "text": [
      "2023-11-29 10:57:22,231  WARNI  expected an embedding size of 1024, got 768\n",
      "2023-11-29 10:57:22,538  WARNI  expected an embedding size of 1024, got 768\n"
     ]
    },
    {
     "name": "stdout",
     "output_type": "stream",
     "text": [
      "/home/craig.car/repos/chiron/chironata/data/alignments_rslts/urn:cts:greekLit:tlg0085.tlg001_aeschylus_1909\n",
      "working on urn:cts:greekLit:tlg0085.tlg002_aeschylus_1886\n"
     ]
    },
    {
     "name": "stderr",
     "output_type": "stream",
     "text": [
      "2023-11-29 10:57:29,134  WARNI  expected an embedding size of 1024, got 768\n",
      "2023-11-29 10:57:29,457  WARNI  expected an embedding size of 1024, got 768\n"
     ]
    },
    {
     "name": "stdout",
     "output_type": "stream",
     "text": [
      "/home/craig.car/repos/chiron/chironata/data/alignments_rslts/urn:cts:greekLit:tlg0085.tlg002_aeschylus_1886\n",
      "working on urn:cts:greekLit:tlg0085.tlg002_aeschylus_1888\n"
     ]
    },
    {
     "name": "stderr",
     "output_type": "stream",
     "text": [
      "2023-11-29 10:57:37,374  WARNI  expected an embedding size of 1024, got 768\n",
      "2023-11-29 10:57:37,640  WARNI  expected an embedding size of 1024, got 768\n"
     ]
    },
    {
     "name": "stdout",
     "output_type": "stream",
     "text": [
      "/home/craig.car/repos/chiron/chironata/data/alignments_rslts/urn:cts:greekLit:tlg0085.tlg002_aeschylus_1888\n",
      "working on urn:cts:greekLit:tlg0085.tlg002_aeschylus_1909\n"
     ]
    },
    {
     "name": "stderr",
     "output_type": "stream",
     "text": [
      "2023-11-29 10:57:44,314  WARNI  expected an embedding size of 1024, got 768\n",
      "2023-11-29 10:57:44,563  WARNI  expected an embedding size of 1024, got 768\n"
     ]
    },
    {
     "name": "stdout",
     "output_type": "stream",
     "text": [
      "/home/craig.car/repos/chiron/chironata/data/alignments_rslts/urn:cts:greekLit:tlg0085.tlg002_aeschylus_1909\n",
      "working on urn:cts:greekLit:tlg0085.tlg003_aeschylus_1886\n"
     ]
    },
    {
     "name": "stderr",
     "output_type": "stream",
     "text": [
      "2023-11-29 10:57:51,058  WARNI  expected an embedding size of 1024, got 768\n",
      "2023-11-29 10:57:51,372  WARNI  expected an embedding size of 1024, got 768\n"
     ]
    },
    {
     "name": "stdout",
     "output_type": "stream",
     "text": [
      "/home/craig.car/repos/chiron/chironata/data/alignments_rslts/urn:cts:greekLit:tlg0085.tlg003_aeschylus_1886\n",
      "working on urn:cts:greekLit:tlg0085.tlg003_aeschylus_1888\n"
     ]
    },
    {
     "name": "stderr",
     "output_type": "stream",
     "text": [
      "2023-11-29 10:57:59,373  WARNI  expected an embedding size of 1024, got 768\n",
      "2023-11-29 10:57:59,620  WARNI  expected an embedding size of 1024, got 768\n"
     ]
    },
    {
     "name": "stdout",
     "output_type": "stream",
     "text": [
      "/home/craig.car/repos/chiron/chironata/data/alignments_rslts/urn:cts:greekLit:tlg0085.tlg003_aeschylus_1888\n",
      "working on urn:cts:greekLit:tlg0085.tlg003_greekDramas_1912\n"
     ]
    },
    {
     "name": "stderr",
     "output_type": "stream",
     "text": [
      "2023-11-29 10:58:06,653  WARNI  expected an embedding size of 1024, got 768\n",
      "2023-11-29 10:58:07,048  WARNI  expected an embedding size of 1024, got 768\n"
     ]
    },
    {
     "name": "stdout",
     "output_type": "stream",
     "text": [
      "/home/craig.car/repos/chiron/chironata/data/alignments_rslts/urn:cts:greekLit:tlg0085.tlg003_greekDramas_1912\n",
      "working on urn:cts:greekLit:tlg0085.tlg003_aeschylus_1909\n"
     ]
    },
    {
     "name": "stderr",
     "output_type": "stream",
     "text": [
      "2023-11-29 10:58:17,182  WARNI  expected an embedding size of 1024, got 768\n",
      "2023-11-29 10:58:17,425  WARNI  expected an embedding size of 1024, got 768\n"
     ]
    },
    {
     "name": "stdout",
     "output_type": "stream",
     "text": [
      "/home/craig.car/repos/chiron/chironata/data/alignments_rslts/urn:cts:greekLit:tlg0085.tlg003_aeschylus_1909\n",
      "working on urn:cts:greekLit:tlg0085.tlg004_aeschylus_1886\n"
     ]
    },
    {
     "name": "stderr",
     "output_type": "stream",
     "text": [
      "2023-11-29 10:58:23,985  WARNI  expected an embedding size of 1024, got 768\n",
      "2023-11-29 10:58:24,287  WARNI  expected an embedding size of 1024, got 768\n"
     ]
    },
    {
     "name": "stdout",
     "output_type": "stream",
     "text": [
      "/home/craig.car/repos/chiron/chironata/data/alignments_rslts/urn:cts:greekLit:tlg0085.tlg004_aeschylus_1886\n",
      "working on urn:cts:greekLit:tlg0085.tlg004_aeschylus_1888\n"
     ]
    },
    {
     "name": "stderr",
     "output_type": "stream",
     "text": [
      "2023-11-29 10:58:31,375  WARNI  expected an embedding size of 1024, got 768\n",
      "2023-11-29 10:58:31,636  WARNI  expected an embedding size of 1024, got 768\n"
     ]
    },
    {
     "name": "stdout",
     "output_type": "stream",
     "text": [
      "/home/craig.car/repos/chiron/chironata/data/alignments_rslts/urn:cts:greekLit:tlg0085.tlg004_aeschylus_1888\n",
      "working on urn:cts:greekLit:tlg0085.tlg004_aeschylus_1909\n"
     ]
    },
    {
     "name": "stderr",
     "output_type": "stream",
     "text": [
      "2023-11-29 10:58:38,022  WARNI  expected an embedding size of 1024, got 768\n",
      "2023-11-29 10:58:38,262  WARNI  expected an embedding size of 1024, got 768\n"
     ]
    },
    {
     "name": "stdout",
     "output_type": "stream",
     "text": [
      "/home/craig.car/repos/chiron/chironata/data/alignments_rslts/urn:cts:greekLit:tlg0085.tlg004_aeschylus_1909\n",
      "working on urn:cts:greekLit:tlg0085.tlg005_aeschylus_1886\n"
     ]
    },
    {
     "name": "stderr",
     "output_type": "stream",
     "text": [
      "2023-11-29 10:58:44,690  WARNI  expected an embedding size of 1024, got 768\n",
      "2023-11-29 10:58:45,002  WARNI  expected an embedding size of 1024, got 768\n"
     ]
    },
    {
     "name": "stdout",
     "output_type": "stream",
     "text": [
      "/home/craig.car/repos/chiron/chironata/data/alignments_rslts/urn:cts:greekLit:tlg0085.tlg005_aeschylus_1886\n",
      "working on urn:cts:greekLit:tlg0085.tlg005_aeschylus_1888\n"
     ]
    },
    {
     "name": "stderr",
     "output_type": "stream",
     "text": [
      "2023-11-29 10:58:53,040  WARNI  expected an embedding size of 1024, got 768\n",
      "2023-11-29 10:58:53,288  WARNI  expected an embedding size of 1024, got 768\n"
     ]
    },
    {
     "name": "stdout",
     "output_type": "stream",
     "text": [
      "/home/craig.car/repos/chiron/chironata/data/alignments_rslts/urn:cts:greekLit:tlg0085.tlg005_aeschylus_1888\n",
      "working on urn:cts:greekLit:tlg0085.tlg005_greekDramas_1912\n"
     ]
    },
    {
     "name": "stderr",
     "output_type": "stream",
     "text": [
      "2023-11-29 10:59:00,341  WARNI  expected an embedding size of 1024, got 768\n",
      "2023-11-29 10:59:00,730  WARNI  expected an embedding size of 1024, got 768\n"
     ]
    },
    {
     "name": "stdout",
     "output_type": "stream",
     "text": [
      "/home/craig.car/repos/chiron/chironata/data/alignments_rslts/urn:cts:greekLit:tlg0085.tlg005_greekDramas_1912\n",
      "working on urn:cts:greekLit:tlg0085.tlg005_aeschylus_1909\n"
     ]
    },
    {
     "name": "stderr",
     "output_type": "stream",
     "text": [
      "2023-11-29 10:59:11,426  WARNI  expected an embedding size of 1024, got 768\n",
      "2023-11-29 10:59:11,681  WARNI  expected an embedding size of 1024, got 768\n"
     ]
    },
    {
     "name": "stdout",
     "output_type": "stream",
     "text": [
      "/home/craig.car/repos/chiron/chironata/data/alignments_rslts/urn:cts:greekLit:tlg0085.tlg005_aeschylus_1909\n",
      "working on urn:cts:greekLit:tlg0085.tlg006_aeschylus_1886\n"
     ]
    },
    {
     "name": "stderr",
     "output_type": "stream",
     "text": [
      "2023-11-29 10:59:18,771  WARNI  expected an embedding size of 1024, got 768\n",
      "2023-11-29 10:59:19,081  WARNI  expected an embedding size of 1024, got 768\n"
     ]
    },
    {
     "name": "stdout",
     "output_type": "stream",
     "text": [
      "/home/craig.car/repos/chiron/chironata/data/alignments_rslts/urn:cts:greekLit:tlg0085.tlg006_aeschylus_1886\n",
      "working on urn:cts:greekLit:tlg0085.tlg006_aeschylus_1888\n"
     ]
    },
    {
     "name": "stderr",
     "output_type": "stream",
     "text": [
      "2023-11-29 10:59:26,908  WARNI  expected an embedding size of 1024, got 768\n",
      "2023-11-29 10:59:27,154  WARNI  expected an embedding size of 1024, got 768\n"
     ]
    },
    {
     "name": "stdout",
     "output_type": "stream",
     "text": [
      "/home/craig.car/repos/chiron/chironata/data/alignments_rslts/urn:cts:greekLit:tlg0085.tlg006_aeschylus_1888\n",
      "working on urn:cts:greekLit:tlg0085.tlg006_aeschylus_1909\n"
     ]
    },
    {
     "name": "stderr",
     "output_type": "stream",
     "text": [
      "2023-11-29 10:59:34,003  WARNI  expected an embedding size of 1024, got 768\n",
      "2023-11-29 10:59:34,243  WARNI  expected an embedding size of 1024, got 768\n"
     ]
    },
    {
     "name": "stdout",
     "output_type": "stream",
     "text": [
      "/home/craig.car/repos/chiron/chironata/data/alignments_rslts/urn:cts:greekLit:tlg0085.tlg006_aeschylus_1909\n",
      "working on urn:cts:greekLit:tlg0085.tlg007_aeschylus_1886\n"
     ]
    },
    {
     "name": "stderr",
     "output_type": "stream",
     "text": [
      "2023-11-29 10:59:40,812  WARNI  expected an embedding size of 1024, got 768\n",
      "2023-11-29 10:59:41,122  WARNI  expected an embedding size of 1024, got 768\n"
     ]
    },
    {
     "name": "stdout",
     "output_type": "stream",
     "text": [
      "/home/craig.car/repos/chiron/chironata/data/alignments_rslts/urn:cts:greekLit:tlg0085.tlg007_aeschylus_1886\n",
      "working on urn:cts:greekLit:tlg0085.tlg007_aeschylus_1888\n"
     ]
    },
    {
     "name": "stderr",
     "output_type": "stream",
     "text": [
      "2023-11-29 10:59:48,696  WARNI  expected an embedding size of 1024, got 768\n",
      "2023-11-29 10:59:48,944  WARNI  expected an embedding size of 1024, got 768\n"
     ]
    },
    {
     "name": "stdout",
     "output_type": "stream",
     "text": [
      "/home/craig.car/repos/chiron/chironata/data/alignments_rslts/urn:cts:greekLit:tlg0085.tlg007_aeschylus_1888\n",
      "working on urn:cts:greekLit:tlg0085.tlg007_aeschylus_1909\n"
     ]
    },
    {
     "name": "stderr",
     "output_type": "stream",
     "text": [
      "2023-11-29 10:59:55,975  WARNI  expected an embedding size of 1024, got 768\n",
      "2023-11-29 10:59:56,219  WARNI  expected an embedding size of 1024, got 768\n"
     ]
    },
    {
     "name": "stdout",
     "output_type": "stream",
     "text": [
      "/home/craig.car/repos/chiron/chironata/data/alignments_rslts/urn:cts:greekLit:tlg0085.tlg007_aeschylus_1909\n",
      "working on urn:cts:greekLit:tlg0086.tlg001_aristotle_2_1902\n"
     ]
    },
    {
     "name": "stderr",
     "output_type": "stream",
     "text": [
      "2023-11-29 11:00:03,276  WARNI  expected an embedding size of 1024, got 768\n",
      "2023-11-29 11:00:03,803  WARNI  expected an embedding size of 1024, got 768\n"
     ]
    },
    {
     "name": "stdout",
     "output_type": "stream",
     "text": [
      "/home/craig.car/repos/chiron/chironata/data/alignments_rslts/urn:cts:greekLit:tlg0086.tlg001_aristotle_2_1902\n",
      "working on urn:cts:greekLit:tlg0086.tlg001_aristotle_1_1908\n"
     ]
    },
    {
     "name": "stderr",
     "output_type": "stream",
     "text": [
      "2023-11-29 11:00:16,021  WARNI  expected an embedding size of 1024, got 768\n",
      "2023-11-29 11:00:16,377  WARNI  expected an embedding size of 1024, got 768\n"
     ]
    },
    {
     "name": "stdout",
     "output_type": "stream",
     "text": [
      "/home/craig.car/repos/chiron/chironata/data/alignments_rslts/urn:cts:greekLit:tlg0086.tlg001_aristotle_1_1908\n",
      "working on urn:cts:greekLit:tlg0086.tlg006_aristotle_2_1902\n"
     ]
    },
    {
     "name": "stderr",
     "output_type": "stream",
     "text": [
      "2023-11-29 11:00:24,790  WARNI  expected an embedding size of 1024, got 768\n",
      "2023-11-29 11:00:25,175  WARNI  expected an embedding size of 1024, got 768\n"
     ]
    },
    {
     "name": "stdout",
     "output_type": "stream",
     "text": [
      "/home/craig.car/repos/chiron/chironata/data/alignments_rslts/urn:cts:greekLit:tlg0086.tlg006_aristotle_2_1902\n",
      "working on urn:cts:greekLit:tlg0086.tlg006_aristotle_1_1908\n"
     ]
    },
    {
     "name": "stderr",
     "output_type": "stream",
     "text": [
      "2023-11-29 11:00:33,958  WARNI  expected an embedding size of 1024, got 768\n",
      "2023-11-29 11:00:34,244  WARNI  expected an embedding size of 1024, got 768\n"
     ]
    },
    {
     "name": "stdout",
     "output_type": "stream",
     "text": [
      "/home/craig.car/repos/chiron/chironata/data/alignments_rslts/urn:cts:greekLit:tlg0086.tlg006_aristotle_1_1908\n",
      "working on urn:cts:greekLit:tlg0086.tlg014_aristotle_1878\n"
     ]
    },
    {
     "name": "stderr",
     "output_type": "stream",
     "text": [
      "2023-11-29 11:00:41,402  WARNI  expected an embedding size of 1024, got 768\n",
      "2023-11-29 11:00:41,897  WARNI  expected an embedding size of 1024, got 768\n"
     ]
    },
    {
     "name": "stdout",
     "output_type": "stream",
     "text": [
      "/home/craig.car/repos/chiron/chironata/data/alignments_rslts/urn:cts:greekLit:tlg0086.tlg014_aristotle_1878\n",
      "working on urn:cts:greekLit:tlg0086.tlg017_aristotle_2_1902\n"
     ]
    },
    {
     "name": "stderr",
     "output_type": "stream",
     "text": [
      "2023-11-29 11:00:55,396  WARNI  expected an embedding size of 1024, got 768\n",
      "2023-11-29 11:00:55,799  WARNI  expected an embedding size of 1024, got 768\n"
     ]
    },
    {
     "name": "stdout",
     "output_type": "stream",
     "text": [
      "/home/craig.car/repos/chiron/chironata/data/alignments_rslts/urn:cts:greekLit:tlg0086.tlg017_aristotle_2_1902\n",
      "working on urn:cts:greekLit:tlg0086.tlg017_aristotle_1_1908\n"
     ]
    },
    {
     "name": "stderr",
     "output_type": "stream",
     "text": [
      "2023-11-29 11:01:04,429  WARNI  expected an embedding size of 1024, got 768\n",
      "2023-11-29 11:01:04,709  WARNI  expected an embedding size of 1024, got 768\n"
     ]
    },
    {
     "name": "stdout",
     "output_type": "stream",
     "text": [
      "/home/craig.car/repos/chiron/chironata/data/alignments_rslts/urn:cts:greekLit:tlg0086.tlg017_aristotle_1_1908\n",
      "working on urn:cts:greekLit:tlg0086.tlg034_aristotle_1850\n"
     ]
    },
    {
     "name": "stderr",
     "output_type": "stream",
     "text": [
      "2023-11-29 11:01:10,567  WARNI  expected an embedding size of 1024, got 768\n",
      "2023-11-29 11:01:11,034  WARNI  expected an embedding size of 1024, got 768\n"
     ]
    },
    {
     "name": "stdout",
     "output_type": "stream",
     "text": [
      "/home/craig.car/repos/chiron/chironata/data/alignments_rslts/urn:cts:greekLit:tlg0086.tlg034_aristotle_1850\n",
      "working on urn:cts:greekLit:tlg0086.tlg040_aristotle_2_1902\n"
     ]
    },
    {
     "name": "stderr",
     "output_type": "stream",
     "text": [
      "2023-11-29 11:01:20,479  WARNI  expected an embedding size of 1024, got 768\n",
      "2023-11-29 11:01:20,847  WARNI  expected an embedding size of 1024, got 768\n"
     ]
    },
    {
     "name": "stdout",
     "output_type": "stream",
     "text": [
      "/home/craig.car/repos/chiron/chironata/data/alignments_rslts/urn:cts:greekLit:tlg0086.tlg040_aristotle_2_1902\n",
      "working on urn:cts:greekLit:tlg0086.tlg040_aristotle_1_1908\n"
     ]
    },
    {
     "name": "stderr",
     "output_type": "stream",
     "text": [
      "2023-11-29 11:01:29,763  WARNI  expected an embedding size of 1024, got 768\n",
      "2023-11-29 11:01:30,050  WARNI  expected an embedding size of 1024, got 768\n"
     ]
    },
    {
     "name": "stdout",
     "output_type": "stream",
     "text": [
      "/home/craig.car/repos/chiron/chironata/data/alignments_rslts/urn:cts:greekLit:tlg0086.tlg040_aristotle_1_1908\n",
      "working on urn:cts:greekLit:tlg0086.tlg044_aristotle_2_1902\n"
     ]
    },
    {
     "name": "stderr",
     "output_type": "stream",
     "text": [
      "2023-11-29 11:01:36,752  WARNI  expected an embedding size of 1024, got 768\n",
      "2023-11-29 11:01:37,125  WARNI  expected an embedding size of 1024, got 768\n"
     ]
    },
    {
     "name": "stdout",
     "output_type": "stream",
     "text": [
      "/home/craig.car/repos/chiron/chironata/data/alignments_rslts/urn:cts:greekLit:tlg0086.tlg044_aristotle_2_1902\n",
      "working on urn:cts:greekLit:tlg0086.tlg044_aristotle_1_1908\n"
     ]
    },
    {
     "name": "stderr",
     "output_type": "stream",
     "text": [
      "2023-11-29 11:01:47,486  WARNI  expected an embedding size of 1024, got 768\n",
      "2023-11-29 11:01:47,760  WARNI  expected an embedding size of 1024, got 768\n"
     ]
    },
    {
     "name": "stdout",
     "output_type": "stream",
     "text": [
      "/home/craig.car/repos/chiron/chironata/data/alignments_rslts/urn:cts:greekLit:tlg0086.tlg044_aristotle_1_1908\n",
      "working on urn:cts:greekLit:tlg0525.tlg001_pausanias_1886_1\n"
     ]
    },
    {
     "name": "stderr",
     "output_type": "stream",
     "text": [
      "2023-11-29 11:01:56,170  WARNI  expected an embedding size of 1024, got 768\n",
      "2023-11-29 11:01:56,588  WARNI  expected an embedding size of 1024, got 768\n"
     ]
    },
    {
     "name": "stdout",
     "output_type": "stream",
     "text": [
      "/home/craig.car/repos/chiron/chironata/data/alignments_rslts/urn:cts:greekLit:tlg0525.tlg001_pausanias_1886_1\n",
      "working on urn:cts:greekLit:tlg0525.tlg001_pausanias_2_1886\n"
     ]
    },
    {
     "name": "stderr",
     "output_type": "stream",
     "text": [
      "2023-11-29 11:02:12,164  WARNI  expected an embedding size of 1024, got 768\n",
      "2023-11-29 11:02:12,499  WARNI  expected an embedding size of 1024, got 768\n"
     ]
    },
    {
     "name": "stdout",
     "output_type": "stream",
     "text": [
      "/home/craig.car/repos/chiron/chironata/data/alignments_rslts/urn:cts:greekLit:tlg0525.tlg001_pausanias_2_1886\n",
      "working on urn:cts:greekLit:tlg0561.tlg001_heliodorus_longus_achillesTatius_1901\n"
     ]
    },
    {
     "name": "stderr",
     "output_type": "stream",
     "text": [
      "2023-11-29 11:02:26,045  WARNI  expected an embedding size of 1024, got 768\n",
      "2023-11-29 11:02:26,721  WARNI  expected an embedding size of 1024, got 768\n"
     ]
    },
    {
     "name": "stdout",
     "output_type": "stream",
     "text": [
      "/home/craig.car/repos/chiron/chironata/data/alignments_rslts/urn:cts:greekLit:tlg0561.tlg001_heliodorus_longus_achillesTatius_1901\n",
      "working on urn:cts:greekLit:tlg0640.tlg001_tlg0640.tlg001.ogl-eng1\n"
     ]
    },
    {
     "name": "stderr",
     "output_type": "stream",
     "text": [
      "2023-11-29 11:02:37,888  WARNI  expected an embedding size of 1024, got 768\n",
      "2023-11-29 11:02:37,997  WARNI  expected an embedding size of 1024, got 768\n"
     ]
    },
    {
     "name": "stdout",
     "output_type": "stream",
     "text": [
      "/home/craig.car/repos/chiron/chironata/data/alignments_rslts/urn:cts:greekLit:tlg0640.tlg001_tlg0640.tlg001.ogl-eng1\n",
      "working on urn:cts:greekLit:tlg2000.tlg001_plotinus_1895\n"
     ]
    },
    {
     "name": "stderr",
     "output_type": "stream",
     "text": [
      "2023-11-29 11:02:43,359  WARNI  expected an embedding size of 1024, got 768\n",
      "2023-11-29 11:02:43,716  WARNI  expected an embedding size of 1024, got 768\n"
     ]
    },
    {
     "name": "stdout",
     "output_type": "stream",
     "text": [
      "/home/craig.car/repos/chiron/chironata/data/alignments_rslts/urn:cts:greekLit:tlg2000.tlg001_plotinus_1895\n",
      "working on urn:cts:greekLit:tlg2034.tlg007_aristotle_2_1902\n"
     ]
    },
    {
     "name": "stderr",
     "output_type": "stream",
     "text": [
      "2023-11-29 11:03:03,474  WARNI  expected an embedding size of 1024, got 768\n",
      "2023-11-29 11:03:03,837  WARNI  expected an embedding size of 1024, got 768\n"
     ]
    },
    {
     "name": "stdout",
     "output_type": "stream",
     "text": [
      "/home/craig.car/repos/chiron/chironata/data/alignments_rslts/urn:cts:greekLit:tlg2034.tlg007_aristotle_2_1902\n",
      "working on urn:cts:greekLit:tlg2034.tlg007_aristotle_1_1908\n"
     ]
    },
    {
     "name": "stderr",
     "output_type": "stream",
     "text": [
      "2023-11-29 11:03:15,904  WARNI  expected an embedding size of 1024, got 768\n",
      "2023-11-29 11:03:16,182  WARNI  expected an embedding size of 1024, got 768\n"
     ]
    },
    {
     "name": "stdout",
     "output_type": "stream",
     "text": [
      "/home/craig.car/repos/chiron/chironata/data/alignments_rslts/urn:cts:greekLit:tlg2034.tlg007_aristotle_1_1908\n",
      "working on urn:cts:latinLit:phi0119.phi010_aristophanes_1907_2\n"
     ]
    },
    {
     "name": "stderr",
     "output_type": "stream",
     "text": [
      "2023-11-29 11:03:26,252  WARNI  expected an embedding size of 1024, got 768\n",
      "2023-11-29 11:03:26,608  WARNI  expected an embedding size of 1024, got 768\n"
     ]
    },
    {
     "name": "stdout",
     "output_type": "stream",
     "text": [
      "/home/craig.car/repos/chiron/chironata/data/alignments_rslts/urn:cts:latinLit:phi0119.phi010_aristophanes_1907_2\n",
      "working on urn:cts:latinLit:phi0134.phi001_terence_phaedrus_1891\n"
     ]
    },
    {
     "name": "stderr",
     "output_type": "stream",
     "text": [
      "2023-11-29 11:03:35,567  WARNI  expected an embedding size of 1024, got 768\n",
      "2023-11-29 11:03:36,229  WARNI  expected an embedding size of 1024, got 768\n"
     ]
    },
    {
     "name": "stdout",
     "output_type": "stream",
     "text": [
      "/home/craig.car/repos/chiron/chironata/data/alignments_rslts/urn:cts:latinLit:phi0134.phi001_terence_phaedrus_1891\n",
      "working on urn:cts:latinLit:phi0134.phi002_terence_phaedrus_1891\n"
     ]
    },
    {
     "name": "stderr",
     "output_type": "stream",
     "text": [
      "2023-11-29 11:03:53,830  WARNI  expected an embedding size of 1024, got 768\n",
      "2023-11-29 11:03:54,399  WARNI  expected an embedding size of 1024, got 768\n"
     ]
    },
    {
     "name": "stdout",
     "output_type": "stream",
     "text": [
      "/home/craig.car/repos/chiron/chironata/data/alignments_rslts/urn:cts:latinLit:phi0134.phi002_terence_phaedrus_1891\n",
      "working on urn:cts:latinLit:phi0134.phi003_terence_phaedrus_1891\n"
     ]
    },
    {
     "name": "stderr",
     "output_type": "stream",
     "text": [
      "2023-11-29 11:04:10,554  WARNI  expected an embedding size of 1024, got 768\n",
      "2023-11-29 11:04:11,062  WARNI  expected an embedding size of 1024, got 768\n"
     ]
    },
    {
     "name": "stdout",
     "output_type": "stream",
     "text": [
      "/home/craig.car/repos/chiron/chironata/data/alignments_rslts/urn:cts:latinLit:phi0134.phi003_terence_phaedrus_1891\n",
      "working on urn:cts:latinLit:phi0134.phi004_terence_phaedrus_1891\n"
     ]
    },
    {
     "name": "stderr",
     "output_type": "stream",
     "text": [
      "2023-11-29 11:04:27,315  WARNI  expected an embedding size of 1024, got 768\n",
      "2023-11-29 11:04:27,819  WARNI  expected an embedding size of 1024, got 768\n"
     ]
    },
    {
     "name": "stdout",
     "output_type": "stream",
     "text": [
      "/home/craig.car/repos/chiron/chironata/data/alignments_rslts/urn:cts:latinLit:phi0134.phi004_terence_phaedrus_1891\n",
      "working on urn:cts:latinLit:phi0134.phi005_terence_phaedrus_1891\n"
     ]
    },
    {
     "name": "stderr",
     "output_type": "stream",
     "text": [
      "2023-11-29 11:04:43,892  WARNI  expected an embedding size of 1024, got 768\n",
      "2023-11-29 11:04:44,395  WARNI  expected an embedding size of 1024, got 768\n"
     ]
    },
    {
     "name": "stdout",
     "output_type": "stream",
     "text": [
      "/home/craig.car/repos/chiron/chironata/data/alignments_rslts/urn:cts:latinLit:phi0134.phi005_terence_phaedrus_1891\n",
      "working on urn:cts:latinLit:phi0134.phi006_terence_phaedrus_1891\n"
     ]
    },
    {
     "name": "stderr",
     "output_type": "stream",
     "text": [
      "2023-11-29 11:04:59,203  WARNI  expected an embedding size of 1024, got 768\n",
      "2023-11-29 11:04:59,702  WARNI  expected an embedding size of 1024, got 768\n"
     ]
    },
    {
     "name": "stdout",
     "output_type": "stream",
     "text": [
      "/home/craig.car/repos/chiron/chironata/data/alignments_rslts/urn:cts:latinLit:phi0134.phi006_terence_phaedrus_1891\n",
      "working on urn:cts:latinLit:phi0472.phi001_catullus_tibullus_1910\n"
     ]
    },
    {
     "name": "stderr",
     "output_type": "stream",
     "text": [
      "2023-11-29 11:05:16,122  WARNI  expected an embedding size of 1024, got 768\n",
      "2023-11-29 11:05:16,532  WARNI  expected an embedding size of 1024, got 768\n"
     ]
    },
    {
     "name": "stdout",
     "output_type": "stream",
     "text": [
      "/home/craig.car/repos/chiron/chironata/data/alignments_rslts/urn:cts:latinLit:phi0472.phi001_catullus_tibullus_1910\n",
      "working on urn:cts:latinLit:phi0474.phi037_cicero_1896\n"
     ]
    },
    {
     "name": "stderr",
     "output_type": "stream",
     "text": [
      "2023-11-29 11:05:26,362  WARNI  expected an embedding size of 1024, got 768\n",
      "2023-11-29 11:05:26,999  WARNI  expected an embedding size of 1024, got 768\n"
     ]
    },
    {
     "name": "stdout",
     "output_type": "stream",
     "text": [
      "/home/craig.car/repos/chiron/chironata/data/alignments_rslts/urn:cts:latinLit:phi0474.phi037_cicero_1896\n",
      "working on urn:cts:latinLit:phi0474.phi039_cicero_1896\n"
     ]
    },
    {
     "name": "stderr",
     "output_type": "stream",
     "text": [
      "2023-11-29 11:05:40,831  WARNI  expected an embedding size of 1024, got 768\n",
      "2023-11-29 11:05:41,324  WARNI  expected an embedding size of 1024, got 768\n"
     ]
    },
    {
     "name": "stdout",
     "output_type": "stream",
     "text": [
      "/home/craig.car/repos/chiron/chironata/data/alignments_rslts/urn:cts:latinLit:phi0474.phi039_cicero_1896\n",
      "working on urn:cts:latinLit:phi0474.phi051_cicero_plinyYounger_1909\n"
     ]
    },
    {
     "name": "stderr",
     "output_type": "stream",
     "text": [
      "2023-11-29 11:05:53,634  WARNI  expected an embedding size of 1024, got 768\n",
      "2023-11-29 11:05:54,059  WARNI  expected an embedding size of 1024, got 768\n"
     ]
    },
    {
     "name": "stdout",
     "output_type": "stream",
     "text": [
      "/home/craig.car/repos/chiron/chironata/data/alignments_rslts/urn:cts:latinLit:phi0474.phi051_cicero_plinyYounger_1909\n",
      "working on urn:cts:latinLit:phi0474.phi051_cicero_1874\n"
     ]
    },
    {
     "name": "stderr",
     "output_type": "stream",
     "text": [
      "2023-11-29 11:06:01,316  WARNI  expected an embedding size of 1024, got 768\n",
      "2023-11-29 11:06:01,646  WARNI  expected an embedding size of 1024, got 768\n"
     ]
    },
    {
     "name": "stdout",
     "output_type": "stream",
     "text": [
      "/home/craig.car/repos/chiron/chironata/data/alignments_rslts/urn:cts:latinLit:phi0474.phi051_cicero_1874\n",
      "working on urn:cts:latinLit:phi0474.phi052_cicero_plinyYounger_1909\n"
     ]
    },
    {
     "name": "stderr",
     "output_type": "stream",
     "text": [
      "2023-11-29 11:06:08,025  WARNI  expected an embedding size of 1024, got 768\n",
      "2023-11-29 11:06:08,402  WARNI  expected an embedding size of 1024, got 768\n"
     ]
    },
    {
     "name": "stdout",
     "output_type": "stream",
     "text": [
      "/home/craig.car/repos/chiron/chironata/data/alignments_rslts/urn:cts:latinLit:phi0474.phi052_cicero_plinyYounger_1909\n",
      "working on urn:cts:latinLit:phi0474.phi052_cicero_1874\n"
     ]
    },
    {
     "name": "stderr",
     "output_type": "stream",
     "text": [
      "2023-11-29 11:06:15,949  WARNI  expected an embedding size of 1024, got 768\n",
      "2023-11-29 11:06:16,228  WARNI  expected an embedding size of 1024, got 768\n"
     ]
    },
    {
     "name": "stdout",
     "output_type": "stream",
     "text": [
      "/home/craig.car/repos/chiron/chironata/data/alignments_rslts/urn:cts:latinLit:phi0474.phi052_cicero_1874\n",
      "working on urn:cts:latinLit:phi0474.phi055_cicero_1874\n"
     ]
    },
    {
     "name": "stderr",
     "output_type": "stream",
     "text": [
      "2023-11-29 11:06:23,106  WARNI  expected an embedding size of 1024, got 768\n",
      "2023-11-29 11:06:23,394  WARNI  expected an embedding size of 1024, got 768\n"
     ]
    },
    {
     "name": "stdout",
     "output_type": "stream",
     "text": [
      "/home/craig.car/repos/chiron/chironata/data/alignments_rslts/urn:cts:latinLit:phi0474.phi055_cicero_1874\n",
      "working on urn:cts:latinLit:phi0474.phi057_cicero_1874\n"
     ]
    },
    {
     "name": "stderr",
     "output_type": "stream",
     "text": [
      "2023-11-29 11:06:32,648  WARNI  expected an embedding size of 1024, got 768\n",
      "2023-11-29 11:06:32,912  WARNI  expected an embedding size of 1024, got 768\n"
     ]
    },
    {
     "name": "stdout",
     "output_type": "stream",
     "text": [
      "/home/craig.car/repos/chiron/chironata/data/alignments_rslts/urn:cts:latinLit:phi0474.phi057_cicero_1874\n",
      "working on urn:cts:latinLit:phi0474.phi058_cicero_1874\n"
     ]
    },
    {
     "name": "stderr",
     "output_type": "stream",
     "text": [
      "2023-11-29 11:06:51,178  WARNI  expected an embedding size of 1024, got 768\n",
      "2023-11-29 11:06:51,432  WARNI  expected an embedding size of 1024, got 768\n"
     ]
    },
    {
     "name": "stdout",
     "output_type": "stream",
     "text": [
      "/home/craig.car/repos/chiron/chironata/data/alignments_rslts/urn:cts:latinLit:phi0474.phi058_cicero_1874\n",
      "working on urn:cts:latinLit:phi0474.phi058_cicero_1896\n"
     ]
    },
    {
     "name": "stderr",
     "output_type": "stream",
     "text": [
      "2023-11-29 11:06:59,602  WARNI  expected an embedding size of 1024, got 768\n",
      "2023-11-29 11:07:00,073  WARNI  expected an embedding size of 1024, got 768\n"
     ]
    },
    {
     "name": "stdout",
     "output_type": "stream",
     "text": [
      "/home/craig.car/repos/chiron/chironata/data/alignments_rslts/urn:cts:latinLit:phi0474.phi058_cicero_1896\n",
      "working on urn:cts:latinLit:phi0474.phi059_cicero_1896\n"
     ]
    },
    {
     "name": "stderr",
     "output_type": "stream",
     "text": [
      "2023-11-29 11:07:10,998  WARNI  expected an embedding size of 1024, got 768\n",
      "2023-11-29 11:07:11,483  WARNI  expected an embedding size of 1024, got 768\n"
     ]
    },
    {
     "name": "stdout",
     "output_type": "stream",
     "text": [
      "/home/craig.car/repos/chiron/chironata/data/alignments_rslts/urn:cts:latinLit:phi0474.phi059_cicero_1896\n",
      "working on urn:cts:latinLit:phi0550.phi001_lucretius_1900\n"
     ]
    },
    {
     "name": "stderr",
     "output_type": "stream",
     "text": [
      "2023-11-29 11:07:22,992  WARNI  expected an embedding size of 1024, got 768\n",
      "2023-11-29 11:07:23,175  WARNI  expected an embedding size of 1024, got 768\n"
     ]
    },
    {
     "name": "stdout",
     "output_type": "stream",
     "text": [
      "/home/craig.car/repos/chiron/chironata/data/alignments_rslts/urn:cts:latinLit:phi0550.phi001_lucretius_1900\n",
      "working on urn:cts:latinLit:phi0550.phi001_lucretius_1920\n"
     ]
    },
    {
     "name": "stderr",
     "output_type": "stream",
     "text": [
      "2023-11-29 11:07:29,729  WARNI  expected an embedding size of 1024, got 768\n",
      "2023-11-29 11:07:29,848  WARNI  expected an embedding size of 1024, got 768\n"
     ]
    },
    {
     "name": "stdout",
     "output_type": "stream",
     "text": [
      "/home/craig.car/repos/chiron/chironata/data/alignments_rslts/urn:cts:latinLit:phi0550.phi001_lucretius_1920\n",
      "working on urn:cts:latinLit:phi0550.phi001_lucretius_1893\n"
     ]
    },
    {
     "name": "stderr",
     "output_type": "stream",
     "text": [
      "2023-11-29 11:07:36,426  WARNI  expected an embedding size of 1024, got 768\n",
      "2023-11-29 11:07:36,949  WARNI  expected an embedding size of 1024, got 768\n"
     ]
    },
    {
     "name": "stdout",
     "output_type": "stream",
     "text": [
      "/home/craig.car/repos/chiron/chironata/data/alignments_rslts/urn:cts:latinLit:phi0550.phi001_lucretius_1893\n",
      "working on urn:cts:latinLit:phi0588.abo001_justin_cNepos_eutropius_1902\n"
     ]
    },
    {
     "name": "stderr",
     "output_type": "stream",
     "text": [
      "2023-11-29 11:07:49,947  WARNI  expected an embedding size of 1024, got 768\n",
      "2023-11-29 11:07:50,625  WARNI  expected an embedding size of 1024, got 768\n"
     ]
    },
    {
     "name": "stdout",
     "output_type": "stream",
     "text": [
      "/home/craig.car/repos/chiron/chironata/data/alignments_rslts/urn:cts:latinLit:phi0588.abo001_justin_cNepos_eutropius_1902\n",
      "working on urn:cts:latinLit:phi0588.abo002_justin_cNepos_eutropius_1902\n"
     ]
    },
    {
     "name": "stderr",
     "output_type": "stream",
     "text": [
      "2023-11-29 11:07:59,858  WARNI  expected an embedding size of 1024, got 768\n",
      "2023-11-29 11:08:00,391  WARNI  expected an embedding size of 1024, got 768\n"
     ]
    },
    {
     "name": "stdout",
     "output_type": "stream",
     "text": [
      "/home/craig.car/repos/chiron/chironata/data/alignments_rslts/urn:cts:latinLit:phi0588.abo002_justin_cNepos_eutropius_1902\n",
      "working on urn:cts:latinLit:phi0588.abo003_justin_cNepos_eutropius_1902\n"
     ]
    },
    {
     "name": "stderr",
     "output_type": "stream",
     "text": [
      "2023-11-29 11:08:09,674  WARNI  expected an embedding size of 1024, got 768\n",
      "2023-11-29 11:08:10,183  WARNI  expected an embedding size of 1024, got 768\n"
     ]
    },
    {
     "name": "stdout",
     "output_type": "stream",
     "text": [
      "/home/craig.car/repos/chiron/chironata/data/alignments_rslts/urn:cts:latinLit:phi0588.abo003_justin_cNepos_eutropius_1902\n",
      "working on urn:cts:latinLit:phi0588.abo004_justin_cNepos_eutropius_1902\n"
     ]
    },
    {
     "name": "stderr",
     "output_type": "stream",
     "text": [
      "2023-11-29 11:08:18,044  WARNI  expected an embedding size of 1024, got 768\n",
      "2023-11-29 11:08:18,561  WARNI  expected an embedding size of 1024, got 768\n"
     ]
    },
    {
     "name": "stdout",
     "output_type": "stream",
     "text": [
      "/home/craig.car/repos/chiron/chironata/data/alignments_rslts/urn:cts:latinLit:phi0588.abo004_justin_cNepos_eutropius_1902\n",
      "working on urn:cts:latinLit:phi0588.abo005_justin_cNepos_eutropius_1902\n"
     ]
    },
    {
     "name": "stderr",
     "output_type": "stream",
     "text": [
      "2023-11-29 11:08:27,558  WARNI  expected an embedding size of 1024, got 768\n",
      "2023-11-29 11:08:28,070  WARNI  expected an embedding size of 1024, got 768\n"
     ]
    },
    {
     "name": "stdout",
     "output_type": "stream",
     "text": [
      "/home/craig.car/repos/chiron/chironata/data/alignments_rslts/urn:cts:latinLit:phi0588.abo005_justin_cNepos_eutropius_1902\n",
      "working on urn:cts:latinLit:phi0588.abo006_justin_cNepos_eutropius_1902\n"
     ]
    },
    {
     "name": "stderr",
     "output_type": "stream",
     "text": [
      "2023-11-29 11:08:35,724  WARNI  expected an embedding size of 1024, got 768\n",
      "2023-11-29 11:08:36,233  WARNI  expected an embedding size of 1024, got 768\n"
     ]
    },
    {
     "name": "stdout",
     "output_type": "stream",
     "text": [
      "/home/craig.car/repos/chiron/chironata/data/alignments_rslts/urn:cts:latinLit:phi0588.abo006_justin_cNepos_eutropius_1902\n",
      "working on urn:cts:latinLit:phi0588.abo007_justin_cNepos_eutropius_1902\n"
     ]
    },
    {
     "name": "stderr",
     "output_type": "stream",
     "text": [
      "2023-11-29 11:08:45,048  WARNI  expected an embedding size of 1024, got 768\n",
      "2023-11-29 11:08:45,560  WARNI  expected an embedding size of 1024, got 768\n"
     ]
    },
    {
     "name": "stdout",
     "output_type": "stream",
     "text": [
      "/home/craig.car/repos/chiron/chironata/data/alignments_rslts/urn:cts:latinLit:phi0588.abo007_justin_cNepos_eutropius_1902\n",
      "working on urn:cts:latinLit:phi0588.abo008_justin_cNepos_eutropius_1902\n"
     ]
    },
    {
     "name": "stderr",
     "output_type": "stream",
     "text": [
      "2023-11-29 11:08:54,519  WARNI  expected an embedding size of 1024, got 768\n",
      "2023-11-29 11:08:55,039  WARNI  expected an embedding size of 1024, got 768\n"
     ]
    },
    {
     "name": "stdout",
     "output_type": "stream",
     "text": [
      "/home/craig.car/repos/chiron/chironata/data/alignments_rslts/urn:cts:latinLit:phi0588.abo008_justin_cNepos_eutropius_1902\n",
      "working on urn:cts:latinLit:phi0588.abo009_justin_cNepos_eutropius_1902\n"
     ]
    },
    {
     "name": "stderr",
     "output_type": "stream",
     "text": [
      "2023-11-29 11:09:05,355  WARNI  expected an embedding size of 1024, got 768\n",
      "2023-11-29 11:09:05,891  WARNI  expected an embedding size of 1024, got 768\n"
     ]
    },
    {
     "name": "stdout",
     "output_type": "stream",
     "text": [
      "/home/craig.car/repos/chiron/chironata/data/alignments_rslts/urn:cts:latinLit:phi0588.abo009_justin_cNepos_eutropius_1902\n",
      "working on urn:cts:latinLit:phi0588.abo010_justin_cNepos_eutropius_1902\n"
     ]
    },
    {
     "name": "stderr",
     "output_type": "stream",
     "text": [
      "2023-11-29 11:09:14,981  WARNI  expected an embedding size of 1024, got 768\n",
      "2023-11-29 11:09:15,506  WARNI  expected an embedding size of 1024, got 768\n"
     ]
    },
    {
     "name": "stdout",
     "output_type": "stream",
     "text": [
      "/home/craig.car/repos/chiron/chironata/data/alignments_rslts/urn:cts:latinLit:phi0588.abo010_justin_cNepos_eutropius_1902\n",
      "working on urn:cts:latinLit:phi0588.abo011_justin_cNepos_eutropius_1902\n"
     ]
    },
    {
     "name": "stderr",
     "output_type": "stream",
     "text": [
      "2023-11-29 11:09:24,773  WARNI  expected an embedding size of 1024, got 768\n",
      "2023-11-29 11:09:25,296  WARNI  expected an embedding size of 1024, got 768\n"
     ]
    },
    {
     "name": "stdout",
     "output_type": "stream",
     "text": [
      "/home/craig.car/repos/chiron/chironata/data/alignments_rslts/urn:cts:latinLit:phi0588.abo011_justin_cNepos_eutropius_1902\n",
      "working on urn:cts:latinLit:phi0588.abo012_justin_cNepos_eutropius_1902\n"
     ]
    },
    {
     "name": "stderr",
     "output_type": "stream",
     "text": [
      "2023-11-29 11:09:33,436  WARNI  expected an embedding size of 1024, got 768\n",
      "2023-11-29 11:09:33,957  WARNI  expected an embedding size of 1024, got 768\n"
     ]
    },
    {
     "name": "stdout",
     "output_type": "stream",
     "text": [
      "/home/craig.car/repos/chiron/chironata/data/alignments_rslts/urn:cts:latinLit:phi0588.abo012_justin_cNepos_eutropius_1902\n",
      "working on urn:cts:latinLit:phi0588.abo013_justin_cNepos_eutropius_1902\n"
     ]
    },
    {
     "name": "stderr",
     "output_type": "stream",
     "text": [
      "2023-11-29 11:09:42,491  WARNI  expected an embedding size of 1024, got 768\n",
      "2023-11-29 11:09:43,016  WARNI  expected an embedding size of 1024, got 768\n"
     ]
    },
    {
     "name": "stdout",
     "output_type": "stream",
     "text": [
      "/home/craig.car/repos/chiron/chironata/data/alignments_rslts/urn:cts:latinLit:phi0588.abo013_justin_cNepos_eutropius_1902\n",
      "working on urn:cts:latinLit:phi0588.abo014_justin_cNepos_eutropius_1902\n"
     ]
    },
    {
     "name": "stderr",
     "output_type": "stream",
     "text": [
      "2023-11-29 11:09:52,266  WARNI  expected an embedding size of 1024, got 768\n",
      "2023-11-29 11:09:52,785  WARNI  expected an embedding size of 1024, got 768\n"
     ]
    },
    {
     "name": "stdout",
     "output_type": "stream",
     "text": [
      "/home/craig.car/repos/chiron/chironata/data/alignments_rslts/urn:cts:latinLit:phi0588.abo014_justin_cNepos_eutropius_1902\n",
      "working on urn:cts:latinLit:phi0588.abo015_justin_cNepos_eutropius_1902\n"
     ]
    },
    {
     "name": "stderr",
     "output_type": "stream",
     "text": [
      "2023-11-29 11:10:02,845  WARNI  expected an embedding size of 1024, got 768\n",
      "2023-11-29 11:10:03,363  WARNI  expected an embedding size of 1024, got 768\n"
     ]
    },
    {
     "name": "stdout",
     "output_type": "stream",
     "text": [
      "/home/craig.car/repos/chiron/chironata/data/alignments_rslts/urn:cts:latinLit:phi0588.abo015_justin_cNepos_eutropius_1902\n",
      "working on urn:cts:latinLit:phi0588.abo016_justin_cNepos_eutropius_1902\n"
     ]
    },
    {
     "name": "stderr",
     "output_type": "stream",
     "text": [
      "2023-11-29 11:10:13,005  WARNI  expected an embedding size of 1024, got 768\n",
      "2023-11-29 11:10:13,551  WARNI  expected an embedding size of 1024, got 768\n"
     ]
    },
    {
     "name": "stdout",
     "output_type": "stream",
     "text": [
      "/home/craig.car/repos/chiron/chironata/data/alignments_rslts/urn:cts:latinLit:phi0588.abo016_justin_cNepos_eutropius_1902\n",
      "working on urn:cts:latinLit:phi0588.abo017_justin_cNepos_eutropius_1902\n"
     ]
    },
    {
     "name": "stderr",
     "output_type": "stream",
     "text": [
      "2023-11-29 11:10:22,691  WARNI  expected an embedding size of 1024, got 768\n",
      "2023-11-29 11:10:23,228  WARNI  expected an embedding size of 1024, got 768\n"
     ]
    },
    {
     "name": "stdout",
     "output_type": "stream",
     "text": [
      "/home/craig.car/repos/chiron/chironata/data/alignments_rslts/urn:cts:latinLit:phi0588.abo017_justin_cNepos_eutropius_1902\n",
      "working on urn:cts:latinLit:phi0588.abo018_justin_cNepos_eutropius_1902\n"
     ]
    },
    {
     "name": "stderr",
     "output_type": "stream",
     "text": [
      "2023-11-29 11:10:32,837  WARNI  expected an embedding size of 1024, got 768\n",
      "2023-11-29 11:10:33,358  WARNI  expected an embedding size of 1024, got 768\n"
     ]
    },
    {
     "name": "stdout",
     "output_type": "stream",
     "text": [
      "/home/craig.car/repos/chiron/chironata/data/alignments_rslts/urn:cts:latinLit:phi0588.abo018_justin_cNepos_eutropius_1902\n",
      "working on urn:cts:latinLit:phi0588.abo019_justin_cNepos_eutropius_1902\n"
     ]
    },
    {
     "name": "stderr",
     "output_type": "stream",
     "text": [
      "2023-11-29 11:10:42,693  WARNI  expected an embedding size of 1024, got 768\n",
      "2023-11-29 11:10:43,229  WARNI  expected an embedding size of 1024, got 768\n"
     ]
    },
    {
     "name": "stdout",
     "output_type": "stream",
     "text": [
      "/home/craig.car/repos/chiron/chironata/data/alignments_rslts/urn:cts:latinLit:phi0588.abo019_justin_cNepos_eutropius_1902\n",
      "working on urn:cts:latinLit:phi0588.abo020_justin_cNepos_eutropius_1902\n"
     ]
    },
    {
     "name": "stderr",
     "output_type": "stream",
     "text": [
      "2023-11-29 11:10:52,103  WARNI  expected an embedding size of 1024, got 768\n",
      "2023-11-29 11:10:52,621  WARNI  expected an embedding size of 1024, got 768\n"
     ]
    },
    {
     "name": "stdout",
     "output_type": "stream",
     "text": [
      "/home/craig.car/repos/chiron/chironata/data/alignments_rslts/urn:cts:latinLit:phi0588.abo020_justin_cNepos_eutropius_1902\n",
      "working on urn:cts:latinLit:phi0588.abo021_justin_cNepos_eutropius_1902\n"
     ]
    },
    {
     "name": "stderr",
     "output_type": "stream",
     "text": [
      "2023-11-29 11:11:02,574  WARNI  expected an embedding size of 1024, got 768\n",
      "2023-11-29 11:11:03,105  WARNI  expected an embedding size of 1024, got 768\n"
     ]
    },
    {
     "name": "stdout",
     "output_type": "stream",
     "text": [
      "/home/craig.car/repos/chiron/chironata/data/alignments_rslts/urn:cts:latinLit:phi0588.abo021_justin_cNepos_eutropius_1902\n",
      "working on urn:cts:latinLit:phi0588.abo022_justin_cNepos_eutropius_1902\n"
     ]
    },
    {
     "name": "stderr",
     "output_type": "stream",
     "text": [
      "2023-11-29 11:11:10,962  WARNI  expected an embedding size of 1024, got 768\n",
      "2023-11-29 11:11:11,473  WARNI  expected an embedding size of 1024, got 768\n"
     ]
    },
    {
     "name": "stdout",
     "output_type": "stream",
     "text": [
      "/home/craig.car/repos/chiron/chironata/data/alignments_rslts/urn:cts:latinLit:phi0588.abo022_justin_cNepos_eutropius_1902\n",
      "working on urn:cts:latinLit:phi0588.abo023_justin_cNepos_eutropius_1902\n"
     ]
    },
    {
     "name": "stderr",
     "output_type": "stream",
     "text": [
      "2023-11-29 11:11:19,753  WARNI  expected an embedding size of 1024, got 768\n",
      "2023-11-29 11:11:20,273  WARNI  expected an embedding size of 1024, got 768\n"
     ]
    },
    {
     "name": "stdout",
     "output_type": "stream",
     "text": [
      "/home/craig.car/repos/chiron/chironata/data/alignments_rslts/urn:cts:latinLit:phi0588.abo023_justin_cNepos_eutropius_1902\n",
      "working on urn:cts:latinLit:phi0588.abo024_justin_cNepos_eutropius_1902\n"
     ]
    },
    {
     "name": "stderr",
     "output_type": "stream",
     "text": [
      "2023-11-29 11:11:30,187  WARNI  expected an embedding size of 1024, got 768\n",
      "2023-11-29 11:11:30,696  WARNI  expected an embedding size of 1024, got 768\n"
     ]
    },
    {
     "name": "stdout",
     "output_type": "stream",
     "text": [
      "/home/craig.car/repos/chiron/chironata/data/alignments_rslts/urn:cts:latinLit:phi0588.abo024_justin_cNepos_eutropius_1902\n",
      "working on urn:cts:latinLit:phi0588.abo025_justin_cNepos_eutropius_1902\n"
     ]
    },
    {
     "name": "stderr",
     "output_type": "stream",
     "text": [
      "2023-11-29 11:11:38,953  WARNI  expected an embedding size of 1024, got 768\n",
      "2023-11-29 11:11:39,481  WARNI  expected an embedding size of 1024, got 768\n"
     ]
    },
    {
     "name": "stdout",
     "output_type": "stream",
     "text": [
      "/home/craig.car/repos/chiron/chironata/data/alignments_rslts/urn:cts:latinLit:phi0588.abo025_justin_cNepos_eutropius_1902\n",
      "working on urn:cts:latinLit:phi0620.phi001_propertius_1895\n"
     ]
    },
    {
     "name": "stderr",
     "output_type": "stream",
     "text": [
      "2023-11-29 11:11:50,065  WARNI  expected an embedding size of 1024, got 768\n",
      "2023-11-29 11:11:50,273  WARNI  expected an embedding size of 1024, got 768\n"
     ]
    },
    {
     "name": "stdout",
     "output_type": "stream",
     "text": [
      "/home/craig.car/repos/chiron/chironata/data/alignments_rslts/urn:cts:latinLit:phi0620.phi001_propertius_1895\n",
      "working on urn:cts:latinLit:phi0660.phi001_catullus_tibullus_1910\n"
     ]
    },
    {
     "name": "stderr",
     "output_type": "stream",
     "text": [
      "2023-11-29 11:11:56,982  WARNI  expected an embedding size of 1024, got 768\n",
      "2023-11-29 11:11:57,313  WARNI  expected an embedding size of 1024, got 768\n"
     ]
    },
    {
     "name": "stdout",
     "output_type": "stream",
     "text": [
      "/home/craig.car/repos/chiron/chironata/data/alignments_rslts/urn:cts:latinLit:phi0660.phi001_catullus_tibullus_1910\n",
      "working on urn:cts:latinLit:phi0893.phi001_horace_1902\n"
     ]
    },
    {
     "name": "stderr",
     "output_type": "stream",
     "text": [
      "2023-11-29 11:12:06,482  WARNI  expected an embedding size of 1024, got 768\n",
      "2023-11-29 11:12:06,742  WARNI  expected an embedding size of 1024, got 768\n"
     ]
    },
    {
     "name": "stdout",
     "output_type": "stream",
     "text": [
      "/home/craig.car/repos/chiron/chironata/data/alignments_rslts/urn:cts:latinLit:phi0893.phi001_horace_1902\n",
      "working on urn:cts:latinLit:phi0893.phi001_horace_1865\n"
     ]
    },
    {
     "name": "stderr",
     "output_type": "stream",
     "text": [
      "2023-11-29 11:12:12,356  WARNI  expected an embedding size of 1024, got 768\n",
      "2023-11-29 11:12:12,485  WARNI  expected an embedding size of 1024, got 768\n"
     ]
    },
    {
     "name": "stdout",
     "output_type": "stream",
     "text": [
      "/home/craig.car/repos/chiron/chironata/data/alignments_rslts/urn:cts:latinLit:phi0893.phi001_horace_1865\n",
      "working on urn:cts:latinLit:phi0893.phi001_horace_1859\n"
     ]
    },
    {
     "name": "stderr",
     "output_type": "stream",
     "text": [
      "2023-11-29 11:12:16,384  WARNI  expected an embedding size of 1024, got 768\n",
      "2023-11-29 11:12:16,657  WARNI  expected an embedding size of 1024, got 768\n"
     ]
    },
    {
     "name": "stdout",
     "output_type": "stream",
     "text": [
      "/home/craig.car/repos/chiron/chironata/data/alignments_rslts/urn:cts:latinLit:phi0893.phi001_horace_1859\n",
      "working on urn:cts:latinLit:phi0893.phi002_horace_1902\n"
     ]
    },
    {
     "name": "stderr",
     "output_type": "stream",
     "text": [
      "2023-11-29 11:12:23,083  WARNI  expected an embedding size of 1024, got 768\n",
      "2023-11-29 11:12:23,311  WARNI  expected an embedding size of 1024, got 768\n"
     ]
    },
    {
     "name": "stdout",
     "output_type": "stream",
     "text": [
      "/home/craig.car/repos/chiron/chironata/data/alignments_rslts/urn:cts:latinLit:phi0893.phi002_horace_1902\n",
      "working on urn:cts:latinLit:phi0893.phi002_horace_1865\n"
     ]
    },
    {
     "name": "stderr",
     "output_type": "stream",
     "text": [
      "2023-11-29 11:12:26,883  WARNI  expected an embedding size of 1024, got 768\n",
      "2023-11-29 11:12:26,951  WARNI  expected an embedding size of 1024, got 768\n"
     ]
    },
    {
     "name": "stdout",
     "output_type": "stream",
     "text": [
      "/home/craig.car/repos/chiron/chironata/data/alignments_rslts/urn:cts:latinLit:phi0893.phi002_horace_1865\n",
      "working on urn:cts:latinLit:phi0893.phi002_horace_1859\n"
     ]
    },
    {
     "name": "stderr",
     "output_type": "stream",
     "text": [
      "2023-11-29 11:12:29,425  WARNI  expected an embedding size of 1024, got 768\n",
      "2023-11-29 11:12:29,634  WARNI  expected an embedding size of 1024, got 768\n"
     ]
    },
    {
     "name": "stdout",
     "output_type": "stream",
     "text": [
      "/home/craig.car/repos/chiron/chironata/data/alignments_rslts/urn:cts:latinLit:phi0893.phi002_horace_1859\n",
      "working on urn:cts:latinLit:phi0893.phi003_horace_1902\n"
     ]
    },
    {
     "name": "stderr",
     "output_type": "stream",
     "text": [
      "2023-11-29 11:12:33,309  WARNI  expected an embedding size of 1024, got 768\n",
      "2023-11-29 11:12:33,493  WARNI  expected an embedding size of 1024, got 768\n"
     ]
    },
    {
     "name": "stdout",
     "output_type": "stream",
     "text": [
      "/home/craig.car/repos/chiron/chironata/data/alignments_rslts/urn:cts:latinLit:phi0893.phi003_horace_1902\n",
      "working on urn:cts:latinLit:phi0893.phi003_horace_1859\n"
     ]
    },
    {
     "name": "stderr",
     "output_type": "stream",
     "text": [
      "2023-11-29 11:12:37,887  WARNI  expected an embedding size of 1024, got 768\n",
      "2023-11-29 11:12:38,088  WARNI  expected an embedding size of 1024, got 768\n"
     ]
    },
    {
     "name": "stdout",
     "output_type": "stream",
     "text": [
      "/home/craig.car/repos/chiron/chironata/data/alignments_rslts/urn:cts:latinLit:phi0893.phi003_horace_1859\n",
      "working on urn:cts:latinLit:phi0893.phi004_horace_1902\n"
     ]
    },
    {
     "name": "stderr",
     "output_type": "stream",
     "text": [
      "2023-11-29 11:12:43,203  WARNI  expected an embedding size of 1024, got 768\n",
      "2023-11-29 11:12:43,386  WARNI  expected an embedding size of 1024, got 768\n"
     ]
    },
    {
     "name": "stdout",
     "output_type": "stream",
     "text": [
      "/home/craig.car/repos/chiron/chironata/data/alignments_rslts/urn:cts:latinLit:phi0893.phi004_horace_1902\n",
      "working on urn:cts:latinLit:phi0893.phi004_horace_1859\n"
     ]
    },
    {
     "name": "stderr",
     "output_type": "stream",
     "text": [
      "2023-11-29 11:12:49,458  WARNI  expected an embedding size of 1024, got 768\n",
      "2023-11-29 11:12:49,655  WARNI  expected an embedding size of 1024, got 768\n"
     ]
    },
    {
     "name": "stdout",
     "output_type": "stream",
     "text": [
      "/home/craig.car/repos/chiron/chironata/data/alignments_rslts/urn:cts:latinLit:phi0893.phi004_horace_1859\n",
      "working on urn:cts:latinLit:phi0893.phi005_horace_1902\n"
     ]
    },
    {
     "name": "stderr",
     "output_type": "stream",
     "text": [
      "2023-11-29 11:12:56,531  WARNI  expected an embedding size of 1024, got 768\n",
      "2023-11-29 11:12:56,717  WARNI  expected an embedding size of 1024, got 768\n"
     ]
    },
    {
     "name": "stdout",
     "output_type": "stream",
     "text": [
      "/home/craig.car/repos/chiron/chironata/data/alignments_rslts/urn:cts:latinLit:phi0893.phi005_horace_1902\n",
      "working on urn:cts:latinLit:phi0893.phi005_horace_1859\n"
     ]
    },
    {
     "name": "stderr",
     "output_type": "stream",
     "text": [
      "2023-11-29 11:13:02,329  WARNI  expected an embedding size of 1024, got 768\n",
      "2023-11-29 11:13:02,526  WARNI  expected an embedding size of 1024, got 768\n"
     ]
    },
    {
     "name": "stdout",
     "output_type": "stream",
     "text": [
      "/home/craig.car/repos/chiron/chironata/data/alignments_rslts/urn:cts:latinLit:phi0893.phi005_horace_1859\n",
      "working on urn:cts:latinLit:phi0893.phi006_horace_1902\n"
     ]
    },
    {
     "name": "stderr",
     "output_type": "stream",
     "text": [
      "2023-11-29 11:13:08,363  WARNI  expected an embedding size of 1024, got 768\n",
      "2023-11-29 11:13:08,545  WARNI  expected an embedding size of 1024, got 768\n"
     ]
    },
    {
     "name": "stdout",
     "output_type": "stream",
     "text": [
      "/home/craig.car/repos/chiron/chironata/data/alignments_rslts/urn:cts:latinLit:phi0893.phi006_horace_1902\n",
      "working on urn:cts:latinLit:phi0893.phi006_horace_1859\n"
     ]
    },
    {
     "name": "stderr",
     "output_type": "stream",
     "text": [
      "2023-11-29 11:13:13,560  WARNI  expected an embedding size of 1024, got 768\n",
      "2023-11-29 11:13:13,758  WARNI  expected an embedding size of 1024, got 768\n"
     ]
    },
    {
     "name": "stdout",
     "output_type": "stream",
     "text": [
      "/home/craig.car/repos/chiron/chironata/data/alignments_rslts/urn:cts:latinLit:phi0893.phi006_horace_1859\n",
      "working on urn:cts:latinLit:phi0917.phi001_lucan_1853\n"
     ]
    },
    {
     "name": "stderr",
     "output_type": "stream",
     "text": [
      "2023-11-29 11:13:19,259  WARNI  expected an embedding size of 1024, got 768\n",
      "2023-11-29 11:13:19,667  WARNI  expected an embedding size of 1024, got 768\n"
     ]
    },
    {
     "name": "stdout",
     "output_type": "stream",
     "text": [
      "/home/craig.car/repos/chiron/chironata/data/alignments_rslts/urn:cts:latinLit:phi0917.phi001_lucan_1853\n",
      "working on urn:cts:latinLit:phi0959.phi007_ovid_1881\n"
     ]
    },
    {
     "name": "stderr",
     "output_type": "stream",
     "text": [
      "2023-11-29 11:13:32,195  WARNI  expected an embedding size of 1024, got 768\n",
      "2023-11-29 11:13:32,776  WARNI  expected an embedding size of 1024, got 768\n"
     ]
    },
    {
     "name": "stdout",
     "output_type": "stream",
     "text": [
      "/home/craig.car/repos/chiron/chironata/data/alignments_rslts/urn:cts:latinLit:phi0959.phi007_ovid_1881\n",
      "working on urn:cts:latinLit:phi0959.phi008_ovid_1881\n"
     ]
    },
    {
     "name": "stderr",
     "output_type": "stream",
     "text": [
      "2023-11-29 11:13:45,680  WARNI  expected an embedding size of 1024, got 768\n",
      "2023-11-29 11:13:46,127  WARNI  expected an embedding size of 1024, got 768\n"
     ]
    },
    {
     "name": "stdout",
     "output_type": "stream",
     "text": [
      "/home/craig.car/repos/chiron/chironata/data/alignments_rslts/urn:cts:latinLit:phi0959.phi008_ovid_1881\n",
      "working on urn:cts:latinLit:phi0959.phi009_ovid_1881\n"
     ]
    },
    {
     "name": "stderr",
     "output_type": "stream",
     "text": [
      "2023-11-29 11:13:57,230  WARNI  expected an embedding size of 1024, got 768\n",
      "2023-11-29 11:13:57,662  WARNI  expected an embedding size of 1024, got 768\n"
     ]
    },
    {
     "name": "stdout",
     "output_type": "stream",
     "text": [
      "/home/craig.car/repos/chiron/chironata/data/alignments_rslts/urn:cts:latinLit:phi0959.phi009_ovid_1881\n",
      "working on urn:cts:latinLit:phi0959.phi010_ovid_1881\n"
     ]
    },
    {
     "name": "stderr",
     "output_type": "stream",
     "text": [
      "2023-11-29 11:14:08,975  WARNI  expected an embedding size of 1024, got 768\n",
      "2023-11-29 11:14:09,393  WARNI  expected an embedding size of 1024, got 768\n"
     ]
    },
    {
     "name": "stdout",
     "output_type": "stream",
     "text": [
      "/home/craig.car/repos/chiron/chironata/data/alignments_rslts/urn:cts:latinLit:phi0959.phi010_ovid_1881\n",
      "working on urn:cts:latinLit:phi0969.phi001_satires_1857\n"
     ]
    },
    {
     "name": "stderr",
     "output_type": "stream",
     "text": [
      "2023-11-29 11:14:19,221  WARNI  expected an embedding size of 1024, got 768\n",
      "2023-11-29 11:14:19,798  WARNI  expected an embedding size of 1024, got 768\n"
     ]
    },
    {
     "name": "stdout",
     "output_type": "stream",
     "text": [
      "/home/craig.car/repos/chiron/chironata/data/alignments_rslts/urn:cts:latinLit:phi0969.phi001_satires_1857\n",
      "working on urn:cts:latinLit:phi0975.phi001_terence_phaedrus_1891\n"
     ]
    },
    {
     "name": "stderr",
     "output_type": "stream",
     "text": [
      "2023-11-29 11:14:30,750  WARNI  expected an embedding size of 1024, got 768\n",
      "2023-11-29 11:14:31,279  WARNI  expected an embedding size of 1024, got 768\n"
     ]
    },
    {
     "name": "stdout",
     "output_type": "stream",
     "text": [
      "/home/craig.car/repos/chiron/chironata/data/alignments_rslts/urn:cts:latinLit:phi0975.phi001_terence_phaedrus_1891\n",
      "working on urn:cts:latinLit:phi1017.phi013_seneca_1900\n"
     ]
    },
    {
     "name": "stderr",
     "output_type": "stream",
     "text": [
      "2023-11-29 11:14:48,409  WARNI  expected an embedding size of 1024, got 768\n",
      "2023-11-29 11:14:48,640  WARNI  expected an embedding size of 1024, got 768\n"
     ]
    },
    {
     "name": "stdout",
     "output_type": "stream",
     "text": [
      "/home/craig.car/repos/chiron/chironata/data/alignments_rslts/urn:cts:latinLit:phi1017.phi013_seneca_1900\n",
      "working on urn:cts:latinLit:phi1017.phi014_seneca_1889\n"
     ]
    },
    {
     "name": "stderr",
     "output_type": "stream",
     "text": [
      "2023-11-29 11:14:57,262  WARNI  expected an embedding size of 1024, got 768\n",
      "2023-11-29 11:14:57,656  WARNI  expected an embedding size of 1024, got 768\n"
     ]
    },
    {
     "name": "stdout",
     "output_type": "stream",
     "text": [
      "/home/craig.car/repos/chiron/chironata/data/alignments_rslts/urn:cts:latinLit:phi1017.phi014_seneca_1889\n",
      "working on urn:cts:latinLit:phi1212.phi001_apuleius_1878\n"
     ]
    },
    {
     "name": "stderr",
     "output_type": "stream",
     "text": [
      "2023-11-29 11:15:05,648  WARNI  expected an embedding size of 1024, got 768\n",
      "2023-11-29 11:15:06,225  WARNI  expected an embedding size of 1024, got 768\n"
     ]
    },
    {
     "name": "stdout",
     "output_type": "stream",
     "text": [
      "/home/craig.car/repos/chiron/chironata/data/alignments_rslts/urn:cts:latinLit:phi1212.phi001_apuleius_1878\n",
      "working on urn:cts:latinLit:phi1212.phi002_apuleius_1878\n"
     ]
    },
    {
     "name": "stderr",
     "output_type": "stream",
     "text": [
      "2023-11-29 11:15:16,867  WARNI  expected an embedding size of 1024, got 768\n",
      "2023-11-29 11:15:17,346  WARNI  expected an embedding size of 1024, got 768\n"
     ]
    },
    {
     "name": "stdout",
     "output_type": "stream",
     "text": [
      "/home/craig.car/repos/chiron/chironata/data/alignments_rslts/urn:cts:latinLit:phi1212.phi002_apuleius_1878\n",
      "working on urn:cts:latinLit:phi1212.phi003_apuleius_1878\n"
     ]
    },
    {
     "name": "stderr",
     "output_type": "stream",
     "text": [
      "2023-11-29 11:15:28,727  WARNI  expected an embedding size of 1024, got 768\n",
      "2023-11-29 11:15:29,156  WARNI  expected an embedding size of 1024, got 768\n"
     ]
    },
    {
     "name": "stdout",
     "output_type": "stream",
     "text": [
      "/home/craig.car/repos/chiron/chironata/data/alignments_rslts/urn:cts:latinLit:phi1212.phi003_apuleius_1878\n",
      "working on urn:cts:latinLit:phi1276.phi001_satires_1857\n"
     ]
    },
    {
     "name": "stderr",
     "output_type": "stream",
     "text": [
      "2023-11-29 11:15:37,836  WARNI  expected an embedding size of 1024, got 768\n",
      "2023-11-29 11:15:38,296  WARNI  expected an embedding size of 1024, got 768\n"
     ]
    },
    {
     "name": "stdout",
     "output_type": "stream",
     "text": [
      "/home/craig.car/repos/chiron/chironata/data/alignments_rslts/urn:cts:latinLit:phi1276.phi001_satires_1857\n",
      "working on urn:cts:latinLit:phi1294.phi002_martial_1904\n"
     ]
    },
    {
     "name": "stderr",
     "output_type": "stream",
     "text": [
      "2023-11-29 11:15:49,626  WARNI  expected an embedding size of 1024, got 768\n",
      "2023-11-29 11:15:50,543  WARNI  expected an embedding size of 1024, got 768\n"
     ]
    },
    {
     "name": "stdout",
     "output_type": "stream",
     "text": [
      "/home/craig.car/repos/chiron/chironata/data/alignments_rslts/urn:cts:latinLit:phi1294.phi002_martial_1904\n",
      "working on urn:cts:latinLit:phi1318.phi001_cicero_plinyYounger_1909\n"
     ]
    },
    {
     "name": "stderr",
     "output_type": "stream",
     "text": [
      "2023-11-29 11:16:13,518  WARNI  expected an embedding size of 1024, got 768\n",
      "2023-11-29 11:16:13,858  WARNI  expected an embedding size of 1024, got 768\n"
     ]
    },
    {
     "name": "stdout",
     "output_type": "stream",
     "text": [
      "/home/craig.car/repos/chiron/chironata/data/alignments_rslts/urn:cts:latinLit:phi1318.phi001_cicero_plinyYounger_1909\n",
      "working on urn:cts:latinLit:stoa0023.stoa001_stoa0023.stoa001.ogl-eng1\n"
     ]
    },
    {
     "name": "stderr",
     "output_type": "stream",
     "text": [
      "2023-11-29 11:16:26,822  WARNI  expected an embedding size of 1024, got 768\n",
      "2023-11-29 11:16:27,470  WARNI  expected an embedding size of 1024, got 768\n"
     ]
    },
    {
     "name": "stdout",
     "output_type": "stream",
     "text": [
      "/home/craig.car/repos/chiron/chironata/data/alignments_rslts/urn:cts:latinLit:stoa0023.stoa001_stoa0023.stoa001.ogl-eng1\n",
      "working on urn:cts:latinLit:stoa0023.stoa001_ammianusMarcellinus_1894\n"
     ]
    },
    {
     "name": "stderr",
     "output_type": "stream",
     "text": [
      "2023-11-29 11:16:43,722  WARNI  expected an embedding size of 1024, got 768\n",
      "2023-11-29 11:16:44,345  WARNI  expected an embedding size of 1024, got 768\n"
     ]
    },
    {
     "name": "stdout",
     "output_type": "stream",
     "text": [
      "/home/craig.car/repos/chiron/chironata/data/alignments_rslts/urn:cts:latinLit:stoa0023.stoa001_ammianusMarcellinus_1894\n",
      "working on urn:cts:latinLit:stoa0040.stoa003_Augustine-cityofgodtransla02auguuoft\n"
     ]
    },
    {
     "name": "stderr",
     "output_type": "stream",
     "text": [
      "2023-11-29 11:17:01,892  WARNI  expected an embedding size of 1024, got 768\n",
      "2023-11-29 11:17:02,419  WARNI  expected an embedding size of 1024, got 768\n"
     ]
    },
    {
     "name": "stdout",
     "output_type": "stream",
     "text": [
      "/home/craig.car/repos/chiron/chironata/data/alignments_rslts/urn:cts:latinLit:stoa0040.stoa003_Augustine-cityofgodtransla02auguuoft\n",
      "working on urn:cts:latinLit:stoa0058.stoa001_boethius_1895\n"
     ]
    },
    {
     "name": "stderr",
     "output_type": "stream",
     "text": [
      "2023-11-29 11:17:28,896  WARNI  expected an embedding size of 1024, got 768\n",
      "2023-11-29 11:17:29,111  WARNI  expected an embedding size of 1024, got 768\n"
     ]
    },
    {
     "name": "stdout",
     "output_type": "stream",
     "text": [
      "/home/craig.car/repos/chiron/chironata/data/alignments_rslts/urn:cts:latinLit:stoa0058.stoa001_boethius_1895\n",
      "working on urn:cts:latinLit:stoa0058.stoa001_Boethius-consolationofphi00boetiala\n"
     ]
    },
    {
     "name": "stderr",
     "output_type": "stream",
     "text": [
      "2023-11-29 11:17:35,688  WARNI  expected an embedding size of 1024, got 768\n",
      "2023-11-29 11:17:35,835  WARNI  expected an embedding size of 1024, got 768\n"
     ]
    },
    {
     "name": "stdout",
     "output_type": "stream",
     "text": [
      "/home/craig.car/repos/chiron/chironata/data/alignments_rslts/urn:cts:latinLit:stoa0058.stoa001_Boethius-consolationofphi00boetiala\n",
      "working on urn:cts:latinLit:stoa0215c.stoa001_alfredGreat_orosius_1873\n"
     ]
    },
    {
     "name": "stderr",
     "output_type": "stream",
     "text": [
      "2023-11-29 11:17:41,450  WARNI  expected an embedding size of 1024, got 768\n",
      "2023-11-29 11:17:41,813  WARNI  expected an embedding size of 1024, got 768\n"
     ]
    },
    {
     "name": "stdout",
     "output_type": "stream",
     "text": [
      "/home/craig.car/repos/chiron/chironata/data/alignments_rslts/urn:cts:latinLit:stoa0215c.stoa001_alfredGreat_orosius_1873\n",
      "working on urn:cts:latinLit:stoa0255.stoa004_seneca_1889\n"
     ]
    },
    {
     "name": "stderr",
     "output_type": "stream",
     "text": [
      "2023-11-29 11:17:52,239  WARNI  expected an embedding size of 1024, got 768\n",
      "2023-11-29 11:17:52,541  WARNI  expected an embedding size of 1024, got 768\n"
     ]
    },
    {
     "name": "stdout",
     "output_type": "stream",
     "text": [
      "/home/craig.car/repos/chiron/chironata/data/alignments_rslts/urn:cts:latinLit:stoa0255.stoa004_seneca_1889\n",
      "working on urn:cts:latinLit:stoa0255.stoa006_seneca_1889\n"
     ]
    },
    {
     "name": "stderr",
     "output_type": "stream",
     "text": [
      "2023-11-29 11:17:59,286  WARNI  expected an embedding size of 1024, got 768\n",
      "2023-11-29 11:17:59,583  WARNI  expected an embedding size of 1024, got 768\n"
     ]
    },
    {
     "name": "stdout",
     "output_type": "stream",
     "text": [
      "/home/craig.car/repos/chiron/chironata/data/alignments_rslts/urn:cts:latinLit:stoa0255.stoa006_seneca_1889\n",
      "working on urn:cts:latinLit:stoa0255.stoa007_seneca_1889\n"
     ]
    },
    {
     "name": "stderr",
     "output_type": "stream",
     "text": [
      "2023-11-29 11:18:06,902  WARNI  expected an embedding size of 1024, got 768\n",
      "2023-11-29 11:18:07,206  WARNI  expected an embedding size of 1024, got 768\n"
     ]
    },
    {
     "name": "stdout",
     "output_type": "stream",
     "text": [
      "/home/craig.car/repos/chiron/chironata/data/alignments_rslts/urn:cts:latinLit:stoa0255.stoa007_seneca_1889\n",
      "working on urn:cts:latinLit:stoa0255.stoa008_seneca_1889\n"
     ]
    },
    {
     "name": "stderr",
     "output_type": "stream",
     "text": [
      "2023-11-29 11:18:14,066  WARNI  expected an embedding size of 1024, got 768\n",
      "2023-11-29 11:18:14,365  WARNI  expected an embedding size of 1024, got 768\n"
     ]
    },
    {
     "name": "stdout",
     "output_type": "stream",
     "text": [
      "/home/craig.car/repos/chiron/chironata/data/alignments_rslts/urn:cts:latinLit:stoa0255.stoa008_seneca_1889\n",
      "working on urn:cts:latinLit:stoa0255.stoa009_seneca_1889\n"
     ]
    },
    {
     "name": "stderr",
     "output_type": "stream",
     "text": [
      "2023-11-29 11:18:22,071  WARNI  expected an embedding size of 1024, got 768\n",
      "2023-11-29 11:18:22,368  WARNI  expected an embedding size of 1024, got 768\n"
     ]
    },
    {
     "name": "stdout",
     "output_type": "stream",
     "text": [
      "/home/craig.car/repos/chiron/chironata/data/alignments_rslts/urn:cts:latinLit:stoa0255.stoa009_seneca_1889\n",
      "working on urn:cts:latinLit:stoa0255.stoa010_seneca_1889\n"
     ]
    },
    {
     "name": "stderr",
     "output_type": "stream",
     "text": [
      "2023-11-29 11:18:29,780  WARNI  expected an embedding size of 1024, got 768\n",
      "2023-11-29 11:18:30,077  WARNI  expected an embedding size of 1024, got 768\n"
     ]
    },
    {
     "name": "stdout",
     "output_type": "stream",
     "text": [
      "/home/craig.car/repos/chiron/chironata/data/alignments_rslts/urn:cts:latinLit:stoa0255.stoa010_seneca_1889\n",
      "working on urn:cts:latinLit:stoa0255.stoa011_seneca_1889\n"
     ]
    },
    {
     "name": "stderr",
     "output_type": "stream",
     "text": [
      "2023-11-29 11:18:38,393  WARNI  expected an embedding size of 1024, got 768\n",
      "2023-11-29 11:18:38,693  WARNI  expected an embedding size of 1024, got 768\n"
     ]
    },
    {
     "name": "stdout",
     "output_type": "stream",
     "text": [
      "/home/craig.car/repos/chiron/chironata/data/alignments_rslts/urn:cts:latinLit:stoa0255.stoa011_seneca_1889\n",
      "working on urn:cts:latinLit:stoa0255.stoa012_seneca_1889\n"
     ]
    },
    {
     "name": "stderr",
     "output_type": "stream",
     "text": [
      "2023-11-29 11:18:45,512  WARNI  expected an embedding size of 1024, got 768\n",
      "2023-11-29 11:18:45,810  WARNI  expected an embedding size of 1024, got 768\n"
     ]
    },
    {
     "name": "stdout",
     "output_type": "stream",
     "text": [
      "/home/craig.car/repos/chiron/chironata/data/alignments_rslts/urn:cts:latinLit:stoa0255.stoa012_seneca_1889\n",
      "working on urn:cts:latinLit:stoa0255.stoa013_seneca_1889\n"
     ]
    },
    {
     "name": "stderr",
     "output_type": "stream",
     "text": [
      "2023-11-29 11:18:52,950  WARNI  expected an embedding size of 1024, got 768\n",
      "2023-11-29 11:18:53,245  WARNI  expected an embedding size of 1024, got 768\n"
     ]
    },
    {
     "name": "stdout",
     "output_type": "stream",
     "text": [
      "/home/craig.car/repos/chiron/chironata/data/alignments_rslts/urn:cts:latinLit:stoa0255.stoa013_seneca_1889\n",
      "working on urn:cts:latinLit:stoa0255.stoa014_seneca_1889\n"
     ]
    },
    {
     "name": "stderr",
     "output_type": "stream",
     "text": [
      "2023-11-29 11:19:00,279  WARNI  expected an embedding size of 1024, got 768\n",
      "2023-11-29 11:19:00,603  WARNI  expected an embedding size of 1024, got 768\n"
     ]
    },
    {
     "name": "stdout",
     "output_type": "stream",
     "text": [
      "/home/craig.car/repos/chiron/chironata/data/alignments_rslts/urn:cts:latinLit:stoa0255.stoa014_seneca_1889\n"
     ]
    }
   ],
   "source": [
    "for src_emb in glob.iglob(src_dir+\"*de_dir\"):\n",
    "    ctsurn = os.path.splitext(os.path.basename(src_emb))[0]\n",
    "    src_prefix = src_dir+ctsurn\n",
    "    \n",
    "    # some en files are in partial cts form: author.text code only\n",
    "    ctsurn_auth_txt = os.path.splitext(os.path.basename(src_emb))[0].split(\":\")[3]\n",
    "    en_cts = en_dir+ctsurn_auth_txt\n",
    "    # check if such a file exists in en_dir\n",
    "    files = os.listdir(en_dir)\n",
    "    for file in files:\n",
    "        if file.startswith(ctsurn_auth_txt) and file.endswith(\".emb\"):\n",
    "            en_cts_emb = en_dir+file\n",
    "            # get prefix\n",
    "            file_prefix = os.path.splitext(os.path.basename(en_cts_emb))[0]\n",
    "            tgt_prefix = en_dir + file_prefix\n",
    "            params['command'] = f'./vecalign.py --alignment_max_size 8 --src {src_prefix+\".sents\"} --tgt {tgt_prefix+\".sents\"} --src_embed {src_prefix+\".overlaps\"} {src_emb} --tgt_embed {tgt_prefix+\".overlaps\"} {tgt_prefix+\".emb\"}'\n",
    "            # print(labse_vec_cpu.format(**params))\n",
    "            # check if file exists already\n",
    "            if os.path.isfile(f\"{rslts_dir}{ctsurn}_{file_prefix}.rslts\") == False:\n",
    "                print(f\"working on {ctsurn}_{file_prefix}\")\n",
    "                subprocess.run(labse_vec_cpu.format(**params),shell=True)\n",
    "            \n",
    "    # check for en translations under spreadsheet name\n",
    "    tgt_files = lookup_table[ctsurn]\n",
    "    for tgt_name in tgt_files:\n",
    "        tgt_prefix = en_dir+tgt_name\n",
    "        # check if an en translation exists\n",
    "        if os.path.isfile(tgt_prefix+\".emb\") != False:\n",
    "            params['command'] = f'./vecalign.py --alignment_max_size 8 --src {src_prefix+\".sents\"} --tgt {tgt_prefix+\".sents\"} --src_embed {src_prefix+\".overlaps\"} {src_emb} --tgt_embed {tgt_prefix+\".overlaps\"} {tgt_prefix+\".emb\"}'\n",
    "            # check if file exists already\n",
    "            if os.path.isfile(f\"{rslts_dir}{ctsurn}_{tgt_name}.rslts\") == False:\n",
    "                print(f\"working on {ctsurn}_{tgt_name}\")\n",
    "                # print(labse_vec_cpu.format(**params))\n",
    "                subprocess.run(labse_vec_cpu.format(**params),shell=True)\n",
    "         \n",
    "    "
   ]
  },
  {
   "cell_type": "markdown",
   "id": "8b69c93a-c632-4fdc-9ef0-85567552cb56",
   "metadata": {},
   "source": [
    "## Italian files"
   ]
  },
  {
   "cell_type": "code",
   "execution_count": 96,
   "id": "4882f122-1ccc-448c-9d86-69e50a454ca0",
   "metadata": {
    "tags": []
   },
   "outputs": [
    {
     "name": "stdout",
     "output_type": "stream",
     "text": [
      "/scratch/craig.car/italian_trans-dev/xenophon_1863.emb\n",
      "/home/craig.car/repos/chiron/chironata/data/alignments_rslts/urn:cts:greekLit:tlg0641.tlg001_xenophon_1863.rslts\n"
     ]
    }
   ],
   "source": [
    "for src_emb in glob.iglob(src_dir+\"*.emb\"):\n",
    "    ctsurn = os.path.splitext(os.path.basename(src_emb))[0]\n",
    "    src_prefix = src_dir+ctsurn\n",
    "    tgt_files = lookup_table[ctsurn]\n",
    "    for tgt_name in tgt_files:\n",
    "        tgt_prefix = it_dir+tgt_name\n",
    "        # print(tgt_prefix)\n",
    "        # check if translation exists\n",
    "        # print(tgt_prefix+\".emb\")\n",
    "        if os.path.isfile(tgt_prefix+\".emb\") != False:\n",
    "            print(tgt_prefix+\".emb\")\n",
    "            params['command'] = f'./vecalign.py --alignment_max_size 8 --src {src_prefix+\".sents\"} --tgt {tgt_prefix+\".sents\"} --src_embed {src_prefix+\".overlaps\"} {src_emb} --tgt_embed {tgt_prefix+\".overlaps\"} {tgt_prefix+\".emb\"}'\n",
    "            print(f\"{rslts_dir}{ctsurn}_{tgt_name}.rslts\")\n",
    "            if os.path.isfile(f\"{rslts_dir}{ctsurn}_{tgt_name}.rslts\") == False:\n",
    "                print(f\"working on {ctsurn}_{tgt_name}\")\n",
    "                subprocess.run(labse_vec_cpu.format(**params),shell=True)"
   ]
  },
  {
   "cell_type": "code",
   "execution_count": null,
   "id": "2bf1be71-2f9d-45b0-a846-de5d74c8e833",
   "metadata": {},
   "outputs": [],
   "source": []
  },
  {
   "cell_type": "markdown",
   "id": "0e1dbb5e-05c5-43f7-930e-42a88106f779",
   "metadata": {},
   "source": [
    "## German files"
   ]
  },
  {
   "cell_type": "code",
   "execution_count": 61,
   "id": "e30db3ea-e429-45c9-b931-bbddd8defb85",
   "metadata": {},
   "outputs": [],
   "source": [
    "### move xml files from subdirectories to parent file ###\n",
    "# for subdir, dirs, files in os.walk(de_dir):\n",
    "#     for file in files:\n",
    "#         if file.endswith((\".xml\")):\n",
    "#             print (os.path.join(subdir, file))\n",
    "#             new_path = \"/scratch/craig.car/german_trans-dev/\"\n",
    "#             if os.path.isfile(new_path+file) == False:\n",
    "#                 shutil.move((os.path.join(subdir, file)), new_path)"
   ]
  },
  {
   "cell_type": "code",
   "execution_count": 62,
   "id": "013c30bc-b5e6-4791-bad7-b65d0ba62d9a",
   "metadata": {},
   "outputs": [],
   "source": [
    "# for src_emb in glob.iglob(src_dir+\"*.emb\"):\n",
    "#     ctsurn = os.path.splitext(os.path.basename(src_emb))[0]\n",
    "#     src_prefix = src_dir+ctsurn\n",
    "#     tgt_files = lookup_table[ctsurn]\n",
    "#     for tgt_name in tgt_files:\n",
    "#         tgt_prefix = de_dir+tgt_name\n",
    "#         # print(tgt_prefix)\n",
    "#         # check if translation exists\n",
    "#         # print(tgt_prefix+\".emb\")\n",
    "#         if os.path.isfile(tgt_prefix+\".emb\") != False:\n",
    "#             # print(tgt_prefix+\".emb\")\n",
    "#             params['command'] = f'./vecalign.py --alignment_max_size 8 --src {src_prefix+\".sents\"} --tgt {tgt_prefix+\".sents\"} --src_embed {src_prefix+\".overlaps\"} {src_emb} --tgt_embed {tgt_prefix+\".overlaps\"} {tgt_prefix+\".emb\"}'\n",
    "#             if os.path.isfile(f\"{rslts_dir}{ctsurn}_{tgt_name}.rslts\") == False:\n",
    "#                 print(f\"working on {ctsurn}_{tgt_name}\")\n",
    "#                 subprocess.run(labse_vec_cpu.format(**params),shell=True)"
   ]
  },
  {
   "cell_type": "code",
   "execution_count": 46,
   "id": "451fba2d-a63a-4608-97a7-1c86179b8d97",
   "metadata": {},
   "outputs": [
    {
     "data": {
      "text/plain": [
       "'tlg0019.tlg010'"
      ]
     },
     "execution_count": 46,
     "metadata": {},
     "output_type": "execute_result"
    }
   ],
   "source": [
    "en_eg = \"/scratch/craig.car/english_trans-dev/tlg0019.tlg010.ogl-eng2.xml\"\n",
    "os.path.splitext(os.path.splitext(os.path.basename(en_eg))[0])[0]"
   ]
  },
  {
   "cell_type": "code",
   "execution_count": 1,
   "id": "ffc5ec4e-8954-438c-a827-22d10c462b22",
   "metadata": {},
   "outputs": [],
   "source": [
    "import markdown as md"
   ]
  },
  {
   "cell_type": "code",
   "execution_count": 13,
   "id": "2e82d5c2-0163-4b67-a155-f722585858d9",
   "metadata": {},
   "outputs": [
    {
     "name": "stdout",
     "output_type": "stream",
     "text": [
      "None\n"
     ]
    }
   ],
   "source": [
    "df = pd.DataFrame({\"A\": [1, 2, 3], \"B\": [1, 2, 3]}, index=['a', 'a', 'b'])\n",
    "print(df.to_markdown(buf=\"./README.md\"))"
   ]
  },
  {
   "cell_type": "code",
   "execution_count": null,
   "id": "47e0c9b3-d0e2-4cbd-963f-bc087fc5fb43",
   "metadata": {},
   "outputs": [],
   "source": []
  },
  {
   "cell_type": "code",
   "execution_count": null,
   "id": "c66ecef1-efc5-4976-a82f-aee50a3b99bb",
   "metadata": {},
   "outputs": [],
   "source": []
  },
  {
   "cell_type": "markdown",
   "id": "aa783f3c-6d3a-4d23-8582-1189ca6d0fb5",
   "metadata": {
    "tags": []
   },
   "source": [
    "## Test using 2 Th fr translations"
   ]
  },
  {
   "cell_type": "code",
   "execution_count": 27,
   "id": "3bbf4997-736d-41ba-a83b-5569412d5fb3",
   "metadata": {},
   "outputs": [
    {
     "data": {
      "text/html": [
       "<style type=\"text/css\">\n",
       "#T_7b448 th {\n",
       "  text-align: center;\n",
       "}\n",
       "#T_7b448_row0_col0, #T_7b448_row0_col1, #T_7b448_row0_col2, #T_7b448_row1_col0, #T_7b448_row1_col1, #T_7b448_row1_col2 {\n",
       "  width: 30em;\n",
       "  text-align: left;\n",
       "  white-space: pre-wrap;\n",
       "}\n",
       "</style>\n",
       "<table id=\"T_7b448\">\n",
       "  <thead>\n",
       "    <tr>\n",
       "      <th class=\"blank level0\" >&nbsp;</th>\n",
       "      <th id=\"T_7b448_level0_col0\" class=\"col_heading level0 col0\" >Greek</th>\n",
       "      <th id=\"T_7b448_level0_col1\" class=\"col_heading level0 col1\" >Fowler</th>\n",
       "      <th id=\"T_7b448_level0_col2\" class=\"col_heading level0 col2\" >Jowett</th>\n",
       "    </tr>\n",
       "  </thead>\n",
       "  <tbody>\n",
       "    <tr>\n",
       "      <th id=\"T_7b448_level0_row0\" class=\"row_heading level0 row0\" >0</th>\n",
       "      <td id=\"T_7b448_row0_col0\" class=\"data row0 col0\" >ὃς δ᾽ ἂν ὑμῶν παραμείνῃ, ὁρῶν ὃν τρόπον ἡμεῖς τάς τε δίκας δικάζομεν καὶ τἆλλα τὴν πόλιν διοικοῦμεν, ἤδη φαμὲν τοῦτον ὡμολογηκέναι ἔργῳ ἡμῖν ἃ ἂν ἡμεῖς κελεύωμεν ποιήσειν ταῦτα, καὶ τὸν μὴ πειθόμενον τριχῇ φαμεν ἀδικεῖν, ὅτι τε γεννηταῖς οὖσιν ἡμῖν οὐ πείθεται, καὶ ὅτι τροφεῦσι, καὶ ὅτι ὁμολογήσας ἡμῖν πείσεσθαι οὔτε πείθεται οὔτε πείθει ἡμᾶς, εἰ μὴ καλῶς τι ποιοῦμεν, προτιθέντων ἡμῶν καὶ οὐκ ἀγρίως ἐπιταττόντων ποιεῖν ἃ ἂν κελεύωμεν, ἀλλὰ ἐφιέντων δυοῖν θάτερα, ἢ πείθειν ἡμᾶς ἢ ποιεῖν, τούτων οὐδέτερα ποιεῖ.</td>\n",
       "      <td id=\"T_7b448_row0_col1\" class=\"data row0 col1\" >[0] But we say that whoever of you stays here, seeing how we administer justice and how we govern the state in other respects, has thereby entered into an agreement with us to do what we command;\n",
       "[1] and we say that he who does not obey does threefold wrong, because he disobeys us who are his parents, because he disobeys us who nurtured him, and because after agreeing to obey us he neither obeys us nor convinces us that we are wrong, though we give him the opportunity and do not roughly order him to do what we command, but when we allow him a choice of two things, either to convince us of error or to do our bidding, he does neither of these things.”</td>\n",
       "      <td id=\"T_7b448_row0_col2\" class=\"data row0 col2\" >[0] But he who has experience of the manner in which we order justice and administer the State, and still remains, has entered into an implied contract that he will do as we command him.\n",
       "[1] And he who disobeys us is, as we maintain, thrice wrong:\n",
       "[2] first, because in disobeying us he is disobeying his parents;\n",
       "[3] secondly, because we are the authors of his education;\n",
       "[4] thirdly, because he has made an agreement with us that he will duly obey our commands;\n",
       "[5] and he neither obeys them nor convinces us that our commands are wrong;\n",
       "[6] and we do not rudely impose them, but give him the alternative of obeying or convincing us;</td>\n",
       "    </tr>\n",
       "    <tr>\n",
       "      <th id=\"T_7b448_level0_row1\" class=\"row_heading level0 row1\" >1</th>\n",
       "      <td id=\"T_7b448_row1_col0\" class=\"data row1 col0\" >ταύταις δή φαμεν καὶ σέ, ὦ Σώκρατες, ταῖς αἰτίαις ἐνέξεσθαι, εἴπερ ποιήσεις ἃ ἐπινοεῖς, καὶ οὐχ ἥκιστα Ἀθηναίων σέ, ἀλλ᾽ ἐν τοῖς μάλιστα.</td>\n",
       "      <td id=\"T_7b448_row1_col1\" class=\"data row1 col1\" >[2] and we say that he who does not obey does threefold wrong, because he disobeys us who are his parents, because he disobeys us who nurtured him, and because after agreeing to obey us he neither obeys us nor convinces us that we are wrong, though we give him the opportunity and do not roughly order him to do what we command, but when we allow him a choice of two things, either to convince us of error or to do our bidding, he does neither of these things.”</td>\n",
       "      <td id=\"T_7b448_row1_col2\" class=\"data row1 col2\" >[7] that is what we offer and he does neither.\n",
       "[8] These are the sort of accusations to which, as we were saying, you, Socrates, will be exposed if you accomplish your intentions;\n",
       "[9] you, above all other Athenians.\"</td>\n",
       "    </tr>\n",
       "  </tbody>\n",
       "</table>\n"
      ],
      "text/plain": [
       "<pandas.io.formats.style.Styler at 0x2ab703130a00>"
      ]
     },
     "execution_count": 27,
     "metadata": {},
     "output_type": "execute_result"
    }
   ],
   "source": [
    "import pandas as pd\n",
    "from IPython.display import display, HTML\n",
    "\n",
    "'''\n",
    "https://stackoverflow.com/questions/40990700/pandas-dataframes-in-jupyter-columns-of-equal-width-and-centered\n",
    "https://stackoverflow.com/questions/34322448/pretty-printing-newlines-inside-a-string-in-a-pandas-dataframe\n",
    "'''\n",
    "\n",
    "data = [\n",
    "       {'Greek': \"ὃς δ᾽ ἂν ὑμῶν παραμείνῃ, ὁρῶν ὃν τρόπον ἡμεῖς τάς τε δίκας δικάζομεν καὶ τἆλλα τὴν πόλιν διοικοῦμεν, ἤδη φαμὲν τοῦτον ὡμολογηκέναι ἔργῳ ἡμῖν ἃ ἂν ἡμεῖς κελεύωμεν ποιήσειν ταῦτα, καὶ τὸν μὴ πειθόμενον τριχῇ φαμεν ἀδικεῖν, ὅτι τε γεννηταῖς οὖσιν ἡμῖν οὐ πείθεται, καὶ ὅτι τροφεῦσι, καὶ ὅτι ὁμολογήσας ἡμῖν πείσεσθαι οὔτε πείθεται οὔτε πείθει ἡμᾶς, εἰ μὴ καλῶς τι ποιοῦμεν, προτιθέντων ἡμῶν καὶ οὐκ ἀγρίως ἐπιταττόντων ποιεῖν ἃ ἂν κελεύωμεν, ἀλλὰ ἐφιέντων δυοῖν θάτερα, ἢ πείθειν ἡμᾶς ἢ ποιεῖν, τούτων οὐδέτερα ποιεῖ.\", 'Fowler': '[0] But we say that whoever of you stays here, seeing how we administer justice and how we govern the state in other respects, has thereby entered into an agreement with us to do what we command;\\n[1] and we say that he who does not obey does threefold wrong, because he disobeys us who are his parents, because he disobeys us who nurtured him, and because after agreeing to obey us he neither obeys us nor convinces us that we are wrong, though we give him the opportunity and do not roughly order him to do what we command, but when we allow him a choice of two things, either to convince us of error or to do our bidding, he does neither of these things.”', 'Jowett': '[0] But he who has experience of the manner in which we order justice and administer the State, and still remains, has entered into an implied contract that he will do as we command him.\\n[1] And he who disobeys us is, as we maintain, thrice wrong:\\n[2] first, because in disobeying us he is disobeying his parents;\\n[3] secondly, because we are the authors of his education;\\n[4] thirdly, because he has made an agreement with us that he will duly obey our commands;\\n[5] and he neither obeys them nor convinces us that our commands are wrong;\\n[6] and we do not rudely impose them, but give him the alternative of obeying or convincing us;'},\n",
    "    {'Greek': 'ταύταις δή φαμεν καὶ σέ, ὦ Σώκρατες, ταῖς αἰτίαις ἐνέξεσθαι, εἴπερ ποιήσεις ἃ ἐπινοεῖς, καὶ οὐχ ἥκιστα Ἀθηναίων σέ, ἀλλ᾽ ἐν τοῖς μάλιστα.', 'Fowler':'[2] and we say that he who does not obey does threefold wrong, because he disobeys us who are his parents, because he disobeys us who nurtured him, and because after agreeing to obey us he neither obeys us nor convinces us that we are wrong, though we give him the opportunity and do not roughly order him to do what we command, but when we allow him a choice of two things, either to convince us of error or to do our bidding, he does neither of these things.”', 'Jowett':'[7] that is what we offer and he does neither.\\n[8] These are the sort of accusations to which, as we were saying, you, Socrates, will be exposed if you accomplish your intentions;\\n[9] you, above all other Athenians.\"'}\n",
    "       ]\n",
    "df = pd.DataFrame(data)\n",
    "\n",
    "d = dict(selector=\"th\",\n",
    "    props=[('text-align', 'center')])\n",
    "df.style.set_properties(**{'width':'30em', 'text-align':'left', 'white-space': 'pre-wrap'})\\\n",
    "        .set_table_styles([d])"
   ]
  },
  {
   "cell_type": "code",
   "execution_count": 3,
   "id": "739dbdcd-bc2a-4168-aa7f-b0af1335c6e1",
   "metadata": {},
   "outputs": [],
   "source": [
    "from ast import literal_eval\n",
    "#### vecalign function ####\n",
    "def read_alignments(fin):\n",
    "    alignments = []\n",
    "    with open(fin, 'rt', encoding=\"utf-8\") as infile:\n",
    "        for line in infile:\n",
    "            fields = [x.strip() for x in line.split(':') if len(x.strip())]\n",
    "            if len(fields) < 2:\n",
    "                raise Exception('Got line \"%s\", which does not have at least two \":\" separated fields' % line.strip())\n",
    "            try:\n",
    "                src = literal_eval(fields[0])\n",
    "                tgt = literal_eval(fields[1])\n",
    "            except:\n",
    "                raise Exception('Failed to parse line \"%s\"' % line.strip())\n",
    "            alignments.append((src, tgt))\n",
    "\n",
    "    # I know bluealign files have a few entries entries missing,\n",
    "    #   but I don't fix them in order to be consistent previous reported scores\n",
    "    return alignments"
   ]
  },
  {
   "cell_type": "code",
   "execution_count": 4,
   "id": "b6c2e552-aaff-4adc-b266-c6e8c6ff2321",
   "metadata": {},
   "outputs": [],
   "source": [
    "from functions import load_txt_as_lst"
   ]
  },
  {
   "cell_type": "code",
   "execution_count": 5,
   "id": "18e0cb3a-35e0-4ba1-8a18-07e09225f5b1",
   "metadata": {},
   "outputs": [],
   "source": [
    "th1_rslts = read_alignments(\"/home/craig.car/repos/chiron/chironata/data/alignments_rslts/thucydides_1863.rslts\")\n",
    "th2_rslts = read_alignments(\"/home/craig.car/repos/chiron/chironata/data/alignments_rslts/thucydides_1_1852.rslts\")\n",
    "el_sents = load_txt_as_lst(\"/home/craig.car/repos/chiron/chironata/data/src_data/urn:cts:greekLit:tlg0003.tlg001.sents\")\n",
    "th1_sents = load_txt_as_lst(\"/home/craig.car/repos/chiron/chironata/data/french_trans-dev/thucydides_1863.sents\")"
   ]
  },
  {
   "cell_type": "code",
   "execution_count": 6,
   "id": "9bcb558b-d60b-4c17-91bd-d92ddb1a4453",
   "metadata": {},
   "outputs": [
    {
     "data": {
      "text/plain": [
       "[([], [0]),\n",
       " ([], [1]),\n",
       " ([], [2]),\n",
       " ([], [3]),\n",
       " ([], [4]),\n",
       " ([], [5]),\n",
       " ([0], [6, 7, 8, 9, 10, 11, 12]),\n",
       " ([], [13]),\n",
       " ([], [14]),\n",
       " ([1], [15, 16, 17, 18]),\n",
       " ([], [19]),\n",
       " ([], [20]),\n",
       " ([], [21]),\n",
       " ([], [22]),\n",
       " ([], [23]),\n",
       " ([], [24]),\n",
       " ([], [25]),\n",
       " ([], [26]),\n",
       " ([], [27]),\n",
       " ([], [28])]"
      ]
     },
     "execution_count": 6,
     "metadata": {},
     "output_type": "execute_result"
    }
   ],
   "source": [
    "th1_rslts[0:20]"
   ]
  },
  {
   "cell_type": "code",
   "execution_count": 7,
   "id": "3e5c2bba-925a-4ff9-a0c2-fec1bf95d3da",
   "metadata": {},
   "outputs": [
    {
     "data": {
      "text/plain": [
       "'Introduction.\\n'"
      ]
     },
     "execution_count": 7,
     "metadata": {},
     "output_type": "execute_result"
    }
   ],
   "source": [
    "th1_sents[0]"
   ]
  },
  {
   "cell_type": "code",
   "execution_count": 8,
   "id": "491e283c-1358-4615-b3b1-597daff149fe",
   "metadata": {},
   "outputs": [],
   "source": [
    "el_series = []\n",
    "for alignment in th1_rslts:\n",
    "    src_pred = alignment[0]\n",
    "    src_cell = \"\"\n",
    "    if src_pred == []:\n",
    "        el_series.append(\"\")\n",
    "    else:\n",
    "        for src_idx in src_pred:\n",
    "            src_sent = el_sents[src_idx]\n",
    "            src_cell += f\"[{src_idx}] {src_sent}\\n\"\n",
    "        el_series.append(src_cell)\n",
    "        \n",
    "        # for src_idx in src_pred:\n",
    "        #     el_series.append(el_sents[src_idx])"
   ]
  },
  {
   "cell_type": "code",
   "execution_count": 9,
   "id": "0eb8c5ba-231d-45dd-b3f7-b67ca4202ac3",
   "metadata": {},
   "outputs": [
    {
     "data": {
      "text/plain": [
       "4678"
      ]
     },
     "execution_count": 9,
     "metadata": {},
     "output_type": "execute_result"
    }
   ],
   "source": [
    "len(el_series)"
   ]
  },
  {
   "cell_type": "code",
   "execution_count": 12,
   "id": "b870e99d-24af-43be-8bbe-c5cc8ea91033",
   "metadata": {},
   "outputs": [
    {
     "data": {
      "text/html": [
       "<div>\n",
       "<style scoped>\n",
       "    .dataframe tbody tr th:only-of-type {\n",
       "        vertical-align: middle;\n",
       "    }\n",
       "\n",
       "    .dataframe tbody tr th {\n",
       "        vertical-align: top;\n",
       "    }\n",
       "\n",
       "    .dataframe thead th {\n",
       "        text-align: right;\n",
       "    }\n",
       "</style>\n",
       "<table border=\"1\" class=\"dataframe\">\n",
       "  <thead>\n",
       "    <tr style=\"text-align: right;\">\n",
       "      <th></th>\n",
       "      <th>Greek</th>\n",
       "    </tr>\n",
       "  </thead>\n",
       "  <tbody>\n",
       "    <tr>\n",
       "      <th>0</th>\n",
       "      <td></td>\n",
       "    </tr>\n",
       "    <tr>\n",
       "      <th>1</th>\n",
       "      <td></td>\n",
       "    </tr>\n",
       "    <tr>\n",
       "      <th>2</th>\n",
       "      <td></td>\n",
       "    </tr>\n",
       "    <tr>\n",
       "      <th>3</th>\n",
       "      <td></td>\n",
       "    </tr>\n",
       "    <tr>\n",
       "      <th>4</th>\n",
       "      <td></td>\n",
       "    </tr>\n",
       "    <tr>\n",
       "      <th>5</th>\n",
       "      <td></td>\n",
       "    </tr>\n",
       "    <tr>\n",
       "      <th>6</th>\n",
       "      <td>[0] Θουκυδίδης Ἀθηναῖος ξυνέγραψε τὸν πόλεμον ...</td>\n",
       "    </tr>\n",
       "    <tr>\n",
       "      <th>7</th>\n",
       "      <td></td>\n",
       "    </tr>\n",
       "    <tr>\n",
       "      <th>8</th>\n",
       "      <td></td>\n",
       "    </tr>\n",
       "    <tr>\n",
       "      <th>9</th>\n",
       "      <td>[1] κίνησις γὰρ αὕτη μεγίστη δὴ τοῖς Ἕλλησιν ἐ...</td>\n",
       "    </tr>\n",
       "  </tbody>\n",
       "</table>\n",
       "</div>"
      ],
      "text/plain": [
       "                                               Greek\n",
       "0                                                   \n",
       "1                                                   \n",
       "2                                                   \n",
       "3                                                   \n",
       "4                                                   \n",
       "5                                                   \n",
       "6  [0] Θουκυδίδης Ἀθηναῖος ξυνέγραψε τὸν πόλεμον ...\n",
       "7                                                   \n",
       "8                                                   \n",
       "9  [1] κίνησις γὰρ αὕτη μεγίστη δὴ τοῖς Ἕλλησιν ἐ..."
      ]
     },
     "execution_count": 12,
     "metadata": {},
     "output_type": "execute_result"
    }
   ],
   "source": [
    "th_df = pd.DataFrame(el_series)\n",
    "th_df.columns=[\"Greek\"]\n",
    "th_df.head(10)"
   ]
  },
  {
   "cell_type": "code",
   "execution_count": 13,
   "id": "15583d03-c5ac-4800-b857-289bd52e3f13",
   "metadata": {},
   "outputs": [],
   "source": [
    "th1_series = []\n",
    "for alignment in th1_rslts:\n",
    "    tgt_pred = alignment[1]\n",
    "    tgt_cell = \"\"\n",
    "    if tgt_pred == []:\n",
    "        th1_series.append(\"\")\n",
    "    else:\n",
    "        for tgt_idx in tgt_pred:\n",
    "            tgt_sent = th1_sents[tgt_idx]\n",
    "            tgt_cell += f\"[{tgt_idx}] {tgt_sent}\\n\"\n",
    "    th1_series.append(tgt_cell)"
   ]
  },
  {
   "cell_type": "code",
   "execution_count": 14,
   "id": "e5a83eaa-f74a-4622-ba78-d3d0de344c71",
   "metadata": {},
   "outputs": [
    {
     "data": {
      "text/plain": [
       "['[0] Introduction.\\n\\n',\n",
       " '[1] L’auteur passe en revue les temps primitifs de la Grèce, afin de prouver que la guerre du Péloponèse a surpassé en importance toutes les guerres qui avaient précédé, chap.\\n\\n',\n",
       " '[2] i-xix.\\n\\n',\n",
       " '[3] But qu’il s’est proposé dans la rédaction de son ouvrage;\\n\\n',\n",
       " '[4] méthode et moyens qu’il a employés pour y parvenir, chap.\\n\\n',\n",
       " '[5] xx-xxiii.\\n\\n',\n",
       " '[6] — Épidamne et Potidée.\\n\\n[7] Événements qui provoquèrent la guerre du Péloponèse.\\n\\n[8] Affaire d’Épidamne·, guerre entre Corcyre et Corinthe;\\n\\n[9] premier combat naval, chap.\\n\\n[10] xxiv-xxxi.\\n\\n[11] Les Gorcyréens obtiennent l’alliance d’Athènes.\\n\\n[12] Discours des Corcyréens et des Corinthiens, chap. xxxiixliii.\\n\\n',\n",
       " '[13] Second combat naval entre les Corcyréens et les Corinthiens;\\n\\n',\n",
       " '[14] fin de la guerre de Corcyre, chap.\\n\\n',\n",
       " '[15] xliv-lv.\\n\\n[16] Défection de Potidée;\\n\\n[17] combat livré sous les murs de cette ville et siége commencé par les Athéniens, chap.\\n\\n[18] lvi-lxvi.\\n\\n',\n",
       " '[19] Les Lacédémoniens, dans leur assemblée ordinaire, déclarent que le traité avec Athènes est rompu.\\n\\n',\n",
       " '[20] Discours des Corinthiens, des Athéniens, d’Archidamos et de Sthénélaïdas, chap.\\n\\n',\n",
       " '[21] lxvii-lxxxvxi.\\n\\n',\n",
       " '[22] — Les cinquante ans.\\n\\n',\n",
       " '[23] Digression sur la période écoulée entre les guerres médiques ét celle du Péloponèse.\\n\\n',\n",
       " '[24] Progrès de la puissance des Athéniens;\\n\\n',\n",
       " '[25] origine et conditions de leur empire, chap.\\n\\n',\n",
       " '[26] lxxxviii-cxviii.\\n\\n',\n",
       " '[27] — Préparatifs de guerre.\\n\\n',\n",
       " '[28] Les Lacédémoniens convoquent une assemblée générale de leurs alliés, et conviennent avec eux de déclarer la guerre aux Athéniens.\\n\\n']"
      ]
     },
     "execution_count": 14,
     "metadata": {},
     "output_type": "execute_result"
    }
   ],
   "source": [
    "th1_series[:20]"
   ]
  },
  {
   "cell_type": "code",
   "execution_count": 15,
   "id": "3975652f-a4d9-4bf6-9721-f36b3076bbaf",
   "metadata": {},
   "outputs": [
    {
     "data": {
      "text/plain": [
       "'[10353] Il se rendit en premier lieu à Éphèse, où il offrit un sacrifice à Diane.Quand l’hiver qui suit cet été aura pris fin, la vingt et unième année de la guerre sera terminée2.\\n\\n'"
      ]
     },
     "execution_count": 15,
     "metadata": {},
     "output_type": "execute_result"
    }
   ],
   "source": [
    "th1_series[-1]"
   ]
  },
  {
   "cell_type": "code",
   "execution_count": 16,
   "id": "9632a20f-ddcd-4001-ae30-8696f98dca01",
   "metadata": {},
   "outputs": [
    {
     "data": {
      "text/plain": [
       "'[4416] καὶ ἀφικόμενος πρῶτον ἐς Ἔφεσον θυσίαν ἐποιήσατο τῇ Ἀρτέμιδι.\\n\\n[4417] [ὅταν ὁ μετὰ τοῦτο τὸ θέρος χειμὼν τελευτήσῃ, ἓν καὶ εἰκοστὸν ἔτος πληροῦται.\\n\\n[4418] ]\\n\\n'"
      ]
     },
     "execution_count": 16,
     "metadata": {},
     "output_type": "execute_result"
    }
   ],
   "source": [
    "el_series[-1]"
   ]
  },
  {
   "cell_type": "code",
   "execution_count": 17,
   "id": "8afcc721-3713-43fa-83ca-b3e0c85c1f78",
   "metadata": {},
   "outputs": [
    {
     "data": {
      "text/plain": [
       "4678"
      ]
     },
     "execution_count": 17,
     "metadata": {},
     "output_type": "execute_result"
    }
   ],
   "source": [
    "len(th1_series)"
   ]
  },
  {
   "cell_type": "code",
   "execution_count": 18,
   "id": "0641defb-f830-4274-a3ee-9eb2945f1cda",
   "metadata": {},
   "outputs": [
    {
     "data": {
      "text/plain": [
       "4678"
      ]
     },
     "execution_count": 18,
     "metadata": {},
     "output_type": "execute_result"
    }
   ],
   "source": [
    "len(el_series)"
   ]
  },
  {
   "cell_type": "code",
   "execution_count": 19,
   "id": "2426180f-2c5b-459c-b6f3-5c29533d613c",
   "metadata": {},
   "outputs": [],
   "source": [
    "th_df[\"thucydides_1863\"] = th1_series"
   ]
  },
  {
   "cell_type": "code",
   "execution_count": 20,
   "id": "06336277-786d-471e-9430-cfe13e88ca9c",
   "metadata": {},
   "outputs": [
    {
     "data": {
      "text/html": [
       "<div>\n",
       "<style scoped>\n",
       "    .dataframe tbody tr th:only-of-type {\n",
       "        vertical-align: middle;\n",
       "    }\n",
       "\n",
       "    .dataframe tbody tr th {\n",
       "        vertical-align: top;\n",
       "    }\n",
       "\n",
       "    .dataframe thead th {\n",
       "        text-align: right;\n",
       "    }\n",
       "</style>\n",
       "<table border=\"1\" class=\"dataframe\">\n",
       "  <thead>\n",
       "    <tr style=\"text-align: right;\">\n",
       "      <th></th>\n",
       "      <th>Greek</th>\n",
       "      <th>thucydides_1863</th>\n",
       "    </tr>\n",
       "  </thead>\n",
       "  <tbody>\n",
       "    <tr>\n",
       "      <th>0</th>\n",
       "      <td></td>\n",
       "      <td>[0] Introduction.\\n\\n</td>\n",
       "    </tr>\n",
       "    <tr>\n",
       "      <th>1</th>\n",
       "      <td></td>\n",
       "      <td>[1] L’auteur passe en revue les temps primitif...</td>\n",
       "    </tr>\n",
       "    <tr>\n",
       "      <th>2</th>\n",
       "      <td></td>\n",
       "      <td>[2] i-xix.\\n\\n</td>\n",
       "    </tr>\n",
       "    <tr>\n",
       "      <th>3</th>\n",
       "      <td></td>\n",
       "      <td>[3] But qu’il s’est proposé dans la rédaction ...</td>\n",
       "    </tr>\n",
       "    <tr>\n",
       "      <th>4</th>\n",
       "      <td></td>\n",
       "      <td>[4] méthode et moyens qu’il a employés pour y ...</td>\n",
       "    </tr>\n",
       "    <tr>\n",
       "      <th>...</th>\n",
       "      <td>...</td>\n",
       "      <td>...</td>\n",
       "    </tr>\n",
       "    <tr>\n",
       "      <th>4673</th>\n",
       "      <td>[4412] καὶ ὁ Τισσαφέρνης ἀπὸ τῆς Ἀσπένδου, ὡς ...</td>\n",
       "      <td>[10344] Lorsque Tissapherne apprit que la flot...</td>\n",
       "    </tr>\n",
       "    <tr>\n",
       "      <th>4674</th>\n",
       "      <td>[4413] ὄντων δὲ τῶν Πελοποννησίων ἐν τῷ Ἑλλησπ...</td>\n",
       "      <td>[10345] Cet Arsacès avait indignement traité c...</td>\n",
       "    </tr>\n",
       "    <tr>\n",
       "      <th>4675</th>\n",
       "      <td>[4414] φοβούμενοι οὖν αὐτὸν διὰ τοῦτο τὸ ἔργον...</td>\n",
       "      <td>[10346] Sous prétexte de combattre un ennemi q...</td>\n",
       "    </tr>\n",
       "    <tr>\n",
       "      <th>4676</th>\n",
       "      <td>[4415] ὁ δὲ Τισσαφέρνης αἰσθόμενος καὶ τοῦτο τ...</td>\n",
       "      <td>[10347] puis, saisissant le moment de leur rep...</td>\n",
       "    </tr>\n",
       "    <tr>\n",
       "      <th>4677</th>\n",
       "      <td>[4416] καὶ ἀφικόμενος πρῶτον ἐς Ἔφεσον θυσίαν ...</td>\n",
       "      <td>[10353] Il se rendit en premier lieu à Éphèse,...</td>\n",
       "    </tr>\n",
       "  </tbody>\n",
       "</table>\n",
       "<p>4678 rows × 2 columns</p>\n",
       "</div>"
      ],
      "text/plain": [
       "                                                  Greek  \\\n",
       "0                                                         \n",
       "1                                                         \n",
       "2                                                         \n",
       "3                                                         \n",
       "4                                                         \n",
       "...                                                 ...   \n",
       "4673  [4412] καὶ ὁ Τισσαφέρνης ἀπὸ τῆς Ἀσπένδου, ὡς ...   \n",
       "4674  [4413] ὄντων δὲ τῶν Πελοποννησίων ἐν τῷ Ἑλλησπ...   \n",
       "4675  [4414] φοβούμενοι οὖν αὐτὸν διὰ τοῦτο τὸ ἔργον...   \n",
       "4676  [4415] ὁ δὲ Τισσαφέρνης αἰσθόμενος καὶ τοῦτο τ...   \n",
       "4677  [4416] καὶ ἀφικόμενος πρῶτον ἐς Ἔφεσον θυσίαν ...   \n",
       "\n",
       "                                        thucydides_1863  \n",
       "0                                 [0] Introduction.\\n\\n  \n",
       "1     [1] L’auteur passe en revue les temps primitif...  \n",
       "2                                        [2] i-xix.\\n\\n  \n",
       "3     [3] But qu’il s’est proposé dans la rédaction ...  \n",
       "4     [4] méthode et moyens qu’il a employés pour y ...  \n",
       "...                                                 ...  \n",
       "4673  [10344] Lorsque Tissapherne apprit que la flot...  \n",
       "4674  [10345] Cet Arsacès avait indignement traité c...  \n",
       "4675  [10346] Sous prétexte de combattre un ennemi q...  \n",
       "4676  [10347] puis, saisissant le moment de leur rep...  \n",
       "4677  [10353] Il se rendit en premier lieu à Éphèse,...  \n",
       "\n",
       "[4678 rows x 2 columns]"
      ]
     },
     "execution_count": 20,
     "metadata": {},
     "output_type": "execute_result"
    }
   ],
   "source": [
    "th_df"
   ]
  },
  {
   "cell_type": "code",
   "execution_count": null,
   "id": "43b3ecb8-9364-4bf9-9b8e-eec16850ae1c",
   "metadata": {},
   "outputs": [],
   "source": []
  }
 ],
 "metadata": {
  "kernelspec": {
   "display_name": "Python 3 (ipykernel)",
   "language": "python",
   "name": "python3"
  },
  "language_info": {
   "codemirror_mode": {
    "name": "ipython",
    "version": 3
   },
   "file_extension": ".py",
   "mimetype": "text/x-python",
   "name": "python",
   "nbconvert_exporter": "python",
   "pygments_lexer": "ipython3",
   "version": "3.7.13"
  }
 },
 "nbformat": 4,
 "nbformat_minor": 5
}
