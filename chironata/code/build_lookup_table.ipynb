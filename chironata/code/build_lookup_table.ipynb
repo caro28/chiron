{
 "cells": [
  {
   "cell_type": "code",
   "execution_count": 19,
   "id": "055e59cf-fdd7-42a6-88e1-cf6d508ffddb",
   "metadata": {},
   "outputs": [],
   "source": [
    "import glob, os\n",
    "import pandas as pd"
   ]
  },
  {
   "cell_type": "code",
   "execution_count": 2,
   "id": "92fe0602-8518-468e-9038-2fc3c674a3fa",
   "metadata": {},
   "outputs": [],
   "source": [
    "transl_path = \"/home/craig.car/repos/chiron/align_texts_project/data/translations_repositories.csv\""
   ]
  },
  {
   "cell_type": "code",
   "execution_count": 47,
   "id": "17b70323-cce9-49ad-9867-b34140dd9569",
   "metadata": {},
   "outputs": [],
   "source": [
    "transl_df = pd.read_csv(transl_path)\n",
    "transl_df = transl_df.rename(columns={\"CTS-URN/s\":\"cts-urns_grp\", \"Original File Name/Location\":\"Original_File_Name\", \"Addiional File location/locations\":\"Additional_File_locations\"})"
   ]
  },
  {
   "cell_type": "code",
   "execution_count": 48,
   "id": "056e7ace-ca1b-4d8d-808f-f6e30c30b645",
   "metadata": {},
   "outputs": [
    {
     "data": {
      "text/plain": [
       "'urn:cts:greekLit:tlg0085.tlg001.ogl-eng1 urn:cts:greekLit:tlg0085.tlg002.ogl-eng1 urn:cts:greekLit:tlg0085.tlg003.ogl-eng1 urn:cts:greekLit:tlg0085.tlg004.ogl-eng1 urn:cts:greekLit:tlg0085.tlg005.ogl-eng1 urn:cts:greekLit:tlg0085.tlg006.ogl-eng1 urn:cts:greekLit:tlg0085.tlg007.ogl-eng1'"
      ]
     },
     "execution_count": 48,
     "metadata": {},
     "output_type": "execute_result"
    }
   ],
   "source": [
    "transl_df.loc[0,\"cts-urns_grp\"]"
   ]
  },
  {
   "cell_type": "code",
   "execution_count": 49,
   "id": "b5dd53a3-ce91-4fc3-81af-6e36085eb438",
   "metadata": {},
   "outputs": [
    {
     "data": {
      "text/plain": [
       "['urn:cts:greekLit:tlg0085.tlg001.ogl-eng1',\n",
       " 'urn:cts:greekLit:tlg0085.tlg002.ogl-eng1',\n",
       " 'urn:cts:greekLit:tlg0085.tlg003.ogl-eng1',\n",
       " 'urn:cts:greekLit:tlg0085.tlg004.ogl-eng1',\n",
       " 'urn:cts:greekLit:tlg0085.tlg005.ogl-eng1',\n",
       " 'urn:cts:greekLit:tlg0085.tlg006.ogl-eng1',\n",
       " 'urn:cts:greekLit:tlg0085.tlg007.ogl-eng1']"
      ]
     },
     "execution_count": 49,
     "metadata": {},
     "output_type": "execute_result"
    }
   ],
   "source": [
    "transl_df.loc[0,\"cts-urns_grp\"].split()"
   ]
  },
  {
   "cell_type": "code",
   "execution_count": 50,
   "id": "a5fa6c5a-7d66-4a07-81ea-8b7bf6b53418",
   "metadata": {},
   "outputs": [],
   "source": [
    "transl_df[\"cts-urns_uniques\"] = transl_df[\"cts-urns_grp\"].str.split()"
   ]
  },
  {
   "cell_type": "code",
   "execution_count": 51,
   "id": "4dbade60-8379-4efb-9ae9-d14e86073127",
   "metadata": {},
   "outputs": [],
   "source": [
    "transl_df = transl_df.explode(\"cts-urns_uniques\", ignore_index=True)"
   ]
  },
  {
   "cell_type": "code",
   "execution_count": 52,
   "id": "6bc47234-d3e0-4788-9ff3-55cec79916d3",
   "metadata": {},
   "outputs": [
    {
     "name": "stderr",
     "output_type": "stream",
     "text": [
      "/tmp/ipykernel_8780/1713395687.py:1: FutureWarning: In a future version of pandas all arguments of StringMethods.rsplit except for the argument 'pat' will be keyword-only.\n",
      "  transl_df[\"ctsurns\"] = transl_df[\"cts-urns_uniques\"].str.rsplit(\".\",1).str[0]\n"
     ]
    }
   ],
   "source": [
    "transl_df[\"ctsurns\"] = transl_df[\"cts-urns_uniques\"].str.rsplit(\".\",1).str[0]"
   ]
  },
  {
   "cell_type": "code",
   "execution_count": 53,
   "id": "b0c49c69-4679-49d5-b777-73479e36333f",
   "metadata": {},
   "outputs": [],
   "source": [
    "transl_df[\"filename1\"] = transl_df[\"Original_File_Name\"].str.split(\".\").str[0]"
   ]
  },
  {
   "cell_type": "code",
   "execution_count": 54,
   "id": "84506a8c-de58-411d-8476-d995f2398d22",
   "metadata": {},
   "outputs": [],
   "source": [
    "transl_df[\"filename2\"] = transl_df[\"Additional_File_locations\"].str.split(\".\").str[0]"
   ]
  },
  {
   "cell_type": "code",
   "execution_count": 55,
   "id": "9e10828d-978d-44be-9686-322d6a8f37e0",
   "metadata": {},
   "outputs": [
    {
     "data": {
      "text/html": [
       "<div>\n",
       "<style scoped>\n",
       "    .dataframe tbody tr th:only-of-type {\n",
       "        vertical-align: middle;\n",
       "    }\n",
       "\n",
       "    .dataframe tbody tr th {\n",
       "        vertical-align: top;\n",
       "    }\n",
       "\n",
       "    .dataframe thead th {\n",
       "        text-align: right;\n",
       "    }\n",
       "</style>\n",
       "<table border=\"1\" class=\"dataframe\">\n",
       "  <thead>\n",
       "    <tr style=\"text-align: right;\">\n",
       "      <th></th>\n",
       "      <th>Author Name</th>\n",
       "      <th>WORK IDs</th>\n",
       "      <th>cts-urns_grp</th>\n",
       "      <th># of translations</th>\n",
       "      <th>Edition Title</th>\n",
       "      <th>Editor; Translator</th>\n",
       "      <th>Publisher</th>\n",
       "      <th>Date</th>\n",
       "      <th>Original_File_Name</th>\n",
       "      <th>Additional_File_locations</th>\n",
       "      <th>...</th>\n",
       "      <th>Worldcat Link</th>\n",
       "      <th>Work/s Split Up/Renamed in Branch</th>\n",
       "      <th>New File Name/s</th>\n",
       "      <th>Notes</th>\n",
       "      <th>TOC</th>\n",
       "      <th>Additional TOC</th>\n",
       "      <th>cts-urns_uniques</th>\n",
       "      <th>ctsurns</th>\n",
       "      <th>filename1</th>\n",
       "      <th>filename2</th>\n",
       "    </tr>\n",
       "  </thead>\n",
       "  <tbody>\n",
       "    <tr>\n",
       "      <th>0</th>\n",
       "      <td>Aeschylus</td>\n",
       "      <td>0085.001 0085.002 0085.003 0085.004 0085.005 0...</td>\n",
       "      <td>urn:cts:greekLit:tlg0085.tlg001.ogl-eng1 urn:c...</td>\n",
       "      <td>7.0</td>\n",
       "      <td>The Dramas of Aeschylus</td>\n",
       "      <td>Swanwick, Anna, 1831-1899</td>\n",
       "      <td>Bell</td>\n",
       "      <td>1886</td>\n",
       "      <td>aeschylus_1886.xml</td>\n",
       "      <td>NaN</td>\n",
       "      <td>...</td>\n",
       "      <td>NaN</td>\n",
       "      <td>no</td>\n",
       "      <td>NaN</td>\n",
       "      <td>NaN</td>\n",
       "      <td>NaN</td>\n",
       "      <td>NaN</td>\n",
       "      <td>urn:cts:greekLit:tlg0085.tlg001.ogl-eng1</td>\n",
       "      <td>urn:cts:greekLit:tlg0085.tlg001</td>\n",
       "      <td>aeschylus_1886</td>\n",
       "      <td>NaN</td>\n",
       "    </tr>\n",
       "    <tr>\n",
       "      <th>1</th>\n",
       "      <td>Aeschylus</td>\n",
       "      <td>0085.001 0085.002 0085.003 0085.004 0085.005 0...</td>\n",
       "      <td>urn:cts:greekLit:tlg0085.tlg001.ogl-eng1 urn:c...</td>\n",
       "      <td>7.0</td>\n",
       "      <td>The Dramas of Aeschylus</td>\n",
       "      <td>Swanwick, Anna, 1831-1899</td>\n",
       "      <td>Bell</td>\n",
       "      <td>1886</td>\n",
       "      <td>aeschylus_1886.xml</td>\n",
       "      <td>NaN</td>\n",
       "      <td>...</td>\n",
       "      <td>NaN</td>\n",
       "      <td>no</td>\n",
       "      <td>NaN</td>\n",
       "      <td>NaN</td>\n",
       "      <td>NaN</td>\n",
       "      <td>NaN</td>\n",
       "      <td>urn:cts:greekLit:tlg0085.tlg002.ogl-eng1</td>\n",
       "      <td>urn:cts:greekLit:tlg0085.tlg002</td>\n",
       "      <td>aeschylus_1886</td>\n",
       "      <td>NaN</td>\n",
       "    </tr>\n",
       "    <tr>\n",
       "      <th>2</th>\n",
       "      <td>Aeschylus</td>\n",
       "      <td>0085.001 0085.002 0085.003 0085.004 0085.005 0...</td>\n",
       "      <td>urn:cts:greekLit:tlg0085.tlg001.ogl-eng1 urn:c...</td>\n",
       "      <td>7.0</td>\n",
       "      <td>The Dramas of Aeschylus</td>\n",
       "      <td>Swanwick, Anna, 1831-1899</td>\n",
       "      <td>Bell</td>\n",
       "      <td>1886</td>\n",
       "      <td>aeschylus_1886.xml</td>\n",
       "      <td>NaN</td>\n",
       "      <td>...</td>\n",
       "      <td>NaN</td>\n",
       "      <td>no</td>\n",
       "      <td>NaN</td>\n",
       "      <td>NaN</td>\n",
       "      <td>NaN</td>\n",
       "      <td>NaN</td>\n",
       "      <td>urn:cts:greekLit:tlg0085.tlg003.ogl-eng1</td>\n",
       "      <td>urn:cts:greekLit:tlg0085.tlg003</td>\n",
       "      <td>aeschylus_1886</td>\n",
       "      <td>NaN</td>\n",
       "    </tr>\n",
       "    <tr>\n",
       "      <th>3</th>\n",
       "      <td>Aeschylus</td>\n",
       "      <td>0085.001 0085.002 0085.003 0085.004 0085.005 0...</td>\n",
       "      <td>urn:cts:greekLit:tlg0085.tlg001.ogl-eng1 urn:c...</td>\n",
       "      <td>7.0</td>\n",
       "      <td>The Dramas of Aeschylus</td>\n",
       "      <td>Swanwick, Anna, 1831-1899</td>\n",
       "      <td>Bell</td>\n",
       "      <td>1886</td>\n",
       "      <td>aeschylus_1886.xml</td>\n",
       "      <td>NaN</td>\n",
       "      <td>...</td>\n",
       "      <td>NaN</td>\n",
       "      <td>no</td>\n",
       "      <td>NaN</td>\n",
       "      <td>NaN</td>\n",
       "      <td>NaN</td>\n",
       "      <td>NaN</td>\n",
       "      <td>urn:cts:greekLit:tlg0085.tlg004.ogl-eng1</td>\n",
       "      <td>urn:cts:greekLit:tlg0085.tlg004</td>\n",
       "      <td>aeschylus_1886</td>\n",
       "      <td>NaN</td>\n",
       "    </tr>\n",
       "    <tr>\n",
       "      <th>4</th>\n",
       "      <td>Aeschylus</td>\n",
       "      <td>0085.001 0085.002 0085.003 0085.004 0085.005 0...</td>\n",
       "      <td>urn:cts:greekLit:tlg0085.tlg001.ogl-eng1 urn:c...</td>\n",
       "      <td>7.0</td>\n",
       "      <td>The Dramas of Aeschylus</td>\n",
       "      <td>Swanwick, Anna, 1831-1899</td>\n",
       "      <td>Bell</td>\n",
       "      <td>1886</td>\n",
       "      <td>aeschylus_1886.xml</td>\n",
       "      <td>NaN</td>\n",
       "      <td>...</td>\n",
       "      <td>NaN</td>\n",
       "      <td>no</td>\n",
       "      <td>NaN</td>\n",
       "      <td>NaN</td>\n",
       "      <td>NaN</td>\n",
       "      <td>NaN</td>\n",
       "      <td>urn:cts:greekLit:tlg0085.tlg005.ogl-eng1</td>\n",
       "      <td>urn:cts:greekLit:tlg0085.tlg005</td>\n",
       "      <td>aeschylus_1886</td>\n",
       "      <td>NaN</td>\n",
       "    </tr>\n",
       "  </tbody>\n",
       "</table>\n",
       "<p>5 rows × 22 columns</p>\n",
       "</div>"
      ],
      "text/plain": [
       "  Author Name                                           WORK IDs  \\\n",
       "0   Aeschylus  0085.001 0085.002 0085.003 0085.004 0085.005 0...   \n",
       "1   Aeschylus  0085.001 0085.002 0085.003 0085.004 0085.005 0...   \n",
       "2   Aeschylus  0085.001 0085.002 0085.003 0085.004 0085.005 0...   \n",
       "3   Aeschylus  0085.001 0085.002 0085.003 0085.004 0085.005 0...   \n",
       "4   Aeschylus  0085.001 0085.002 0085.003 0085.004 0085.005 0...   \n",
       "\n",
       "                                        cts-urns_grp  # of translations  \\\n",
       "0  urn:cts:greekLit:tlg0085.tlg001.ogl-eng1 urn:c...                7.0   \n",
       "1  urn:cts:greekLit:tlg0085.tlg001.ogl-eng1 urn:c...                7.0   \n",
       "2  urn:cts:greekLit:tlg0085.tlg001.ogl-eng1 urn:c...                7.0   \n",
       "3  urn:cts:greekLit:tlg0085.tlg001.ogl-eng1 urn:c...                7.0   \n",
       "4  urn:cts:greekLit:tlg0085.tlg001.ogl-eng1 urn:c...                7.0   \n",
       "\n",
       "             Edition Title         Editor; Translator Publisher  Date  \\\n",
       "0  The Dramas of Aeschylus  Swanwick, Anna, 1831-1899      Bell  1886   \n",
       "1  The Dramas of Aeschylus  Swanwick, Anna, 1831-1899      Bell  1886   \n",
       "2  The Dramas of Aeschylus  Swanwick, Anna, 1831-1899      Bell  1886   \n",
       "3  The Dramas of Aeschylus  Swanwick, Anna, 1831-1899      Bell  1886   \n",
       "4  The Dramas of Aeschylus  Swanwick, Anna, 1831-1899      Bell  1886   \n",
       "\n",
       "   Original_File_Name Additional_File_locations  ... Worldcat Link  \\\n",
       "0  aeschylus_1886.xml                       NaN  ...           NaN   \n",
       "1  aeschylus_1886.xml                       NaN  ...           NaN   \n",
       "2  aeschylus_1886.xml                       NaN  ...           NaN   \n",
       "3  aeschylus_1886.xml                       NaN  ...           NaN   \n",
       "4  aeschylus_1886.xml                       NaN  ...           NaN   \n",
       "\n",
       "  Work/s Split Up/Renamed in Branch New File Name/s Notes  TOC Additional TOC  \\\n",
       "0                                no             NaN   NaN  NaN            NaN   \n",
       "1                                no             NaN   NaN  NaN            NaN   \n",
       "2                                no             NaN   NaN  NaN            NaN   \n",
       "3                                no             NaN   NaN  NaN            NaN   \n",
       "4                                no             NaN   NaN  NaN            NaN   \n",
       "\n",
       "                           cts-urns_uniques                          ctsurns  \\\n",
       "0  urn:cts:greekLit:tlg0085.tlg001.ogl-eng1  urn:cts:greekLit:tlg0085.tlg001   \n",
       "1  urn:cts:greekLit:tlg0085.tlg002.ogl-eng1  urn:cts:greekLit:tlg0085.tlg002   \n",
       "2  urn:cts:greekLit:tlg0085.tlg003.ogl-eng1  urn:cts:greekLit:tlg0085.tlg003   \n",
       "3  urn:cts:greekLit:tlg0085.tlg004.ogl-eng1  urn:cts:greekLit:tlg0085.tlg004   \n",
       "4  urn:cts:greekLit:tlg0085.tlg005.ogl-eng1  urn:cts:greekLit:tlg0085.tlg005   \n",
       "\n",
       "        filename1 filename2  \n",
       "0  aeschylus_1886       NaN  \n",
       "1  aeschylus_1886       NaN  \n",
       "2  aeschylus_1886       NaN  \n",
       "3  aeschylus_1886       NaN  \n",
       "4  aeschylus_1886       NaN  \n",
       "\n",
       "[5 rows x 22 columns]"
      ]
     },
     "execution_count": 55,
     "metadata": {},
     "output_type": "execute_result"
    }
   ],
   "source": [
    "transl_df.head()"
   ]
  },
  {
   "cell_type": "code",
   "execution_count": 56,
   "id": "69dfd94b-8475-4beb-8c53-91cf839e89ee",
   "metadata": {},
   "outputs": [
    {
     "data": {
      "text/plain": [
       "796"
      ]
     },
     "execution_count": 56,
     "metadata": {},
     "output_type": "execute_result"
    }
   ],
   "source": [
    "transl_df[\"ctsurns\"].duplicated().sum()"
   ]
  },
  {
   "cell_type": "code",
   "execution_count": 67,
   "id": "ae294a22-dbc1-4505-909d-5cf4923d08db",
   "metadata": {},
   "outputs": [],
   "source": [
    "test = list(transl_df.loc[transl_df[\"ctsurns\"] == \"urn:cts:greekLit:tlg0006.tlg001\", \"filename1\"])"
   ]
  },
  {
   "cell_type": "code",
   "execution_count": 68,
   "id": "4884a5c5-2095-4c3c-80e6-58625bb5a85c",
   "metadata": {},
   "outputs": [],
   "source": [
    "test.extend(list(transl_df.loc[transl_df[\"ctsurns\"] == \"urn:cts:greekLit:tlg0006.tlg001\", \"filename2\"]))"
   ]
  },
  {
   "cell_type": "code",
   "execution_count": 69,
   "id": "d7419bf2-af9e-4ef2-a7e8-b745f673a50e",
   "metadata": {},
   "outputs": [
    {
     "data": {
      "text/plain": [
       "['euripides_1_1884',\n",
       " 'euripides_1857_1',\n",
       " 'euripides_1906_3',\n",
       " 'euripides_1911',\n",
       " 'euripides_2_1884',\n",
       " nan,\n",
       " nan,\n",
       " nan]"
      ]
     },
     "execution_count": 69,
     "metadata": {},
     "output_type": "execute_result"
    }
   ],
   "source": [
    "test"
   ]
  },
  {
   "cell_type": "code",
   "execution_count": 63,
   "id": "15bcc478-f44d-49e2-be08-cbe51bd6169c",
   "metadata": {},
   "outputs": [
    {
     "data": {
      "text/plain": [
       "485    euripides_2_1884\n",
       "493                 NaN\n",
       "494                 NaN\n",
       "500                 NaN\n",
       "Name: filename2, dtype: object"
      ]
     },
     "execution_count": 63,
     "metadata": {},
     "output_type": "execute_result"
    }
   ],
   "source": [
    "transl_df.loc[transl_df[\"ctsurns\"] == \"urn:cts:greekLit:tlg0006.tlg001\", \"filename2\"]"
   ]
  },
  {
   "cell_type": "code",
   "execution_count": 87,
   "id": "9a9460e8-1a8c-4a82-9260-bb038debd373",
   "metadata": {},
   "outputs": [],
   "source": [
    "import math"
   ]
  },
  {
   "cell_type": "code",
   "execution_count": 90,
   "id": "0b801ee6-33c2-4680-afee-52bf3220f4d9",
   "metadata": {},
   "outputs": [
    {
     "ename": "TypeError",
     "evalue": "must be real number, not str",
     "output_type": "error",
     "traceback": [
      "\u001b[0;31m---------------------------------------------------------------------------\u001b[0m",
      "\u001b[0;31mTypeError\u001b[0m                                 Traceback (most recent call last)",
      "Cell \u001b[0;32mIn[90], line 7\u001b[0m\n\u001b[1;32m      5\u001b[0m vals \u001b[38;5;241m=\u001b[39m \u001b[38;5;28mlist\u001b[39m(transl_df\u001b[38;5;241m.\u001b[39mloc[transl_df[\u001b[38;5;124m\"\u001b[39m\u001b[38;5;124mctsurns\u001b[39m\u001b[38;5;124m\"\u001b[39m] \u001b[38;5;241m==\u001b[39m ctsurn, \u001b[38;5;124m\"\u001b[39m\u001b[38;5;124mfilename1\u001b[39m\u001b[38;5;124m\"\u001b[39m])\n\u001b[1;32m      6\u001b[0m \u001b[38;5;28;01mfor\u001b[39;00m other_name \u001b[38;5;129;01min\u001b[39;00m \u001b[38;5;28mlist\u001b[39m(transl_df\u001b[38;5;241m.\u001b[39mloc[transl_df[\u001b[38;5;124m\"\u001b[39m\u001b[38;5;124mctsurns\u001b[39m\u001b[38;5;124m\"\u001b[39m] \u001b[38;5;241m==\u001b[39m ctsurn, \u001b[38;5;124m\"\u001b[39m\u001b[38;5;124mfilename2\u001b[39m\u001b[38;5;124m\"\u001b[39m]):\n\u001b[0;32m----> 7\u001b[0m     \u001b[38;5;28;01mif\u001b[39;00m \u001b[38;5;129;01mnot\u001b[39;00m \u001b[43mmath\u001b[49m\u001b[38;5;241;43m.\u001b[39;49m\u001b[43misnan\u001b[49m\u001b[43m(\u001b[49m\u001b[43mother_name\u001b[49m\u001b[43m)\u001b[49m:\n\u001b[1;32m      8\u001b[0m         vals\u001b[38;5;241m.\u001b[39mappend(other_name)\n\u001b[1;32m      9\u001b[0m lookup_table[ctsurn] \u001b[38;5;241m=\u001b[39m vals\n",
      "\u001b[0;31mTypeError\u001b[0m: must be real number, not str"
     ]
    }
   ],
   "source": [
    "lookup_table = {}\n",
    "keys = transl_df[\"ctsurns\"].unique()\n",
    "for ctsurn in keys:\n",
    "    # lookup_table[ctsurn] = list(transl_df.loc[transl_df[\"ctsurns\"] == ctsurn, \"filename\"])\n",
    "    vals = list(transl_df.loc[transl_df[\"ctsurns\"] == ctsurn, \"filename1\"])\n",
    "    for other_name in list(transl_df.loc[transl_df[\"ctsurns\"] == ctsurn, \"filename2\"]):\n",
    "        if not math.isnan(other_name):\n",
    "            vals.append(other_name)\n",
    "    lookup_table[ctsurn] = vals"
   ]
  },
  {
   "cell_type": "code",
   "execution_count": 79,
   "id": "bafb552e-033c-40f2-9dbb-3b30eb3c4b28",
   "metadata": {},
   "outputs": [
    {
     "data": {
      "text/plain": [
       "3     aeschylus_1886\n",
       "10    aeschylus_1888\n",
       "17    aeschylus_1909\n",
       "27    aeschylus_1872\n",
       "37    aeschylus_1868\n",
       "Name: filename1, dtype: object"
      ]
     },
     "execution_count": 79,
     "metadata": {},
     "output_type": "execute_result"
    }
   ],
   "source": [
    "# spot check dict values\n",
    "transl_df.loc[transl_df[\"ctsurns\"] == \"urn:cts:greekLit:tlg0085.tlg004\", \"filename1\"]"
   ]
  },
  {
   "cell_type": "code",
   "execution_count": 85,
   "id": "acc4efdb-01f3-4a61-9c19-6e9d4067d7c2",
   "metadata": {
    "tags": []
   },
   "outputs": [
    {
     "data": {
      "text/plain": [
       "float"
      ]
     },
     "execution_count": 85,
     "metadata": {},
     "output_type": "execute_result"
    }
   ],
   "source": [
    "type(lookup_table[\"urn:cts:greekLit:tlg0006.tlg001\"][5])"
   ]
  },
  {
   "cell_type": "code",
   "execution_count": 73,
   "id": "c23b9196-9ed4-43aa-ab32-592f274e6068",
   "metadata": {},
   "outputs": [
    {
     "data": {
      "text/plain": [
       "28"
      ]
     },
     "execution_count": 73,
     "metadata": {},
     "output_type": "execute_result"
    }
   ],
   "source": [
    "len(\"/scratch/craig.car/src_data/\")"
   ]
  },
  {
   "cell_type": "code",
   "execution_count": 74,
   "id": "50a518fa-d091-45f1-bdee-62b615f5f889",
   "metadata": {},
   "outputs": [
    {
     "data": {
      "text/plain": [
       "'urn:cts:greekLit:tlg0001.tlg001'"
      ]
     },
     "execution_count": 74,
     "metadata": {},
     "output_type": "execute_result"
    }
   ],
   "source": [
    "\"/scratch/craig.car/src_data/urn:cts:greekLit:tlg0001.tlg001\"[28:]"
   ]
  },
  {
   "cell_type": "code",
   "execution_count": 76,
   "id": "4fc34d1b-c37f-4f72-af85-caa1022dd3fe",
   "metadata": {},
   "outputs": [
    {
     "name": "stdout",
     "output_type": "stream",
     "text": [
      "srun --partition=short --nodes=1 --pty --mem=4GB --time=01:00:00 /bin/bash -c \"source /home/craig.car/miniconda3/bin/activate; conda activate labse_vec_pipeline; ./vecalign.py --alignment_max_size 8 --src /scratch/craig.car/src_data/urn:cts:greekLit:tlg0005.tlg003.sents --tgt /scratch/craig.car/french_trans-dev/theocritus_1913.sents --src_embed /scratch/craig.car/src_data/urn:cts:greekLit:tlg0005.tlg003.overlaps /scratch/craig.car/src_data/urn:cts:greekLit:tlg0005.tlg003.emb --tgt_embed /scratch/craig.car/french_trans-dev/theocritus_1913.overlaps /scratch/craig.car/french_trans-dev/theocritus_1913.emb;\"\n",
      "srun --partition=short --nodes=1 --pty --mem=4GB --time=01:00:00 /bin/bash -c \"source /home/craig.car/miniconda3/bin/activate; conda activate labse_vec_pipeline; ./vecalign.py --alignment_max_size 8 --src /scratch/craig.car/src_data/urn:cts:greekLit:tlg0006.tlg001.sents --tgt /scratch/craig.car/french_trans-dev/euripides_1_1884.sents --src_embed /scratch/craig.car/src_data/urn:cts:greekLit:tlg0006.tlg001.overlaps /scratch/craig.car/src_data/urn:cts:greekLit:tlg0006.tlg001.emb --tgt_embed /scratch/craig.car/french_trans-dev/euripides_1_1884.overlaps /scratch/craig.car/french_trans-dev/euripides_1_1884.emb;\"\n",
      "srun --partition=short --nodes=1 --pty --mem=4GB --time=01:00:00 /bin/bash -c \"source /home/craig.car/miniconda3/bin/activate; conda activate labse_vec_pipeline; ./vecalign.py --alignment_max_size 8 --src /scratch/craig.car/src_data/urn:cts:greekLit:tlg0006.tlg004.sents --tgt /scratch/craig.car/french_trans-dev/euripides_1_1884.sents --src_embed /scratch/craig.car/src_data/urn:cts:greekLit:tlg0006.tlg004.overlaps /scratch/craig.car/src_data/urn:cts:greekLit:tlg0006.tlg004.emb --tgt_embed /scratch/craig.car/french_trans-dev/euripides_1_1884.overlaps /scratch/craig.car/french_trans-dev/euripides_1_1884.emb;\"\n",
      "srun --partition=short --nodes=1 --pty --mem=4GB --time=01:00:00 /bin/bash -c \"source /home/craig.car/miniconda3/bin/activate; conda activate labse_vec_pipeline; ./vecalign.py --alignment_max_size 8 --src /scratch/craig.car/src_data/urn:cts:greekLit:tlg0006.tlg005.sents --tgt /scratch/craig.car/french_trans-dev/euripides_1_1884.sents --src_embed /scratch/craig.car/src_data/urn:cts:greekLit:tlg0006.tlg005.overlaps /scratch/craig.car/src_data/urn:cts:greekLit:tlg0006.tlg005.emb --tgt_embed /scratch/craig.car/french_trans-dev/euripides_1_1884.overlaps /scratch/craig.car/french_trans-dev/euripides_1_1884.emb;\"\n",
      "srun --partition=short --nodes=1 --pty --mem=4GB --time=01:00:00 /bin/bash -c \"source /home/craig.car/miniconda3/bin/activate; conda activate labse_vec_pipeline; ./vecalign.py --alignment_max_size 8 --src /scratch/craig.car/src_data/urn:cts:greekLit:tlg0006.tlg006.sents --tgt /scratch/craig.car/french_trans-dev/euripides_1_1884.sents --src_embed /scratch/craig.car/src_data/urn:cts:greekLit:tlg0006.tlg006.overlaps /scratch/craig.car/src_data/urn:cts:greekLit:tlg0006.tlg006.emb --tgt_embed /scratch/craig.car/french_trans-dev/euripides_1_1884.overlaps /scratch/craig.car/french_trans-dev/euripides_1_1884.emb;\"\n",
      "srun --partition=short --nodes=1 --pty --mem=4GB --time=01:00:00 /bin/bash -c \"source /home/craig.car/miniconda3/bin/activate; conda activate labse_vec_pipeline; ./vecalign.py --alignment_max_size 8 --src /scratch/craig.car/src_data/urn:cts:greekLit:tlg0006.tlg007.sents --tgt /scratch/craig.car/french_trans-dev/euripides_1_1884.sents --src_embed /scratch/craig.car/src_data/urn:cts:greekLit:tlg0006.tlg007.overlaps /scratch/craig.car/src_data/urn:cts:greekLit:tlg0006.tlg007.emb --tgt_embed /scratch/craig.car/french_trans-dev/euripides_1_1884.overlaps /scratch/craig.car/french_trans-dev/euripides_1_1884.emb;\"\n",
      "srun --partition=short --nodes=1 --pty --mem=4GB --time=01:00:00 /bin/bash -c \"source /home/craig.car/miniconda3/bin/activate; conda activate labse_vec_pipeline; ./vecalign.py --alignment_max_size 8 --src /scratch/craig.car/src_data/urn:cts:greekLit:tlg0006.tlg008.sents --tgt /scratch/craig.car/french_trans-dev/euripides_1_1884.sents --src_embed /scratch/craig.car/src_data/urn:cts:greekLit:tlg0006.tlg008.overlaps /scratch/craig.car/src_data/urn:cts:greekLit:tlg0006.tlg008.emb --tgt_embed /scratch/craig.car/french_trans-dev/euripides_1_1884.overlaps /scratch/craig.car/french_trans-dev/euripides_1_1884.emb;\"\n",
      "srun --partition=short --nodes=1 --pty --mem=4GB --time=01:00:00 /bin/bash -c \"source /home/craig.car/miniconda3/bin/activate; conda activate labse_vec_pipeline; ./vecalign.py --alignment_max_size 8 --src /scratch/craig.car/src_data/urn:cts:greekLit:tlg0006.tlg009.sents --tgt /scratch/craig.car/french_trans-dev/euripides_1_1884.sents --src_embed /scratch/craig.car/src_data/urn:cts:greekLit:tlg0006.tlg009.overlaps /scratch/craig.car/src_data/urn:cts:greekLit:tlg0006.tlg009.emb --tgt_embed /scratch/craig.car/french_trans-dev/euripides_1_1884.overlaps /scratch/craig.car/french_trans-dev/euripides_1_1884.emb;\"\n",
      "srun --partition=short --nodes=1 --pty --mem=4GB --time=01:00:00 /bin/bash -c \"source /home/craig.car/miniconda3/bin/activate; conda activate labse_vec_pipeline; ./vecalign.py --alignment_max_size 8 --src /scratch/craig.car/src_data/urn:cts:greekLit:tlg0006.tlg010.sents --tgt /scratch/craig.car/french_trans-dev/euripides_1_1884.sents --src_embed /scratch/craig.car/src_data/urn:cts:greekLit:tlg0006.tlg010.overlaps /scratch/craig.car/src_data/urn:cts:greekLit:tlg0006.tlg010.emb --tgt_embed /scratch/craig.car/french_trans-dev/euripides_1_1884.overlaps /scratch/craig.car/french_trans-dev/euripides_1_1884.emb;\"\n",
      "srun --partition=short --nodes=1 --pty --mem=4GB --time=01:00:00 /bin/bash -c \"source /home/craig.car/miniconda3/bin/activate; conda activate labse_vec_pipeline; ./vecalign.py --alignment_max_size 8 --src /scratch/craig.car/src_data/urn:cts:greekLit:tlg0006.tlg011.sents --tgt /scratch/craig.car/french_trans-dev/euripides_1_1884.sents --src_embed /scratch/craig.car/src_data/urn:cts:greekLit:tlg0006.tlg011.overlaps /scratch/craig.car/src_data/urn:cts:greekLit:tlg0006.tlg011.emb --tgt_embed /scratch/craig.car/french_trans-dev/euripides_1_1884.overlaps /scratch/craig.car/french_trans-dev/euripides_1_1884.emb;\"\n",
      "srun --partition=short --nodes=1 --pty --mem=4GB --time=01:00:00 /bin/bash -c \"source /home/craig.car/miniconda3/bin/activate; conda activate labse_vec_pipeline; ./vecalign.py --alignment_max_size 8 --src /scratch/craig.car/src_data/urn:cts:greekLit:tlg0006.tlg012.sents --tgt /scratch/craig.car/french_trans-dev/euripides_1_1884.sents --src_embed /scratch/craig.car/src_data/urn:cts:greekLit:tlg0006.tlg012.overlaps /scratch/craig.car/src_data/urn:cts:greekLit:tlg0006.tlg012.emb --tgt_embed /scratch/craig.car/french_trans-dev/euripides_1_1884.overlaps /scratch/craig.car/french_trans-dev/euripides_1_1884.emb;\"\n",
      "srun --partition=short --nodes=1 --pty --mem=4GB --time=01:00:00 /bin/bash -c \"source /home/craig.car/miniconda3/bin/activate; conda activate labse_vec_pipeline; ./vecalign.py --alignment_max_size 8 --src /scratch/craig.car/src_data/urn:cts:greekLit:tlg0006.tlg013.sents --tgt /scratch/craig.car/french_trans-dev/euripides_1_1884.sents --src_embed /scratch/craig.car/src_data/urn:cts:greekLit:tlg0006.tlg013.overlaps /scratch/craig.car/src_data/urn:cts:greekLit:tlg0006.tlg013.emb --tgt_embed /scratch/craig.car/french_trans-dev/euripides_1_1884.overlaps /scratch/craig.car/french_trans-dev/euripides_1_1884.emb;\"\n",
      "srun --partition=short --nodes=1 --pty --mem=4GB --time=01:00:00 /bin/bash -c \"source /home/craig.car/miniconda3/bin/activate; conda activate labse_vec_pipeline; ./vecalign.py --alignment_max_size 8 --src /scratch/craig.car/src_data/urn:cts:greekLit:tlg0006.tlg014.sents --tgt /scratch/craig.car/french_trans-dev/euripides_1_1884.sents --src_embed /scratch/craig.car/src_data/urn:cts:greekLit:tlg0006.tlg014.overlaps /scratch/craig.car/src_data/urn:cts:greekLit:tlg0006.tlg014.emb --tgt_embed /scratch/craig.car/french_trans-dev/euripides_1_1884.overlaps /scratch/craig.car/french_trans-dev/euripides_1_1884.emb;\"\n",
      "srun --partition=short --nodes=1 --pty --mem=4GB --time=01:00:00 /bin/bash -c \"source /home/craig.car/miniconda3/bin/activate; conda activate labse_vec_pipeline; ./vecalign.py --alignment_max_size 8 --src /scratch/craig.car/src_data/urn:cts:greekLit:tlg0006.tlg015.sents --tgt /scratch/craig.car/french_trans-dev/euripides_1_1884.sents --src_embed /scratch/craig.car/src_data/urn:cts:greekLit:tlg0006.tlg015.overlaps /scratch/craig.car/src_data/urn:cts:greekLit:tlg0006.tlg015.emb --tgt_embed /scratch/craig.car/french_trans-dev/euripides_1_1884.overlaps /scratch/craig.car/french_trans-dev/euripides_1_1884.emb;\"\n",
      "srun --partition=short --nodes=1 --pty --mem=4GB --time=01:00:00 /bin/bash -c \"source /home/craig.car/miniconda3/bin/activate; conda activate labse_vec_pipeline; ./vecalign.py --alignment_max_size 8 --src /scratch/craig.car/src_data/urn:cts:greekLit:tlg0006.tlg017.sents --tgt /scratch/craig.car/french_trans-dev/euripides_1_1884.sents --src_embed /scratch/craig.car/src_data/urn:cts:greekLit:tlg0006.tlg017.overlaps /scratch/craig.car/src_data/urn:cts:greekLit:tlg0006.tlg017.emb --tgt_embed /scratch/craig.car/french_trans-dev/euripides_1_1884.overlaps /scratch/craig.car/french_trans-dev/euripides_1_1884.emb;\"\n",
      "srun --partition=short --nodes=1 --pty --mem=4GB --time=01:00:00 /bin/bash -c \"source /home/craig.car/miniconda3/bin/activate; conda activate labse_vec_pipeline; ./vecalign.py --alignment_max_size 8 --src /scratch/craig.car/src_data/urn:cts:greekLit:tlg0006.tlg018.sents --tgt /scratch/craig.car/french_trans-dev/euripides_1_1884.sents --src_embed /scratch/craig.car/src_data/urn:cts:greekLit:tlg0006.tlg018.overlaps /scratch/craig.car/src_data/urn:cts:greekLit:tlg0006.tlg018.emb --tgt_embed /scratch/craig.car/french_trans-dev/euripides_1_1884.overlaps /scratch/craig.car/french_trans-dev/euripides_1_1884.emb;\"\n",
      "srun --partition=short --nodes=1 --pty --mem=4GB --time=01:00:00 /bin/bash -c \"source /home/craig.car/miniconda3/bin/activate; conda activate labse_vec_pipeline; ./vecalign.py --alignment_max_size 8 --src /scratch/craig.car/src_data/urn:cts:greekLit:tlg0006.tlg019.sents --tgt /scratch/craig.car/french_trans-dev/euripides_1_1884.sents --src_embed /scratch/craig.car/src_data/urn:cts:greekLit:tlg0006.tlg019.overlaps /scratch/craig.car/src_data/urn:cts:greekLit:tlg0006.tlg019.emb --tgt_embed /scratch/craig.car/french_trans-dev/euripides_1_1884.overlaps /scratch/craig.car/french_trans-dev/euripides_1_1884.emb;\"\n",
      "srun --partition=short --nodes=1 --pty --mem=4GB --time=01:00:00 /bin/bash -c \"source /home/craig.car/miniconda3/bin/activate; conda activate labse_vec_pipeline; ./vecalign.py --alignment_max_size 8 --src /scratch/craig.car/src_data/urn:cts:greekLit:tlg0010.tlg001.sents --tgt /scratch/craig.car/french_trans-dev/sophistesGrecs_1842.sents --src_embed /scratch/craig.car/src_data/urn:cts:greekLit:tlg0010.tlg001.overlaps /scratch/craig.car/src_data/urn:cts:greekLit:tlg0010.tlg001.emb --tgt_embed /scratch/craig.car/french_trans-dev/sophistesGrecs_1842.overlaps /scratch/craig.car/french_trans-dev/sophistesGrecs_1842.emb;\"\n",
      "srun --partition=short --nodes=1 --pty --mem=4GB --time=01:00:00 /bin/bash -c \"source /home/craig.car/miniconda3/bin/activate; conda activate labse_vec_pipeline; ./vecalign.py --alignment_max_size 8 --src /scratch/craig.car/src_data/urn:cts:greekLit:tlg0010.tlg007.sents --tgt /scratch/craig.car/french_trans-dev/sophistesGrecs_1842.sents --src_embed /scratch/craig.car/src_data/urn:cts:greekLit:tlg0010.tlg007.overlaps /scratch/craig.car/src_data/urn:cts:greekLit:tlg0010.tlg007.emb --tgt_embed /scratch/craig.car/french_trans-dev/sophistesGrecs_1842.overlaps /scratch/craig.car/french_trans-dev/sophistesGrecs_1842.emb;\"\n",
      "srun --partition=short --nodes=1 --pty --mem=4GB --time=01:00:00 /bin/bash -c \"source /home/craig.car/miniconda3/bin/activate; conda activate labse_vec_pipeline; ./vecalign.py --alignment_max_size 8 --src /scratch/craig.car/src_data/urn:cts:greekLit:tlg0010.tlg009.sents --tgt /scratch/craig.car/french_trans-dev/sophistesGrecs_1842.sents --src_embed /scratch/craig.car/src_data/urn:cts:greekLit:tlg0010.tlg009.overlaps /scratch/craig.car/src_data/urn:cts:greekLit:tlg0010.tlg009.emb --tgt_embed /scratch/craig.car/french_trans-dev/sophistesGrecs_1842.overlaps /scratch/craig.car/french_trans-dev/sophistesGrecs_1842.emb;\"\n",
      "srun --partition=short --nodes=1 --pty --mem=4GB --time=01:00:00 /bin/bash -c \"source /home/craig.car/miniconda3/bin/activate; conda activate labse_vec_pipeline; ./vecalign.py --alignment_max_size 8 --src /scratch/craig.car/src_data/urn:cts:greekLit:tlg0010.tlg011.sents --tgt /scratch/craig.car/french_trans-dev/sophistesGrecs_1842.sents --src_embed /scratch/craig.car/src_data/urn:cts:greekLit:tlg0010.tlg011.overlaps /scratch/craig.car/src_data/urn:cts:greekLit:tlg0010.tlg011.emb --tgt_embed /scratch/craig.car/french_trans-dev/sophistesGrecs_1842.overlaps /scratch/craig.car/french_trans-dev/sophistesGrecs_1842.emb;\"\n",
      "srun --partition=short --nodes=1 --pty --mem=4GB --time=01:00:00 /bin/bash -c \"source /home/craig.car/miniconda3/bin/activate; conda activate labse_vec_pipeline; ./vecalign.py --alignment_max_size 8 --src /scratch/craig.car/src_data/urn:cts:greekLit:tlg0010.tlg015.sents --tgt /scratch/craig.car/french_trans-dev/sophistesGrecs_1842.sents --src_embed /scratch/craig.car/src_data/urn:cts:greekLit:tlg0010.tlg015.overlaps /scratch/craig.car/src_data/urn:cts:greekLit:tlg0010.tlg015.emb --tgt_embed /scratch/craig.car/french_trans-dev/sophistesGrecs_1842.overlaps /scratch/craig.car/french_trans-dev/sophistesGrecs_1842.emb;\"\n",
      "srun --partition=short --nodes=1 --pty --mem=4GB --time=01:00:00 /bin/bash -c \"source /home/craig.car/miniconda3/bin/activate; conda activate labse_vec_pipeline; ./vecalign.py --alignment_max_size 8 --src /scratch/craig.car/src_data/urn:cts:greekLit:tlg0010.tlg016.sents --tgt /scratch/craig.car/french_trans-dev/sophistesGrecs_1842.sents --src_embed /scratch/craig.car/src_data/urn:cts:greekLit:tlg0010.tlg016.overlaps /scratch/craig.car/src_data/urn:cts:greekLit:tlg0010.tlg016.emb --tgt_embed /scratch/craig.car/french_trans-dev/sophistesGrecs_1842.overlaps /scratch/craig.car/french_trans-dev/sophistesGrecs_1842.emb;\"\n",
      "srun --partition=short --nodes=1 --pty --mem=4GB --time=01:00:00 /bin/bash -c \"source /home/craig.car/miniconda3/bin/activate; conda activate labse_vec_pipeline; ./vecalign.py --alignment_max_size 8 --src /scratch/craig.car/src_data/urn:cts:greekLit:tlg0010.tlg020.sents --tgt /scratch/craig.car/french_trans-dev/sophistesGrecs_1842.sents --src_embed /scratch/craig.car/src_data/urn:cts:greekLit:tlg0010.tlg020.overlaps /scratch/craig.car/src_data/urn:cts:greekLit:tlg0010.tlg020.emb --tgt_embed /scratch/craig.car/french_trans-dev/sophistesGrecs_1842.overlaps /scratch/craig.car/french_trans-dev/sophistesGrecs_1842.emb;\"\n",
      "srun --partition=short --nodes=1 --pty --mem=4GB --time=01:00:00 /bin/bash -c \"source /home/craig.car/miniconda3/bin/activate; conda activate labse_vec_pipeline; ./vecalign.py --alignment_max_size 8 --src /scratch/craig.car/src_data/urn:cts:greekLit:tlg0014.tlg001.sents --tgt /scratch/craig.car/french_trans-dev/demosthenes_1_1863.sents --src_embed /scratch/craig.car/src_data/urn:cts:greekLit:tlg0014.tlg001.overlaps /scratch/craig.car/src_data/urn:cts:greekLit:tlg0014.tlg001.emb --tgt_embed /scratch/craig.car/french_trans-dev/demosthenes_1_1863.overlaps /scratch/craig.car/french_trans-dev/demosthenes_1_1863.emb;\"\n",
      "srun --partition=short --nodes=1 --pty --mem=4GB --time=01:00:00 /bin/bash -c \"source /home/craig.car/miniconda3/bin/activate; conda activate labse_vec_pipeline; ./vecalign.py --alignment_max_size 8 --src /scratch/craig.car/src_data/urn:cts:greekLit:tlg0014.tlg002.sents --tgt /scratch/craig.car/french_trans-dev/demosthenes_1_1863.sents --src_embed /scratch/craig.car/src_data/urn:cts:greekLit:tlg0014.tlg002.overlaps /scratch/craig.car/src_data/urn:cts:greekLit:tlg0014.tlg002.emb --tgt_embed /scratch/craig.car/french_trans-dev/demosthenes_1_1863.overlaps /scratch/craig.car/french_trans-dev/demosthenes_1_1863.emb;\"\n",
      "srun --partition=short --nodes=1 --pty --mem=4GB --time=01:00:00 /bin/bash -c \"source /home/craig.car/miniconda3/bin/activate; conda activate labse_vec_pipeline; ./vecalign.py --alignment_max_size 8 --src /scratch/craig.car/src_data/urn:cts:greekLit:tlg0014.tlg003.sents --tgt /scratch/craig.car/french_trans-dev/demosthenes_1_1863.sents --src_embed /scratch/craig.car/src_data/urn:cts:greekLit:tlg0014.tlg003.overlaps /scratch/craig.car/src_data/urn:cts:greekLit:tlg0014.tlg003.emb --tgt_embed /scratch/craig.car/french_trans-dev/demosthenes_1_1863.overlaps /scratch/craig.car/french_trans-dev/demosthenes_1_1863.emb;\"\n",
      "srun --partition=short --nodes=1 --pty --mem=4GB --time=01:00:00 /bin/bash -c \"source /home/craig.car/miniconda3/bin/activate; conda activate labse_vec_pipeline; ./vecalign.py --alignment_max_size 8 --src /scratch/craig.car/src_data/urn:cts:greekLit:tlg0014.tlg004.sents --tgt /scratch/craig.car/french_trans-dev/demosthenes_1_1863.sents --src_embed /scratch/craig.car/src_data/urn:cts:greekLit:tlg0014.tlg004.overlaps /scratch/craig.car/src_data/urn:cts:greekLit:tlg0014.tlg004.emb --tgt_embed /scratch/craig.car/french_trans-dev/demosthenes_1_1863.overlaps /scratch/craig.car/french_trans-dev/demosthenes_1_1863.emb;\"\n",
      "srun --partition=short --nodes=1 --pty --mem=4GB --time=01:00:00 /bin/bash -c \"source /home/craig.car/miniconda3/bin/activate; conda activate labse_vec_pipeline; ./vecalign.py --alignment_max_size 8 --src /scratch/craig.car/src_data/urn:cts:greekLit:tlg0014.tlg005.sents --tgt /scratch/craig.car/french_trans-dev/demosthenes_1_1863.sents --src_embed /scratch/craig.car/src_data/urn:cts:greekLit:tlg0014.tlg005.overlaps /scratch/craig.car/src_data/urn:cts:greekLit:tlg0014.tlg005.emb --tgt_embed /scratch/craig.car/french_trans-dev/demosthenes_1_1863.overlaps /scratch/craig.car/french_trans-dev/demosthenes_1_1863.emb;\"\n",
      "srun --partition=short --nodes=1 --pty --mem=4GB --time=01:00:00 /bin/bash -c \"source /home/craig.car/miniconda3/bin/activate; conda activate labse_vec_pipeline; ./vecalign.py --alignment_max_size 8 --src /scratch/craig.car/src_data/urn:cts:greekLit:tlg0014.tlg006.sents --tgt /scratch/craig.car/french_trans-dev/demosthenes_1_1863.sents --src_embed /scratch/craig.car/src_data/urn:cts:greekLit:tlg0014.tlg006.overlaps /scratch/craig.car/src_data/urn:cts:greekLit:tlg0014.tlg006.emb --tgt_embed /scratch/craig.car/french_trans-dev/demosthenes_1_1863.overlaps /scratch/craig.car/french_trans-dev/demosthenes_1_1863.emb;\"\n",
      "srun --partition=short --nodes=1 --pty --mem=4GB --time=01:00:00 /bin/bash -c \"source /home/craig.car/miniconda3/bin/activate; conda activate labse_vec_pipeline; ./vecalign.py --alignment_max_size 8 --src /scratch/craig.car/src_data/urn:cts:greekLit:tlg0014.tlg007.sents --tgt /scratch/craig.car/french_trans-dev/demosthenes_1_1863.sents --src_embed /scratch/craig.car/src_data/urn:cts:greekLit:tlg0014.tlg007.overlaps /scratch/craig.car/src_data/urn:cts:greekLit:tlg0014.tlg007.emb --tgt_embed /scratch/craig.car/french_trans-dev/demosthenes_1_1863.overlaps /scratch/craig.car/french_trans-dev/demosthenes_1_1863.emb;\"\n",
      "srun --partition=short --nodes=1 --pty --mem=4GB --time=01:00:00 /bin/bash -c \"source /home/craig.car/miniconda3/bin/activate; conda activate labse_vec_pipeline; ./vecalign.py --alignment_max_size 8 --src /scratch/craig.car/src_data/urn:cts:greekLit:tlg0014.tlg008.sents --tgt /scratch/craig.car/french_trans-dev/demosthenes_1_1863.sents --src_embed /scratch/craig.car/src_data/urn:cts:greekLit:tlg0014.tlg008.overlaps /scratch/craig.car/src_data/urn:cts:greekLit:tlg0014.tlg008.emb --tgt_embed /scratch/craig.car/french_trans-dev/demosthenes_1_1863.overlaps /scratch/craig.car/french_trans-dev/demosthenes_1_1863.emb;\"\n",
      "srun --partition=short --nodes=1 --pty --mem=4GB --time=01:00:00 /bin/bash -c \"source /home/craig.car/miniconda3/bin/activate; conda activate labse_vec_pipeline; ./vecalign.py --alignment_max_size 8 --src /scratch/craig.car/src_data/urn:cts:greekLit:tlg0014.tlg009.sents --tgt /scratch/craig.car/french_trans-dev/demosthenes_1_1863.sents --src_embed /scratch/craig.car/src_data/urn:cts:greekLit:tlg0014.tlg009.overlaps /scratch/craig.car/src_data/urn:cts:greekLit:tlg0014.tlg009.emb --tgt_embed /scratch/craig.car/french_trans-dev/demosthenes_1_1863.overlaps /scratch/craig.car/french_trans-dev/demosthenes_1_1863.emb;\"\n",
      "srun --partition=short --nodes=1 --pty --mem=4GB --time=01:00:00 /bin/bash -c \"source /home/craig.car/miniconda3/bin/activate; conda activate labse_vec_pipeline; ./vecalign.py --alignment_max_size 8 --src /scratch/craig.car/src_data/urn:cts:greekLit:tlg0014.tlg010.sents --tgt /scratch/craig.car/french_trans-dev/demosthenes_1_1863.sents --src_embed /scratch/craig.car/src_data/urn:cts:greekLit:tlg0014.tlg010.overlaps /scratch/craig.car/src_data/urn:cts:greekLit:tlg0014.tlg010.emb --tgt_embed /scratch/craig.car/french_trans-dev/demosthenes_1_1863.overlaps /scratch/craig.car/french_trans-dev/demosthenes_1_1863.emb;\"\n",
      "srun --partition=short --nodes=1 --pty --mem=4GB --time=01:00:00 /bin/bash -c \"source /home/craig.car/miniconda3/bin/activate; conda activate labse_vec_pipeline; ./vecalign.py --alignment_max_size 8 --src /scratch/craig.car/src_data/urn:cts:greekLit:tlg0014.tlg011.sents --tgt /scratch/craig.car/french_trans-dev/demosthenes_1_1863.sents --src_embed /scratch/craig.car/src_data/urn:cts:greekLit:tlg0014.tlg011.overlaps /scratch/craig.car/src_data/urn:cts:greekLit:tlg0014.tlg011.emb --tgt_embed /scratch/craig.car/french_trans-dev/demosthenes_1_1863.overlaps /scratch/craig.car/french_trans-dev/demosthenes_1_1863.emb;\"\n",
      "srun --partition=short --nodes=1 --pty --mem=4GB --time=01:00:00 /bin/bash -c \"source /home/craig.car/miniconda3/bin/activate; conda activate labse_vec_pipeline; ./vecalign.py --alignment_max_size 8 --src /scratch/craig.car/src_data/urn:cts:greekLit:tlg0014.tlg012.sents --tgt /scratch/craig.car/french_trans-dev/demosthenes_1_1863.sents --src_embed /scratch/craig.car/src_data/urn:cts:greekLit:tlg0014.tlg012.overlaps /scratch/craig.car/src_data/urn:cts:greekLit:tlg0014.tlg012.emb --tgt_embed /scratch/craig.car/french_trans-dev/demosthenes_1_1863.overlaps /scratch/craig.car/french_trans-dev/demosthenes_1_1863.emb;\"\n",
      "srun --partition=short --nodes=1 --pty --mem=4GB --time=01:00:00 /bin/bash -c \"source /home/craig.car/miniconda3/bin/activate; conda activate labse_vec_pipeline; ./vecalign.py --alignment_max_size 8 --src /scratch/craig.car/src_data/urn:cts:greekLit:tlg0014.tlg014.sents --tgt /scratch/craig.car/french_trans-dev/demosthenes_1_1863.sents --src_embed /scratch/craig.car/src_data/urn:cts:greekLit:tlg0014.tlg014.overlaps /scratch/craig.car/src_data/urn:cts:greekLit:tlg0014.tlg014.emb --tgt_embed /scratch/craig.car/french_trans-dev/demosthenes_1_1863.overlaps /scratch/craig.car/french_trans-dev/demosthenes_1_1863.emb;\"\n",
      "srun --partition=short --nodes=1 --pty --mem=4GB --time=01:00:00 /bin/bash -c \"source /home/craig.car/miniconda3/bin/activate; conda activate labse_vec_pipeline; ./vecalign.py --alignment_max_size 8 --src /scratch/craig.car/src_data/urn:cts:greekLit:tlg0014.tlg015.sents --tgt /scratch/craig.car/french_trans-dev/demosthenes_1_1863.sents --src_embed /scratch/craig.car/src_data/urn:cts:greekLit:tlg0014.tlg015.overlaps /scratch/craig.car/src_data/urn:cts:greekLit:tlg0014.tlg015.emb --tgt_embed /scratch/craig.car/french_trans-dev/demosthenes_1_1863.overlaps /scratch/craig.car/french_trans-dev/demosthenes_1_1863.emb;\"\n",
      "srun --partition=short --nodes=1 --pty --mem=4GB --time=01:00:00 /bin/bash -c \"source /home/craig.car/miniconda3/bin/activate; conda activate labse_vec_pipeline; ./vecalign.py --alignment_max_size 8 --src /scratch/craig.car/src_data/urn:cts:greekLit:tlg0014.tlg016.sents --tgt /scratch/craig.car/french_trans-dev/demosthenes_1_1863.sents --src_embed /scratch/craig.car/src_data/urn:cts:greekLit:tlg0014.tlg016.overlaps /scratch/craig.car/src_data/urn:cts:greekLit:tlg0014.tlg016.emb --tgt_embed /scratch/craig.car/french_trans-dev/demosthenes_1_1863.overlaps /scratch/craig.car/french_trans-dev/demosthenes_1_1863.emb;\"\n",
      "srun --partition=short --nodes=1 --pty --mem=4GB --time=01:00:00 /bin/bash -c \"source /home/craig.car/miniconda3/bin/activate; conda activate labse_vec_pipeline; ./vecalign.py --alignment_max_size 8 --src /scratch/craig.car/src_data/urn:cts:greekLit:tlg0017.tlg001.sents --tgt /scratch/craig.car/french_trans-dev/sophistesGrecs_1842.sents --src_embed /scratch/craig.car/src_data/urn:cts:greekLit:tlg0017.tlg001.overlaps /scratch/craig.car/src_data/urn:cts:greekLit:tlg0017.tlg001.emb --tgt_embed /scratch/craig.car/french_trans-dev/sophistesGrecs_1842.overlaps /scratch/craig.car/french_trans-dev/sophistesGrecs_1842.emb;\"\n",
      "srun --partition=short --nodes=1 --pty --mem=4GB --time=01:00:00 /bin/bash -c \"source /home/craig.car/miniconda3/bin/activate; conda activate labse_vec_pipeline; ./vecalign.py --alignment_max_size 8 --src /scratch/craig.car/src_data/urn:cts:greekLit:tlg0017.tlg003.sents --tgt /scratch/craig.car/french_trans-dev/sophistesGrecs_1842.sents --src_embed /scratch/craig.car/src_data/urn:cts:greekLit:tlg0017.tlg003.overlaps /scratch/craig.car/src_data/urn:cts:greekLit:tlg0017.tlg003.emb --tgt_embed /scratch/craig.car/french_trans-dev/sophistesGrecs_1842.overlaps /scratch/craig.car/french_trans-dev/sophistesGrecs_1842.emb;\"\n",
      "srun --partition=short --nodes=1 --pty --mem=4GB --time=01:00:00 /bin/bash -c \"source /home/craig.car/miniconda3/bin/activate; conda activate labse_vec_pipeline; ./vecalign.py --alignment_max_size 8 --src /scratch/craig.car/src_data/urn:cts:greekLit:tlg0017.tlg004.sents --tgt /scratch/craig.car/french_trans-dev/sophistesGrecs_1842.sents --src_embed /scratch/craig.car/src_data/urn:cts:greekLit:tlg0017.tlg004.overlaps /scratch/craig.car/src_data/urn:cts:greekLit:tlg0017.tlg004.emb --tgt_embed /scratch/craig.car/french_trans-dev/sophistesGrecs_1842.overlaps /scratch/craig.car/french_trans-dev/sophistesGrecs_1842.emb;\"\n",
      "srun --partition=short --nodes=1 --pty --mem=4GB --time=01:00:00 /bin/bash -c \"source /home/craig.car/miniconda3/bin/activate; conda activate labse_vec_pipeline; ./vecalign.py --alignment_max_size 8 --src /scratch/craig.car/src_data/urn:cts:greekLit:tlg0017.tlg006.sents --tgt /scratch/craig.car/french_trans-dev/sophistesGrecs_1842.sents --src_embed /scratch/craig.car/src_data/urn:cts:greekLit:tlg0017.tlg006.overlaps /scratch/craig.car/src_data/urn:cts:greekLit:tlg0017.tlg006.emb --tgt_embed /scratch/craig.car/french_trans-dev/sophistesGrecs_1842.overlaps /scratch/craig.car/french_trans-dev/sophistesGrecs_1842.emb;\"\n",
      "srun --partition=short --nodes=1 --pty --mem=4GB --time=01:00:00 /bin/bash -c \"source /home/craig.car/miniconda3/bin/activate; conda activate labse_vec_pipeline; ./vecalign.py --alignment_max_size 8 --src /scratch/craig.car/src_data/urn:cts:greekLit:tlg0017.tlg010.sents --tgt /scratch/craig.car/french_trans-dev/sophistesGrecs_1842.sents --src_embed /scratch/craig.car/src_data/urn:cts:greekLit:tlg0017.tlg010.overlaps /scratch/craig.car/src_data/urn:cts:greekLit:tlg0017.tlg010.emb --tgt_embed /scratch/craig.car/french_trans-dev/sophistesGrecs_1842.overlaps /scratch/craig.car/french_trans-dev/sophistesGrecs_1842.emb;\"\n",
      "srun --partition=short --nodes=1 --pty --mem=4GB --time=01:00:00 /bin/bash -c \"source /home/craig.car/miniconda3/bin/activate; conda activate labse_vec_pipeline; ./vecalign.py --alignment_max_size 8 --src /scratch/craig.car/src_data/urn:cts:greekLit:tlg0017.tlg011.sents --tgt /scratch/craig.car/french_trans-dev/sophistesGrecs_1842.sents --src_embed /scratch/craig.car/src_data/urn:cts:greekLit:tlg0017.tlg011.overlaps /scratch/craig.car/src_data/urn:cts:greekLit:tlg0017.tlg011.emb --tgt_embed /scratch/craig.car/french_trans-dev/sophistesGrecs_1842.overlaps /scratch/craig.car/french_trans-dev/sophistesGrecs_1842.emb;\"\n",
      "srun --partition=short --nodes=1 --pty --mem=4GB --time=01:00:00 /bin/bash -c \"source /home/craig.car/miniconda3/bin/activate; conda activate labse_vec_pipeline; ./vecalign.py --alignment_max_size 8 --src /scratch/craig.car/src_data/urn:cts:greekLit:tlg0026.tlg003.sents --tgt /scratch/craig.car/french_trans-dev/demosthenes_1_1863.sents --src_embed /scratch/craig.car/src_data/urn:cts:greekLit:tlg0026.tlg003.overlaps /scratch/craig.car/src_data/urn:cts:greekLit:tlg0026.tlg003.emb --tgt_embed /scratch/craig.car/french_trans-dev/demosthenes_1_1863.overlaps /scratch/craig.car/french_trans-dev/demosthenes_1_1863.emb;\"\n",
      "srun --partition=short --nodes=1 --pty --mem=4GB --time=01:00:00 /bin/bash -c \"source /home/craig.car/miniconda3/bin/activate; conda activate labse_vec_pipeline; ./vecalign.py --alignment_max_size 8 --src /scratch/craig.car/src_data/urn:cts:greekLit:tlg0027.tlg001.sents --tgt /scratch/craig.car/french_trans-dev/sophistesGrecs_1842.sents --src_embed /scratch/craig.car/src_data/urn:cts:greekLit:tlg0027.tlg001.overlaps /scratch/craig.car/src_data/urn:cts:greekLit:tlg0027.tlg001.emb --tgt_embed /scratch/craig.car/french_trans-dev/sophistesGrecs_1842.overlaps /scratch/craig.car/french_trans-dev/sophistesGrecs_1842.emb;\"\n",
      "srun --partition=short --nodes=1 --pty --mem=4GB --time=01:00:00 /bin/bash -c \"source /home/craig.car/miniconda3/bin/activate; conda activate labse_vec_pipeline; ./vecalign.py --alignment_max_size 8 --src /scratch/craig.car/src_data/urn:cts:greekLit:tlg0028.tlg005.sents --tgt /scratch/craig.car/french_trans-dev/sophistesGrecs_1842.sents --src_embed /scratch/craig.car/src_data/urn:cts:greekLit:tlg0028.tlg005.overlaps /scratch/craig.car/src_data/urn:cts:greekLit:tlg0028.tlg005.emb --tgt_embed /scratch/craig.car/french_trans-dev/sophistesGrecs_1842.overlaps /scratch/craig.car/french_trans-dev/sophistesGrecs_1842.emb;\"\n",
      "srun --partition=short --nodes=1 --pty --mem=4GB --time=01:00:00 /bin/bash -c \"source /home/craig.car/miniconda3/bin/activate; conda activate labse_vec_pipeline; ./vecalign.py --alignment_max_size 8 --src /scratch/craig.car/src_data/urn:cts:greekLit:tlg0029.tlg004.sents --tgt /scratch/craig.car/french_trans-dev/sophistesGrecs_1842.sents --src_embed /scratch/craig.car/src_data/urn:cts:greekLit:tlg0029.tlg004.overlaps /scratch/craig.car/src_data/urn:cts:greekLit:tlg0029.tlg004.emb --tgt_embed /scratch/craig.car/french_trans-dev/sophistesGrecs_1842.overlaps /scratch/craig.car/french_trans-dev/sophistesGrecs_1842.emb;\"\n",
      "srun --partition=short --nodes=1 --pty --mem=4GB --time=01:00:00 /bin/bash -c \"source /home/craig.car/miniconda3/bin/activate; conda activate labse_vec_pipeline; ./vecalign.py --alignment_max_size 8 --src /scratch/craig.car/src_data/urn:cts:greekLit:tlg0030.tlg002.sents --tgt /scratch/craig.car/french_trans-dev/sophistesGrecs_1842.sents --src_embed /scratch/craig.car/src_data/urn:cts:greekLit:tlg0030.tlg002.overlaps /scratch/craig.car/src_data/urn:cts:greekLit:tlg0030.tlg002.emb --tgt_embed /scratch/craig.car/french_trans-dev/sophistesGrecs_1842.overlaps /scratch/craig.car/french_trans-dev/sophistesGrecs_1842.emb;\"\n",
      "srun --partition=short --nodes=1 --pty --mem=4GB --time=01:00:00 /bin/bash -c \"source /home/craig.car/miniconda3/bin/activate; conda activate labse_vec_pipeline; ./vecalign.py --alignment_max_size 8 --src /scratch/craig.car/src_data/urn:cts:greekLit:tlg0032.tlg007.sents --tgt /scratch/craig.car/french_trans-dev/xenophon_1_1872.sents --src_embed /scratch/craig.car/src_data/urn:cts:greekLit:tlg0032.tlg007.overlaps /scratch/craig.car/src_data/urn:cts:greekLit:tlg0032.tlg007.emb --tgt_embed /scratch/craig.car/french_trans-dev/xenophon_1_1872.overlaps /scratch/craig.car/french_trans-dev/xenophon_1_1872.emb;\"\n",
      "srun --partition=short --nodes=1 --pty --mem=4GB --time=01:00:00 /bin/bash -c \"source /home/craig.car/miniconda3/bin/activate; conda activate labse_vec_pipeline; ./vecalign.py --alignment_max_size 8 --src /scratch/craig.car/src_data/urn:cts:greekLit:tlg0059.tlg013.sents --tgt /scratch/craig.car/french_trans-dev/plato_1_1846.sents --src_embed /scratch/craig.car/src_data/urn:cts:greekLit:tlg0059.tlg013.overlaps /scratch/craig.car/src_data/urn:cts:greekLit:tlg0059.tlg013.emb --tgt_embed /scratch/craig.car/french_trans-dev/plato_1_1846.overlaps /scratch/craig.car/french_trans-dev/plato_1_1846.emb;\"\n",
      "srun --partition=short --nodes=1 --pty --mem=4GB --time=01:00:00 /bin/bash -c \"source /home/craig.car/miniconda3/bin/activate; conda activate labse_vec_pipeline; ./vecalign.py --alignment_max_size 8 --src /scratch/craig.car/src_data/urn:cts:greekLit:tlg0059.tlg014.sents --tgt /scratch/craig.car/french_trans-dev/plato_1_1846.sents --src_embed /scratch/craig.car/src_data/urn:cts:greekLit:tlg0059.tlg014.overlaps /scratch/craig.car/src_data/urn:cts:greekLit:tlg0059.tlg014.emb --tgt_embed /scratch/craig.car/french_trans-dev/plato_1_1846.overlaps /scratch/craig.car/french_trans-dev/plato_1_1846.emb;\"\n",
      "srun --partition=short --nodes=1 --pty --mem=4GB --time=01:00:00 /bin/bash -c \"source /home/craig.car/miniconda3/bin/activate; conda activate labse_vec_pipeline; ./vecalign.py --alignment_max_size 8 --src /scratch/craig.car/src_data/urn:cts:greekLit:tlg0059.tlg015.sents --tgt /scratch/craig.car/french_trans-dev/plato_1_1846.sents --src_embed /scratch/craig.car/src_data/urn:cts:greekLit:tlg0059.tlg015.overlaps /scratch/craig.car/src_data/urn:cts:greekLit:tlg0059.tlg015.emb --tgt_embed /scratch/craig.car/french_trans-dev/plato_1_1846.overlaps /scratch/craig.car/french_trans-dev/plato_1_1846.emb;\"\n",
      "srun --partition=short --nodes=1 --pty --mem=4GB --time=01:00:00 /bin/bash -c \"source /home/craig.car/miniconda3/bin/activate; conda activate labse_vec_pipeline; ./vecalign.py --alignment_max_size 8 --src /scratch/craig.car/src_data/urn:cts:greekLit:tlg0059.tlg016.sents --tgt /scratch/craig.car/french_trans-dev/plato_1_1846.sents --src_embed /scratch/craig.car/src_data/urn:cts:greekLit:tlg0059.tlg016.overlaps /scratch/craig.car/src_data/urn:cts:greekLit:tlg0059.tlg016.emb --tgt_embed /scratch/craig.car/french_trans-dev/plato_1_1846.overlaps /scratch/craig.car/french_trans-dev/plato_1_1846.emb;\"\n",
      "srun --partition=short --nodes=1 --pty --mem=4GB --time=01:00:00 /bin/bash -c \"source /home/craig.car/miniconda3/bin/activate; conda activate labse_vec_pipeline; ./vecalign.py --alignment_max_size 8 --src /scratch/craig.car/src_data/urn:cts:greekLit:tlg0059.tlg017.sents --tgt /scratch/craig.car/french_trans-dev/plato_1_1846.sents --src_embed /scratch/craig.car/src_data/urn:cts:greekLit:tlg0059.tlg017.overlaps /scratch/craig.car/src_data/urn:cts:greekLit:tlg0059.tlg017.emb --tgt_embed /scratch/craig.car/french_trans-dev/plato_1_1846.overlaps /scratch/craig.car/french_trans-dev/plato_1_1846.emb;\"\n",
      "srun --partition=short --nodes=1 --pty --mem=4GB --time=01:00:00 /bin/bash -c \"source /home/craig.car/miniconda3/bin/activate; conda activate labse_vec_pipeline; ./vecalign.py --alignment_max_size 8 --src /scratch/craig.car/src_data/urn:cts:greekLit:tlg0059.tlg018.sents --tgt /scratch/craig.car/french_trans-dev/plato_1_1846.sents --src_embed /scratch/craig.car/src_data/urn:cts:greekLit:tlg0059.tlg018.overlaps /scratch/craig.car/src_data/urn:cts:greekLit:tlg0059.tlg018.emb --tgt_embed /scratch/craig.car/french_trans-dev/plato_1_1846.overlaps /scratch/craig.car/french_trans-dev/plato_1_1846.emb;\"\n",
      "srun --partition=short --nodes=1 --pty --mem=4GB --time=01:00:00 /bin/bash -c \"source /home/craig.car/miniconda3/bin/activate; conda activate labse_vec_pipeline; ./vecalign.py --alignment_max_size 8 --src /scratch/craig.car/src_data/urn:cts:greekLit:tlg0059.tlg019.sents --tgt /scratch/craig.car/french_trans-dev/plato_1_1846.sents --src_embed /scratch/craig.car/src_data/urn:cts:greekLit:tlg0059.tlg019.overlaps /scratch/craig.car/src_data/urn:cts:greekLit:tlg0059.tlg019.emb --tgt_embed /scratch/craig.car/french_trans-dev/plato_1_1846.overlaps /scratch/craig.car/french_trans-dev/plato_1_1846.emb;\"\n",
      "srun --partition=short --nodes=1 --pty --mem=4GB --time=01:00:00 /bin/bash -c \"source /home/craig.car/miniconda3/bin/activate; conda activate labse_vec_pipeline; ./vecalign.py --alignment_max_size 8 --src /scratch/craig.car/src_data/urn:cts:greekLit:tlg0059.tlg025.sents --tgt /scratch/craig.car/french_trans-dev/plato_1_1846.sents --src_embed /scratch/craig.car/src_data/urn:cts:greekLit:tlg0059.tlg025.overlaps /scratch/craig.car/src_data/urn:cts:greekLit:tlg0059.tlg025.emb --tgt_embed /scratch/craig.car/french_trans-dev/plato_1_1846.overlaps /scratch/craig.car/french_trans-dev/plato_1_1846.emb;\"\n",
      "srun --partition=short --nodes=1 --pty --mem=4GB --time=01:00:00 /bin/bash -c \"source /home/craig.car/miniconda3/bin/activate; conda activate labse_vec_pipeline; ./vecalign.py --alignment_max_size 8 --src /scratch/craig.car/src_data/urn:cts:greekLit:tlg0059.tlg026.sents --tgt /scratch/craig.car/french_trans-dev/plato_1_1846.sents --src_embed /scratch/craig.car/src_data/urn:cts:greekLit:tlg0059.tlg026.overlaps /scratch/craig.car/src_data/urn:cts:greekLit:tlg0059.tlg026.emb --tgt_embed /scratch/craig.car/french_trans-dev/plato_1_1846.overlaps /scratch/craig.car/french_trans-dev/plato_1_1846.emb;\"\n",
      "srun --partition=short --nodes=1 --pty --mem=4GB --time=01:00:00 /bin/bash -c \"source /home/craig.car/miniconda3/bin/activate; conda activate labse_vec_pipeline; ./vecalign.py --alignment_max_size 8 --src /scratch/craig.car/src_data/urn:cts:greekLit:tlg0059.tlg027.sents --tgt /scratch/craig.car/french_trans-dev/plato_1_1846.sents --src_embed /scratch/craig.car/src_data/urn:cts:greekLit:tlg0059.tlg027.overlaps /scratch/craig.car/src_data/urn:cts:greekLit:tlg0059.tlg027.emb --tgt_embed /scratch/craig.car/french_trans-dev/plato_1_1846.overlaps /scratch/craig.car/french_trans-dev/plato_1_1846.emb;\"\n",
      "srun --partition=short --nodes=1 --pty --mem=4GB --time=01:00:00 /bin/bash -c \"source /home/craig.car/miniconda3/bin/activate; conda activate labse_vec_pipeline; ./vecalign.py --alignment_max_size 8 --src /scratch/craig.car/src_data/urn:cts:greekLit:tlg0059.tlg028.sents --tgt /scratch/craig.car/french_trans-dev/plato_1_1846.sents --src_embed /scratch/craig.car/src_data/urn:cts:greekLit:tlg0059.tlg028.overlaps /scratch/craig.car/src_data/urn:cts:greekLit:tlg0059.tlg028.emb --tgt_embed /scratch/craig.car/french_trans-dev/plato_1_1846.overlaps /scratch/craig.car/french_trans-dev/plato_1_1846.emb;\"\n"
     ]
    }
   ],
   "source": [
    "params = {\n",
    "    'QUEUE':'short',\n",
    "    'SWORKERS':2,\n",
    "    'SMEM':4\n",
    "}\n",
    "\n",
    "labse_vec_cpu = 'srun --partition=short --nodes=1 --pty --mem=4GB --time=01:00:00 /bin/bash -c \"source /home/craig.car/miniconda3/bin/activate; conda activate labse_vec_pipeline; {command};\"'\n",
    "\n",
    "src_dir = \"/scratch/craig.car/src_data/\"\n",
    "fr_dir = \"/scratch/craig.car/french_trans-dev/\"\n",
    "\n",
    "for src_emb in glob.iglob(src_dir+\"*.emb\"):\n",
    "    ctsurn = os.path.splitext(os.path.basename(src_emb))[0]\n",
    "    src_prefix = src_dir+ctsurn\n",
    "    tgt_files = lookup_table[ctsurn]\n",
    "    for tgt_name in tgt_files:\n",
    "        tgt_prefix = fr_dir+tgt_name\n",
    "        # print(tgt_name+\".emb\")\n",
    "        # check if a fr translation exists\n",
    "        if os.path.isfile(tgt_prefix+\".emb\") != False: \n",
    "            params['command'] = f'./vecalign.py --alignment_max_size 8 --src {src_prefix+\".sents\"} --tgt {tgt_prefix+\".sents\"} --src_embed {src_prefix+\".overlaps\"} {src_emb} --tgt_embed {tgt_prefix+\".overlaps\"} {tgt_prefix+\".emb\"}'\n",
    "            print(labse_vec_cpu.format(**params))\n",
    "            # subprocess.run(slurm_run.format(**params),shell=True)\n",
    "        break\n",
    "            "
   ]
  },
  {
   "cell_type": "code",
   "execution_count": null,
   "id": "622a9afe-76e0-4e67-8638-ccae40fd3ff8",
   "metadata": {},
   "outputs": [],
   "source": []
  }
 ],
 "metadata": {
  "kernelspec": {
   "display_name": "Python 3 (ipykernel)",
   "language": "python",
   "name": "python3"
  },
  "language_info": {
   "codemirror_mode": {
    "name": "ipython",
    "version": 3
   },
   "file_extension": ".py",
   "mimetype": "text/x-python",
   "name": "python",
   "nbconvert_exporter": "python",
   "pygments_lexer": "ipython3",
   "version": "3.10.10"
  }
 },
 "nbformat": 4,
 "nbformat_minor": 5
}
