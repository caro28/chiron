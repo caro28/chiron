{
 "cells": [
  {
   "cell_type": "code",
   "execution_count": 1,
   "id": "055e59cf-fdd7-42a6-88e1-cf6d508ffddb",
   "metadata": {},
   "outputs": [],
   "source": [
    "import pandas as pd"
   ]
  },
  {
   "cell_type": "code",
   "execution_count": 2,
   "id": "92fe0602-8518-468e-9038-2fc3c674a3fa",
   "metadata": {},
   "outputs": [],
   "source": [
    "transl_path = \"/home/craig.car/repos/chiron/align_texts_project/data/translations_repositories.csv\""
   ]
  },
  {
   "cell_type": "code",
   "execution_count": 3,
   "id": "17b70323-cce9-49ad-9867-b34140dd9569",
   "metadata": {},
   "outputs": [],
   "source": [
    "transl_df = pd.read_csv(transl_path)\n",
    "transl_df = transl_df.rename(columns={\"CTS-URN/s\":\"cts-urns_grp\", \"Original File Name/Location\":\"Original_File_Name\"})"
   ]
  },
  {
   "cell_type": "code",
   "execution_count": 4,
   "id": "056e7ace-ca1b-4d8d-808f-f6e30c30b645",
   "metadata": {},
   "outputs": [
    {
     "data": {
      "text/plain": [
       "'urn:cts:greekLit:tlg0085.tlg001.ogl-eng1 urn:cts:greekLit:tlg0085.tlg002.ogl-eng1 urn:cts:greekLit:tlg0085.tlg003.ogl-eng1 urn:cts:greekLit:tlg0085.tlg004.ogl-eng1 urn:cts:greekLit:tlg0085.tlg005.ogl-eng1 urn:cts:greekLit:tlg0085.tlg006.ogl-eng1 urn:cts:greekLit:tlg0085.tlg007.ogl-eng1'"
      ]
     },
     "execution_count": 4,
     "metadata": {},
     "output_type": "execute_result"
    }
   ],
   "source": [
    "transl_df.loc[0,\"cts-urns_grp\"]"
   ]
  },
  {
   "cell_type": "code",
   "execution_count": 5,
   "id": "b5dd53a3-ce91-4fc3-81af-6e36085eb438",
   "metadata": {},
   "outputs": [
    {
     "data": {
      "text/plain": [
       "['urn:cts:greekLit:tlg0085.tlg001.ogl-eng1',\n",
       " 'urn:cts:greekLit:tlg0085.tlg002.ogl-eng1',\n",
       " 'urn:cts:greekLit:tlg0085.tlg003.ogl-eng1',\n",
       " 'urn:cts:greekLit:tlg0085.tlg004.ogl-eng1',\n",
       " 'urn:cts:greekLit:tlg0085.tlg005.ogl-eng1',\n",
       " 'urn:cts:greekLit:tlg0085.tlg006.ogl-eng1',\n",
       " 'urn:cts:greekLit:tlg0085.tlg007.ogl-eng1']"
      ]
     },
     "execution_count": 5,
     "metadata": {},
     "output_type": "execute_result"
    }
   ],
   "source": [
    "transl_df.loc[0,\"cts-urns_grp\"].split()"
   ]
  },
  {
   "cell_type": "code",
   "execution_count": 6,
   "id": "a5fa6c5a-7d66-4a07-81ea-8b7bf6b53418",
   "metadata": {},
   "outputs": [],
   "source": [
    "transl_df[\"cts-urns_uniques\"] = transl_df[\"cts-urns_grp\"].str.split()"
   ]
  },
  {
   "cell_type": "code",
   "execution_count": 7,
   "id": "4dbade60-8379-4efb-9ae9-d14e86073127",
   "metadata": {},
   "outputs": [],
   "source": [
    "transl_df = transl_df.explode(\"cts-urns_uniques\", ignore_index=True)"
   ]
  },
  {
   "cell_type": "code",
   "execution_count": 8,
   "id": "6bc47234-d3e0-4788-9ff3-55cec79916d3",
   "metadata": {},
   "outputs": [],
   "source": [
    "transl_df[\"ctsurns\"] = transl_df[\"cts-urns_uniques\"].str.rsplit(\".\",1).str[0]"
   ]
  },
  {
   "cell_type": "code",
   "execution_count": 9,
   "id": "b0c49c69-4679-49d5-b777-73479e36333f",
   "metadata": {},
   "outputs": [],
   "source": [
    "transl_df[\"filename\"] = transl_df[\"Original_File_Name\"].str.split(\".\").str[0]"
   ]
  },
  {
   "cell_type": "code",
   "execution_count": 10,
   "id": "9e10828d-978d-44be-9686-322d6a8f37e0",
   "metadata": {},
   "outputs": [
    {
     "data": {
      "text/html": [
       "<div>\n",
       "<style scoped>\n",
       "    .dataframe tbody tr th:only-of-type {\n",
       "        vertical-align: middle;\n",
       "    }\n",
       "\n",
       "    .dataframe tbody tr th {\n",
       "        vertical-align: top;\n",
       "    }\n",
       "\n",
       "    .dataframe thead th {\n",
       "        text-align: right;\n",
       "    }\n",
       "</style>\n",
       "<table border=\"1\" class=\"dataframe\">\n",
       "  <thead>\n",
       "    <tr style=\"text-align: right;\">\n",
       "      <th></th>\n",
       "      <th>Author Name</th>\n",
       "      <th>WORK IDs</th>\n",
       "      <th>cts-urns_grp</th>\n",
       "      <th># of translations</th>\n",
       "      <th>Edition Title</th>\n",
       "      <th>Editor; Translator</th>\n",
       "      <th>Publisher</th>\n",
       "      <th>Date</th>\n",
       "      <th>Original_File_Name</th>\n",
       "      <th>Addiional File location/locations</th>\n",
       "      <th>...</th>\n",
       "      <th>Translation Language</th>\n",
       "      <th>Worldcat Link</th>\n",
       "      <th>Work/s Split Up/Renamed in Branch</th>\n",
       "      <th>New File Name/s</th>\n",
       "      <th>Notes</th>\n",
       "      <th>TOC</th>\n",
       "      <th>Additional TOC</th>\n",
       "      <th>cts-urns_uniques</th>\n",
       "      <th>ctsurns</th>\n",
       "      <th>filename</th>\n",
       "    </tr>\n",
       "  </thead>\n",
       "  <tbody>\n",
       "    <tr>\n",
       "      <th>0</th>\n",
       "      <td>Aeschylus</td>\n",
       "      <td>0085.001 0085.002 0085.003 0085.004 0085.005 0...</td>\n",
       "      <td>urn:cts:greekLit:tlg0085.tlg001.ogl-eng1 urn:c...</td>\n",
       "      <td>7.0</td>\n",
       "      <td>The Dramas of Aeschylus</td>\n",
       "      <td>Swanwick, Anna, 1831-1899</td>\n",
       "      <td>Bell</td>\n",
       "      <td>1886</td>\n",
       "      <td>aeschylus_1886.xml</td>\n",
       "      <td>NaN</td>\n",
       "      <td>...</td>\n",
       "      <td>English</td>\n",
       "      <td>NaN</td>\n",
       "      <td>no</td>\n",
       "      <td>NaN</td>\n",
       "      <td>NaN</td>\n",
       "      <td>NaN</td>\n",
       "      <td>NaN</td>\n",
       "      <td>urn:cts:greekLit:tlg0085.tlg001.ogl-eng1</td>\n",
       "      <td>urn:cts:greekLit:tlg0085.tlg001</td>\n",
       "      <td>aeschylus_1886</td>\n",
       "    </tr>\n",
       "    <tr>\n",
       "      <th>1</th>\n",
       "      <td>Aeschylus</td>\n",
       "      <td>0085.001 0085.002 0085.003 0085.004 0085.005 0...</td>\n",
       "      <td>urn:cts:greekLit:tlg0085.tlg001.ogl-eng1 urn:c...</td>\n",
       "      <td>7.0</td>\n",
       "      <td>The Dramas of Aeschylus</td>\n",
       "      <td>Swanwick, Anna, 1831-1899</td>\n",
       "      <td>Bell</td>\n",
       "      <td>1886</td>\n",
       "      <td>aeschylus_1886.xml</td>\n",
       "      <td>NaN</td>\n",
       "      <td>...</td>\n",
       "      <td>English</td>\n",
       "      <td>NaN</td>\n",
       "      <td>no</td>\n",
       "      <td>NaN</td>\n",
       "      <td>NaN</td>\n",
       "      <td>NaN</td>\n",
       "      <td>NaN</td>\n",
       "      <td>urn:cts:greekLit:tlg0085.tlg002.ogl-eng1</td>\n",
       "      <td>urn:cts:greekLit:tlg0085.tlg002</td>\n",
       "      <td>aeschylus_1886</td>\n",
       "    </tr>\n",
       "    <tr>\n",
       "      <th>2</th>\n",
       "      <td>Aeschylus</td>\n",
       "      <td>0085.001 0085.002 0085.003 0085.004 0085.005 0...</td>\n",
       "      <td>urn:cts:greekLit:tlg0085.tlg001.ogl-eng1 urn:c...</td>\n",
       "      <td>7.0</td>\n",
       "      <td>The Dramas of Aeschylus</td>\n",
       "      <td>Swanwick, Anna, 1831-1899</td>\n",
       "      <td>Bell</td>\n",
       "      <td>1886</td>\n",
       "      <td>aeschylus_1886.xml</td>\n",
       "      <td>NaN</td>\n",
       "      <td>...</td>\n",
       "      <td>English</td>\n",
       "      <td>NaN</td>\n",
       "      <td>no</td>\n",
       "      <td>NaN</td>\n",
       "      <td>NaN</td>\n",
       "      <td>NaN</td>\n",
       "      <td>NaN</td>\n",
       "      <td>urn:cts:greekLit:tlg0085.tlg003.ogl-eng1</td>\n",
       "      <td>urn:cts:greekLit:tlg0085.tlg003</td>\n",
       "      <td>aeschylus_1886</td>\n",
       "    </tr>\n",
       "    <tr>\n",
       "      <th>3</th>\n",
       "      <td>Aeschylus</td>\n",
       "      <td>0085.001 0085.002 0085.003 0085.004 0085.005 0...</td>\n",
       "      <td>urn:cts:greekLit:tlg0085.tlg001.ogl-eng1 urn:c...</td>\n",
       "      <td>7.0</td>\n",
       "      <td>The Dramas of Aeschylus</td>\n",
       "      <td>Swanwick, Anna, 1831-1899</td>\n",
       "      <td>Bell</td>\n",
       "      <td>1886</td>\n",
       "      <td>aeschylus_1886.xml</td>\n",
       "      <td>NaN</td>\n",
       "      <td>...</td>\n",
       "      <td>English</td>\n",
       "      <td>NaN</td>\n",
       "      <td>no</td>\n",
       "      <td>NaN</td>\n",
       "      <td>NaN</td>\n",
       "      <td>NaN</td>\n",
       "      <td>NaN</td>\n",
       "      <td>urn:cts:greekLit:tlg0085.tlg004.ogl-eng1</td>\n",
       "      <td>urn:cts:greekLit:tlg0085.tlg004</td>\n",
       "      <td>aeschylus_1886</td>\n",
       "    </tr>\n",
       "    <tr>\n",
       "      <th>4</th>\n",
       "      <td>Aeschylus</td>\n",
       "      <td>0085.001 0085.002 0085.003 0085.004 0085.005 0...</td>\n",
       "      <td>urn:cts:greekLit:tlg0085.tlg001.ogl-eng1 urn:c...</td>\n",
       "      <td>7.0</td>\n",
       "      <td>The Dramas of Aeschylus</td>\n",
       "      <td>Swanwick, Anna, 1831-1899</td>\n",
       "      <td>Bell</td>\n",
       "      <td>1886</td>\n",
       "      <td>aeschylus_1886.xml</td>\n",
       "      <td>NaN</td>\n",
       "      <td>...</td>\n",
       "      <td>English</td>\n",
       "      <td>NaN</td>\n",
       "      <td>no</td>\n",
       "      <td>NaN</td>\n",
       "      <td>NaN</td>\n",
       "      <td>NaN</td>\n",
       "      <td>NaN</td>\n",
       "      <td>urn:cts:greekLit:tlg0085.tlg005.ogl-eng1</td>\n",
       "      <td>urn:cts:greekLit:tlg0085.tlg005</td>\n",
       "      <td>aeschylus_1886</td>\n",
       "    </tr>\n",
       "  </tbody>\n",
       "</table>\n",
       "<p>5 rows × 21 columns</p>\n",
       "</div>"
      ],
      "text/plain": [
       "  Author Name                                           WORK IDs  \\\n",
       "0   Aeschylus  0085.001 0085.002 0085.003 0085.004 0085.005 0...   \n",
       "1   Aeschylus  0085.001 0085.002 0085.003 0085.004 0085.005 0...   \n",
       "2   Aeschylus  0085.001 0085.002 0085.003 0085.004 0085.005 0...   \n",
       "3   Aeschylus  0085.001 0085.002 0085.003 0085.004 0085.005 0...   \n",
       "4   Aeschylus  0085.001 0085.002 0085.003 0085.004 0085.005 0...   \n",
       "\n",
       "                                        cts-urns_grp  # of translations  \\\n",
       "0  urn:cts:greekLit:tlg0085.tlg001.ogl-eng1 urn:c...                7.0   \n",
       "1  urn:cts:greekLit:tlg0085.tlg001.ogl-eng1 urn:c...                7.0   \n",
       "2  urn:cts:greekLit:tlg0085.tlg001.ogl-eng1 urn:c...                7.0   \n",
       "3  urn:cts:greekLit:tlg0085.tlg001.ogl-eng1 urn:c...                7.0   \n",
       "4  urn:cts:greekLit:tlg0085.tlg001.ogl-eng1 urn:c...                7.0   \n",
       "\n",
       "             Edition Title         Editor; Translator Publisher  Date  \\\n",
       "0  The Dramas of Aeschylus  Swanwick, Anna, 1831-1899      Bell  1886   \n",
       "1  The Dramas of Aeschylus  Swanwick, Anna, 1831-1899      Bell  1886   \n",
       "2  The Dramas of Aeschylus  Swanwick, Anna, 1831-1899      Bell  1886   \n",
       "3  The Dramas of Aeschylus  Swanwick, Anna, 1831-1899      Bell  1886   \n",
       "4  The Dramas of Aeschylus  Swanwick, Anna, 1831-1899      Bell  1886   \n",
       "\n",
       "   Original_File_Name Addiional File location/locations  ...  \\\n",
       "0  aeschylus_1886.xml                               NaN  ...   \n",
       "1  aeschylus_1886.xml                               NaN  ...   \n",
       "2  aeschylus_1886.xml                               NaN  ...   \n",
       "3  aeschylus_1886.xml                               NaN  ...   \n",
       "4  aeschylus_1886.xml                               NaN  ...   \n",
       "\n",
       "  Translation Language Worldcat Link Work/s Split Up/Renamed in Branch  \\\n",
       "0              English           NaN                                no   \n",
       "1              English           NaN                                no   \n",
       "2              English           NaN                                no   \n",
       "3              English           NaN                                no   \n",
       "4              English           NaN                                no   \n",
       "\n",
       "  New File Name/s Notes  TOC Additional TOC  \\\n",
       "0             NaN   NaN  NaN            NaN   \n",
       "1             NaN   NaN  NaN            NaN   \n",
       "2             NaN   NaN  NaN            NaN   \n",
       "3             NaN   NaN  NaN            NaN   \n",
       "4             NaN   NaN  NaN            NaN   \n",
       "\n",
       "                           cts-urns_uniques                          ctsurns  \\\n",
       "0  urn:cts:greekLit:tlg0085.tlg001.ogl-eng1  urn:cts:greekLit:tlg0085.tlg001   \n",
       "1  urn:cts:greekLit:tlg0085.tlg002.ogl-eng1  urn:cts:greekLit:tlg0085.tlg002   \n",
       "2  urn:cts:greekLit:tlg0085.tlg003.ogl-eng1  urn:cts:greekLit:tlg0085.tlg003   \n",
       "3  urn:cts:greekLit:tlg0085.tlg004.ogl-eng1  urn:cts:greekLit:tlg0085.tlg004   \n",
       "4  urn:cts:greekLit:tlg0085.tlg005.ogl-eng1  urn:cts:greekLit:tlg0085.tlg005   \n",
       "\n",
       "         filename  \n",
       "0  aeschylus_1886  \n",
       "1  aeschylus_1886  \n",
       "2  aeschylus_1886  \n",
       "3  aeschylus_1886  \n",
       "4  aeschylus_1886  \n",
       "\n",
       "[5 rows x 21 columns]"
      ]
     },
     "execution_count": 10,
     "metadata": {},
     "output_type": "execute_result"
    }
   ],
   "source": [
    "transl_df.head()"
   ]
  },
  {
   "cell_type": "code",
   "execution_count": 11,
   "id": "69dfd94b-8475-4beb-8c53-91cf839e89ee",
   "metadata": {},
   "outputs": [
    {
     "data": {
      "text/plain": [
       "796"
      ]
     },
     "execution_count": 11,
     "metadata": {},
     "output_type": "execute_result"
    }
   ],
   "source": [
    "transl_df[\"ctsurns\"].duplicated().sum()"
   ]
  },
  {
   "cell_type": "code",
   "execution_count": 12,
   "id": "f80be662-9513-424f-b701-fd6a309eb7ce",
   "metadata": {},
   "outputs": [],
   "source": [
    "keys = transl_df[\"ctsurns\"].unique()"
   ]
  },
  {
   "cell_type": "code",
   "execution_count": 13,
   "id": "0b801ee6-33c2-4680-afee-52bf3220f4d9",
   "metadata": {},
   "outputs": [],
   "source": [
    "lookup_table = {}\n",
    "for ctsurn in keys:\n",
    "    lookup_table[ctsurn] = list(transl_df.loc[transl_df[\"ctsurns\"] == ctsurn, \"filename\"])"
   ]
  },
  {
   "cell_type": "code",
   "execution_count": 14,
   "id": "bafb552e-033c-40f2-9dbb-3b30eb3c4b28",
   "metadata": {},
   "outputs": [
    {
     "data": {
      "text/plain": [
       "3     aeschylus_1886\n",
       "10    aeschylus_1888\n",
       "17    aeschylus_1909\n",
       "27    aeschylus_1872\n",
       "37    aeschylus_1868\n",
       "Name: filename, dtype: object"
      ]
     },
     "execution_count": 14,
     "metadata": {},
     "output_type": "execute_result"
    }
   ],
   "source": [
    "# spot check dict values\n",
    "transl_df.loc[transl_df[\"ctsurns\"] == \"urn:cts:greekLit:tlg0085.tlg004\", \"filename\"]"
   ]
  },
  {
   "cell_type": "code",
   "execution_count": 16,
   "id": "acc4efdb-01f3-4a61-9c19-6e9d4067d7c2",
   "metadata": {
    "tags": []
   },
   "outputs": [
    {
     "data": {
      "text/plain": [
       "['aeschylus_1886',\n",
       " 'aeschylus_1888',\n",
       " 'aeschylus_1909',\n",
       " 'aeschylus_1872',\n",
       " 'aeschylus_1868']"
      ]
     },
     "execution_count": 16,
     "metadata": {},
     "output_type": "execute_result"
    }
   ],
   "source": [
    "lookup_table[\"urn:cts:greekLit:tlg0085.tlg001\"]"
   ]
  },
  {
   "cell_type": "code",
   "execution_count": null,
   "id": "4fc34d1b-c37f-4f72-af85-caa1022dd3fe",
   "metadata": {},
   "outputs": [],
   "source": []
  }
 ],
 "metadata": {
  "kernelspec": {
   "display_name": "Python 3 (ipykernel)",
   "language": "python",
   "name": "python3"
  },
  "language_info": {
   "codemirror_mode": {
    "name": "ipython",
    "version": 3
   },
   "file_extension": ".py",
   "mimetype": "text/x-python",
   "name": "python",
   "nbconvert_exporter": "python",
   "pygments_lexer": "ipython3",
   "version": "3.7.13"
  }
 },
 "nbformat": 4,
 "nbformat_minor": 5
}
