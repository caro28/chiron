{
 "cells": [
  {
   "cell_type": "markdown",
   "id": "90d18afe-1910-4aa7-b1cf-3a62a243d759",
   "metadata": {
    "jp-MarkdownHeadingCollapsed": true,
    "tags": []
   },
   "source": [
    "# build metadata for tgt files"
   ]
  },
  {
   "cell_type": "code",
   "execution_count": 1,
   "id": "510746db-fec4-4e0c-a76c-8efeaf6fd91b",
   "metadata": {},
   "outputs": [],
   "source": [
    "import pandas as pd\n",
    "from functions import load_txt_as_lst"
   ]
  },
  {
   "cell_type": "code",
   "execution_count": 2,
   "id": "f4127cfc-b30c-4701-a058-2ef39a57ee12",
   "metadata": {},
   "outputs": [
    {
     "data": {
      "text/html": [
       "<div>\n",
       "<style scoped>\n",
       "    .dataframe tbody tr th:only-of-type {\n",
       "        vertical-align: middle;\n",
       "    }\n",
       "\n",
       "    .dataframe tbody tr th {\n",
       "        vertical-align: top;\n",
       "    }\n",
       "\n",
       "    .dataframe thead th {\n",
       "        text-align: right;\n",
       "    }\n",
       "</style>\n",
       "<table border=\"1\" class=\"dataframe\">\n",
       "  <thead>\n",
       "    <tr style=\"text-align: right;\">\n",
       "      <th></th>\n",
       "      <th>loc</th>\n",
       "      <th>start</th>\n",
       "      <th>length</th>\n",
       "    </tr>\n",
       "  </thead>\n",
       "  <tbody>\n",
       "    <tr>\n",
       "      <th>0</th>\n",
       "      <td>urn:cts:greekLit:tlg0001.tlg001:1.1</td>\n",
       "      <td>0</td>\n",
       "      <td>45</td>\n",
       "    </tr>\n",
       "    <tr>\n",
       "      <th>1</th>\n",
       "      <td>urn:cts:greekLit:tlg0001.tlg001:1.2</td>\n",
       "      <td>45</td>\n",
       "      <td>47</td>\n",
       "    </tr>\n",
       "    <tr>\n",
       "      <th>2</th>\n",
       "      <td>urn:cts:greekLit:tlg0001.tlg001:1.3</td>\n",
       "      <td>92</td>\n",
       "      <td>34</td>\n",
       "    </tr>\n",
       "    <tr>\n",
       "      <th>3</th>\n",
       "      <td>urn:cts:greekLit:tlg0001.tlg001:1.4</td>\n",
       "      <td>126</td>\n",
       "      <td>40</td>\n",
       "    </tr>\n",
       "    <tr>\n",
       "      <th>4</th>\n",
       "      <td>urn:cts:greekLit:tlg0001.tlg001:1.5</td>\n",
       "      <td>166</td>\n",
       "      <td>45</td>\n",
       "    </tr>\n",
       "    <tr>\n",
       "      <th>...</th>\n",
       "      <td>...</td>\n",
       "      <td>...</td>\n",
       "      <td>...</td>\n",
       "    </tr>\n",
       "    <tr>\n",
       "      <th>5829</th>\n",
       "      <td>urn:cts:greekLit:tlg0001.tlg001:4.1777</td>\n",
       "      <td>254548</td>\n",
       "      <td>43</td>\n",
       "    </tr>\n",
       "    <tr>\n",
       "      <th>5830</th>\n",
       "      <td>urn:cts:greekLit:tlg0001.tlg001:4.1778</td>\n",
       "      <td>254591</td>\n",
       "      <td>43</td>\n",
       "    </tr>\n",
       "    <tr>\n",
       "      <th>5831</th>\n",
       "      <td>urn:cts:greekLit:tlg0001.tlg001:4.1779</td>\n",
       "      <td>254634</td>\n",
       "      <td>43</td>\n",
       "    </tr>\n",
       "    <tr>\n",
       "      <th>5832</th>\n",
       "      <td>urn:cts:greekLit:tlg0001.tlg001:4.1780</td>\n",
       "      <td>254677</td>\n",
       "      <td>42</td>\n",
       "    </tr>\n",
       "    <tr>\n",
       "      <th>5833</th>\n",
       "      <td>urn:cts:greekLit:tlg0001.tlg001:4.1781</td>\n",
       "      <td>254719</td>\n",
       "      <td>38</td>\n",
       "    </tr>\n",
       "  </tbody>\n",
       "</table>\n",
       "<p>5834 rows × 3 columns</p>\n",
       "</div>"
      ],
      "text/plain": [
       "                                         loc   start  length\n",
       "0        urn:cts:greekLit:tlg0001.tlg001:1.1       0      45\n",
       "1        urn:cts:greekLit:tlg0001.tlg001:1.2      45      47\n",
       "2        urn:cts:greekLit:tlg0001.tlg001:1.3      92      34\n",
       "3        urn:cts:greekLit:tlg0001.tlg001:1.4     126      40\n",
       "4        urn:cts:greekLit:tlg0001.tlg001:1.5     166      45\n",
       "...                                      ...     ...     ...\n",
       "5829  urn:cts:greekLit:tlg0001.tlg001:4.1777  254548      43\n",
       "5830  urn:cts:greekLit:tlg0001.tlg001:4.1778  254591      43\n",
       "5831  urn:cts:greekLit:tlg0001.tlg001:4.1779  254634      43\n",
       "5832  urn:cts:greekLit:tlg0001.tlg001:4.1780  254677      42\n",
       "5833  urn:cts:greekLit:tlg0001.tlg001:4.1781  254719      38\n",
       "\n",
       "[5834 rows x 3 columns]"
      ]
     },
     "execution_count": 2,
     "metadata": {},
     "output_type": "execute_result"
    }
   ],
   "source": [
    "src_meta_path = \"/scratch/craig.car/src_data/urn:cts:greekLit:tlg0001.tlg001.json\"\n",
    "src_meta = pd.read_json(src_meta_path)\n",
    "src_meta"
   ]
  },
  {
   "cell_type": "code",
   "execution_count": 3,
   "id": "8354295f-88fb-4e79-9df9-a05658764b08",
   "metadata": {},
   "outputs": [],
   "source": [
    "test_output_xml = \"/scratch/craig.car/test.par\"\n",
    "test_par = load_txt_as_lst(test_output_xml)"
   ]
  },
  {
   "cell_type": "code",
   "execution_count": 4,
   "id": "20b4515a-b9ea-45c5-b14c-5a8a0fa2f940",
   "metadata": {},
   "outputs": [
    {
     "data": {
      "text/plain": [
       "\"book=1,chapter=1\\t6\\tCe que je tente aujourd’hui, plusieurs l’ont tenté avant moi; on a généralement loué leur entreprise. Chez quelques-uns même, ce n’est pas seulement au courageux effort que de bons juges ont applaudi. Où l’espoir de réussir toujours serait chimérique, ils ont eu du moins le bonheur de réussir souvent. La traduction des Choéphores, par M. Puech, que l’Université a trop tôt perdu, a eu pour elle des suffrages d’une grande autorité et est encore à bon droit estimée. M. Léon Halévy, après avoir déjà donné tant de preuves de son talent poétique, a tout récemment mérité d’être couronné par l’Académie française pour son troisième volume de la Grèce tragique, qui renferme une traduction des Euménides1. Sur un de nos théâtres de Paris, M. Alexandre Dumas a fait représenter une Orestie le 5 janvier 1856. Je devrais le compter, lui aussi, parmi ceux dont la rencontre était fort à craindre pour moi sur le chemin où ma témérité m’a engagé, s’il n’avait imité la célèbre trilogie d’Eschyle avec la liberté d’un poëte qui ne se sent pas né pour porter des entraves. Comme, d’ailleurs, il avait surtout en vue la représentation, il lui a paru sans doute que l’extrême simplicité d’action, la prédominance de l’élément lyrique, les longs développements donnés au chant du chœur, étaient trop contraires aux habitudes de notre scène. Il a donc abrégé les chants au profit du dialogue; il a paré la nudité du vieux drame, animé sa lenteur si voisine de l’immobilité, appelé au secours Sophocle, dont le génie est si différent du génie d’Eschyle, et même, en certains passages, Euripide, qui en est bien plus éloigné encore1; amalgame qu’il aurait assez d’esprit pour défendre, comme Térence défendait son Andrienne, dans laquelle il avait fondu deux comédies grecques. Quoi qu’on puisse dire pour ou contre une pareille tentative, nous ne trouvons plus là, sans aucun doute, la liberté bien plus grande encore de notre ancien théâtre classique, où l'imitation des poëtes grecs se transformait en œuvres vraiment originales; mais nous trouvons tout autre chose aussi qu’une traduction. Pour moi donc, humble traducteur, le drame de M. Dumas, de quelque façon qu’on le juge, n’avait rien de gênant; il me restait, pour m’effrayer, assez d’autres concurrents. Mais il y a, je crois, de grands modèles qui, ne pouvant jamais être qu’imparfaitement reproduits, seront éternellement un sujet d’exercice et d’étude1. D’un tableau de Michel-Ange ou de Raphaël, il sera toujours permis, toujours utile d’essayer de nouvelles copies.\\n\""
      ]
     },
     "execution_count": 4,
     "metadata": {},
     "output_type": "execute_result"
    }
   ],
   "source": [
    "test_par[1]"
   ]
  },
  {
   "cell_type": "code",
   "execution_count": 5,
   "id": "05638ff3-5423-4be6-8412-b04c4fddcc99",
   "metadata": {},
   "outputs": [
    {
     "data": {
      "text/plain": [
       "['book=1,chapter=1',\n",
       " '6',\n",
       " \"Ce que je tente aujourd’hui, plusieurs l’ont tenté avant moi; on a généralement loué leur entreprise. Chez quelques-uns même, ce n’est pas seulement au courageux effort que de bons juges ont applaudi. Où l’espoir de réussir toujours serait chimérique, ils ont eu du moins le bonheur de réussir souvent. La traduction des Choéphores, par M. Puech, que l’Université a trop tôt perdu, a eu pour elle des suffrages d’une grande autorité et est encore à bon droit estimée. M. Léon Halévy, après avoir déjà donné tant de preuves de son talent poétique, a tout récemment mérité d’être couronné par l’Académie française pour son troisième volume de la Grèce tragique, qui renferme une traduction des Euménides1. Sur un de nos théâtres de Paris, M. Alexandre Dumas a fait représenter une Orestie le 5 janvier 1856. Je devrais le compter, lui aussi, parmi ceux dont la rencontre était fort à craindre pour moi sur le chemin où ma témérité m’a engagé, s’il n’avait imité la célèbre trilogie d’Eschyle avec la liberté d’un poëte qui ne se sent pas né pour porter des entraves. Comme, d’ailleurs, il avait surtout en vue la représentation, il lui a paru sans doute que l’extrême simplicité d’action, la prédominance de l’élément lyrique, les longs développements donnés au chant du chœur, étaient trop contraires aux habitudes de notre scène. Il a donc abrégé les chants au profit du dialogue; il a paré la nudité du vieux drame, animé sa lenteur si voisine de l’immobilité, appelé au secours Sophocle, dont le génie est si différent du génie d’Eschyle, et même, en certains passages, Euripide, qui en est bien plus éloigné encore1; amalgame qu’il aurait assez d’esprit pour défendre, comme Térence défendait son Andrienne, dans laquelle il avait fondu deux comédies grecques. Quoi qu’on puisse dire pour ou contre une pareille tentative, nous ne trouvons plus là, sans aucun doute, la liberté bien plus grande encore de notre ancien théâtre classique, où l'imitation des poëtes grecs se transformait en œuvres vraiment originales; mais nous trouvons tout autre chose aussi qu’une traduction. Pour moi donc, humble traducteur, le drame de M. Dumas, de quelque façon qu’on le juge, n’avait rien de gênant; il me restait, pour m’effrayer, assez d’autres concurrents. Mais il y a, je crois, de grands modèles qui, ne pouvant jamais être qu’imparfaitement reproduits, seront éternellement un sujet d’exercice et d’étude1. D’un tableau de Michel-Ange ou de Raphaël, il sera toujours permis, toujours utile d’essayer de nouvelles copies.\\n\"]"
      ]
     },
     "execution_count": 5,
     "metadata": {},
     "output_type": "execute_result"
    }
   ],
   "source": [
    "test_par[1].split(\"\\t\")"
   ]
  },
  {
   "cell_type": "code",
   "execution_count": 6,
   "id": "0c135213-ca7d-46f2-b323-962c9f2456bb",
   "metadata": {},
   "outputs": [],
   "source": [
    "import spacy\n",
    "import spacy_fastlang"
   ]
  },
  {
   "cell_type": "code",
   "execution_count": 7,
   "id": "8adbb63c-83db-40f5-a332-23f262824b48",
   "metadata": {},
   "outputs": [
    {
     "name": "stderr",
     "output_type": "stream",
     "text": [
      "Warning : `load_model` does not return WordVectorModel or SupervisedModel any more, but a `FastText` object which is very similar.\n"
     ]
    },
    {
     "data": {
      "text/plain": [
       "<spacy_fastlang.LanguageDetector at 0x2b158f5dd9f0>"
      ]
     },
     "execution_count": 7,
     "metadata": {},
     "output_type": "execute_result"
    }
   ],
   "source": [
    "spacy_fr_sm = spacy.load(\"fr_core_news_sm\")\n",
    "spacy_fr_sm.add_pipe(\"language_detector\")"
   ]
  },
  {
   "cell_type": "code",
   "execution_count": 24,
   "id": "6fefb5c9-2bc8-4d5e-96f3-8f3ed0d8cd6f",
   "metadata": {},
   "outputs": [],
   "source": [
    "reconstructed = []\n",
    "section_idx2section_name = {}\n",
    "prev_meta = test_par[0].split(\"\\t\")[0]\n",
    "current_txt = \"\"\n",
    "reconstructed_idx = 0\n",
    "for fragment in test_par:\n",
    "    meta = fragment.split(\"\\t\")[0]\n",
    "    text = fragment.split(\"\\t\")[2]\n",
    "    if meta == prev_meta:\n",
    "        # still in same section, check lang before adding text\n",
    "        if spacy_fr_sm(text)._.language == \"fr\":\n",
    "            current_txt += \" \"+text\n",
    "    else:\n",
    "        # started a new section, append current_txt\n",
    "        reconstructed.append(current_txt)\n",
    "        # add metadata to dict\n",
    "        section_idx2section_name[reconstructed_idx] = meta\n",
    "        # check lang then re-initialize current_txt\n",
    "        if spacy_fr_sm(text)._.language == \"fr\":\n",
    "            current_txt = text\n",
    "        # re-initialize reconstructed_idx regardless of lang\n",
    "        reconstructed_idx += 1\n",
    "        # re-initialize prev_meta\n",
    "        prev_meta = meta\n",
    "# add last section to reconstructed\n",
    "reconstructed.append(current_txt)\n",
    "section_idx2section_name[reconstructed_idx] = meta"
   ]
  },
  {
   "cell_type": "code",
   "execution_count": 25,
   "id": "8ba78279-c86d-4e56-becc-ff82d638d217",
   "metadata": {},
   "outputs": [
    {
     "data": {
      "text/plain": [
       "44"
      ]
     },
     "execution_count": 25,
     "metadata": {},
     "output_type": "execute_result"
    }
   ],
   "source": [
    "len(section_idx2section_name)"
   ]
  },
  {
   "cell_type": "code",
   "execution_count": 26,
   "id": "a489132b-7779-4b06-9915-74666fd98c69",
   "metadata": {},
   "outputs": [
    {
     "data": {
      "text/plain": [
       "44"
      ]
     },
     "execution_count": 26,
     "metadata": {},
     "output_type": "execute_result"
    }
   ],
   "source": [
    "len(reconstructed)"
   ]
  },
  {
   "cell_type": "code",
   "execution_count": 28,
   "id": "b06a22d2-a3de-48b0-aaa5-13a4ab429c56",
   "metadata": {},
   "outputs": [
    {
     "data": {
      "text/plain": [
       "'book=3,chapter=3,section=26'"
      ]
     },
     "execution_count": 28,
     "metadata": {},
     "output_type": "execute_result"
    }
   ],
   "source": [
    "section_idx2section_name[43]"
   ]
  },
  {
   "cell_type": "code",
   "execution_count": 29,
   "id": "dc8ccf7e-ed38-47aa-ab11-1e5a93b47c68",
   "metadata": {
    "collapsed": true,
    "jupyter": {
     "outputs_hidden": true
    },
    "tags": []
   },
   "outputs": [
    {
     "data": {
      "text/plain": [
       "\"Souveraine Athéné, par l’ordre d’Apollon\\n J’arrive : au malheureux que ton accueil soit bon!\\n Ce n’est point teint de sang qu’ici je me présente :\\n Sur ma main a séché la tache pâlissante;\\n Tandis que s’effaçaient des souvenirs vieillis,\\n J’ai d’asile en asile erré par tout pays.\\n Du continent, des mers j’ai franchi l’étendue,\\n Envoyé par la voix dans Delphes entendue.\\n Au pied de ton image, en ton temple clément\\n Je viens m’asseoir; et là j’attends le jugement.\\n Bien! c’est de son passage un évident indice;\\n Suis la trace de sang, muette délatrice.\\n Comme le chien dépiste un faon qui fuit blessé,\\n A ces gouttes je vois qu’il est par là passé.\\n Un souffle haletant fatigue ma poitrine;\\n Car par toute la terre à courir je m’obstine;\\n Et sur mer, sans avoir les ailes d’un oiseau,\\n J’ai volé, j’ai suivi son rapide vaisseau.\\n Mais il est par ici caché, je le devine;\\n L’odeur du sang humain a flatté ma narine.\\n Cherchons, cherchons de toutes parts :\\n Que rien n’échappe à nos regards!\\n Que le fils qui frappa sa mère\\n Ne puisse éviter ma colère!\\n Je le vois encor protégé.\\n A cette auguste image il demande un refuge;\\n De ses bras il l’entoure; il veut être jugé :\\n Il n’est plus temps de réclamer un juge.\\n Quand sur le sol est répandu\\n Le sang à flots sorti des veines d’une mère,\\n Au corps qu’il animait il n’est jamais rendu,\\n Et sans retour il est bu par la terre.\\n Ce sang, tu le paieras; il faut que, tout vivant,\\n Tu me sentes du tien à longs traits m’abreuvant,\\n Que mon horrible soif dans tes veines s’étanche,\\n Et que tout pâle et décharné\\n Tu sois au sombre enfer par mes mains entraîné :\\n Là, ta mère aura sa revanche.\\n Tu pourras voir les mortels scélérats,\\n Les contempteurs des divines puissances,\\n L’hôte traître à son hôte et les enfants ingrats\\n Y recevoir chacun leurs justes récompenses.\\n Car c’est Pluton qui tient les comptes des humains;\\n Son regard sait partout vous suivre\\n Du fond des gouffres souterrains;\\n Tout s’inscrit dans son âme, ineffaçable livre.\\n Je sais, grâce aux leçons des maux que j’ai soufferts,\\n Pour l’expiation bien des rites divers.\\n Je sais, quand il le faut, soit parler, soit me taire.\\n En ce moment le dieu, dont le conseil m’éclaire,\\n M’ordonne de parler; car la tache a pâli\\n Sur ma main; le sang dort, son cri s’est affaibli.\\n Oui l’affreux parricide est lavé, je le jure.\\n Quand dégouttait encor la récente souillure,\\n Au temple d’Apollon j’ai, sur le saint foyer,\\n Immolé les pourceaux, pour me purifier.\\n Comment nommer tous ceux qui, s’approchant d’Oreste,\\n N’ont pourtant rien sur eux attiré de funeste?\\n Le temps efface tout; et maintenant je peux,\\n Quand ma bouche plus pure ose former des vœux,\\n Confiant, invoquer l’aide de la déesse\\n Qui de cette contrée est l’auguste maîtresse.\\n Elle va, sans combat, conquérir à jamais\\n Moi, ma terre et mon peuple : Argos, je le promets,\\n Soit donc que sur les bords, témoins de sa naissance,\\n Aux lieux que le Triton arrose de son cours,\\n Debout ou sur son char, elle porte secours\\n A ses chers Lybiens; soit qu’aux plaines de Thrace,\\n Ainsi qu’un vaillant chef, en revue elle passe\\n Les rangs de ses guerriers dans les champs de Phlégra,\\n Je l’appelle; de loin, déesse, elle entendra.\\n Viens à ma voix, Pallas; sois ma libératrice;\\n Et ce jour aura vu la fin de mon supplice.\\n Non, non, n’espère rien de Pallas, d’Apollon;\\n Quoi qu’ils fassent, tu dois périr dans l’abandon,\\n L’âme au bonheur fermée, ignorant toute joie,\\n Ombre chez les vivants, ma pâture, ma proie.\\n Tu ne me réponds rien et tu feins le mépris?\\n Mais j’aurai ma victime, et son sang m’est promis;\\n Vivant, sans qu’à l’autel mon bras te sacrifie,\\n Je te dévore : entends cet hymne qui te lie.\\n Mes sœurs, allons! formons un chœur.\\n Nous voulons mêler à la danse\\n Un chant qui glace de terreur,\\n Et dire comment la puissance\\n Que le sort a mise en nos mains,\\n Sans que jamais de la justice\\n L’incorruptible loi fléchisse,\\n S’exerce parmi les humains.\\n Qui n’a point souillé par le crime impie\\n Ses mains, qu’au grand jour il peut présenter,\\n Et n’aura de nous rien à redouter.\\n Mais tous les mortels, comme toi coupables,\\n Ayant sur leurs mains du sang à cacher,\\n Nous verront, des morts témoins redoutables,\\n Paraître, et partout sur leurs pas marcher.\\n Entends ta fille, ô Nuit, toi qui l’as enfantée\\n Pour le châtiment des pervers\\n Sur la terre et dans les enfers.\\n Par le fils de Latone elle est déshéritée.\\n Il vient lui ravir ses honneurs\\n Et dérober à sa colère\\n Le lièvre épouvanté qui du sang de sa mère\\n Doit le prix aux démons vengeurs.\\n Au condamné ce chant, le trouble et le délire,\\n L’égarement et la fureur,\\n L’hymne dont les accents l’enchaînent par la peur,\\n Sûr poison qui ronge le cœur.\\n Car c’est l’ordre établi par la Parque sévère,\\n Lorsqu’elle a filé notre sort,\\n Que tous ceux qui donnent la mort,\\n Les fils souillés du sang d’un père ou d’une mère,\\n Nous doivent trouver sur leurs pas\\n Jusqu’au dernier jour de leur vie,\\n Et que leur ombre encore est par nous poursuivie\\n Par delà l’heure du trépas.\\n Au condamné ce chant, le trouble et le délire,\\n L’égarement et la fureur,\\n L’hymne dont les accents l’enchaînent par la peur,\\n L’hymne infernal, l’hymne sans lyre.\\n Sûr poison qui ronge le cçeur.\\n Ainsi fut, en naissant, fixé notre partage.\\n Nul d’eux n’assiste à nos repas :\\n Des blancs habits nos lois nous défendent l’usage.\\n Car le soin qui nous est commis,\\n C’est d’abîmer sous les ruines\\n Toute maison livrée aux fureurs intestines,\\n Où le meurtre perfide égorge les amis.\\n Oui, qui frappa les siens en traître\\n Veut fuir en vain : mon courroux le poursuit;\\n Et quelque puissant qu’il croie être\\n Je sais l’atteindre : en poudre il est réduit.\\n J’épargne aux dieux ce soin; qu’à moi seule ils le laissent.\\n Contre mes criminels, à leur pouvoir soustraits,\\n On n’a plus à rendre d’arrêts :\\n Jupiter devant lui ne veut pas qu’ils paraissent;\\n Car il doit, souillés et sanglants,\\n Les tenir loin de sa présence.\\n Mais moi, de loin sur eux d’un seul bond je m’élance,\\n Et je heurte mon pied à leurs pieds chancelants.\\n Dans leur fuite je les arrête :\\n Leur genou plie; ils tombent lourdement;\\n El de tout son poids sur leur tête\\n Fond, à ma voix, le cruel châtiment.\\n En vain jusques aux cieux montait leur gloire altière,\\n Qui meurt dans la poussière,\\n Quand sous mes voiles noirs je viens, et foule aux pieds\\n Sans voir d’où vient le coup, tombe alors ma victime,\\n Tant l’aveugle son crime!\\n On la plaint : quel nuage est descendu, dit-on,\\n Sur sa triste maison?\\n Il est adroit et sûr le trait de ma colère.\\n Dans mon terrible souvenir\\n Les forfaits sont gravés. Rien ne me peut fléchir.\\n Mon implacable ministère\\n Dans une sombre horreur s’exerce loin des dieux.\\n Mes demeures sont ténébreuses;\\n Leur nuit égare en des routes affreuses\\n Et le peuple vivant et le peuple sans yeux.\\n Devant un tel pouvoir, qui d’une terreur sainte\\n Ne sent pas son cœur étonné?\\n Lorsqu’il entend quel droit les destins m’ont donné,\\n Quel mortel n’est saisi de crainte?\\n Fière d’un privilége antique et vénéré,\\n J’ai mes divins honneurs, ma gloire,\\n Quoique là-bas cachant dans l’ombre noire\\n Mon trône, qui du jour n’est jamais éclairé.\\n (Athéné paraît sur un char.)\\n Une voix qui de loin vient de se faire entendre\\n A frappé mon oreille aux rives du Scamandre,\\n Où ma divinité prenait possession\\n D’un sol, don glorieux des vainqueurs d’Ilion,\\n La plus belle dépouille aux champs troyens conquise,\\n Que les chefs Achéens entre mes mains ont mise,\\n Lorsqu’aux fils de Thésée offrant un noble prix,\\n Ils m’ont à tout jamais consacré ce pays.\\n De là jusqu’en ces lieux j’ai pris un vol rapide,\\n Sans ailes, mais au vent déployant mon égide;\\n Grâce à ces forts coursiers mon char fendait les cieux.\\n Une étrange assemblée est là devant mes yeux;\\n Je n’ai point de frayeur; niais ma surprise est grande.\\n Qui donc pouvez-vous être? A tous je le demande,\\n A toi que ma statue à ses pieds voit trembler,\\n A vous, spectres, à qui rien ne peut ressembler\\n Parmi tout ce qui naît; terribles inconnues.\\n Que dans leurs rangs divins jamais les dieux n’ont vues,\\n Et qui n’avez non plus les traits d'aucun mortel...\\n Mais railler la laideur est injuste et cruel.\\n Vierge, un mot suffira pour que je te réponde :\\n Nous sommes les enfants que la Nuit mit au monde\\n On nous nomme aux enfers les Malédictions.\\n Votre nom, votre race, ah! nous les connaissions.\\n Tu dois apprendre aussi quel est mon ministère.\\n Vous allez clairement me l’expliquer, j’espère.\\n Loin de toute maison nous chassons l’assassin.\\n Mais de votre poursuite où trouve-t-il la fin?\\n Dans ces lieux où la joie est à tous interdite.\\n Condamnes-tu cet homme à cette horrible fuite?\\n Oui, parce que sa mère est morte sous ses coups.\\n Mais ne craignait-il pas quelqu’autre grand courroux?\\n Qui peut contraindre un fils à ces fureurs impies?\\n Je n’entends qu’une voix, et voici deux parties.\\n Qu’il me laisse jurer; qu’ensuite il jure aussi.\\n Mais il ne le veut pas.\\n Tu n’as aucun souci\\n D’ètre juste en effet, tu Tes en apparence.\\n Comment? Explique-toi : car ta sage éloquence\\n N’est jamais en défaut.\\n Je dis que le serment\\n Dans une cause injuste est un faible argument.\\n Entre nous sois donc juge; examine la cause.\\n Quoi! le rôle d’arbitre est ce qu’on me propose?\\n Oui, car nous t’honorons. Qui pourrait mieux juger?\\n Tu l’entends, parle donc à ton tour, étranger.\\n Dis ton pays, ta race, et ta funeste histoire.\\n A l’accusation ne nous laisse pas croire,\\n Puisqu’ici je te vois, dans ton droit confiant,\\n Comme un autre Ixion, assis en suppliant,\\n Près de mon saint foyer embrasser ma statue.\\n Songe à répondre; et fais que je sois convaincue.\\n Souveraine Athéné, c’est d’abord mon devoir\\n De t’ôter un souci que tu m’as laissé voir.\\n Ton suppliant est pur; de ton image sainte\\n Il approche une main qui de sang n’est plus teinte.\\n J’en donnerai la preuve, on y peut avoir foi :\\n L’homicide au silence est contraint par la loi,\\n Tant que n’a point coulé, pour le laver du crime,\\n Le sang réparateur d’uhe jeune victime :\\n J’ai dès longtemps ailleurs été purifié;\\n J’ai puisé l’eau lustrale, et j’ai sacrifié.\\n Voilà donc sur ce point toute crainte calmée.\\n De ma race à présent tu veux être informée :\\n Je suis d’Argos; mon père est bien connu de toi,\\n Mon père Agamemnon, chef des vaisseaux, grand roi,\\n Avec qui d’Ilioh tu rasas les murailles.\\n De retour chez les siens, loin des nobles batailles\\n Il tomba; dans un piége infâme enveloppé,\\n Il fut traîtreusement par ma mère frappé :\\n De sang oh a pu voir la baignoire rougie.\\n Après un long exil rentré dans ma patrie,\\n Moi, j’ai tué ma mère, et ne le nierai pas.\\n De mon père chéri j’ai vengé le trépas.\\n J’eus, lorsque je frappai, Loxias pour complice;\\n Car si des meurtriers je ne faisais justice,\\n Il menaçait mon cœur d’un sanglant aiguillon.\\n C’est à toi de juger si j’ai bien fait ou non.\\n Gloire à ton équité, quelqu’arrêt qu’elle rende!\\n Pour des juges mortels cette cause est trop grande;\\n Et sur le sang versé moi-même décidant,\\n J’excèderais mon droit dans ce débat ardent.\\n Toi d’ailleurs, malheureux, dont ce meurtre est l’ouvrage,\\n Au temple d’Athéné tu ne fais point outrage :\\n Purifié, tu viens au pied des autels purs;\\n Ma ville te reçoit sans danger dans ses murs.\\n Mais ces vierges n’ont pas un pouvoir débonnaire;\\n Et si l’événement est à leurs vœux contraire,\\n Elles fuiront ce sol, où leur cruel venin\\n Va de leurs cœurs tomber, germe de maux sans fin.\\n Puisqu’il en est ainsi, je vous laisse en présence :\\n Si je vous renvoyais, je vous ferais offense;\\n Et comme le débat doit être ici vidé,\\n Qu’un tribunal du meurtre y soit par nous fondé,\\n Sainte institution pour toujours établie;\\n Choisissons-le nous-même et qu’un serment le lie.\\n Vous, à l’aide appelez preuves, témoins, serments,\\n Tout ce qui prête force aux justes jugements;\\n Moi, je vais, proposant la cause à leurs suffrages,\\n Parmi nos citoyens faire choix des plus sages.\\n Bientôt je les ramène, et du serment prêté\\n Leur justice saura garder la sainteté.\\n Du vieux droit le règne est fini,\\n Si la victoire aujourd’hui reste\\n Désormais je vois la carrière\\n Ouverte aux forfaits déchaînés;\\n Des enfants la main meurtrière\\n Fait trembler ceux dont ils sont nés.\\n Car ces vierges dont l’œil sévère\\n Était des mortels redouté,\\n Désormais verront sans colère\\n Le sang couler en liberté.\\n Les parents trahis vont savoir\\n Que leurs maux n’ont plus d’assistance,\\n De consolateur, ni d’espoir.\\n Vous que le malheur frappe, étouffez donc vos plaintes;\\n Ne criez plus : « O lois des Euménides saintes! »\\n Il ne faut plus nous appeler,\\n O pères gémissants, mères dont le flanc saigne.\\n Car voici que le temple, où la Justice règne,\\n De fond en comble va crouler.\\n La terreur est souvent un flambeau salutaire\\n Qui veille au fond des cœurs. La sagesse s’éclaire\\n Par les angoisses et l’effroi;\\n Mais quand les cœurs sans crainte, en une nuit tranquille\\n Languissent endormis, quel mortel, quelle ville\\n Aime le frein qui modère ta vie;\\n Mais que ce frein ne soit pas tyrannie;\\n Car tout excès est blâmé par le dieu\\n Qui mit la force en un sage milieu.\\n Écoute bien ce que dit ma prudence :\\n L’impiété pour fille a l’insolence;\\n Mais d’un cœur pur naît la félicité,\\n Trésor sans prix et de tous convoité.\\n De tes devoirs que ma voix t’avertisse :\\n Crains d’outrager l’autel de la Justice;\\n La peine est là, tu la fuirais en vain,\\n D’un pied hardi si, tenté par le gain,\\n Tu le frappais dans ta fureur impie.\\n Respecte ceux qui t’ont donné la vie;\\n Et quand il cherche un abri sous ton toit,\\n De l’hôte aussi respecte le saint droit.\\n A ce prix l’homme heureux évitera l’abîme,\\n L’homme juste par libre choix.\\n Mais celui qui se livre au désordre du crime,\\n Qui transgresse et détruit les lois,\\n Je dis que tôt ou tard sa voile déchirée\\n Et qu’un jour, fatigant sa nef désemparée,\\n L’ouragan brisera ses mâts.\\n Alors vers les dieux sourds il crie en sa détresse.\\n Le destin trop tard supplié\\n Se rit de l’orgueilleux, qu’il voit de son ivresse\\n Se réveiller humilié.\\n Le malheur tient sa proie et la livre à l’orage.\\n Le méchant a trop prospéré;\\n La justice est l’écueil où l’attend le naufrage;\\n Il s’y brise et n’est point pleuré.\\n (Entre Athéné suivie des juges et du peuple.)\\n Héraut, sonne, avertis la foule obéissante,\\n Que des Tyrrhéniens la trompette perçante,\\n Pleine du chant sonore où vibre un souffle humain,\\n Fasse écouter de tous sa grande voix d’airain!\\n Car le tribunal siége; il faut faire silence,\\n Pour que le peuple entier prenne ici connaissance\\n Des éternelles lois que j’établis sur lui,\\n Et pour qu’un juste arrêt se prépare aujourd’hui.\\n Souverain ApoIlon, règne dans tort empire.\\n Mais pourquoi t’entremettre ici? Le veux-tu dire?\\n Je viens comme témoin d’abord de ce mortel\\n Qui fut mon suppliant, qui près de mon autel\\n S’est assis; j’ai lavé sa souillure sanglante.\\n Moi-même en accusé d’ailleurs je me présente,\\n Car à ce parricide, on le sait, j’ai pris part.\\n Déesse, appelle donc la cause sans retard;\\n Tu connais ton devoir; que le débat commence.\\n Vous avez la parole; on ouvre l'Audience.\\n De droit, l’accusateur parle avant l’accusé;\\n Le fait par lui d’abord nous doit être exposé.\\n Nous voulons parler peu, quoique nombreuses, juges;\\n Toi, mot pour mot réponds, et sans vains subterfuges.\\n Et d’abord, de ta mère es-tu le meurtrier?\\n Je le suis; c’est un fait que je ne puis nier.\\n Des trois chutes qu’il faut constatons la première.\\n Je suis encor debout; te voilà trop tôt fière.\\n Dis comment la victime est morte de ta main.\\n Je le dirai : d’un fer je lui perçai le sein.\\n Et qui par ses conseils t’a soufflé cette rage?\\n Qui? l’oracle du dieu; j’aurai son témoignage.\\n Le meurtre d’une mère eut pour auteur un dieu?\\n Et de m’en repentir je n’ai pas encor lieu.\\n L’assassin condamné peut changer de langage.\\n Mon père, en son tombeau, m’assiste et m’encourage.\\n Quoi! le fils parricide est des morts protégé!\\n Double était le forfait sur ma mère vengé.\\n Explique au tribunal quels furent ces deux crimes.\\n Mon père et son époux, ce sont bien deux victimes.\\n Tu vis; elle a payé ce qu’elle nous devait.\\n L’as-tu donc poursuivie, alors qu’elle vivait?\\n Mais les époux n’ont pas même sang dans les veines.\\n Et ma mère? son sang coule-t-il dans les miennes?\\n Ta mère, ô scélérat, t’a nourri dans son flanc.\\n De qui t’a mis au jour renierais-tu le sang?\\n Parle, ô toi mon témoin, et dis-nous, dieu prophète,\\n Si, quand je la frappai, justice fut bien faite.\\n Car le meurtre est constant, j’ai dû le confesser;\\n Mais fut-il juste ou non? à toi de prononcer.\\n Éclaire-moi, grand dieu, pour que je leur réponde\\n Auguste tribunal qu’aujourd’hui Pallas fonde,\\n Il fut juste, crois-en le dieu de vérité;\\n Et sache que jamais homme, femme, ou cité\\n N’entendit Apollon sur son trépied sincère\\n Prononcer un seul mot que ne dictât son père.\\n Reconnais donc combien notre droit était fort,\\n Et crains à Jupiter de vouloir donner tort;\\n Nul serment ne prévaut sur son ordre suprême.\\n Tu fus donc inspiré par Jupiter lui-même,\\n Quand tu dis à ce fils que son père égorgé\\n Par le sang maternel devait être vengé?\\n Qui pourrait comparer l’une et l’autre victime?\\n Songez donc à la mort d’un héros magnanime,\\n Fier du sceptre royal donné par Jupiter,\\n Qu’une femme, ô forfait! frappa, non de ce fer\\n Que lance l’amazone, intrépide héroïne.\\n Mais écoutez comment, ô toi, vierge divine.\\n Et vous, juges, assis pour rendre votre arrêt.\\n Heureux et triomphant dans sa ville il rentrait;\\n Son épouse au palais l’accueille avec tendresse;\\n Au bain il est conduit. Mais bientôt la traîtresse,\\n Dans le moment qu’il sort de l’eau qui l’a reçu,\\n Présentant à ses bras un perfide tissu,\\n L’assassine, enchaîné par de lâches entraves.\\n Le monstre ainsi frappa ce noble chef des braves.\\n J’ai, pour vous indigner, rappelé l’attentat,\\n Athéniens, choisis pour juger ce débat,\\n D’un père au roi des dieux la vie est surtout chère,\\n Dis-tu. Mais Jupiier enchaîna son vieux père.\\n Comment soutiendras-tu ce qu’un tel fait dément?\\n Juges, vous m’entendez, retenez l'argument.\\n O monstres, noirs objets de la céleste haine,\\n Abhorrés en tous lieux! on peut rompre une chaîne,\\n Il est plus d’un secours qui rend la liberté;\\n Mais lorsque par le sang le sol fut humecté,\\n La mort tient bien sa proie et jamais ne la cède;\\n Mon père pour ce mal ne sait point de remède.\\n Là finit son pouvoir; le reste est dans sa main :\\n Ce qui tombe aujourd’hui se relève demain.\\n Au juste châtiment tu prétends ie soustraire!\\n Le sang versé par lui, c’est le sang de sa mère,\\n C’est le sien. Et comment dans Argos désormais\\n Pourrait-il de son père habiter le palais?\\n A quels autels publics veux-tu qu’il sacrifie?\\n Dis-nous à quels festins l’admettra la patrie?\\n Écoute, et reconnais si je raisonne bien.\\n Oui, la mère a porté l’enfant qu’elle dit sien,\\n Mais non pas engendré, Le germe naît du père,\\n Ensuite il est nourri dans le sein de la mère.\\n Elle, si dans ses flancs un dieu ne le détruit,\\n Étrangère, conserve à l’étranger son fruit.\\n Je vais te le prouver : sans mère un père engendre.\\n Vois Celle qu’à témoin près de nous je puis prendre,\\n Vois du maître des dieux ce noble rejeton,\\n Que jamais d’aucun sein n’enferma la prison,\\n Trop beau pour être né d’aucune des déesses.\\n Pour moi, je veux, Pallas, et crois en mes promesses,\\n Autant que d’Apollon la puissance s’étend,\\n De ta chère cité rendre le peuple grand,\\n Au suppliant j’ai dit : « Cours vers ce saint asile, »\\n Pour qu’il fût à jamais l’allié de ta ville,\\n Et qu’à toi s’attachant par d’éternels liens,\\n Il t’appartînt, déesse, ainsi que tous les siens,\\n Oui, c’est un pacte heureux d’alliance immortelle,\\n Et sa postérité te restera fidèle.\\n Suivant votre justice, ô juges, prononcez;\\n Je mets la cause aux voix; c’est discourir assez.\\n J’ai lancé tous mes traits, et mon carquois est vide;\\n Mais je reste, attendant que cette urne décide.\\n Comment jugerons-nous pour n’être pas blâmés?\\n Arous avez entendu : les débats sont fermés.\\n Respectez le bon droit : votre serment vous lie,\\n Oyez la loi par nous en ce jour établie,\\n Athéniens; chez vous sur le sang répandu\\n Pour la première fois un arrêt est rendu.\\n Je veux que désormais la nation d’Égée\\n Soit par ce tribunal dans tous les temps jugée.\\n La colline d’Arès qui sous vos yeux s’étend\\n Vit jadis l’amazone, aux combats s’apprêtant,\\n Flanquer de tours l’enceinte où se dressait sa tente,\\n Pour menacer Thésée et sa ville récente.\\n Leur troupe sur l’autel d’Arès sacrifia.\\n Dès lors du puissant dieu le nom sanctifia\\n Ce rocher, qui s’appelle encor l’Aréopage.\\n C’est là que le respect et sa compagne sage,\\n La crainte, jour et nuit veillant sur ma cité,\\n Lui feront un rempart contre l’iniquité,\\n A moins que de ses lois elle-même ne laisse\\n Par d’orageux torrents envahir la sagesse :\\n Oui, craignez le limon à l’eau pure mêlé;\\n Votre soif n’aurait plus qu’un breuvage troublé.\\n Peuple, point de licence et point de tyrannie!\\n Si de votre cité toute crainte est bannie,\\n Malheur à vous! sans crainte on ne fuit pas le mal.\\n En qui, de tout désordre Athènes garantie,\\n Trouve un ferme rempart qui manque à la Scythie,\\n Et qu’enviera la terre où Pélops vint régner.\\n Je vous donne un sénat qu’on ne pourra gagner,\\n Vénérable, sévère, et dont la vigilance,\\n Lorsque vous dormirez, sera votre défense.\\n Aux âges à venir voulant dicter mes lois,\\n J’ai fait ce long discours. Mais, pour aller aux voix,\\n Levez-vous; et portez la sentence attendue;\\n Respectez le serment. Vous m’avez entendue.\\n LE CHOEUR, s’adressant au tribunal.\\n Présentes en ces lieux, crains de nous outrager;\\n Sois prudent; c’est à quoi je te veux engager.\\n Moi je dis : « Accomplis ma promesse, et révère\\n L’oracle d’Apollon, l’oracle de son père! »\\n Où de sang il s’agit, tu n’avais rien à voir;\\n Tes oracles ici perdent leur saint pouvoir.\\n Mon père avait donc tort, quand d’un meurtre perfide\\n Il lavait Ixion, le premier homicide?\\n Vains discours! Si l’arrêt leur ose faire affront,\\n Les redoutables sœurs ici reparaîtront.\\n De vous nul dieu nouveau ne se veut mettre en peine,\\n Nul ancien dieu non plus : ma victoire est certaine.\\n Le palais de Phérès t’a déjà connu tel :\\n La Parque fit pour toi d’un homme1 un immortel.\\n Ne faut-il pas, surtout quand leurs vœux nous implorent,\\n Répandre nos bienfaits sur ceux qui nous honorent?\\n Ta ruse, détruisant le vieux pouvoir divin,\\n Des trois antiques sœurs triompha par le vin.\\n 1. Admète, fils de Phérès. Voyez l'Alceste d’Euripide.\\n Sur nous, bientôt vainqueurs par un juste suffrage,\\n D’un impuissant venin tu vas vomir la rage.\\n Un dieu nouveau hous brave, insulte aux anciens dieux;\\n Mais, attendant l’arrêt, je demeure en ces lieux;\\n Et sur vous jusque-là je suspends ma colère.\\n C’est à moi de donner mon vote la dernière;\\n Et c’est à l’accusé que ce vote est acquis.\\n Peut-il ne l’être pas? sans mère je naquis.\\n J’aime à prendre parti, quoique vierge sévère,\\n Pour le sexe viril, pour la cause du père;\\n Je ne vengerai pas la femme, quand l’époux,\\n Le maître du foyer, est tombé sous ses coups.\\n Oreste vaincra donc, même en cas de partage.\\n Faites sortir les voix de l’urne du suffrage,\\n Juges qu’on a commis au soin de les compter.\\n O Phébus Apollon, qui donc va l’emporter?\\n As-tu sur nous les yeux, ô ma mère, ô Nuit noire?\\n Pour moi le nœud mortel s’apprête, ou la victoire.\\n Nous gardons nos honneurs, ou ne sommes plus rien.\\n Vous qui dépouillez l’urne, étrangers, comptez bien,\\n Et séparez les voix sans fraude ou ruse aucune.\\n Une de moins décide une grande infortune,\\n Et par une de plus un trône est relevé.\\n Le tribunal absout, et cet homme est sauvé.\\n On a compté les voix, on trouve égal partage.\\n O Pallas, dont la main me dérobe au naufrage,\\n Mon pays, ce doux sol d’où j’étais exilé,\\n C’est toi qui me le rends. Mon peuple consolé\\n Dira : « Le fils d’Argos dans les biens de sa race\\n Rentre, grâce à Pallas, grâce au dieu du Parnasse,\\n Grâce au maître du ciel, son troisième sauveur. »\\n Oui, ce grand dieu, d’un père ayant plaint le malheur,\\n M’a sauvé, sourd aux voix qui plaidaient pour ma mère.\\n Mais je fais mes adieux à la terre étrangère,\\n Je rentre en ma patrie, après avoir juré\\n A ce peuple, à ta ville, (et ce serment sacré\\n Je veux qu’en tous les temps ma nation le tienne,)\\n Que jamais aucun chef de la terre argienne\\n Des guerres en ces lieux n’apportera les maux.\\n Et nous, en ce temps-là, couchés dans nos tombeaux,\\n S’il sortait de nos murs des agresseurs parjures,\\n D’obstacles effrayants, de sinistres augures,\\n Nous sèmerions leur route, arrêterions leurs pas;\\n A déplorer leur crime ils ne tarderaient pas.\\n Mais celui qui, toujours fidèle à l’alliance\\n Du peuple.d’Athéné, l’aidera de sa lance,\\n Sur lui nous jetterons un regard bienveillant.\\n Adieu, vierge divine, adieu, peuple vaillant;\\n Puissent, brisant ici leurs fureurs impuissantes,\\n Tes ennemis sentir tes armes triomphantes!\\n (Apollon et Oreste sortent.)\\n Quoi! nouvelles divinités,\\n A nos antiques lois vous osez faire outrage!\\n Vous m’arrachez leurs glaives redoutés!\\n On m’insulte, ô douleur! ô rage!\\n Mais je vengerai mon affront,\\n Et sur ce sol maudit que je rendrai stérile,\\n Du venin que mon cœur distille,\\n Comme un poison mortel, les gouttes tomberont.\\n Une lèpre en naîtra, dont la terre couverte\\n (O justice des dieux vengeurs!)\\n Sera sans fruits, sans enfants et sans fleurs,\\n Et bientôt restera déserte.\\n Que faire? Eh! quoi, gémir est tout ce que je puis?\\n Non; l’affront qui m’atteint pèsera sur Athènes.\\n O filles de la Nuit! cuisantes sont vos peines,\\n Vous pleurez vos honneurs détruits.\\n Tu ne gémiras plus, si tu veux bien m’en croire.\\n Sur toi nous n’avons pas remporté de victoire :\\n Les suffrages égaux, en toute bonne foi,\\n De l’urne sont sortis, sans nul mépris pour toi.\\n Mais une auguste voix, celle du dieu suprême,\\n Qu’a fait parler ici son prophète lui-même,\\n Témoignait pour Oreste, et dictant notre arrêt,\\n Voulait qu’au châtiment ce mortel fût soustrait.\\n Calme-toi cependant, épargne cette terre;\\n Ne va point l’écraser du poids de ta colère,\\n Et ne condamne pas à la stérilité\\n Ce sol où s’épanchant, ton poison irrité,\\n Comme un terrible fer dont le tranchant dévore,\\n Détruirait sans pitié les germes près d’éclore.\\n Car je te le promets en termes solennels :\\n On te destine ici des temples, des autels,\\n Près de tes foyers saints des trônes magnifiques\\n Et les justes honneurs des prières publiques.\\n Quoi! nouvelles divinités,\\n A nos antiques lois vous osez faire outrage;\\n Vous m’arrachez leurs glaives redoutés!\\n On m’insulte, ô douleur! ô rage!\\n Mais je vengerai mon affront,\\n Et sur ce sol maudit que je rendrai stérile,\\n Du venin que mon cœur distille,\\n Comme un poison mortel les gouttes tomberont.\\n Une lèpre en naîtra, dont la terre couverte\\n (O justice des dieux vengeurs!)\\n Sera sans fruits, sans enfants et sans fleurs,\\n Et bientôt restera déserte.\\n Que faire? Eh! quoi, gémir est tout ce que je puis?\\n Non; l’affront qui m’atteint pèsera sur Athènes.\\n O filles de la Nuit! cruelles sont vos peines,\\n Vous pleurez vos honneurs détruits.\\n Tes honneurs sont debout; prends une humeur moins fière.\\n Déesse, des mortels ne sèche point la terre.\\n Jupiter m’aime aussi. Que te dirai-je encor?\\n Seule parmi les dieux, j’ai les clefs du trésor\\n Où sous l’auguste sceau la foudre dort cachée.\\n Mais qu’en est-il besoin? Par nos conseils touchée,\\n Non, tu ne voudras pas sur un sol innocent\\n De ta bouche exhaler le souffle flétrissant.\\n De cet amer courroux calme le sombre orage;\\n Pallas, de ses honneurs t’assure le partage.\\n Habite près de moi : là, reçois, je le veux,\\n Les prémices des dons qu’offre un peuple nombreux,\\n Aux jours de la naissance, aux jours du mariage;\\n Et bientôt tu diras que mon conseil fut sage.\\n Aux lois antiques moi fidèle,\\n Sur leur terre ils m’établiront!\\n J’exhale un souffle de fureur.\\n O Terre! ô quel courroux m’enflamme!\\n D’une intolérable douleur\\n Le trait pénètre dans mon âme.\\n O Nuit! ma mère, entends mes cris.\\n Ces grands honneurs des Euménides,\\n Les dieux, par leurs ruses perfides,\\n Les ont donc changés en mépris!\\n Je respecte un courroux permis à ta vieillesse.\\n Mon âge doit au tien le céder en sagesse;\\n Mais Jupiter m’a faite assez prudente aussi.\\n Pour vivre en d’autres lieux, si tu sortais d’ici,\\n Tu le regretterais un jour, sois en certaine.\\n Car le temps, dans son cours, fera grandir Athène.\\n Les enfants d’Érechtée à vos autels sacrés,\\n Hommes, femmes, viendront, pompeusement parés,\\n Et dans leur pieux, zèle eux seuls pourront vous rendre\\n Un culte tel qu’ailleurs vous n’en sauriez attendre.\\n Calme donc ces transports qui t’enivrent sans vin.\\n Cette terre est à moi : de ton sanglant venin\\n Ne lui fais pas sentir la funeste influence\\n Qui frapperait de mort l’enfant dès sa naissance.\\n N’excite pas mon peuple à des discords affreux\\n Pareils à ceux des coqs se déchirant entre eux,\\n Et ne le livre pas aux horreurs de ces guerres\\n Qui, pour s’entretuer, arment les mains des frères.\\n Contre l’étranger seul qu’il aime les combats;\\n Bientôt l’occasion ne lui manquera pas.\\n La guerre est un grand nom : c’est à tort qu’on l’applique\\n Aux vils duels, aimés de l’oiseau domestique.\\n Songe auxbiens que jet’offre : un peuple heureux, crois-moi,\\n Si pour lui tu fais tout, fera beaucoup pour toi.\\n Je partage avec vous mes honneurs et ma terre,\\n Oui, cette terre aux dieux de toutes la plus chère.\\n Aux lois antiques moi fidèle,\\n Sur leur terre ils m’établiront!\\n J’exhale un souffle de fureur.\\n O Terre! ô quel courroux m’enflamme!\\n D’une intolérable douleur\\n Le trait pénètre dans mon âme.\\n O Nuit! ma mère, entends mes cris.\\n Ces grands honneurs des Euménides,\\n Les dieux, par leurs ruses perfides,\\n Les ont donc changés en mépris!\\n Sans me lasser, je donne un conseil de sagesse.\\n Il ne sera pas dit qu’une jeune déesse,\\n Que d’un peuple mortel la terrestre cité\\n T’aient pu mépriser, toi, vieille divinité,\\n Ni que de te chasser nous t’ayons fait l’offense.\\n Si la douce Pitho, déesse d’éloquence,\\n Si par un charme heureux ma voix t’a su gagner,\\n Reste. Mais de ces lieux si tu veux t’éloigner,\\n Faut-il que ton courroux sur eux s’appesantisse?\\n Et les maudiras-tu, sans blesser la justice?\\n Infliger à mon peuple un cruel châtiment\\n N’est-ce pas trop donner à ton ressentiment?\\n Reste, et cette cité, qu’avec toi je partage,\\n Saura dans tous les temps te rendre un juste hommage\\n Comment, noble Pallas, y veux-tu m’établir?\\n Dans un séjour sans trouble. Ah! daigne consentir.\\n Quels seront mes honneurs, s’il faut que je consente?\\n Sans toi nulle maison ne sera florissante.\\n Et ce pouvoir si grand tu peux me l’assurer?\\n Pour mériter mes dons on devra t’honorer.\\n C’est promesse éternelle et non point téméraire?\\n Si j’y voulais manquer, je puis ne pqs la faire.\\n Tu l’emportes : je sens mon courroux se calmer.\\n Devenu ton séjour, ce pays va t’aimer.\\n Mais quel hymne veux-tu qu’à ta ville je chante?\\n Souhaite que sans crime elle soit triomphante.\\n Sur elle fais descendre, appelés par tes vœux,\\n Tous les biens de la terre et des mers et des cieux.\\n Demande que des vents les plus douces haleines\\n Caressent au soleil les campagnes d’Athènes,\\n Que sa terre féconde en fruits, comme en troupeaux,\\n De trésors soit prodigue, ignore les fléaux;\\n Que les germes humains y croissent pleins de vie.\\n Mais redoublé de soins pour extirper l’impie;\\n C’est mon vœu; car je suis le sage agriculteur :\\n Je chéris mes bons plants, les gardant de malhèur.\\n Ce qu’on attend de toi je l’ai dit : Pour la guerre,\\n A moi d’en assurer la gloire à cette terre.\\n Près d’Athéné je me fixe en ces lieux.\\n Je ne veux point mépriser la contrée\\n De Jupiter et d’Arès honorée,\\n Ainsi qu’un fort où sont gardés les dieux,\\n Un sûr rempart protégeant des Hellènes\\n Les temples saints et les autels brillants.\\n Entends quels biens je te prédis, Athènes;\\n Réjouis-toi de mes vœux bienveillants.\\n Que ta campagne en richesses abonde;\\n Que tous les dons par qui l’homme est heureux,\\n Sortent du sein de ta terre féconde,\\n Où du soleil descendent les doux feux.\\n J’ai pour ce peuple ainsi montré ma bienveillance.\\n Je fixe en ma cité\\n Les redoutables sœurs que nul jamais n’offense\\n Avec impunité.\\n Tout l’ordre qui préside aux affaires humaines\\n Est fixé par leurs lois;\\n Et malheur à qui sent de leurs terribles peines\\n Sur lui tomber le poids!\\n « D’où partent, se dit-il, ces flèches vengeresses\\n Qui me frappent de tous côtés? »\\n Par un premier forfait les forfaits enfantés\\n Le livrent aux sombres déesses.\\n Tandis qu’il crie en vain,\\n Et l’écrase en silence.\\n Voici pour toi, sol que nous protégeons,\\n Voici nos vœux : que loin de toi sévissent\\n Les vents mortels à l’arbre qu’ils flétrissent,\\n Les feux ardents qui brûlent les bourgeons.\\n Des noirs fléaux loin de toi les ravages!\\n Qu’au temps fixé tes fécondes brebis\\n Aient deux agneaux; que dans tes pâturages\\n Tes gras troupeaux sans peine soient nourris.\\n Que des métaux recueillant les richesses,\\n Tes habitants par un culte pieux\\n Aient désormais à payer les largesses\\n Qu’à leur bonheur vont prodiguer les dieux.\\n Vous entendez quels biens sa faveur vous apporte,\\n Vivants remparts qui gardez ma cité.\\n Car l’auguste Érynnis dans le ciel est bien forte,\\n Comme au séjour par les morts habité;\\n Et non moins étendu son pouvoir se déploie\\n Sur les mortels, à ses lois enchaînés,\\n Source pour eux tantôt des plus doux chants de Joie,\\n Tantôt des pleurs dont leurs yeux sont baignés.\\n A ma voix, morts prématurées,\\n De leurs fils éloignez vos coups.\\n A leurs filles d’attraits parées,\\n Ovous, dieux, donnez des époux,\\n Dieux qui réglez les hyménées,\\n Et vous, grandes Parques, mes sœurs,\\n Qui de la Nuit sombre êtes nées,\\n Justes dans toutes vos rigueurs,\\n Vous qu’en tout temps il faut qu’on craigne,\\n Qui prenez place à tout foyer;\\n Partout où la Justice règne,\\n Objets d’un culte singulier.\\n De ces heureux destins la divine promesse\\n A rempli mon cœur d’allégresse.\\n Pitho, que tu m’es chère, et que j’aime tes yeux,\\n Tes yeux qui surveillaient mja bouche,\\n Quand j’avais à lutter contre un courroux farouche!\\n Jupiter est ici resté victorieux,\\n Jupiter, dieu de l’éloquence.\\n Ce jour pour nous couronne une juste défense\\n Par un triomphe glorieux.\\n Que la discorde meurtrière\\n Ici ne pousse point ses cris,\\n Et n’abreuve point la poussière\\n Du sang des citoyens meurtris.\\n Que des haines le noir délire\\n Par de fratricides fureurs\\n Sur la cité jamais n’attire\\n Les représailles des vengeurs.\\n Pour le bonheur que tous s’unissent,\\n Songeant au bien de leur pays,\\n Et que tous d'un seul cœur haïssent :\\n Par là bien des maux sont guéris.\\n Oui, sa langue a pour vous, si vous vous montrez sages,\\n Ouvert la route aux meilleurs vœux.\\n Grâce à ces déités aux terribles visages.\\n Je vois que vous serez heureux.\\n Honorez, citoyens, leur puissance propice,\\n Rendez-leur amour pour amour,\\n Et, brillante à jamais, delà sainte justice\\n Athènes sera le séjour.\\n Adieu, je pars; vivez dans l’opulence.\\n Adieu, je pars, ô peuple athénien,\\n Toi qu’en ces murs protège la présence\\n Toi de sa fille adorateur fidèle!\\n Par la sagesse en tout temps sois guidé :\\n Celui qu’a pris Athéné sous son aile\\n Par Jupiter est toujours regardé.\\n Adieu donc, vous aussi! Je marche la première,\\n Pour vous montrer le temple où vous habiterez.\\n Venez, à la lumière\\n De ces flambeaux sacrés.\\n Vers l’autel souterrain, au milieu des victimes\\n Et du cortége saint, venez; de la cité\\n Exterminez les crimes,\\n Chassez l’adversité.\\n Vous, accompagnez-les dans leur ville nouvelle,\\n Enfants de Cranaüs; et que de leurs bienfaits\\n Le souvenir fidèle\\n Ne s’efface jamais!\\n Adieu, vous tous! ayez le sort prospère.\\n Deux fois adieu, mortels, divinités,\\n Vous qui vivez sur cette noble terre,\\n Dans ces murs saints par Minerve habités.\\n A ma puissance en ces lieux établie\\n Si vous rendez un hommage pieux,\\n La ville heureuse, où je suis accueillie,\\n N’aura jamais à se plaindre des dieux.\\n Des vœux si bienveillants me remplissent de joie.\\n Vers vos temples profonds, sous la terre, j’envoie,\\n Pour vous porter les feux des flambeaux éternels,\\n Ces prêtresses, par qui sont gardés mes autels.\\n Venez, fils de Thésée, ô florissante élite,\\n Joignez-vous à la pompe où Pallas vous invite;\\n Venez, formant vos rangs, et de pourpre parés.\\n Vierges, mères, et vous aïeules, accourez!\\n Que les torches en feu dans vos mains resplendissent,\\n Pour que les déités, qui chez vous s’établissent,\\n Fassent à l’avenir prospérer sous leurs yeux\\n D’un peuple de héros le destin glorieux.\\n Marchez aux demeures nouvelles\\n Où ce cortége vous conduit.\\n Oui, venez, vierges immortelles,\\n Puissantes filles de la Nuit.\\n Applaudis, ô peuple d’Athènes!\\n Et vous, déesses, descendez\\n Dans les ténèbres souterraines\\n Des temples au vieux temps fondés.\\n Par les pompes du sacrifice,\\n Par un juste tribut d’honneurs,\\n (Que la ville entière applaudisse!)\\n Nous mériterons vos faveurs.\\n Vous, nos augustes protectrices,\\n Pour qui s’allument ces clartés,\\n Marchez, joyeuses et propices,\\n Bienveillantes divinités.\\n Peuple, entonne un glorieux chant;\\n Que la sainte effusion coule\\n Dans le temple resplendissant.\\n Grâce à l’heureuse Destinée,\\n Grâce à Jupiter tout-puissant.\\n Sur nous a lui cette journée.\\n Peuple, entonne un glorieux chant.\\n Et Jupiter maintient le sacré privilége\\n Des malheureux proscrits....\\n Dans le vers :\\n je lis, avec Hermann et Weil, ἐκνόμων au lieu de ἐκ νόμων. Je crains que proscrit ne traduise pas ἐκνόμος avec assez de justesse. Le mot nous manque. Les Anglais ont outlaw.\\n ....Et de moi nul dieu ne se soucie.\\n Au lieu de :\\n Voir le Thésaurus d’Henri Estienne (édition Didot) au mot ~ροσ(χτωρ.\\n Si de pareils forfaits te trouvent indulgente...\\n Au lieu de :\\n je lis, avec Ahrens et Weil :\\n Contre mes criminels, à leur pouvoir soustraits....\\n Au lieu de :\\n je lis, comme Schütz le propose :\\n Mais railler la laideur est injuste et cruel.\\n Dans ce vers :\\n je lis, comme Heath le propose, τον πέλας, au lieu de τοὺς πέλας.\\n Mais quand les cœurs sans crainte, en une nuit tranquille\\n Languissent endormis....\\n Dans les vers :\\n au lieu de ἀνατρέφων, je lis, avec Bothe : ἀναστρέφων.\\n Et d’abord de ta mère es-tu le meurtrier?\\n Lemercier, dans son Cours analytique, a ainsi traduit cet interrogatoire :\\n Je l’immolai moi-même, et n’en fais nul mystère.\\n Déjà c’est avouer ta chute eu ce combat.\\n Attendez à me voir sortir de ce débat.\\n Déclare-nous comment ta mère fut frappée.\\n Cette main dans sa gorge enfonça mon épée.\\n Qui te le conseilla? Quel pouvoir? Quel démon?\\n L’ordre sacré d’un dieu; j’en atteste Apollon.\\n Son organe aurait-il prescrit un parricide?\\n Je fus soumis au sort, et rien ne m’intimide.\\n Le glaive humiliera l’orgueil de tes discours.\\n Les mânes paternels viendront à mon secours.\\n Invoques-tu les morts, meurtrier d’une mère?\\n Deux crimes dans la mienne ont forcé ma colère.\\n Deux crimes! Quels sont-ils? prouve-les devant nous.\\n Ensemble elle égorgea mon père et son époux.\\n J’ai, pour vous indigner, rappelé l’attentat.\\n Dans ce vers :\\n au lieu de : δειχθῇ, je lis : δηχθτῇ, que donnent la plupart des éditions.\\n Des trois antiques sœurs triompha par le vin.\\n Ces trois antiques sœurs (dans le texte : ἀρχαίας θεάς) ne peuvent être les Euménides, comme l’ont cru plusieurs interprètes. Il s’agit des Parques. Le chœur continue son allusion à la légende d’Admète. Voyez la tragédie d'Alceste, vers 12. Le scoliaste, commentant ce vers d’Euripide, dit qu’Apollon enivra les Parques, pour soustraire Admète à leur puissance.\\n Mon âge doit au tien le céder en sagesse.\\n Au lieu de :\\n je lis, avec Weil :\\n N’excite pas mon peuple à des discords affreux,...\\n Au lieu de :\\n j’adopte la correction que plusieurs critiques ont proposée :\\n Et malheur à qui sent de leurs terribles peines...\\n Au lieu de :\\n je lis, avec plusieurs critiques :\\n\""
      ]
     },
     "execution_count": 29,
     "metadata": {},
     "output_type": "execute_result"
    }
   ],
   "source": [
    "reconstructed[-1]"
   ]
  },
  {
   "cell_type": "markdown",
   "id": "e1e809a1-bab2-44d2-a3c7-3b4489413f34",
   "metadata": {},
   "source": [
    "# check embeds from runner.py test runs"
   ]
  },
  {
   "cell_type": "code",
   "execution_count": 1,
   "id": "7947da4e-b020-4c6f-8378-ae4a5279eef7",
   "metadata": {},
   "outputs": [],
   "source": [
    "import numpy as np\n",
    "import pandas as pd\n",
    "from functions import load_txt_as_lst"
   ]
  },
  {
   "cell_type": "code",
   "execution_count": 2,
   "id": "1508476b-2312-446d-b66a-61576c5a911f",
   "metadata": {},
   "outputs": [
    {
     "data": {
      "text/plain": [
       "(64241, 768)"
      ]
     },
     "execution_count": 2,
     "metadata": {},
     "output_type": "execute_result"
    }
   ],
   "source": [
    "prefix = \"/scratch/craig.car/src_data/urn:cts:greekLit:tlg0004.tlg001\"\n",
    "emb_path = prefix+\".emb\"\n",
    "dim = 768\n",
    "embeds = np.fromfile(emb_path, dtype=np.float32, count=-1)\n",
    "embeds.resize(embeds.shape[0] // dim, dim)\n",
    "embeds.shape"
   ]
  },
  {
   "cell_type": "code",
   "execution_count": 3,
   "id": "9f346356-31e1-4dcc-9db7-729621c8b251",
   "metadata": {},
   "outputs": [],
   "source": [
    "txt_path = prefix+\".overlaps\"\n"
   ]
  },
  {
   "cell_type": "code",
   "execution_count": 4,
   "id": "a8fa7cc3-c434-4574-8c5c-d0b07cac9f68",
   "metadata": {},
   "outputs": [],
   "source": [
    "txt = load_txt_as_lst(txt_path)\n"
   ]
  },
  {
   "cell_type": "code",
   "execution_count": 5,
   "id": "aa75d66d-a6ad-4ea0-a5b3-5e8b0af4ab2b",
   "metadata": {},
   "outputs": [
    {
     "data": {
      "text/plain": [
       "64241"
      ]
     },
     "execution_count": 5,
     "metadata": {},
     "output_type": "execute_result"
    }
   ],
   "source": [
    "len(txt)"
   ]
  }
 ],
 "metadata": {
  "kernelspec": {
   "display_name": "Python 3 (ipykernel)",
   "language": "python",
   "name": "python3"
  },
  "language_info": {
   "codemirror_mode": {
    "name": "ipython",
    "version": 3
   },
   "file_extension": ".py",
   "mimetype": "text/x-python",
   "name": "python",
   "nbconvert_exporter": "python",
   "pygments_lexer": "ipython3",
   "version": "3.7.13"
  }
 },
 "nbformat": 4,
 "nbformat_minor": 5
}
