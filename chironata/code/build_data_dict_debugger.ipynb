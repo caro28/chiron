{
 "cells": [
  {
   "cell_type": "code",
   "execution_count": 1,
   "id": "fb86e78e-5676-42d7-8574-b2f31ba0656d",
   "metadata": {},
   "outputs": [],
   "source": [
    "import json\n",
    "from ast import literal_eval\n",
    "from functions import read_alignments, load_txt_as_lst\n",
    "from collections import defaultdict"
   ]
  },
  {
   "cell_type": "code",
   "execution_count": 84,
   "id": "be6f44fc-90fe-43ea-8b1d-1715b6e0f1dd",
   "metadata": {},
   "outputs": [],
   "source": [
    "def build__src_2_tgt_dict(alignments_lst):\n",
    "    '''\n",
    "    If alignment is null on one side, inserts \"null\" \n",
    "    '''\n",
    "    src_id_to_tgt_ids = defaultdict(set)\n",
    "    print(f\"last align is {alignments_lst[-1]}\")\n",
    "    for src, tgt in alignments_lst:\n",
    "        if (src, tgt) == ([], []):\n",
    "            continue\n",
    "        else:\n",
    "            if src == []:\n",
    "                src = [\"null\"]\n",
    "            if tgt == []:\n",
    "                tgt = [\"null\"]\n",
    "            for src_id in src:\n",
    "                for tgt_id in tgt:\n",
    "                    src_id_to_tgt_ids[src_id].add(tgt_id)\n",
    "    print(src_id_to_tgt_ids[\"null\"])\n",
    "    print(src_id_to_tgt_ids[4418])\n",
    "    print(src_id_to_tgt_ids[4419])\n",
    "    return src_id_to_tgt_ids"
   ]
  },
  {
   "cell_type": "markdown",
   "id": "1edbff6f-f279-4759-b220-8f5013f765f9",
   "metadata": {
    "jp-MarkdownHeadingCollapsed": true,
    "tags": []
   },
   "source": [
    "# Build logic"
   ]
  },
  {
   "cell_type": "code",
   "execution_count": 24,
   "id": "81bfaeae-4a85-4cf0-8e73-181d81fef338",
   "metadata": {},
   "outputs": [],
   "source": [
    "# thuc1_aligns_rslts = \"/home/craig.car/repos/chiron/chironata/data/alignments_rslts/urn:cts:greekLit:tlg0003.tlg001_thucydides_1_1852.rslts\"\n",
    "# thuc2_aligns_rslts = \"/home/craig.car/repos/chiron/chironata/data/alignments_rslts/urn:cts:greekLit:tlg0003.tlg001_thucydides_1863.rslts\""
   ]
  },
  {
   "cell_type": "code",
   "execution_count": null,
   "id": "ba2ebd9c-5604-492e-ac46-b1ba2d769a75",
   "metadata": {},
   "outputs": [],
   "source": [
    "# thuc1_aligns = read_alignments(thuc1_aligns_rslts)\n",
    "# thuc2_aligns = read_alignments(thuc2_aligns_rslts)"
   ]
  },
  {
   "cell_type": "code",
   "execution_count": null,
   "id": "ca741066-da9f-4679-870c-9968acbcd0b6",
   "metadata": {},
   "outputs": [],
   "source": [
    "# # top level: filename would be \"urn:cts:greekLit:tlg0003.tlg001.json\"\n",
    "# thucydides = {}\n",
    "\n",
    "# # dict for thuc1 translation\n",
    "# thucydides_1_1852 = {}"
   ]
  },
  {
   "cell_type": "code",
   "execution_count": null,
   "id": "a04d32cd-c862-4d69-908b-3bf77367a97c",
   "metadata": {},
   "outputs": [],
   "source": [
    "# thucydides_1_1852[\"aligns_idx\"] = build__src_2_tgt_dict(thuc1_aligns)"
   ]
  },
  {
   "cell_type": "code",
   "execution_count": null,
   "id": "dcdd4e62-d2a5-4d03-84ba-64c8b0ccdfd5",
   "metadata": {},
   "outputs": [],
   "source": [
    "# thucydides_1_1852[\"aligns_idx\"][0]"
   ]
  },
  {
   "cell_type": "code",
   "execution_count": null,
   "id": "78f33e14-d127-42f7-9bf6-0240a02b8240",
   "metadata": {},
   "outputs": [],
   "source": [
    "# thucydides[\"thucydides_1_1852\"] = thucydides_1_1852"
   ]
  },
  {
   "cell_type": "code",
   "execution_count": null,
   "id": "0eee6b68-f4d2-4a6e-9dd3-fc7440eb55d1",
   "metadata": {},
   "outputs": [],
   "source": [
    "# thucydides_sents = load_txt_as_lst(\"/home/craig.car/repos/chiron/chironata/data/src_data/urn:cts:greekLit:tlg0003.tlg001.sents\")\n",
    "# thuc1_sents = load_txt_as_lst(\"/home/craig.car/repos/chiron/chironata/data/french_trans-dev/thucydides_1_1852.sents\")"
   ]
  },
  {
   "cell_type": "code",
   "execution_count": null,
   "id": "1ab0ea88-0629-4d03-87c9-a7cf5053b0d9",
   "metadata": {},
   "outputs": [],
   "source": [
    "# # sending to file added newlines to end of each line - strip\n",
    "# thucydides_sents = [sent.rstrip(\"\\n\") for sent in thucydides_sents]\n",
    "# thuc1_sents = [sent.rstrip(\"\\n\") for sent in thuc1_sents]"
   ]
  },
  {
   "cell_type": "code",
   "execution_count": null,
   "id": "f2e38f50-297d-42a4-b672-17ee51ea5779",
   "metadata": {},
   "outputs": [],
   "source": [
    "# src_txt_keys = [num for num in range(len(thucydides_sents))]\n",
    "# src_txt = dict(zip(src_txt_keys, thucydides_sents))"
   ]
  },
  {
   "cell_type": "code",
   "execution_count": null,
   "id": "962d2ba0-51d2-4b71-bfcd-90ecb50ac916",
   "metadata": {},
   "outputs": [],
   "source": [
    "# tgt_txt_keys = [num for num in range(len(thuc1_sents))]\n",
    "# print(len(tgt_txt_keys))\n",
    "# tgt_txt = dict(zip(tgt_txt_keys, thuc1_sents))\n",
    "# print(len(thuc1_sents))"
   ]
  },
  {
   "cell_type": "code",
   "execution_count": null,
   "id": "36e55fd7-aaa3-43d1-919e-0aa6877c4780",
   "metadata": {
    "tags": []
   },
   "outputs": [],
   "source": [
    "# thucydides[\"src_text\"] = src_txt\n",
    "# thucydides[\"thucydides_1_1852\"][\"tgt_text\"] = tgt_txt"
   ]
  },
  {
   "cell_type": "markdown",
   "id": "b90aa41f-17c7-43cc-bd3e-0ba35fe60161",
   "metadata": {},
   "source": [
    "# Build with functions"
   ]
  },
  {
   "cell_type": "code",
   "execution_count": 78,
   "id": "a88350c6-fc79-4aae-9004-2df8eb3050ea",
   "metadata": {
    "tags": []
   },
   "outputs": [],
   "source": [
    "def initialize_text_dict(src_sents_path):\n",
    "    '''\n",
    "    Initialize dict, build dict of src idx 2 src sent\n",
    "    '''\n",
    "    text_dict = {}\n",
    "    sents = load_txt_as_lst(src_sents_path)\n",
    "    sents = [sent.rstrip(\"\\n\") for sent in sents]\n",
    "    txt_keys = [num for num in range(len(sents))]\n",
    "    txt_dict = dict(zip(txt_keys, sents))\n",
    "    text_dict[\"src_text\"] = txt_dict\n",
    "    return text_dict\n",
    "\n",
    "def build_translation_dict(aligns_rslts_path, tgt_sents_path):\n",
    "    aligns = read_alignments(aligns_rslts_path)\n",
    "    transl_dict = {}\n",
    "    # build dict of src idx 2 tgt idx\n",
    "    transl_dict[\"aligns_idx\"] = build__src_2_tgt_dict(aligns)\n",
    "    print(len(transl_dict[\"aligns_idx\"]))\n",
    "    # build dict of tgt idx 2 tgt sent\n",
    "    tgt_sents = load_txt_as_lst(tgt_sents_path)\n",
    "    # get keys: idx of tgt sents\n",
    "    tgt_sents_idx = [num for num in range(len(tgt_sents))]\n",
    "    # strip trailing \\n from writing file to text; these are vals\n",
    "    tgt_sents = [sent.rstrip(\"\\n\") for sent in tgt_sents]\n",
    "    tgt_txt_dict = dict(zip(tgt_sents_idx, tgt_sents))\n",
    "    transl_dict[\"tgt_text\"] = tgt_txt_dict\n",
    "    return transl_dict"
   ]
  },
  {
   "cell_type": "code",
   "execution_count": 85,
   "id": "d3f41505-1092-4480-a440-e649a21cbb99",
   "metadata": {},
   "outputs": [
    {
     "name": "stdout",
     "output_type": "stream",
     "text": [
      "last align is ([4418], [5858])\n",
      "{4746, 5003, 5004, 5642, 5643, 5774, 5412, 4913, 4158, 5318, 5192, 4937, 3658, 723, 2515, 5593, 5850, 4195, 4196, 4200, 5758}\n",
      "{5858}\n",
      "set()\n",
      "4421\n"
     ]
    }
   ],
   "source": [
    "# build test from functions\n",
    "thuc1_aligns_rslts = \"/home/craig.car/repos/chiron/chironata/data/alignments_rslts/urn:cts:greekLit:tlg0003.tlg001_thucydides_1_1852.rslts\"\n",
    "thuc_sents_path = \"/home/craig.car/repos/chiron/chironata/data/src_data/urn:cts:greekLit:tlg0003.tlg001.sents\"\n",
    "thucydides = initialize_text_dict(thuc_sents_path)\n",
    "thuc1_sents_path = \"/home/craig.car/repos/chiron/chironata/data/french_trans-dev/thucydides_1_1852.sents\"\n",
    "thucydides[\"thucydides_1_1852\"] = build_translation_dict(thuc1_aligns_rslts, thuc1_sents_path)"
   ]
  },
  {
   "cell_type": "code",
   "execution_count": 87,
   "id": "cbd39f79-5bb1-4486-9545-72b215249c75",
   "metadata": {},
   "outputs": [
    {
     "data": {
      "text/plain": [
       "dict_keys(['src_text', 'thucydides_1_1852'])"
      ]
     },
     "execution_count": 87,
     "metadata": {},
     "output_type": "execute_result"
    }
   ],
   "source": [
    "thucydides.keys()"
   ]
  },
  {
   "cell_type": "code",
   "execution_count": 88,
   "id": "0f473469-cc9f-44aa-8fb6-3238ffa05255",
   "metadata": {},
   "outputs": [
    {
     "data": {
      "text/plain": [
       "dict_keys(['aligns_idx', 'tgt_text'])"
      ]
     },
     "execution_count": 88,
     "metadata": {},
     "output_type": "execute_result"
    }
   ],
   "source": [
    "thucydides['thucydides_1_1852'].keys()"
   ]
  },
  {
   "cell_type": "code",
   "execution_count": 89,
   "id": "258c5e3b-7fe0-4a02-af39-3c0826d8d5d8",
   "metadata": {},
   "outputs": [
    {
     "name": "stdout",
     "output_type": "stream",
     "text": [
      "last align is ([4416, 4417, 4418], [10353])\n",
      "{0, 1, 2, 3, 4, 5, 1536, 1537, 1538, 1539, 1540, 1541, 1542, 13, 14, 1543, 1544, 1545, 1546, 19, 20, 21, 22, 23, 24, 25, 26, 27, 28, 29, 30, 31, 32, 33, 34, 35, 36, 37, 38, 39, 4127, 4128, 4129, 4130, 4131, 4132, 4139, 4140, 4141, 4142, 4143, 4144, 4145, 4146, 4147, 4148, 4149, 4150, 4151, 4155, 4156, 5696, 5697, 5698, 5699, 4164, 5700, 5701, 5702, 5703, 5704, 5705, 5706, 5707, 5708, 5709, 5710, 5711, 5712, 5713, 5714, 5715, 5716, 5724, 5725, 5726, 5727, 5728, 5735, 1547, 5736, 5737, 5738, 5739, 1548, 5740, 5741, 5742, 5743, 1549, 5744, 5745, 5746, 5747, 1550, 5748, 5749, 5750, 5751, 1551, 1552, 1553, 9206, 6837, 6838, 6839, 6840, 6841, 6842, 6843, 6844, 6845, 6846, 6847, 6848, 6849, 6850, 6851, 6852, 6853, 6854, 6855, 6856, 6857, 9207, 6864, 6865, 6866, 6867, 6868, 6869, 6870, 6871, 6872, 6873, 6874, 6875, 2780, 2781, 2782, 2783, 2784, 2785, 2786, 2787, 2788, 2789, 6877, 6878, 6879, 6880, 2794, 2795, 2796, 2797, 2798, 2799, 2800, 2801, 2802, 2803, 2804, 2805, 2806, 2807, 2808, 2809, 2810, 2811, 4120, 9208, 4121, 9209, 9210, 4122, 9211, 4123, 9212, 4124, 9213, 4125, 9214, 4126, 9215, 9216, 6876, 9217, 9218, 9219, 9220, 9221, 4930, 4931, 8088, 8089, 8090, 8091, 8092, 8093, 8094, 8095, 8096, 8097, 8098, 8099, 8100, 8101, 8102, 8103, 8104, 8105, 8106, 8107, 8108, 8109, 8110, 8111, 8112, 8113, 8114, 8115, 8116, 8117, 8118, 8119, 8120, 8121, 8122, 8123, 8124, 8125, 8126, 8127, 8128, 8129, 8130, 8131, 9158, 9159, 9160, 9161, 9162, 9163, 9164, 9165, 9166, 9167, 9168, 9169, 9170, 9171, 9172, 9173, 9174, 9175, 9176, 9177, 9178, 9179, 9180, 9181, 9182, 9183, 9184, 9185, 9186, 9187, 9188, 9189, 9190, 9191, 9192, 9193, 9194, 9195, 9196, 9197, 9198, 1519, 1520, 1521, 1522, 1523, 9199, 9200, 9201, 9202, 9203, 9204, 9205, 1531, 1532, 1533, 1534, 1535}\n",
      "{10353}\n",
      "set()\n",
      "4421\n"
     ]
    }
   ],
   "source": [
    "# add another translation to test\n",
    "thuc2_aligns_rslts = \"/home/craig.car/repos/chiron/chironata/data/alignments_rslts/urn:cts:greekLit:tlg0003.tlg001_thucydides_1863.rslts\"\n",
    "thuc2_sents_path = \"/home/craig.car/repos/chiron/chironata/data/french_trans-dev/thucydides_1863.sents\"\n",
    "thucydides[\"thucydides_1863\"] = build_translation_dict(thuc2_aligns_rslts, thuc2_sents_path)"
   ]
  },
  {
   "cell_type": "code",
   "execution_count": 90,
   "id": "4c454910-0a54-403f-abd1-0a1c17f2d1ab",
   "metadata": {},
   "outputs": [
    {
     "data": {
      "text/plain": [
       "dict_keys(['src_text', 'thucydides_1_1852', 'thucydides_1863'])"
      ]
     },
     "execution_count": 90,
     "metadata": {},
     "output_type": "execute_result"
    }
   ],
   "source": [
    "thucydides.keys()"
   ]
  },
  {
   "cell_type": "code",
   "execution_count": 91,
   "id": "961114b2-6f35-4ba4-be2c-f0aae410fd94",
   "metadata": {},
   "outputs": [
    {
     "data": {
      "text/plain": [
       "dict_keys(['aligns_idx', 'tgt_text'])"
      ]
     },
     "execution_count": 91,
     "metadata": {},
     "output_type": "execute_result"
    }
   ],
   "source": [
    "thucydides[\"thucydides_1863\"].keys()"
   ]
  },
  {
   "cell_type": "code",
   "execution_count": 92,
   "id": "304d17b3-6043-4758-b9a6-4b82c9a78a3a",
   "metadata": {},
   "outputs": [
    {
     "data": {
      "text/plain": [
       "4421"
      ]
     },
     "execution_count": 92,
     "metadata": {},
     "output_type": "execute_result"
    }
   ],
   "source": [
    "len(thucydides[\"thucydides_1863\"]['aligns_idx'].keys())"
   ]
  },
  {
   "cell_type": "code",
   "execution_count": 93,
   "id": "01d7c2b9-fc48-4eb9-b8e2-48be5328acf5",
   "metadata": {},
   "outputs": [
    {
     "data": {
      "text/plain": [
       "10354"
      ]
     },
     "execution_count": 93,
     "metadata": {},
     "output_type": "execute_result"
    }
   ],
   "source": [
    "len(thucydides[\"thucydides_1863\"]['tgt_text'].keys())"
   ]
  },
  {
   "cell_type": "code",
   "execution_count": 94,
   "id": "49858f39-1f09-48be-9096-4ca26210ecc3",
   "metadata": {},
   "outputs": [
    {
     "name": "stdout",
     "output_type": "stream",
     "text": [
      "{10353}\n",
      "set()\n"
     ]
    }
   ],
   "source": [
    "# last value is empty. also in src2tgt dict. but doesn't seem to cause errors?\n",
    "print(thucydides[\"thucydides_1863\"]['aligns_idx'][4418])\n",
    "print(thucydides[\"thucydides_1863\"]['aligns_idx'][4419])"
   ]
  },
  {
   "cell_type": "code",
   "execution_count": 95,
   "id": "d15ac9d3-760b-411e-97a4-12a50ce2e9b5",
   "metadata": {},
   "outputs": [
    {
     "data": {
      "text/plain": [
       "']'"
      ]
     },
     "execution_count": 95,
     "metadata": {},
     "output_type": "execute_result"
    }
   ],
   "source": [
    "thucydides[\"src_text\"][4418]"
   ]
  },
  {
   "cell_type": "code",
   "execution_count": 96,
   "id": "836fcc60-1a96-43f6-ac8c-fe01b34d0301",
   "metadata": {},
   "outputs": [],
   "source": [
    "test = load_txt_as_lst(thuc2_aligns_rslts)"
   ]
  },
  {
   "cell_type": "code",
   "execution_count": 97,
   "id": "9df65128-fab5-49a1-9d17-7d2674c714ca",
   "metadata": {},
   "outputs": [
    {
     "data": {
      "text/plain": [
       "'[4416, 4417, 4418]:[10353]:0.566336\\n'"
      ]
     },
     "execution_count": 97,
     "metadata": {},
     "output_type": "execute_result"
    }
   ],
   "source": [
    "test[-1]"
   ]
  },
  {
   "cell_type": "code",
   "execution_count": 98,
   "id": "21eb7bf0-f493-473a-9104-08519db7d0d0",
   "metadata": {},
   "outputs": [
    {
     "name": "stdout",
     "output_type": "stream",
     "text": [
      "4678\n"
     ]
    }
   ],
   "source": [
    "print(len(test))"
   ]
  },
  {
   "cell_type": "code",
   "execution_count": null,
   "id": "32c98df4-6376-4c4c-b3ff-1d64ea6f55de",
   "metadata": {},
   "outputs": [],
   "source": []
  }
 ],
 "metadata": {
  "kernelspec": {
   "display_name": "Python 3 (ipykernel)",
   "language": "python",
   "name": "python3"
  },
  "language_info": {
   "codemirror_mode": {
    "name": "ipython",
    "version": 3
   },
   "file_extension": ".py",
   "mimetype": "text/x-python",
   "name": "python",
   "nbconvert_exporter": "python",
   "pygments_lexer": "ipython3",
   "version": "3.7.13"
  }
 },
 "nbformat": 4,
 "nbformat_minor": 5
}
