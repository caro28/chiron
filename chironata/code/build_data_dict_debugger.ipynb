{
 "cells": [
  {
   "cell_type": "code",
   "execution_count": 5,
   "id": "fb86e78e-5676-42d7-8574-b2f31ba0656d",
   "metadata": {},
   "outputs": [
    {
     "ename": "ImportError",
     "evalue": "cannot import name 'read_alignments' from 'functions' (/home/craig.car/repos/chiron/chironata/code/functions.py)",
     "output_type": "error",
     "traceback": [
      "\u001b[0;31m---------------------------------------------------------------------------\u001b[0m",
      "\u001b[0;31mImportError\u001b[0m                               Traceback (most recent call last)",
      "\u001b[0;32m/tmp/ipykernel_4379/4201715806.py\u001b[0m in \u001b[0;36m<module>\u001b[0;34m\u001b[0m\n\u001b[1;32m      1\u001b[0m \u001b[0;32mimport\u001b[0m \u001b[0mjson\u001b[0m\u001b[0;34m\u001b[0m\u001b[0;34m\u001b[0m\u001b[0m\n\u001b[0;32m----> 2\u001b[0;31m \u001b[0;32mfrom\u001b[0m \u001b[0mfunctions\u001b[0m \u001b[0;32mimport\u001b[0m \u001b[0mread_alignments\u001b[0m\u001b[0;34m\u001b[0m\u001b[0;34m\u001b[0m\u001b[0m\n\u001b[0m",
      "\u001b[0;31mImportError\u001b[0m: cannot import name 'read_alignments' from 'functions' (/home/craig.car/repos/chiron/chironata/code/functions.py)"
     ]
    }
   ],
   "source": [
    "import json\n",
    "from functions import read_alignments"
   ]
  },
  {
   "cell_type": "code",
   "execution_count": 4,
   "id": "be6f44fc-90fe-43ea-8b1d-1715b6e0f1dd",
   "metadata": {},
   "outputs": [],
   "source": [
    "def build__src_2_tgt_dict(alignments_lst):\n",
    "    '''\n",
    "    If alignment is null on one side, inserts \"null\" \n",
    "    '''\n",
    "    src_id_to_tgt_ids = defaultdict(set)\n",
    "    for src, tgt in alignments_lst:\n",
    "        if src == []:\n",
    "            src = [\"null\"]\n",
    "        if tgt == []:\n",
    "            tgt = [\"null\"]\n",
    "        for src_id in src:\n",
    "            for tgt_id in tgt:\n",
    "                src_id_to_tgt_ids[src_id].add(tgt_id)\n",
    "    return src_id_to_tgt_ids"
   ]
  },
  {
   "cell_type": "code",
   "execution_count": null,
   "id": "b9063830-4f62-4813-9058-4fd05b46d7c5",
   "metadata": {},
   "outputs": [],
   "source": []
  }
 ],
 "metadata": {
  "kernelspec": {
   "display_name": "Python 3 (ipykernel)",
   "language": "python",
   "name": "python3"
  },
  "language_info": {
   "codemirror_mode": {
    "name": "ipython",
    "version": 3
   },
   "file_extension": ".py",
   "mimetype": "text/x-python",
   "name": "python",
   "nbconvert_exporter": "python",
   "pygments_lexer": "ipython3",
   "version": "3.7.13"
  }
 },
 "nbformat": 4,
 "nbformat_minor": 5
}
