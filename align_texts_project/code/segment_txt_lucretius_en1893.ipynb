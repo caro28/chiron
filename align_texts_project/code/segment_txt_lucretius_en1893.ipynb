{
 "cells": [
  {
   "cell_type": "code",
   "execution_count": 2,
   "id": "a30843f4-e2c1-4046-a3e8-2385c87ff01f",
   "metadata": {},
   "outputs": [],
   "source": [
    "import re\n",
    "import json\n",
    "import stanza\n",
    "\n",
    "import numpy as np\n",
    "import pandas as pd\n",
    "\n",
    "from itertools import chain\n",
    "from ast import literal_eval\n",
    "\n",
    "from preprocessing_functions import load_txt_as_lst, split_txt, \\\n",
    "run_stanza, flatten_list, segment_series, preprocess_series, write_file"
   ]
  },
  {
   "cell_type": "markdown",
   "id": "2a443775-ccb1-42ae-8fba-5969040def1a",
   "metadata": {},
   "source": [
    "# Lucretius en1893 no section markers"
   ]
  },
  {
   "cell_type": "code",
   "execution_count": 3,
   "id": "345adf8f-c3d0-4706-93ee-ef5b24abec80",
   "metadata": {},
   "outputs": [],
   "source": [
    "raw_str_path = \"/home/craig.car/repos/chiron/align_texts_project/data/lucretius/lucretius_en1893_str.txt\"\n",
    "en1893_raw_lst = load_txt_as_lst(raw_str_path)"
   ]
  },
  {
   "cell_type": "code",
   "execution_count": 4,
   "id": "21becea2-cceb-4a68-bbe8-eae3c253a722",
   "metadata": {},
   "outputs": [
    {
     "data": {
      "text/plain": [
       "['REMARKS\\n',\n",
       " '\\n',\n",
       " 'ON THE\\n',\n",
       " '   LIFE AND POEM OF LUCRETIUS.\\n',\n",
       " '  OF the life of Lucretius but little information has reached us.  Ad nos vix tenuis famæ perlabitur aura.\\n',\n",
       " '\\n',\n",
       " 'That he was a Roman by birth, is inferred from the pas  sages in his poem in which he speaks of the Roman world as  his country,1 and of the Roman language as his native tongue.2\\n',\n",
       " '\\n',\n",
       " 'As to the time of his birth, it is stated by Eusebius in his  Chronicon, that he was born in the second year of the hundred  and seventy-first Olympiad, or ninety-five years before Christ.  At this period, Ennius had been dead about seventy years ;  Cicero was in his twelfth year; twenty-five years were to  elapse before the birth of Virgil, and four before that of Julius  Caesar. His style, indeed, would make him seem older, but  its antiquated character may be partly affected, in imitation,  perhaps, of Ennius, for whom he expresses great veneration.3\\n',\n",
       " '\\n']"
      ]
     },
     "execution_count": 4,
     "metadata": {},
     "output_type": "execute_result"
    }
   ],
   "source": [
    "en1893_raw_lst[:10]"
   ]
  },
  {
   "cell_type": "code",
   "execution_count": 5,
   "id": "ebcf11a6-c0df-4c77-bc3b-0cd270c9beac",
   "metadata": {},
   "outputs": [],
   "source": [
    "en1893_str = \" \".join(en1893_raw_lst)"
   ]
  },
  {
   "cell_type": "code",
   "execution_count": 6,
   "id": "d11de19b-d508-4619-8412-3d584805f448",
   "metadata": {},
   "outputs": [
    {
     "name": "stderr",
     "output_type": "stream",
     "text": [
      "2023-07-04 11:35:02 INFO: Checking for updates to resources.json in case models have been updated.  Note: this behavior can be turned off with download_method=None or download_method=DownloadMethod.REUSE_RESOURCES\n"
     ]
    },
    {
     "data": {
      "application/vnd.jupyter.widget-view+json": {
       "model_id": "2c800cbcff964605a2a0f4ec2edc398b",
       "version_major": 2,
       "version_minor": 0
      },
      "text/plain": [
       "Downloading https://raw.githubusercontent.com/stanfordnlp/stanza-resources/main/resources_1.5.0.json:   0%|   …"
      ]
     },
     "metadata": {},
     "output_type": "display_data"
    },
    {
     "name": "stderr",
     "output_type": "stream",
     "text": [
      "2023-07-04 11:35:02 INFO: Loading these models for language: en (English):\n",
      "========================\n",
      "| Processor | Package  |\n",
      "------------------------\n",
      "| tokenize  | combined |\n",
      "========================\n",
      "\n",
      "2023-07-04 11:35:02 WARNING: GPU requested, but is not available!\n",
      "2023-07-04 11:35:02 INFO: Using device: cpu\n",
      "2023-07-04 11:35:02 INFO: Loading: tokenize\n",
      "2023-07-04 11:35:02 INFO: Done loading processors!\n"
     ]
    }
   ],
   "source": [
    "# load stanza model for lang\n",
    "lang_ = \"en\"\n",
    "stanza_model_ = stanza.Pipeline(lang=lang_, processors='tokenize', use_gpu=True)"
   ]
  },
  {
   "cell_type": "code",
   "execution_count": 7,
   "id": "828e581a-174a-407f-b9e2-15cb7a9c7615",
   "metadata": {},
   "outputs": [
    {
     "name": "stdout",
     "output_type": "stream",
     "text": [
      "segmented str into sentences\n"
     ]
    }
   ],
   "source": [
    "en1983_sents = preprocess_series(en1893_str, \"en\", stanza_model_)"
   ]
  },
  {
   "cell_type": "code",
   "execution_count": 8,
   "id": "4a0e6d06-2096-4f97-9f30-232438792f70",
   "metadata": {},
   "outputs": [
    {
     "data": {
      "text/plain": [
       "13966"
      ]
     },
     "execution_count": 8,
     "metadata": {},
     "output_type": "execute_result"
    }
   ],
   "source": [
    "len(en1983_sents)"
   ]
  },
  {
   "cell_type": "code",
   "execution_count": 9,
   "id": "88e10112-d440-4600-9034-3624ce1ae94c",
   "metadata": {},
   "outputs": [
    {
     "data": {
      "text/plain": [
       "['REMARKS',\n",
       " 'ON THE',\n",
       " 'LIFE AND POEM OF LUCRETIUS.',\n",
       " 'OF the life of Lucretius but little information has reached us.',\n",
       " 'Ad nos vix tenuis famæ perlabitur aura.',\n",
       " 'That he was a Roman by birth, is inferred from the pas  sages in his poem in which he speaks of the Roman world as  his country,1 and of the Roman language as his native tongue.',\n",
       " '2',\n",
       " 'As to the time of his birth, it is stated by Eusebius in his  Chronicon, that he was born in the second year of the hundred  and seventy-first Olympiad, or ninety-five years before Christ.',\n",
       " 'At this period, Ennius had been dead about seventy years ;',\n",
       " 'Cicero was in his twelfth year;']"
      ]
     },
     "execution_count": 9,
     "metadata": {},
     "output_type": "execute_result"
    }
   ],
   "source": [
    "en1983_sents[:10]"
   ]
  },
  {
   "cell_type": "code",
   "execution_count": 10,
   "id": "0a66209d-7754-48f9-b612-3eb795734c92",
   "metadata": {},
   "outputs": [],
   "source": [
    "# path_out = \"/home/craig.car/repos/chiron/align_texts_project/data/lucretius/lucretius_en1893_sents.txt\"\n",
    "# write_file(en1983_sents, path_out)"
   ]
  },
  {
   "cell_type": "markdown",
   "id": "6405f540-9015-4675-af92-ca561dee12e8",
   "metadata": {},
   "source": [
    "# Lucretius en1893 with section markers"
   ]
  },
  {
   "cell_type": "code",
   "execution_count": 11,
   "id": "6915f758-a78b-4283-89b8-162040c8e8b0",
   "metadata": {},
   "outputs": [],
   "source": [
    "raw_path_markers = \"/home/craig.car/repos/chiron/align_texts_project/data/lucretius/lucretius_en1893_str_withsections.txt\"\n",
    "en1893_raw_lst_markers = load_txt_as_lst(raw_path_markers)"
   ]
  },
  {
   "cell_type": "code",
   "execution_count": 12,
   "id": "13f7f8ae-090b-4628-8d29-d6775672168b",
   "metadata": {},
   "outputs": [
    {
     "data": {
      "text/plain": [
       "['#@$% chapter= #@$%\\n',\n",
       " '\\n',\n",
       " '#@$%title#@$%REMARKS\\n',\n",
       " '\\n',\n",
       " '#@$%title#@$%ON THE\\n',\n",
       " '   #@$%title#@$%LIFE AND POEM OF LUCRETIUS.\\n',\n",
       " '  OF the life of Lucretius but little information has reached us.  Ad nos vix tenuis famæ perlabitur aura.\\n',\n",
       " '\\n',\n",
       " 'That he was a Roman by birth, is inferred from the pas  sages in his poem in which he speaks of the Roman world as  his country,1 and of the Roman language as his native tongue.2\\n',\n",
       " '\\n']"
      ]
     },
     "execution_count": 12,
     "metadata": {},
     "output_type": "execute_result"
    }
   ],
   "source": [
    "en1893_raw_lst_markers[:10]"
   ]
  },
  {
   "cell_type": "code",
   "execution_count": 13,
   "id": "f539a505-62e6-438b-9ddf-7e97e8340467",
   "metadata": {},
   "outputs": [],
   "source": [
    "en1893_str_markers = \" \".join(en1893_raw_lst_markers)"
   ]
  },
  {
   "cell_type": "code",
   "execution_count": 14,
   "id": "24cb6b4e-8570-42b9-8257-e4c2c2dd70e8",
   "metadata": {},
   "outputs": [
    {
     "data": {
      "text/plain": [
       "'#@$% chapter= #@$%\\n \\n #@$%title#@$%REMARKS\\n \\n #@$%title#@$%ON THE\\n    #@$%title#@$%LIFE AND POEM OF LUCRETIUS.\\n   OF the life of Lucretius but little information has reached us.  Ad nos vix tenuis famæ perlabitur aura.\\n \\n That he was a Roman by birth, is inferred from the pas  sages in his poem in which he speaks of the Roman world as  his country,1 and of the Roman language as his native tongue.2\\n \\n As to the time of his birth, it is stated by Eusebius in his  Chronicon, that he was born in the second year of the hundred  and seventy-first Olympiad, or ninety-five years before Christ.  At this period, Ennius had been dead about seventy years ;  Cicero was in his twelfth year; twenty-five years were to  elapse before the birth of Virgil, and four before that of Julius  Caesar. His style, indeed, would make him seem older, but  its antiquated character may be partly affected, in imitation,  perhaps, of Ennius, for whom he expresses great veneration.3\\n \\n Concerning his family nothing is '"
      ]
     },
     "execution_count": 14,
     "metadata": {},
     "output_type": "execute_result"
    }
   ],
   "source": [
    "en1893_str_markers[:1000]"
   ]
  },
  {
   "cell_type": "code",
   "execution_count": 15,
   "id": "27733e40-7e60-4423-931b-c06e0292e1b5",
   "metadata": {},
   "outputs": [],
   "source": [
    "en1893_str_markers = en1893_str_markers.replace(\"\\n\", \"\")"
   ]
  },
  {
   "cell_type": "code",
   "execution_count": 16,
   "id": "1cc17979-9229-445f-8572-698fb27cfd68",
   "metadata": {},
   "outputs": [
    {
     "data": {
      "text/plain": [
       "'#@$% chapter= #@$%  #@$%title#@$%REMARKS  #@$%title#@$%ON THE    #@$%title#@$%LIFE AND POEM OF LUCRETIUS.   OF the life of Lucretius but little information has reached us.  Ad nos vix tenuis famæ perlabitur aura.  That he was a Roman by birth, is inferred from the pas  sages in his poem in which he speaks of the Roman world as  his country,1 and of the Roman language as his native tongue.2  As to the time of his birth, it is stated by Eusebius in his  Chronicon, that he was born in the second year of the hundred  and seventy-first Olympiad, or ninety-five years before Christ.  At this period, Ennius had been dead about seventy years ;  Cicero was in his twelfth year; twenty-five years were to  elapse before the birth of Virgil, and four before that of Julius  Caesar. His style, indeed, would make him seem older, but  its antiquated character may be partly affected, in imitation,  perhaps, of Ennius, for whom he expresses great veneration.3  Concerning his family nothing is known. The n'"
      ]
     },
     "execution_count": 16,
     "metadata": {},
     "output_type": "execute_result"
    }
   ],
   "source": [
    "en1893_str_markers[:1000]"
   ]
  },
  {
   "cell_type": "markdown",
   "id": "e0c9d8fa-859d-4e63-bca8-745f4381df72",
   "metadata": {},
   "source": [
    "## Split by section (including chapters)\n",
    "Note: \"#@$%\" added at beginning and end of section markers when extracting text from xml"
   ]
  },
  {
   "cell_type": "code",
   "execution_count": 17,
   "id": "214e56e0-ba84-4897-b945-41ba4fd39cb3",
   "metadata": {},
   "outputs": [],
   "source": [
    "en1893_str_markers_split = en1893_str_markers.split(\"#@$%\")"
   ]
  },
  {
   "cell_type": "code",
   "execution_count": 18,
   "id": "73d28f15-0ec1-44a9-a9d5-97714b964aba",
   "metadata": {
    "tags": []
   },
   "outputs": [
    {
     "data": {
      "text/plain": [
       "['',\n",
       " ' chapter= ',\n",
       " '  ',\n",
       " 'title',\n",
       " 'REMARKS  ',\n",
       " 'title',\n",
       " 'ON THE    ',\n",
       " 'title',\n",
       " 'LIFE AND POEM OF LUCRETIUS.   OF the life of Lucretius but little information has reached us.  Ad nos vix tenuis famæ perlabitur aura.  That he was a Roman by birth, is inferred from the pas  sages in his poem in which he speaks of the Roman world as  his country,1 and of the Roman language as his native tongue.2  As to the time of his birth, it is stated by Eusebius in his  Chronicon, that he was born in the second year of the hundred  and seventy-first Olympiad, or ninety-five years before Christ.  At this period, Ennius had been dead about seventy years ;  Cicero was in his twelfth year; twenty-five years were to  elapse before the birth of Virgil, and four before that of Julius  Caesar. His style, indeed, would make him seem older, but  its antiquated character may be partly affected, in imitation,  perhaps, of Ennius, for whom he expresses great veneration.3  Concerning his family nothing is known. The name of  Lucretius, from the time of Lucretia downwards, occurs fre  quently in the history of Rome, with the surnames Tricipiti  nus, Cinna, Ofella, and others, attached to it; but with whom  the poet was connected, or from whom descended, it is impossi  ble to discover. There was a Lucretius Vespillo contemporary  with him, a senator, mentioned by Cicero and Caesar,5 of  whom Lambinus conjectures that he may have been the  brother; suggesting that the one brother, by engaging in  public life, might have attained senatorial dignity, while the  other, devoting himself to literature and retirement, might have ',\n",
       " 'note',\n",
       " ' 1 Nam neque nos agere hoc patriai tempore iniquo, etc. i. 42. ',\n",
       " 'note_end',\n",
       " ' ',\n",
       " 'note',\n",
       " ' 2 I. 31; ii. 259. ',\n",
       " 'note_end',\n",
       " ' ',\n",
       " 'note',\n",
       " '2 I. 118. ',\n",
       " 'note_end']"
      ]
     },
     "execution_count": 18,
     "metadata": {},
     "output_type": "execute_result"
    }
   ],
   "source": [
    "en1893_str_markers_split[:20]"
   ]
  },
  {
   "cell_type": "code",
   "execution_count": 19,
   "id": "af349436-97b8-4427-9311-4d070c7c5298",
   "metadata": {},
   "outputs": [],
   "source": [
    "# define patterns\n",
    "chapter_marker = re.compile(\" chapter= \") # 4: commentary, prose translation, metric translation, index\n",
    "title_marker = re.compile(\"title\")\n",
    "title_commentary = re.compile(\"ARGUMENT\") # startswith\n",
    "title_book = re.compile(\"BOOK\")\n",
    "title_index = re.compile(\"INDEX.\")\n",
    "para_end = re.compile(\"paragraph end\")\n",
    "note_start = re.compile(\"note\")\n",
    "note_end = re.compile(\"note_end\")"
   ]
  },
  {
   "cell_type": "code",
   "execution_count": 20,
   "id": "0ccc16a3-cab9-4317-ab55-558782c458cc",
   "metadata": {},
   "outputs": [],
   "source": [
    "test = \"ARGUMENT. asoidau\""
   ]
  },
  {
   "cell_type": "code",
   "execution_count": 21,
   "id": "a3077652-8bf2-463c-9cb4-8baa1e58362c",
   "metadata": {},
   "outputs": [
    {
     "data": {
      "text/plain": [
       "True"
      ]
     },
     "execution_count": 21,
     "metadata": {},
     "output_type": "execute_result"
    }
   ],
   "source": [
    "test.startswith(\"ARGUMENT.\")"
   ]
  },
  {
   "cell_type": "code",
   "execution_count": 22,
   "id": "fc5ce4aa-ea49-4364-9d08-9e6753316942",
   "metadata": {},
   "outputs": [
    {
     "data": {
      "text/plain": [
       "5765"
      ]
     },
     "execution_count": 22,
     "metadata": {},
     "output_type": "execute_result"
    }
   ],
   "source": [
    "len(en1893_str_markers_split)"
   ]
  },
  {
   "cell_type": "code",
   "execution_count": 23,
   "id": "b7645fad-d4b5-4913-b356-1252fa3a6dc5",
   "metadata": {},
   "outputs": [],
   "source": [
    "chapteridx2chaptername = {}\n",
    "chapteridx2chaptername[0] = \"foreword\"\n",
    "chapteridx2chaptername[1] = \"prose_translation\"\n",
    "chapteridx2chaptername[2] = \"metric_translation\"\n",
    "chapteridx2chaptername[3] = \"index\""
   ]
  },
  {
   "cell_type": "code",
   "execution_count": 24,
   "id": "d74395c1-b405-4570-bdab-c89d8a66e274",
   "metadata": {},
   "outputs": [
    {
     "data": {
      "text/plain": [
       "['',\n",
       " ' chapter= ',\n",
       " '  ',\n",
       " 'title',\n",
       " 'REMARKS  ',\n",
       " 'title',\n",
       " 'ON THE    ',\n",
       " 'title',\n",
       " 'LIFE AND POEM OF LUCRETIUS.   OF the life of Lucretius but little information has reached us.  Ad nos vix tenuis famæ perlabitur aura.  That he was a Roman by birth, is inferred from the pas  sages in his poem in which he speaks of the Roman world as  his country,1 and of the Roman language as his native tongue.2  As to the time of his birth, it is stated by Eusebius in his  Chronicon, that he was born in the second year of the hundred  and seventy-first Olympiad, or ninety-five years before Christ.  At this period, Ennius had been dead about seventy years ;  Cicero was in his twelfth year; twenty-five years were to  elapse before the birth of Virgil, and four before that of Julius  Caesar. His style, indeed, would make him seem older, but  its antiquated character may be partly affected, in imitation,  perhaps, of Ennius, for whom he expresses great veneration.3  Concerning his family nothing is known. The name of  Lucretius, from the time of Lucretia downwards, occurs fre  quently in the history of Rome, with the surnames Tricipiti  nus, Cinna, Ofella, and others, attached to it; but with whom  the poet was connected, or from whom descended, it is impossi  ble to discover. There was a Lucretius Vespillo contemporary  with him, a senator, mentioned by Cicero and Caesar,5 of  whom Lambinus conjectures that he may have been the  brother; suggesting that the one brother, by engaging in  public life, might have attained senatorial dignity, while the  other, devoting himself to literature and retirement, might have ',\n",
       " 'note',\n",
       " ' 1 Nam neque nos agere hoc patriai tempore iniquo, etc. i. 42. ',\n",
       " 'note_end',\n",
       " ' ',\n",
       " 'note',\n",
       " ' 2 I. 31; ii. 259. ',\n",
       " 'note_end',\n",
       " ' ',\n",
       " 'note',\n",
       " '2 I. 118. ',\n",
       " 'note_end',\n",
       " ' ',\n",
       " 'note',\n",
       " '4 Cic. Brut. c. 48. ',\n",
       " 'note_end',\n",
       " ' ']"
      ]
     },
     "execution_count": 24,
     "metadata": {},
     "output_type": "execute_result"
    }
   ],
   "source": [
    "en1893_str_markers_split[:25]"
   ]
  },
  {
   "cell_type": "markdown",
   "id": "1926f3ce-9600-453c-bfd9-0587e84221b0",
   "metadata": {
    "jp-MarkdownHeadingCollapsed": true,
    "tags": []
   },
   "source": [
    "## remove empty strings"
   ]
  },
  {
   "cell_type": "code",
   "execution_count": 25,
   "id": "7b9bf5e7-215c-445a-8cd0-552795cce429",
   "metadata": {},
   "outputs": [
    {
     "data": {
      "text/html": [
       "<div>\n",
       "<style scoped>\n",
       "    .dataframe tbody tr th:only-of-type {\n",
       "        vertical-align: middle;\n",
       "    }\n",
       "\n",
       "    .dataframe tbody tr th {\n",
       "        vertical-align: top;\n",
       "    }\n",
       "\n",
       "    .dataframe thead th {\n",
       "        text-align: right;\n",
       "    }\n",
       "</style>\n",
       "<table border=\"1\" class=\"dataframe\">\n",
       "  <thead>\n",
       "    <tr style=\"text-align: right;\">\n",
       "      <th></th>\n",
       "      <th>0</th>\n",
       "    </tr>\n",
       "  </thead>\n",
       "  <tbody>\n",
       "    <tr>\n",
       "      <th>0</th>\n",
       "      <td></td>\n",
       "    </tr>\n",
       "    <tr>\n",
       "      <th>1</th>\n",
       "      <td>chapter=</td>\n",
       "    </tr>\n",
       "    <tr>\n",
       "      <th>2</th>\n",
       "      <td></td>\n",
       "    </tr>\n",
       "    <tr>\n",
       "      <th>3</th>\n",
       "      <td>title</td>\n",
       "    </tr>\n",
       "    <tr>\n",
       "      <th>4</th>\n",
       "      <td>REMARKS</td>\n",
       "    </tr>\n",
       "  </tbody>\n",
       "</table>\n",
       "</div>"
      ],
      "text/plain": [
       "            0\n",
       "0            \n",
       "1   chapter= \n",
       "2            \n",
       "3       title\n",
       "4   REMARKS  "
      ]
     },
     "execution_count": 25,
     "metadata": {},
     "output_type": "execute_result"
    }
   ],
   "source": [
    "df = pd.DataFrame(en1893_str_markers_split)\n",
    "df.head()"
   ]
  },
  {
   "cell_type": "code",
   "execution_count": 26,
   "id": "3b4bb6dc-5814-4402-bb23-c53bed2611ec",
   "metadata": {},
   "outputs": [
    {
     "data": {
      "text/plain": [
       "(5765, 1)"
      ]
     },
     "execution_count": 26,
     "metadata": {},
     "output_type": "execute_result"
    }
   ],
   "source": [
    "df.shape"
   ]
  },
  {
   "cell_type": "code",
   "execution_count": 27,
   "id": "543f3755-8894-4a50-894c-d601f879f751",
   "metadata": {},
   "outputs": [
    {
     "data": {
      "text/plain": [
       "0    0\n",
       "dtype: int64"
      ]
     },
     "execution_count": 27,
     "metadata": {},
     "output_type": "execute_result"
    }
   ],
   "source": [
    "df.isna().sum()"
   ]
  },
  {
   "cell_type": "code",
   "execution_count": 28,
   "id": "4ca9da19-f989-42dd-bc9d-1eb80d42d536",
   "metadata": {},
   "outputs": [],
   "source": [
    "df[0].replace(\"   \", np.nan, inplace=True)\n",
    "df[0].replace(\"  \", np.nan, inplace=True)\n",
    "df[0].replace(\" \", np.nan, inplace=True)\n",
    "df[0].replace(\"\", np.nan, inplace=True)"
   ]
  },
  {
   "cell_type": "code",
   "execution_count": 29,
   "id": "f739ea4e-b7db-4dfe-88ed-170264755b7d",
   "metadata": {},
   "outputs": [
    {
     "data": {
      "text/plain": [
       "0    1238\n",
       "dtype: int64"
      ]
     },
     "execution_count": 29,
     "metadata": {},
     "output_type": "execute_result"
    }
   ],
   "source": [
    "df.isna().sum()"
   ]
  },
  {
   "cell_type": "code",
   "execution_count": 30,
   "id": "0b21dc6f-8f85-4165-bd99-0912f562c86c",
   "metadata": {},
   "outputs": [],
   "source": [
    "df.dropna(inplace=True)"
   ]
  },
  {
   "cell_type": "code",
   "execution_count": 31,
   "id": "0319d0f9-5fe5-4b55-ba3f-dcc1a8560c0f",
   "metadata": {},
   "outputs": [
    {
     "data": {
      "text/html": [
       "<div>\n",
       "<style scoped>\n",
       "    .dataframe tbody tr th:only-of-type {\n",
       "        vertical-align: middle;\n",
       "    }\n",
       "\n",
       "    .dataframe tbody tr th {\n",
       "        vertical-align: top;\n",
       "    }\n",
       "\n",
       "    .dataframe thead th {\n",
       "        text-align: right;\n",
       "    }\n",
       "</style>\n",
       "<table border=\"1\" class=\"dataframe\">\n",
       "  <thead>\n",
       "    <tr style=\"text-align: right;\">\n",
       "      <th></th>\n",
       "      <th>0</th>\n",
       "    </tr>\n",
       "  </thead>\n",
       "  <tbody>\n",
       "    <tr>\n",
       "      <th>1</th>\n",
       "      <td>chapter=</td>\n",
       "    </tr>\n",
       "    <tr>\n",
       "      <th>3</th>\n",
       "      <td>title</td>\n",
       "    </tr>\n",
       "    <tr>\n",
       "      <th>4</th>\n",
       "      <td>REMARKS</td>\n",
       "    </tr>\n",
       "    <tr>\n",
       "      <th>5</th>\n",
       "      <td>title</td>\n",
       "    </tr>\n",
       "    <tr>\n",
       "      <th>6</th>\n",
       "      <td>ON THE</td>\n",
       "    </tr>\n",
       "  </tbody>\n",
       "</table>\n",
       "</div>"
      ],
      "text/plain": [
       "            0\n",
       "1   chapter= \n",
       "3       title\n",
       "4   REMARKS  \n",
       "5       title\n",
       "6  ON THE    "
      ]
     },
     "execution_count": 31,
     "metadata": {},
     "output_type": "execute_result"
    }
   ],
   "source": [
    "df.head()"
   ]
  },
  {
   "cell_type": "code",
   "execution_count": 32,
   "id": "b24704ec-147d-4b75-9c3e-243c7b6271f6",
   "metadata": {},
   "outputs": [
    {
     "data": {
      "text/plain": [
       "(4527, 1)"
      ]
     },
     "execution_count": 32,
     "metadata": {},
     "output_type": "execute_result"
    }
   ],
   "source": [
    "df.shape"
   ]
  },
  {
   "cell_type": "code",
   "execution_count": 33,
   "id": "644c2dff-5650-4f2c-946e-32f05de507c5",
   "metadata": {},
   "outputs": [],
   "source": [
    "en1893_str_markers_split = list(df[0])"
   ]
  },
  {
   "cell_type": "code",
   "execution_count": 34,
   "id": "dc6c4f05-4fa0-42e8-8297-2e9106b39eb6",
   "metadata": {
    "tags": []
   },
   "outputs": [
    {
     "data": {
      "text/plain": [
       "' 2 I. 31; ii. 259. '"
      ]
     },
     "execution_count": 34,
     "metadata": {},
     "output_type": "execute_result"
    }
   ],
   "source": [
    "en1893_str_markers_split[11]"
   ]
  },
  {
   "cell_type": "markdown",
   "id": "f1c996f4-ce03-4114-ad43-6bc2447707e4",
   "metadata": {},
   "source": [
    "## Reconstruct text without markers"
   ]
  },
  {
   "cell_type": "code",
   "execution_count": 35,
   "id": "33843542-dae7-4282-8af7-728282561f73",
   "metadata": {
    "tags": []
   },
   "outputs": [],
   "source": [
    "en_reconstructed = []\n",
    "en_reconstructed_idx = -1\n",
    "\n",
    "chapter_counter = -1\n",
    "chap2idx_start = {}\n",
    "\n",
    "book_counter = 0\n",
    "\n",
    "idx2section_name = {}\n",
    "\n",
    "hit_section_marker = False\n",
    "\n",
    "lst = []\n",
    "\n",
    "for section_idx, section in enumerate(en1893_str_markers_split):\n",
    "    lst.append(hit_section_marker)\n",
    "    \n",
    "    if section == \"\":\n",
    "        continue\n",
    "    elif section == \" \":\n",
    "        continue\n",
    "    elif section == \"  \":\n",
    "        continue\n",
    "        \n",
    "    # if section is chapter marker\n",
    "    elif re.match(chapter_marker, section):\n",
    "        # increment chapter counter\n",
    "        chapter_counter += 1\n",
    "        # reset book counter\n",
    "        book_counter = 0\n",
    "        # mark idx of en_reconstructed where chapter starts\n",
    "        chap2idx_start[chapter_counter] = en_reconstructed_idx\n",
    "    \n",
    "    # if section is title marker\n",
    "    elif re.match(title_marker, section):\n",
    "        hit_section_marker = True\n",
    "        # then next section is a title, which will be added to en_reconstructed\n",
    "        # label as title for titles that don't match instances below (index, book, argument)\n",
    "        label_nextitem = str(chapteridx2chaptername[chapter_counter]) + \"book\" + str(book_counter) + \"title\"\n",
    "        \n",
    "        # if title (next item in list) starts with \"INDEX\"\n",
    "        if en1893_str_markers_split[section_idx+1].startswith(\"INDEX.\"):\n",
    "            # index is in one section only; rename label\n",
    "            label_nextitem = \"index\"\n",
    "\n",
    "        # if next item in list starts with \"BOOK\"\n",
    "        elif en1893_str_markers_split[section_idx+1].startswith(\"BOOK\"):\n",
    "            # new book is starting\n",
    "            book_counter += 1\n",
    "            # rename label\n",
    "            label_nextitem = str(chapteridx2chaptername[chapter_counter]) + \"book\" + str(book_counter) + \"title\"\n",
    "        \n",
    "        # if next item in list starts with \"ARGUMENT\"\n",
    "        elif en1893_str_markers_split[section_idx+1].startswith(\"ARGUMENT\"):\n",
    "            # label as commentary\n",
    "            label_nextitem = str(chapteridx2chaptername[chapter_counter]) + \"book\" + str(book_counter) + \"commentary\"\n",
    "        \n",
    "        continue\n",
    "    \n",
    "    # if section marks the start of a note\n",
    "    # elif re.match(note_start, section):\n",
    "    elif section == \"note\":\n",
    "        if en1893_str_markers_split[section_idx+1] == \"note_end\":\n",
    "            hit_section_marker = False\n",
    "            continue\n",
    "        else:\n",
    "            hit_section_marker = True\n",
    "            # then next section is a footnote, add to en_reconstructed\n",
    "            label_nextitem = str(chapteridx2chaptername[chapter_counter]) + \"book\" + str(book_counter) + \"note\"\n",
    "    \n",
    "    elif re.match(note_end, section):\n",
    "        # do nothing; just there to separate footnote from following text\n",
    "        hit_section_marker = False\n",
    "        continue\n",
    "    \n",
    "    elif re.match(para_end, section):\n",
    "        # do nothing; just there to create separations in sections from raw text\n",
    "        hit_section_marker = False\n",
    "        continue\n",
    "    \n",
    "    else:\n",
    "        # all markers have been excluded; append to en_reconstructed\n",
    "        en_reconstructed.append(section)\n",
    "        en_reconstructed_idx += 1\n",
    "        \n",
    "        if hit_section_marker == True:\n",
    "            idx2section_name[en_reconstructed_idx] = label_nextitem\n",
    "            hit_section_marker = False\n",
    "            \n",
    "        else:\n",
    "            idx2section_name[en_reconstructed_idx] = str(chapteridx2chaptername[chapter_counter]) + \"book\" + str(book_counter)\n"
   ]
  },
  {
   "cell_type": "code",
   "execution_count": 36,
   "id": "d217d6a1-0fbd-4359-b0be-f44867048e6c",
   "metadata": {},
   "outputs": [],
   "source": [
    "# fix errors here, then initialize en1983_sents_tokenized again\n",
    "for sent_idx, sent in enumerate(en_reconstructed):\n",
    "    en_reconstructed[sent_idx] = en_reconstructed[sent_idx].replace(\".”1\", \".” 1\")\n",
    "    en_reconstructed[sent_idx] = en_reconstructed[sent_idx].replace(\"tongue.2\", \"tongue. 2\")\n",
    "    en_reconstructed[sent_idx] = en_reconstructed[sent_idx].replace(\"veneration.3\", \"veneration. 3\")\n",
    "    en_reconstructed[sent_idx] = en_reconstructed[sent_idx].replace(\"insane.3\", \"insane. 3\")\n",
    "    en_reconstructed[sent_idx] = en_reconstructed[sent_idx].replace(\".1\", \". 1\")\n",
    "    en_reconstructed[sent_idx] = en_reconstructed[sent_idx].replace(\"opinion.3\", \"opinion. 3\")\n",
    "    en_reconstructed[sent_idx] = en_reconstructed[sent_idx].replace(\".7\", \". 7\")\n",
    "    en_reconstructed[sent_idx] = en_reconstructed[sent_idx].replace(\".2\", \". 2\")\n",
    "    en_reconstructed[sent_idx] = en_reconstructed[sent_idx].replace(\".4\", \". 4\")\n",
    "    en_reconstructed[sent_idx] = en_reconstructed[sent_idx].replace('language;\"', 'language; \"')\n",
    "    en_reconstructed[sent_idx] = en_reconstructed[sent_idx].replace('Lucretius;\"', 'Lucretius; \"')\n",
    "    en_reconstructed[sent_idx] = en_reconstructed[sent_idx].replace(\"?1\", \"? 1\")\n",
    "    en_reconstructed[sent_idx] = en_reconstructed[sent_idx].replace(\".5\", \". 5\")\n",
    "    en_reconstructed[sent_idx] = en_reconstructed[sent_idx].replace(\".6\", \". 6\")\n",
    "    en_reconstructed[sent_idx] = en_reconstructed[sent_idx].replace(\"It;.\", \"It; .\")\n",
    "    en_reconstructed[sent_idx] = en_reconstructed[sent_idx].replace(\":8\", \": 8\")\n",
    "    en_reconstructed[sent_idx] = en_reconstructed[sent_idx].replace(\".3\", \". 3\")\n",
    "    en_reconstructed[sent_idx] = en_reconstructed[sent_idx].replace(\":2\", \": 2\")\n",
    "    en_reconstructed[sent_idx] = en_reconstructed[sent_idx].replace(\"?2\", \"? 2\")\n",
    "    en_reconstructed[sent_idx] = en_reconstructed[sent_idx].replace('ἔχειπρός.”Wakefield.', 'ἔχειπρός. ”Wakefield.')\n",
    "    en_reconstructed[sent_idx] = en_reconstructed[sent_idx].replace(\"Tacitus. 11\", \"Tacitus.11\")\n",
    "    en_reconstructed[sent_idx] = en_reconstructed[sent_idx].replace('Æolia.”What', 'Æolia. ”What')\n",
    "    en_reconstructed[sent_idx] = en_reconstructed[sent_idx].replace('concerned).—', 'concerned). —')\n",
    "    en_reconstructed[sent_idx] = en_reconstructed[sent_idx].replace('.—', '. —')\n",
    "    en_reconstructed[sent_idx] = en_reconstructed[sent_idx].replace(\"nix.—Are\", \"nix. —Are\")\n",
    "    en_reconstructed[sent_idx] = en_reconstructed[sent_idx].replace(\"improvida.—Find\", \"improvida. —Find\")\n",
    "    en_reconstructed[sent_idx] = en_reconstructed[sent_idx].replace(\";\", \"; \")\n",
    "    en_reconstructed[sent_idx] = en_reconstructed[sent_idx].replace(\"fleshes.”\", \"fleshes. ”\")\n",
    "    en_reconstructed[sent_idx] = en_reconstructed[sent_idx].replace(\".]Ver\", \".] Ver\")\n",
    "    en_reconstructed[sent_idx] = en_reconstructed[sent_idx].replace(\":so\", \": so\")\n",
    "    en_reconstructed[sent_idx] = en_reconstructed[sent_idx].replace(\"flumina. —“\", \"flumina.—“\")\n",
    "    en_reconstructed[sent_idx] = en_reconstructed[sent_idx].replace(\"armis.–Fortè\", \"armis. –Fortè\")\n",
    "    en_reconstructed[sent_idx] = en_reconstructed[sent_idx].replace(\"—But\", \"— But\")\n",
    "    en_reconstructed[sent_idx] = en_reconstructed[sent_idx].replace(\"—Or\", \"— Or\")\n",
    "    en_reconstructed[sent_idx] = en_reconstructed[sent_idx].replace(\"minds.\", \"minds. \")\n",
    "    en_reconstructed[sent_idx] = en_reconstructed[sent_idx].replace(':\"', ': \"')\n",
    "    en_reconstructed[sent_idx] = en_reconstructed[sent_idx].replace('first.-The', 'first. -The')\n",
    "    en_reconstructed[sent_idx] = en_reconstructed[sent_idx].replace(':)', ': )')\n",
    "    en_reconstructed[sent_idx] = en_reconstructed[sent_idx].replace('body. ——I', 'body.— —I')\n",
    "    en_reconstructed[sent_idx] = en_reconstructed[sent_idx].replace('curtains. —“', 'curtains.—“')\n",
    "    en_reconstructed[sent_idx] = en_reconstructed[sent_idx].replace('593. —\"', '593.—\"')\n",
    "    en_reconstructed[sent_idx] = en_reconstructed[sent_idx].replace('borne. 3', 'borne.3')\n",
    "    en_reconstructed[sent_idx] = en_reconstructed[sent_idx].replace('words.J', 'words. J')\n",
    "    en_reconstructed[sent_idx] = en_reconstructed[sent_idx].replace('compose. 1', 'compose.1')\n",
    "    en_reconstructed[sent_idx] = en_reconstructed[sent_idx].replace(\"systems.”Whewell's\", \"systems. ”Whewell's\")\n",
    "    en_reconstructed[sent_idx] = en_reconstructed[sent_idx].replace('life?3', 'life? 3')\n",
    "    en_reconstructed[sent_idx] = en_reconstructed[sent_idx].replace(\"? 1  Or,\", \"?1 Or,\")\n",
    "    en_reconstructed[sent_idx] = en_reconstructed[sent_idx].replace('true.]1', 'true.] 1')\n",
    "    en_reconstructed[sent_idx] = en_reconstructed[sent_idx].replace('Phil. i. 1. 1.', 'Phil. i. 1.1.')\n",
    "    en_reconstructed[sent_idx] = en_reconstructed[sent_idx].replace('up. 1 adhering', 'up.1 adhering')\n",
    "    en_reconstructed[sent_idx] = en_reconstructed[sent_idx].replace('6, 6. —With', '6, 6.—With')\n",
    "    en_reconstructed[sent_idx] = en_reconstructed[sent_idx].replace('THE YEAR. 3', 'THE YEAR.3')\n",
    "    en_reconstructed[sent_idx] = en_reconstructed[sent_idx].replace('elbows?3', 'elbows? 3')\n",
    "    en_reconstructed[sent_idx] = en_reconstructed[sent_idx].replace(':—idem', ': —idem')\n",
    "    en_reconstructed[sent_idx] = en_reconstructed[sent_idx].replace('moisture.-Motion', 'moisture. -Motion')\n",
    "    en_reconstructed[sent_idx] = en_reconstructed[sent_idx].replace('ENTIRE WHOLE. 1', 'ENTIRE WHOLE.1')\n",
    "    en_reconstructed[sent_idx] = en_reconstructed[sent_idx].replace('sui.”Aul.Gell.', 'sui. ”Aul. Gell.')\n",
    "    en_reconstructed[sent_idx] = en_reconstructed[sent_idx].replace('itself?3', 'itself? 3')\n",
    "    en_reconstructed[sent_idx] = en_reconstructed[sent_idx].replace('sun?4', 'sun? 4')\n",
    "    en_reconstructed[sent_idx] = en_reconstructed[sent_idx].replace('day :—', 'day : —')\n",
    "    en_reconstructed[sent_idx] = en_reconstructed[sent_idx].replace('every nerve. — ', 'every nerve.—')\n",
    "    en_reconstructed[sent_idx] = en_reconstructed[sent_idx].replace('fury !— But', 'fury ! —But')\n",
    "    en_reconstructed[sent_idx] = en_reconstructed[sent_idx].replace('flame. —', 'flame.—')\n",
    "    en_reconstructed[sent_idx] = en_reconstructed[sent_idx].replace('concealed. —', 'concealed.—')\n",
    "    en_reconstructed[sent_idx] = en_reconstructed[sent_idx].replace('rose:-', 'rose: -')\n",
    "    en_reconstructed[sent_idx] = en_reconstructed[sent_idx].replace('exhaustion:—such', 'exhaustion: —such')\n",
    "    en_reconstructed[sent_idx] = en_reconstructed[sent_idx].replace('beneath.-On', 'beneath. -On')\n",
    "    en_reconstructed[sent_idx] = en_reconstructed[sent_idx].replace('bring:-', 'bring: -')\n",
    "    en_reconstructed[sent_idx] = en_reconstructed[sent_idx].replace('Corporeal:—hence', 'Corporeal: —hence')\n",
    "    en_reconstructed[sent_idx] = en_reconstructed[sent_idx].replace(':-can', ': -can')\n",
    "    en_reconstructed[sent_idx] = en_reconstructed[sent_idx].replace(':-a', ': -a')\n",
    "    en_reconstructed[sent_idx] = en_reconstructed[sent_idx].replace(':-by', ': -by')\n",
    "    en_reconstructed[sent_idx] = en_reconstructed[sent_idx].replace('.And', '. And')\n",
    "    en_reconstructed[sent_idx] = en_reconstructed[sent_idx].replace('death.-Since', 'death. -Since')\n",
    "    en_reconstructed[sent_idx] = en_reconstructed[sent_idx].replace(':-some', ': -some')\n",
    "    en_reconstructed[sent_idx] = en_reconstructed[sent_idx].replace('ever!\"— But', 'ever!\" —But')\n",
    "    en_reconstructed[sent_idx] = en_reconstructed[sent_idx].replace('peace. —', 'peace.—')\n",
    "    en_reconstructed[sent_idx] = en_reconstructed[sent_idx].replace('aid.-No', 'aid. -No')\n",
    "    en_reconstructed[sent_idx] = en_reconstructed[sent_idx].replace('man. —', 'man.—')\n",
    "    en_reconstructed[sent_idx] = en_reconstructed[sent_idx].replace('?or', '? or')\n",
    "    en_reconstructed[sent_idx] = en_reconstructed[sent_idx].replace(':-it', ': -it')\n",
    "    en_reconstructed[sent_idx] = en_reconstructed[sent_idx].replace('ill. —', 'ill.—')\n",
    "    en_reconstructed[sent_idx] = en_reconstructed[sent_idx].replace('prevail.-Thus', 'prevail. -Thus')\n",
    "    en_reconstructed[sent_idx] = en_reconstructed[sent_idx].replace(':-for', ': -for')\n",
    "    en_reconstructed[sent_idx] = en_reconstructed[sent_idx].replace('well-spring:—creed', 'well-spring: —creed')\n",
    "    en_reconstructed[sent_idx] = en_reconstructed[sent_idx].replace(':different', ': different')\n",
    "    en_reconstructed[sent_idx] = en_reconstructed[sent_idx].replace('an:!', 'an: !')\n",
    "    en_reconstructed[sent_idx] = en_reconstructed[sent_idx].replace('v. 2. 5', 'v. 2.5')\n",
    "    en_reconstructed[sent_idx] = en_reconstructed[sent_idx].replace('v. 1116;', 'v.1116;')\n",
    "    en_reconstructed[sent_idx] = en_reconstructed[sent_idx].replace('1. 57,', '1.57,')\n",
    "    en_reconstructed[sent_idx] = en_reconstructed[sent_idx].replace(':voluntary', ': voluntary')\n",
    "    en_reconstructed[sent_idx] = en_reconstructed[sent_idx].replace('ib. ;   grow', 'ib. grow')\n",
    "    en_reconstructed[sent_idx] = en_reconstructed[sent_idx].replace('in, v. 30', 'in, v.30')    "
   ]
  },
  {
   "cell_type": "markdown",
   "id": "f37d95f8-684a-4af5-8b8b-796ddfae8ede",
   "metadata": {},
   "source": [
    "# Tokenize en1893 with and without section markers"
   ]
  },
  {
   "cell_type": "code",
   "execution_count": 37,
   "id": "df4a2516-462d-4b08-985e-8f6530218d88",
   "metadata": {},
   "outputs": [],
   "source": [
    "en1983_sents_tokenized = []\n",
    "for idx, sent in enumerate(en1983_sents):\n",
    "    en1983_sents_tokenized.append(sent.split())"
   ]
  },
  {
   "cell_type": "code",
   "execution_count": 38,
   "id": "4ca931f3-72af-41e2-b581-e248ced3992a",
   "metadata": {},
   "outputs": [],
   "source": [
    "en_reconstructed_tokenized = []\n",
    "for idx, sent in enumerate(en_reconstructed):\n",
    "    en_reconstructed_tokenized.append(sent.split())"
   ]
  },
  {
   "cell_type": "code",
   "execution_count": 39,
   "id": "8a9437bb-b7dd-47da-8699-e3614210b776",
   "metadata": {},
   "outputs": [],
   "source": [
    "num_tokens_sents = 0\n",
    "for sent in en1983_sents_tokenized:\n",
    "    num_tokens_sents += len(sent)\n",
    "\n",
    "num_tokens_chapts = 0\n",
    "for sent in en_reconstructed_tokenized:\n",
    "    num_tokens_chapts += len(sent)"
   ]
  },
  {
   "cell_type": "code",
   "execution_count": 40,
   "id": "6fe5131e-bffd-4342-bdb7-ce7962153479",
   "metadata": {},
   "outputs": [
    {
     "data": {
      "text/plain": [
       "True"
      ]
     },
     "execution_count": 40,
     "metadata": {},
     "output_type": "execute_result"
    }
   ],
   "source": [
    "num_tokens_chapts == num_tokens_sents"
   ]
  },
  {
   "cell_type": "code",
   "execution_count": 41,
   "id": "334889e9-a227-4826-bcba-34574dea494d",
   "metadata": {},
   "outputs": [
    {
     "name": "stdout",
     "output_type": "stream",
     "text": [
      "202635\n",
      "202635\n"
     ]
    }
   ],
   "source": [
    "print(num_tokens_chapts)\n",
    "print(num_tokens_sents)"
   ]
  },
  {
   "cell_type": "markdown",
   "id": "1a9ff2af-cdff-453c-b1a2-2142fa9c1ab0",
   "metadata": {},
   "source": [
    "## Find data errors in tokenized docs"
   ]
  },
  {
   "cell_type": "code",
   "execution_count": 42,
   "id": "2ff6d018-d9f5-4893-8767-da4c1bc91030",
   "metadata": {},
   "outputs": [],
   "source": [
    "en1983_tokens_from_sents = flatten_list(en1983_sents_tokenized)\n",
    "en1983_tokens_from_chapts = flatten_list(en_reconstructed_tokenized)"
   ]
  },
  {
   "cell_type": "code",
   "execution_count": 43,
   "id": "83e0a1c2-eb82-4ece-ae53-8bd01457618c",
   "metadata": {},
   "outputs": [
    {
     "data": {
      "text/plain": [
       "True"
      ]
     },
     "execution_count": 43,
     "metadata": {},
     "output_type": "execute_result"
    }
   ],
   "source": [
    "en1983_tokens_from_sents == en1983_tokens_from_chapts"
   ]
  },
  {
   "cell_type": "code",
   "execution_count": 44,
   "id": "fecf023f-dbc3-43c1-843d-04f200a557ba",
   "metadata": {},
   "outputs": [
    {
     "data": {
      "text/plain": [
       "['in,', 'v.30', 'Thunder,', 'not', 'supernatural,', 'vi.']"
      ]
     },
     "execution_count": 44,
     "metadata": {},
     "output_type": "execute_result"
    }
   ],
   "source": [
    "en1983_tokens_from_sents[201703:201709]"
   ]
  },
  {
   "cell_type": "code",
   "execution_count": 45,
   "id": "1fe9ae6a-4d88-4f89-9fdf-a5083cff9afc",
   "metadata": {},
   "outputs": [
    {
     "data": {
      "text/plain": [
       "['in,', 'v.30', 'Thunder,', 'not', 'supernatural,', 'vi.']"
      ]
     },
     "execution_count": 45,
     "metadata": {},
     "output_type": "execute_result"
    }
   ],
   "source": [
    "en1983_tokens_from_chapts[201703:201709]"
   ]
  },
  {
   "cell_type": "code",
   "execution_count": 46,
   "id": "c3c67411-b05a-4f1c-9007-701a01b49320",
   "metadata": {
    "tags": []
   },
   "outputs": [],
   "source": [
    "for idx, token in enumerate(en1983_tokens_from_chapts):\n",
    "    if token != en1983_tokens_from_sents[idx]:\n",
    "        print(idx)"
   ]
  },
  {
   "cell_type": "markdown",
   "id": "8f4aff12-4492-4596-887f-1a6ff7bf9c36",
   "metadata": {},
   "source": [
    "# Get sent idx to section name dict for en1893"
   ]
  },
  {
   "cell_type": "code",
   "execution_count": 47,
   "id": "7f194191-68f1-40c1-9a4a-b5039030c8e2",
   "metadata": {},
   "outputs": [],
   "source": [
    "def build_sent_to_section_dict(lst_tokenized_sents, lst_tokenized_chapts,\n",
    "                               dict_chapter_2_section):\n",
    "    \"\"\"\n",
    "    Build dict of sentence idx to section name\n",
    "    \"\"\"\n",
    "    sent_idx_2_section_name = {}\n",
    "    token_counter = 0 # per section/chapter\n",
    "    current_section_idx = 0\n",
    "    for idx_sent, sent in enumerate(lst_tokenized_sents):\n",
    "        token_counter += len(sent)\n",
    "        current_chapter_length = len(lst_tokenized_chapts[current_section_idx])\n",
    "        if token_counter < current_chapter_length:\n",
    "            # add sent to dict\n",
    "            sent_idx_2_section_name[idx_sent] = dict_chapter_2_section[current_section_idx]\n",
    "        elif token_counter == current_chapter_length:\n",
    "            # add sent to dict as part of current section\n",
    "            sent_idx_2_section_name[idx_sent] = dict_chapter_2_section[current_section_idx]\n",
    "            # reset token counter and current section idx for next sent iteration\n",
    "            token_counter = 0\n",
    "            current_section_idx += 1\n",
    "        else: # token_counter > current_chapter_length, i.e. we've crossed a section boundary \n",
    "            # add sent to current section and next section\n",
    "            sent_idx_2_section_name[idx_sent] = [\n",
    "                dict_chapter_2_section[current_section_idx], \n",
    "                dict_chapter_2_section[current_section_idx+1]]\n",
    "            # adjust token counter by only including portion of sent in new section\n",
    "            token_counter = token_counter - current_chapter_length\n",
    "            # update current section idx for next sent iteration\n",
    "            current_section_idx += 1\n",
    "    return sent_idx_2_section_name"
   ]
  },
  {
   "cell_type": "code",
   "execution_count": 48,
   "id": "ddd66e87-f78e-476e-b246-c53bc54f6ef5",
   "metadata": {},
   "outputs": [],
   "source": [
    "en1893_sent2section_name = build_sent_to_section_dict(\n",
    "    en1983_sents_tokenized, en_reconstructed_tokenized, idx2section_name)\n"
   ]
  },
  {
   "cell_type": "markdown",
   "id": "bf1256d9-a421-4f9b-ba96-1b85f1f10dbc",
   "metadata": {},
   "source": [
    "## Write to json"
   ]
  },
  {
   "cell_type": "code",
   "execution_count": 50,
   "id": "9e3008a8-46ce-4078-9f28-295c64985936",
   "metadata": {},
   "outputs": [],
   "source": [
    "path_out = \"/home/craig.car/repos/chiron/align_texts_project/data/lucretius/en1893_sent2section_dict.json\"\n",
    "with open(path_out, 'w') as fp:\n",
    "    json.dump(en1893_sent2section_name, fp)"
   ]
  },
  {
   "cell_type": "code",
   "execution_count": null,
   "id": "2b7d7e3b-7c5e-4763-ae08-f35b4338221c",
   "metadata": {},
   "outputs": [],
   "source": []
  }
 ],
 "metadata": {
  "kernelspec": {
   "display_name": "Python 3 (ipykernel)",
   "language": "python",
   "name": "python3"
  },
  "language_info": {
   "codemirror_mode": {
    "name": "ipython",
    "version": 3
   },
   "file_extension": ".py",
   "mimetype": "text/x-python",
   "name": "python",
   "nbconvert_exporter": "python",
   "pygments_lexer": "ipython3",
   "version": "3.10.10"
  }
 },
 "nbformat": 4,
 "nbformat_minor": 5
}
