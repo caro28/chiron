{
 "cells": [
  {
   "cell_type": "code",
   "execution_count": 2,
   "id": "a30843f4-e2c1-4046-a3e8-2385c87ff01f",
   "metadata": {},
   "outputs": [],
   "source": [
    "import re\n",
    "import json\n",
    "import stanza\n",
    "\n",
    "import numpy as np\n",
    "import pandas as pd\n",
    "\n",
    "from itertools import chain\n",
    "from ast import literal_eval\n",
    "\n",
    "from preprocessing_functions import load_txt_as_lst, split_txt, \\\n",
    "run_stanza, flatten_list, segment_series, preprocess_series, write_file"
   ]
  },
  {
   "cell_type": "markdown",
   "id": "2a443775-ccb1-42ae-8fba-5969040def1a",
   "metadata": {},
   "source": [
    "# Lucretius en1893 no section markers"
   ]
  },
  {
   "cell_type": "code",
   "execution_count": 3,
   "id": "345adf8f-c3d0-4706-93ee-ef5b24abec80",
   "metadata": {},
   "outputs": [],
   "source": [
    "raw_str_path = \"/home/craig.car/repos/chiron/align_texts_project/data/lucretius/lucretius_en1893_str.txt\"\n",
    "en1893_raw_lst = load_txt_as_lst(raw_str_path)"
   ]
  },
  {
   "cell_type": "code",
   "execution_count": 4,
   "id": "21becea2-cceb-4a68-bbe8-eae3c253a722",
   "metadata": {},
   "outputs": [
    {
     "data": {
      "text/plain": [
       "['REMARKS\\n',\n",
       " '\\n',\n",
       " 'ON THE\\n',\n",
       " '   LIFE AND POEM OF LUCRETIUS.\\n',\n",
       " '  OF the life of Lucretius but little information has reached us.  Ad nos vix tenuis famæ perlabitur aura.\\n',\n",
       " '\\n',\n",
       " 'That he was a Roman by birth, is inferred from the pas  sages in his poem in which he speaks of the Roman world as  his country,1 and of the Roman language as his native tongue.2\\n',\n",
       " '\\n',\n",
       " 'As to the time of his birth, it is stated by Eusebius in his  Chronicon, that he was born in the second year of the hundred  and seventy-first Olympiad, or ninety-five years before Christ.  At this period, Ennius had been dead about seventy years ;  Cicero was in his twelfth year; twenty-five years were to  elapse before the birth of Virgil, and four before that of Julius  Caesar. His style, indeed, would make him seem older, but  its antiquated character may be partly affected, in imitation,  perhaps, of Ennius, for whom he expresses great veneration.3\\n',\n",
       " '\\n']"
      ]
     },
     "execution_count": 4,
     "metadata": {},
     "output_type": "execute_result"
    }
   ],
   "source": [
    "en1893_raw_lst[:10]"
   ]
  },
  {
   "cell_type": "code",
   "execution_count": 5,
   "id": "ebcf11a6-c0df-4c77-bc3b-0cd270c9beac",
   "metadata": {},
   "outputs": [],
   "source": [
    "en1893_str = \" \".join(en1893_raw_lst)"
   ]
  },
  {
   "cell_type": "code",
   "execution_count": 6,
   "id": "d11de19b-d508-4619-8412-3d584805f448",
   "metadata": {},
   "outputs": [
    {
     "name": "stderr",
     "output_type": "stream",
     "text": [
      "2023-06-22 10:40:43 INFO: Checking for updates to resources.json in case models have been updated.  Note: this behavior can be turned off with download_method=None or download_method=DownloadMethod.REUSE_RESOURCES\n"
     ]
    },
    {
     "data": {
      "application/vnd.jupyter.widget-view+json": {
       "model_id": "586b93c10f774967bc907596ba9d8f32",
       "version_major": 2,
       "version_minor": 0
      },
      "text/plain": [
       "Downloading https://raw.githubusercontent.com/stanfordnlp/stanza-resources/main/resources_1.5.0.json:   0%|   …"
      ]
     },
     "metadata": {},
     "output_type": "display_data"
    },
    {
     "name": "stderr",
     "output_type": "stream",
     "text": [
      "2023-06-22 10:40:43 INFO: Loading these models for language: en (English):\n",
      "========================\n",
      "| Processor | Package  |\n",
      "------------------------\n",
      "| tokenize  | combined |\n",
      "========================\n",
      "\n",
      "2023-06-22 10:40:43 WARNING: GPU requested, but is not available!\n",
      "2023-06-22 10:40:43 INFO: Using device: cpu\n",
      "2023-06-22 10:40:43 INFO: Loading: tokenize\n",
      "2023-06-22 10:40:43 INFO: Done loading processors!\n"
     ]
    }
   ],
   "source": [
    "# load stanza model for lang\n",
    "lang_ = \"en\"\n",
    "stanza_model_ = stanza.Pipeline(lang=lang_, processors='tokenize', use_gpu=True)"
   ]
  },
  {
   "cell_type": "code",
   "execution_count": 7,
   "id": "828e581a-174a-407f-b9e2-15cb7a9c7615",
   "metadata": {},
   "outputs": [
    {
     "name": "stdout",
     "output_type": "stream",
     "text": [
      "segmented str into sentences\n"
     ]
    }
   ],
   "source": [
    "en1983_sents = preprocess_series(en1893_str, \"en\", stanza_model_)"
   ]
  },
  {
   "cell_type": "code",
   "execution_count": 8,
   "id": "4a0e6d06-2096-4f97-9f30-232438792f70",
   "metadata": {},
   "outputs": [
    {
     "data": {
      "text/plain": [
       "13966"
      ]
     },
     "execution_count": 8,
     "metadata": {},
     "output_type": "execute_result"
    }
   ],
   "source": [
    "len(en1983_sents)"
   ]
  },
  {
   "cell_type": "code",
   "execution_count": 9,
   "id": "88e10112-d440-4600-9034-3624ce1ae94c",
   "metadata": {},
   "outputs": [
    {
     "data": {
      "text/plain": [
       "['REMARKS',\n",
       " 'ON THE',\n",
       " 'LIFE AND POEM OF LUCRETIUS.',\n",
       " 'OF the life of Lucretius but little information has reached us.',\n",
       " 'Ad nos vix tenuis famæ perlabitur aura.',\n",
       " 'That he was a Roman by birth, is inferred from the pas  sages in his poem in which he speaks of the Roman world as  his country,1 and of the Roman language as his native tongue.',\n",
       " '2',\n",
       " 'As to the time of his birth, it is stated by Eusebius in his  Chronicon, that he was born in the second year of the hundred  and seventy-first Olympiad, or ninety-five years before Christ.',\n",
       " 'At this period, Ennius had been dead about seventy years ;',\n",
       " 'Cicero was in his twelfth year;']"
      ]
     },
     "execution_count": 9,
     "metadata": {},
     "output_type": "execute_result"
    }
   ],
   "source": [
    "en1983_sents[:10]"
   ]
  },
  {
   "cell_type": "code",
   "execution_count": 10,
   "id": "0a66209d-7754-48f9-b612-3eb795734c92",
   "metadata": {},
   "outputs": [],
   "source": [
    "# path_out = \"/home/craig.car/repos/chiron/align_texts_project/data/lucretius/lucretius_en1893_sents.txt\"\n",
    "# write_file(en1983_sents, path_out)"
   ]
  },
  {
   "cell_type": "markdown",
   "id": "6405f540-9015-4675-af92-ca561dee12e8",
   "metadata": {},
   "source": [
    "# Lucretius en1893 with section markers"
   ]
  },
  {
   "cell_type": "code",
   "execution_count": 28,
   "id": "6915f758-a78b-4283-89b8-162040c8e8b0",
   "metadata": {},
   "outputs": [],
   "source": [
    "raw_path_markers = \"/home/craig.car/repos/chiron/align_texts_project/data/lucretius/lucretius_en1893_str_withsections.txt\"\n",
    "en1893_raw_lst_markers = load_txt_as_lst(raw_path_markers)"
   ]
  },
  {
   "cell_type": "code",
   "execution_count": 29,
   "id": "13f7f8ae-090b-4628-8d29-d6775672168b",
   "metadata": {},
   "outputs": [
    {
     "data": {
      "text/plain": [
       "['#@$%title#@$%\\n',\n",
       " 'REMARKS\\n',\n",
       " '#@$%paragraph end#@$%\\n',\n",
       " '\\n',\n",
       " '#@$%title#@$%\\n',\n",
       " 'ON THE\\n',\n",
       " '   #@$%title#@$%\\n',\n",
       " 'LIFE AND POEM OF LUCRETIUS.\\n',\n",
       " '  OF the life of Lucretius but little information has reached us.  Ad nos vix tenuis famæ perlabitur aura.\\n',\n",
       " '#@$%paragraph end#@$%\\n']"
      ]
     },
     "execution_count": 29,
     "metadata": {},
     "output_type": "execute_result"
    }
   ],
   "source": [
    "en1893_raw_lst_markers[:10]"
   ]
  },
  {
   "cell_type": "code",
   "execution_count": 30,
   "id": "f539a505-62e6-438b-9ddf-7e97e8340467",
   "metadata": {},
   "outputs": [],
   "source": [
    "en1893_str_markers = \" \".join(en1893_raw_lst_markers)"
   ]
  },
  {
   "cell_type": "code",
   "execution_count": 31,
   "id": "24cb6b4e-8570-42b9-8257-e4c2c2dd70e8",
   "metadata": {},
   "outputs": [
    {
     "data": {
      "text/plain": [
       "'#@$%title#@$%\\n REMARKS\\n #@$%paragraph end#@$%\\n \\n #@$%title#@$%\\n ON THE\\n    #@$%title#@$%\\n LIFE AND POEM OF LUCRETIUS.\\n   OF the life of Lucretius but little information has reached us.  Ad nos vix tenuis famæ perlabitur aura.\\n #@$%paragraph end#@$%\\n \\n That he was a Roman by birth, is inferred from the pas  sages in his poem in which he speaks of the Roman world as  his country,1 and of the Roman language as his native tongue.2\\n #@$%paragraph end#@$%\\n \\n As to the time of his birth, it is stated by Eusebius in his  Chronicon, that he was born in the second year of the hundred  and seventy-first Olympiad, or ninety-five years before Christ.  At this period, Ennius had been dead about seventy years ;  Cicero was in his twelfth year; twenty-five years were to  elapse before the birth of Virgil, and four before that of Julius  Caesar. His style, indeed, would make him seem older, but  its antiquated character may be partly affected, in imitation,  perhaps, of Ennius, for whom he expresses gr'"
      ]
     },
     "execution_count": 31,
     "metadata": {},
     "output_type": "execute_result"
    }
   ],
   "source": [
    "en1893_str_markers[:1000]"
   ]
  },
  {
   "cell_type": "code",
   "execution_count": 32,
   "id": "27733e40-7e60-4423-931b-c06e0292e1b5",
   "metadata": {},
   "outputs": [],
   "source": [
    "en1893_str_markers = en1893_str_markers.replace(\"\\n\", \"\")"
   ]
  },
  {
   "cell_type": "code",
   "execution_count": 33,
   "id": "1cc17979-9229-445f-8572-698fb27cfd68",
   "metadata": {},
   "outputs": [
    {
     "data": {
      "text/plain": [
       "'#@$%title#@$% REMARKS #@$%paragraph end#@$%  #@$%title#@$% ON THE    #@$%title#@$% LIFE AND POEM OF LUCRETIUS.   OF the life of Lucretius but little information has reached us.  Ad nos vix tenuis famæ perlabitur aura. #@$%paragraph end#@$%  That he was a Roman by birth, is inferred from the pas  sages in his poem in which he speaks of the Roman world as  his country,1 and of the Roman language as his native tongue.2 #@$%paragraph end#@$%  As to the time of his birth, it is stated by Eusebius in his  Chronicon, that he was born in the second year of the hundred  and seventy-first Olympiad, or ninety-five years before Christ.  At this period, Ennius had been dead about seventy years ;  Cicero was in his twelfth year; twenty-five years were to  elapse before the birth of Virgil, and four before that of Julius  Caesar. His style, indeed, would make him seem older, but  its antiquated character may be partly affected, in imitation,  perhaps, of Ennius, for whom he expresses great veneration'"
      ]
     },
     "execution_count": 33,
     "metadata": {},
     "output_type": "execute_result"
    }
   ],
   "source": [
    "en1893_str_markers[:1000]"
   ]
  },
  {
   "cell_type": "markdown",
   "id": "e0c9d8fa-859d-4e63-bca8-745f4381df72",
   "metadata": {},
   "source": [
    "## Split by section (including chapters)\n",
    "Note: \"#@$%\" added at beginning and end of section markers when extracting text from xml"
   ]
  },
  {
   "cell_type": "code",
   "execution_count": 34,
   "id": "214e56e0-ba84-4897-b945-41ba4fd39cb3",
   "metadata": {},
   "outputs": [],
   "source": [
    "en1893_str_markers_split = en1893_str_markers.split(\"#@$%\")"
   ]
  },
  {
   "cell_type": "code",
   "execution_count": 35,
   "id": "2a982406-3a3a-4394-92ba-4625e80805a7",
   "metadata": {},
   "outputs": [
    {
     "data": {
      "text/plain": [
       "['',\n",
       " 'title',\n",
       " ' REMARKS ',\n",
       " 'paragraph end',\n",
       " '  ',\n",
       " 'title',\n",
       " ' ON THE    ',\n",
       " 'title',\n",
       " ' LIFE AND POEM OF LUCRETIUS.   OF the life of Lucretius but little information has reached us.  Ad nos vix tenuis famæ perlabitur aura. ',\n",
       " 'paragraph end']"
      ]
     },
     "execution_count": 35,
     "metadata": {},
     "output_type": "execute_result"
    }
   ],
   "source": [
    "en1893_str_markers_split[:10]"
   ]
  },
  {
   "cell_type": "code",
   "execution_count": 36,
   "id": "af349436-97b8-4427-9311-4d070c7c5298",
   "metadata": {},
   "outputs": [],
   "source": [
    "# define patterns\n",
    "title_marker = re.compile(\"title\")\n",
    "title_commentary = re.compile(\"ARGUMENT\")\n",
    "title_book = re.compile(\"BOOK\")\n",
    "title_index = re.compile(\"INDEX\")\n",
    "para_end = re.compile(\"paragraph end\")\n",
    "note_start = re.compile(\"note\")\n",
    "note_end = re.compile(\"note_end\")"
   ]
  },
  {
   "cell_type": "code",
   "execution_count": null,
   "id": "33843542-dae7-4282-8af7-728282561f73",
   "metadata": {},
   "outputs": [],
   "source": []
  }
 ],
 "metadata": {
  "kernelspec": {
   "display_name": "Python 3 (ipykernel)",
   "language": "python",
   "name": "python3"
  },
  "language_info": {
   "codemirror_mode": {
    "name": "ipython",
    "version": 3
   },
   "file_extension": ".py",
   "mimetype": "text/x-python",
   "name": "python",
   "nbconvert_exporter": "python",
   "pygments_lexer": "ipython3",
   "version": "3.10.10"
  }
 },
 "nbformat": 4,
 "nbformat_minor": 5
}
