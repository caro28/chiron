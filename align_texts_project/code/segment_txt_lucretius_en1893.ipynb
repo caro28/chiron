{
 "cells": [
  {
   "cell_type": "code",
   "execution_count": 22,
   "id": "a30843f4-e2c1-4046-a3e8-2385c87ff01f",
   "metadata": {},
   "outputs": [],
   "source": [
    "import re\n",
    "import json\n",
    "import stanza\n",
    "\n",
    "import numpy as np\n",
    "import pandas as pd\n",
    "\n",
    "from itertools import chain\n",
    "from ast import literal_eval\n",
    "\n",
    "from preprocessing_functions import load_txt_as_lst, split_txt, \\\n",
    "run_stanza, flatten_list, segment_series, preprocess_series, write_file"
   ]
  },
  {
   "cell_type": "markdown",
   "id": "2a443775-ccb1-42ae-8fba-5969040def1a",
   "metadata": {},
   "source": [
    "# Lucretius en1893 no section markers"
   ]
  },
  {
   "cell_type": "code",
   "execution_count": 23,
   "id": "345adf8f-c3d0-4706-93ee-ef5b24abec80",
   "metadata": {},
   "outputs": [],
   "source": [
    "# raw_str_path = \"/home/craig.car/repos/chiron/align_texts_project/data/lucretius/lucretius_en1893_str.txt\"\n",
    "raw_str_path = \"/home/craig.car/repos/chiron/align_texts_project/data/lucretius/lucretius_en1983_morenewlines.txt\"\n",
    "en1893_raw_lst = load_txt_as_lst(raw_str_path)"
   ]
  },
  {
   "cell_type": "code",
   "execution_count": 24,
   "id": "21becea2-cceb-4a68-bbe8-eae3c253a722",
   "metadata": {
    "tags": []
   },
   "outputs": [
    {
     "data": {
      "text/plain": [
       "['REMARKS\\n',\n",
       " '\\n',\n",
       " 'ON THE\\n',\n",
       " '\\n',\n",
       " 'LIFE AND POEM OF LUCRETIUS.\\n',\n",
       " '  OF the life of Lucretius but little information has reached us.  Ad nos vix tenuis famæ perlabitur aura.\\n',\n",
       " '\\n',\n",
       " 'That he was a Roman by birth, is inferred from the pas  sages in his poem in which he speaks of the Roman world as  his country,1 and of the Roman language as his native tongue.2\\n',\n",
       " '\\n',\n",
       " 'As to the time of his birth, it is stated by Eusebius in his  Chronicon, that he was born in the second year of the hundred  and seventy-first Olympiad, or ninety-five years before Christ.  At this period, Ennius had been dead about seventy years ;  Cicero was in his twelfth year; twenty-five years were to  elapse before the birth of Virgil, and four before that of Julius  Caesar. His style, indeed, would make him seem older, but  its antiquated character may be partly affected, in imitation,  perhaps, of Ennius, for whom he expresses great veneration.3\\n']"
      ]
     },
     "execution_count": 24,
     "metadata": {},
     "output_type": "execute_result"
    }
   ],
   "source": [
    "en1893_raw_lst[:10]"
   ]
  },
  {
   "cell_type": "code",
   "execution_count": 25,
   "id": "ebcf11a6-c0df-4c77-bc3b-0cd270c9beac",
   "metadata": {},
   "outputs": [],
   "source": [
    "en1893_str = \" \".join(en1893_raw_lst)"
   ]
  },
  {
   "cell_type": "code",
   "execution_count": 26,
   "id": "2dedd31e-5eeb-401a-bb27-14dd23db6364",
   "metadata": {},
   "outputs": [
    {
     "data": {
      "text/plain": [
       "'REMARKS\\n \\n ON THE\\n \\n LIFE AND POEM OF LUCRETIUS.\\n   OF the life of Lucretius but little information has reached us.  Ad nos vix tenuis famæ perlabitur aura.\\n \\n That he was a Roman by birth, is inferred from the pas  sages in his poem in which he speaks of the Roman world as  his country,1 and of the Roman language as his native tongue.2\\n \\n As to the time of his birth, it is stated by Eusebius in his  Chronicon, that he was born in the second year of the hundred  and seventy-first Olympiad, or ni'"
      ]
     },
     "execution_count": 26,
     "metadata": {},
     "output_type": "execute_result"
    }
   ],
   "source": [
    "en1893_str[:500]"
   ]
  },
  {
   "cell_type": "code",
   "execution_count": 27,
   "id": "d11de19b-d508-4619-8412-3d584805f448",
   "metadata": {},
   "outputs": [
    {
     "name": "stderr",
     "output_type": "stream",
     "text": [
      "2023-07-31 20:30:05 INFO: Checking for updates to resources.json in case models have been updated.  Note: this behavior can be turned off with download_method=None or download_method=DownloadMethod.REUSE_RESOURCES\n"
     ]
    },
    {
     "data": {
      "application/vnd.jupyter.widget-view+json": {
       "model_id": "371238f82e904c4085bef279907bd8da",
       "version_major": 2,
       "version_minor": 0
      },
      "text/plain": [
       "Downloading https://raw.githubusercontent.com/stanfordnlp/stanza-resources/main/resources_1.4.1.json:   0%|   …"
      ]
     },
     "metadata": {},
     "output_type": "display_data"
    },
    {
     "name": "stderr",
     "output_type": "stream",
     "text": [
      "2023-07-31 20:30:05 INFO: Loading these models for language: en (English):\n",
      "========================\n",
      "| Processor | Package  |\n",
      "------------------------\n",
      "| tokenize  | combined |\n",
      "========================\n",
      "\n",
      "2023-07-31 20:30:05 INFO: Use device: cpu\n",
      "2023-07-31 20:30:05 INFO: Loading: tokenize\n",
      "2023-07-31 20:30:05 INFO: Done loading processors!\n"
     ]
    }
   ],
   "source": [
    "# load stanza model for lang\n",
    "lang_ = \"en\"\n",
    "stanza_model_ = stanza.Pipeline(lang=lang_, processors='tokenize', use_gpu=True)"
   ]
  },
  {
   "cell_type": "code",
   "execution_count": 28,
   "id": "828e581a-174a-407f-b9e2-15cb7a9c7615",
   "metadata": {},
   "outputs": [
    {
     "name": "stdout",
     "output_type": "stream",
     "text": [
      "segmented str into sentences\n"
     ]
    }
   ],
   "source": [
    "en1983_sents = preprocess_series(en1893_str, \"en\", stanza_model_)"
   ]
  },
  {
   "cell_type": "code",
   "execution_count": 29,
   "id": "403961c5-0751-41f2-a084-e8145dd32621",
   "metadata": {},
   "outputs": [],
   "source": [
    "# without additional newlines around notes and titles, len(en1983_sents) was 13966"
   ]
  },
  {
   "cell_type": "code",
   "execution_count": 30,
   "id": "4a0e6d06-2096-4f97-9f30-232438792f70",
   "metadata": {},
   "outputs": [
    {
     "data": {
      "text/plain": [
       "14648"
      ]
     },
     "execution_count": 30,
     "metadata": {},
     "output_type": "execute_result"
    }
   ],
   "source": [
    "len(en1983_sents)"
   ]
  },
  {
   "cell_type": "code",
   "execution_count": 31,
   "id": "88e10112-d440-4600-9034-3624ce1ae94c",
   "metadata": {},
   "outputs": [
    {
     "data": {
      "text/plain": [
       "['REMARKS',\n",
       " 'ON THE',\n",
       " 'LIFE AND POEM OF LUCRETIUS.',\n",
       " 'OF the life of Lucretius but little information has reached us.',\n",
       " 'Ad nos vix tenuis famæ perlabitur aura.',\n",
       " 'That he was a Roman by birth, is inferred from the pas  sages in his poem in which he speaks of the Roman world as  his country,1 and of the Roman language as his native tongue.',\n",
       " '2',\n",
       " 'As to the time of his birth, it is stated by Eusebius in his  Chronicon, that he was born in the second year of the hundred  and seventy-first Olympiad, or ninety-five years before Christ.',\n",
       " 'At this period, Ennius had been dead about seventy years ;',\n",
       " 'Cicero was in his twelfth year;']"
      ]
     },
     "execution_count": 31,
     "metadata": {},
     "output_type": "execute_result"
    }
   ],
   "source": [
    "en1983_sents[:10]"
   ]
  },
  {
   "cell_type": "code",
   "execution_count": 32,
   "id": "0a66209d-7754-48f9-b612-3eb795734c92",
   "metadata": {},
   "outputs": [],
   "source": [
    "# path_out = \"/home/craig.car/repos/chiron/align_texts_project/data/lucretius/lucretius_en1893_sents_NEW.txt\"\n",
    "# write_file(en1983_sents, path_out)"
   ]
  },
  {
   "cell_type": "markdown",
   "id": "6405f540-9015-4675-af92-ca561dee12e8",
   "metadata": {},
   "source": [
    "# Lucretius en1893 with section markers"
   ]
  },
  {
   "cell_type": "code",
   "execution_count": 33,
   "id": "6915f758-a78b-4283-89b8-162040c8e8b0",
   "metadata": {},
   "outputs": [],
   "source": [
    "raw_path_markers = \"/home/craig.car/repos/chiron/align_texts_project/data/lucretius/lucretius_en1893_str_withsections.txt\"\n",
    "en1893_raw_lst_markers = load_txt_as_lst(raw_path_markers)"
   ]
  },
  {
   "cell_type": "code",
   "execution_count": 34,
   "id": "13f7f8ae-090b-4628-8d29-d6775672168b",
   "metadata": {},
   "outputs": [
    {
     "data": {
      "text/plain": [
       "['#@$% chapter= #@$%\\n',\n",
       " '\\n',\n",
       " '#@$%title#@$%REMARKS\\n',\n",
       " '\\n',\n",
       " '#@$%title#@$%ON THE\\n',\n",
       " '   #@$%title#@$%LIFE AND POEM OF LUCRETIUS.\\n',\n",
       " '  OF the life of Lucretius but little information has reached us.  Ad nos vix tenuis famæ perlabitur aura.\\n',\n",
       " '\\n',\n",
       " 'That he was a Roman by birth, is inferred from the pas  sages in his poem in which he speaks of the Roman world as  his country,1 and of the Roman language as his native tongue.2\\n',\n",
       " '\\n']"
      ]
     },
     "execution_count": 34,
     "metadata": {},
     "output_type": "execute_result"
    }
   ],
   "source": [
    "en1893_raw_lst_markers[:10]"
   ]
  },
  {
   "cell_type": "code",
   "execution_count": 35,
   "id": "f539a505-62e6-438b-9ddf-7e97e8340467",
   "metadata": {},
   "outputs": [],
   "source": [
    "en1893_str_markers = \" \".join(en1893_raw_lst_markers)"
   ]
  },
  {
   "cell_type": "code",
   "execution_count": 36,
   "id": "24cb6b4e-8570-42b9-8257-e4c2c2dd70e8",
   "metadata": {},
   "outputs": [
    {
     "data": {
      "text/plain": [
       "'#@$% chapter= #@$%\\n \\n #@$%title#@$%REMARKS\\n \\n #@$%title#@$%ON THE\\n    #@$%title#@$%LIFE AND POEM OF LUCRETIUS.\\n   OF the life of Lucretius but little information has reached us.  Ad nos vix tenuis famæ perlabitur aura.\\n \\n That he was a Roman by birth, is inferred from the pas  sages in his poem in which he speaks of the Roman world as  his country,1 and of the Roman language as his native tongue.2\\n \\n As to the time of his birth, it is stated by Eusebius in his  Chronicon, that he was born in the second year of the hundred  and seventy-first Olympiad, or ninety-five years before Christ.  At this period, Ennius had been dead about seventy years ;  Cicero was in his twelfth year; twenty-five years were to  elapse before the birth of Virgil, and four before that of Julius  Caesar. His style, indeed, would make him seem older, but  its antiquated character may be partly affected, in imitation,  perhaps, of Ennius, for whom he expresses great veneration.3\\n \\n Concerning his family nothing is '"
      ]
     },
     "execution_count": 36,
     "metadata": {},
     "output_type": "execute_result"
    }
   ],
   "source": [
    "en1893_str_markers[:1000]"
   ]
  },
  {
   "cell_type": "code",
   "execution_count": 37,
   "id": "27733e40-7e60-4423-931b-c06e0292e1b5",
   "metadata": {},
   "outputs": [],
   "source": [
    "en1893_str_markers = en1893_str_markers.replace(\"\\n\", \"\")"
   ]
  },
  {
   "cell_type": "code",
   "execution_count": 38,
   "id": "1cc17979-9229-445f-8572-698fb27cfd68",
   "metadata": {},
   "outputs": [
    {
     "data": {
      "text/plain": [
       "'#@$% chapter= #@$%  #@$%title#@$%REMARKS  #@$%title#@$%ON THE    #@$%title#@$%LIFE AND POEM OF LUCRETIUS.   OF the life of Lucretius but little information has reached us.  Ad nos vix tenuis famæ perlabitur aura.  That he was a Roman by birth, is inferred from the pas  sages in his poem in which he speaks of the Roman world as  his country,1 and of the Roman language as his native tongue.2  As to the time of his birth, it is stated by Eusebius in his  Chronicon, that he was born in the second year of the hundred  and seventy-first Olympiad, or ninety-five years before Christ.  At this period, Ennius had been dead about seventy years ;  Cicero was in his twelfth year; twenty-five years were to  elapse before the birth of Virgil, and four before that of Julius  Caesar. His style, indeed, would make him seem older, but  its antiquated character may be partly affected, in imitation,  perhaps, of Ennius, for whom he expresses great veneration.3  Concerning his family nothing is known. The n'"
      ]
     },
     "execution_count": 38,
     "metadata": {},
     "output_type": "execute_result"
    }
   ],
   "source": [
    "en1893_str_markers[:1000]"
   ]
  },
  {
   "cell_type": "markdown",
   "id": "e0c9d8fa-859d-4e63-bca8-745f4381df72",
   "metadata": {},
   "source": [
    "## Split by section (including chapters)\n",
    "Note: \"#@$%\" added at beginning and end of section markers when extracting text from xml"
   ]
  },
  {
   "cell_type": "code",
   "execution_count": 39,
   "id": "214e56e0-ba84-4897-b945-41ba4fd39cb3",
   "metadata": {},
   "outputs": [],
   "source": [
    "en1893_str_markers_split = en1893_str_markers.split(\"#@$%\")"
   ]
  },
  {
   "cell_type": "code",
   "execution_count": 40,
   "id": "73d28f15-0ec1-44a9-a9d5-97714b964aba",
   "metadata": {
    "tags": []
   },
   "outputs": [
    {
     "data": {
      "text/plain": [
       "['',\n",
       " ' chapter= ',\n",
       " '  ',\n",
       " 'title',\n",
       " 'REMARKS  ',\n",
       " 'title',\n",
       " 'ON THE    ',\n",
       " 'title',\n",
       " 'LIFE AND POEM OF LUCRETIUS.   OF the life of Lucretius but little information has reached us.  Ad nos vix tenuis famæ perlabitur aura.  That he was a Roman by birth, is inferred from the pas  sages in his poem in which he speaks of the Roman world as  his country,1 and of the Roman language as his native tongue.2  As to the time of his birth, it is stated by Eusebius in his  Chronicon, that he was born in the second year of the hundred  and seventy-first Olympiad, or ninety-five years before Christ.  At this period, Ennius had been dead about seventy years ;  Cicero was in his twelfth year; twenty-five years were to  elapse before the birth of Virgil, and four before that of Julius  Caesar. His style, indeed, would make him seem older, but  its antiquated character may be partly affected, in imitation,  perhaps, of Ennius, for whom he expresses great veneration.3  Concerning his family nothing is known. The name of  Lucretius, from the time of Lucretia downwards, occurs fre  quently in the history of Rome, with the surnames Tricipiti  nus, Cinna, Ofella, and others, attached to it; but with whom  the poet was connected, or from whom descended, it is impossi  ble to discover. There was a Lucretius Vespillo contemporary  with him, a senator, mentioned by Cicero and Caesar,5 of  whom Lambinus conjectures that he may have been the  brother; suggesting that the one brother, by engaging in  public life, might have attained senatorial dignity, while the  other, devoting himself to literature and retirement, might have ',\n",
       " 'note',\n",
       " ' 1 Nam neque nos agere hoc patriai tempore iniquo, etc. i. 42. ',\n",
       " 'note_end',\n",
       " ' ',\n",
       " 'note',\n",
       " ' 2 I. 31; ii. 259. ',\n",
       " 'note_end',\n",
       " ' ',\n",
       " 'note',\n",
       " '2 I. 118. ',\n",
       " 'note_end']"
      ]
     },
     "execution_count": 40,
     "metadata": {},
     "output_type": "execute_result"
    }
   ],
   "source": [
    "en1893_str_markers_split[:20]"
   ]
  },
  {
   "cell_type": "code",
   "execution_count": 41,
   "id": "af349436-97b8-4427-9311-4d070c7c5298",
   "metadata": {},
   "outputs": [],
   "source": [
    "# define patterns\n",
    "chapter_marker = re.compile(\" chapter= \") # 4: commentary, prose translation, metric translation, index\n",
    "title_start = \"title\"\n",
    "title_end = \"title_end\"\n",
    "title_commentary = re.compile(\"ARGUMENT\") # startswith\n",
    "title_book = re.compile(\"BOOK\")\n",
    "title_index = re.compile(\"INDEX.\")\n",
    "para_end = re.compile(\"paragraph end\")\n",
    "note_start = re.compile(\"note\")\n",
    "note_end = re.compile(\"note_end\")"
   ]
  },
  {
   "cell_type": "code",
   "execution_count": 42,
   "id": "5d3d2044-0f55-4478-95c0-378c2d5457a9",
   "metadata": {},
   "outputs": [
    {
     "name": "stdout",
     "output_type": "stream",
     "text": [
      "yes\n"
     ]
    }
   ],
   "source": [
    "if re.match(title_start, \"title_end\"):\n",
    "    print(\"yes\")"
   ]
  },
  {
   "cell_type": "code",
   "execution_count": 43,
   "id": "0ccc16a3-cab9-4317-ab55-558782c458cc",
   "metadata": {},
   "outputs": [],
   "source": [
    "test = \"ARGUMENT. asoidau\""
   ]
  },
  {
   "cell_type": "code",
   "execution_count": 44,
   "id": "a3077652-8bf2-463c-9cb4-8baa1e58362c",
   "metadata": {},
   "outputs": [
    {
     "data": {
      "text/plain": [
       "True"
      ]
     },
     "execution_count": 44,
     "metadata": {},
     "output_type": "execute_result"
    }
   ],
   "source": [
    "test.startswith(\"ARGUMENT.\")"
   ]
  },
  {
   "cell_type": "code",
   "execution_count": 45,
   "id": "fc5ce4aa-ea49-4364-9d08-9e6753316942",
   "metadata": {},
   "outputs": [
    {
     "data": {
      "text/plain": [
       "5765"
      ]
     },
     "execution_count": 45,
     "metadata": {},
     "output_type": "execute_result"
    }
   ],
   "source": [
    "len(en1893_str_markers_split)"
   ]
  },
  {
   "cell_type": "code",
   "execution_count": 46,
   "id": "b7645fad-d4b5-4913-b356-1252fa3a6dc5",
   "metadata": {},
   "outputs": [],
   "source": [
    "chapteridx2chaptername = {}\n",
    "chapteridx2chaptername[0] = \"foreword\"\n",
    "chapteridx2chaptername[1] = \"prose_translation\"\n",
    "chapteridx2chaptername[2] = \"metric_translation\"\n",
    "chapteridx2chaptername[3] = \"index\""
   ]
  },
  {
   "cell_type": "code",
   "execution_count": 47,
   "id": "d74395c1-b405-4570-bdab-c89d8a66e274",
   "metadata": {},
   "outputs": [
    {
     "data": {
      "text/plain": [
       "['',\n",
       " ' chapter= ',\n",
       " '  ',\n",
       " 'title',\n",
       " 'REMARKS  ',\n",
       " 'title',\n",
       " 'ON THE    ',\n",
       " 'title',\n",
       " 'LIFE AND POEM OF LUCRETIUS.   OF the life of Lucretius but little information has reached us.  Ad nos vix tenuis famæ perlabitur aura.  That he was a Roman by birth, is inferred from the pas  sages in his poem in which he speaks of the Roman world as  his country,1 and of the Roman language as his native tongue.2  As to the time of his birth, it is stated by Eusebius in his  Chronicon, that he was born in the second year of the hundred  and seventy-first Olympiad, or ninety-five years before Christ.  At this period, Ennius had been dead about seventy years ;  Cicero was in his twelfth year; twenty-five years were to  elapse before the birth of Virgil, and four before that of Julius  Caesar. His style, indeed, would make him seem older, but  its antiquated character may be partly affected, in imitation,  perhaps, of Ennius, for whom he expresses great veneration.3  Concerning his family nothing is known. The name of  Lucretius, from the time of Lucretia downwards, occurs fre  quently in the history of Rome, with the surnames Tricipiti  nus, Cinna, Ofella, and others, attached to it; but with whom  the poet was connected, or from whom descended, it is impossi  ble to discover. There was a Lucretius Vespillo contemporary  with him, a senator, mentioned by Cicero and Caesar,5 of  whom Lambinus conjectures that he may have been the  brother; suggesting that the one brother, by engaging in  public life, might have attained senatorial dignity, while the  other, devoting himself to literature and retirement, might have ',\n",
       " 'note',\n",
       " ' 1 Nam neque nos agere hoc patriai tempore iniquo, etc. i. 42. ',\n",
       " 'note_end',\n",
       " ' ',\n",
       " 'note',\n",
       " ' 2 I. 31; ii. 259. ',\n",
       " 'note_end',\n",
       " ' ',\n",
       " 'note',\n",
       " '2 I. 118. ',\n",
       " 'note_end',\n",
       " ' ',\n",
       " 'note',\n",
       " '4 Cic. Brut. c. 48. ',\n",
       " 'note_end',\n",
       " ' ']"
      ]
     },
     "execution_count": 47,
     "metadata": {},
     "output_type": "execute_result"
    }
   ],
   "source": [
    "en1893_str_markers_split[:25]"
   ]
  },
  {
   "cell_type": "markdown",
   "id": "1926f3ce-9600-453c-bfd9-0587e84221b0",
   "metadata": {
    "jp-MarkdownHeadingCollapsed": true,
    "tags": []
   },
   "source": [
    "## remove empty strings"
   ]
  },
  {
   "cell_type": "code",
   "execution_count": 48,
   "id": "7b9bf5e7-215c-445a-8cd0-552795cce429",
   "metadata": {},
   "outputs": [
    {
     "data": {
      "text/html": [
       "<div>\n",
       "<style scoped>\n",
       "    .dataframe tbody tr th:only-of-type {\n",
       "        vertical-align: middle;\n",
       "    }\n",
       "\n",
       "    .dataframe tbody tr th {\n",
       "        vertical-align: top;\n",
       "    }\n",
       "\n",
       "    .dataframe thead th {\n",
       "        text-align: right;\n",
       "    }\n",
       "</style>\n",
       "<table border=\"1\" class=\"dataframe\">\n",
       "  <thead>\n",
       "    <tr style=\"text-align: right;\">\n",
       "      <th></th>\n",
       "      <th>0</th>\n",
       "    </tr>\n",
       "  </thead>\n",
       "  <tbody>\n",
       "    <tr>\n",
       "      <th>0</th>\n",
       "      <td></td>\n",
       "    </tr>\n",
       "    <tr>\n",
       "      <th>1</th>\n",
       "      <td>chapter=</td>\n",
       "    </tr>\n",
       "    <tr>\n",
       "      <th>2</th>\n",
       "      <td></td>\n",
       "    </tr>\n",
       "    <tr>\n",
       "      <th>3</th>\n",
       "      <td>title</td>\n",
       "    </tr>\n",
       "    <tr>\n",
       "      <th>4</th>\n",
       "      <td>REMARKS</td>\n",
       "    </tr>\n",
       "  </tbody>\n",
       "</table>\n",
       "</div>"
      ],
      "text/plain": [
       "            0\n",
       "0            \n",
       "1   chapter= \n",
       "2            \n",
       "3       title\n",
       "4   REMARKS  "
      ]
     },
     "execution_count": 48,
     "metadata": {},
     "output_type": "execute_result"
    }
   ],
   "source": [
    "df = pd.DataFrame(en1893_str_markers_split)\n",
    "df.head()"
   ]
  },
  {
   "cell_type": "code",
   "execution_count": 49,
   "id": "3b4bb6dc-5814-4402-bb23-c53bed2611ec",
   "metadata": {},
   "outputs": [
    {
     "data": {
      "text/plain": [
       "(5765, 1)"
      ]
     },
     "execution_count": 49,
     "metadata": {},
     "output_type": "execute_result"
    }
   ],
   "source": [
    "df.shape"
   ]
  },
  {
   "cell_type": "code",
   "execution_count": 50,
   "id": "543f3755-8894-4a50-894c-d601f879f751",
   "metadata": {},
   "outputs": [
    {
     "data": {
      "text/plain": [
       "0    0\n",
       "dtype: int64"
      ]
     },
     "execution_count": 50,
     "metadata": {},
     "output_type": "execute_result"
    }
   ],
   "source": [
    "df.isna().sum()"
   ]
  },
  {
   "cell_type": "code",
   "execution_count": 51,
   "id": "4ca9da19-f989-42dd-bc9d-1eb80d42d536",
   "metadata": {},
   "outputs": [],
   "source": [
    "df[0].replace(\"   \", np.nan, inplace=True)\n",
    "df[0].replace(\"  \", np.nan, inplace=True)\n",
    "df[0].replace(\" \", np.nan, inplace=True)\n",
    "df[0].replace(\"\", np.nan, inplace=True)"
   ]
  },
  {
   "cell_type": "code",
   "execution_count": 52,
   "id": "f739ea4e-b7db-4dfe-88ed-170264755b7d",
   "metadata": {},
   "outputs": [
    {
     "data": {
      "text/plain": [
       "0    1238\n",
       "dtype: int64"
      ]
     },
     "execution_count": 52,
     "metadata": {},
     "output_type": "execute_result"
    }
   ],
   "source": [
    "df.isna().sum()"
   ]
  },
  {
   "cell_type": "code",
   "execution_count": 53,
   "id": "0b21dc6f-8f85-4165-bd99-0912f562c86c",
   "metadata": {},
   "outputs": [],
   "source": [
    "df.dropna(inplace=True)"
   ]
  },
  {
   "cell_type": "code",
   "execution_count": 54,
   "id": "0319d0f9-5fe5-4b55-ba3f-dcc1a8560c0f",
   "metadata": {},
   "outputs": [
    {
     "data": {
      "text/html": [
       "<div>\n",
       "<style scoped>\n",
       "    .dataframe tbody tr th:only-of-type {\n",
       "        vertical-align: middle;\n",
       "    }\n",
       "\n",
       "    .dataframe tbody tr th {\n",
       "        vertical-align: top;\n",
       "    }\n",
       "\n",
       "    .dataframe thead th {\n",
       "        text-align: right;\n",
       "    }\n",
       "</style>\n",
       "<table border=\"1\" class=\"dataframe\">\n",
       "  <thead>\n",
       "    <tr style=\"text-align: right;\">\n",
       "      <th></th>\n",
       "      <th>0</th>\n",
       "    </tr>\n",
       "  </thead>\n",
       "  <tbody>\n",
       "    <tr>\n",
       "      <th>1</th>\n",
       "      <td>chapter=</td>\n",
       "    </tr>\n",
       "    <tr>\n",
       "      <th>3</th>\n",
       "      <td>title</td>\n",
       "    </tr>\n",
       "    <tr>\n",
       "      <th>4</th>\n",
       "      <td>REMARKS</td>\n",
       "    </tr>\n",
       "    <tr>\n",
       "      <th>5</th>\n",
       "      <td>title</td>\n",
       "    </tr>\n",
       "    <tr>\n",
       "      <th>6</th>\n",
       "      <td>ON THE</td>\n",
       "    </tr>\n",
       "  </tbody>\n",
       "</table>\n",
       "</div>"
      ],
      "text/plain": [
       "            0\n",
       "1   chapter= \n",
       "3       title\n",
       "4   REMARKS  \n",
       "5       title\n",
       "6  ON THE    "
      ]
     },
     "execution_count": 54,
     "metadata": {},
     "output_type": "execute_result"
    }
   ],
   "source": [
    "df.head()"
   ]
  },
  {
   "cell_type": "code",
   "execution_count": 55,
   "id": "b24704ec-147d-4b75-9c3e-243c7b6271f6",
   "metadata": {},
   "outputs": [
    {
     "data": {
      "text/plain": [
       "(4527, 1)"
      ]
     },
     "execution_count": 55,
     "metadata": {},
     "output_type": "execute_result"
    }
   ],
   "source": [
    "df.shape"
   ]
  },
  {
   "cell_type": "code",
   "execution_count": 56,
   "id": "644c2dff-5650-4f2c-946e-32f05de507c5",
   "metadata": {},
   "outputs": [],
   "source": [
    "en1893_str_markers_split = list(df[0])"
   ]
  },
  {
   "cell_type": "code",
   "execution_count": 57,
   "id": "dc6c4f05-4fa0-42e8-8297-2e9106b39eb6",
   "metadata": {
    "tags": []
   },
   "outputs": [
    {
     "data": {
      "text/plain": [
       "' 2 I. 31; ii. 259. '"
      ]
     },
     "execution_count": 57,
     "metadata": {},
     "output_type": "execute_result"
    }
   ],
   "source": [
    "en1893_str_markers_split[11]"
   ]
  },
  {
   "cell_type": "markdown",
   "id": "f1c996f4-ce03-4114-ad43-6bc2447707e4",
   "metadata": {},
   "source": [
    "## Reconstruct text without markers"
   ]
  },
  {
   "cell_type": "code",
   "execution_count": 58,
   "id": "33843542-dae7-4282-8af7-728282561f73",
   "metadata": {
    "tags": []
   },
   "outputs": [],
   "source": [
    "en_reconstructed = []\n",
    "en_reconstructed_idx = -1\n",
    "\n",
    "chapter_counter = -1\n",
    "chap2idx_start = {}\n",
    "\n",
    "book_counter = 0\n",
    "\n",
    "idx2section_name = {}\n",
    "\n",
    "hit_section_marker = False\n",
    "\n",
    "lst_test = []\n",
    "\n",
    "lucretius_en1893_textonly = []\n",
    "\n",
    "for section_idx, section in enumerate(en1893_str_markers_split):\n",
    "    lst_test.append(hit_section_marker)\n",
    "    \n",
    "    if section == \"\":\n",
    "        continue\n",
    "    elif section == \" \":\n",
    "        continue\n",
    "    elif section == \"  \":\n",
    "        continue\n",
    "        \n",
    "    # if section is chapter marker\n",
    "    elif re.match(chapter_marker, section):\n",
    "        # increment chapter counter\n",
    "        chapter_counter += 1\n",
    "        # reset book counter\n",
    "        book_counter = 0\n",
    "        # mark idx of en_reconstructed where chapter starts\n",
    "        chap2idx_start[chapter_counter] = en_reconstructed_idx\n",
    "    \n",
    "    # if section is title marker\n",
    "    elif re.match(title_start, section):\n",
    "        hit_section_marker = True\n",
    "        # then next section is a title, which will be added to en_reconstructed\n",
    "        # label as title for titles that don't match instances below (index, book, argument)\n",
    "        label_nextitem = str(chapteridx2chaptername[chapter_counter]) + \"book\" + str(book_counter) + \"title\"\n",
    "        \n",
    "        # if title (next item in list) starts with \"INDEX\"\n",
    "        if en1893_str_markers_split[section_idx+1].startswith(\"INDEX.\"):\n",
    "            # index is in one section only; rename label\n",
    "            label_nextitem = \"index\"\n",
    "\n",
    "        # if next item in list starts with \"BOOK\"\n",
    "        elif en1893_str_markers_split[section_idx+1].startswith(\"BOOK\"):\n",
    "            # new book is starting\n",
    "            book_counter += 1\n",
    "            # rename label\n",
    "            label_nextitem = str(chapteridx2chaptername[chapter_counter]) + \"book\" + str(book_counter) + \"title\"\n",
    "        \n",
    "        # if next item in list starts with \"ARGUMENT\"\n",
    "        elif en1893_str_markers_split[section_idx+1].startswith(\"ARGUMENT\"):\n",
    "            # label as commentary\n",
    "            label_nextitem = str(chapteridx2chaptername[chapter_counter]) + \"book\" + str(book_counter) + \"commentary\"\n",
    "        \n",
    "        continue\n",
    "    \n",
    "    # if section marks the start of a note\n",
    "    # elif re.match(note_start, section):\n",
    "    elif section == \"note\":\n",
    "        if en1893_str_markers_split[section_idx+1] == \"note_end\":\n",
    "            hit_section_marker = False\n",
    "            continue\n",
    "        else:\n",
    "            hit_section_marker = True\n",
    "            # then next section is a footnote, add to en_reconstructed\n",
    "            label_nextitem = str(chapteridx2chaptername[chapter_counter]) + \"book\" + str(book_counter) + \"note\"\n",
    "    \n",
    "    elif re.match(note_end, section):\n",
    "        # do nothing; just there to separate footnote from following text\n",
    "        hit_section_marker = False\n",
    "        continue\n",
    "    \n",
    "    elif re.match(para_end, section):\n",
    "        # do nothing; just there to create separations in sections from raw text\n",
    "        hit_section_marker = False\n",
    "        continue\n",
    "    \n",
    "    else:\n",
    "        # all markers have been excluded; append to en_reconstructed\n",
    "        en_reconstructed.append(section)\n",
    "        en_reconstructed_idx += 1\n",
    "        \n",
    "        if hit_section_marker == True:\n",
    "            idx2section_name[en_reconstructed_idx] = label_nextitem\n",
    "            hit_section_marker = False\n",
    "            \n",
    "        else:\n",
    "            idx2section_name[en_reconstructed_idx] = str(chapteridx2chaptername[chapter_counter]) + \"book\" + str(book_counter)\n",
    "            if chapter_counter > 0:\n",
    "                lucretius_en1893_textonly.append(section)\n"
   ]
  },
  {
   "cell_type": "code",
   "execution_count": 59,
   "id": "d217d6a1-0fbd-4359-b0be-f44867048e6c",
   "metadata": {},
   "outputs": [],
   "source": [
    "# fix errors here, then initialize en1983_sents_tokenized again\n",
    "for sent_idx, sent in enumerate(en_reconstructed):\n",
    "    en_reconstructed[sent_idx] = en_reconstructed[sent_idx].replace(\".”1\", \".” 1\")\n",
    "    en_reconstructed[sent_idx] = en_reconstructed[sent_idx].replace(\"tongue.2\", \"tongue. 2\")\n",
    "    en_reconstructed[sent_idx] = en_reconstructed[sent_idx].replace(\"veneration.3\", \"veneration. 3\")\n",
    "    en_reconstructed[sent_idx] = en_reconstructed[sent_idx].replace(\"insane.3\", \"insane. 3\")\n",
    "    en_reconstructed[sent_idx] = en_reconstructed[sent_idx].replace(\".1\", \". 1\")\n",
    "    en_reconstructed[sent_idx] = en_reconstructed[sent_idx].replace(\"opinion.3\", \"opinion. 3\")\n",
    "    en_reconstructed[sent_idx] = en_reconstructed[sent_idx].replace(\".7\", \". 7\")\n",
    "    en_reconstructed[sent_idx] = en_reconstructed[sent_idx].replace(\".2\", \". 2\")\n",
    "    en_reconstructed[sent_idx] = en_reconstructed[sent_idx].replace(\".4\", \". 4\")\n",
    "    en_reconstructed[sent_idx] = en_reconstructed[sent_idx].replace('language;\"', 'language; \"')\n",
    "    en_reconstructed[sent_idx] = en_reconstructed[sent_idx].replace('Lucretius;\"', 'Lucretius; \"')\n",
    "    en_reconstructed[sent_idx] = en_reconstructed[sent_idx].replace(\"?1\", \"? 1\")\n",
    "    en_reconstructed[sent_idx] = en_reconstructed[sent_idx].replace(\".5\", \". 5\")\n",
    "    en_reconstructed[sent_idx] = en_reconstructed[sent_idx].replace(\".6\", \". 6\")\n",
    "    en_reconstructed[sent_idx] = en_reconstructed[sent_idx].replace(\"It;.\", \"It; .\")\n",
    "    en_reconstructed[sent_idx] = en_reconstructed[sent_idx].replace(\":8\", \": 8\")\n",
    "    en_reconstructed[sent_idx] = en_reconstructed[sent_idx].replace(\".3\", \". 3\")\n",
    "    en_reconstructed[sent_idx] = en_reconstructed[sent_idx].replace(\":2\", \": 2\")\n",
    "    en_reconstructed[sent_idx] = en_reconstructed[sent_idx].replace(\"?2\", \"? 2\")\n",
    "    en_reconstructed[sent_idx] = en_reconstructed[sent_idx].replace('ἔχειπρός.”Wakefield.', 'ἔχειπρός. ”Wakefield.')\n",
    "    en_reconstructed[sent_idx] = en_reconstructed[sent_idx].replace(\"Tacitus. 11\", \"Tacitus.11\")\n",
    "    en_reconstructed[sent_idx] = en_reconstructed[sent_idx].replace('Æolia.”What', 'Æolia. ”What')\n",
    "    en_reconstructed[sent_idx] = en_reconstructed[sent_idx].replace('concerned).—', 'concerned). —')\n",
    "    en_reconstructed[sent_idx] = en_reconstructed[sent_idx].replace('.—', '. —')\n",
    "    en_reconstructed[sent_idx] = en_reconstructed[sent_idx].replace(\"nix.—Are\", \"nix. —Are\")\n",
    "    en_reconstructed[sent_idx] = en_reconstructed[sent_idx].replace(\"improvida.—Find\", \"improvida. —Find\")\n",
    "    en_reconstructed[sent_idx] = en_reconstructed[sent_idx].replace(\";\", \"; \")\n",
    "    en_reconstructed[sent_idx] = en_reconstructed[sent_idx].replace(\"fleshes.”\", \"fleshes. ”\")\n",
    "    en_reconstructed[sent_idx] = en_reconstructed[sent_idx].replace(\".]Ver\", \".] Ver\")\n",
    "    en_reconstructed[sent_idx] = en_reconstructed[sent_idx].replace(\":so\", \": so\")\n",
    "    en_reconstructed[sent_idx] = en_reconstructed[sent_idx].replace(\"flumina. —“\", \"flumina.—“\")\n",
    "    en_reconstructed[sent_idx] = en_reconstructed[sent_idx].replace(\"armis.–Fortè\", \"armis. –Fortè\")\n",
    "    en_reconstructed[sent_idx] = en_reconstructed[sent_idx].replace(\"—But\", \"— But\")\n",
    "    en_reconstructed[sent_idx] = en_reconstructed[sent_idx].replace(\"—Or\", \"— Or\")\n",
    "    en_reconstructed[sent_idx] = en_reconstructed[sent_idx].replace(\"minds.\", \"minds. \")\n",
    "    en_reconstructed[sent_idx] = en_reconstructed[sent_idx].replace(':\"', ': \"')\n",
    "    en_reconstructed[sent_idx] = en_reconstructed[sent_idx].replace('first.-The', 'first. -The')\n",
    "    en_reconstructed[sent_idx] = en_reconstructed[sent_idx].replace(':)', ': )')\n",
    "    en_reconstructed[sent_idx] = en_reconstructed[sent_idx].replace('body. ——I', 'body.— —I')\n",
    "    en_reconstructed[sent_idx] = en_reconstructed[sent_idx].replace('curtains. —“', 'curtains.—“')\n",
    "    en_reconstructed[sent_idx] = en_reconstructed[sent_idx].replace('593. —\"', '593.—\"')\n",
    "    en_reconstructed[sent_idx] = en_reconstructed[sent_idx].replace('borne. 3', 'borne.3')\n",
    "    en_reconstructed[sent_idx] = en_reconstructed[sent_idx].replace('words.J', 'words. J')\n",
    "    en_reconstructed[sent_idx] = en_reconstructed[sent_idx].replace('compose. 1', 'compose.1')\n",
    "    en_reconstructed[sent_idx] = en_reconstructed[sent_idx].replace(\"systems.”Whewell's\", \"systems. ”Whewell's\")\n",
    "    en_reconstructed[sent_idx] = en_reconstructed[sent_idx].replace('life?3', 'life? 3')\n",
    "    en_reconstructed[sent_idx] = en_reconstructed[sent_idx].replace(\"? 1  Or,\", \"?1 Or,\")\n",
    "    en_reconstructed[sent_idx] = en_reconstructed[sent_idx].replace('true.]1', 'true.] 1')\n",
    "    en_reconstructed[sent_idx] = en_reconstructed[sent_idx].replace('Phil. i. 1. 1.', 'Phil. i. 1.1.')\n",
    "    en_reconstructed[sent_idx] = en_reconstructed[sent_idx].replace('up. 1 adhering', 'up.1 adhering')\n",
    "    en_reconstructed[sent_idx] = en_reconstructed[sent_idx].replace('6, 6. —With', '6, 6.—With')\n",
    "    en_reconstructed[sent_idx] = en_reconstructed[sent_idx].replace('THE YEAR. 3', 'THE YEAR.3')\n",
    "    en_reconstructed[sent_idx] = en_reconstructed[sent_idx].replace('elbows?3', 'elbows? 3')\n",
    "    en_reconstructed[sent_idx] = en_reconstructed[sent_idx].replace(':—idem', ': —idem')\n",
    "    en_reconstructed[sent_idx] = en_reconstructed[sent_idx].replace('moisture.-Motion', 'moisture. -Motion')\n",
    "    en_reconstructed[sent_idx] = en_reconstructed[sent_idx].replace('ENTIRE WHOLE. 1', 'ENTIRE WHOLE.1')\n",
    "    en_reconstructed[sent_idx] = en_reconstructed[sent_idx].replace('sui.”Aul.Gell.', 'sui. ”Aul. Gell.')\n",
    "    en_reconstructed[sent_idx] = en_reconstructed[sent_idx].replace('itself?3', 'itself? 3')\n",
    "    en_reconstructed[sent_idx] = en_reconstructed[sent_idx].replace('sun?4', 'sun? 4')\n",
    "    en_reconstructed[sent_idx] = en_reconstructed[sent_idx].replace('day :—', 'day : —')\n",
    "    en_reconstructed[sent_idx] = en_reconstructed[sent_idx].replace('every nerve. — ', 'every nerve.—')\n",
    "    en_reconstructed[sent_idx] = en_reconstructed[sent_idx].replace('fury !— But', 'fury ! —But')\n",
    "    en_reconstructed[sent_idx] = en_reconstructed[sent_idx].replace('flame. —', 'flame.—')\n",
    "    en_reconstructed[sent_idx] = en_reconstructed[sent_idx].replace('concealed. —', 'concealed.—')\n",
    "    en_reconstructed[sent_idx] = en_reconstructed[sent_idx].replace('rose:-', 'rose: -')\n",
    "    en_reconstructed[sent_idx] = en_reconstructed[sent_idx].replace('exhaustion:—such', 'exhaustion: —such')\n",
    "    en_reconstructed[sent_idx] = en_reconstructed[sent_idx].replace('beneath.-On', 'beneath. -On')\n",
    "    en_reconstructed[sent_idx] = en_reconstructed[sent_idx].replace('bring:-', 'bring: -')\n",
    "    en_reconstructed[sent_idx] = en_reconstructed[sent_idx].replace('Corporeal:—hence', 'Corporeal: —hence')\n",
    "    en_reconstructed[sent_idx] = en_reconstructed[sent_idx].replace(':-can', ': -can')\n",
    "    en_reconstructed[sent_idx] = en_reconstructed[sent_idx].replace(':-a', ': -a')\n",
    "    en_reconstructed[sent_idx] = en_reconstructed[sent_idx].replace(':-by', ': -by')\n",
    "    en_reconstructed[sent_idx] = en_reconstructed[sent_idx].replace('.And', '. And')\n",
    "    en_reconstructed[sent_idx] = en_reconstructed[sent_idx].replace('death.-Since', 'death. -Since')\n",
    "    en_reconstructed[sent_idx] = en_reconstructed[sent_idx].replace(':-some', ': -some')\n",
    "    en_reconstructed[sent_idx] = en_reconstructed[sent_idx].replace('ever!\"— But', 'ever!\" —But')\n",
    "    en_reconstructed[sent_idx] = en_reconstructed[sent_idx].replace('peace. —', 'peace.—')\n",
    "    en_reconstructed[sent_idx] = en_reconstructed[sent_idx].replace('aid.-No', 'aid. -No')\n",
    "    en_reconstructed[sent_idx] = en_reconstructed[sent_idx].replace('man. —', 'man.—')\n",
    "    en_reconstructed[sent_idx] = en_reconstructed[sent_idx].replace('?or', '? or')\n",
    "    en_reconstructed[sent_idx] = en_reconstructed[sent_idx].replace(':-it', ': -it')\n",
    "    en_reconstructed[sent_idx] = en_reconstructed[sent_idx].replace('ill. —', 'ill.—')\n",
    "    en_reconstructed[sent_idx] = en_reconstructed[sent_idx].replace('prevail.-Thus', 'prevail. -Thus')\n",
    "    en_reconstructed[sent_idx] = en_reconstructed[sent_idx].replace(':-for', ': -for')\n",
    "    en_reconstructed[sent_idx] = en_reconstructed[sent_idx].replace('well-spring:—creed', 'well-spring: —creed')\n",
    "    en_reconstructed[sent_idx] = en_reconstructed[sent_idx].replace(':different', ': different')\n",
    "    en_reconstructed[sent_idx] = en_reconstructed[sent_idx].replace('an:!', 'an: !')\n",
    "    en_reconstructed[sent_idx] = en_reconstructed[sent_idx].replace('v. 2. 5', 'v. 2.5')\n",
    "    en_reconstructed[sent_idx] = en_reconstructed[sent_idx].replace('v. 1116;', 'v.1116;')\n",
    "    en_reconstructed[sent_idx] = en_reconstructed[sent_idx].replace('1. 57,', '1.57,')\n",
    "    en_reconstructed[sent_idx] = en_reconstructed[sent_idx].replace(':voluntary', ': voluntary')\n",
    "    en_reconstructed[sent_idx] = en_reconstructed[sent_idx].replace('ib. ;   grow', 'ib. grow')\n",
    "    en_reconstructed[sent_idx] = en_reconstructed[sent_idx].replace('in, v. 30', 'in, v.30')\n",
    "    en_reconstructed[sent_idx] = en_reconstructed[sent_idx].replace('tones ? 1', 'tones ?1')"
   ]
  },
  {
   "cell_type": "markdown",
   "id": "f37d95f8-684a-4af5-8b8b-796ddfae8ede",
   "metadata": {},
   "source": [
    "# Tokenize en1893 with and without section markers"
   ]
  },
  {
   "cell_type": "code",
   "execution_count": 60,
   "id": "df4a2516-462d-4b08-985e-8f6530218d88",
   "metadata": {},
   "outputs": [],
   "source": [
    "en1983_sents_tokenized = []\n",
    "for idx, sent in enumerate(en1983_sents):\n",
    "    en1983_sents_tokenized.append(sent.split())"
   ]
  },
  {
   "cell_type": "code",
   "execution_count": 61,
   "id": "4ca931f3-72af-41e2-b581-e248ced3992a",
   "metadata": {},
   "outputs": [],
   "source": [
    "en_reconstructed_tokenized = []\n",
    "for idx, sent in enumerate(en_reconstructed):\n",
    "    en_reconstructed_tokenized.append(sent.split())"
   ]
  },
  {
   "cell_type": "code",
   "execution_count": 62,
   "id": "8a9437bb-b7dd-47da-8699-e3614210b776",
   "metadata": {},
   "outputs": [],
   "source": [
    "num_tokens_sents = 0\n",
    "for sent in en1983_sents_tokenized:\n",
    "    num_tokens_sents += len(sent)\n",
    "\n",
    "num_tokens_chapts = 0\n",
    "for sent in en_reconstructed_tokenized:\n",
    "    num_tokens_chapts += len(sent)"
   ]
  },
  {
   "cell_type": "code",
   "execution_count": 63,
   "id": "6fe5131e-bffd-4342-bdb7-ce7962153479",
   "metadata": {},
   "outputs": [
    {
     "data": {
      "text/plain": [
       "True"
      ]
     },
     "execution_count": 63,
     "metadata": {},
     "output_type": "execute_result"
    }
   ],
   "source": [
    "num_tokens_chapts == num_tokens_sents"
   ]
  },
  {
   "cell_type": "code",
   "execution_count": 64,
   "id": "334889e9-a227-4826-bcba-34574dea494d",
   "metadata": {},
   "outputs": [
    {
     "name": "stdout",
     "output_type": "stream",
     "text": [
      "202634\n",
      "202634\n"
     ]
    }
   ],
   "source": [
    "print(num_tokens_chapts)\n",
    "print(num_tokens_sents)"
   ]
  },
  {
   "cell_type": "markdown",
   "id": "1a9ff2af-cdff-453c-b1a2-2142fa9c1ab0",
   "metadata": {},
   "source": [
    "## Find data errors in tokenized docs"
   ]
  },
  {
   "cell_type": "code",
   "execution_count": 65,
   "id": "2ff6d018-d9f5-4893-8767-da4c1bc91030",
   "metadata": {},
   "outputs": [],
   "source": [
    "en1983_tokens_from_sents = flatten_list(en1983_sents_tokenized)\n",
    "en1983_tokens_from_chapts = flatten_list(en_reconstructed_tokenized)"
   ]
  },
  {
   "cell_type": "code",
   "execution_count": 66,
   "id": "83e0a1c2-eb82-4ece-ae53-8bd01457618c",
   "metadata": {},
   "outputs": [
    {
     "data": {
      "text/plain": [
       "True"
      ]
     },
     "execution_count": 66,
     "metadata": {},
     "output_type": "execute_result"
    }
   ],
   "source": [
    "en1983_tokens_from_sents == en1983_tokens_from_chapts"
   ]
  },
  {
   "cell_type": "code",
   "execution_count": 67,
   "id": "fecf023f-dbc3-43c1-843d-04f200a557ba",
   "metadata": {},
   "outputs": [
    {
     "data": {
      "text/plain": [
       "['others.]',\n",
       " 'Ver.',\n",
       " '1282.',\n",
       " 'Aliena',\n",
       " 'rogorum—',\n",
       " 'extructa.',\n",
       " 'Thus',\n",
       " 'abruptly',\n",
       " 'ends',\n",
       " 'the',\n",
       " 'description',\n",
       " 'of']"
      ]
     },
     "execution_count": 67,
     "metadata": {},
     "output_type": "execute_result"
    }
   ],
   "source": [
    "en1983_tokens_from_sents[135670:135682]"
   ]
  },
  {
   "cell_type": "code",
   "execution_count": 68,
   "id": "1fe9ae6a-4d88-4f89-9fdf-a5083cff9afc",
   "metadata": {},
   "outputs": [
    {
     "data": {
      "text/plain": [
       "['others.]',\n",
       " 'Ver.',\n",
       " '1282.',\n",
       " 'Aliena',\n",
       " 'rogorum—',\n",
       " 'extructa.',\n",
       " 'Thus',\n",
       " 'abruptly',\n",
       " 'ends',\n",
       " 'the',\n",
       " 'description',\n",
       " 'of']"
      ]
     },
     "execution_count": 68,
     "metadata": {},
     "output_type": "execute_result"
    }
   ],
   "source": [
    "en1983_tokens_from_chapts[135670:135682]"
   ]
  },
  {
   "cell_type": "code",
   "execution_count": 69,
   "id": "c3c67411-b05a-4f1c-9007-701a01b49320",
   "metadata": {
    "tags": []
   },
   "outputs": [],
   "source": [
    "for idx, token in enumerate(en1983_tokens_from_chapts):\n",
    "    if token != en1983_tokens_from_sents[idx]:\n",
    "        print(idx)"
   ]
  },
  {
   "cell_type": "markdown",
   "id": "8f4aff12-4492-4596-887f-1a6ff7bf9c36",
   "metadata": {},
   "source": [
    "# Get sent idx to section name dict for en1893"
   ]
  },
  {
   "cell_type": "code",
   "execution_count": 70,
   "id": "7f194191-68f1-40c1-9a4a-b5039030c8e2",
   "metadata": {},
   "outputs": [],
   "source": [
    "def build_sent_to_section_dict(lst_tokenized_sents, lst_tokenized_chapts,\n",
    "                               dict_chapter_2_section):\n",
    "    \"\"\"\n",
    "    Build dict of sentence idx to section name\n",
    "    \"\"\"\n",
    "    sent_idx_2_section_name = {}\n",
    "    token_counter = 0 # per section/chapter\n",
    "    current_section_idx = 0\n",
    "    for idx_sent, sent in enumerate(lst_tokenized_sents):\n",
    "        token_counter += len(sent)\n",
    "        current_chapter_length = len(lst_tokenized_chapts[current_section_idx])\n",
    "        if token_counter < current_chapter_length:\n",
    "            # add sent to dict\n",
    "            sent_idx_2_section_name[idx_sent] = dict_chapter_2_section[current_section_idx]\n",
    "        elif token_counter == current_chapter_length:\n",
    "            # add sent to dict as part of current section\n",
    "            sent_idx_2_section_name[idx_sent] = dict_chapter_2_section[current_section_idx]\n",
    "            # reset token counter and current section idx for next sent iteration\n",
    "            token_counter = 0\n",
    "            current_section_idx += 1\n",
    "        else: # token_counter > current_chapter_length, i.e. we've crossed a section boundary \n",
    "            # add sent to current section and next section\n",
    "            sent_idx_2_section_name[idx_sent] = [\n",
    "                dict_chapter_2_section[current_section_idx], \n",
    "                dict_chapter_2_section[current_section_idx+1]]\n",
    "            # adjust token counter by only including portion of sent in new section\n",
    "            token_counter = token_counter - current_chapter_length\n",
    "            # update current section idx for next sent iteration\n",
    "            current_section_idx += 1\n",
    "    return sent_idx_2_section_name"
   ]
  },
  {
   "cell_type": "code",
   "execution_count": 71,
   "id": "ddd66e87-f78e-476e-b246-c53bc54f6ef5",
   "metadata": {},
   "outputs": [],
   "source": [
    "en1893_sent2section_name = build_sent_to_section_dict(\n",
    "    en1983_sents_tokenized, en_reconstructed_tokenized, idx2section_name)\n"
   ]
  },
  {
   "cell_type": "markdown",
   "id": "bf1256d9-a421-4f9b-ba96-1b85f1f10dbc",
   "metadata": {},
   "source": [
    "## Write to json"
   ]
  },
  {
   "cell_type": "code",
   "execution_count": 72,
   "id": "9e3008a8-46ce-4078-9f28-295c64985936",
   "metadata": {},
   "outputs": [],
   "source": [
    "# path_out = \"/home/craig.car/repos/chiron/align_texts_project/data/lucretius/en1893_sent2section_dict_jul25.json\"\n",
    "# with open(path_out, 'w') as fp:\n",
    "#     json.dump(en1893_sent2section_name, fp)"
   ]
  },
  {
   "cell_type": "code",
   "execution_count": 73,
   "id": "13dcd024-9826-48cc-be3f-4b89778617b6",
   "metadata": {},
   "outputs": [],
   "source": [
    "# path_out = \"/home/craig.car/repos/chiron/align_texts_project/data/lucretius/en1893_sent2section_dict_NEW.json\"\n",
    "# with open(path_out, 'w') as fp:\n",
    "#     json.dump(en1893_sent2section_name, fp)"
   ]
  },
  {
   "cell_type": "markdown",
   "id": "dd797729-515c-4faa-a53f-63a98b1699f0",
   "metadata": {},
   "source": [
    "# Get Lucretius text only"
   ]
  },
  {
   "cell_type": "code",
   "execution_count": 74,
   "id": "4ab55782-709c-4e80-ad9f-b4b3fae0e758",
   "metadata": {},
   "outputs": [],
   "source": [
    "prose_sents = ['prose_translationbook1',\n",
    "               'prose_translationbook2',\n",
    "               'prose_translationbook3',\n",
    "               'prose_translationbook4',\n",
    "               'prose_translationbook5',\n",
    "               'prose_translationbook6']\n",
    "\n",
    "metric_sents = ['metric_translationbook1',\n",
    "                'metric_translationbook2',\n",
    "                'metric_translationbook3',\n",
    "                'metric_translationbook4',\n",
    "                'metric_translationbook5',\n",
    "                'metric_translationbook6']"
   ]
  },
  {
   "cell_type": "code",
   "execution_count": 75,
   "id": "35323b78-e895-41c5-b5e6-493a74dd07bc",
   "metadata": {},
   "outputs": [],
   "source": [
    "# get raw text again and do not remove newlines (as did when building en_reconstructed)\n",
    "# raw_path_markers = \"/home/craig.car/repos/chiron/align_texts_project/data/lucretius/lucretius_en1893_str_withsections.txt\"\n",
    "raw_path_markers = \"/home/craig.car/repos/chiron/align_texts_project/data/lucretius/lucretius_en1893_str_withsections_titleend.txt\"\n",
    "en1893_raw_withnewlines = load_txt_as_lst(raw_path_markers)"
   ]
  },
  {
   "cell_type": "code",
   "execution_count": 76,
   "id": "41b314ef-de6c-4a3b-b23e-a3c59a6819ea",
   "metadata": {},
   "outputs": [
    {
     "data": {
      "text/plain": [
       "['#@$% chapter= #@$%\\n',\n",
       " '\\n',\n",
       " '#@$%title#@$%REMARKS\\n',\n",
       " '#@$%title_end#@$%\\n',\n",
       " '#@$%paragraph end#@$%\\n',\n",
       " '#@$%title#@$%ON THE\\n',\n",
       " '#@$%title_end#@$%   #@$%title#@$%LIFE AND POEM OF LUCRETIUS.\\n',\n",
       " '#@$%title_end#@$%  OF the life of Lucretius but little information has reached us.  Ad nos vix tenuis famæ perlabitur aura.\\n',\n",
       " '#@$%paragraph end#@$%\\n',\n",
       " 'That he was a Roman by birth, is inferred from the pas  sages in his poem in which he speaks of the Roman world as  his country,1 and of the Roman language as his native tongue.2\\n']"
      ]
     },
     "execution_count": 76,
     "metadata": {},
     "output_type": "execute_result"
    }
   ],
   "source": [
    "en1893_raw_withnewlines[:10]"
   ]
  },
  {
   "cell_type": "code",
   "execution_count": 77,
   "id": "9ff5a8d2-fc31-4d1d-b394-69d9a9faaebc",
   "metadata": {},
   "outputs": [],
   "source": [
    "en1893_markers_newlines = \" \".join(en1893_raw_withnewlines)"
   ]
  },
  {
   "cell_type": "code",
   "execution_count": 78,
   "id": "000cb564-dda6-45bb-beda-8e1e00ae9a8e",
   "metadata": {},
   "outputs": [
    {
     "data": {
      "text/plain": [
       "'#@$% chapter= #@$%\\n \\n #@$%title#@$%REMARKS\\n #@$%title_end#@$%\\n #@$%paragraph end#@$%\\n #@$%title#@$%ON THE\\n #@$%title_end#@$%   #@$%title#@$%LIFE AND POEM OF LUCRETIUS.\\n #@$%title_end#@$%  OF the life of Lucretius but little information has reached us.  Ad nos vix tenuis famæ perlabitur aura.\\n #@$%paragraph end#@$%\\n That he was a Roman by birth, is inferred from the pas  sages in his poem in which he speaks of the Roman world as  his country,1 and of the Roman language as his native tongue.2\\n #@$'"
      ]
     },
     "execution_count": 78,
     "metadata": {},
     "output_type": "execute_result"
    }
   ],
   "source": [
    "en1893_markers_newlines[:500]"
   ]
  },
  {
   "cell_type": "code",
   "execution_count": 79,
   "id": "26b8bdb7-1432-4ad2-bbdc-4f85ef5b20bb",
   "metadata": {},
   "outputs": [],
   "source": [
    "en1893_str_markers_newlines_split = en1893_markers_newlines.split(\"#@$%\")"
   ]
  },
  {
   "cell_type": "code",
   "execution_count": 80,
   "id": "bdab331b-806d-42ba-ad2a-73924073d806",
   "metadata": {},
   "outputs": [
    {
     "data": {
      "text/plain": [
       "['',\n",
       " ' chapter= ',\n",
       " '\\n \\n ',\n",
       " 'title',\n",
       " 'REMARKS\\n ',\n",
       " 'title_end',\n",
       " '\\n ',\n",
       " 'paragraph end',\n",
       " '\\n ',\n",
       " 'title',\n",
       " 'ON THE\\n ',\n",
       " 'title_end',\n",
       " '   ',\n",
       " 'title',\n",
       " 'LIFE AND POEM OF LUCRETIUS.\\n ',\n",
       " 'title_end',\n",
       " '  OF the life of Lucretius but little information has reached us.  Ad nos vix tenuis famæ perlabitur aura.\\n ',\n",
       " 'paragraph end',\n",
       " '\\n That he was a Roman by birth, is inferred from the pas  sages in his poem in which he speaks of the Roman world as  his country,1 and of the Roman language as his native tongue.2\\n ',\n",
       " 'paragraph end',\n",
       " '\\n As to the time of his birth, it is stated by Eusebius in his  Chronicon, that he was born in the second year of the hundred  and seventy-first Olympiad, or ninety-five years before Christ.  At this period, Ennius had been dead about seventy years ;  Cicero was in his twelfth year; twenty-five years were to  elapse before the birth of Virgil, and four before that of Julius  Caesar. His style, indeed, would make him seem older, but  its antiquated character may be partly affected, in imitation,  perhaps, of Ennius, for whom he expresses great veneration.3\\n ',\n",
       " 'paragraph end',\n",
       " '\\n Concerning his family nothing is known. The name of  Lucretius, from the time of Lucretia downwards, occurs fre  quently in the history of Rome, with the surnames Tricipiti  nus, Cinna, Ofella, and others, attached to it; but with whom  the poet was connected, or from whom descended, it is impossi  ble to discover. There was a Lucretius Vespillo contemporary  with him, a senator, mentioned by Cicero and Caesar,5 of  whom Lambinus conjectures that he may have been the  brother; suggesting that the one brother, by engaging in  public life, might have attained senatorial dignity, while the  other, devoting himself to literature and retirement, might have\\n ',\n",
       " 'note',\n",
       " ' 1 Nam neque nos agere hoc patriai tempore iniquo, etc. i. 42.\\n ']"
      ]
     },
     "execution_count": 80,
     "metadata": {},
     "output_type": "execute_result"
    }
   ],
   "source": [
    "# Lose newlines at end of extracted chunks after splitting\n",
    "en1893_str_markers_newlines_split[:25]"
   ]
  },
  {
   "cell_type": "code",
   "execution_count": 81,
   "id": "6feb0ed1-579d-4aee-969a-ea220cd39aec",
   "metadata": {},
   "outputs": [
    {
     "data": {
      "text/plain": [
       "True"
      ]
     },
     "execution_count": 81,
     "metadata": {},
     "output_type": "execute_result"
    }
   ],
   "source": [
    "\"title_end\" == \"title_end\""
   ]
  },
  {
   "cell_type": "code",
   "execution_count": 82,
   "id": "042d6391-f42e-4fe0-9543-ebf0a66e0c7b",
   "metadata": {},
   "outputs": [],
   "source": [
    "def reconstruct_txt_markers(text_markers_split, chapteridx2chaptername):\n",
    "    en_reconstructed = []\n",
    "    en_reconstructed_idx = -1\n",
    "\n",
    "    chapter_counter = -1\n",
    "    chap2idx_start = {}\n",
    "\n",
    "    book_counter = 0\n",
    "\n",
    "    idx2section_name = {}\n",
    "\n",
    "    hit_section_marker = False\n",
    "    hit_index = False\n",
    "    hit_endprose6 = False\n",
    "    hit_endprose6commentary = False\n",
    "\n",
    "    lst_test = []\n",
    "\n",
    "    lucretius_en1893_textonly = []\n",
    "    \n",
    "    footnotes_counter = 0\n",
    "\n",
    "    for section_idx, section in enumerate(text_markers_split):\n",
    "        lst_test.append(hit_section_marker)\n",
    "\n",
    "        if section == \"\":\n",
    "            continue\n",
    "        elif section == \" \":\n",
    "            continue\n",
    "        elif section == \"  \":\n",
    "            continue\n",
    "        elif section == \"   \":\n",
    "            continue\n",
    "        elif section == \"\\n \":\n",
    "            continue\n",
    "        elif section == \"\\n \\n \":\n",
    "            continue\n",
    "\n",
    "        # if section is chapter marker\n",
    "        elif re.match(chapter_marker, section):\n",
    "            # increment chapter counter\n",
    "            chapter_counter += 1\n",
    "            # reset book counter\n",
    "            book_counter = 0\n",
    "            # mark idx of en_reconstructed where chapter starts\n",
    "            chap2idx_start[chapter_counter] = en_reconstructed_idx\n",
    "\n",
    "        # if section is title start marker\n",
    "        elif section == \"title\":\n",
    "            hit_section_marker = True\n",
    "            # then next section is a title, which will be added to en_reconstructed\n",
    "            # label as title for titles that don't match instances below (index, argument)\n",
    "            label_nextitem = str(chapteridx2chaptername[chapter_counter]) + \"book\" + str(book_counter) + \"title\"\n",
    "\n",
    "            # if title (next item in list) starts with \"INDEX\"\n",
    "            if text_markers_split[section_idx+1].startswith(\"INDEX.\"):\n",
    "                # remaining sections are index\n",
    "                hit_index = True\n",
    "                label_nextitem = \"index\"\n",
    "                \n",
    "            # if next item in list starts with \"BOOK\"\n",
    "            elif text_markers_split[section_idx+1].startswith(\"BOOK\"):\n",
    "                # new book is starting\n",
    "                book_counter += 1\n",
    "                # # in metric translation, Book title is appended to beginning of first book verse\n",
    "                # if chapter_counter == 2:\n",
    "                #     hit_section_marker = False\n",
    "                    \n",
    "            # if next item in list starts with \"ARGUMENT\"\n",
    "            elif text_markers_split[section_idx+1].startswith(\"ARGUMENT.\"):\n",
    "                # label as commentary\n",
    "                label_nextitem = str(chapteridx2chaptername[chapter_counter]) + \"book\" + str(book_counter) + \"commentary\"\n",
    "\n",
    "            continue\n",
    "\n",
    "        # if section marks the start of a note\n",
    "        # elif re.match(note_start, section):\n",
    "        elif section == \"note\":\n",
    "            if text_markers_split[section_idx+1] == \"note_end\":\n",
    "                hit_section_marker = False\n",
    "                continue\n",
    "            else:\n",
    "                hit_section_marker = True\n",
    "                # then next section is a footnote, add to en_reconstructed\n",
    "                label_nextitem = str(chapteridx2chaptername[chapter_counter]) + \"book\" + str(book_counter) + \"note\"\n",
    "                footnotes_counter += 1\n",
    "\n",
    "        elif re.match(note_end, section):\n",
    "            # do nothing; just there to separate footnote from following text\n",
    "            hit_section_marker = False\n",
    "            continue\n",
    "\n",
    "        elif re.match(para_end, section):\n",
    "            # do nothing; just there to create separations in sections from raw text\n",
    "            hit_section_marker = False\n",
    "            continue\n",
    "        \n",
    "        elif section == \"title_end\":\n",
    "            # label section following \"ARGUMENT\" as commentary\n",
    "            if text_markers_split[section_idx-1].startswith(\"ARGUMENT.\"):\n",
    "                hit_section_marker = True\n",
    "                label_nextitem = str(chapteridx2chaptername[chapter_counter]) + \"book\" + str(book_counter) + \"commentary\"\n",
    "            continue\n",
    "        \n",
    "        else:\n",
    "            # all markers have been excluded; append to en_reconstructed\n",
    "            en_reconstructed.append(section)\n",
    "            en_reconstructed_idx += 1\n",
    "\n",
    "            if hit_section_marker == True:\n",
    "                idx2section_name[en_reconstructed_idx] = label_nextitem\n",
    "                hit_section_marker = False\n",
    "            \n",
    "            elif hit_index == True:\n",
    "                idx2section_name[en_reconstructed_idx] = \"index\"\n",
    "            \n",
    "            elif \"Thus abruptly ends the description of the plague,\" in section:\n",
    "                idx2section_name[en_reconstructed_idx] = \"prose_translationbook6commentary\"\n",
    "                hit_endprose6 = True\n",
    "            \n",
    "            elif \"If the reader wish to see more accounts of pestilence\" in section:\n",
    "                idx2section_name[en_reconstructed_idx] = \"prose_translationbook6commentary\"\n",
    "                hit_endprose6 = False\n",
    "                \n",
    "            elif hit_endprose6 == True:\n",
    "                idx2section_name[en_reconstructed_idx] = \"prose_translationbook6commentary\"\n",
    "                # if chapter_counter == 1:\n",
    "                #     idx2section_name[en_reconstructed_idx] = \"prose_translationbook6commentary\"\n",
    "                # elif chapter_counter == 2:\n",
    "                #     # idx2section_name[en_reconstructed_idx] = \"prose_translationbook6commentary\"\n",
    "                #     hit_endprose6 = False\n",
    "            \n",
    "            elif \"THE END.\" in section:\n",
    "                idx2section_name[en_reconstructed_idx] = \"metric_translationbook6note\"\n",
    "            \n",
    "            else:\n",
    "                idx2section_name[en_reconstructed_idx] = str(chapteridx2chaptername[chapter_counter]) + \"book\" + str(book_counter)\n",
    "                if chapter_counter > 0:\n",
    "                    lucretius_en1893_textonly.append(section)\n",
    "    print(f\"there are {footnotes_counter} footnotes in Lucretius English edition\")\n",
    "    return en_reconstructed, idx2section_name, lucretius_en1893_textonly"
   ]
  },
  {
   "cell_type": "code",
   "execution_count": 83,
   "id": "21684f5e-6a59-456c-9ad6-c629841a9a68",
   "metadata": {},
   "outputs": [
    {
     "name": "stdout",
     "output_type": "stream",
     "text": [
      "there are 1426 footnotes in Lucretius English edition\n"
     ]
    }
   ],
   "source": [
    "en_reconstructed_withnewlines, idx2section_name_withnewlines, lucretius_en1893_textonly_withnewlines = reconstruct_txt_markers(\n",
    "    en1893_str_markers_newlines_split, chapteridx2chaptername)"
   ]
  },
  {
   "cell_type": "code",
   "execution_count": 84,
   "id": "dd258ea7-bcfd-48b8-9dc9-b09446b8a1c3",
   "metadata": {
    "tags": []
   },
   "outputs": [],
   "source": [
    "# apply same changes to en_reconstructed_withnewlines in order to match tokenization\n",
    "for sent_idx, sent in enumerate(en_reconstructed_withnewlines):\n",
    "    en_reconstructed_withnewlines[sent_idx] = en_reconstructed_withnewlines[sent_idx].replace(\".”1\", \".” 1\")\n",
    "    en_reconstructed_withnewlines[sent_idx] = en_reconstructed_withnewlines[sent_idx].replace(\"tongue.2\", \"tongue. 2\")\n",
    "    en_reconstructed_withnewlines[sent_idx] = en_reconstructed_withnewlines[sent_idx].replace(\"veneration.3\", \"veneration. 3\")\n",
    "    en_reconstructed_withnewlines[sent_idx] = en_reconstructed_withnewlines[sent_idx].replace(\"insane.3\", \"insane. 3\")\n",
    "    en_reconstructed_withnewlines[sent_idx] = en_reconstructed_withnewlines[sent_idx].replace(\".1\", \". 1\")\n",
    "    en_reconstructed_withnewlines[sent_idx] = en_reconstructed_withnewlines[sent_idx].replace(\"opinion.3\", \"opinion. 3\")\n",
    "    en_reconstructed_withnewlines[sent_idx] = en_reconstructed_withnewlines[sent_idx].replace(\".7\", \". 7\")\n",
    "    en_reconstructed_withnewlines[sent_idx] = en_reconstructed_withnewlines[sent_idx].replace(\".2\", \". 2\")\n",
    "    en_reconstructed_withnewlines[sent_idx] = en_reconstructed_withnewlines[sent_idx].replace(\".4\", \". 4\")\n",
    "    en_reconstructed_withnewlines[sent_idx] = en_reconstructed_withnewlines[sent_idx].replace('language;\"', 'language; \"')\n",
    "    en_reconstructed_withnewlines[sent_idx] = en_reconstructed_withnewlines[sent_idx].replace('Lucretius;\"', 'Lucretius; \"')\n",
    "    en_reconstructed_withnewlines[sent_idx] = en_reconstructed_withnewlines[sent_idx].replace(\"?1\", \"? 1\")\n",
    "    en_reconstructed_withnewlines[sent_idx] = en_reconstructed_withnewlines[sent_idx].replace(\".5\", \". 5\")\n",
    "    en_reconstructed_withnewlines[sent_idx] = en_reconstructed_withnewlines[sent_idx].replace(\".6\", \". 6\")\n",
    "    en_reconstructed_withnewlines[sent_idx] = en_reconstructed_withnewlines[sent_idx].replace(\"It;.\", \"It; .\")\n",
    "    en_reconstructed_withnewlines[sent_idx] = en_reconstructed_withnewlines[sent_idx].replace(\":8\", \": 8\")\n",
    "    en_reconstructed_withnewlines[sent_idx] = en_reconstructed_withnewlines[sent_idx].replace(\".3\", \". 3\")\n",
    "    en_reconstructed_withnewlines[sent_idx] = en_reconstructed_withnewlines[sent_idx].replace(\":2\", \": 2\")\n",
    "    en_reconstructed_withnewlines[sent_idx] = en_reconstructed_withnewlines[sent_idx].replace(\"?2\", \"? 2\")\n",
    "    en_reconstructed_withnewlines[sent_idx] = en_reconstructed_withnewlines[sent_idx].replace('ἔχειπρός.”Wakefield.', 'ἔχειπρός. ”Wakefield.')\n",
    "    en_reconstructed_withnewlines[sent_idx] = en_reconstructed_withnewlines[sent_idx].replace(\"Tacitus. 11\", \"Tacitus.11\")\n",
    "    en_reconstructed_withnewlines[sent_idx] = en_reconstructed_withnewlines[sent_idx].replace('Æolia.”What', 'Æolia. ”What')\n",
    "    en_reconstructed_withnewlines[sent_idx] = en_reconstructed_withnewlines[sent_idx].replace('concerned).—', 'concerned). —')\n",
    "    en_reconstructed_withnewlines[sent_idx] = en_reconstructed_withnewlines[sent_idx].replace('.—', '. —')\n",
    "    en_reconstructed_withnewlines[sent_idx] = en_reconstructed_withnewlines[sent_idx].replace(\"nix.—Are\", \"nix. —Are\")\n",
    "    en_reconstructed_withnewlines[sent_idx] = en_reconstructed_withnewlines[sent_idx].replace(\"improvida.—Find\", \"improvida. —Find\")\n",
    "    en_reconstructed_withnewlines[sent_idx] = en_reconstructed_withnewlines[sent_idx].replace(\";\", \"; \")\n",
    "    en_reconstructed_withnewlines[sent_idx] = en_reconstructed_withnewlines[sent_idx].replace(\"fleshes.”\", \"fleshes. ”\")\n",
    "    en_reconstructed_withnewlines[sent_idx] = en_reconstructed_withnewlines[sent_idx].replace(\".]Ver\", \".] Ver\")\n",
    "    en_reconstructed_withnewlines[sent_idx] = en_reconstructed_withnewlines[sent_idx].replace(\":so\", \": so\")\n",
    "    en_reconstructed_withnewlines[sent_idx] = en_reconstructed_withnewlines[sent_idx].replace(\"flumina. —“\", \"flumina.—“\")\n",
    "    en_reconstructed_withnewlines[sent_idx] = en_reconstructed_withnewlines[sent_idx].replace(\"armis.–Fortè\", \"armis. –Fortè\")\n",
    "    en_reconstructed_withnewlines[sent_idx] = en_reconstructed_withnewlines[sent_idx].replace(\"—But\", \"— But\")\n",
    "    en_reconstructed_withnewlines[sent_idx] = en_reconstructed_withnewlines[sent_idx].replace(\"—Or\", \"— Or\")\n",
    "    en_reconstructed_withnewlines[sent_idx] = en_reconstructed_withnewlines[sent_idx].replace(\"minds.\", \"minds. \")\n",
    "    en_reconstructed_withnewlines[sent_idx] = en_reconstructed_withnewlines[sent_idx].replace(':\"', ': \"')\n",
    "    en_reconstructed_withnewlines[sent_idx] = en_reconstructed_withnewlines[sent_idx].replace('first.-The', 'first. -The')\n",
    "    en_reconstructed_withnewlines[sent_idx] = en_reconstructed_withnewlines[sent_idx].replace(':)', ': )')\n",
    "    en_reconstructed_withnewlines[sent_idx] = en_reconstructed_withnewlines[sent_idx].replace('body. ——I', 'body.— —I')\n",
    "    en_reconstructed_withnewlines[sent_idx] = en_reconstructed_withnewlines[sent_idx].replace('curtains. —“', 'curtains.—“')\n",
    "    en_reconstructed_withnewlines[sent_idx] = en_reconstructed_withnewlines[sent_idx].replace('593. —\"', '593.—\"')\n",
    "    en_reconstructed_withnewlines[sent_idx] = en_reconstructed_withnewlines[sent_idx].replace('borne. 3', 'borne.3')\n",
    "    en_reconstructed_withnewlines[sent_idx] = en_reconstructed_withnewlines[sent_idx].replace('words.J', 'words. J')\n",
    "    en_reconstructed_withnewlines[sent_idx] = en_reconstructed_withnewlines[sent_idx].replace('compose. 1', 'compose.1')\n",
    "    en_reconstructed_withnewlines[sent_idx] = en_reconstructed_withnewlines[sent_idx].replace(\"systems.”Whewell's\", \"systems. ”Whewell's\")\n",
    "    en_reconstructed_withnewlines[sent_idx] = en_reconstructed_withnewlines[sent_idx].replace('life?3', 'life? 3')\n",
    "    en_reconstructed_withnewlines[sent_idx] = en_reconstructed_withnewlines[sent_idx].replace(\"? 1  Or,\", \"?1 Or,\")\n",
    "    en_reconstructed_withnewlines[sent_idx] = en_reconstructed_withnewlines[sent_idx].replace('true.]1', 'true.] 1')\n",
    "    en_reconstructed_withnewlines[sent_idx] = en_reconstructed_withnewlines[sent_idx].replace('Phil. i. 1. 1.', 'Phil. i. 1.1.')\n",
    "    en_reconstructed_withnewlines[sent_idx] = en_reconstructed_withnewlines[sent_idx].replace('up. 1 adhering', 'up.1 adhering')\n",
    "    en_reconstructed_withnewlines[sent_idx] = en_reconstructed_withnewlines[sent_idx].replace('6, 6. —With', '6, 6.—With')\n",
    "    en_reconstructed_withnewlines[sent_idx] = en_reconstructed_withnewlines[sent_idx].replace('THE YEAR. 3', 'THE YEAR.3')\n",
    "    en_reconstructed_withnewlines[sent_idx] = en_reconstructed_withnewlines[sent_idx].replace('elbows?3', 'elbows? 3')\n",
    "    en_reconstructed_withnewlines[sent_idx] = en_reconstructed_withnewlines[sent_idx].replace(':—idem', ': —idem')\n",
    "    en_reconstructed_withnewlines[sent_idx] = en_reconstructed_withnewlines[sent_idx].replace('moisture.-Motion', 'moisture. -Motion')\n",
    "    en_reconstructed_withnewlines[sent_idx] = en_reconstructed_withnewlines[sent_idx].replace('ENTIRE WHOLE. 1', 'ENTIRE WHOLE.1')\n",
    "    en_reconstructed_withnewlines[sent_idx] = en_reconstructed_withnewlines[sent_idx].replace('sui.”Aul.Gell.', 'sui. ”Aul. Gell.')\n",
    "    en_reconstructed_withnewlines[sent_idx] = en_reconstructed_withnewlines[sent_idx].replace('itself?3', 'itself? 3')\n",
    "    en_reconstructed_withnewlines[sent_idx] = en_reconstructed_withnewlines[sent_idx].replace('sun?4', 'sun? 4')\n",
    "    en_reconstructed_withnewlines[sent_idx] = en_reconstructed_withnewlines[sent_idx].replace('day :—', 'day : —')\n",
    "    en_reconstructed_withnewlines[sent_idx] = en_reconstructed_withnewlines[sent_idx].replace('every nerve. — ', 'every nerve.—')\n",
    "    en_reconstructed_withnewlines[sent_idx] = en_reconstructed_withnewlines[sent_idx].replace('fury !— But', 'fury ! —But')\n",
    "    en_reconstructed_withnewlines[sent_idx] = en_reconstructed_withnewlines[sent_idx].replace('flame. —', 'flame.—')\n",
    "    en_reconstructed_withnewlines[sent_idx] = en_reconstructed_withnewlines[sent_idx].replace('concealed. —', 'concealed.—')\n",
    "    en_reconstructed_withnewlines[sent_idx] = en_reconstructed_withnewlines[sent_idx].replace('rose:-', 'rose: -')\n",
    "    en_reconstructed_withnewlines[sent_idx] = en_reconstructed_withnewlines[sent_idx].replace('exhaustion:—such', 'exhaustion: —such')\n",
    "    en_reconstructed_withnewlines[sent_idx] = en_reconstructed_withnewlines[sent_idx].replace('beneath.-On', 'beneath. -On')\n",
    "    en_reconstructed_withnewlines[sent_idx] = en_reconstructed_withnewlines[sent_idx].replace('bring:-', 'bring: -')\n",
    "    en_reconstructed_withnewlines[sent_idx] = en_reconstructed_withnewlines[sent_idx].replace('Corporeal:—hence', 'Corporeal: —hence')\n",
    "    en_reconstructed_withnewlines[sent_idx] = en_reconstructed_withnewlines[sent_idx].replace(':-can', ': -can')\n",
    "    en_reconstructed_withnewlines[sent_idx] = en_reconstructed_withnewlines[sent_idx].replace(':-a', ': -a')\n",
    "    en_reconstructed_withnewlines[sent_idx] = en_reconstructed_withnewlines[sent_idx].replace(':-by', ': -by')\n",
    "    en_reconstructed_withnewlines[sent_idx] = en_reconstructed_withnewlines[sent_idx].replace('.And', '. And')\n",
    "    en_reconstructed_withnewlines[sent_idx] = en_reconstructed_withnewlines[sent_idx].replace('death.-Since', 'death. -Since')\n",
    "    en_reconstructed_withnewlines[sent_idx] = en_reconstructed_withnewlines[sent_idx].replace(':-some', ': -some')\n",
    "    en_reconstructed_withnewlines[sent_idx] = en_reconstructed_withnewlines[sent_idx].replace('ever!\"— But', 'ever!\" —But')\n",
    "    en_reconstructed_withnewlines[sent_idx] = en_reconstructed_withnewlines[sent_idx].replace('peace. —', 'peace.—')\n",
    "    en_reconstructed_withnewlines[sent_idx] = en_reconstructed_withnewlines[sent_idx].replace('aid.-No', 'aid. -No')\n",
    "    en_reconstructed_withnewlines[sent_idx] = en_reconstructed_withnewlines[sent_idx].replace('man. —', 'man.—')\n",
    "    en_reconstructed_withnewlines[sent_idx] = en_reconstructed_withnewlines[sent_idx].replace('?or', '? or')\n",
    "    en_reconstructed_withnewlines[sent_idx] = en_reconstructed_withnewlines[sent_idx].replace(':-it', ': -it')\n",
    "    en_reconstructed_withnewlines[sent_idx] = en_reconstructed_withnewlines[sent_idx].replace('ill. —', 'ill.—')\n",
    "    en_reconstructed_withnewlines[sent_idx] = en_reconstructed_withnewlines[sent_idx].replace('prevail.-Thus', 'prevail. -Thus')\n",
    "    en_reconstructed_withnewlines[sent_idx] = en_reconstructed_withnewlines[sent_idx].replace(':-for', ': -for')\n",
    "    en_reconstructed_withnewlines[sent_idx] = en_reconstructed_withnewlines[sent_idx].replace('well-spring:—creed', 'well-spring: —creed')\n",
    "    en_reconstructed_withnewlines[sent_idx] = en_reconstructed_withnewlines[sent_idx].replace(':different', ': different')\n",
    "    en_reconstructed_withnewlines[sent_idx] = en_reconstructed_withnewlines[sent_idx].replace('an:!', 'an: !')\n",
    "    en_reconstructed_withnewlines[sent_idx] = en_reconstructed_withnewlines[sent_idx].replace('v. 2. 5', 'v. 2.5')\n",
    "    en_reconstructed_withnewlines[sent_idx] = en_reconstructed_withnewlines[sent_idx].replace('v. 1116;', 'v.1116;')\n",
    "    en_reconstructed_withnewlines[sent_idx] = en_reconstructed_withnewlines[sent_idx].replace('1. 57,', '1.57,')\n",
    "    en_reconstructed_withnewlines[sent_idx] = en_reconstructed_withnewlines[sent_idx].replace(':voluntary', ': voluntary')\n",
    "    en_reconstructed_withnewlines[sent_idx] = en_reconstructed_withnewlines[sent_idx].replace('ib. ;   grow', 'ib. grow')\n",
    "    en_reconstructed_withnewlines[sent_idx] = en_reconstructed_withnewlines[sent_idx].replace('in, v. 30', 'in, v.30')\n",
    "    en_reconstructed_withnewlines[sent_idx] = en_reconstructed_withnewlines[sent_idx].replace('tones ? 1', 'tones ?1')"
   ]
  },
  {
   "cell_type": "code",
   "execution_count": 85,
   "id": "ae7b3514-af47-4335-9942-1382b201c601",
   "metadata": {},
   "outputs": [
    {
     "data": {
      "text/plain": [
       "3399"
      ]
     },
     "execution_count": 85,
     "metadata": {},
     "output_type": "execute_result"
    }
   ],
   "source": [
    "len(idx2section_name_withnewlines)"
   ]
  },
  {
   "cell_type": "code",
   "execution_count": 86,
   "id": "01d140ba-6089-4f52-b1ae-e4e69da4cb3f",
   "metadata": {},
   "outputs": [
    {
     "data": {
      "text/plain": [
       "'metric_translationbook1'"
      ]
     },
     "execution_count": 86,
     "metadata": {},
     "output_type": "execute_result"
    }
   ],
   "source": [
    "idx2section_name_withnewlines[2009]"
   ]
  },
  {
   "cell_type": "code",
   "execution_count": 87,
   "id": "858eda57-f911-4c26-89ed-6e78bce0fd5e",
   "metadata": {},
   "outputs": [],
   "source": [
    "en1893_textonly_newlines_fromdict = []\n",
    "idx_counter = 0\n",
    "idx2section_name_textonly = {}\n",
    "for key in range(len(idx2section_name_withnewlines)):\n",
    "    if idx2section_name_withnewlines[key] in prose_sents:\n",
    "        en1893_textonly_newlines_fromdict.append(en_reconstructed_withnewlines[key])\n",
    "        idx2section_name_textonly[idx_counter] = idx2section_name_withnewlines[key]\n",
    "        idx_counter += 1\n",
    "    elif idx2section_name_withnewlines[key] in metric_sents:\n",
    "        en1893_textonly_newlines_fromdict.append(en_reconstructed_withnewlines[key])\n",
    "        idx2section_name_textonly[idx_counter] = idx2section_name_withnewlines[key]\n",
    "        idx_counter += 1"
   ]
  },
  {
   "cell_type": "code",
   "execution_count": 88,
   "id": "4e52e0e0-fd34-4907-97c5-871153705e84",
   "metadata": {},
   "outputs": [
    {
     "name": "stdout",
     "output_type": "stream",
     "text": [
      " O BOUN riFUL Venus,1 mother of the race of Æneas,2 delight  of gods and men, who, beneath the gliding constellations  of heaven,3 fillest with life4 the ship-bearing sea and the  fruit-producing earth; 5 since by thy influence every kind of\n",
      " \n"
     ]
    }
   ],
   "source": [
    "# check there's a space after colon in \"fruit-producing earth; 5 since\"\n",
    "for idx, item in enumerate(en1893_textonly_newlines_fromdict):\n",
    "    if \"O BOUN riFUL\" in item:\n",
    "        print(item)"
   ]
  },
  {
   "cell_type": "code",
   "execution_count": 89,
   "id": "d12b74bf-771b-41cc-aad4-e5efbc2cb2ab",
   "metadata": {
    "tags": []
   },
   "outputs": [
    {
     "data": {
      "text/plain": [
       "1743"
      ]
     },
     "execution_count": 89,
     "metadata": {},
     "output_type": "execute_result"
    }
   ],
   "source": [
    "len(en1893_textonly_newlines_fromdict)"
   ]
  },
  {
   "cell_type": "code",
   "execution_count": 90,
   "id": "de32f5a7-c0f4-4193-8329-0081db122e57",
   "metadata": {},
   "outputs": [
    {
     "data": {
      "text/plain": [
       "3399"
      ]
     },
     "execution_count": 90,
     "metadata": {},
     "output_type": "execute_result"
    }
   ],
   "source": [
    "len(en_reconstructed_withnewlines)"
   ]
  },
  {
   "cell_type": "markdown",
   "id": "c0732630-abc1-4bae-8775-fd9c577dc516",
   "metadata": {
    "tags": []
   },
   "source": [
    "## Test dict: idx2section_name_textonly (chunk-level from xml)"
   ]
  },
  {
   "cell_type": "code",
   "execution_count": 91,
   "id": "e8e0db9d-0190-41dc-900b-66bdfcac1f6d",
   "metadata": {},
   "outputs": [],
   "source": [
    "# Prose Book 1: 0 - 139\n",
    "for keys in range(0,140):\n",
    "    if idx2section_name_textonly[keys] != \"prose_translationbook1\":\n",
    "        print(keys)"
   ]
  },
  {
   "cell_type": "code",
   "execution_count": 92,
   "id": "656aedf5-b6e1-41e4-9997-ef5c927f0d46",
   "metadata": {},
   "outputs": [],
   "source": [
    "# Prose Book 2: 140 - 276\n",
    "for keys in range(140, 277):\n",
    "    if idx2section_name_textonly[keys] != \"prose_translationbook2\":\n",
    "        print(keys)"
   ]
  },
  {
   "cell_type": "code",
   "execution_count": 93,
   "id": "6471c6d7-46f6-4e0d-8d04-118a93687e87",
   "metadata": {},
   "outputs": [],
   "source": [
    "# Prose Book 3: 277 - 415\n",
    "for keys in range(281, 416):\n",
    "    if idx2section_name_textonly[keys] != \"prose_translationbook3\":\n",
    "        print(keys)"
   ]
  },
  {
   "cell_type": "code",
   "execution_count": 94,
   "id": "fa537341-7761-4507-b9eb-648ac15bfcb6",
   "metadata": {},
   "outputs": [],
   "source": [
    "# Prose Book 4: 416 - 576\n",
    "for keys in range(416, 577):\n",
    "    if idx2section_name_textonly[keys] != \"prose_translationbook4\":\n",
    "        print(keys)"
   ]
  },
  {
   "cell_type": "code",
   "execution_count": 95,
   "id": "e08a0587-8d79-4c6a-8ca0-cb34aeb79479",
   "metadata": {},
   "outputs": [],
   "source": [
    "# Prose Book 5: 577 - 764\n",
    "for keys in range(577, 765):\n",
    "    if idx2section_name_textonly[keys] != \"prose_translationbook5\":\n",
    "        print(keys)"
   ]
  },
  {
   "cell_type": "code",
   "execution_count": 96,
   "id": "a649507b-f361-4e9d-ab8a-0efb92dc462e",
   "metadata": {},
   "outputs": [],
   "source": [
    "# Prose Book 6: 765 - 967\n",
    "for keys in range(765, 968):\n",
    "    if idx2section_name_textonly[keys] != \"prose_translationbook6\":\n",
    "        print(keys)"
   ]
  },
  {
   "cell_type": "code",
   "execution_count": 97,
   "id": "b173d963-6c17-4f1c-99f7-013d87af564f",
   "metadata": {},
   "outputs": [],
   "source": [
    "# Metric Book 1: 968 - 1075\n",
    "for keys in range(968, 1076):\n",
    "    if idx2section_name_textonly[keys] != \"metric_translationbook1\":\n",
    "        print(keys)"
   ]
  },
  {
   "cell_type": "code",
   "execution_count": 98,
   "id": "eeba3343-3e14-4044-8bd6-ba28074c2c20",
   "metadata": {},
   "outputs": [],
   "source": [
    "# Metric Book 2: 1076 - 1187\n",
    "for keys in range(1076, 1188):\n",
    "    if idx2section_name_textonly[keys] != \"metric_translationbook2\":\n",
    "        print(keys)"
   ]
  },
  {
   "cell_type": "code",
   "execution_count": 99,
   "id": "d5b4ec5b-6921-4e96-9923-00852b3a6a31",
   "metadata": {},
   "outputs": [],
   "source": [
    "# Metric Book 3: 1188 - 1305\n",
    "for keys in range(1188, 1306):\n",
    "    if idx2section_name_textonly[keys] != \"metric_translationbook3\":\n",
    "        print(keys)"
   ]
  },
  {
   "cell_type": "code",
   "execution_count": 100,
   "id": "5570b550-8622-46a4-bcfd-5417ddc5c6a0",
   "metadata": {
    "tags": []
   },
   "outputs": [],
   "source": [
    "# Metric Book 4: 1306 - 1415\n",
    "for keys in range(1306, 1416):\n",
    "    if idx2section_name_textonly[keys] != \"metric_translationbook4\":\n",
    "        print(keys)"
   ]
  },
  {
   "cell_type": "code",
   "execution_count": 101,
   "id": "87181224-7964-4c4f-9635-3db01dc7422c",
   "metadata": {},
   "outputs": [],
   "source": [
    "# Metric Book 5: 1416 - 1571\n",
    "for keys in range(1416, 1572):\n",
    "    if idx2section_name_textonly[keys] != \"metric_translationbook5\":\n",
    "        print(keys)"
   ]
  },
  {
   "cell_type": "code",
   "execution_count": 102,
   "id": "49737906-2ae1-4093-87c5-b0fe4c51abee",
   "metadata": {},
   "outputs": [],
   "source": [
    "# Metric Book 6: 1572 - 1742 (end)\n",
    "for keys in range(1572, 1743):\n",
    "    if idx2section_name_textonly[keys] != \"metric_translationbook6\":\n",
    "        print(keys)"
   ]
  },
  {
   "cell_type": "markdown",
   "id": "390ee535-0b12-4c37-ae63-9f52ac445dd6",
   "metadata": {
    "tags": []
   },
   "source": [
    "## Segment text only into sentences"
   ]
  },
  {
   "cell_type": "code",
   "execution_count": 103,
   "id": "3f7a2f42-d0c2-407a-8347-767f91f74f25",
   "metadata": {
    "tags": []
   },
   "outputs": [],
   "source": [
    "# strip newlines at beginning of each chunk\n",
    "en1893_textonly_newlines_fromdict = [x.lstrip() for x in en1893_textonly_newlines_fromdict]"
   ]
  },
  {
   "cell_type": "code",
   "execution_count": 104,
   "id": "ccfcb3f5-9da7-4b1f-960b-497850cccdf8",
   "metadata": {},
   "outputs": [
    {
     "data": {
      "text/plain": [
       "'O BOUN riFUL Venus,1 mother of the race of Æneas,2 delight  of gods and men, who, beneath the gliding constellations  of heaven,3 fillest with life4 the ship-bearing sea and the  fruit-producing earth; 5 since by thy influence every kind of\\n '"
      ]
     },
     "execution_count": 104,
     "metadata": {},
     "output_type": "execute_result"
    }
   ],
   "source": [
    "en1893_textonly_newlines_fromdict[0]"
   ]
  },
  {
   "cell_type": "code",
   "execution_count": 105,
   "id": "fe682d6f-44bc-49d6-952c-209fbff12c7d",
   "metadata": {},
   "outputs": [],
   "source": [
    "en1893_textonly_newlines_fromdict = [x.rstrip() for x in en1893_textonly_newlines_fromdict]"
   ]
  },
  {
   "cell_type": "code",
   "execution_count": 106,
   "id": "8f89e71a-6397-4fa6-821f-b5e7ecbaa6db",
   "metadata": {},
   "outputs": [
    {
     "data": {
      "text/plain": [
       "'O BOUN riFUL Venus,1 mother of the race of Æneas,2 delight  of gods and men, who, beneath the gliding constellations  of heaven,3 fillest with life4 the ship-bearing sea and the  fruit-producing earth; 5 since by thy influence every kind of'"
      ]
     },
     "execution_count": 106,
     "metadata": {},
     "output_type": "execute_result"
    }
   ],
   "source": [
    "en1893_textonly_newlines_fromdict[0]"
   ]
  },
  {
   "cell_type": "code",
   "execution_count": 107,
   "id": "cf5b3879-530c-40be-902f-26fe870caab4",
   "metadata": {},
   "outputs": [],
   "source": [
    "en1893_str_textonly = \" \".join(en1893_textonly_newlines_fromdict)"
   ]
  },
  {
   "cell_type": "code",
   "execution_count": 108,
   "id": "a70aa097-0a29-433b-b886-91e0af79d57d",
   "metadata": {},
   "outputs": [
    {
     "name": "stdout",
     "output_type": "stream",
     "text": [
      "segmented str into sentences\n"
     ]
    }
   ],
   "source": [
    "en1893_sents_textonly = preprocess_series(en1893_str_textonly, \"en\", stanza_model_)"
   ]
  },
  {
   "cell_type": "code",
   "execution_count": 109,
   "id": "e8f27b1a-de86-484a-ad26-c49e62d986f7",
   "metadata": {},
   "outputs": [
    {
     "data": {
      "text/plain": [
       "['O BOUN riFUL Venus,1 mother of the race of Æneas,2 delight  of gods and men, who, beneath the gliding constellations  of heaven,3 fillest with life4 the ship-bearing sea and the  fruit-producing earth;',\n",
       " '5 since by thy influence every kind of living creature is conceived, and, springing forth, hails the  light of the sun.',\n",
       " 'Thee, 0 goddess, thee the winds flee ;',\n",
       " 'be  fore thee, and thy approach, the clouds of heaven disperse;',\n",
       " 'for  thee the variegated earth2 puts forth3 her fragrant flowers;',\n",
       " 'on thee the waters of ocean smile, and the calmed heaven  beams with effulgent4 light.',\n",
       " 'For, as soon as the vernal face  of day5 is unveiled, and the genial gale of Favonius exerts  its power unconfined, the birds of the air first, 0 goddess,  testify of thee and thy coming, smitten in heart by thy influ  ence.',\n",
       " 'Next, the wild herds bound over the joyous pastures,  and swim across the rapid streams.',\n",
       " 'So all kinds of living  creatures, captivated by thy charms and thy allurements,  eagerly follow thee whithersoever thou proceedest to lead  them.',\n",
       " 'In fine, throughout seas, and mountains, and whelming  rivers,6 and the leafy abodes of birds, and verdant plains,  thou, infusing balmy love into the breasts of all, causest them  eagerly to propagate their races after their kind.']"
      ]
     },
     "execution_count": 109,
     "metadata": {},
     "output_type": "execute_result"
    }
   ],
   "source": [
    "en1893_sents_textonly[:10]"
   ]
  },
  {
   "cell_type": "code",
   "execution_count": 110,
   "id": "6c0e6ab4-8bd0-46be-91b4-1db3fb40c4c6",
   "metadata": {},
   "outputs": [
    {
     "data": {
      "text/plain": [
       "['At length the temples of the gods themselves,  Changed into charnels, and their sacred shrines  Thronged with the dead:',\n",
       " 'for superstition now,',\n",
       " 'The power of altars, half their sway had lost,  Whelmed in the pressure of the present woe.',\n",
       " 'Nor longer now the costly rites prevailed  Of ancient burial, erst punctilious kept:',\n",
       " 'For all roved restless, with distracted mind,  From scene to scene ;',\n",
       " \"and worn with grief and toil  Gave to their friends th' interment chance allowed.\",\n",
       " 'And direst exigence impelled them oft,  Headlong, to deeds most impious;',\n",
       " \"for the pyres  Funereal seized they, reared not by themselves,  And with loud dirge, and wailing wild, o'er these  Placed their own dead;\",\n",
       " \"amid th' unhallowed blaze  With blood contending, rather than resign\",\n",
       " \"The tomb thus gained, or quit th' enkindling corse.\"]"
      ]
     },
     "execution_count": 110,
     "metadata": {},
     "output_type": "execute_result"
    }
   ],
   "source": [
    "en1893_sents_textonly[-10:]"
   ]
  },
  {
   "cell_type": "code",
   "execution_count": 111,
   "id": "46beab1a-d47c-4a6c-ae62-1eb151e42215",
   "metadata": {},
   "outputs": [
    {
     "data": {
      "text/plain": [
       "8165"
      ]
     },
     "execution_count": 111,
     "metadata": {},
     "output_type": "execute_result"
    }
   ],
   "source": [
    "len(en1893_sents_textonly)"
   ]
  },
  {
   "cell_type": "code",
   "execution_count": 112,
   "id": "dc29d654-0e11-4fcd-8b13-cd2b5552f105",
   "metadata": {},
   "outputs": [],
   "source": [
    "# path_out = \"/home/craig.car/repos/chiron/align_texts_project/data/lucretius/lucretius_en1893_sents_textonly.txt\"\n",
    "# write_file(en1893_sents_textonly, path_out)"
   ]
  },
  {
   "cell_type": "markdown",
   "id": "ce154204-e6d8-41ef-9e5f-67fae69152a1",
   "metadata": {},
   "source": [
    "## Tokenize text only"
   ]
  },
  {
   "cell_type": "code",
   "execution_count": 113,
   "id": "31e92c83-37b0-4e6e-9b3c-5982ac2f9a10",
   "metadata": {},
   "outputs": [],
   "source": [
    "# fix tokenization discrepancies in en1893_textonly_newlines_fromdict\n",
    "for sent_idx, sent in enumerate(en1893_textonly_newlines_fromdict):\n",
    "    en1893_textonly_newlines_fromdict[sent_idx] = en1893_textonly_newlines_fromdict[sent_idx].replace('borne.3', 'borne. 3')\n",
    "    en1893_textonly_newlines_fromdict[sent_idx] = en1893_textonly_newlines_fromdict[sent_idx].replace('compose.1', 'compose. 1')\n",
    "    en1893_textonly_newlines_fromdict[sent_idx] = en1893_textonly_newlines_fromdict[sent_idx].replace('tones ?1', 'tones ? 1')"
   ]
  },
  {
   "cell_type": "code",
   "execution_count": 114,
   "id": "0c3ae438-882b-4d2a-a037-350567efbe45",
   "metadata": {},
   "outputs": [],
   "source": [
    "en1893_sents_textonly_tokenized = []\n",
    "for idx, sent in enumerate(en1893_sents_textonly):\n",
    "    en1893_sents_textonly_tokenized.append(sent.split())\n",
    "\n",
    "en1893_chapts_textonly_tokenized = []\n",
    "for idx, sent in enumerate(en1893_textonly_newlines_fromdict):\n",
    "    en1893_chapts_textonly_tokenized.append(sent.split())"
   ]
  },
  {
   "cell_type": "code",
   "execution_count": 115,
   "id": "67177ea0-d4fd-4b20-a88b-354ee35cc4fe",
   "metadata": {},
   "outputs": [
    {
     "data": {
      "text/plain": [
       "True"
      ]
     },
     "execution_count": 115,
     "metadata": {},
     "output_type": "execute_result"
    }
   ],
   "source": [
    "num_tokens_sents_textonly = 0\n",
    "for sent in en1893_sents_textonly_tokenized:\n",
    "    num_tokens_sents += len(sent)\n",
    "\n",
    "num_tokens_chapts_textonly = 0\n",
    "for sent in en1893_chapts_textonly_tokenized:\n",
    "    num_tokens_chapts += len(sent)\n",
    "\n",
    "num_tokens_sents_textonly == num_tokens_chapts_textonly"
   ]
  },
  {
   "cell_type": "code",
   "execution_count": 116,
   "id": "963c5a53-2267-4799-8e54-d621bd8057f5",
   "metadata": {},
   "outputs": [
    {
     "data": {
      "text/plain": [
       "True"
      ]
     },
     "execution_count": 116,
     "metadata": {},
     "output_type": "execute_result"
    }
   ],
   "source": [
    "en1893_tokens_from_sents_textonly = flatten_list(en1893_sents_textonly_tokenized)\n",
    "en1893_tokens_from_chapts_textonly = flatten_list(en1893_chapts_textonly_tokenized)\n",
    "\n",
    "en1893_tokens_from_sents_textonly == en1893_tokens_from_chapts_textonly"
   ]
  },
  {
   "cell_type": "code",
   "execution_count": 117,
   "id": "f87c1772-c258-4bf8-8afc-a63b9edb1a45",
   "metadata": {},
   "outputs": [
    {
     "data": {
      "text/plain": [
       "['?1', 'Or,', 'forsooth,', 'the', 'life']"
      ]
     },
     "execution_count": 117,
     "metadata": {},
     "output_type": "execute_result"
    }
   ],
   "source": [
    "en1893_tokens_from_sents_textonly[57618:57623]"
   ]
  },
  {
   "cell_type": "code",
   "execution_count": 118,
   "id": "87256154-c25d-4037-badd-9bc8fd49bc5c",
   "metadata": {},
   "outputs": [
    {
     "data": {
      "text/plain": [
       "['?1', 'Or,', 'forsooth,', 'the', 'life']"
      ]
     },
     "execution_count": 118,
     "metadata": {},
     "output_type": "execute_result"
    }
   ],
   "source": [
    "en1893_tokens_from_chapts_textonly[57618:57623]"
   ]
  },
  {
   "cell_type": "code",
   "execution_count": 119,
   "id": "752c9d52-55b8-45e6-9e55-db0dab07cdf1",
   "metadata": {},
   "outputs": [],
   "source": [
    "for idx, token in enumerate(en1893_tokens_from_chapts_textonly):\n",
    "    if en1893_tokens_from_chapts_textonly[idx] != en1893_tokens_from_sents_textonly[idx]:\n",
    "        print(idx)"
   ]
  },
  {
   "cell_type": "markdown",
   "id": "2bfbbaf4-130f-4cfc-ab19-83db8071d7a4",
   "metadata": {},
   "source": [
    "## build sent2section_name_textonly dict"
   ]
  },
  {
   "cell_type": "code",
   "execution_count": 120,
   "id": "de163c3b-760b-4491-9929-521b945a30fd",
   "metadata": {},
   "outputs": [],
   "source": [
    "en1893_sent2section_name_textonly = build_sent_to_section_dict(en1893_sents_textonly_tokenized,\n",
    "                                                               en1893_chapts_textonly_tokenized,\n",
    "                                                               idx2section_name_textonly)"
   ]
  },
  {
   "cell_type": "code",
   "execution_count": 121,
   "id": "12c6f0ec-0daa-4f23-bc3b-a46b689959d6",
   "metadata": {},
   "outputs": [
    {
     "data": {
      "text/plain": [
       "8165"
      ]
     },
     "execution_count": 121,
     "metadata": {},
     "output_type": "execute_result"
    }
   ],
   "source": [
    "len(en1893_sent2section_name_textonly)"
   ]
  },
  {
   "cell_type": "code",
   "execution_count": 122,
   "id": "91278744-f45a-41f0-af73-83a2194ae514",
   "metadata": {},
   "outputs": [
    {
     "data": {
      "text/plain": [
       "8165"
      ]
     },
     "execution_count": 122,
     "metadata": {},
     "output_type": "execute_result"
    }
   ],
   "source": [
    "len(en1893_sents_textonly_tokenized)"
   ]
  },
  {
   "cell_type": "code",
   "execution_count": 123,
   "id": "9a8d0e74-51cc-40f3-ab28-185449bb9b6f",
   "metadata": {},
   "outputs": [],
   "source": [
    "# write to file\n",
    "# path_out = \"/home/craig.car/repos/chiron/align_texts_project/data/lucretius/en1893_sent2section_dict_textonly.json\"\n",
    "# with open(path_out, 'w') as fp:\n",
    "#     json.dump(en1893_sent2section_name_textonly, fp)"
   ]
  },
  {
   "cell_type": "markdown",
   "id": "095400da-f2ee-4114-bb75-8f5f599f8f90",
   "metadata": {},
   "source": [
    "### TODO: test sent2section_name_textonly dict"
   ]
  },
  {
   "cell_type": "code",
   "execution_count": 124,
   "id": "fb4eb849-f15c-4c94-a978-7a68701ceda5",
   "metadata": {},
   "outputs": [
    {
     "data": {
      "text/plain": [
       "['prose_translationbook4', 'prose_translationbook4']"
      ]
     },
     "execution_count": 124,
     "metadata": {},
     "output_type": "execute_result"
    }
   ],
   "source": [
    "en1893_sent2section_name_textonly[2253]"
   ]
  },
  {
   "cell_type": "code",
   "execution_count": 125,
   "id": "9ef9eaba-a79e-40ad-b845-4c5639cc8709",
   "metadata": {},
   "outputs": [
    {
     "data": {
      "text/plain": [
       "\"In scenes like these, the genial soil lock up,  Or curse with barren love the man unblest, No lovely race who Ioasts to hail him sire,-  As deem the many, who, in sadness drown'd,  Oft offer victims, and, with fragrant gums,  Kindle the blazing altar, wearying heav'n  Vainly, tc fill the void reluctant womb.\""
      ]
     },
     "execution_count": 125,
     "metadata": {},
     "output_type": "execute_result"
    }
   ],
   "source": [
    "en1893_sents_textonly[2253]"
   ]
  },
  {
   "cell_type": "code",
   "execution_count": 126,
   "id": "a826e4a4-7420-4ad8-8dcd-314d46650600",
   "metadata": {},
   "outputs": [
    {
     "data": {
      "text/plain": [
       "'* * * * * * * WHO, from his burning breast, a strain may strike  Meet for the boundless majesty of things ?'"
      ]
     },
     "execution_count": 126,
     "metadata": {},
     "output_type": "execute_result"
    }
   ],
   "source": [
    "en1893_sents_textonly[6519]"
   ]
  },
  {
   "cell_type": "code",
   "execution_count": 127,
   "id": "61afd6b8-e3bd-4c78-ac9e-8c025d56fec1",
   "metadata": {},
   "outputs": [
    {
     "data": {
      "text/plain": [
       "['metric_translationbook4', 'metric_translationbook5']"
      ]
     },
     "execution_count": 127,
     "metadata": {},
     "output_type": "execute_result"
    }
   ],
   "source": [
    "en1893_sent2section_name_textonly[6519]"
   ]
  },
  {
   "cell_type": "code",
   "execution_count": 128,
   "id": "adccf73f-190b-4fb6-92e4-388063477fb7",
   "metadata": {},
   "outputs": [
    {
     "data": {
      "text/plain": [
       "'metric_translationbook5'"
      ]
     },
     "execution_count": 128,
     "metadata": {},
     "output_type": "execute_result"
    }
   ],
   "source": [
    "en1893_sent2section_name_textonly[6520]"
   ]
  },
  {
   "cell_type": "code",
   "execution_count": 129,
   "id": "271b98a0-b7a1-496a-af98-a77bc2249d55",
   "metadata": {},
   "outputs": [
    {
     "name": "stdout",
     "output_type": "stream",
     "text": [
      "433\n",
      "432\n"
     ]
    }
   ],
   "source": [
    "# check if any en sents overlap sections\n",
    "num_ensents_manychaps = 0\n",
    "overlaps_same_chap = 0\n",
    "for key, values in en1893_sent2section_name_textonly.items():\n",
    "    if isinstance(values, list):\n",
    "        if len(values) > 1:\n",
    "            num_ensents_manychaps += 1\n",
    "            values_set = set(values)\n",
    "            if len(values_set) == 1:\n",
    "                overlaps_same_chap += 1\n",
    "                # print(key)\n",
    "print(num_ensents_manychaps)\n",
    "print(overlaps_same_chap)"
   ]
  },
  {
   "cell_type": "markdown",
   "id": "2be07824-85b4-4a49-a167-e0239d96aa01",
   "metadata": {},
   "source": [
    "Note: The 432 sentences \"overlapping\" the same book is because each book is spread across multiple chunks when extracted from the original xml file. These sentences' section names are therefore converted back to a single section.\n",
    "\n",
    "The remaining 1 sentence is the following: \"* * * * * * * WHO, from his burning breast, a strain may strike  Meet for the boundless majesty of things ?\" (en1893_sents_textonly[6519]). The asterisks are from the end of Book 4. I've kept this one intact."
   ]
  },
  {
   "cell_type": "code",
   "execution_count": 130,
   "id": "5b08302e-0f5c-4af1-a217-6cf614f1bc48",
   "metadata": {},
   "outputs": [
    {
     "name": "stdout",
     "output_type": "stream",
     "text": [
      "Remaining sentence belonging to two sections has index 6519 and is from sections ['metric_translationbook4', 'metric_translationbook5']\n",
      "1\n",
      "0\n"
     ]
    }
   ],
   "source": [
    "for key, values in en1893_sent2section_name_textonly.items():\n",
    "    if isinstance(values, list):\n",
    "        if len(values) > 1:\n",
    "            values_set = set(values)\n",
    "            if len(values_set) == 1:\n",
    "                en1893_sent2section_name_textonly[key] = \"\".join([char for char in values_set])\n",
    "\n",
    "# check if any en sents overlap sections\n",
    "num_ensents_manychaps = 0\n",
    "overlaps_same_chap = 0\n",
    "for key, values in en1893_sent2section_name_textonly.items():\n",
    "    if isinstance(values, list):\n",
    "        if len(values) > 1:\n",
    "            num_ensents_manychaps += 1\n",
    "            values_set = set(values)\n",
    "            if len(values_set) == 1:\n",
    "                overlaps_same_chap += 1\n",
    "            else:\n",
    "                print(f\"Remaining sentence belonging to two sections has index {key} and is from sections {values}\")\n",
    "print(num_ensents_manychaps)\n",
    "print(overlaps_same_chap)            "
   ]
  },
  {
   "cell_type": "markdown",
   "id": "a57e0223-9bea-4390-b9bd-ff06c4b79fe7",
   "metadata": {},
   "source": [
    "# TODO: full edition experiment\n",
    "1. TEST new dict (see end of notebook)\n",
    "2. Run through score vec results notebook\n",
    "3. Check results\n",
    "4. Update numbers in paper"
   ]
  },
  {
   "cell_type": "code",
   "execution_count": 131,
   "id": "eb27af21-965e-4771-949a-94693500c061",
   "metadata": {},
   "outputs": [
    {
     "name": "stdout",
     "output_type": "stream",
     "text": [
      "there are 1426 footnotes in Lucretius English edition\n"
     ]
    }
   ],
   "source": [
    "en_reconstructed_TEST, idx2section_name_TEST, lucretius_en1893_textonly_TEST = reconstruct_txt_markers(\n",
    "    en1893_str_markers_newlines_split, chapteridx2chaptername)"
   ]
  },
  {
   "cell_type": "code",
   "execution_count": 132,
   "id": "7a700077-f1e7-4141-9bc7-211668681479",
   "metadata": {},
   "outputs": [],
   "source": [
    "def reconcile_sents_chapts(en_reconstructed_lst):\n",
    "    # apply same changes to en_reconstructed_lst in order to match tokenization\n",
    "    for sent_idx, sent in enumerate(en_reconstructed_lst):\n",
    "        en_reconstructed_lst[sent_idx] = en_reconstructed_lst[sent_idx].replace(\".”1\", \".” 1\")\n",
    "        en_reconstructed_lst[sent_idx] = en_reconstructed_lst[sent_idx].replace(\"tongue.2\", \"tongue. 2\")\n",
    "        en_reconstructed_lst[sent_idx] = en_reconstructed_lst[sent_idx].replace(\"veneration.3\", \"veneration. 3\")\n",
    "        en_reconstructed_lst[sent_idx] = en_reconstructed_lst[sent_idx].replace(\"insane.3\", \"insane. 3\")\n",
    "        en_reconstructed_lst[sent_idx] = en_reconstructed_lst[sent_idx].replace(\".1\", \". 1\")\n",
    "        en_reconstructed_lst[sent_idx] = en_reconstructed_lst[sent_idx].replace(\"opinion.3\", \"opinion. 3\")\n",
    "        en_reconstructed_lst[sent_idx] = en_reconstructed_lst[sent_idx].replace(\".7\", \". 7\")\n",
    "        en_reconstructed_lst[sent_idx] = en_reconstructed_lst[sent_idx].replace(\".2\", \". 2\")\n",
    "        en_reconstructed_lst[sent_idx] = en_reconstructed_lst[sent_idx].replace(\".4\", \". 4\")\n",
    "        en_reconstructed_lst[sent_idx] = en_reconstructed_lst[sent_idx].replace('language;\"', 'language; \"')\n",
    "        en_reconstructed_lst[sent_idx] = en_reconstructed_lst[sent_idx].replace('Lucretius;\"', 'Lucretius; \"')\n",
    "        en_reconstructed_lst[sent_idx] = en_reconstructed_lst[sent_idx].replace(\"?1\", \"? 1\")\n",
    "        en_reconstructed_lst[sent_idx] = en_reconstructed_lst[sent_idx].replace(\".5\", \". 5\")\n",
    "        en_reconstructed_lst[sent_idx] = en_reconstructed_lst[sent_idx].replace(\".6\", \". 6\")\n",
    "        en_reconstructed_lst[sent_idx] = en_reconstructed_lst[sent_idx].replace(\"It;.\", \"It; .\")\n",
    "        en_reconstructed_lst[sent_idx] = en_reconstructed_lst[sent_idx].replace(\":8\", \": 8\")\n",
    "        en_reconstructed_lst[sent_idx] = en_reconstructed_lst[sent_idx].replace(\".3\", \". 3\")\n",
    "        en_reconstructed_lst[sent_idx] = en_reconstructed_lst[sent_idx].replace(\":2\", \": 2\")\n",
    "        en_reconstructed_lst[sent_idx] = en_reconstructed_lst[sent_idx].replace(\"?2\", \"? 2\")\n",
    "        en_reconstructed_lst[sent_idx] = en_reconstructed_lst[sent_idx].replace('ἔχειπρός.”Wakefield.', 'ἔχειπρός. ”Wakefield.')\n",
    "        en_reconstructed_lst[sent_idx] = en_reconstructed_lst[sent_idx].replace(\"Tacitus. 11\", \"Tacitus.11\")\n",
    "        en_reconstructed_lst[sent_idx] = en_reconstructed_lst[sent_idx].replace('Æolia.”What', 'Æolia. ”What')\n",
    "        en_reconstructed_lst[sent_idx] = en_reconstructed_lst[sent_idx].replace('concerned).—', 'concerned). —')\n",
    "        en_reconstructed_lst[sent_idx] = en_reconstructed_lst[sent_idx].replace('.—', '. —')\n",
    "        en_reconstructed_lst[sent_idx] = en_reconstructed_lst[sent_idx].replace(\"nix.—Are\", \"nix. —Are\")\n",
    "        en_reconstructed_lst[sent_idx] = en_reconstructed_lst[sent_idx].replace(\"improvida.—Find\", \"improvida. —Find\")\n",
    "        en_reconstructed_lst[sent_idx] = en_reconstructed_lst[sent_idx].replace(\";\", \"; \")\n",
    "        en_reconstructed_lst[sent_idx] = en_reconstructed_lst[sent_idx].replace(\"fleshes.”\", \"fleshes. ”\")\n",
    "        en_reconstructed_lst[sent_idx] = en_reconstructed_lst[sent_idx].replace(\".]Ver\", \".] Ver\")\n",
    "        en_reconstructed_lst[sent_idx] = en_reconstructed_lst[sent_idx].replace(\":so\", \": so\")\n",
    "        en_reconstructed_lst[sent_idx] = en_reconstructed_lst[sent_idx].replace(\"flumina. —“\", \"flumina.—“\")\n",
    "        en_reconstructed_lst[sent_idx] = en_reconstructed_lst[sent_idx].replace(\"armis.–Fortè\", \"armis. –Fortè\")\n",
    "        en_reconstructed_lst[sent_idx] = en_reconstructed_lst[sent_idx].replace(\"—But\", \"— But\")\n",
    "        en_reconstructed_lst[sent_idx] = en_reconstructed_lst[sent_idx].replace(\"—Or\", \"— Or\")\n",
    "        en_reconstructed_lst[sent_idx] = en_reconstructed_lst[sent_idx].replace(\"minds.\", \"minds. \")\n",
    "        en_reconstructed_lst[sent_idx] = en_reconstructed_lst[sent_idx].replace(':\"', ': \"')\n",
    "        en_reconstructed_lst[sent_idx] = en_reconstructed_lst[sent_idx].replace('first.-The', 'first. -The')\n",
    "        en_reconstructed_lst[sent_idx] = en_reconstructed_lst[sent_idx].replace(':)', ': )')\n",
    "        en_reconstructed_lst[sent_idx] = en_reconstructed_lst[sent_idx].replace('body. ——I', 'body.— —I')\n",
    "        en_reconstructed_lst[sent_idx] = en_reconstructed_lst[sent_idx].replace('curtains. —“', 'curtains.—“')\n",
    "        en_reconstructed_lst[sent_idx] = en_reconstructed_lst[sent_idx].replace('593. —\"', '593.—\"')\n",
    "        en_reconstructed_lst[sent_idx] = en_reconstructed_lst[sent_idx].replace('borne. 3', 'borne.3')\n",
    "        en_reconstructed_lst[sent_idx] = en_reconstructed_lst[sent_idx].replace('words.J', 'words. J')\n",
    "        en_reconstructed_lst[sent_idx] = en_reconstructed_lst[sent_idx].replace('compose. 1', 'compose.1')\n",
    "        en_reconstructed_lst[sent_idx] = en_reconstructed_lst[sent_idx].replace(\"systems.”Whewell's\", \"systems. ”Whewell's\")\n",
    "        en_reconstructed_lst[sent_idx] = en_reconstructed_lst[sent_idx].replace('life?3', 'life? 3')\n",
    "        en_reconstructed_lst[sent_idx] = en_reconstructed_lst[sent_idx].replace(\"? 1  Or,\", \"?1 Or,\")\n",
    "        en_reconstructed_lst[sent_idx] = en_reconstructed_lst[sent_idx].replace('true.]1', 'true.] 1')\n",
    "        en_reconstructed_lst[sent_idx] = en_reconstructed_lst[sent_idx].replace('Phil. i. 1. 1.', 'Phil. i. 1.1.')\n",
    "        en_reconstructed_lst[sent_idx] = en_reconstructed_lst[sent_idx].replace('up. 1 adhering', 'up.1 adhering')\n",
    "        en_reconstructed_lst[sent_idx] = en_reconstructed_lst[sent_idx].replace('6, 6. —With', '6, 6.—With')\n",
    "        en_reconstructed_lst[sent_idx] = en_reconstructed_lst[sent_idx].replace('THE YEAR. 3', 'THE YEAR.3')\n",
    "        en_reconstructed_lst[sent_idx] = en_reconstructed_lst[sent_idx].replace('elbows?3', 'elbows? 3')\n",
    "        en_reconstructed_lst[sent_idx] = en_reconstructed_lst[sent_idx].replace(':—idem', ': —idem')\n",
    "        en_reconstructed_lst[sent_idx] = en_reconstructed_lst[sent_idx].replace('moisture.-Motion', 'moisture. -Motion')\n",
    "        en_reconstructed_lst[sent_idx] = en_reconstructed_lst[sent_idx].replace('ENTIRE WHOLE. 1', 'ENTIRE WHOLE.1')\n",
    "        en_reconstructed_lst[sent_idx] = en_reconstructed_lst[sent_idx].replace('sui.”Aul.Gell.', 'sui. ”Aul. Gell.')\n",
    "        en_reconstructed_lst[sent_idx] = en_reconstructed_lst[sent_idx].replace('itself?3', 'itself? 3')\n",
    "        en_reconstructed_lst[sent_idx] = en_reconstructed_lst[sent_idx].replace('sun?4', 'sun? 4')\n",
    "        en_reconstructed_lst[sent_idx] = en_reconstructed_lst[sent_idx].replace('day :—', 'day : —')\n",
    "        en_reconstructed_lst[sent_idx] = en_reconstructed_lst[sent_idx].replace('every nerve. — ', 'every nerve.—')\n",
    "        en_reconstructed_lst[sent_idx] = en_reconstructed_lst[sent_idx].replace('fury !— But', 'fury ! —But')\n",
    "        en_reconstructed_lst[sent_idx] = en_reconstructed_lst[sent_idx].replace('flame. —', 'flame.—')\n",
    "        en_reconstructed_lst[sent_idx] = en_reconstructed_lst[sent_idx].replace('concealed. —', 'concealed.—')\n",
    "        en_reconstructed_lst[sent_idx] = en_reconstructed_lst[sent_idx].replace('rose:-', 'rose: -')\n",
    "        en_reconstructed_lst[sent_idx] = en_reconstructed_lst[sent_idx].replace('exhaustion:—such', 'exhaustion: —such')\n",
    "        en_reconstructed_lst[sent_idx] = en_reconstructed_lst[sent_idx].replace('beneath.-On', 'beneath. -On')\n",
    "        en_reconstructed_lst[sent_idx] = en_reconstructed_lst[sent_idx].replace('bring:-', 'bring: -')\n",
    "        en_reconstructed_lst[sent_idx] = en_reconstructed_lst[sent_idx].replace('Corporeal:—hence', 'Corporeal: —hence')\n",
    "        en_reconstructed_lst[sent_idx] = en_reconstructed_lst[sent_idx].replace(':-can', ': -can')\n",
    "        en_reconstructed_lst[sent_idx] = en_reconstructed_lst[sent_idx].replace(':-a', ': -a')\n",
    "        en_reconstructed_lst[sent_idx] = en_reconstructed_lst[sent_idx].replace(':-by', ': -by')\n",
    "        en_reconstructed_lst[sent_idx] = en_reconstructed_lst[sent_idx].replace('.And', '. And')\n",
    "        en_reconstructed_lst[sent_idx] = en_reconstructed_lst[sent_idx].replace('death.-Since', 'death. -Since')\n",
    "        en_reconstructed_lst[sent_idx] = en_reconstructed_lst[sent_idx].replace(':-some', ': -some')\n",
    "        en_reconstructed_lst[sent_idx] = en_reconstructed_lst[sent_idx].replace('ever!\"— But', 'ever!\" —But')\n",
    "        en_reconstructed_lst[sent_idx] = en_reconstructed_lst[sent_idx].replace('peace. —', 'peace.—')\n",
    "        en_reconstructed_lst[sent_idx] = en_reconstructed_lst[sent_idx].replace('aid.-No', 'aid. -No')\n",
    "        en_reconstructed_lst[sent_idx] = en_reconstructed_lst[sent_idx].replace('man. —', 'man.—')\n",
    "        en_reconstructed_lst[sent_idx] = en_reconstructed_lst[sent_idx].replace('?or', '? or')\n",
    "        en_reconstructed_lst[sent_idx] = en_reconstructed_lst[sent_idx].replace(':-it', ': -it')\n",
    "        en_reconstructed_lst[sent_idx] = en_reconstructed_lst[sent_idx].replace('ill. —', 'ill.—')\n",
    "        en_reconstructed_lst[sent_idx] = en_reconstructed_lst[sent_idx].replace('prevail.-Thus', 'prevail. -Thus')\n",
    "        en_reconstructed_lst[sent_idx] = en_reconstructed_lst[sent_idx].replace(':-for', ': -for')\n",
    "        en_reconstructed_lst[sent_idx] = en_reconstructed_lst[sent_idx].replace('well-spring:—creed', 'well-spring: —creed')\n",
    "        en_reconstructed_lst[sent_idx] = en_reconstructed_lst[sent_idx].replace(':different', ': different')\n",
    "        en_reconstructed_lst[sent_idx] = en_reconstructed_lst[sent_idx].replace('an:!', 'an: !')\n",
    "        en_reconstructed_lst[sent_idx] = en_reconstructed_lst[sent_idx].replace('v. 2. 5', 'v. 2.5')\n",
    "        en_reconstructed_lst[sent_idx] = en_reconstructed_lst[sent_idx].replace('v. 1116;', 'v.1116;')\n",
    "        en_reconstructed_lst[sent_idx] = en_reconstructed_lst[sent_idx].replace('1. 57,', '1.57,')\n",
    "        en_reconstructed_lst[sent_idx] = en_reconstructed_lst[sent_idx].replace(':voluntary', ': voluntary')\n",
    "        en_reconstructed_lst[sent_idx] = en_reconstructed_lst[sent_idx].replace('ib. ;   grow', 'ib. grow')\n",
    "        en_reconstructed_lst[sent_idx] = en_reconstructed_lst[sent_idx].replace('in, v. 30', 'in, v.30')\n",
    "        en_reconstructed_lst[sent_idx] = en_reconstructed_lst[sent_idx].replace('tones ? 1', 'tones ?1')\n",
    "    return en_reconstructed_lst"
   ]
  },
  {
   "cell_type": "code",
   "execution_count": 133,
   "id": "bbfc67ae-0fa9-489a-bcf1-942c85d1733e",
   "metadata": {},
   "outputs": [],
   "source": [
    "en_reconstructed_TEST_rec = reconcile_sents_chapts(en_reconstructed_TEST)"
   ]
  },
  {
   "cell_type": "code",
   "execution_count": 134,
   "id": "df530739-c984-4e67-b946-584d5096ff2d",
   "metadata": {},
   "outputs": [],
   "source": [
    "en1893_sents_tokenized_TEST = []\n",
    "for idx, sent in enumerate(en1983_sents):\n",
    "    en1893_sents_tokenized_TEST.append(sent.split())"
   ]
  },
  {
   "cell_type": "code",
   "execution_count": 135,
   "id": "4dc79af1-af4d-4c9f-93de-d49cafe0b8a5",
   "metadata": {},
   "outputs": [],
   "source": [
    "en_reconstructed_tokenized_TEST = []\n",
    "for idx, sent in enumerate(en_reconstructed_TEST):\n",
    "    en_reconstructed_tokenized_TEST.append(sent.split())"
   ]
  },
  {
   "cell_type": "code",
   "execution_count": 136,
   "id": "3203dfb3-2ca8-4f3f-8e77-f1f63a452cc8",
   "metadata": {},
   "outputs": [],
   "source": [
    "num_tokens_sents = 0\n",
    "for sent in en1893_sents_tokenized_TEST:\n",
    "    num_tokens_sents += len(sent)\n",
    "\n",
    "num_tokens_chapts = 0\n",
    "for sent in en_reconstructed_tokenized_TEST:\n",
    "    num_tokens_chapts += len(sent)"
   ]
  },
  {
   "cell_type": "code",
   "execution_count": 137,
   "id": "7bd1ac7f-985f-4058-8d0d-05286fe5722b",
   "metadata": {},
   "outputs": [
    {
     "name": "stdout",
     "output_type": "stream",
     "text": [
      "202634\n",
      "202634\n"
     ]
    }
   ],
   "source": [
    "print(num_tokens_sents)\n",
    "print(num_tokens_chapts)"
   ]
  },
  {
   "cell_type": "code",
   "execution_count": 138,
   "id": "53796703-acb6-46c8-bc49-04b590ffb64e",
   "metadata": {},
   "outputs": [],
   "source": [
    "en1983_tokens_from_sents_TEST = flatten_list(en1893_sents_tokenized_TEST)\n",
    "en1983_tokens_from_chapts_TEST = flatten_list(en_reconstructed_tokenized_TEST)"
   ]
  },
  {
   "cell_type": "code",
   "execution_count": 139,
   "id": "9c88e619-0f0b-4d96-af79-67021097322d",
   "metadata": {},
   "outputs": [
    {
     "data": {
      "text/plain": [
       "True"
      ]
     },
     "execution_count": 139,
     "metadata": {},
     "output_type": "execute_result"
    }
   ],
   "source": [
    "en1983_tokens_from_sents_TEST == en1983_tokens_from_chapts_TEST"
   ]
  },
  {
   "cell_type": "code",
   "execution_count": 140,
   "id": "8779b593-6b1f-452f-b1a9-da9d0aaa611b",
   "metadata": {},
   "outputs": [
    {
     "data": {
      "text/plain": [
       "['tongue.', '2', 'As', 'to']"
      ]
     },
     "execution_count": 140,
     "metadata": {},
     "output_type": "execute_result"
    }
   ],
   "source": [
    "en1983_tokens_from_chapts_TEST[61:65]"
   ]
  },
  {
   "cell_type": "code",
   "execution_count": 141,
   "id": "6e5e4740-2063-4f2f-a35b-e11fe2695386",
   "metadata": {},
   "outputs": [],
   "source": [
    "for idx, token in enumerate(en1983_tokens_from_chapts_TEST):\n",
    "    if token != en1983_tokens_from_sents_TEST[idx]:\n",
    "        print(idx)"
   ]
  },
  {
   "cell_type": "code",
   "execution_count": 142,
   "id": "aa9aeed4-0631-434c-847b-549aed4668ac",
   "metadata": {},
   "outputs": [],
   "source": [
    "en1893_sent2section_name_TEST = build_sent_to_section_dict(\n",
    "    en1893_sents_tokenized_TEST, en_reconstructed_tokenized_TEST, idx2section_name_TEST)"
   ]
  },
  {
   "cell_type": "code",
   "execution_count": 143,
   "id": "804eedf0-5920-452e-bf8e-6d6bc9b42ede",
   "metadata": {},
   "outputs": [
    {
     "name": "stdout",
     "output_type": "stream",
     "text": [
      "Thus abruptly ends the description of the plague, and the poem  of Lucretius.\n",
      "8576\n"
     ]
    }
   ],
   "source": [
    "for idx, item in enumerate(en1983_sents):\n",
    "    if \"Thus abruptly ends\" in item:\n",
    "        print(item)\n",
    "        print(idx)"
   ]
  },
  {
   "cell_type": "code",
   "execution_count": 144,
   "id": "98404bf3-ffce-436d-8bb5-e608745b35fd",
   "metadata": {},
   "outputs": [
    {
     "data": {
      "text/plain": [
       "'prose_translationbook6commentary'"
      ]
     },
     "execution_count": 144,
     "metadata": {},
     "output_type": "execute_result"
    }
   ],
   "source": [
    "en1893_sent2section_name_TEST[8576]"
   ]
  },
  {
   "cell_type": "code",
   "execution_count": 145,
   "id": "12de52aa-2ab4-41ee-9ff2-988ebb05ec66",
   "metadata": {},
   "outputs": [
    {
     "data": {
      "text/plain": [
       "'metric_translationbook1'"
      ]
     },
     "execution_count": 145,
     "metadata": {},
     "output_type": "execute_result"
    }
   ],
   "source": [
    "en1893_sent2section_name_TEST[8614]"
   ]
  },
  {
   "cell_type": "code",
   "execution_count": 146,
   "id": "6a774370-69a6-4c43-9e52-a6c93d75e5c3",
   "metadata": {},
   "outputs": [
    {
     "data": {
      "text/plain": [
       "'PARENT of ROME ! by gods and men beloved,  Benignant VENUS!'"
      ]
     },
     "execution_count": 146,
     "metadata": {},
     "output_type": "execute_result"
    }
   ],
   "source": [
    "en1983_sents[8614]"
   ]
  },
  {
   "cell_type": "code",
   "execution_count": 147,
   "id": "47553cea-631d-4db6-8757-f5858ebb7e3c",
   "metadata": {},
   "outputs": [
    {
     "name": "stdout",
     "output_type": "stream",
     "text": [
      "  PARENT of ROME ! by gods and men beloved,  Benignant VENUS! thou, the sail-clad main  And fruitful earth, as round the seasons roll,  With life who swellest, for by thee all live,  And, living, hail the cheerful light of day : —  Thee, goddess, at thy glad approach, the winds.  The tempests fly : dedalian Earth to thee  Pours forth her sweetest flow'rets: Ocean laughs,  And the blue heavens in cloudless splendour decked.  For, when the Spring first opes her frolic eye,  And genial zephyrs long locked up respire,  Thee, goddess, then, th' aerial birds confess,  To rapture stung through every shivering plume:  Thee, the wild herds ;  hence, o'er the joyous glebe  Bounding at large;  or, with undaunted chest,  Stemming the torrent tides. Through all that lives  So, by thy charms, thy blandishments overpowered,  Springs the warm wish thy footsteps to pursue:  Till through the seas, the mountains, and the floods,  The verdant meads, and woodlands filled with song  Spurred by desire each palpitating tribe  Hastes, at thy shrine, to plant, the future race.\n",
      " \n",
      "2009\n"
     ]
    }
   ],
   "source": [
    "for idx, item in enumerate(en_reconstructed_TEST_rec):\n",
    "    if \"PARENT of ROME ! by\" in item:\n",
    "        print(item)\n",
    "        print(idx)"
   ]
  },
  {
   "cell_type": "code",
   "execution_count": 148,
   "id": "86376bdd-01ab-45d7-b851-17e16b21d68e",
   "metadata": {},
   "outputs": [
    {
     "data": {
      "text/plain": [
       "'metric_translationbook0title'"
      ]
     },
     "execution_count": 148,
     "metadata": {},
     "output_type": "execute_result"
    }
   ],
   "source": [
    "idx2section_name_TEST[2007]"
   ]
  },
  {
   "cell_type": "code",
   "execution_count": 149,
   "id": "d6c69548-9057-4220-bf3a-d15a4793bef1",
   "metadata": {},
   "outputs": [
    {
     "data": {
      "text/plain": [
       "'BY JOHN MASON GOOD.\\n '"
      ]
     },
     "execution_count": 149,
     "metadata": {},
     "output_type": "execute_result"
    }
   ],
   "source": [
    "en_reconstructed_TEST_rec[2007]"
   ]
  },
  {
   "cell_type": "code",
   "execution_count": 150,
   "id": "c1ba3964-96b6-4539-9ea3-294bf836b71c",
   "metadata": {},
   "outputs": [
    {
     "data": {
      "text/plain": [
       "3399"
      ]
     },
     "execution_count": 150,
     "metadata": {},
     "output_type": "execute_result"
    }
   ],
   "source": [
    "len(en_reconstructed_tokenized_TEST)"
   ]
  },
  {
   "cell_type": "code",
   "execution_count": 151,
   "id": "d1c2206b-1efa-4c02-aab8-a84ae2d35ada",
   "metadata": {},
   "outputs": [
    {
     "data": {
      "text/plain": [
       "3399"
      ]
     },
     "execution_count": 151,
     "metadata": {},
     "output_type": "execute_result"
    }
   ],
   "source": [
    "len(en_reconstructed_TEST_rec)"
   ]
  },
  {
   "cell_type": "code",
   "execution_count": 152,
   "id": "f20a1698-81fa-4351-b47b-19416f7716f7",
   "metadata": {},
   "outputs": [],
   "source": [
    "def build_sent_to_section_dict_NEW(lst_tokenized_sents, lst_tokenized_chapts,\n",
    "                               dict_chapter_2_section):\n",
    "    \"\"\"\n",
    "    Build dict of sentence idx to section name\n",
    "    \"\"\"\n",
    "    sent_idx_2_section_name = {}\n",
    "    token_counter = 0 # per section/chapter\n",
    "    current_section_idx = 0\n",
    "    for idx_sent, sent in enumerate(lst_tokenized_sents):\n",
    "        token_counter += len(sent)\n",
    "        current_chapter_length = len(lst_tokenized_chapts[current_section_idx])\n",
    "        if token_counter < current_chapter_length:\n",
    "            # add sent to dict\n",
    "            sent_idx_2_section_name[idx_sent] = dict_chapter_2_section[current_section_idx]\n",
    "        elif token_counter == current_chapter_length:\n",
    "            # add sent to dict as part of current section\n",
    "            sent_idx_2_section_name[idx_sent] = dict_chapter_2_section[current_section_idx]\n",
    "            # reset token counter and current section idx for next sent iteration\n",
    "            token_counter = 0\n",
    "            current_section_idx += 1\n",
    "        else: # token_counter > current_chapter_length, i.e. we've crossed a section boundary\n",
    "            print(idx_sent)\n",
    "            # add sent to current section and next section\n",
    "            sent_idx_2_section_name[idx_sent] = [\n",
    "                dict_chapter_2_section[current_section_idx], \n",
    "                dict_chapter_2_section[current_section_idx+1]]\n",
    "            # adjust token counter by only including portion of sent in new section\n",
    "            token_counter = token_counter - current_chapter_length\n",
    "            # update current section idx for next sent iteration\n",
    "            current_section_idx += 1\n",
    "    return sent_idx_2_section_name"
   ]
  },
  {
   "cell_type": "code",
   "execution_count": 153,
   "id": "e8a8714d-cc9c-40a9-bbfc-05e636019e13",
   "metadata": {},
   "outputs": [],
   "source": [
    "# path_out = \"/home/craig.car/repos/chiron/align_texts_project/data/lucretius/en1893_sent2section_dict_jul25_NEW.json\"\n",
    "# with open(path_out, 'w') as fp:\n",
    "#     json.dump(en1893_sent2section_name_TEST, fp)"
   ]
  },
  {
   "cell_type": "markdown",
   "id": "ee900003-6994-431a-b336-0ef9016d70c3",
   "metadata": {},
   "source": [
    "## TEST DICT: sent2section_name full edition"
   ]
  },
  {
   "cell_type": "code",
   "execution_count": 154,
   "id": "75133f0f-986d-4b63-9113-d670da72f9db",
   "metadata": {
    "tags": []
   },
   "outputs": [
    {
     "data": {
      "text/plain": [
       "'metric_translationbook4note'"
      ]
     },
     "execution_count": 154,
     "metadata": {},
     "output_type": "execute_result"
    }
   ],
   "source": [
    "en1893_sent2section_name_TEST[11678]"
   ]
  },
  {
   "cell_type": "code",
   "execution_count": 155,
   "id": "be957295-597f-4410-b9d4-ffff7d5b27a2",
   "metadata": {},
   "outputs": [
    {
     "data": {
      "text/plain": [
       "\"As the remaining portion of Good's Translation of this book has already  been given at page 182, it has been deemed unnecessary to reprint it in its  place here.\""
      ]
     },
     "execution_count": 155,
     "metadata": {},
     "output_type": "execute_result"
    }
   ],
   "source": [
    "en1983_sents[11678]"
   ]
  },
  {
   "cell_type": "code",
   "execution_count": 156,
   "id": "a76ebf30-b886-45c7-945c-df5009bdcede",
   "metadata": {},
   "outputs": [
    {
     "data": {
      "text/plain": [
       "14648"
      ]
     },
     "execution_count": 156,
     "metadata": {},
     "output_type": "execute_result"
    }
   ],
   "source": [
    "len(en1893_sent2section_name_TEST)"
   ]
  },
  {
   "cell_type": "code",
   "execution_count": 157,
   "id": "103e5287-b161-407d-879c-00991d3d76c7",
   "metadata": {
    "collapsed": true,
    "jupyter": {
     "outputs_hidden": true
    },
    "tags": []
   },
   "outputs": [
    {
     "name": "stdout",
     "output_type": "stream",
     "text": [
      "1\n",
      "forewordbook0title\n",
      "REMARKS\n",
      "=============\n",
      "101\n",
      "forewordbook0\n",
      "Statius did him more justice, when he spoke of the  docti furor arduus Lucret, “ the lofty rage of the learned  Lucretius.”6\n",
      "=============\n",
      "201\n",
      "forewordbook0\n",
      "vision ends.\n",
      "=============\n",
      "301\n",
      "forewordbook0\n",
      "It is therefore probable that there are many  worlds of many kinds.\n",
      "=============\n",
      "401\n",
      "forewordbook0\n",
      "His work, says  Lachmann, was mercenary;\n",
      "=============\n",
      "501\n",
      "prose_translationbook1note\n",
      "3 Gliding constellations of heaven.]\n",
      "=============\n",
      "601\n",
      "prose_translationbook1note\n",
      "Ver. 35. Æterno vulnere amoris.\n",
      "=============\n",
      "701\n",
      "prose_translationbook1\n",
      "as when  at Aulis the chosen leaders of the Greeks, the chief of men,  foully stained the altar of the virgin Trivia with the blood  of Iphigenia.\n",
      "=============\n",
      "801\n",
      "prose_translationbook1note\n",
      "but who will second  him ?\n",
      "=============\n",
      "901\n",
      "prose_translationbook1note\n",
      "I Further, the same force, &c.] Ver. 239.\n",
      "=============\n",
      "1001\n",
      "prose_translationbook1note\n",
      "3 Corroding salt.]\n",
      "=============\n",
      "1101\n",
      "prose_translationbook1note\n",
      "To Berkeley has been imputed a thousand and a  thousand times that which he never believed or imagined.\n",
      "=============\n",
      "1201\n",
      "prose_translationbook1\n",
      "Body, therefore, is evidently distinct from  empty space, though each has its place alternately;\n",
      "=============\n",
      "1301\n",
      "prose_translationbook1note\n",
      "chap. 23, § 31,) that \" the infinite divisibility of matter  whether we grant or deny it, involves us in inexplicable conse  quences.\"\n",
      "=============\n",
      "1401\n",
      "prose_translationbook1note\n",
      "Ver. 661.\n",
      "=============\n",
      "1501\n",
      "prose_translationbook1\n",
      "which  great region, though it seems worthy-of-admiration to the  human race on many accounts, and is extolled as deserving  of-being-visited, being rich in valuable productions, and de  fended with a mighty force of inhabitants, yet appears to  have contained in it nothing more excellent than this man,  nor any thing more sacred, and wonderful, and estimable..\n",
      "=============\n",
      "1601\n",
      "prose_translationbook1\n",
      "Besides, even in my own verses you see every where many  elements common to many words;\n",
      "=============\n",
      "1701\n",
      "prose_translationbook1note\n",
      "Lambinus.\n",
      "=============\n",
      "1801\n",
      "prose_translationbook1note\n",
      "I Famous rivers.]\n",
      "=============\n",
      "1901\n",
      "prose_translationbook1note\n",
      "the moon no more\n",
      "=============\n",
      "2001\n",
      "prose_translationbook2\n",
      "and by what force they  are thus compelled to act, and what activity has been com  municated to them for passing through the mighty void  of space.\n",
      "=============\n",
      "2101\n",
      "prose_translationbook2note\n",
      "Lambinus.\n",
      "=============\n",
      "2201\n",
      "prose_translationbook2note\n",
      "if their motion be invariably direct, there arises from this motion a  chain of fate and necessity;\n",
      "=============\n",
      "2301\n",
      "prose_translationbook2\n",
      "Wine, also, we observe to flow as quickly as possible through  a strainer, but thick oil, on the contrary, moves through it  slowly;\n",
      "=============\n",
      "2401\n",
      "prose_translationbook2\n",
      "An increase of  bulk, therefore, follows upon the variation of shapes;\n",
      "=============\n",
      "2501\n",
      "prose_translationbook2\n",
      "and from  which also it can afford waving leaves and abundant pasturage  for the brood of wild beasts ranging over the mountains.\n",
      "=============\n",
      "2601\n",
      "prose_translationbook2note\n",
      "Laert. book x\n",
      "=============\n",
      "2701\n",
      "prose_translationbook2note\n",
      "1 Altogether destitute of heat and cold.]\n",
      "=============\n",
      "2801\n",
      "prose_translationbook2\n",
      "It is  only on this supposition, accordingly,1 (viz. that they can ge-  MeTate nothing but sentient beings,) that we should be obliged,  as far as we see, to allow primordial-atoms to be sentient.\n",
      "=============\n",
      "2901\n",
      "prose_translationbook2\n",
      "the profound itself makes clear as light.\n",
      "=============\n",
      "3001\n",
      "prose_translationbook2note\n",
      "1137.\n",
      "=============\n",
      "3101\n",
      "prose_translationbook3\n",
      "Acheron) on the other hand, are no where apparent;\n",
      "=============\n",
      "3201\n",
      "prose_translationbook3note\n",
      "That is, says  Lambinus, in numero membrorum, ih the number of our members.\n",
      "=============\n",
      "3301\n",
      "prose_translationbook3\n",
      "This fact also indicates the nature of the soul, and shows  of how subtle a texture it consists, and in how small a space  it would contain itself, if it could be condensed;\n",
      "=============\n",
      "3401\n",
      "prose_translationbook3note\n",
      "The same words occur  a little below, ver. 277 and 328. \"\n",
      "=============\n",
      "3501\n",
      "prose_translationbook3\n",
      "lays  down;\n",
      "=============\n",
      "3601\n",
      "prose_translationbook3\n",
      "To this is added,2 that as we observe the body itself to-  be-subject-to violent diseases and severe pain, so we see the  mind to be susceptible of sharp cares, and grief, and fear.\n",
      "=============\n",
      "3701\n",
      "prose_translationbook3note\n",
      "Creech.\n",
      "=============\n",
      "3801\n",
      "prose_translationbook3note\n",
      "If the soul, after death, is to live and enjoy sense,  it must have organs of sense;\n",
      "=============\n",
      "3901\n",
      "prose_translationbook3\n",
      "But, nevertheless, let it be as advantageous as you please for  these souls to make a body which they may enter, there seems,  however, to be no means by which they may make it.\n",
      "=============\n",
      "4001\n",
      "prose_translationbook3\n",
      "and add, besides, that it is often sunk  into the black waves of lethargy.\n",
      "=============\n",
      "4101\n",
      "prose_translationbook3\n",
      "This also is often a practice among men, that when they  have sat down to a feast, and hold their cups in their hands,  and overshadow their faces with chaplets, they say seriously  and from their hearts, \" This enjoyment is but short to us  little men;\n",
      "=============\n",
      "4201\n",
      "prose_translationbook3\n",
      "conscious of evil deeds, feeling dread in anticipation, applies  to itself stings, and tortures itself with scourges, nor sees, in  the mean time, what end there can be of its sufferings, nor  what can be the limit of its punishment, and fears rather lest  these same tortures should become heavier at death.\n",
      "=============\n",
      "4301\n",
      "prose_translationbook4note\n",
      "If these  images presented themselves to us entire and undistorted, we beheld  true representations of the objects from which they came;\n",
      "=============\n",
      "4401\n",
      "prose_translationbook4note\n",
      "See i. 593.—\" Make plain to you,\" (ver. 113,) con  formem ;\n",
      "=============\n",
      "4501\n",
      "prose_translationbook4\n",
      "as  cold from rivers, heat from the sun, spray from the waves of  the sea, which is the consumer of walls round the shore;\n",
      "=============\n",
      "4601\n",
      "prose_translationbook4note\n",
      "but this I may be  allowed to doubt.\n",
      "=============\n",
      "4701\n",
      "prose_translationbook4\n",
      "a remark which I make, that you may not lightly sup  pose that the senses are altogether deceived.\n",
      "=============\n",
      "4801\n",
      "prose_translationbook4\n",
      "That,  therefore, is all an empty body of words, you may be sure,3  which is arrayed and drawn up against the senses.\n",
      "=============\n",
      "4901\n",
      "prose_translationbook4note\n",
      "The hoc is  Wakefield's reading, and makes the passage nonsense.\n",
      "=============\n",
      "5001\n",
      "prose_translationbook4\n",
      "we may un  derstand that the mind is moved by images of lions in like  manner, and by other images of other things,4 which it sees  and discerns equally and not less than the eyes ;\n",
      "=============\n",
      "5101\n",
      "prose_translationbook4note\n",
      "* * * Undoubtedly the poet is so far right, that a most  'vehement caution and vigilant premeditation' are necessary to  avoid the vice and error of such a persuasion.\n",
      "=============\n",
      "5201\n",
      "prose_translationbook4note\n",
      "2 Wholly fails.]\n",
      "=============\n",
      "5301\n",
      "prose_translationbook4\n",
      "The maddening fires where first the flame arose.\n",
      "=============\n",
      "5401\n",
      "prose_translationbook4\n",
      "his long-labour'd speech\n",
      "=============\n",
      "5501\n",
      "prose_translationbook5\n",
      "as Ceres is said to have  pointed out corn to mortals, and Bacchus the liquid of wine  produced from the grape;\n",
      "=============\n",
      "5601\n",
      "prose_translationbook5note\n",
      "for we most  readily believe what we discover by sight and touch.\"\n",
      "=============\n",
      "5701\n",
      "prose_translationbook5note\n",
      "Is tenanted by man!\n",
      "=============\n",
      "5801\n",
      "prose_translationbook5\n",
      "For whatever increases  and nourishes other things from itself, must by that means be  diminished, and must be recruited by receiving2 into itself  fresh substances.\n",
      "=============\n",
      "5901\n",
      "prose_translationbook5note\n",
      "Alluding to the flood of Deucalion.\n",
      "=============\n",
      "6001\n",
      "prose_translationbook5note\n",
      "Lam  binus, ad i. 232. \" This was a notion, not only of Epicurus, but of the  Stoics.\n",
      "=============\n",
      "6101\n",
      "prose_translationbook5\n",
      "Hence it happens, that the moon  seems to return more quickly to each sign, because the signs  return towards it.\n",
      "=============\n",
      "6201\n",
      "prose_translationbook5\n",
      "just as if  that, for which each contends, might not be true, or as if there  were any reason why you should choose to embrace one  opinion less than the other.\n",
      "=============\n",
      "6301\n",
      "prose_translationbook5\n",
      "the hermaphrodite, between both sexes, and not either,\n",
      "=============\n",
      "6401\n",
      "prose_translationbook5note\n",
      "Ver. 939. Arbuta.\n",
      "=============\n",
      "6501\n",
      "prose_translationbook5\n",
      "nor could he by any means teach, or persuade men  unfitted to listen, what was necessary to be done ;\n",
      "=============\n",
      "6601\n",
      "prose_translationbook5note\n",
      "3 Kings, therefore, &c.] Ver. 1135.\n",
      "=============\n",
      "6701\n",
      "prose_translationbook5note\n",
      "Ver. 1241. Plumbi potestas.\n",
      "=============\n",
      "6801\n",
      "prose_translationbook5\n",
      "Then sportive gaiety prompted them to deck  their heads and shoulders with garlands of flowers and leaves,  and to stand forth in irregular dances, moving their limbs  stiffly, and to stamp on mother earth with heavy foot;\n",
      "=============\n",
      "6901\n",
      "prose_translationbook6note\n",
      "Ver. 11. Vitam consistere tutam.\n",
      "=============\n",
      "7001\n",
      "prose_translationbook6\n",
      "and this happens when a collected body of  strong wind has suddenly involved itself within a cloud, and,  being shut up there, forces the cloud, (as the whirling air\n",
      "=============\n",
      "7101\n",
      "prose_translationbook6note\n",
      "Wakefield takes lateramina for latera, sides.\n",
      "=============\n",
      "7201\n",
      "prose_translationbook6\n",
      "Perhaps the lightning, too, may, in its passage through the  sky, attract to itself certain particles from the air, which may  increase the violence of its strokes.\n",
      "=============\n",
      "7301\n",
      "prose_translationbook6\n",
      "around which  column the waters boil, being excited by violent blasts of wind;\n",
      "=============\n",
      "7401\n",
      "prose_translationbook6note\n",
      "Wakefield.\n",
      "=============\n",
      "7501\n",
      "prose_translationbook6\n",
      "When wind, and any vast quantity of air, collected  either without or within the earth, has suddenly thrown itself  into hollow places under the ground, it there rages, at first,4  with violent fury, among the vast caverns, and rolls and urges  itself along;\n",
      "=============\n",
      "7601\n",
      "prose_translationbook6\n",
      "I shall now explain what is the cause that fires at times  burst forth, with such tempestuous fury, from the jaws of  Mount Ætna.\n",
      "=============\n",
      "7701\n",
      "prose_translationbook6note\n",
      "but that it is partially promoted, at the same  time, by the Etesian or annual winds, which blow violently from  the north-east, and diminish the discharge of water from the river  into the sea.\n",
      "=============\n",
      "7801\n",
      "prose_translationbook6note\n",
      "3 Which I have also frequently asserted before.]\n",
      "=============\n",
      "7901\n",
      "prose_translationbook6note\n",
      "3\n",
      "=============\n",
      "8001\n",
      "prose_translationbook6\n",
      "In matters of this kind, you must establish many points be  fore you can state the principle of the thing itself;\n",
      "=============\n",
      "8101\n",
      "prose_translationbook6\n",
      "since it evidently  varies (as we showed a little above) according to the different  consistence and texture of bodies.\n",
      "=============\n",
      "8201\n",
      "prose_translationbook6note\n",
      "The borax, now in use for similar purposes, does not differ  essentially from the chrysocolla, when dissolved and crystallized,  and is, by some chemists, supposed to be precisely the same.\"\n",
      "=============\n",
      "8301\n",
      "prose_translationbook6note\n",
      "Ovid took some  thing from him in the seventh book of the Metamorphoses.”\n",
      "=============\n",
      "8401\n",
      "prose_translationbook6\n",
      "and the  whole arm shook.\n",
      "=============\n",
      "8501\n",
      "prose_translationbook6\n",
      "for which reason, as they were thus crammed toge  titer, death the more easily strewed them in heaps by the  force of contagion.\n",
      "=============\n",
      "8601\n",
      "prose_translationbook6commentary\n",
      "foul bile, commixed with blood,  Forth gushes from the stomach;\n",
      "=============\n",
      "8701\n",
      "metric_translationbook1\n",
      "not there to blend  Connubial vows, and light the bridal torch ;\n",
      "=============\n",
      "8801\n",
      "metric_translationbook1\n",
      "Of things created, whence their forms expand.\n",
      "=============\n",
      "8901\n",
      "metric_translationbook1\n",
      "taught  Th' entire of things, and by our verse convinced.\n",
      "=============\n",
      "9001\n",
      "metric_translationbook1\n",
      "The rape renowned  Of beauteous HELEN, or the fall of TROY,  Though deemed existences, yet of themselves  Existed never:\n",
      "=============\n",
      "9101\n",
      "metric_translationbook1\n",
      "and thence  Adhere by firm, indissoluble bond.\n",
      "=============\n",
      "9201\n",
      "metric_translationbook1\n",
      "Than e'er the PYTHIAN maid, with laurels crowned,  Spoke from the tripod at APOLLO'S shrine;\n",
      "=============\n",
      "9301\n",
      "metric_translationbook1\n",
      "In timbers, thus, if smoke, flame, ashes blend,  Then, too, those timbers hostile parts comprise.\n",
      "=============\n",
      "9401\n",
      "metric_translationbook1\n",
      "Things, to the sense, are circumscribed by things.\n",
      "=============\n",
      "9501\n",
      "metric_translationbook2note\n",
      "BOOK II.\n",
      "=============\n",
      "9601\n",
      "metric_translationbook2\n",
      "Thus, from the wounded vein, the vital blood  Ascends, and pours its purple strength sublime:\n",
      "=============\n",
      "9701\n",
      "metric_translationbook2\n",
      "through th' umbrageous grove,  With well-known voice, she moans ;\n",
      "=============\n",
      "9801\n",
      "metric_translationbook2\n",
      "Thus those by sense abhorred, as these beloved,  To more abhorred would yield;\n",
      "=============\n",
      "9901\n",
      "metric_translationbook2\n",
      "Meantime the earth sensation never knows;\n",
      "=============\n",
      "10001\n",
      "metric_translationbook2\n",
      "Though, doubtless, white flows rather from the want\n",
      "=============\n",
      "10101\n",
      "metric_translationbook2\n",
      "mark, as the muse  Has earlier sung, how from the warm ferment\n",
      "=============\n",
      "10201\n",
      "metric_translationbook2\n",
      "More obvious, gendered by connubial love.\n",
      "=============\n",
      "10301\n",
      "metric_translationbook3\n",
      "-\n",
      "=============\n",
      "10401\n",
      "metric_translationbook3\n",
      "All that the sight marks instantaneous most.\n",
      "=============\n",
      "10501\n",
      "metric_translationbook3\n",
      "Fly off profuse, while yet the lymph itself  Exists uninjured-the deserted limbs\n",
      "=============\n",
      "10601\n",
      "metric_translationbook3\n",
      "But things immortal ne'er can be transposed,  Ne'er take addition, or encounter loss.\n",
      "=============\n",
      "10701\n",
      "metric_translationbook3\n",
      "But, from without, th' insinuating soul,  If still thou deem through all this frame diffused,  Then, since diffused, much surer must it fail;\n",
      "=============\n",
      "10801\n",
      "metric_translationbook3\n",
      "We heed not now what erst, in time elapsed,  We have been, nor with anxious heart explore\n",
      "=============\n",
      "10901\n",
      "metric_translationbook3\n",
      "Thus things from things ascend;\n",
      "=============\n",
      "11001\n",
      "metric_translationbook4\n",
      "So I, since dull the subject, and the world  Abashed recoils;\n",
      "=============\n",
      "11101\n",
      "metric_translationbook4\n",
      "in subtlest vapours veiled\n",
      "=============\n",
      "11201\n",
      "metric_translationbook4\n",
      "or, perchance,  Th* approaching image turns completely round,  A turn the flexile splendour proves precise.-\n",
      "=============\n",
      "11301\n",
      "metric_translationbook4\n",
      "With such I ne'er could reason, who, with face  Retorted, treads the ground just trod before.\n",
      "=============\n",
      "11401\n",
      "metric_translationbook4\n",
      "as though sponge,  Pregnant with water, by th' embracing hand  Were squeezed to dryness.\n",
      "=============\n",
      "11501\n",
      "metric_translationbook4\n",
      "So vast their powers of action ;\n",
      "=============\n",
      "11601\n",
      "metric_translationbook4\n",
      "This next the muse in melodies shall sing\n",
      "=============\n",
      "11701\n",
      "metric_translationbook5\n",
      "For what were now to us, with all their threats,  NEMÆA’S lion, or th' ARCADIAN boar ?\n",
      "=============\n",
      "11801\n",
      "metric_translationbook5\n",
      "Dragged they their lives in darkness, then, and woe  Till sprang th' illumined world ?\n",
      "=============\n",
      "11901\n",
      "metric_translationbook5\n",
      "for had they nourished firm  From time eternal, they had flourished still.\n",
      "=============\n",
      "12001\n",
      "metric_translationbook5\n",
      "So 'twixt the two they hovered;\n",
      "=============\n",
      "12101\n",
      "metric_translationbook5\n",
      "Or different airs, perchance, at times defined,\n",
      "=============\n",
      "12201\n",
      "metric_translationbook5\n",
      "For the fresh world, as yet, no chills severe,  No parching heats, nor boisterous whirlwinds knew;\n",
      "=============\n",
      "12301\n",
      "metric_translationbook5\n",
      "For, from their birth, with ceaseless sight they traced  Night and the noon alternate, nor e'en once  Sprang the dread thought that such alternate night  Would ere long reign eternal, and the noon  O'er their closed eye-balls never glitter more.\n",
      "=============\n",
      "12401\n",
      "metric_translationbook5\n",
      "But kings, and tyrants fell, their thrones reversed,  Their sceptres shivered, and the sparkling crown\n",
      "=============\n",
      "12501\n",
      "metric_translationbook5\n",
      "And what was worthlessrises in its stead,  Swells into notice daily, every hour  Blooms with new praise, and captive leads the world.\n",
      "=============\n",
      "12601\n",
      "metric_translationbook5\n",
      "Of purple woof brocaded stiff with gold,  While humbler vests still proffer their defence.\n",
      "=============\n",
      "12701\n",
      "metric_translationbook6\n",
      "For what its force here oft on earth we learn,\n",
      "=============\n",
      "12801\n",
      "metric_translationbook6\n",
      "And strives, impatient of restraint, t' escape!\n",
      "=============\n",
      "12901\n",
      "metric_translationbook6note\n",
      "BOOK VI.\n",
      "=============\n",
      "13001\n",
      "metric_translationbook6\n",
      "Of keen disease through all the body spread ?\n",
      "=============\n",
      "13101\n",
      "metric_translationbook6\n",
      "Of gold, or silver, rise not such o'er those\n",
      "=============\n",
      "13201\n",
      "metric_translationbook6\n",
      "For nought combines through nature void of pores.\n",
      "=============\n",
      "13301\n",
      "metric_translationbook6\n",
      "orient PONTUS, how, from those  Far westward, scattered o'er the GADIAN isles,  Or the swart ETHIOP, blackening in his blaze!\n",
      "=============\n",
      "13401\n",
      "metric_translationbook6\n",
      "Of bellowing beeves, or flocks of timorous sheep:\n",
      "=============\n",
      "13501\n",
      "index\n",
      "refuted, 118—136\n",
      "=============\n",
      "13601\n",
      "index\n",
      "how  change is effected, iii.\n",
      "=============\n",
      "13701\n",
      "index\n",
      "Descriptions—\n",
      "=============\n",
      "13801\n",
      "index\n",
      "251;\n",
      "=============\n",
      "13901\n",
      "index\n",
      "See Ægium\n",
      "=============\n",
      "14001\n",
      "index\n",
      "is given to none  as a property, but to all for use, iii.\n",
      "=============\n",
      "14101\n",
      "index\n",
      "Memmius, i. 27, el alibi.\n",
      "=============\n",
      "14201\n",
      "index\n",
      "Novelty surprises and attracts, ii.\n",
      "=============\n",
      "14301\n",
      "index\n",
      "of violent rain,  vi. 517 ;\n",
      "=============\n",
      "14401\n",
      "index\n",
      "Solidity.\n",
      "=============\n",
      "14501\n",
      "index\n",
      "why that which is bitter to some,  may be sweet to others, iv. 635—664;\n",
      "=============\n",
      "14601\n",
      "index\n",
      "Walls of the world, I. e. our heavens, i. 74\n",
      "=============\n"
     ]
    }
   ],
   "source": [
    "for sent_idx in range(0, len(en1893_sent2section_name_TEST), 100):\n",
    "    print(sent_idx+1)\n",
    "    print(en1893_sent2section_name_TEST[sent_idx])\n",
    "    print(en1983_sents[sent_idx])\n",
    "    print(\"=============\")"
   ]
  },
  {
   "cell_type": "code",
   "execution_count": null,
   "id": "89f3b0a2-2fa4-4c8b-a285-f77e24ba020a",
   "metadata": {},
   "outputs": [],
   "source": []
  }
 ],
 "metadata": {
  "kernelspec": {
   "display_name": "Python 3 (ipykernel)",
   "language": "python",
   "name": "python3"
  },
  "language_info": {
   "codemirror_mode": {
    "name": "ipython",
    "version": 3
   },
   "file_extension": ".py",
   "mimetype": "text/x-python",
   "name": "python",
   "nbconvert_exporter": "python",
   "pygments_lexer": "ipython3",
   "version": "3.7.13"
  },
  "toc-autonumbering": false
 },
 "nbformat": 4,
 "nbformat_minor": 5
}
