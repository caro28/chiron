{
 "cells": [
  {
   "cell_type": "code",
   "execution_count": 1,
   "id": "a30843f4-e2c1-4046-a3e8-2385c87ff01f",
   "metadata": {},
   "outputs": [],
   "source": [
    "import re\n",
    "import json\n",
    "import stanza\n",
    "\n",
    "import numpy as np\n",
    "import pandas as pd\n",
    "\n",
    "from itertools import chain\n",
    "from ast import literal_eval\n",
    "\n",
    "from preprocessing_functions import load_txt_as_lst, split_txt, \\\n",
    "run_stanza, flatten_list, segment_series, preprocess_series, write_file"
   ]
  },
  {
   "cell_type": "markdown",
   "id": "2a443775-ccb1-42ae-8fba-5969040def1a",
   "metadata": {},
   "source": [
    "# Lucretius en1893 no section markers"
   ]
  },
  {
   "cell_type": "code",
   "execution_count": 2,
   "id": "345adf8f-c3d0-4706-93ee-ef5b24abec80",
   "metadata": {},
   "outputs": [],
   "source": [
    "# raw_str_path = \"/home/craig.car/repos/chiron/align_texts_project/data/lucretius/lucretius_en1893_str.txt\"\n",
    "raw_str_path = \"/home/craig.car/repos/chiron/align_texts_project/data/lucretius/lucretius_en1983_morenewlines.txt\"\n",
    "en1893_raw_lst = load_txt_as_lst(raw_str_path)"
   ]
  },
  {
   "cell_type": "code",
   "execution_count": 3,
   "id": "21becea2-cceb-4a68-bbe8-eae3c253a722",
   "metadata": {
    "tags": []
   },
   "outputs": [
    {
     "data": {
      "text/plain": [
       "['REMARKS\\n',\n",
       " '\\n',\n",
       " 'ON THE\\n',\n",
       " '\\n',\n",
       " 'LIFE AND POEM OF LUCRETIUS.\\n',\n",
       " '  OF the life of Lucretius but little information has reached us.  Ad nos vix tenuis famæ perlabitur aura.\\n',\n",
       " '\\n',\n",
       " 'That he was a Roman by birth, is inferred from the pas  sages in his poem in which he speaks of the Roman world as  his country,1 and of the Roman language as his native tongue.2\\n',\n",
       " '\\n',\n",
       " 'As to the time of his birth, it is stated by Eusebius in his  Chronicon, that he was born in the second year of the hundred  and seventy-first Olympiad, or ninety-five years before Christ.  At this period, Ennius had been dead about seventy years ;  Cicero was in his twelfth year; twenty-five years were to  elapse before the birth of Virgil, and four before that of Julius  Caesar. His style, indeed, would make him seem older, but  its antiquated character may be partly affected, in imitation,  perhaps, of Ennius, for whom he expresses great veneration.3\\n']"
      ]
     },
     "execution_count": 3,
     "metadata": {},
     "output_type": "execute_result"
    }
   ],
   "source": [
    "en1893_raw_lst[:10]"
   ]
  },
  {
   "cell_type": "code",
   "execution_count": 4,
   "id": "ebcf11a6-c0df-4c77-bc3b-0cd270c9beac",
   "metadata": {},
   "outputs": [],
   "source": [
    "en1893_str = \" \".join(en1893_raw_lst)"
   ]
  },
  {
   "cell_type": "code",
   "execution_count": 5,
   "id": "2dedd31e-5eeb-401a-bb27-14dd23db6364",
   "metadata": {},
   "outputs": [
    {
     "data": {
      "text/plain": [
       "'REMARKS\\n \\n ON THE\\n \\n LIFE AND POEM OF LUCRETIUS.\\n   OF the life of Lucretius but little information has reached us.  Ad nos vix tenuis famæ perlabitur aura.\\n \\n That he was a Roman by birth, is inferred from the pas  sages in his poem in which he speaks of the Roman world as  his country,1 and of the Roman language as his native tongue.2\\n \\n As to the time of his birth, it is stated by Eusebius in his  Chronicon, that he was born in the second year of the hundred  and seventy-first Olympiad, or ni'"
      ]
     },
     "execution_count": 5,
     "metadata": {},
     "output_type": "execute_result"
    }
   ],
   "source": [
    "en1893_str[:500]"
   ]
  },
  {
   "cell_type": "code",
   "execution_count": 6,
   "id": "d11de19b-d508-4619-8412-3d584805f448",
   "metadata": {},
   "outputs": [
    {
     "name": "stderr",
     "output_type": "stream",
     "text": [
      "2023-07-25 16:23:14 INFO: Checking for updates to resources.json in case models have been updated.  Note: this behavior can be turned off with download_method=None or download_method=DownloadMethod.REUSE_RESOURCES\n"
     ]
    },
    {
     "data": {
      "application/vnd.jupyter.widget-view+json": {
       "model_id": "ab664ca90827449e8bc1cd28fc89cf33",
       "version_major": 2,
       "version_minor": 0
      },
      "text/plain": [
       "Downloading https://raw.githubusercontent.com/stanfordnlp/stanza-resources/main/resources_1.5.0.json:   0%|   …"
      ]
     },
     "metadata": {},
     "output_type": "display_data"
    },
    {
     "name": "stderr",
     "output_type": "stream",
     "text": [
      "2023-07-25 16:23:14 INFO: Loading these models for language: en (English):\n",
      "========================\n",
      "| Processor | Package  |\n",
      "------------------------\n",
      "| tokenize  | combined |\n",
      "========================\n",
      "\n",
      "2023-07-25 16:23:14 WARNING: GPU requested, but is not available!\n",
      "2023-07-25 16:23:14 INFO: Using device: cpu\n",
      "2023-07-25 16:23:14 INFO: Loading: tokenize\n",
      "2023-07-25 16:23:14 INFO: Done loading processors!\n"
     ]
    }
   ],
   "source": [
    "# load stanza model for lang\n",
    "lang_ = \"en\"\n",
    "stanza_model_ = stanza.Pipeline(lang=lang_, processors='tokenize', use_gpu=True)"
   ]
  },
  {
   "cell_type": "code",
   "execution_count": 7,
   "id": "828e581a-174a-407f-b9e2-15cb7a9c7615",
   "metadata": {},
   "outputs": [
    {
     "name": "stdout",
     "output_type": "stream",
     "text": [
      "segmented str into sentences\n"
     ]
    }
   ],
   "source": [
    "en1983_sents = preprocess_series(en1893_str, \"en\", stanza_model_)"
   ]
  },
  {
   "cell_type": "code",
   "execution_count": 8,
   "id": "403961c5-0751-41f2-a084-e8145dd32621",
   "metadata": {},
   "outputs": [],
   "source": [
    "# without additional newlines around notes and titles, len(en1983_sents) was 13966"
   ]
  },
  {
   "cell_type": "code",
   "execution_count": 9,
   "id": "4a0e6d06-2096-4f97-9f30-232438792f70",
   "metadata": {},
   "outputs": [
    {
     "data": {
      "text/plain": [
       "14648"
      ]
     },
     "execution_count": 9,
     "metadata": {},
     "output_type": "execute_result"
    }
   ],
   "source": [
    "len(en1983_sents)"
   ]
  },
  {
   "cell_type": "code",
   "execution_count": 10,
   "id": "88e10112-d440-4600-9034-3624ce1ae94c",
   "metadata": {},
   "outputs": [
    {
     "data": {
      "text/plain": [
       "['REMARKS',\n",
       " 'ON THE',\n",
       " 'LIFE AND POEM OF LUCRETIUS.',\n",
       " 'OF the life of Lucretius but little information has reached us.',\n",
       " 'Ad nos vix tenuis famæ perlabitur aura.',\n",
       " 'That he was a Roman by birth, is inferred from the pas  sages in his poem in which he speaks of the Roman world as  his country,1 and of the Roman language as his native tongue.',\n",
       " '2',\n",
       " 'As to the time of his birth, it is stated by Eusebius in his  Chronicon, that he was born in the second year of the hundred  and seventy-first Olympiad, or ninety-five years before Christ.',\n",
       " 'At this period, Ennius had been dead about seventy years ;',\n",
       " 'Cicero was in his twelfth year;']"
      ]
     },
     "execution_count": 10,
     "metadata": {},
     "output_type": "execute_result"
    }
   ],
   "source": [
    "en1983_sents[:10]"
   ]
  },
  {
   "cell_type": "code",
   "execution_count": 11,
   "id": "0a66209d-7754-48f9-b612-3eb795734c92",
   "metadata": {},
   "outputs": [],
   "source": [
    "# path_out = \"/home/craig.car/repos/chiron/align_texts_project/data/lucretius/lucretius_en1893_sents_NEW.txt\"\n",
    "# write_file(en1983_sents, path_out)"
   ]
  },
  {
   "cell_type": "markdown",
   "id": "6405f540-9015-4675-af92-ca561dee12e8",
   "metadata": {},
   "source": [
    "# Lucretius en1893 with section markers"
   ]
  },
  {
   "cell_type": "code",
   "execution_count": 12,
   "id": "6915f758-a78b-4283-89b8-162040c8e8b0",
   "metadata": {},
   "outputs": [],
   "source": [
    "raw_path_markers = \"/home/craig.car/repos/chiron/align_texts_project/data/lucretius/lucretius_en1893_str_withsections.txt\"\n",
    "en1893_raw_lst_markers = load_txt_as_lst(raw_path_markers)"
   ]
  },
  {
   "cell_type": "code",
   "execution_count": 13,
   "id": "13f7f8ae-090b-4628-8d29-d6775672168b",
   "metadata": {},
   "outputs": [
    {
     "data": {
      "text/plain": [
       "['#@$% chapter= #@$%\\n',\n",
       " '\\n',\n",
       " '#@$%title#@$%REMARKS\\n',\n",
       " '\\n',\n",
       " '#@$%title#@$%ON THE\\n',\n",
       " '   #@$%title#@$%LIFE AND POEM OF LUCRETIUS.\\n',\n",
       " '  OF the life of Lucretius but little information has reached us.  Ad nos vix tenuis famæ perlabitur aura.\\n',\n",
       " '\\n',\n",
       " 'That he was a Roman by birth, is inferred from the pas  sages in his poem in which he speaks of the Roman world as  his country,1 and of the Roman language as his native tongue.2\\n',\n",
       " '\\n']"
      ]
     },
     "execution_count": 13,
     "metadata": {},
     "output_type": "execute_result"
    }
   ],
   "source": [
    "en1893_raw_lst_markers[:10]"
   ]
  },
  {
   "cell_type": "code",
   "execution_count": 14,
   "id": "f539a505-62e6-438b-9ddf-7e97e8340467",
   "metadata": {},
   "outputs": [],
   "source": [
    "en1893_str_markers = \" \".join(en1893_raw_lst_markers)"
   ]
  },
  {
   "cell_type": "code",
   "execution_count": 15,
   "id": "24cb6b4e-8570-42b9-8257-e4c2c2dd70e8",
   "metadata": {},
   "outputs": [
    {
     "data": {
      "text/plain": [
       "'#@$% chapter= #@$%\\n \\n #@$%title#@$%REMARKS\\n \\n #@$%title#@$%ON THE\\n    #@$%title#@$%LIFE AND POEM OF LUCRETIUS.\\n   OF the life of Lucretius but little information has reached us.  Ad nos vix tenuis famæ perlabitur aura.\\n \\n That he was a Roman by birth, is inferred from the pas  sages in his poem in which he speaks of the Roman world as  his country,1 and of the Roman language as his native tongue.2\\n \\n As to the time of his birth, it is stated by Eusebius in his  Chronicon, that he was born in the second year of the hundred  and seventy-first Olympiad, or ninety-five years before Christ.  At this period, Ennius had been dead about seventy years ;  Cicero was in his twelfth year; twenty-five years were to  elapse before the birth of Virgil, and four before that of Julius  Caesar. His style, indeed, would make him seem older, but  its antiquated character may be partly affected, in imitation,  perhaps, of Ennius, for whom he expresses great veneration.3\\n \\n Concerning his family nothing is '"
      ]
     },
     "execution_count": 15,
     "metadata": {},
     "output_type": "execute_result"
    }
   ],
   "source": [
    "en1893_str_markers[:1000]"
   ]
  },
  {
   "cell_type": "code",
   "execution_count": 16,
   "id": "27733e40-7e60-4423-931b-c06e0292e1b5",
   "metadata": {},
   "outputs": [],
   "source": [
    "en1893_str_markers = en1893_str_markers.replace(\"\\n\", \"\")"
   ]
  },
  {
   "cell_type": "code",
   "execution_count": 17,
   "id": "1cc17979-9229-445f-8572-698fb27cfd68",
   "metadata": {},
   "outputs": [
    {
     "data": {
      "text/plain": [
       "'#@$% chapter= #@$%  #@$%title#@$%REMARKS  #@$%title#@$%ON THE    #@$%title#@$%LIFE AND POEM OF LUCRETIUS.   OF the life of Lucretius but little information has reached us.  Ad nos vix tenuis famæ perlabitur aura.  That he was a Roman by birth, is inferred from the pas  sages in his poem in which he speaks of the Roman world as  his country,1 and of the Roman language as his native tongue.2  As to the time of his birth, it is stated by Eusebius in his  Chronicon, that he was born in the second year of the hundred  and seventy-first Olympiad, or ninety-five years before Christ.  At this period, Ennius had been dead about seventy years ;  Cicero was in his twelfth year; twenty-five years were to  elapse before the birth of Virgil, and four before that of Julius  Caesar. His style, indeed, would make him seem older, but  its antiquated character may be partly affected, in imitation,  perhaps, of Ennius, for whom he expresses great veneration.3  Concerning his family nothing is known. The n'"
      ]
     },
     "execution_count": 17,
     "metadata": {},
     "output_type": "execute_result"
    }
   ],
   "source": [
    "en1893_str_markers[:1000]"
   ]
  },
  {
   "cell_type": "markdown",
   "id": "e0c9d8fa-859d-4e63-bca8-745f4381df72",
   "metadata": {},
   "source": [
    "## Split by section (including chapters)\n",
    "Note: \"#@$%\" added at beginning and end of section markers when extracting text from xml"
   ]
  },
  {
   "cell_type": "code",
   "execution_count": 18,
   "id": "214e56e0-ba84-4897-b945-41ba4fd39cb3",
   "metadata": {},
   "outputs": [],
   "source": [
    "en1893_str_markers_split = en1893_str_markers.split(\"#@$%\")"
   ]
  },
  {
   "cell_type": "code",
   "execution_count": 19,
   "id": "73d28f15-0ec1-44a9-a9d5-97714b964aba",
   "metadata": {
    "tags": []
   },
   "outputs": [
    {
     "data": {
      "text/plain": [
       "['',\n",
       " ' chapter= ',\n",
       " '  ',\n",
       " 'title',\n",
       " 'REMARKS  ',\n",
       " 'title',\n",
       " 'ON THE    ',\n",
       " 'title',\n",
       " 'LIFE AND POEM OF LUCRETIUS.   OF the life of Lucretius but little information has reached us.  Ad nos vix tenuis famæ perlabitur aura.  That he was a Roman by birth, is inferred from the pas  sages in his poem in which he speaks of the Roman world as  his country,1 and of the Roman language as his native tongue.2  As to the time of his birth, it is stated by Eusebius in his  Chronicon, that he was born in the second year of the hundred  and seventy-first Olympiad, or ninety-five years before Christ.  At this period, Ennius had been dead about seventy years ;  Cicero was in his twelfth year; twenty-five years were to  elapse before the birth of Virgil, and four before that of Julius  Caesar. His style, indeed, would make him seem older, but  its antiquated character may be partly affected, in imitation,  perhaps, of Ennius, for whom he expresses great veneration.3  Concerning his family nothing is known. The name of  Lucretius, from the time of Lucretia downwards, occurs fre  quently in the history of Rome, with the surnames Tricipiti  nus, Cinna, Ofella, and others, attached to it; but with whom  the poet was connected, or from whom descended, it is impossi  ble to discover. There was a Lucretius Vespillo contemporary  with him, a senator, mentioned by Cicero and Caesar,5 of  whom Lambinus conjectures that he may have been the  brother; suggesting that the one brother, by engaging in  public life, might have attained senatorial dignity, while the  other, devoting himself to literature and retirement, might have ',\n",
       " 'note',\n",
       " ' 1 Nam neque nos agere hoc patriai tempore iniquo, etc. i. 42. ',\n",
       " 'note_end',\n",
       " ' ',\n",
       " 'note',\n",
       " ' 2 I. 31; ii. 259. ',\n",
       " 'note_end',\n",
       " ' ',\n",
       " 'note',\n",
       " '2 I. 118. ',\n",
       " 'note_end']"
      ]
     },
     "execution_count": 19,
     "metadata": {},
     "output_type": "execute_result"
    }
   ],
   "source": [
    "en1893_str_markers_split[:20]"
   ]
  },
  {
   "cell_type": "code",
   "execution_count": 20,
   "id": "af349436-97b8-4427-9311-4d070c7c5298",
   "metadata": {},
   "outputs": [],
   "source": [
    "# define patterns\n",
    "chapter_marker = re.compile(\" chapter= \") # 4: commentary, prose translation, metric translation, index\n",
    "title_start = \"title\"\n",
    "title_end = \"title_end\"\n",
    "title_commentary = re.compile(\"ARGUMENT\") # startswith\n",
    "title_book = re.compile(\"BOOK\")\n",
    "title_index = re.compile(\"INDEX.\")\n",
    "para_end = re.compile(\"paragraph end\")\n",
    "note_start = re.compile(\"note\")\n",
    "note_end = re.compile(\"note_end\")"
   ]
  },
  {
   "cell_type": "code",
   "execution_count": 21,
   "id": "5d3d2044-0f55-4478-95c0-378c2d5457a9",
   "metadata": {},
   "outputs": [
    {
     "name": "stdout",
     "output_type": "stream",
     "text": [
      "yes\n"
     ]
    }
   ],
   "source": [
    "if re.match(title_start, \"title_end\"):\n",
    "    print(\"yes\")"
   ]
  },
  {
   "cell_type": "code",
   "execution_count": 22,
   "id": "0ccc16a3-cab9-4317-ab55-558782c458cc",
   "metadata": {},
   "outputs": [],
   "source": [
    "test = \"ARGUMENT. asoidau\""
   ]
  },
  {
   "cell_type": "code",
   "execution_count": 23,
   "id": "a3077652-8bf2-463c-9cb4-8baa1e58362c",
   "metadata": {},
   "outputs": [
    {
     "data": {
      "text/plain": [
       "True"
      ]
     },
     "execution_count": 23,
     "metadata": {},
     "output_type": "execute_result"
    }
   ],
   "source": [
    "test.startswith(\"ARGUMENT.\")"
   ]
  },
  {
   "cell_type": "code",
   "execution_count": 24,
   "id": "fc5ce4aa-ea49-4364-9d08-9e6753316942",
   "metadata": {},
   "outputs": [
    {
     "data": {
      "text/plain": [
       "5765"
      ]
     },
     "execution_count": 24,
     "metadata": {},
     "output_type": "execute_result"
    }
   ],
   "source": [
    "len(en1893_str_markers_split)"
   ]
  },
  {
   "cell_type": "code",
   "execution_count": 25,
   "id": "b7645fad-d4b5-4913-b356-1252fa3a6dc5",
   "metadata": {},
   "outputs": [],
   "source": [
    "chapteridx2chaptername = {}\n",
    "chapteridx2chaptername[0] = \"foreword\"\n",
    "chapteridx2chaptername[1] = \"prose_translation\"\n",
    "chapteridx2chaptername[2] = \"metric_translation\"\n",
    "chapteridx2chaptername[3] = \"index\""
   ]
  },
  {
   "cell_type": "code",
   "execution_count": 26,
   "id": "d74395c1-b405-4570-bdab-c89d8a66e274",
   "metadata": {},
   "outputs": [
    {
     "data": {
      "text/plain": [
       "['',\n",
       " ' chapter= ',\n",
       " '  ',\n",
       " 'title',\n",
       " 'REMARKS  ',\n",
       " 'title',\n",
       " 'ON THE    ',\n",
       " 'title',\n",
       " 'LIFE AND POEM OF LUCRETIUS.   OF the life of Lucretius but little information has reached us.  Ad nos vix tenuis famæ perlabitur aura.  That he was a Roman by birth, is inferred from the pas  sages in his poem in which he speaks of the Roman world as  his country,1 and of the Roman language as his native tongue.2  As to the time of his birth, it is stated by Eusebius in his  Chronicon, that he was born in the second year of the hundred  and seventy-first Olympiad, or ninety-five years before Christ.  At this period, Ennius had been dead about seventy years ;  Cicero was in his twelfth year; twenty-five years were to  elapse before the birth of Virgil, and four before that of Julius  Caesar. His style, indeed, would make him seem older, but  its antiquated character may be partly affected, in imitation,  perhaps, of Ennius, for whom he expresses great veneration.3  Concerning his family nothing is known. The name of  Lucretius, from the time of Lucretia downwards, occurs fre  quently in the history of Rome, with the surnames Tricipiti  nus, Cinna, Ofella, and others, attached to it; but with whom  the poet was connected, or from whom descended, it is impossi  ble to discover. There was a Lucretius Vespillo contemporary  with him, a senator, mentioned by Cicero and Caesar,5 of  whom Lambinus conjectures that he may have been the  brother; suggesting that the one brother, by engaging in  public life, might have attained senatorial dignity, while the  other, devoting himself to literature and retirement, might have ',\n",
       " 'note',\n",
       " ' 1 Nam neque nos agere hoc patriai tempore iniquo, etc. i. 42. ',\n",
       " 'note_end',\n",
       " ' ',\n",
       " 'note',\n",
       " ' 2 I. 31; ii. 259. ',\n",
       " 'note_end',\n",
       " ' ',\n",
       " 'note',\n",
       " '2 I. 118. ',\n",
       " 'note_end',\n",
       " ' ',\n",
       " 'note',\n",
       " '4 Cic. Brut. c. 48. ',\n",
       " 'note_end',\n",
       " ' ']"
      ]
     },
     "execution_count": 26,
     "metadata": {},
     "output_type": "execute_result"
    }
   ],
   "source": [
    "en1893_str_markers_split[:25]"
   ]
  },
  {
   "cell_type": "markdown",
   "id": "1926f3ce-9600-453c-bfd9-0587e84221b0",
   "metadata": {
    "jp-MarkdownHeadingCollapsed": true,
    "tags": []
   },
   "source": [
    "## remove empty strings"
   ]
  },
  {
   "cell_type": "code",
   "execution_count": 27,
   "id": "7b9bf5e7-215c-445a-8cd0-552795cce429",
   "metadata": {},
   "outputs": [
    {
     "data": {
      "text/html": [
       "<div>\n",
       "<style scoped>\n",
       "    .dataframe tbody tr th:only-of-type {\n",
       "        vertical-align: middle;\n",
       "    }\n",
       "\n",
       "    .dataframe tbody tr th {\n",
       "        vertical-align: top;\n",
       "    }\n",
       "\n",
       "    .dataframe thead th {\n",
       "        text-align: right;\n",
       "    }\n",
       "</style>\n",
       "<table border=\"1\" class=\"dataframe\">\n",
       "  <thead>\n",
       "    <tr style=\"text-align: right;\">\n",
       "      <th></th>\n",
       "      <th>0</th>\n",
       "    </tr>\n",
       "  </thead>\n",
       "  <tbody>\n",
       "    <tr>\n",
       "      <th>0</th>\n",
       "      <td></td>\n",
       "    </tr>\n",
       "    <tr>\n",
       "      <th>1</th>\n",
       "      <td>chapter=</td>\n",
       "    </tr>\n",
       "    <tr>\n",
       "      <th>2</th>\n",
       "      <td></td>\n",
       "    </tr>\n",
       "    <tr>\n",
       "      <th>3</th>\n",
       "      <td>title</td>\n",
       "    </tr>\n",
       "    <tr>\n",
       "      <th>4</th>\n",
       "      <td>REMARKS</td>\n",
       "    </tr>\n",
       "  </tbody>\n",
       "</table>\n",
       "</div>"
      ],
      "text/plain": [
       "            0\n",
       "0            \n",
       "1   chapter= \n",
       "2            \n",
       "3       title\n",
       "4   REMARKS  "
      ]
     },
     "execution_count": 27,
     "metadata": {},
     "output_type": "execute_result"
    }
   ],
   "source": [
    "df = pd.DataFrame(en1893_str_markers_split)\n",
    "df.head()"
   ]
  },
  {
   "cell_type": "code",
   "execution_count": 28,
   "id": "3b4bb6dc-5814-4402-bb23-c53bed2611ec",
   "metadata": {},
   "outputs": [
    {
     "data": {
      "text/plain": [
       "(5765, 1)"
      ]
     },
     "execution_count": 28,
     "metadata": {},
     "output_type": "execute_result"
    }
   ],
   "source": [
    "df.shape"
   ]
  },
  {
   "cell_type": "code",
   "execution_count": 29,
   "id": "543f3755-8894-4a50-894c-d601f879f751",
   "metadata": {},
   "outputs": [
    {
     "data": {
      "text/plain": [
       "0    0\n",
       "dtype: int64"
      ]
     },
     "execution_count": 29,
     "metadata": {},
     "output_type": "execute_result"
    }
   ],
   "source": [
    "df.isna().sum()"
   ]
  },
  {
   "cell_type": "code",
   "execution_count": 30,
   "id": "4ca9da19-f989-42dd-bc9d-1eb80d42d536",
   "metadata": {},
   "outputs": [],
   "source": [
    "df[0].replace(\"   \", np.nan, inplace=True)\n",
    "df[0].replace(\"  \", np.nan, inplace=True)\n",
    "df[0].replace(\" \", np.nan, inplace=True)\n",
    "df[0].replace(\"\", np.nan, inplace=True)"
   ]
  },
  {
   "cell_type": "code",
   "execution_count": 31,
   "id": "f739ea4e-b7db-4dfe-88ed-170264755b7d",
   "metadata": {},
   "outputs": [
    {
     "data": {
      "text/plain": [
       "0    1238\n",
       "dtype: int64"
      ]
     },
     "execution_count": 31,
     "metadata": {},
     "output_type": "execute_result"
    }
   ],
   "source": [
    "df.isna().sum()"
   ]
  },
  {
   "cell_type": "code",
   "execution_count": 32,
   "id": "0b21dc6f-8f85-4165-bd99-0912f562c86c",
   "metadata": {},
   "outputs": [],
   "source": [
    "df.dropna(inplace=True)"
   ]
  },
  {
   "cell_type": "code",
   "execution_count": 33,
   "id": "0319d0f9-5fe5-4b55-ba3f-dcc1a8560c0f",
   "metadata": {},
   "outputs": [
    {
     "data": {
      "text/html": [
       "<div>\n",
       "<style scoped>\n",
       "    .dataframe tbody tr th:only-of-type {\n",
       "        vertical-align: middle;\n",
       "    }\n",
       "\n",
       "    .dataframe tbody tr th {\n",
       "        vertical-align: top;\n",
       "    }\n",
       "\n",
       "    .dataframe thead th {\n",
       "        text-align: right;\n",
       "    }\n",
       "</style>\n",
       "<table border=\"1\" class=\"dataframe\">\n",
       "  <thead>\n",
       "    <tr style=\"text-align: right;\">\n",
       "      <th></th>\n",
       "      <th>0</th>\n",
       "    </tr>\n",
       "  </thead>\n",
       "  <tbody>\n",
       "    <tr>\n",
       "      <th>1</th>\n",
       "      <td>chapter=</td>\n",
       "    </tr>\n",
       "    <tr>\n",
       "      <th>3</th>\n",
       "      <td>title</td>\n",
       "    </tr>\n",
       "    <tr>\n",
       "      <th>4</th>\n",
       "      <td>REMARKS</td>\n",
       "    </tr>\n",
       "    <tr>\n",
       "      <th>5</th>\n",
       "      <td>title</td>\n",
       "    </tr>\n",
       "    <tr>\n",
       "      <th>6</th>\n",
       "      <td>ON THE</td>\n",
       "    </tr>\n",
       "  </tbody>\n",
       "</table>\n",
       "</div>"
      ],
      "text/plain": [
       "            0\n",
       "1   chapter= \n",
       "3       title\n",
       "4   REMARKS  \n",
       "5       title\n",
       "6  ON THE    "
      ]
     },
     "execution_count": 33,
     "metadata": {},
     "output_type": "execute_result"
    }
   ],
   "source": [
    "df.head()"
   ]
  },
  {
   "cell_type": "code",
   "execution_count": 34,
   "id": "b24704ec-147d-4b75-9c3e-243c7b6271f6",
   "metadata": {},
   "outputs": [
    {
     "data": {
      "text/plain": [
       "(4527, 1)"
      ]
     },
     "execution_count": 34,
     "metadata": {},
     "output_type": "execute_result"
    }
   ],
   "source": [
    "df.shape"
   ]
  },
  {
   "cell_type": "code",
   "execution_count": 35,
   "id": "644c2dff-5650-4f2c-946e-32f05de507c5",
   "metadata": {},
   "outputs": [],
   "source": [
    "en1893_str_markers_split = list(df[0])"
   ]
  },
  {
   "cell_type": "code",
   "execution_count": 36,
   "id": "dc6c4f05-4fa0-42e8-8297-2e9106b39eb6",
   "metadata": {
    "tags": []
   },
   "outputs": [
    {
     "data": {
      "text/plain": [
       "' 2 I. 31; ii. 259. '"
      ]
     },
     "execution_count": 36,
     "metadata": {},
     "output_type": "execute_result"
    }
   ],
   "source": [
    "en1893_str_markers_split[11]"
   ]
  },
  {
   "cell_type": "markdown",
   "id": "f1c996f4-ce03-4114-ad43-6bc2447707e4",
   "metadata": {},
   "source": [
    "## Reconstruct text without markers"
   ]
  },
  {
   "cell_type": "code",
   "execution_count": 235,
   "id": "33843542-dae7-4282-8af7-728282561f73",
   "metadata": {
    "tags": []
   },
   "outputs": [],
   "source": [
    "en_reconstructed = []\n",
    "en_reconstructed_idx = -1\n",
    "\n",
    "chapter_counter = -1\n",
    "chap2idx_start = {}\n",
    "\n",
    "book_counter = 0\n",
    "\n",
    "idx2section_name = {}\n",
    "\n",
    "hit_section_marker = False\n",
    "\n",
    "lst_test = []\n",
    "\n",
    "lucretius_en1893_textonly = []\n",
    "\n",
    "for section_idx, section in enumerate(en1893_str_markers_split):\n",
    "    lst_test.append(hit_section_marker)\n",
    "    \n",
    "    if section == \"\":\n",
    "        continue\n",
    "    elif section == \" \":\n",
    "        continue\n",
    "    elif section == \"  \":\n",
    "        continue\n",
    "        \n",
    "    # if section is chapter marker\n",
    "    elif re.match(chapter_marker, section):\n",
    "        # increment chapter counter\n",
    "        chapter_counter += 1\n",
    "        # reset book counter\n",
    "        book_counter = 0\n",
    "        # mark idx of en_reconstructed where chapter starts\n",
    "        chap2idx_start[chapter_counter] = en_reconstructed_idx\n",
    "    \n",
    "    # if section is title marker\n",
    "    elif re.match(title_start, section):\n",
    "        hit_section_marker = True\n",
    "        # then next section is a title, which will be added to en_reconstructed\n",
    "        # label as title for titles that don't match instances below (index, book, argument)\n",
    "        label_nextitem = str(chapteridx2chaptername[chapter_counter]) + \"book\" + str(book_counter) + \"title\"\n",
    "        \n",
    "        # if title (next item in list) starts with \"INDEX\"\n",
    "        if en1893_str_markers_split[section_idx+1].startswith(\"INDEX.\"):\n",
    "            # index is in one section only; rename label\n",
    "            label_nextitem = \"index\"\n",
    "\n",
    "        # if next item in list starts with \"BOOK\"\n",
    "        elif en1893_str_markers_split[section_idx+1].startswith(\"BOOK\"):\n",
    "            # new book is starting\n",
    "            book_counter += 1\n",
    "            # rename label\n",
    "            label_nextitem = str(chapteridx2chaptername[chapter_counter]) + \"book\" + str(book_counter) + \"title\"\n",
    "        \n",
    "        # if next item in list starts with \"ARGUMENT\"\n",
    "        elif en1893_str_markers_split[section_idx+1].startswith(\"ARGUMENT\"):\n",
    "            # label as commentary\n",
    "            label_nextitem = str(chapteridx2chaptername[chapter_counter]) + \"book\" + str(book_counter) + \"commentary\"\n",
    "        \n",
    "        continue\n",
    "    \n",
    "    # if section marks the start of a note\n",
    "    # elif re.match(note_start, section):\n",
    "    elif section == \"note\":\n",
    "        if en1893_str_markers_split[section_idx+1] == \"note_end\":\n",
    "            hit_section_marker = False\n",
    "            continue\n",
    "        else:\n",
    "            hit_section_marker = True\n",
    "            # then next section is a footnote, add to en_reconstructed\n",
    "            label_nextitem = str(chapteridx2chaptername[chapter_counter]) + \"book\" + str(book_counter) + \"note\"\n",
    "    \n",
    "    elif re.match(note_end, section):\n",
    "        # do nothing; just there to separate footnote from following text\n",
    "        hit_section_marker = False\n",
    "        continue\n",
    "    \n",
    "    elif re.match(para_end, section):\n",
    "        # do nothing; just there to create separations in sections from raw text\n",
    "        hit_section_marker = False\n",
    "        continue\n",
    "    \n",
    "    else:\n",
    "        # all markers have been excluded; append to en_reconstructed\n",
    "        en_reconstructed.append(section)\n",
    "        en_reconstructed_idx += 1\n",
    "        \n",
    "        if hit_section_marker == True:\n",
    "            idx2section_name[en_reconstructed_idx] = label_nextitem\n",
    "            hit_section_marker = False\n",
    "            \n",
    "        else:\n",
    "            idx2section_name[en_reconstructed_idx] = str(chapteridx2chaptername[chapter_counter]) + \"book\" + str(book_counter)\n",
    "            if chapter_counter > 0:\n",
    "                lucretius_en1893_textonly.append(section)\n"
   ]
  },
  {
   "cell_type": "code",
   "execution_count": 236,
   "id": "d217d6a1-0fbd-4359-b0be-f44867048e6c",
   "metadata": {},
   "outputs": [],
   "source": [
    "# fix errors here, then initialize en1983_sents_tokenized again\n",
    "for sent_idx, sent in enumerate(en_reconstructed):\n",
    "    en_reconstructed[sent_idx] = en_reconstructed[sent_idx].replace(\".”1\", \".” 1\")\n",
    "    en_reconstructed[sent_idx] = en_reconstructed[sent_idx].replace(\"tongue.2\", \"tongue. 2\")\n",
    "    en_reconstructed[sent_idx] = en_reconstructed[sent_idx].replace(\"veneration.3\", \"veneration. 3\")\n",
    "    en_reconstructed[sent_idx] = en_reconstructed[sent_idx].replace(\"insane.3\", \"insane. 3\")\n",
    "    en_reconstructed[sent_idx] = en_reconstructed[sent_idx].replace(\".1\", \". 1\")\n",
    "    en_reconstructed[sent_idx] = en_reconstructed[sent_idx].replace(\"opinion.3\", \"opinion. 3\")\n",
    "    en_reconstructed[sent_idx] = en_reconstructed[sent_idx].replace(\".7\", \". 7\")\n",
    "    en_reconstructed[sent_idx] = en_reconstructed[sent_idx].replace(\".2\", \". 2\")\n",
    "    en_reconstructed[sent_idx] = en_reconstructed[sent_idx].replace(\".4\", \". 4\")\n",
    "    en_reconstructed[sent_idx] = en_reconstructed[sent_idx].replace('language;\"', 'language; \"')\n",
    "    en_reconstructed[sent_idx] = en_reconstructed[sent_idx].replace('Lucretius;\"', 'Lucretius; \"')\n",
    "    en_reconstructed[sent_idx] = en_reconstructed[sent_idx].replace(\"?1\", \"? 1\")\n",
    "    en_reconstructed[sent_idx] = en_reconstructed[sent_idx].replace(\".5\", \". 5\")\n",
    "    en_reconstructed[sent_idx] = en_reconstructed[sent_idx].replace(\".6\", \". 6\")\n",
    "    en_reconstructed[sent_idx] = en_reconstructed[sent_idx].replace(\"It;.\", \"It; .\")\n",
    "    en_reconstructed[sent_idx] = en_reconstructed[sent_idx].replace(\":8\", \": 8\")\n",
    "    en_reconstructed[sent_idx] = en_reconstructed[sent_idx].replace(\".3\", \". 3\")\n",
    "    en_reconstructed[sent_idx] = en_reconstructed[sent_idx].replace(\":2\", \": 2\")\n",
    "    en_reconstructed[sent_idx] = en_reconstructed[sent_idx].replace(\"?2\", \"? 2\")\n",
    "    en_reconstructed[sent_idx] = en_reconstructed[sent_idx].replace('ἔχειπρός.”Wakefield.', 'ἔχειπρός. ”Wakefield.')\n",
    "    en_reconstructed[sent_idx] = en_reconstructed[sent_idx].replace(\"Tacitus. 11\", \"Tacitus.11\")\n",
    "    en_reconstructed[sent_idx] = en_reconstructed[sent_idx].replace('Æolia.”What', 'Æolia. ”What')\n",
    "    en_reconstructed[sent_idx] = en_reconstructed[sent_idx].replace('concerned).—', 'concerned). —')\n",
    "    en_reconstructed[sent_idx] = en_reconstructed[sent_idx].replace('.—', '. —')\n",
    "    en_reconstructed[sent_idx] = en_reconstructed[sent_idx].replace(\"nix.—Are\", \"nix. —Are\")\n",
    "    en_reconstructed[sent_idx] = en_reconstructed[sent_idx].replace(\"improvida.—Find\", \"improvida. —Find\")\n",
    "    en_reconstructed[sent_idx] = en_reconstructed[sent_idx].replace(\";\", \"; \")\n",
    "    en_reconstructed[sent_idx] = en_reconstructed[sent_idx].replace(\"fleshes.”\", \"fleshes. ”\")\n",
    "    en_reconstructed[sent_idx] = en_reconstructed[sent_idx].replace(\".]Ver\", \".] Ver\")\n",
    "    en_reconstructed[sent_idx] = en_reconstructed[sent_idx].replace(\":so\", \": so\")\n",
    "    en_reconstructed[sent_idx] = en_reconstructed[sent_idx].replace(\"flumina. —“\", \"flumina.—“\")\n",
    "    en_reconstructed[sent_idx] = en_reconstructed[sent_idx].replace(\"armis.–Fortè\", \"armis. –Fortè\")\n",
    "    en_reconstructed[sent_idx] = en_reconstructed[sent_idx].replace(\"—But\", \"— But\")\n",
    "    en_reconstructed[sent_idx] = en_reconstructed[sent_idx].replace(\"—Or\", \"— Or\")\n",
    "    en_reconstructed[sent_idx] = en_reconstructed[sent_idx].replace(\"minds.\", \"minds. \")\n",
    "    en_reconstructed[sent_idx] = en_reconstructed[sent_idx].replace(':\"', ': \"')\n",
    "    en_reconstructed[sent_idx] = en_reconstructed[sent_idx].replace('first.-The', 'first. -The')\n",
    "    en_reconstructed[sent_idx] = en_reconstructed[sent_idx].replace(':)', ': )')\n",
    "    en_reconstructed[sent_idx] = en_reconstructed[sent_idx].replace('body. ——I', 'body.— —I')\n",
    "    en_reconstructed[sent_idx] = en_reconstructed[sent_idx].replace('curtains. —“', 'curtains.—“')\n",
    "    en_reconstructed[sent_idx] = en_reconstructed[sent_idx].replace('593. —\"', '593.—\"')\n",
    "    en_reconstructed[sent_idx] = en_reconstructed[sent_idx].replace('borne. 3', 'borne.3')\n",
    "    en_reconstructed[sent_idx] = en_reconstructed[sent_idx].replace('words.J', 'words. J')\n",
    "    en_reconstructed[sent_idx] = en_reconstructed[sent_idx].replace('compose. 1', 'compose.1')\n",
    "    en_reconstructed[sent_idx] = en_reconstructed[sent_idx].replace(\"systems.”Whewell's\", \"systems. ”Whewell's\")\n",
    "    en_reconstructed[sent_idx] = en_reconstructed[sent_idx].replace('life?3', 'life? 3')\n",
    "    en_reconstructed[sent_idx] = en_reconstructed[sent_idx].replace(\"? 1  Or,\", \"?1 Or,\")\n",
    "    en_reconstructed[sent_idx] = en_reconstructed[sent_idx].replace('true.]1', 'true.] 1')\n",
    "    en_reconstructed[sent_idx] = en_reconstructed[sent_idx].replace('Phil. i. 1. 1.', 'Phil. i. 1.1.')\n",
    "    en_reconstructed[sent_idx] = en_reconstructed[sent_idx].replace('up. 1 adhering', 'up.1 adhering')\n",
    "    en_reconstructed[sent_idx] = en_reconstructed[sent_idx].replace('6, 6. —With', '6, 6.—With')\n",
    "    en_reconstructed[sent_idx] = en_reconstructed[sent_idx].replace('THE YEAR. 3', 'THE YEAR.3')\n",
    "    en_reconstructed[sent_idx] = en_reconstructed[sent_idx].replace('elbows?3', 'elbows? 3')\n",
    "    en_reconstructed[sent_idx] = en_reconstructed[sent_idx].replace(':—idem', ': —idem')\n",
    "    en_reconstructed[sent_idx] = en_reconstructed[sent_idx].replace('moisture.-Motion', 'moisture. -Motion')\n",
    "    en_reconstructed[sent_idx] = en_reconstructed[sent_idx].replace('ENTIRE WHOLE. 1', 'ENTIRE WHOLE.1')\n",
    "    en_reconstructed[sent_idx] = en_reconstructed[sent_idx].replace('sui.”Aul.Gell.', 'sui. ”Aul. Gell.')\n",
    "    en_reconstructed[sent_idx] = en_reconstructed[sent_idx].replace('itself?3', 'itself? 3')\n",
    "    en_reconstructed[sent_idx] = en_reconstructed[sent_idx].replace('sun?4', 'sun? 4')\n",
    "    en_reconstructed[sent_idx] = en_reconstructed[sent_idx].replace('day :—', 'day : —')\n",
    "    en_reconstructed[sent_idx] = en_reconstructed[sent_idx].replace('every nerve. — ', 'every nerve.—')\n",
    "    en_reconstructed[sent_idx] = en_reconstructed[sent_idx].replace('fury !— But', 'fury ! —But')\n",
    "    en_reconstructed[sent_idx] = en_reconstructed[sent_idx].replace('flame. —', 'flame.—')\n",
    "    en_reconstructed[sent_idx] = en_reconstructed[sent_idx].replace('concealed. —', 'concealed.—')\n",
    "    en_reconstructed[sent_idx] = en_reconstructed[sent_idx].replace('rose:-', 'rose: -')\n",
    "    en_reconstructed[sent_idx] = en_reconstructed[sent_idx].replace('exhaustion:—such', 'exhaustion: —such')\n",
    "    en_reconstructed[sent_idx] = en_reconstructed[sent_idx].replace('beneath.-On', 'beneath. -On')\n",
    "    en_reconstructed[sent_idx] = en_reconstructed[sent_idx].replace('bring:-', 'bring: -')\n",
    "    en_reconstructed[sent_idx] = en_reconstructed[sent_idx].replace('Corporeal:—hence', 'Corporeal: —hence')\n",
    "    en_reconstructed[sent_idx] = en_reconstructed[sent_idx].replace(':-can', ': -can')\n",
    "    en_reconstructed[sent_idx] = en_reconstructed[sent_idx].replace(':-a', ': -a')\n",
    "    en_reconstructed[sent_idx] = en_reconstructed[sent_idx].replace(':-by', ': -by')\n",
    "    en_reconstructed[sent_idx] = en_reconstructed[sent_idx].replace('.And', '. And')\n",
    "    en_reconstructed[sent_idx] = en_reconstructed[sent_idx].replace('death.-Since', 'death. -Since')\n",
    "    en_reconstructed[sent_idx] = en_reconstructed[sent_idx].replace(':-some', ': -some')\n",
    "    en_reconstructed[sent_idx] = en_reconstructed[sent_idx].replace('ever!\"— But', 'ever!\" —But')\n",
    "    en_reconstructed[sent_idx] = en_reconstructed[sent_idx].replace('peace. —', 'peace.—')\n",
    "    en_reconstructed[sent_idx] = en_reconstructed[sent_idx].replace('aid.-No', 'aid. -No')\n",
    "    en_reconstructed[sent_idx] = en_reconstructed[sent_idx].replace('man. —', 'man.—')\n",
    "    en_reconstructed[sent_idx] = en_reconstructed[sent_idx].replace('?or', '? or')\n",
    "    en_reconstructed[sent_idx] = en_reconstructed[sent_idx].replace(':-it', ': -it')\n",
    "    en_reconstructed[sent_idx] = en_reconstructed[sent_idx].replace('ill. —', 'ill.—')\n",
    "    en_reconstructed[sent_idx] = en_reconstructed[sent_idx].replace('prevail.-Thus', 'prevail. -Thus')\n",
    "    en_reconstructed[sent_idx] = en_reconstructed[sent_idx].replace(':-for', ': -for')\n",
    "    en_reconstructed[sent_idx] = en_reconstructed[sent_idx].replace('well-spring:—creed', 'well-spring: —creed')\n",
    "    en_reconstructed[sent_idx] = en_reconstructed[sent_idx].replace(':different', ': different')\n",
    "    en_reconstructed[sent_idx] = en_reconstructed[sent_idx].replace('an:!', 'an: !')\n",
    "    en_reconstructed[sent_idx] = en_reconstructed[sent_idx].replace('v. 2. 5', 'v. 2.5')\n",
    "    en_reconstructed[sent_idx] = en_reconstructed[sent_idx].replace('v. 1116;', 'v.1116;')\n",
    "    en_reconstructed[sent_idx] = en_reconstructed[sent_idx].replace('1. 57,', '1.57,')\n",
    "    en_reconstructed[sent_idx] = en_reconstructed[sent_idx].replace(':voluntary', ': voluntary')\n",
    "    en_reconstructed[sent_idx] = en_reconstructed[sent_idx].replace('ib. ;   grow', 'ib. grow')\n",
    "    en_reconstructed[sent_idx] = en_reconstructed[sent_idx].replace('in, v. 30', 'in, v.30')\n",
    "    en_reconstructed[sent_idx] = en_reconstructed[sent_idx].replace('tones ? 1', 'tones ?1')"
   ]
  },
  {
   "cell_type": "markdown",
   "id": "f37d95f8-684a-4af5-8b8b-796ddfae8ede",
   "metadata": {},
   "source": [
    "# Tokenize en1893 with and without section markers"
   ]
  },
  {
   "cell_type": "code",
   "execution_count": 237,
   "id": "df4a2516-462d-4b08-985e-8f6530218d88",
   "metadata": {},
   "outputs": [],
   "source": [
    "en1983_sents_tokenized = []\n",
    "for idx, sent in enumerate(en1983_sents):\n",
    "    en1983_sents_tokenized.append(sent.split())"
   ]
  },
  {
   "cell_type": "code",
   "execution_count": 238,
   "id": "4ca931f3-72af-41e2-b581-e248ced3992a",
   "metadata": {},
   "outputs": [],
   "source": [
    "en_reconstructed_tokenized = []\n",
    "for idx, sent in enumerate(en_reconstructed):\n",
    "    en_reconstructed_tokenized.append(sent.split())"
   ]
  },
  {
   "cell_type": "code",
   "execution_count": 239,
   "id": "8a9437bb-b7dd-47da-8699-e3614210b776",
   "metadata": {},
   "outputs": [],
   "source": [
    "num_tokens_sents = 0\n",
    "for sent in en1983_sents_tokenized:\n",
    "    num_tokens_sents += len(sent)\n",
    "\n",
    "num_tokens_chapts = 0\n",
    "for sent in en_reconstructed_tokenized:\n",
    "    num_tokens_chapts += len(sent)"
   ]
  },
  {
   "cell_type": "code",
   "execution_count": 240,
   "id": "6fe5131e-bffd-4342-bdb7-ce7962153479",
   "metadata": {},
   "outputs": [
    {
     "data": {
      "text/plain": [
       "True"
      ]
     },
     "execution_count": 240,
     "metadata": {},
     "output_type": "execute_result"
    }
   ],
   "source": [
    "num_tokens_chapts == num_tokens_sents"
   ]
  },
  {
   "cell_type": "code",
   "execution_count": 241,
   "id": "334889e9-a227-4826-bcba-34574dea494d",
   "metadata": {},
   "outputs": [
    {
     "name": "stdout",
     "output_type": "stream",
     "text": [
      "202634\n",
      "202634\n"
     ]
    }
   ],
   "source": [
    "print(num_tokens_chapts)\n",
    "print(num_tokens_sents)"
   ]
  },
  {
   "cell_type": "markdown",
   "id": "1a9ff2af-cdff-453c-b1a2-2142fa9c1ab0",
   "metadata": {},
   "source": [
    "## Find data errors in tokenized docs"
   ]
  },
  {
   "cell_type": "code",
   "execution_count": 242,
   "id": "2ff6d018-d9f5-4893-8767-da4c1bc91030",
   "metadata": {},
   "outputs": [],
   "source": [
    "en1983_tokens_from_sents = flatten_list(en1983_sents_tokenized)\n",
    "en1983_tokens_from_chapts = flatten_list(en_reconstructed_tokenized)"
   ]
  },
  {
   "cell_type": "code",
   "execution_count": 243,
   "id": "83e0a1c2-eb82-4ece-ae53-8bd01457618c",
   "metadata": {},
   "outputs": [
    {
     "data": {
      "text/plain": [
       "True"
      ]
     },
     "execution_count": 243,
     "metadata": {},
     "output_type": "execute_result"
    }
   ],
   "source": [
    "en1983_tokens_from_sents == en1983_tokens_from_chapts"
   ]
  },
  {
   "cell_type": "code",
   "execution_count": 244,
   "id": "fecf023f-dbc3-43c1-843d-04f200a557ba",
   "metadata": {},
   "outputs": [
    {
     "data": {
      "text/plain": [
       "['others.]',\n",
       " 'Ver.',\n",
       " '1282.',\n",
       " 'Aliena',\n",
       " 'rogorum—',\n",
       " 'extructa.',\n",
       " 'Thus',\n",
       " 'abruptly',\n",
       " 'ends',\n",
       " 'the',\n",
       " 'description',\n",
       " 'of']"
      ]
     },
     "execution_count": 244,
     "metadata": {},
     "output_type": "execute_result"
    }
   ],
   "source": [
    "en1983_tokens_from_sents[135670:135682]"
   ]
  },
  {
   "cell_type": "code",
   "execution_count": 245,
   "id": "1fe9ae6a-4d88-4f89-9fdf-a5083cff9afc",
   "metadata": {},
   "outputs": [
    {
     "data": {
      "text/plain": [
       "['others.]',\n",
       " 'Ver.',\n",
       " '1282.',\n",
       " 'Aliena',\n",
       " 'rogorum—',\n",
       " 'extructa.',\n",
       " 'Thus',\n",
       " 'abruptly',\n",
       " 'ends',\n",
       " 'the',\n",
       " 'description',\n",
       " 'of']"
      ]
     },
     "execution_count": 245,
     "metadata": {},
     "output_type": "execute_result"
    }
   ],
   "source": [
    "en1983_tokens_from_chapts[135670:135682]"
   ]
  },
  {
   "cell_type": "code",
   "execution_count": 246,
   "id": "c3c67411-b05a-4f1c-9007-701a01b49320",
   "metadata": {
    "tags": []
   },
   "outputs": [],
   "source": [
    "for idx, token in enumerate(en1983_tokens_from_chapts):\n",
    "    if token != en1983_tokens_from_sents[idx]:\n",
    "        print(idx)"
   ]
  },
  {
   "cell_type": "markdown",
   "id": "8f4aff12-4492-4596-887f-1a6ff7bf9c36",
   "metadata": {},
   "source": [
    "# Get sent idx to section name dict for en1893"
   ]
  },
  {
   "cell_type": "code",
   "execution_count": 247,
   "id": "7f194191-68f1-40c1-9a4a-b5039030c8e2",
   "metadata": {},
   "outputs": [],
   "source": [
    "def build_sent_to_section_dict(lst_tokenized_sents, lst_tokenized_chapts,\n",
    "                               dict_chapter_2_section):\n",
    "    \"\"\"\n",
    "    Build dict of sentence idx to section name\n",
    "    \"\"\"\n",
    "    sent_idx_2_section_name = {}\n",
    "    token_counter = 0 # per section/chapter\n",
    "    current_section_idx = 0\n",
    "    for idx_sent, sent in enumerate(lst_tokenized_sents):\n",
    "        token_counter += len(sent)\n",
    "        current_chapter_length = len(lst_tokenized_chapts[current_section_idx])\n",
    "        if token_counter < current_chapter_length:\n",
    "            # add sent to dict\n",
    "            sent_idx_2_section_name[idx_sent] = dict_chapter_2_section[current_section_idx]\n",
    "        elif token_counter == current_chapter_length:\n",
    "            # add sent to dict as part of current section\n",
    "            sent_idx_2_section_name[idx_sent] = dict_chapter_2_section[current_section_idx]\n",
    "            # reset token counter and current section idx for next sent iteration\n",
    "            token_counter = 0\n",
    "            current_section_idx += 1\n",
    "        else: # token_counter > current_chapter_length, i.e. we've crossed a section boundary \n",
    "            # add sent to current section and next section\n",
    "            sent_idx_2_section_name[idx_sent] = [\n",
    "                dict_chapter_2_section[current_section_idx], \n",
    "                dict_chapter_2_section[current_section_idx+1]]\n",
    "            # adjust token counter by only including portion of sent in new section\n",
    "            token_counter = token_counter - current_chapter_length\n",
    "            # update current section idx for next sent iteration\n",
    "            current_section_idx += 1\n",
    "    return sent_idx_2_section_name"
   ]
  },
  {
   "cell_type": "code",
   "execution_count": 248,
   "id": "ddd66e87-f78e-476e-b246-c53bc54f6ef5",
   "metadata": {},
   "outputs": [],
   "source": [
    "en1893_sent2section_name = build_sent_to_section_dict(\n",
    "    en1983_sents_tokenized, en_reconstructed_tokenized, idx2section_name)\n"
   ]
  },
  {
   "cell_type": "markdown",
   "id": "bf1256d9-a421-4f9b-ba96-1b85f1f10dbc",
   "metadata": {},
   "source": [
    "## Write to json"
   ]
  },
  {
   "cell_type": "code",
   "execution_count": 222,
   "id": "9e3008a8-46ce-4078-9f28-295c64985936",
   "metadata": {},
   "outputs": [],
   "source": [
    "# path_out = \"/home/craig.car/repos/chiron/align_texts_project/data/lucretius/en1893_sent2section_dict_jul25.json\"\n",
    "# with open(path_out, 'w') as fp:\n",
    "#     json.dump(en1893_sent2section_name, fp)"
   ]
  },
  {
   "cell_type": "code",
   "execution_count": 52,
   "id": "13dcd024-9826-48cc-be3f-4b89778617b6",
   "metadata": {},
   "outputs": [],
   "source": [
    "# path_out = \"/home/craig.car/repos/chiron/align_texts_project/data/lucretius/en1893_sent2section_dict_NEW.json\"\n",
    "# with open(path_out, 'w') as fp:\n",
    "#     json.dump(en1893_sent2section_name, fp)"
   ]
  },
  {
   "cell_type": "markdown",
   "id": "dd797729-515c-4faa-a53f-63a98b1699f0",
   "metadata": {},
   "source": [
    "# Get Lucretius text only"
   ]
  },
  {
   "cell_type": "code",
   "execution_count": 53,
   "id": "4ab55782-709c-4e80-ad9f-b4b3fae0e758",
   "metadata": {},
   "outputs": [],
   "source": [
    "prose_sents = ['prose_translationbook1',\n",
    "               'prose_translationbook2',\n",
    "               'prose_translationbook3',\n",
    "               'prose_translationbook4',\n",
    "               'prose_translationbook5',\n",
    "               'prose_translationbook6']\n",
    "\n",
    "metric_sents = ['metric_translationbook1',\n",
    "                'metric_translationbook2',\n",
    "                'metric_translationbook3',\n",
    "                'metric_translationbook4',\n",
    "                'metric_translationbook5',\n",
    "                'metric_translationbook6']"
   ]
  },
  {
   "cell_type": "code",
   "execution_count": 54,
   "id": "35323b78-e895-41c5-b5e6-493a74dd07bc",
   "metadata": {},
   "outputs": [],
   "source": [
    "# get raw text again and do not remove newlines (as did when building en_reconstructed)\n",
    "# raw_path_markers = \"/home/craig.car/repos/chiron/align_texts_project/data/lucretius/lucretius_en1893_str_withsections.txt\"\n",
    "raw_path_markers = \"/home/craig.car/repos/chiron/align_texts_project/data/lucretius/lucretius_en1893_str_withsections_titleend.txt\"\n",
    "en1893_raw_withnewlines = load_txt_as_lst(raw_path_markers)"
   ]
  },
  {
   "cell_type": "code",
   "execution_count": 55,
   "id": "41b314ef-de6c-4a3b-b23e-a3c59a6819ea",
   "metadata": {},
   "outputs": [
    {
     "data": {
      "text/plain": [
       "['#@$% chapter= #@$%\\n',\n",
       " '\\n',\n",
       " '#@$%title#@$%REMARKS\\n',\n",
       " '#@$%title_end#@$%\\n',\n",
       " '#@$%paragraph end#@$%\\n',\n",
       " '#@$%title#@$%ON THE\\n',\n",
       " '#@$%title_end#@$%   #@$%title#@$%LIFE AND POEM OF LUCRETIUS.\\n',\n",
       " '#@$%title_end#@$%  OF the life of Lucretius but little information has reached us.  Ad nos vix tenuis famæ perlabitur aura.\\n',\n",
       " '#@$%paragraph end#@$%\\n',\n",
       " 'That he was a Roman by birth, is inferred from the pas  sages in his poem in which he speaks of the Roman world as  his country,1 and of the Roman language as his native tongue.2\\n']"
      ]
     },
     "execution_count": 55,
     "metadata": {},
     "output_type": "execute_result"
    }
   ],
   "source": [
    "en1893_raw_withnewlines[:10]"
   ]
  },
  {
   "cell_type": "code",
   "execution_count": 56,
   "id": "9ff5a8d2-fc31-4d1d-b394-69d9a9faaebc",
   "metadata": {},
   "outputs": [],
   "source": [
    "en1893_markers_newlines = \" \".join(en1893_raw_withnewlines)"
   ]
  },
  {
   "cell_type": "code",
   "execution_count": 57,
   "id": "000cb564-dda6-45bb-beda-8e1e00ae9a8e",
   "metadata": {},
   "outputs": [
    {
     "data": {
      "text/plain": [
       "'#@$% chapter= #@$%\\n \\n #@$%title#@$%REMARKS\\n #@$%title_end#@$%\\n #@$%paragraph end#@$%\\n #@$%title#@$%ON THE\\n #@$%title_end#@$%   #@$%title#@$%LIFE AND POEM OF LUCRETIUS.\\n #@$%title_end#@$%  OF the life of Lucretius but little information has reached us.  Ad nos vix tenuis famæ perlabitur aura.\\n #@$%paragraph end#@$%\\n That he was a Roman by birth, is inferred from the pas  sages in his poem in which he speaks of the Roman world as  his country,1 and of the Roman language as his native tongue.2\\n #@$'"
      ]
     },
     "execution_count": 57,
     "metadata": {},
     "output_type": "execute_result"
    }
   ],
   "source": [
    "en1893_markers_newlines[:500]"
   ]
  },
  {
   "cell_type": "code",
   "execution_count": 58,
   "id": "26b8bdb7-1432-4ad2-bbdc-4f85ef5b20bb",
   "metadata": {},
   "outputs": [],
   "source": [
    "en1893_str_markers_newlines_split = en1893_markers_newlines.split(\"#@$%\")"
   ]
  },
  {
   "cell_type": "code",
   "execution_count": 59,
   "id": "bdab331b-806d-42ba-ad2a-73924073d806",
   "metadata": {},
   "outputs": [
    {
     "data": {
      "text/plain": [
       "['',\n",
       " ' chapter= ',\n",
       " '\\n \\n ',\n",
       " 'title',\n",
       " 'REMARKS\\n ',\n",
       " 'title_end',\n",
       " '\\n ',\n",
       " 'paragraph end',\n",
       " '\\n ',\n",
       " 'title',\n",
       " 'ON THE\\n ',\n",
       " 'title_end',\n",
       " '   ',\n",
       " 'title',\n",
       " 'LIFE AND POEM OF LUCRETIUS.\\n ',\n",
       " 'title_end',\n",
       " '  OF the life of Lucretius but little information has reached us.  Ad nos vix tenuis famæ perlabitur aura.\\n ',\n",
       " 'paragraph end',\n",
       " '\\n That he was a Roman by birth, is inferred from the pas  sages in his poem in which he speaks of the Roman world as  his country,1 and of the Roman language as his native tongue.2\\n ',\n",
       " 'paragraph end',\n",
       " '\\n As to the time of his birth, it is stated by Eusebius in his  Chronicon, that he was born in the second year of the hundred  and seventy-first Olympiad, or ninety-five years before Christ.  At this period, Ennius had been dead about seventy years ;  Cicero was in his twelfth year; twenty-five years were to  elapse before the birth of Virgil, and four before that of Julius  Caesar. His style, indeed, would make him seem older, but  its antiquated character may be partly affected, in imitation,  perhaps, of Ennius, for whom he expresses great veneration.3\\n ',\n",
       " 'paragraph end',\n",
       " '\\n Concerning his family nothing is known. The name of  Lucretius, from the time of Lucretia downwards, occurs fre  quently in the history of Rome, with the surnames Tricipiti  nus, Cinna, Ofella, and others, attached to it; but with whom  the poet was connected, or from whom descended, it is impossi  ble to discover. There was a Lucretius Vespillo contemporary  with him, a senator, mentioned by Cicero and Caesar,5 of  whom Lambinus conjectures that he may have been the  brother; suggesting that the one brother, by engaging in  public life, might have attained senatorial dignity, while the  other, devoting himself to literature and retirement, might have\\n ',\n",
       " 'note',\n",
       " ' 1 Nam neque nos agere hoc patriai tempore iniquo, etc. i. 42.\\n ']"
      ]
     },
     "execution_count": 59,
     "metadata": {},
     "output_type": "execute_result"
    }
   ],
   "source": [
    "# Lose newlines at end of extracted chunks after splitting\n",
    "en1893_str_markers_newlines_split[:25]"
   ]
  },
  {
   "cell_type": "code",
   "execution_count": 60,
   "id": "6feb0ed1-579d-4aee-969a-ea220cd39aec",
   "metadata": {},
   "outputs": [
    {
     "data": {
      "text/plain": [
       "True"
      ]
     },
     "execution_count": 60,
     "metadata": {},
     "output_type": "execute_result"
    }
   ],
   "source": [
    "\"title_end\" == \"title_end\""
   ]
  },
  {
   "cell_type": "code",
   "execution_count": 385,
   "id": "042d6391-f42e-4fe0-9543-ebf0a66e0c7b",
   "metadata": {},
   "outputs": [],
   "source": [
    "def reconstruct_txt_markers(text_markers_split, chapteridx2chaptername):\n",
    "    en_reconstructed = []\n",
    "    en_reconstructed_idx = -1\n",
    "\n",
    "    chapter_counter = -1\n",
    "    chap2idx_start = {}\n",
    "\n",
    "    book_counter = 0\n",
    "\n",
    "    idx2section_name = {}\n",
    "\n",
    "    hit_section_marker = False\n",
    "    hit_index = False\n",
    "    hit_endprose6 = False\n",
    "    hit_endprose6commentary = False\n",
    "\n",
    "    lst_test = []\n",
    "\n",
    "    lucretius_en1893_textonly = []\n",
    "\n",
    "    for section_idx, section in enumerate(text_markers_split):\n",
    "        lst_test.append(hit_section_marker)\n",
    "\n",
    "        if section == \"\":\n",
    "            continue\n",
    "        elif section == \" \":\n",
    "            continue\n",
    "        elif section == \"  \":\n",
    "            continue\n",
    "        elif section == \"   \":\n",
    "            continue\n",
    "        elif section == \"\\n \":\n",
    "            continue\n",
    "        elif section == \"\\n \\n \":\n",
    "            continue\n",
    "\n",
    "        # if section is chapter marker\n",
    "        elif re.match(chapter_marker, section):\n",
    "            # increment chapter counter\n",
    "            chapter_counter += 1\n",
    "            # reset book counter\n",
    "            book_counter = 0\n",
    "            # mark idx of en_reconstructed where chapter starts\n",
    "            chap2idx_start[chapter_counter] = en_reconstructed_idx\n",
    "\n",
    "        # if section is title start marker\n",
    "        elif section == \"title\":\n",
    "            hit_section_marker = True\n",
    "            # then next section is a title, which will be added to en_reconstructed\n",
    "            # label as title for titles that don't match instances below (index, argument)\n",
    "            label_nextitem = str(chapteridx2chaptername[chapter_counter]) + \"book\" + str(book_counter) + \"title\"\n",
    "\n",
    "            # if title (next item in list) starts with \"INDEX\"\n",
    "            if text_markers_split[section_idx+1].startswith(\"INDEX.\"):\n",
    "                # remaining sections are index\n",
    "                hit_index = True\n",
    "                label_nextitem = \"index\"\n",
    "                \n",
    "            # if next item in list starts with \"BOOK\"\n",
    "            elif text_markers_split[section_idx+1].startswith(\"BOOK\"):\n",
    "                # new book is starting\n",
    "                book_counter += 1\n",
    "                # # in metric translation, Book title is appended to beginning of first book verse\n",
    "                # if chapter_counter == 2:\n",
    "                #     hit_section_marker = False\n",
    "                    \n",
    "            # if next item in list starts with \"ARGUMENT\"\n",
    "            elif text_markers_split[section_idx+1].startswith(\"ARGUMENT.\"):\n",
    "                # label as commentary\n",
    "                label_nextitem = str(chapteridx2chaptername[chapter_counter]) + \"book\" + str(book_counter) + \"commentary\"\n",
    "\n",
    "            continue\n",
    "\n",
    "        # if section marks the start of a note\n",
    "        # elif re.match(note_start, section):\n",
    "        elif section == \"note\":\n",
    "            if text_markers_split[section_idx+1] == \"note_end\":\n",
    "                hit_section_marker = False\n",
    "                continue\n",
    "            else:\n",
    "                hit_section_marker = True\n",
    "                # then next section is a footnote, add to en_reconstructed\n",
    "                label_nextitem = str(chapteridx2chaptername[chapter_counter]) + \"book\" + str(book_counter) + \"note\"\n",
    "\n",
    "        elif re.match(note_end, section):\n",
    "            # do nothing; just there to separate footnote from following text\n",
    "            hit_section_marker = False\n",
    "            continue\n",
    "\n",
    "        elif re.match(para_end, section):\n",
    "            # do nothing; just there to create separations in sections from raw text\n",
    "            hit_section_marker = False\n",
    "            continue\n",
    "        \n",
    "        elif section == \"title_end\":\n",
    "            # label section following \"ARGUMENT\" as commentary\n",
    "            if text_markers_split[section_idx-1].startswith(\"ARGUMENT.\"):\n",
    "                hit_section_marker = True\n",
    "                label_nextitem = str(chapteridx2chaptername[chapter_counter]) + \"book\" + str(book_counter) + \"commentary\"\n",
    "            continue\n",
    "        \n",
    "        else:\n",
    "            # all markers have been excluded; append to en_reconstructed\n",
    "            en_reconstructed.append(section)\n",
    "            en_reconstructed_idx += 1\n",
    "\n",
    "            if hit_section_marker == True:\n",
    "                idx2section_name[en_reconstructed_idx] = label_nextitem\n",
    "                hit_section_marker = False\n",
    "            \n",
    "            elif hit_index == True:\n",
    "                idx2section_name[en_reconstructed_idx] = \"index\"\n",
    "            \n",
    "            elif \"Thus abruptly ends the description of the plague,\" in section:\n",
    "                idx2section_name[en_reconstructed_idx] = \"prose_translationbook6commentary\"\n",
    "                hit_endprose6 = True\n",
    "            \n",
    "            elif \"If the reader wish to see more accounts of pestilence\" in section:\n",
    "                idx2section_name[en_reconstructed_idx] = \"prose_translationbook6commentary\"\n",
    "                hit_endprose6 = False\n",
    "                \n",
    "            elif hit_endprose6 == True:\n",
    "                idx2section_name[en_reconstructed_idx] = \"prose_translationbook6commentary\"\n",
    "                # if chapter_counter == 1:\n",
    "                #     idx2section_name[en_reconstructed_idx] = \"prose_translationbook6commentary\"\n",
    "                # elif chapter_counter == 2:\n",
    "                #     # idx2section_name[en_reconstructed_idx] = \"prose_translationbook6commentary\"\n",
    "                #     hit_endprose6 = False\n",
    "            \n",
    "            elif \"THE END.\" in section:\n",
    "                idx2section_name[en_reconstructed_idx] = \"metric_translationbook6note\"\n",
    "            \n",
    "            else:\n",
    "                idx2section_name[en_reconstructed_idx] = str(chapteridx2chaptername[chapter_counter]) + \"book\" + str(book_counter)\n",
    "                if chapter_counter > 0:\n",
    "                    lucretius_en1893_textonly.append(section)\n",
    "\n",
    "    return en_reconstructed, idx2section_name, lucretius_en1893_textonly"
   ]
  },
  {
   "cell_type": "code",
   "execution_count": 386,
   "id": "21684f5e-6a59-456c-9ad6-c629841a9a68",
   "metadata": {},
   "outputs": [],
   "source": [
    "en_reconstructed_withnewlines, idx2section_name_withnewlines, lucretius_en1893_textonly_withnewlines = reconstruct_txt_markers(\n",
    "    en1893_str_markers_newlines_split, chapteridx2chaptername)"
   ]
  },
  {
   "cell_type": "code",
   "execution_count": 387,
   "id": "dd258ea7-bcfd-48b8-9dc9-b09446b8a1c3",
   "metadata": {
    "tags": []
   },
   "outputs": [],
   "source": [
    "# apply same changes to en_reconstructed_withnewlines in order to match tokenization\n",
    "for sent_idx, sent in enumerate(en_reconstructed_withnewlines):\n",
    "    en_reconstructed_withnewlines[sent_idx] = en_reconstructed_withnewlines[sent_idx].replace(\".”1\", \".” 1\")\n",
    "    en_reconstructed_withnewlines[sent_idx] = en_reconstructed_withnewlines[sent_idx].replace(\"tongue.2\", \"tongue. 2\")\n",
    "    en_reconstructed_withnewlines[sent_idx] = en_reconstructed_withnewlines[sent_idx].replace(\"veneration.3\", \"veneration. 3\")\n",
    "    en_reconstructed_withnewlines[sent_idx] = en_reconstructed_withnewlines[sent_idx].replace(\"insane.3\", \"insane. 3\")\n",
    "    en_reconstructed_withnewlines[sent_idx] = en_reconstructed_withnewlines[sent_idx].replace(\".1\", \". 1\")\n",
    "    en_reconstructed_withnewlines[sent_idx] = en_reconstructed_withnewlines[sent_idx].replace(\"opinion.3\", \"opinion. 3\")\n",
    "    en_reconstructed_withnewlines[sent_idx] = en_reconstructed_withnewlines[sent_idx].replace(\".7\", \". 7\")\n",
    "    en_reconstructed_withnewlines[sent_idx] = en_reconstructed_withnewlines[sent_idx].replace(\".2\", \". 2\")\n",
    "    en_reconstructed_withnewlines[sent_idx] = en_reconstructed_withnewlines[sent_idx].replace(\".4\", \". 4\")\n",
    "    en_reconstructed_withnewlines[sent_idx] = en_reconstructed_withnewlines[sent_idx].replace('language;\"', 'language; \"')\n",
    "    en_reconstructed_withnewlines[sent_idx] = en_reconstructed_withnewlines[sent_idx].replace('Lucretius;\"', 'Lucretius; \"')\n",
    "    en_reconstructed_withnewlines[sent_idx] = en_reconstructed_withnewlines[sent_idx].replace(\"?1\", \"? 1\")\n",
    "    en_reconstructed_withnewlines[sent_idx] = en_reconstructed_withnewlines[sent_idx].replace(\".5\", \". 5\")\n",
    "    en_reconstructed_withnewlines[sent_idx] = en_reconstructed_withnewlines[sent_idx].replace(\".6\", \". 6\")\n",
    "    en_reconstructed_withnewlines[sent_idx] = en_reconstructed_withnewlines[sent_idx].replace(\"It;.\", \"It; .\")\n",
    "    en_reconstructed_withnewlines[sent_idx] = en_reconstructed_withnewlines[sent_idx].replace(\":8\", \": 8\")\n",
    "    en_reconstructed_withnewlines[sent_idx] = en_reconstructed_withnewlines[sent_idx].replace(\".3\", \". 3\")\n",
    "    en_reconstructed_withnewlines[sent_idx] = en_reconstructed_withnewlines[sent_idx].replace(\":2\", \": 2\")\n",
    "    en_reconstructed_withnewlines[sent_idx] = en_reconstructed_withnewlines[sent_idx].replace(\"?2\", \"? 2\")\n",
    "    en_reconstructed_withnewlines[sent_idx] = en_reconstructed_withnewlines[sent_idx].replace('ἔχειπρός.”Wakefield.', 'ἔχειπρός. ”Wakefield.')\n",
    "    en_reconstructed_withnewlines[sent_idx] = en_reconstructed_withnewlines[sent_idx].replace(\"Tacitus. 11\", \"Tacitus.11\")\n",
    "    en_reconstructed_withnewlines[sent_idx] = en_reconstructed_withnewlines[sent_idx].replace('Æolia.”What', 'Æolia. ”What')\n",
    "    en_reconstructed_withnewlines[sent_idx] = en_reconstructed_withnewlines[sent_idx].replace('concerned).—', 'concerned). —')\n",
    "    en_reconstructed_withnewlines[sent_idx] = en_reconstructed_withnewlines[sent_idx].replace('.—', '. —')\n",
    "    en_reconstructed_withnewlines[sent_idx] = en_reconstructed_withnewlines[sent_idx].replace(\"nix.—Are\", \"nix. —Are\")\n",
    "    en_reconstructed_withnewlines[sent_idx] = en_reconstructed_withnewlines[sent_idx].replace(\"improvida.—Find\", \"improvida. —Find\")\n",
    "    en_reconstructed_withnewlines[sent_idx] = en_reconstructed_withnewlines[sent_idx].replace(\";\", \"; \")\n",
    "    en_reconstructed_withnewlines[sent_idx] = en_reconstructed_withnewlines[sent_idx].replace(\"fleshes.”\", \"fleshes. ”\")\n",
    "    en_reconstructed_withnewlines[sent_idx] = en_reconstructed_withnewlines[sent_idx].replace(\".]Ver\", \".] Ver\")\n",
    "    en_reconstructed_withnewlines[sent_idx] = en_reconstructed_withnewlines[sent_idx].replace(\":so\", \": so\")\n",
    "    en_reconstructed_withnewlines[sent_idx] = en_reconstructed_withnewlines[sent_idx].replace(\"flumina. —“\", \"flumina.—“\")\n",
    "    en_reconstructed_withnewlines[sent_idx] = en_reconstructed_withnewlines[sent_idx].replace(\"armis.–Fortè\", \"armis. –Fortè\")\n",
    "    en_reconstructed_withnewlines[sent_idx] = en_reconstructed_withnewlines[sent_idx].replace(\"—But\", \"— But\")\n",
    "    en_reconstructed_withnewlines[sent_idx] = en_reconstructed_withnewlines[sent_idx].replace(\"—Or\", \"— Or\")\n",
    "    en_reconstructed_withnewlines[sent_idx] = en_reconstructed_withnewlines[sent_idx].replace(\"minds.\", \"minds. \")\n",
    "    en_reconstructed_withnewlines[sent_idx] = en_reconstructed_withnewlines[sent_idx].replace(':\"', ': \"')\n",
    "    en_reconstructed_withnewlines[sent_idx] = en_reconstructed_withnewlines[sent_idx].replace('first.-The', 'first. -The')\n",
    "    en_reconstructed_withnewlines[sent_idx] = en_reconstructed_withnewlines[sent_idx].replace(':)', ': )')\n",
    "    en_reconstructed_withnewlines[sent_idx] = en_reconstructed_withnewlines[sent_idx].replace('body. ——I', 'body.— —I')\n",
    "    en_reconstructed_withnewlines[sent_idx] = en_reconstructed_withnewlines[sent_idx].replace('curtains. —“', 'curtains.—“')\n",
    "    en_reconstructed_withnewlines[sent_idx] = en_reconstructed_withnewlines[sent_idx].replace('593. —\"', '593.—\"')\n",
    "    en_reconstructed_withnewlines[sent_idx] = en_reconstructed_withnewlines[sent_idx].replace('borne. 3', 'borne.3')\n",
    "    en_reconstructed_withnewlines[sent_idx] = en_reconstructed_withnewlines[sent_idx].replace('words.J', 'words. J')\n",
    "    en_reconstructed_withnewlines[sent_idx] = en_reconstructed_withnewlines[sent_idx].replace('compose. 1', 'compose.1')\n",
    "    en_reconstructed_withnewlines[sent_idx] = en_reconstructed_withnewlines[sent_idx].replace(\"systems.”Whewell's\", \"systems. ”Whewell's\")\n",
    "    en_reconstructed_withnewlines[sent_idx] = en_reconstructed_withnewlines[sent_idx].replace('life?3', 'life? 3')\n",
    "    en_reconstructed_withnewlines[sent_idx] = en_reconstructed_withnewlines[sent_idx].replace(\"? 1  Or,\", \"?1 Or,\")\n",
    "    en_reconstructed_withnewlines[sent_idx] = en_reconstructed_withnewlines[sent_idx].replace('true.]1', 'true.] 1')\n",
    "    en_reconstructed_withnewlines[sent_idx] = en_reconstructed_withnewlines[sent_idx].replace('Phil. i. 1. 1.', 'Phil. i. 1.1.')\n",
    "    en_reconstructed_withnewlines[sent_idx] = en_reconstructed_withnewlines[sent_idx].replace('up. 1 adhering', 'up.1 adhering')\n",
    "    en_reconstructed_withnewlines[sent_idx] = en_reconstructed_withnewlines[sent_idx].replace('6, 6. —With', '6, 6.—With')\n",
    "    en_reconstructed_withnewlines[sent_idx] = en_reconstructed_withnewlines[sent_idx].replace('THE YEAR. 3', 'THE YEAR.3')\n",
    "    en_reconstructed_withnewlines[sent_idx] = en_reconstructed_withnewlines[sent_idx].replace('elbows?3', 'elbows? 3')\n",
    "    en_reconstructed_withnewlines[sent_idx] = en_reconstructed_withnewlines[sent_idx].replace(':—idem', ': —idem')\n",
    "    en_reconstructed_withnewlines[sent_idx] = en_reconstructed_withnewlines[sent_idx].replace('moisture.-Motion', 'moisture. -Motion')\n",
    "    en_reconstructed_withnewlines[sent_idx] = en_reconstructed_withnewlines[sent_idx].replace('ENTIRE WHOLE. 1', 'ENTIRE WHOLE.1')\n",
    "    en_reconstructed_withnewlines[sent_idx] = en_reconstructed_withnewlines[sent_idx].replace('sui.”Aul.Gell.', 'sui. ”Aul. Gell.')\n",
    "    en_reconstructed_withnewlines[sent_idx] = en_reconstructed_withnewlines[sent_idx].replace('itself?3', 'itself? 3')\n",
    "    en_reconstructed_withnewlines[sent_idx] = en_reconstructed_withnewlines[sent_idx].replace('sun?4', 'sun? 4')\n",
    "    en_reconstructed_withnewlines[sent_idx] = en_reconstructed_withnewlines[sent_idx].replace('day :—', 'day : —')\n",
    "    en_reconstructed_withnewlines[sent_idx] = en_reconstructed_withnewlines[sent_idx].replace('every nerve. — ', 'every nerve.—')\n",
    "    en_reconstructed_withnewlines[sent_idx] = en_reconstructed_withnewlines[sent_idx].replace('fury !— But', 'fury ! —But')\n",
    "    en_reconstructed_withnewlines[sent_idx] = en_reconstructed_withnewlines[sent_idx].replace('flame. —', 'flame.—')\n",
    "    en_reconstructed_withnewlines[sent_idx] = en_reconstructed_withnewlines[sent_idx].replace('concealed. —', 'concealed.—')\n",
    "    en_reconstructed_withnewlines[sent_idx] = en_reconstructed_withnewlines[sent_idx].replace('rose:-', 'rose: -')\n",
    "    en_reconstructed_withnewlines[sent_idx] = en_reconstructed_withnewlines[sent_idx].replace('exhaustion:—such', 'exhaustion: —such')\n",
    "    en_reconstructed_withnewlines[sent_idx] = en_reconstructed_withnewlines[sent_idx].replace('beneath.-On', 'beneath. -On')\n",
    "    en_reconstructed_withnewlines[sent_idx] = en_reconstructed_withnewlines[sent_idx].replace('bring:-', 'bring: -')\n",
    "    en_reconstructed_withnewlines[sent_idx] = en_reconstructed_withnewlines[sent_idx].replace('Corporeal:—hence', 'Corporeal: —hence')\n",
    "    en_reconstructed_withnewlines[sent_idx] = en_reconstructed_withnewlines[sent_idx].replace(':-can', ': -can')\n",
    "    en_reconstructed_withnewlines[sent_idx] = en_reconstructed_withnewlines[sent_idx].replace(':-a', ': -a')\n",
    "    en_reconstructed_withnewlines[sent_idx] = en_reconstructed_withnewlines[sent_idx].replace(':-by', ': -by')\n",
    "    en_reconstructed_withnewlines[sent_idx] = en_reconstructed_withnewlines[sent_idx].replace('.And', '. And')\n",
    "    en_reconstructed_withnewlines[sent_idx] = en_reconstructed_withnewlines[sent_idx].replace('death.-Since', 'death. -Since')\n",
    "    en_reconstructed_withnewlines[sent_idx] = en_reconstructed_withnewlines[sent_idx].replace(':-some', ': -some')\n",
    "    en_reconstructed_withnewlines[sent_idx] = en_reconstructed_withnewlines[sent_idx].replace('ever!\"— But', 'ever!\" —But')\n",
    "    en_reconstructed_withnewlines[sent_idx] = en_reconstructed_withnewlines[sent_idx].replace('peace. —', 'peace.—')\n",
    "    en_reconstructed_withnewlines[sent_idx] = en_reconstructed_withnewlines[sent_idx].replace('aid.-No', 'aid. -No')\n",
    "    en_reconstructed_withnewlines[sent_idx] = en_reconstructed_withnewlines[sent_idx].replace('man. —', 'man.—')\n",
    "    en_reconstructed_withnewlines[sent_idx] = en_reconstructed_withnewlines[sent_idx].replace('?or', '? or')\n",
    "    en_reconstructed_withnewlines[sent_idx] = en_reconstructed_withnewlines[sent_idx].replace(':-it', ': -it')\n",
    "    en_reconstructed_withnewlines[sent_idx] = en_reconstructed_withnewlines[sent_idx].replace('ill. —', 'ill.—')\n",
    "    en_reconstructed_withnewlines[sent_idx] = en_reconstructed_withnewlines[sent_idx].replace('prevail.-Thus', 'prevail. -Thus')\n",
    "    en_reconstructed_withnewlines[sent_idx] = en_reconstructed_withnewlines[sent_idx].replace(':-for', ': -for')\n",
    "    en_reconstructed_withnewlines[sent_idx] = en_reconstructed_withnewlines[sent_idx].replace('well-spring:—creed', 'well-spring: —creed')\n",
    "    en_reconstructed_withnewlines[sent_idx] = en_reconstructed_withnewlines[sent_idx].replace(':different', ': different')\n",
    "    en_reconstructed_withnewlines[sent_idx] = en_reconstructed_withnewlines[sent_idx].replace('an:!', 'an: !')\n",
    "    en_reconstructed_withnewlines[sent_idx] = en_reconstructed_withnewlines[sent_idx].replace('v. 2. 5', 'v. 2.5')\n",
    "    en_reconstructed_withnewlines[sent_idx] = en_reconstructed_withnewlines[sent_idx].replace('v. 1116;', 'v.1116;')\n",
    "    en_reconstructed_withnewlines[sent_idx] = en_reconstructed_withnewlines[sent_idx].replace('1. 57,', '1.57,')\n",
    "    en_reconstructed_withnewlines[sent_idx] = en_reconstructed_withnewlines[sent_idx].replace(':voluntary', ': voluntary')\n",
    "    en_reconstructed_withnewlines[sent_idx] = en_reconstructed_withnewlines[sent_idx].replace('ib. ;   grow', 'ib. grow')\n",
    "    en_reconstructed_withnewlines[sent_idx] = en_reconstructed_withnewlines[sent_idx].replace('in, v. 30', 'in, v.30')\n",
    "    en_reconstructed_withnewlines[sent_idx] = en_reconstructed_withnewlines[sent_idx].replace('tones ? 1', 'tones ?1')"
   ]
  },
  {
   "cell_type": "code",
   "execution_count": 388,
   "id": "ae7b3514-af47-4335-9942-1382b201c601",
   "metadata": {},
   "outputs": [
    {
     "data": {
      "text/plain": [
       "3399"
      ]
     },
     "execution_count": 388,
     "metadata": {},
     "output_type": "execute_result"
    }
   ],
   "source": [
    "len(idx2section_name_withnewlines)"
   ]
  },
  {
   "cell_type": "code",
   "execution_count": 389,
   "id": "01d140ba-6089-4f52-b1ae-e4e69da4cb3f",
   "metadata": {},
   "outputs": [
    {
     "data": {
      "text/plain": [
       "'metric_translationbook1'"
      ]
     },
     "execution_count": 389,
     "metadata": {},
     "output_type": "execute_result"
    }
   ],
   "source": [
    "idx2section_name_withnewlines[2009]"
   ]
  },
  {
   "cell_type": "code",
   "execution_count": 390,
   "id": "858eda57-f911-4c26-89ed-6e78bce0fd5e",
   "metadata": {},
   "outputs": [],
   "source": [
    "en1893_textonly_newlines_fromdict = []\n",
    "idx_counter = 0\n",
    "idx2section_name_textonly = {}\n",
    "for key in range(len(idx2section_name_withnewlines)):\n",
    "    if idx2section_name_withnewlines[key] in prose_sents:\n",
    "        en1893_textonly_newlines_fromdict.append(en_reconstructed_withnewlines[key])\n",
    "        idx2section_name_textonly[idx_counter] = idx2section_name_withnewlines[key]\n",
    "        idx_counter += 1\n",
    "    elif idx2section_name_withnewlines[key] in metric_sents:\n",
    "        en1893_textonly_newlines_fromdict.append(en_reconstructed_withnewlines[key])\n",
    "        idx2section_name_textonly[idx_counter] = idx2section_name_withnewlines[key]\n",
    "        idx_counter += 1"
   ]
  },
  {
   "cell_type": "code",
   "execution_count": 391,
   "id": "4e52e0e0-fd34-4907-97c5-871153705e84",
   "metadata": {},
   "outputs": [
    {
     "name": "stdout",
     "output_type": "stream",
     "text": [
      " O BOUN riFUL Venus,1 mother of the race of Æneas,2 delight  of gods and men, who, beneath the gliding constellations  of heaven,3 fillest with life4 the ship-bearing sea and the  fruit-producing earth; 5 since by thy influence every kind of\n",
      " \n"
     ]
    }
   ],
   "source": [
    "# check there's a space after colon in \"fruit-producing earth; 5 since\"\n",
    "for idx, item in enumerate(en1893_textonly_newlines_fromdict):\n",
    "    if \"O BOUN riFUL\" in item:\n",
    "        print(item)"
   ]
  },
  {
   "cell_type": "code",
   "execution_count": 392,
   "id": "d12b74bf-771b-41cc-aad4-e5efbc2cb2ab",
   "metadata": {
    "tags": []
   },
   "outputs": [
    {
     "data": {
      "text/plain": [
       "1743"
      ]
     },
     "execution_count": 392,
     "metadata": {},
     "output_type": "execute_result"
    }
   ],
   "source": [
    "len(en1893_textonly_newlines_fromdict)"
   ]
  },
  {
   "cell_type": "code",
   "execution_count": 393,
   "id": "de32f5a7-c0f4-4193-8329-0081db122e57",
   "metadata": {},
   "outputs": [
    {
     "data": {
      "text/plain": [
       "3399"
      ]
     },
     "execution_count": 393,
     "metadata": {},
     "output_type": "execute_result"
    }
   ],
   "source": [
    "len(en_reconstructed_withnewlines)"
   ]
  },
  {
   "cell_type": "markdown",
   "id": "c0732630-abc1-4bae-8775-fd9c577dc516",
   "metadata": {},
   "source": [
    "## TEST DICT: idx2section_name_textonly (chunk-level from xml)"
   ]
  },
  {
   "cell_type": "code",
   "execution_count": 394,
   "id": "e8e0db9d-0190-41dc-900b-66bdfcac1f6d",
   "metadata": {},
   "outputs": [],
   "source": [
    "# Prose Book 1: 0 - 139\n",
    "for keys in range(0,140):\n",
    "    if idx2section_name_textonly[keys] != \"prose_translationbook1\":\n",
    "        print(keys)"
   ]
  },
  {
   "cell_type": "code",
   "execution_count": 395,
   "id": "656aedf5-b6e1-41e4-9997-ef5c927f0d46",
   "metadata": {},
   "outputs": [],
   "source": [
    "# Prose Book 2: 140 - 276\n",
    "for keys in range(140, 277):\n",
    "    if idx2section_name_textonly[keys] != \"prose_translationbook2\":\n",
    "        print(keys)"
   ]
  },
  {
   "cell_type": "code",
   "execution_count": 396,
   "id": "6471c6d7-46f6-4e0d-8d04-118a93687e87",
   "metadata": {},
   "outputs": [],
   "source": [
    "# Prose Book 3: 277 - 415\n",
    "for keys in range(281, 416):\n",
    "    if idx2section_name_textonly[keys] != \"prose_translationbook3\":\n",
    "        print(keys)"
   ]
  },
  {
   "cell_type": "code",
   "execution_count": 397,
   "id": "fa537341-7761-4507-b9eb-648ac15bfcb6",
   "metadata": {},
   "outputs": [],
   "source": [
    "# Prose Book 4: 416 - 576\n",
    "for keys in range(416, 577):\n",
    "    if idx2section_name_textonly[keys] != \"prose_translationbook4\":\n",
    "        print(keys)"
   ]
  },
  {
   "cell_type": "code",
   "execution_count": 398,
   "id": "e08a0587-8d79-4c6a-8ca0-cb34aeb79479",
   "metadata": {},
   "outputs": [],
   "source": [
    "# Prose Book 5: 577 - 764\n",
    "for keys in range(577, 765):\n",
    "    if idx2section_name_textonly[keys] != \"prose_translationbook5\":\n",
    "        print(keys)"
   ]
  },
  {
   "cell_type": "code",
   "execution_count": 399,
   "id": "a649507b-f361-4e9d-ab8a-0efb92dc462e",
   "metadata": {},
   "outputs": [],
   "source": [
    "# Prose Book 6: 765 - 967\n",
    "for keys in range(765, 968):\n",
    "    if idx2section_name_textonly[keys] != \"prose_translationbook6\":\n",
    "        print(keys)"
   ]
  },
  {
   "cell_type": "code",
   "execution_count": 400,
   "id": "b173d963-6c17-4f1c-99f7-013d87af564f",
   "metadata": {},
   "outputs": [],
   "source": [
    "# Metric Book 1: 968 - 1075\n",
    "for keys in range(968, 1076):\n",
    "    if idx2section_name_textonly[keys] != \"metric_translationbook1\":\n",
    "        print(keys)"
   ]
  },
  {
   "cell_type": "code",
   "execution_count": 401,
   "id": "eeba3343-3e14-4044-8bd6-ba28074c2c20",
   "metadata": {},
   "outputs": [],
   "source": [
    "# Metric Book 2: 1076 - 1187\n",
    "for keys in range(1076, 1188):\n",
    "    if idx2section_name_textonly[keys] != \"metric_translationbook2\":\n",
    "        print(keys)"
   ]
  },
  {
   "cell_type": "code",
   "execution_count": 402,
   "id": "d5b4ec5b-6921-4e96-9923-00852b3a6a31",
   "metadata": {},
   "outputs": [],
   "source": [
    "# Metric Book 3: 1188 - 1305\n",
    "for keys in range(1188, 1306):\n",
    "    if idx2section_name_textonly[keys] != \"metric_translationbook3\":\n",
    "        print(keys)"
   ]
  },
  {
   "cell_type": "code",
   "execution_count": 403,
   "id": "5570b550-8622-46a4-bcfd-5417ddc5c6a0",
   "metadata": {
    "tags": []
   },
   "outputs": [],
   "source": [
    "# Metric Book 4: 1306 - 1415\n",
    "for keys in range(1306, 1416):\n",
    "    if idx2section_name_textonly[keys] != \"metric_translationbook4\":\n",
    "        print(keys)"
   ]
  },
  {
   "cell_type": "code",
   "execution_count": 404,
   "id": "87181224-7964-4c4f-9635-3db01dc7422c",
   "metadata": {},
   "outputs": [],
   "source": [
    "# Metric Book 5: 1416 - 1571\n",
    "for keys in range(1416, 1572):\n",
    "    if idx2section_name_textonly[keys] != \"metric_translationbook5\":\n",
    "        print(keys)"
   ]
  },
  {
   "cell_type": "code",
   "execution_count": 405,
   "id": "49737906-2ae1-4093-87c5-b0fe4c51abee",
   "metadata": {},
   "outputs": [],
   "source": [
    "# Metric Book 6: 1572 - 1742 (end)\n",
    "for keys in range(1572, 1743):\n",
    "    if idx2section_name_textonly[keys] != \"metric_translationbook6\":\n",
    "        print(keys)"
   ]
  },
  {
   "cell_type": "code",
   "execution_count": 408,
   "id": "c5f77a52-1915-4400-a04d-3b9a85799114",
   "metadata": {},
   "outputs": [
    {
     "data": {
      "text/plain": [
       "'\\n Dire poverty, too, with sudden impulse, prompted men to  many impious deeds;  for they placed their relatives, with  loud outcries, on the funeral piles raised for others,3 and ap  plied torches to them;  often even quarrelling, with great  bloodshed, rather than the bodies should be left unconsumed.\\n '"
      ]
     },
     "execution_count": 408,
     "metadata": {},
     "output_type": "execute_result"
    }
   ],
   "source": [
    "en1893_textonly_newlines_fromdict[967]"
   ]
  },
  {
   "cell_type": "code",
   "execution_count": 410,
   "id": "5c8ada60-f36e-40ec-9401-b0e6ec08b258",
   "metadata": {},
   "outputs": [
    {
     "data": {
      "text/plain": [
       "'prose_translationbook6'"
      ]
     },
     "execution_count": 410,
     "metadata": {},
     "output_type": "execute_result"
    }
   ],
   "source": [
    "idx2section_name_textonly[967]"
   ]
  },
  {
   "cell_type": "markdown",
   "id": "f1528a18-1618-4627-b93d-2b4afe751e56",
   "metadata": {},
   "source": [
    "## Debug en_reconstructed_withnewlines"
   ]
  },
  {
   "cell_type": "code",
   "execution_count": 411,
   "id": "e04aa224-9abc-4b64-9ea1-1034f8007662",
   "metadata": {},
   "outputs": [
    {
     "name": "stdout",
     "output_type": "stream",
     "text": [
      "  PARENT of ROME ! by gods and men beloved,  Benignant VENUS! thou, the sail-clad main  And fruitful earth, as round the seasons roll,  With life who swellest, for by thee all live,  And, living, hail the cheerful light of day : —  Thee, goddess, at thy glad approach, the winds.  The tempests fly : dedalian Earth to thee  Pours forth her sweetest flow'rets: Ocean laughs,  And the blue heavens in cloudless splendour decked.  For, when the Spring first opes her frolic eye,  And genial zephyrs long locked up respire,  Thee, goddess, then, th' aerial birds confess,  To rapture stung through every shivering plume:  Thee, the wild herds ;  hence, o'er the joyous glebe  Bounding at large;  or, with undaunted chest,  Stemming the torrent tides. Through all that lives  So, by thy charms, thy blandishments overpowered,  Springs the warm wish thy footsteps to pursue:  Till through the seas, the mountains, and the floods,  The verdant meads, and woodlands filled with song  Spurred by desire each palpitating tribe  Hastes, at thy shrine, to plant, the future race.\n",
      " \n",
      "2009\n"
     ]
    }
   ],
   "source": [
    "for idx, item in enumerate(en_reconstructed_withnewlines):\n",
    "    if \"PARENT of ROME !\" in item:\n",
    "        print(item)\n",
    "        print(idx)"
   ]
  },
  {
   "cell_type": "code",
   "execution_count": 412,
   "id": "33fdfc01-a839-48bb-b91c-e34b1658bba7",
   "metadata": {},
   "outputs": [
    {
     "data": {
      "text/plain": [
       "\"  PARENT of ROME ! by gods and men beloved,  Benignant VENUS! thou, the sail-clad main  And fruitful earth, as round the seasons roll,  With life who swellest, for by thee all live,  And, living, hail the cheerful light of day : —  Thee, goddess, at thy glad approach, the winds.  The tempests fly : dedalian Earth to thee  Pours forth her sweetest flow'rets: Ocean laughs,  And the blue heavens in cloudless splendour decked.  For, when the Spring first opes her frolic eye,  And genial zephyrs long locked up respire,  Thee, goddess, then, th' aerial birds confess,  To rapture stung through every shivering plume:  Thee, the wild herds ;  hence, o'er the joyous glebe  Bounding at large;  or, with undaunted chest,  Stemming the torrent tides. Through all that lives  So, by thy charms, thy blandishments overpowered,  Springs the warm wish thy footsteps to pursue:  Till through the seas, the mountains, and the floods,  The verdant meads, and woodlands filled with song  Spurred by desire each palpitating tribe  Hastes, at thy shrine, to plant, the future race.\\n \""
      ]
     },
     "execution_count": 412,
     "metadata": {},
     "output_type": "execute_result"
    }
   ],
   "source": [
    "en_reconstructed_withnewlines[2009]"
   ]
  },
  {
   "cell_type": "code",
   "execution_count": 413,
   "id": "75918ab0-1311-4d51-8342-7d5054905a55",
   "metadata": {},
   "outputs": [
    {
     "data": {
      "text/plain": [
       "'metric_translationbook1'"
      ]
     },
     "execution_count": 413,
     "metadata": {},
     "output_type": "execute_result"
    }
   ],
   "source": [
    "idx2section_name_withnewlines[2009]"
   ]
  },
  {
   "cell_type": "markdown",
   "id": "390ee535-0b12-4c37-ae63-9f52ac445dd6",
   "metadata": {},
   "source": [
    "## Segment text only into sentences"
   ]
  },
  {
   "cell_type": "code",
   "execution_count": 80,
   "id": "3f7a2f42-d0c2-407a-8347-767f91f74f25",
   "metadata": {
    "tags": []
   },
   "outputs": [],
   "source": [
    "# strip newlines at beginning of each chunk\n",
    "en1893_textonly_newlines_fromdict = [x.lstrip() for x in en1893_textonly_newlines_fromdict]"
   ]
  },
  {
   "cell_type": "code",
   "execution_count": 81,
   "id": "ccfcb3f5-9da7-4b1f-960b-497850cccdf8",
   "metadata": {},
   "outputs": [
    {
     "data": {
      "text/plain": [
       "'O BOUN riFUL Venus,1 mother of the race of Æneas,2 delight  of gods and men, who, beneath the gliding constellations  of heaven,3 fillest with life4 the ship-bearing sea and the  fruit-producing earth; 5 since by thy influence every kind of\\n '"
      ]
     },
     "execution_count": 81,
     "metadata": {},
     "output_type": "execute_result"
    }
   ],
   "source": [
    "en1893_textonly_newlines_fromdict[0]"
   ]
  },
  {
   "cell_type": "code",
   "execution_count": 82,
   "id": "fe682d6f-44bc-49d6-952c-209fbff12c7d",
   "metadata": {},
   "outputs": [],
   "source": [
    "en1893_textonly_newlines_fromdict = [x.rstrip() for x in en1893_textonly_newlines_fromdict]"
   ]
  },
  {
   "cell_type": "code",
   "execution_count": 83,
   "id": "8f89e71a-6397-4fa6-821f-b5e7ecbaa6db",
   "metadata": {},
   "outputs": [
    {
     "data": {
      "text/plain": [
       "'O BOUN riFUL Venus,1 mother of the race of Æneas,2 delight  of gods and men, who, beneath the gliding constellations  of heaven,3 fillest with life4 the ship-bearing sea and the  fruit-producing earth; 5 since by thy influence every kind of'"
      ]
     },
     "execution_count": 83,
     "metadata": {},
     "output_type": "execute_result"
    }
   ],
   "source": [
    "en1893_textonly_newlines_fromdict[0]"
   ]
  },
  {
   "cell_type": "code",
   "execution_count": 84,
   "id": "cf5b3879-530c-40be-902f-26fe870caab4",
   "metadata": {},
   "outputs": [],
   "source": [
    "en1893_str_textonly = \" \".join(en1893_textonly_newlines_fromdict)"
   ]
  },
  {
   "cell_type": "code",
   "execution_count": 85,
   "id": "a70aa097-0a29-433b-b886-91e0af79d57d",
   "metadata": {},
   "outputs": [
    {
     "name": "stdout",
     "output_type": "stream",
     "text": [
      "segmented str into sentences\n"
     ]
    }
   ],
   "source": [
    "en1893_sents_textonly = preprocess_series(en1893_str_textonly, \"en\", stanza_model_)"
   ]
  },
  {
   "cell_type": "code",
   "execution_count": 86,
   "id": "e8f27b1a-de86-484a-ad26-c49e62d986f7",
   "metadata": {},
   "outputs": [
    {
     "data": {
      "text/plain": [
       "['O BOUN riFUL Venus,1 mother of the race of Æneas,2 delight  of gods and men, who, beneath the gliding constellations  of heaven,3 fillest with life4 the ship-bearing sea and the  fruit-producing earth;',\n",
       " '5 since by thy influence every kind of living creature is conceived, and, springing forth, hails the  light of the sun.',\n",
       " 'Thee, 0 goddess, thee the winds flee ;',\n",
       " 'be  fore thee, and thy approach, the clouds of heaven disperse;',\n",
       " 'for  thee the variegated earth2 puts forth3 her fragrant flowers;',\n",
       " 'on thee the waters of ocean smile, and the calmed heaven  beams with effulgent4 light.',\n",
       " 'For, as soon as the vernal face  of day5 is unveiled, and the genial gale of Favonius exerts  its power unconfined, the birds of the air first, 0 goddess,  testify of thee and thy coming, smitten in heart by thy influ  ence.',\n",
       " 'Next, the wild herds bound over the joyous pastures,  and swim across the rapid streams.',\n",
       " 'So all kinds of living  creatures, captivated by thy charms and thy allurements,  eagerly follow thee whithersoever thou proceedest to lead  them.',\n",
       " 'In fine, throughout seas, and mountains, and whelming  rivers,6 and the leafy abodes of birds, and verdant plains,  thou, infusing balmy love into the breasts of all, causest them  eagerly to propagate their races after their kind.']"
      ]
     },
     "execution_count": 86,
     "metadata": {},
     "output_type": "execute_result"
    }
   ],
   "source": [
    "en1893_sents_textonly[:10]"
   ]
  },
  {
   "cell_type": "code",
   "execution_count": 87,
   "id": "6c0e6ab4-8bd0-46be-91b4-1db3fb40c4c6",
   "metadata": {},
   "outputs": [
    {
     "data": {
      "text/plain": [
       "['At length the temples of the gods themselves,  Changed into charnels, and their sacred shrines  Thronged with the dead:',\n",
       " 'for superstition now,',\n",
       " 'The power of altars, half their sway had lost,  Whelmed in the pressure of the present woe.',\n",
       " 'Nor longer now the costly rites prevailed  Of ancient burial, erst punctilious kept:',\n",
       " 'For all roved restless, with distracted mind,  From scene to scene ;',\n",
       " \"and worn with grief and toil  Gave to their friends th' interment chance allowed.\",\n",
       " 'And direst exigence impelled them oft,  Headlong, to deeds most impious;',\n",
       " \"for the pyres  Funereal seized they, reared not by themselves,  And with loud dirge, and wailing wild, o'er these  Placed their own dead;\",\n",
       " \"amid th' unhallowed blaze  With blood contending, rather than resign\",\n",
       " \"The tomb thus gained, or quit th' enkindling corse.\"]"
      ]
     },
     "execution_count": 87,
     "metadata": {},
     "output_type": "execute_result"
    }
   ],
   "source": [
    "en1893_sents_textonly[-10:]"
   ]
  },
  {
   "cell_type": "code",
   "execution_count": 88,
   "id": "46beab1a-d47c-4a6c-ae62-1eb151e42215",
   "metadata": {},
   "outputs": [
    {
     "data": {
      "text/plain": [
       "8165"
      ]
     },
     "execution_count": 88,
     "metadata": {},
     "output_type": "execute_result"
    }
   ],
   "source": [
    "len(en1893_sents_textonly)"
   ]
  },
  {
   "cell_type": "code",
   "execution_count": 89,
   "id": "dc29d654-0e11-4fcd-8b13-cd2b5552f105",
   "metadata": {},
   "outputs": [],
   "source": [
    "# path_out = \"/home/craig.car/repos/chiron/align_texts_project/data/lucretius/lucretius_en1893_sents_textonly.txt\"\n",
    "# write_file(en1893_sents_textonly, path_out)"
   ]
  },
  {
   "cell_type": "markdown",
   "id": "ce154204-e6d8-41ef-9e5f-67fae69152a1",
   "metadata": {},
   "source": [
    "## TODO: text only experiment\n",
    "1. tokenize en1893_sents_textonly and tokenize en1893_textonly_newlines_fromdict\n",
    "2. check they match\n",
    "3. build dict sent 2 section name for evaluation"
   ]
  },
  {
   "cell_type": "markdown",
   "id": "a57e0223-9bea-4390-b9bd-ff06c4b79fe7",
   "metadata": {},
   "source": [
    "# TODO: full edition experiment\n",
    "1. TEST new dict (see end of notebook)\n",
    "2. Run through score vec results notebook\n",
    "3. Check results\n",
    "4. Update numbers in paper"
   ]
  },
  {
   "cell_type": "code",
   "execution_count": 414,
   "id": "eb27af21-965e-4771-949a-94693500c061",
   "metadata": {},
   "outputs": [],
   "source": [
    "en_reconstructed_TEST, idx2section_name_TEST, lucretius_en1893_textonly_TEST = reconstruct_txt_markers(\n",
    "    en1893_str_markers_newlines_split, chapteridx2chaptername)"
   ]
  },
  {
   "cell_type": "code",
   "execution_count": 415,
   "id": "7a700077-f1e7-4141-9bc7-211668681479",
   "metadata": {},
   "outputs": [],
   "source": [
    "def reconcile_sents_chapts(en_reconstructed_lst):\n",
    "    # apply same changes to en_reconstructed_lst in order to match tokenization\n",
    "    for sent_idx, sent in enumerate(en_reconstructed_lst):\n",
    "        en_reconstructed_lst[sent_idx] = en_reconstructed_lst[sent_idx].replace(\".”1\", \".” 1\")\n",
    "        en_reconstructed_lst[sent_idx] = en_reconstructed_lst[sent_idx].replace(\"tongue.2\", \"tongue. 2\")\n",
    "        en_reconstructed_lst[sent_idx] = en_reconstructed_lst[sent_idx].replace(\"veneration.3\", \"veneration. 3\")\n",
    "        en_reconstructed_lst[sent_idx] = en_reconstructed_lst[sent_idx].replace(\"insane.3\", \"insane. 3\")\n",
    "        en_reconstructed_lst[sent_idx] = en_reconstructed_lst[sent_idx].replace(\".1\", \". 1\")\n",
    "        en_reconstructed_lst[sent_idx] = en_reconstructed_lst[sent_idx].replace(\"opinion.3\", \"opinion. 3\")\n",
    "        en_reconstructed_lst[sent_idx] = en_reconstructed_lst[sent_idx].replace(\".7\", \". 7\")\n",
    "        en_reconstructed_lst[sent_idx] = en_reconstructed_lst[sent_idx].replace(\".2\", \". 2\")\n",
    "        en_reconstructed_lst[sent_idx] = en_reconstructed_lst[sent_idx].replace(\".4\", \". 4\")\n",
    "        en_reconstructed_lst[sent_idx] = en_reconstructed_lst[sent_idx].replace('language;\"', 'language; \"')\n",
    "        en_reconstructed_lst[sent_idx] = en_reconstructed_lst[sent_idx].replace('Lucretius;\"', 'Lucretius; \"')\n",
    "        en_reconstructed_lst[sent_idx] = en_reconstructed_lst[sent_idx].replace(\"?1\", \"? 1\")\n",
    "        en_reconstructed_lst[sent_idx] = en_reconstructed_lst[sent_idx].replace(\".5\", \". 5\")\n",
    "        en_reconstructed_lst[sent_idx] = en_reconstructed_lst[sent_idx].replace(\".6\", \". 6\")\n",
    "        en_reconstructed_lst[sent_idx] = en_reconstructed_lst[sent_idx].replace(\"It;.\", \"It; .\")\n",
    "        en_reconstructed_lst[sent_idx] = en_reconstructed_lst[sent_idx].replace(\":8\", \": 8\")\n",
    "        en_reconstructed_lst[sent_idx] = en_reconstructed_lst[sent_idx].replace(\".3\", \". 3\")\n",
    "        en_reconstructed_lst[sent_idx] = en_reconstructed_lst[sent_idx].replace(\":2\", \": 2\")\n",
    "        en_reconstructed_lst[sent_idx] = en_reconstructed_lst[sent_idx].replace(\"?2\", \"? 2\")\n",
    "        en_reconstructed_lst[sent_idx] = en_reconstructed_lst[sent_idx].replace('ἔχειπρός.”Wakefield.', 'ἔχειπρός. ”Wakefield.')\n",
    "        en_reconstructed_lst[sent_idx] = en_reconstructed_lst[sent_idx].replace(\"Tacitus. 11\", \"Tacitus.11\")\n",
    "        en_reconstructed_lst[sent_idx] = en_reconstructed_lst[sent_idx].replace('Æolia.”What', 'Æolia. ”What')\n",
    "        en_reconstructed_lst[sent_idx] = en_reconstructed_lst[sent_idx].replace('concerned).—', 'concerned). —')\n",
    "        en_reconstructed_lst[sent_idx] = en_reconstructed_lst[sent_idx].replace('.—', '. —')\n",
    "        en_reconstructed_lst[sent_idx] = en_reconstructed_lst[sent_idx].replace(\"nix.—Are\", \"nix. —Are\")\n",
    "        en_reconstructed_lst[sent_idx] = en_reconstructed_lst[sent_idx].replace(\"improvida.—Find\", \"improvida. —Find\")\n",
    "        en_reconstructed_lst[sent_idx] = en_reconstructed_lst[sent_idx].replace(\";\", \"; \")\n",
    "        en_reconstructed_lst[sent_idx] = en_reconstructed_lst[sent_idx].replace(\"fleshes.”\", \"fleshes. ”\")\n",
    "        en_reconstructed_lst[sent_idx] = en_reconstructed_lst[sent_idx].replace(\".]Ver\", \".] Ver\")\n",
    "        en_reconstructed_lst[sent_idx] = en_reconstructed_lst[sent_idx].replace(\":so\", \": so\")\n",
    "        en_reconstructed_lst[sent_idx] = en_reconstructed_lst[sent_idx].replace(\"flumina. —“\", \"flumina.—“\")\n",
    "        en_reconstructed_lst[sent_idx] = en_reconstructed_lst[sent_idx].replace(\"armis.–Fortè\", \"armis. –Fortè\")\n",
    "        en_reconstructed_lst[sent_idx] = en_reconstructed_lst[sent_idx].replace(\"—But\", \"— But\")\n",
    "        en_reconstructed_lst[sent_idx] = en_reconstructed_lst[sent_idx].replace(\"—Or\", \"— Or\")\n",
    "        en_reconstructed_lst[sent_idx] = en_reconstructed_lst[sent_idx].replace(\"minds.\", \"minds. \")\n",
    "        en_reconstructed_lst[sent_idx] = en_reconstructed_lst[sent_idx].replace(':\"', ': \"')\n",
    "        en_reconstructed_lst[sent_idx] = en_reconstructed_lst[sent_idx].replace('first.-The', 'first. -The')\n",
    "        en_reconstructed_lst[sent_idx] = en_reconstructed_lst[sent_idx].replace(':)', ': )')\n",
    "        en_reconstructed_lst[sent_idx] = en_reconstructed_lst[sent_idx].replace('body. ——I', 'body.— —I')\n",
    "        en_reconstructed_lst[sent_idx] = en_reconstructed_lst[sent_idx].replace('curtains. —“', 'curtains.—“')\n",
    "        en_reconstructed_lst[sent_idx] = en_reconstructed_lst[sent_idx].replace('593. —\"', '593.—\"')\n",
    "        en_reconstructed_lst[sent_idx] = en_reconstructed_lst[sent_idx].replace('borne. 3', 'borne.3')\n",
    "        en_reconstructed_lst[sent_idx] = en_reconstructed_lst[sent_idx].replace('words.J', 'words. J')\n",
    "        en_reconstructed_lst[sent_idx] = en_reconstructed_lst[sent_idx].replace('compose. 1', 'compose.1')\n",
    "        en_reconstructed_lst[sent_idx] = en_reconstructed_lst[sent_idx].replace(\"systems.”Whewell's\", \"systems. ”Whewell's\")\n",
    "        en_reconstructed_lst[sent_idx] = en_reconstructed_lst[sent_idx].replace('life?3', 'life? 3')\n",
    "        en_reconstructed_lst[sent_idx] = en_reconstructed_lst[sent_idx].replace(\"? 1  Or,\", \"?1 Or,\")\n",
    "        en_reconstructed_lst[sent_idx] = en_reconstructed_lst[sent_idx].replace('true.]1', 'true.] 1')\n",
    "        en_reconstructed_lst[sent_idx] = en_reconstructed_lst[sent_idx].replace('Phil. i. 1. 1.', 'Phil. i. 1.1.')\n",
    "        en_reconstructed_lst[sent_idx] = en_reconstructed_lst[sent_idx].replace('up. 1 adhering', 'up.1 adhering')\n",
    "        en_reconstructed_lst[sent_idx] = en_reconstructed_lst[sent_idx].replace('6, 6. —With', '6, 6.—With')\n",
    "        en_reconstructed_lst[sent_idx] = en_reconstructed_lst[sent_idx].replace('THE YEAR. 3', 'THE YEAR.3')\n",
    "        en_reconstructed_lst[sent_idx] = en_reconstructed_lst[sent_idx].replace('elbows?3', 'elbows? 3')\n",
    "        en_reconstructed_lst[sent_idx] = en_reconstructed_lst[sent_idx].replace(':—idem', ': —idem')\n",
    "        en_reconstructed_lst[sent_idx] = en_reconstructed_lst[sent_idx].replace('moisture.-Motion', 'moisture. -Motion')\n",
    "        en_reconstructed_lst[sent_idx] = en_reconstructed_lst[sent_idx].replace('ENTIRE WHOLE. 1', 'ENTIRE WHOLE.1')\n",
    "        en_reconstructed_lst[sent_idx] = en_reconstructed_lst[sent_idx].replace('sui.”Aul.Gell.', 'sui. ”Aul. Gell.')\n",
    "        en_reconstructed_lst[sent_idx] = en_reconstructed_lst[sent_idx].replace('itself?3', 'itself? 3')\n",
    "        en_reconstructed_lst[sent_idx] = en_reconstructed_lst[sent_idx].replace('sun?4', 'sun? 4')\n",
    "        en_reconstructed_lst[sent_idx] = en_reconstructed_lst[sent_idx].replace('day :—', 'day : —')\n",
    "        en_reconstructed_lst[sent_idx] = en_reconstructed_lst[sent_idx].replace('every nerve. — ', 'every nerve.—')\n",
    "        en_reconstructed_lst[sent_idx] = en_reconstructed_lst[sent_idx].replace('fury !— But', 'fury ! —But')\n",
    "        en_reconstructed_lst[sent_idx] = en_reconstructed_lst[sent_idx].replace('flame. —', 'flame.—')\n",
    "        en_reconstructed_lst[sent_idx] = en_reconstructed_lst[sent_idx].replace('concealed. —', 'concealed.—')\n",
    "        en_reconstructed_lst[sent_idx] = en_reconstructed_lst[sent_idx].replace('rose:-', 'rose: -')\n",
    "        en_reconstructed_lst[sent_idx] = en_reconstructed_lst[sent_idx].replace('exhaustion:—such', 'exhaustion: —such')\n",
    "        en_reconstructed_lst[sent_idx] = en_reconstructed_lst[sent_idx].replace('beneath.-On', 'beneath. -On')\n",
    "        en_reconstructed_lst[sent_idx] = en_reconstructed_lst[sent_idx].replace('bring:-', 'bring: -')\n",
    "        en_reconstructed_lst[sent_idx] = en_reconstructed_lst[sent_idx].replace('Corporeal:—hence', 'Corporeal: —hence')\n",
    "        en_reconstructed_lst[sent_idx] = en_reconstructed_lst[sent_idx].replace(':-can', ': -can')\n",
    "        en_reconstructed_lst[sent_idx] = en_reconstructed_lst[sent_idx].replace(':-a', ': -a')\n",
    "        en_reconstructed_lst[sent_idx] = en_reconstructed_lst[sent_idx].replace(':-by', ': -by')\n",
    "        en_reconstructed_lst[sent_idx] = en_reconstructed_lst[sent_idx].replace('.And', '. And')\n",
    "        en_reconstructed_lst[sent_idx] = en_reconstructed_lst[sent_idx].replace('death.-Since', 'death. -Since')\n",
    "        en_reconstructed_lst[sent_idx] = en_reconstructed_lst[sent_idx].replace(':-some', ': -some')\n",
    "        en_reconstructed_lst[sent_idx] = en_reconstructed_lst[sent_idx].replace('ever!\"— But', 'ever!\" —But')\n",
    "        en_reconstructed_lst[sent_idx] = en_reconstructed_lst[sent_idx].replace('peace. —', 'peace.—')\n",
    "        en_reconstructed_lst[sent_idx] = en_reconstructed_lst[sent_idx].replace('aid.-No', 'aid. -No')\n",
    "        en_reconstructed_lst[sent_idx] = en_reconstructed_lst[sent_idx].replace('man. —', 'man.—')\n",
    "        en_reconstructed_lst[sent_idx] = en_reconstructed_lst[sent_idx].replace('?or', '? or')\n",
    "        en_reconstructed_lst[sent_idx] = en_reconstructed_lst[sent_idx].replace(':-it', ': -it')\n",
    "        en_reconstructed_lst[sent_idx] = en_reconstructed_lst[sent_idx].replace('ill. —', 'ill.—')\n",
    "        en_reconstructed_lst[sent_idx] = en_reconstructed_lst[sent_idx].replace('prevail.-Thus', 'prevail. -Thus')\n",
    "        en_reconstructed_lst[sent_idx] = en_reconstructed_lst[sent_idx].replace(':-for', ': -for')\n",
    "        en_reconstructed_lst[sent_idx] = en_reconstructed_lst[sent_idx].replace('well-spring:—creed', 'well-spring: —creed')\n",
    "        en_reconstructed_lst[sent_idx] = en_reconstructed_lst[sent_idx].replace(':different', ': different')\n",
    "        en_reconstructed_lst[sent_idx] = en_reconstructed_lst[sent_idx].replace('an:!', 'an: !')\n",
    "        en_reconstructed_lst[sent_idx] = en_reconstructed_lst[sent_idx].replace('v. 2. 5', 'v. 2.5')\n",
    "        en_reconstructed_lst[sent_idx] = en_reconstructed_lst[sent_idx].replace('v. 1116;', 'v.1116;')\n",
    "        en_reconstructed_lst[sent_idx] = en_reconstructed_lst[sent_idx].replace('1. 57,', '1.57,')\n",
    "        en_reconstructed_lst[sent_idx] = en_reconstructed_lst[sent_idx].replace(':voluntary', ': voluntary')\n",
    "        en_reconstructed_lst[sent_idx] = en_reconstructed_lst[sent_idx].replace('ib. ;   grow', 'ib. grow')\n",
    "        en_reconstructed_lst[sent_idx] = en_reconstructed_lst[sent_idx].replace('in, v. 30', 'in, v.30')\n",
    "        en_reconstructed_lst[sent_idx] = en_reconstructed_lst[sent_idx].replace('tones ? 1', 'tones ?1')\n",
    "    return en_reconstructed_lst"
   ]
  },
  {
   "cell_type": "code",
   "execution_count": 416,
   "id": "bbfc67ae-0fa9-489a-bcf1-942c85d1733e",
   "metadata": {},
   "outputs": [],
   "source": [
    "en_reconstructed_TEST_rec = reconcile_sents_chapts(en_reconstructed_TEST)"
   ]
  },
  {
   "cell_type": "code",
   "execution_count": 417,
   "id": "df530739-c984-4e67-b946-584d5096ff2d",
   "metadata": {},
   "outputs": [],
   "source": [
    "en1893_sents_tokenized_TEST = []\n",
    "for idx, sent in enumerate(en1983_sents):\n",
    "    en1893_sents_tokenized_TEST.append(sent.split())"
   ]
  },
  {
   "cell_type": "code",
   "execution_count": 418,
   "id": "4dc79af1-af4d-4c9f-93de-d49cafe0b8a5",
   "metadata": {},
   "outputs": [],
   "source": [
    "en_reconstructed_tokenized_TEST = []\n",
    "for idx, sent in enumerate(en_reconstructed_TEST):\n",
    "    en_reconstructed_tokenized_TEST.append(sent.split())"
   ]
  },
  {
   "cell_type": "code",
   "execution_count": 419,
   "id": "3203dfb3-2ca8-4f3f-8e77-f1f63a452cc8",
   "metadata": {},
   "outputs": [],
   "source": [
    "num_tokens_sents = 0\n",
    "for sent in en1893_sents_tokenized_TEST:\n",
    "    num_tokens_sents += len(sent)\n",
    "\n",
    "num_tokens_chapts = 0\n",
    "for sent in en_reconstructed_tokenized_TEST:\n",
    "    num_tokens_chapts += len(sent)"
   ]
  },
  {
   "cell_type": "code",
   "execution_count": 420,
   "id": "7bd1ac7f-985f-4058-8d0d-05286fe5722b",
   "metadata": {},
   "outputs": [
    {
     "name": "stdout",
     "output_type": "stream",
     "text": [
      "202634\n",
      "202634\n"
     ]
    }
   ],
   "source": [
    "print(num_tokens_sents)\n",
    "print(num_tokens_chapts)"
   ]
  },
  {
   "cell_type": "code",
   "execution_count": 421,
   "id": "53796703-acb6-46c8-bc49-04b590ffb64e",
   "metadata": {},
   "outputs": [],
   "source": [
    "en1983_tokens_from_sents_TEST = flatten_list(en1893_sents_tokenized_TEST)\n",
    "en1983_tokens_from_chapts_TEST = flatten_list(en_reconstructed_tokenized_TEST)"
   ]
  },
  {
   "cell_type": "code",
   "execution_count": 422,
   "id": "9c88e619-0f0b-4d96-af79-67021097322d",
   "metadata": {},
   "outputs": [
    {
     "data": {
      "text/plain": [
       "True"
      ]
     },
     "execution_count": 422,
     "metadata": {},
     "output_type": "execute_result"
    }
   ],
   "source": [
    "en1983_tokens_from_sents_TEST == en1983_tokens_from_chapts_TEST"
   ]
  },
  {
   "cell_type": "code",
   "execution_count": 423,
   "id": "8779b593-6b1f-452f-b1a9-da9d0aaa611b",
   "metadata": {},
   "outputs": [
    {
     "data": {
      "text/plain": [
       "['tongue.', '2', 'As', 'to']"
      ]
     },
     "execution_count": 423,
     "metadata": {},
     "output_type": "execute_result"
    }
   ],
   "source": [
    "en1983_tokens_from_chapts_TEST[61:65]"
   ]
  },
  {
   "cell_type": "code",
   "execution_count": 424,
   "id": "6e5e4740-2063-4f2f-a35b-e11fe2695386",
   "metadata": {},
   "outputs": [],
   "source": [
    "for idx, token in enumerate(en1983_tokens_from_chapts_TEST):\n",
    "    if token != en1983_tokens_from_sents_TEST[idx]:\n",
    "        print(idx)"
   ]
  },
  {
   "cell_type": "code",
   "execution_count": 425,
   "id": "aa9aeed4-0631-434c-847b-549aed4668ac",
   "metadata": {},
   "outputs": [],
   "source": [
    "en1893_sent2section_name_TEST = build_sent_to_section_dict(\n",
    "    en1893_sents_tokenized_TEST, en_reconstructed_tokenized_TEST, idx2section_name_TEST)"
   ]
  },
  {
   "cell_type": "code",
   "execution_count": 426,
   "id": "804eedf0-5920-452e-bf8e-6d6bc9b42ede",
   "metadata": {},
   "outputs": [
    {
     "name": "stdout",
     "output_type": "stream",
     "text": [
      "Thus abruptly ends the description of the plague, and the poem  of Lucretius.\n",
      "8576\n"
     ]
    }
   ],
   "source": [
    "for idx, item in enumerate(en1983_sents):\n",
    "    if \"Thus abruptly ends\" in item:\n",
    "        print(item)\n",
    "        print(idx)"
   ]
  },
  {
   "cell_type": "code",
   "execution_count": 429,
   "id": "98404bf3-ffce-436d-8bb5-e608745b35fd",
   "metadata": {},
   "outputs": [
    {
     "data": {
      "text/plain": [
       "'prose_translationbook6commentary'"
      ]
     },
     "execution_count": 429,
     "metadata": {},
     "output_type": "execute_result"
    }
   ],
   "source": [
    "en1893_sent2section_name_TEST[8576]"
   ]
  },
  {
   "cell_type": "code",
   "execution_count": 430,
   "id": "12de52aa-2ab4-41ee-9ff2-988ebb05ec66",
   "metadata": {},
   "outputs": [
    {
     "data": {
      "text/plain": [
       "'metric_translationbook1'"
      ]
     },
     "execution_count": 430,
     "metadata": {},
     "output_type": "execute_result"
    }
   ],
   "source": [
    "en1893_sent2section_name_TEST[8614]"
   ]
  },
  {
   "cell_type": "code",
   "execution_count": 431,
   "id": "6a774370-69a6-4c43-9e52-a6c93d75e5c3",
   "metadata": {},
   "outputs": [
    {
     "data": {
      "text/plain": [
       "'PARENT of ROME ! by gods and men beloved,  Benignant VENUS!'"
      ]
     },
     "execution_count": 431,
     "metadata": {},
     "output_type": "execute_result"
    }
   ],
   "source": [
    "en1983_sents[8614]"
   ]
  },
  {
   "cell_type": "code",
   "execution_count": 432,
   "id": "47553cea-631d-4db6-8757-f5858ebb7e3c",
   "metadata": {},
   "outputs": [
    {
     "name": "stdout",
     "output_type": "stream",
     "text": [
      "  PARENT of ROME ! by gods and men beloved,  Benignant VENUS! thou, the sail-clad main  And fruitful earth, as round the seasons roll,  With life who swellest, for by thee all live,  And, living, hail the cheerful light of day : —  Thee, goddess, at thy glad approach, the winds.  The tempests fly : dedalian Earth to thee  Pours forth her sweetest flow'rets: Ocean laughs,  And the blue heavens in cloudless splendour decked.  For, when the Spring first opes her frolic eye,  And genial zephyrs long locked up respire,  Thee, goddess, then, th' aerial birds confess,  To rapture stung through every shivering plume:  Thee, the wild herds ;  hence, o'er the joyous glebe  Bounding at large;  or, with undaunted chest,  Stemming the torrent tides. Through all that lives  So, by thy charms, thy blandishments overpowered,  Springs the warm wish thy footsteps to pursue:  Till through the seas, the mountains, and the floods,  The verdant meads, and woodlands filled with song  Spurred by desire each palpitating tribe  Hastes, at thy shrine, to plant, the future race.\n",
      " \n",
      "2009\n"
     ]
    }
   ],
   "source": [
    "for idx, item in enumerate(en_reconstructed_TEST_rec):\n",
    "    if \"PARENT of ROME ! by\" in item:\n",
    "        print(item)\n",
    "        print(idx)"
   ]
  },
  {
   "cell_type": "code",
   "execution_count": 433,
   "id": "86376bdd-01ab-45d7-b851-17e16b21d68e",
   "metadata": {},
   "outputs": [
    {
     "data": {
      "text/plain": [
       "'metric_translationbook0title'"
      ]
     },
     "execution_count": 433,
     "metadata": {},
     "output_type": "execute_result"
    }
   ],
   "source": [
    "idx2section_name_TEST[2007]"
   ]
  },
  {
   "cell_type": "code",
   "execution_count": 434,
   "id": "d6c69548-9057-4220-bf3a-d15a4793bef1",
   "metadata": {},
   "outputs": [
    {
     "data": {
      "text/plain": [
       "'BY JOHN MASON GOOD.\\n '"
      ]
     },
     "execution_count": 434,
     "metadata": {},
     "output_type": "execute_result"
    }
   ],
   "source": [
    "en_reconstructed_TEST_rec[2007]"
   ]
  },
  {
   "cell_type": "code",
   "execution_count": 435,
   "id": "c1ba3964-96b6-4539-9ea3-294bf836b71c",
   "metadata": {},
   "outputs": [
    {
     "data": {
      "text/plain": [
       "3399"
      ]
     },
     "execution_count": 435,
     "metadata": {},
     "output_type": "execute_result"
    }
   ],
   "source": [
    "len(en_reconstructed_tokenized_TEST)"
   ]
  },
  {
   "cell_type": "code",
   "execution_count": 436,
   "id": "d1c2206b-1efa-4c02-aab8-a84ae2d35ada",
   "metadata": {},
   "outputs": [
    {
     "data": {
      "text/plain": [
       "3399"
      ]
     },
     "execution_count": 436,
     "metadata": {},
     "output_type": "execute_result"
    }
   ],
   "source": [
    "len(en_reconstructed_TEST_rec)"
   ]
  },
  {
   "cell_type": "code",
   "execution_count": 437,
   "id": "f20a1698-81fa-4351-b47b-19416f7716f7",
   "metadata": {},
   "outputs": [],
   "source": [
    "def build_sent_to_section_dict(lst_tokenized_sents, lst_tokenized_chapts,\n",
    "                               dict_chapter_2_section):\n",
    "    \"\"\"\n",
    "    Build dict of sentence idx to section name\n",
    "    \"\"\"\n",
    "    sent_idx_2_section_name = {}\n",
    "    token_counter = 0 # per section/chapter\n",
    "    current_section_idx = 0\n",
    "    for idx_sent, sent in enumerate(lst_tokenized_sents):\n",
    "        token_counter += len(sent)\n",
    "        current_chapter_length = len(lst_tokenized_chapts[current_section_idx])\n",
    "        if token_counter < current_chapter_length:\n",
    "            # add sent to dict\n",
    "            sent_idx_2_section_name[idx_sent] = dict_chapter_2_section[current_section_idx]\n",
    "        elif token_counter == current_chapter_length:\n",
    "            # add sent to dict as part of current section\n",
    "            sent_idx_2_section_name[idx_sent] = dict_chapter_2_section[current_section_idx]\n",
    "            # reset token counter and current section idx for next sent iteration\n",
    "            token_counter = 0\n",
    "            current_section_idx += 1\n",
    "        else: # token_counter > current_chapter_length, i.e. we've crossed a section boundary\n",
    "            print(idx_sent)\n",
    "            # add sent to current section and next section\n",
    "            sent_idx_2_section_name[idx_sent] = [\n",
    "                dict_chapter_2_section[current_section_idx], \n",
    "                dict_chapter_2_section[current_section_idx+1]]\n",
    "            # adjust token counter by only including portion of sent in new section\n",
    "            token_counter = token_counter - current_chapter_length\n",
    "            # update current section idx for next sent iteration\n",
    "            current_section_idx += 1\n",
    "    return sent_idx_2_section_name"
   ]
  },
  {
   "cell_type": "code",
   "execution_count": 438,
   "id": "e8a8714d-cc9c-40a9-bbfc-05e636019e13",
   "metadata": {},
   "outputs": [],
   "source": [
    "# path_out = \"/home/craig.car/repos/chiron/align_texts_project/data/lucretius/en1893_sent2section_dict_jul25_NEW.json\"\n",
    "# with open(path_out, 'w') as fp:\n",
    "#     json.dump(en1893_sent2section_name_TEST, fp)"
   ]
  },
  {
   "cell_type": "markdown",
   "id": "ee900003-6994-431a-b336-0ef9016d70c3",
   "metadata": {},
   "source": [
    "## TEST DICT: sent2section_name full edition"
   ]
  },
  {
   "cell_type": "code",
   "execution_count": null,
   "id": "75133f0f-986d-4b63-9113-d670da72f9db",
   "metadata": {},
   "outputs": [],
   "source": [
    "# Foreword\n",
    "for keys in range(0,140):\n",
    "    if en1893_sent2section_name_TEST[keys] != \"foreword\":\n",
    "        print(keys)"
   ]
  },
  {
   "cell_type": "code",
   "execution_count": null,
   "id": "a76ebf30-b886-45c7-945c-df5009bdcede",
   "metadata": {},
   "outputs": [],
   "source": []
  }
 ],
 "metadata": {
  "kernelspec": {
   "display_name": "Python 3 (ipykernel)",
   "language": "python",
   "name": "python3"
  },
  "language_info": {
   "codemirror_mode": {
    "name": "ipython",
    "version": 3
   },
   "file_extension": ".py",
   "mimetype": "text/x-python",
   "name": "python",
   "nbconvert_exporter": "python",
   "pygments_lexer": "ipython3",
   "version": "3.10.10"
  },
  "toc-autonumbering": false
 },
 "nbformat": 4,
 "nbformat_minor": 5
}
