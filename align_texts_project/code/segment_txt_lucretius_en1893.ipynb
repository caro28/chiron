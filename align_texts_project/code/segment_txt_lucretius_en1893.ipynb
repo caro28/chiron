{
 "cells": [
  {
   "cell_type": "code",
   "execution_count": 1263,
   "id": "a30843f4-e2c1-4046-a3e8-2385c87ff01f",
   "metadata": {},
   "outputs": [],
   "source": [
    "import re\n",
    "import json\n",
    "import stanza\n",
    "\n",
    "import numpy as np\n",
    "import pandas as pd\n",
    "\n",
    "from itertools import chain\n",
    "from ast import literal_eval\n",
    "\n",
    "from preprocessing_functions import load_txt_as_lst, split_txt, \\\n",
    "run_stanza, flatten_list, segment_series, preprocess_series, write_file"
   ]
  },
  {
   "cell_type": "markdown",
   "id": "2a443775-ccb1-42ae-8fba-5969040def1a",
   "metadata": {},
   "source": [
    "# Lucretius en1893 no section markers"
   ]
  },
  {
   "cell_type": "code",
   "execution_count": 2,
   "id": "345adf8f-c3d0-4706-93ee-ef5b24abec80",
   "metadata": {},
   "outputs": [],
   "source": [
    "raw_str_path = \"/home/craig.car/repos/chiron/align_texts_project/data/lucretius/lucretius_en1893_str.txt\"\n",
    "en1893_raw_lst = load_txt_as_lst(raw_str_path)"
   ]
  },
  {
   "cell_type": "code",
   "execution_count": 3,
   "id": "21becea2-cceb-4a68-bbe8-eae3c253a722",
   "metadata": {},
   "outputs": [
    {
     "data": {
      "text/plain": [
       "['REMARKS\\n',\n",
       " '\\n',\n",
       " 'ON THE\\n',\n",
       " '   LIFE AND POEM OF LUCRETIUS.\\n',\n",
       " '  OF the life of Lucretius but little information has reached us.  Ad nos vix tenuis famæ perlabitur aura.\\n',\n",
       " '\\n',\n",
       " 'That he was a Roman by birth, is inferred from the pas  sages in his poem in which he speaks of the Roman world as  his country,1 and of the Roman language as his native tongue.2\\n',\n",
       " '\\n',\n",
       " 'As to the time of his birth, it is stated by Eusebius in his  Chronicon, that he was born in the second year of the hundred  and seventy-first Olympiad, or ninety-five years before Christ.  At this period, Ennius had been dead about seventy years ;  Cicero was in his twelfth year; twenty-five years were to  elapse before the birth of Virgil, and four before that of Julius  Caesar. His style, indeed, would make him seem older, but  its antiquated character may be partly affected, in imitation,  perhaps, of Ennius, for whom he expresses great veneration.3\\n',\n",
       " '\\n']"
      ]
     },
     "execution_count": 3,
     "metadata": {},
     "output_type": "execute_result"
    }
   ],
   "source": [
    "en1893_raw_lst[:10]"
   ]
  },
  {
   "cell_type": "code",
   "execution_count": 4,
   "id": "ebcf11a6-c0df-4c77-bc3b-0cd270c9beac",
   "metadata": {},
   "outputs": [],
   "source": [
    "en1893_str = \" \".join(en1893_raw_lst)"
   ]
  },
  {
   "cell_type": "code",
   "execution_count": 5,
   "id": "d11de19b-d508-4619-8412-3d584805f448",
   "metadata": {},
   "outputs": [
    {
     "name": "stderr",
     "output_type": "stream",
     "text": [
      "2023-07-02 13:29:28 INFO: Checking for updates to resources.json in case models have been updated.  Note: this behavior can be turned off with download_method=None or download_method=DownloadMethod.REUSE_RESOURCES\n"
     ]
    },
    {
     "data": {
      "application/vnd.jupyter.widget-view+json": {
       "model_id": "eed9cb46524a48d581fa34937c3fa5ed",
       "version_major": 2,
       "version_minor": 0
      },
      "text/plain": [
       "Downloading https://raw.githubusercontent.com/stanfordnlp/stanza-resources/main/resources_1.5.0.json:   0%|   …"
      ]
     },
     "metadata": {},
     "output_type": "display_data"
    },
    {
     "name": "stderr",
     "output_type": "stream",
     "text": [
      "2023-07-02 13:29:28 INFO: Loading these models for language: en (English):\n",
      "========================\n",
      "| Processor | Package  |\n",
      "------------------------\n",
      "| tokenize  | combined |\n",
      "========================\n",
      "\n",
      "2023-07-02 13:29:28 WARNING: GPU requested, but is not available!\n",
      "2023-07-02 13:29:28 INFO: Using device: cpu\n",
      "2023-07-02 13:29:28 INFO: Loading: tokenize\n",
      "2023-07-02 13:29:28 INFO: Done loading processors!\n"
     ]
    }
   ],
   "source": [
    "# load stanza model for lang\n",
    "lang_ = \"en\"\n",
    "stanza_model_ = stanza.Pipeline(lang=lang_, processors='tokenize', use_gpu=True)"
   ]
  },
  {
   "cell_type": "code",
   "execution_count": 6,
   "id": "828e581a-174a-407f-b9e2-15cb7a9c7615",
   "metadata": {},
   "outputs": [
    {
     "name": "stdout",
     "output_type": "stream",
     "text": [
      "segmented str into sentences\n"
     ]
    }
   ],
   "source": [
    "en1983_sents = preprocess_series(en1893_str, \"en\", stanza_model_)"
   ]
  },
  {
   "cell_type": "code",
   "execution_count": 7,
   "id": "4a0e6d06-2096-4f97-9f30-232438792f70",
   "metadata": {},
   "outputs": [
    {
     "data": {
      "text/plain": [
       "13966"
      ]
     },
     "execution_count": 7,
     "metadata": {},
     "output_type": "execute_result"
    }
   ],
   "source": [
    "len(en1983_sents)"
   ]
  },
  {
   "cell_type": "code",
   "execution_count": 8,
   "id": "88e10112-d440-4600-9034-3624ce1ae94c",
   "metadata": {},
   "outputs": [
    {
     "data": {
      "text/plain": [
       "['REMARKS',\n",
       " 'ON THE',\n",
       " 'LIFE AND POEM OF LUCRETIUS.',\n",
       " 'OF the life of Lucretius but little information has reached us.',\n",
       " 'Ad nos vix tenuis famæ perlabitur aura.',\n",
       " 'That he was a Roman by birth, is inferred from the pas  sages in his poem in which he speaks of the Roman world as  his country,1 and of the Roman language as his native tongue.',\n",
       " '2',\n",
       " 'As to the time of his birth, it is stated by Eusebius in his  Chronicon, that he was born in the second year of the hundred  and seventy-first Olympiad, or ninety-five years before Christ.',\n",
       " 'At this period, Ennius had been dead about seventy years ;',\n",
       " 'Cicero was in his twelfth year;']"
      ]
     },
     "execution_count": 8,
     "metadata": {},
     "output_type": "execute_result"
    }
   ],
   "source": [
    "en1983_sents[:10]"
   ]
  },
  {
   "cell_type": "code",
   "execution_count": 9,
   "id": "0a66209d-7754-48f9-b612-3eb795734c92",
   "metadata": {},
   "outputs": [],
   "source": [
    "# path_out = \"/home/craig.car/repos/chiron/align_texts_project/data/lucretius/lucretius_en1893_sents.txt\"\n",
    "# write_file(en1983_sents, path_out)"
   ]
  },
  {
   "cell_type": "markdown",
   "id": "6405f540-9015-4675-af92-ca561dee12e8",
   "metadata": {},
   "source": [
    "# Lucretius en1893 with section markers"
   ]
  },
  {
   "cell_type": "code",
   "execution_count": 10,
   "id": "6915f758-a78b-4283-89b8-162040c8e8b0",
   "metadata": {},
   "outputs": [],
   "source": [
    "raw_path_markers = \"/home/craig.car/repos/chiron/align_texts_project/data/lucretius/lucretius_en1893_str_withsections.txt\"\n",
    "en1893_raw_lst_markers = load_txt_as_lst(raw_path_markers)"
   ]
  },
  {
   "cell_type": "code",
   "execution_count": 11,
   "id": "13f7f8ae-090b-4628-8d29-d6775672168b",
   "metadata": {},
   "outputs": [
    {
     "data": {
      "text/plain": [
       "['#@$% chapter= #@$%\\n',\n",
       " '\\n',\n",
       " '#@$%title#@$%REMARKS\\n',\n",
       " '\\n',\n",
       " '#@$%title#@$%ON THE\\n',\n",
       " '   #@$%title#@$%LIFE AND POEM OF LUCRETIUS.\\n',\n",
       " '  OF the life of Lucretius but little information has reached us.  Ad nos vix tenuis famæ perlabitur aura.\\n',\n",
       " '\\n',\n",
       " 'That he was a Roman by birth, is inferred from the pas  sages in his poem in which he speaks of the Roman world as  his country,1 and of the Roman language as his native tongue.2\\n',\n",
       " '\\n']"
      ]
     },
     "execution_count": 11,
     "metadata": {},
     "output_type": "execute_result"
    }
   ],
   "source": [
    "en1893_raw_lst_markers[:10]"
   ]
  },
  {
   "cell_type": "code",
   "execution_count": 12,
   "id": "f539a505-62e6-438b-9ddf-7e97e8340467",
   "metadata": {},
   "outputs": [],
   "source": [
    "en1893_str_markers = \" \".join(en1893_raw_lst_markers)"
   ]
  },
  {
   "cell_type": "code",
   "execution_count": 13,
   "id": "24cb6b4e-8570-42b9-8257-e4c2c2dd70e8",
   "metadata": {},
   "outputs": [
    {
     "data": {
      "text/plain": [
       "'#@$% chapter= #@$%\\n \\n #@$%title#@$%REMARKS\\n \\n #@$%title#@$%ON THE\\n    #@$%title#@$%LIFE AND POEM OF LUCRETIUS.\\n   OF the life of Lucretius but little information has reached us.  Ad nos vix tenuis famæ perlabitur aura.\\n \\n That he was a Roman by birth, is inferred from the pas  sages in his poem in which he speaks of the Roman world as  his country,1 and of the Roman language as his native tongue.2\\n \\n As to the time of his birth, it is stated by Eusebius in his  Chronicon, that he was born in the second year of the hundred  and seventy-first Olympiad, or ninety-five years before Christ.  At this period, Ennius had been dead about seventy years ;  Cicero was in his twelfth year; twenty-five years were to  elapse before the birth of Virgil, and four before that of Julius  Caesar. His style, indeed, would make him seem older, but  its antiquated character may be partly affected, in imitation,  perhaps, of Ennius, for whom he expresses great veneration.3\\n \\n Concerning his family nothing is '"
      ]
     },
     "execution_count": 13,
     "metadata": {},
     "output_type": "execute_result"
    }
   ],
   "source": [
    "en1893_str_markers[:1000]"
   ]
  },
  {
   "cell_type": "code",
   "execution_count": 14,
   "id": "27733e40-7e60-4423-931b-c06e0292e1b5",
   "metadata": {},
   "outputs": [],
   "source": [
    "en1893_str_markers = en1893_str_markers.replace(\"\\n\", \"\")"
   ]
  },
  {
   "cell_type": "code",
   "execution_count": 15,
   "id": "1cc17979-9229-445f-8572-698fb27cfd68",
   "metadata": {},
   "outputs": [
    {
     "data": {
      "text/plain": [
       "'#@$% chapter= #@$%  #@$%title#@$%REMARKS  #@$%title#@$%ON THE    #@$%title#@$%LIFE AND POEM OF LUCRETIUS.   OF the life of Lucretius but little information has reached us.  Ad nos vix tenuis famæ perlabitur aura.  That he was a Roman by birth, is inferred from the pas  sages in his poem in which he speaks of the Roman world as  his country,1 and of the Roman language as his native tongue.2  As to the time of his birth, it is stated by Eusebius in his  Chronicon, that he was born in the second year of the hundred  and seventy-first Olympiad, or ninety-five years before Christ.  At this period, Ennius had been dead about seventy years ;  Cicero was in his twelfth year; twenty-five years were to  elapse before the birth of Virgil, and four before that of Julius  Caesar. His style, indeed, would make him seem older, but  its antiquated character may be partly affected, in imitation,  perhaps, of Ennius, for whom he expresses great veneration.3  Concerning his family nothing is known. The n'"
      ]
     },
     "execution_count": 15,
     "metadata": {},
     "output_type": "execute_result"
    }
   ],
   "source": [
    "en1893_str_markers[:1000]"
   ]
  },
  {
   "cell_type": "markdown",
   "id": "e0c9d8fa-859d-4e63-bca8-745f4381df72",
   "metadata": {},
   "source": [
    "## Split by section (including chapters)\n",
    "Note: \"#@$%\" added at beginning and end of section markers when extracting text from xml"
   ]
  },
  {
   "cell_type": "code",
   "execution_count": 16,
   "id": "214e56e0-ba84-4897-b945-41ba4fd39cb3",
   "metadata": {},
   "outputs": [],
   "source": [
    "en1893_str_markers_split = en1893_str_markers.split(\"#@$%\")"
   ]
  },
  {
   "cell_type": "code",
   "execution_count": 17,
   "id": "73d28f15-0ec1-44a9-a9d5-97714b964aba",
   "metadata": {
    "tags": []
   },
   "outputs": [
    {
     "data": {
      "text/plain": [
       "['',\n",
       " ' chapter= ',\n",
       " '  ',\n",
       " 'title',\n",
       " 'REMARKS  ',\n",
       " 'title',\n",
       " 'ON THE    ',\n",
       " 'title',\n",
       " 'LIFE AND POEM OF LUCRETIUS.   OF the life of Lucretius but little information has reached us.  Ad nos vix tenuis famæ perlabitur aura.  That he was a Roman by birth, is inferred from the pas  sages in his poem in which he speaks of the Roman world as  his country,1 and of the Roman language as his native tongue.2  As to the time of his birth, it is stated by Eusebius in his  Chronicon, that he was born in the second year of the hundred  and seventy-first Olympiad, or ninety-five years before Christ.  At this period, Ennius had been dead about seventy years ;  Cicero was in his twelfth year; twenty-five years were to  elapse before the birth of Virgil, and four before that of Julius  Caesar. His style, indeed, would make him seem older, but  its antiquated character may be partly affected, in imitation,  perhaps, of Ennius, for whom he expresses great veneration.3  Concerning his family nothing is known. The name of  Lucretius, from the time of Lucretia downwards, occurs fre  quently in the history of Rome, with the surnames Tricipiti  nus, Cinna, Ofella, and others, attached to it; but with whom  the poet was connected, or from whom descended, it is impossi  ble to discover. There was a Lucretius Vespillo contemporary  with him, a senator, mentioned by Cicero and Caesar,5 of  whom Lambinus conjectures that he may have been the  brother; suggesting that the one brother, by engaging in  public life, might have attained senatorial dignity, while the  other, devoting himself to literature and retirement, might have ',\n",
       " 'note',\n",
       " ' 1 Nam neque nos agere hoc patriai tempore iniquo, etc. i. 42. ',\n",
       " 'note_end',\n",
       " ' ',\n",
       " 'note',\n",
       " ' 2 I. 31; ii. 259. ',\n",
       " 'note_end',\n",
       " ' ',\n",
       " 'note',\n",
       " '2 I. 118. ',\n",
       " 'note_end']"
      ]
     },
     "execution_count": 17,
     "metadata": {},
     "output_type": "execute_result"
    }
   ],
   "source": [
    "en1893_str_markers_split[:20]"
   ]
  },
  {
   "cell_type": "code",
   "execution_count": 18,
   "id": "af349436-97b8-4427-9311-4d070c7c5298",
   "metadata": {},
   "outputs": [],
   "source": [
    "# define patterns\n",
    "chapter_marker = re.compile(\" chapter= \") # 4: commentary, prose translation, metric translation, index\n",
    "title_marker = re.compile(\"title\")\n",
    "title_commentary = re.compile(\"ARGUMENT\") # startswith\n",
    "title_book = re.compile(\"BOOK\")\n",
    "title_index = re.compile(\"INDEX.\")\n",
    "para_end = re.compile(\"paragraph end\")\n",
    "note_start = re.compile(\"note\")\n",
    "note_end = re.compile(\"note_end\")"
   ]
  },
  {
   "cell_type": "code",
   "execution_count": 19,
   "id": "0ccc16a3-cab9-4317-ab55-558782c458cc",
   "metadata": {},
   "outputs": [],
   "source": [
    "test = \"ARGUMENT. asoidau\""
   ]
  },
  {
   "cell_type": "code",
   "execution_count": 20,
   "id": "a3077652-8bf2-463c-9cb4-8baa1e58362c",
   "metadata": {},
   "outputs": [
    {
     "data": {
      "text/plain": [
       "True"
      ]
     },
     "execution_count": 20,
     "metadata": {},
     "output_type": "execute_result"
    }
   ],
   "source": [
    "test.startswith(\"ARGUMENT.\")"
   ]
  },
  {
   "cell_type": "code",
   "execution_count": 21,
   "id": "fc5ce4aa-ea49-4364-9d08-9e6753316942",
   "metadata": {},
   "outputs": [
    {
     "data": {
      "text/plain": [
       "5765"
      ]
     },
     "execution_count": 21,
     "metadata": {},
     "output_type": "execute_result"
    }
   ],
   "source": [
    "len(en1893_str_markers_split)"
   ]
  },
  {
   "cell_type": "code",
   "execution_count": 22,
   "id": "b7645fad-d4b5-4913-b356-1252fa3a6dc5",
   "metadata": {},
   "outputs": [],
   "source": [
    "chapteridx2chaptername = {}\n",
    "chapteridx2chaptername[0] = \"foreword\"\n",
    "chapteridx2chaptername[1] = \"prose_translation\"\n",
    "chapteridx2chaptername[2] = \"metric_translation\"\n",
    "chapteridx2chaptername[3] = \"index\""
   ]
  },
  {
   "cell_type": "code",
   "execution_count": 23,
   "id": "d74395c1-b405-4570-bdab-c89d8a66e274",
   "metadata": {},
   "outputs": [
    {
     "data": {
      "text/plain": [
       "['',\n",
       " ' chapter= ',\n",
       " '  ',\n",
       " 'title',\n",
       " 'REMARKS  ',\n",
       " 'title',\n",
       " 'ON THE    ',\n",
       " 'title',\n",
       " 'LIFE AND POEM OF LUCRETIUS.   OF the life of Lucretius but little information has reached us.  Ad nos vix tenuis famæ perlabitur aura.  That he was a Roman by birth, is inferred from the pas  sages in his poem in which he speaks of the Roman world as  his country,1 and of the Roman language as his native tongue.2  As to the time of his birth, it is stated by Eusebius in his  Chronicon, that he was born in the second year of the hundred  and seventy-first Olympiad, or ninety-five years before Christ.  At this period, Ennius had been dead about seventy years ;  Cicero was in his twelfth year; twenty-five years were to  elapse before the birth of Virgil, and four before that of Julius  Caesar. His style, indeed, would make him seem older, but  its antiquated character may be partly affected, in imitation,  perhaps, of Ennius, for whom he expresses great veneration.3  Concerning his family nothing is known. The name of  Lucretius, from the time of Lucretia downwards, occurs fre  quently in the history of Rome, with the surnames Tricipiti  nus, Cinna, Ofella, and others, attached to it; but with whom  the poet was connected, or from whom descended, it is impossi  ble to discover. There was a Lucretius Vespillo contemporary  with him, a senator, mentioned by Cicero and Caesar,5 of  whom Lambinus conjectures that he may have been the  brother; suggesting that the one brother, by engaging in  public life, might have attained senatorial dignity, while the  other, devoting himself to literature and retirement, might have ',\n",
       " 'note',\n",
       " ' 1 Nam neque nos agere hoc patriai tempore iniquo, etc. i. 42. ',\n",
       " 'note_end',\n",
       " ' ',\n",
       " 'note',\n",
       " ' 2 I. 31; ii. 259. ',\n",
       " 'note_end',\n",
       " ' ',\n",
       " 'note',\n",
       " '2 I. 118. ',\n",
       " 'note_end',\n",
       " ' ',\n",
       " 'note',\n",
       " '4 Cic. Brut. c. 48. ',\n",
       " 'note_end',\n",
       " ' ']"
      ]
     },
     "execution_count": 23,
     "metadata": {},
     "output_type": "execute_result"
    }
   ],
   "source": [
    "en1893_str_markers_split[:25]"
   ]
  },
  {
   "cell_type": "markdown",
   "id": "1926f3ce-9600-453c-bfd9-0587e84221b0",
   "metadata": {
    "jp-MarkdownHeadingCollapsed": true,
    "tags": []
   },
   "source": [
    "## remove empty strings"
   ]
  },
  {
   "cell_type": "code",
   "execution_count": 24,
   "id": "7b9bf5e7-215c-445a-8cd0-552795cce429",
   "metadata": {},
   "outputs": [
    {
     "data": {
      "text/html": [
       "<div>\n",
       "<style scoped>\n",
       "    .dataframe tbody tr th:only-of-type {\n",
       "        vertical-align: middle;\n",
       "    }\n",
       "\n",
       "    .dataframe tbody tr th {\n",
       "        vertical-align: top;\n",
       "    }\n",
       "\n",
       "    .dataframe thead th {\n",
       "        text-align: right;\n",
       "    }\n",
       "</style>\n",
       "<table border=\"1\" class=\"dataframe\">\n",
       "  <thead>\n",
       "    <tr style=\"text-align: right;\">\n",
       "      <th></th>\n",
       "      <th>0</th>\n",
       "    </tr>\n",
       "  </thead>\n",
       "  <tbody>\n",
       "    <tr>\n",
       "      <th>0</th>\n",
       "      <td></td>\n",
       "    </tr>\n",
       "    <tr>\n",
       "      <th>1</th>\n",
       "      <td>chapter=</td>\n",
       "    </tr>\n",
       "    <tr>\n",
       "      <th>2</th>\n",
       "      <td></td>\n",
       "    </tr>\n",
       "    <tr>\n",
       "      <th>3</th>\n",
       "      <td>title</td>\n",
       "    </tr>\n",
       "    <tr>\n",
       "      <th>4</th>\n",
       "      <td>REMARKS</td>\n",
       "    </tr>\n",
       "  </tbody>\n",
       "</table>\n",
       "</div>"
      ],
      "text/plain": [
       "            0\n",
       "0            \n",
       "1   chapter= \n",
       "2            \n",
       "3       title\n",
       "4   REMARKS  "
      ]
     },
     "execution_count": 24,
     "metadata": {},
     "output_type": "execute_result"
    }
   ],
   "source": [
    "df = pd.DataFrame(en1893_str_markers_split)\n",
    "df.head()"
   ]
  },
  {
   "cell_type": "code",
   "execution_count": 25,
   "id": "3b4bb6dc-5814-4402-bb23-c53bed2611ec",
   "metadata": {},
   "outputs": [
    {
     "data": {
      "text/plain": [
       "(5765, 1)"
      ]
     },
     "execution_count": 25,
     "metadata": {},
     "output_type": "execute_result"
    }
   ],
   "source": [
    "df.shape"
   ]
  },
  {
   "cell_type": "code",
   "execution_count": 26,
   "id": "543f3755-8894-4a50-894c-d601f879f751",
   "metadata": {},
   "outputs": [
    {
     "data": {
      "text/plain": [
       "0    0\n",
       "dtype: int64"
      ]
     },
     "execution_count": 26,
     "metadata": {},
     "output_type": "execute_result"
    }
   ],
   "source": [
    "df.isna().sum()"
   ]
  },
  {
   "cell_type": "code",
   "execution_count": 27,
   "id": "4ca9da19-f989-42dd-bc9d-1eb80d42d536",
   "metadata": {},
   "outputs": [],
   "source": [
    "df[0].replace(\"   \", np.nan, inplace=True)\n",
    "df[0].replace(\"  \", np.nan, inplace=True)\n",
    "df[0].replace(\" \", np.nan, inplace=True)\n",
    "df[0].replace(\"\", np.nan, inplace=True)"
   ]
  },
  {
   "cell_type": "code",
   "execution_count": 28,
   "id": "f739ea4e-b7db-4dfe-88ed-170264755b7d",
   "metadata": {},
   "outputs": [
    {
     "data": {
      "text/plain": [
       "0    1238\n",
       "dtype: int64"
      ]
     },
     "execution_count": 28,
     "metadata": {},
     "output_type": "execute_result"
    }
   ],
   "source": [
    "df.isna().sum()"
   ]
  },
  {
   "cell_type": "code",
   "execution_count": 29,
   "id": "0b21dc6f-8f85-4165-bd99-0912f562c86c",
   "metadata": {},
   "outputs": [],
   "source": [
    "df.dropna(inplace=True)"
   ]
  },
  {
   "cell_type": "code",
   "execution_count": 30,
   "id": "0319d0f9-5fe5-4b55-ba3f-dcc1a8560c0f",
   "metadata": {},
   "outputs": [
    {
     "data": {
      "text/html": [
       "<div>\n",
       "<style scoped>\n",
       "    .dataframe tbody tr th:only-of-type {\n",
       "        vertical-align: middle;\n",
       "    }\n",
       "\n",
       "    .dataframe tbody tr th {\n",
       "        vertical-align: top;\n",
       "    }\n",
       "\n",
       "    .dataframe thead th {\n",
       "        text-align: right;\n",
       "    }\n",
       "</style>\n",
       "<table border=\"1\" class=\"dataframe\">\n",
       "  <thead>\n",
       "    <tr style=\"text-align: right;\">\n",
       "      <th></th>\n",
       "      <th>0</th>\n",
       "    </tr>\n",
       "  </thead>\n",
       "  <tbody>\n",
       "    <tr>\n",
       "      <th>1</th>\n",
       "      <td>chapter=</td>\n",
       "    </tr>\n",
       "    <tr>\n",
       "      <th>3</th>\n",
       "      <td>title</td>\n",
       "    </tr>\n",
       "    <tr>\n",
       "      <th>4</th>\n",
       "      <td>REMARKS</td>\n",
       "    </tr>\n",
       "    <tr>\n",
       "      <th>5</th>\n",
       "      <td>title</td>\n",
       "    </tr>\n",
       "    <tr>\n",
       "      <th>6</th>\n",
       "      <td>ON THE</td>\n",
       "    </tr>\n",
       "  </tbody>\n",
       "</table>\n",
       "</div>"
      ],
      "text/plain": [
       "            0\n",
       "1   chapter= \n",
       "3       title\n",
       "4   REMARKS  \n",
       "5       title\n",
       "6  ON THE    "
      ]
     },
     "execution_count": 30,
     "metadata": {},
     "output_type": "execute_result"
    }
   ],
   "source": [
    "df.head()"
   ]
  },
  {
   "cell_type": "code",
   "execution_count": 31,
   "id": "b24704ec-147d-4b75-9c3e-243c7b6271f6",
   "metadata": {},
   "outputs": [
    {
     "data": {
      "text/plain": [
       "(4527, 1)"
      ]
     },
     "execution_count": 31,
     "metadata": {},
     "output_type": "execute_result"
    }
   ],
   "source": [
    "df.shape"
   ]
  },
  {
   "cell_type": "code",
   "execution_count": 32,
   "id": "644c2dff-5650-4f2c-946e-32f05de507c5",
   "metadata": {},
   "outputs": [],
   "source": [
    "en1893_str_markers_split = list(df[0])"
   ]
  },
  {
   "cell_type": "code",
   "execution_count": 33,
   "id": "dc6c4f05-4fa0-42e8-8297-2e9106b39eb6",
   "metadata": {
    "tags": []
   },
   "outputs": [
    {
     "data": {
      "text/plain": [
       "' 2 I. 31; ii. 259. '"
      ]
     },
     "execution_count": 33,
     "metadata": {},
     "output_type": "execute_result"
    }
   ],
   "source": [
    "en1893_str_markers_split[11]"
   ]
  },
  {
   "cell_type": "markdown",
   "id": "f1c996f4-ce03-4114-ad43-6bc2447707e4",
   "metadata": {},
   "source": [
    "## Reconstruct text without markers"
   ]
  },
  {
   "cell_type": "code",
   "execution_count": 1234,
   "id": "33843542-dae7-4282-8af7-728282561f73",
   "metadata": {
    "tags": []
   },
   "outputs": [],
   "source": [
    "en_reconstructed = []\n",
    "en_reconstructed_idx = -1\n",
    "\n",
    "chapter_counter = -1\n",
    "chap2idx_start = {}\n",
    "\n",
    "book_counter = 0\n",
    "\n",
    "idx2section_name = {}\n",
    "\n",
    "hit_section_marker = False\n",
    "\n",
    "lst = []\n",
    "\n",
    "for section_idx, section in enumerate(en1893_str_markers_split):\n",
    "    lst.append(hit_section_marker)\n",
    "    \n",
    "    if section == \"\":\n",
    "        continue\n",
    "    elif section == \" \":\n",
    "        continue\n",
    "    elif section == \"  \":\n",
    "        continue\n",
    "        \n",
    "    # if section is chapter marker\n",
    "    elif re.match(chapter_marker, section):\n",
    "        # increment chapter counter\n",
    "        chapter_counter += 1\n",
    "        # reset book counter\n",
    "        book_counter = 0\n",
    "        # mark idx of en_reconstructed where chapter starts\n",
    "        chap2idx_start[chapter_counter] = en_reconstructed_idx\n",
    "    \n",
    "    # if section is title marker\n",
    "    elif re.match(title_marker, section):\n",
    "        hit_section_marker = True\n",
    "        # then next section is a title, which will be added to en_reconstructed\n",
    "        # label as title for titles that don't match instances below (index, book, argument)\n",
    "        label_nextitem = str(chapteridx2chaptername[chapter_counter]) + \"book\" + str(book_counter) + \"title\"\n",
    "        \n",
    "        # if title (next item in list) starts with \"INDEX\"\n",
    "        if en1893_str_markers_split[section_idx+1].startswith(\"INDEX.\"):\n",
    "            # index is in one section only; rename label\n",
    "            label_nextitem = \"index\"\n",
    "\n",
    "        # if next item in list starts with \"BOOK\"\n",
    "        elif en1893_str_markers_split[section_idx+1].startswith(\"BOOK\"):\n",
    "            # new book is starting\n",
    "            book_counter += 1\n",
    "            # rename label\n",
    "            label_nextitem = str(chapteridx2chaptername[chapter_counter]) + \"book\" + str(book_counter) + \"title\"\n",
    "        \n",
    "        # if next item in list starts with \"ARGUMENT\"\n",
    "        elif en1893_str_markers_split[section_idx+1].startswith(\"ARGUMENT\"):\n",
    "            # label as commentary\n",
    "            label_nextitem = str(chapteridx2chaptername[chapter_counter]) + \"book\" + str(book_counter) + \"commentary\"\n",
    "        \n",
    "        continue\n",
    "    \n",
    "    # if section marks the start of a note\n",
    "    # elif re.match(note_start, section):\n",
    "    elif section == \"note\":\n",
    "        if en1893_str_markers_split[section_idx+1] == \"note_end\":\n",
    "            hit_section_marker = False\n",
    "            continue\n",
    "        else:\n",
    "            hit_section_marker = True\n",
    "            # then next section is a footnote, add to en_reconstructed\n",
    "            label_nextitem = str(chapteridx2chaptername[chapter_counter]) + \"book\" + str(book_counter) + \"note\"\n",
    "    \n",
    "    elif re.match(note_end, section):\n",
    "        # do nothing; just there to separate footnote from following text\n",
    "        hit_section_marker = False\n",
    "        continue\n",
    "    \n",
    "    elif re.match(para_end, section):\n",
    "        # do nothing; just there to create separations in sections from raw text\n",
    "        hit_section_marker = False\n",
    "        continue\n",
    "    \n",
    "    else:\n",
    "        # all markers have been excluded; append to en_reconstructed\n",
    "        en_reconstructed.append(section)\n",
    "        en_reconstructed_idx += 1\n",
    "        \n",
    "        if hit_section_marker == True:\n",
    "            idx2section_name[en_reconstructed_idx] = label_nextitem\n",
    "            hit_section_marker = False\n",
    "            \n",
    "        else:\n",
    "            idx2section_name[en_reconstructed_idx] = str(chapteridx2chaptername[chapter_counter]) + \"book\" + str(book_counter)\n"
   ]
  },
  {
   "cell_type": "code",
   "execution_count": 1235,
   "id": "d217d6a1-0fbd-4359-b0be-f44867048e6c",
   "metadata": {},
   "outputs": [],
   "source": [
    "# fix errors here, then initialize en1983_sents_tokenized again\n",
    "for sent_idx, sent in enumerate(en_reconstructed):\n",
    "    en_reconstructed[sent_idx] = en_reconstructed[sent_idx].replace(\".”1\", \".” 1\")\n",
    "    en_reconstructed[sent_idx] = en_reconstructed[sent_idx].replace(\"tongue.2\", \"tongue. 2\")\n",
    "    en_reconstructed[sent_idx] = en_reconstructed[sent_idx].replace(\"veneration.3\", \"veneration. 3\")\n",
    "    en_reconstructed[sent_idx] = en_reconstructed[sent_idx].replace(\"insane.3\", \"insane. 3\")\n",
    "    en_reconstructed[sent_idx] = en_reconstructed[sent_idx].replace(\".1\", \". 1\")\n",
    "    en_reconstructed[sent_idx] = en_reconstructed[sent_idx].replace(\"opinion.3\", \"opinion. 3\")\n",
    "    en_reconstructed[sent_idx] = en_reconstructed[sent_idx].replace(\".7\", \". 7\")\n",
    "    en_reconstructed[sent_idx] = en_reconstructed[sent_idx].replace(\".2\", \". 2\")\n",
    "    en_reconstructed[sent_idx] = en_reconstructed[sent_idx].replace(\".4\", \". 4\")\n",
    "    en_reconstructed[sent_idx] = en_reconstructed[sent_idx].replace('language;\"', 'language; \"')\n",
    "    en_reconstructed[sent_idx] = en_reconstructed[sent_idx].replace('Lucretius;\"', 'Lucretius; \"')\n",
    "    en_reconstructed[sent_idx] = en_reconstructed[sent_idx].replace(\"?1\", \"? 1\")\n",
    "    en_reconstructed[sent_idx] = en_reconstructed[sent_idx].replace(\".5\", \". 5\")\n",
    "    en_reconstructed[sent_idx] = en_reconstructed[sent_idx].replace(\".6\", \". 6\")\n",
    "    en_reconstructed[sent_idx] = en_reconstructed[sent_idx].replace(\"It;.\", \"It; .\")\n",
    "    en_reconstructed[sent_idx] = en_reconstructed[sent_idx].replace(\":8\", \": 8\")\n",
    "    en_reconstructed[sent_idx] = en_reconstructed[sent_idx].replace(\".3\", \". 3\")\n",
    "    en_reconstructed[sent_idx] = en_reconstructed[sent_idx].replace(\":2\", \": 2\")\n",
    "    en_reconstructed[sent_idx] = en_reconstructed[sent_idx].replace(\"?2\", \"? 2\")\n",
    "    en_reconstructed[sent_idx] = en_reconstructed[sent_idx].replace('ἔχειπρός.”Wakefield.', 'ἔχειπρός. ”Wakefield.')\n",
    "    en_reconstructed[sent_idx] = en_reconstructed[sent_idx].replace(\"Tacitus. 11\", \"Tacitus.11\")\n",
    "    en_reconstructed[sent_idx] = en_reconstructed[sent_idx].replace('Æolia.”What', 'Æolia. ”What')\n",
    "    en_reconstructed[sent_idx] = en_reconstructed[sent_idx].replace('concerned).—', 'concerned). —')\n",
    "    en_reconstructed[sent_idx] = en_reconstructed[sent_idx].replace('.—', '. —')\n",
    "    en_reconstructed[sent_idx] = en_reconstructed[sent_idx].replace(\"nix.—Are\", \"nix. —Are\")\n",
    "    en_reconstructed[sent_idx] = en_reconstructed[sent_idx].replace(\"improvida.—Find\", \"improvida. —Find\")\n",
    "    en_reconstructed[sent_idx] = en_reconstructed[sent_idx].replace(\";\", \"; \")\n",
    "    en_reconstructed[sent_idx] = en_reconstructed[sent_idx].replace(\"fleshes.”\", \"fleshes. ”\")\n",
    "    en_reconstructed[sent_idx] = en_reconstructed[sent_idx].replace(\".]Ver\", \".] Ver\")\n",
    "    en_reconstructed[sent_idx] = en_reconstructed[sent_idx].replace(\":so\", \": so\")\n",
    "    en_reconstructed[sent_idx] = en_reconstructed[sent_idx].replace(\"flumina. —“\", \"flumina.—“\")\n",
    "    en_reconstructed[sent_idx] = en_reconstructed[sent_idx].replace(\"armis.–Fortè\", \"armis. –Fortè\")\n",
    "    en_reconstructed[sent_idx] = en_reconstructed[sent_idx].replace(\"—But\", \"— But\")\n",
    "    en_reconstructed[sent_idx] = en_reconstructed[sent_idx].replace(\"—Or\", \"— Or\")\n",
    "    en_reconstructed[sent_idx] = en_reconstructed[sent_idx].replace(\"minds.\", \"minds. \")\n",
    "    en_reconstructed[sent_idx] = en_reconstructed[sent_idx].replace(':\"', ': \"')\n",
    "    en_reconstructed[sent_idx] = en_reconstructed[sent_idx].replace('first.-The', 'first. -The')\n",
    "    en_reconstructed[sent_idx] = en_reconstructed[sent_idx].replace(':)', ': )')\n",
    "    en_reconstructed[sent_idx] = en_reconstructed[sent_idx].replace('body. ——I', 'body.— —I')\n",
    "    en_reconstructed[sent_idx] = en_reconstructed[sent_idx].replace('curtains. —“', 'curtains.—“')\n",
    "    en_reconstructed[sent_idx] = en_reconstructed[sent_idx].replace('593. —\"', '593.—\"')\n",
    "    en_reconstructed[sent_idx] = en_reconstructed[sent_idx].replace('borne. 3', 'borne.3')\n",
    "    en_reconstructed[sent_idx] = en_reconstructed[sent_idx].replace('words.J', 'words. J')\n",
    "    en_reconstructed[sent_idx] = en_reconstructed[sent_idx].replace('compose. 1', 'compose.1')\n",
    "    en_reconstructed[sent_idx] = en_reconstructed[sent_idx].replace(\"systems.”Whewell's\", \"systems. ”Whewell's\")\n",
    "    en_reconstructed[sent_idx] = en_reconstructed[sent_idx].replace('life?3', 'life? 3')\n",
    "    en_reconstructed[sent_idx] = en_reconstructed[sent_idx].replace(\"? 1  Or,\", \"?1 Or,\")\n",
    "    en_reconstructed[sent_idx] = en_reconstructed[sent_idx].replace('true.]1', 'true.] 1')\n",
    "    en_reconstructed[sent_idx] = en_reconstructed[sent_idx].replace('Phil. i. 1. 1.', 'Phil. i. 1.1.')\n",
    "    en_reconstructed[sent_idx] = en_reconstructed[sent_idx].replace('up. 1 adhering', 'up.1 adhering')\n",
    "    en_reconstructed[sent_idx] = en_reconstructed[sent_idx].replace('6, 6. —With', '6, 6.—With')\n",
    "    en_reconstructed[sent_idx] = en_reconstructed[sent_idx].replace('THE YEAR. 3', 'THE YEAR.3')\n",
    "    en_reconstructed[sent_idx] = en_reconstructed[sent_idx].replace('elbows?3', 'elbows? 3')\n",
    "    en_reconstructed[sent_idx] = en_reconstructed[sent_idx].replace(':—idem', ': —idem')\n",
    "    en_reconstructed[sent_idx] = en_reconstructed[sent_idx].replace('moisture.-Motion', 'moisture. -Motion')\n",
    "    en_reconstructed[sent_idx] = en_reconstructed[sent_idx].replace('ENTIRE WHOLE. 1', 'ENTIRE WHOLE.1')\n",
    "    en_reconstructed[sent_idx] = en_reconstructed[sent_idx].replace('sui.”Aul.Gell.', 'sui. ”Aul. Gell.')\n",
    "    en_reconstructed[sent_idx] = en_reconstructed[sent_idx].replace('itself?3', 'itself? 3')\n",
    "    en_reconstructed[sent_idx] = en_reconstructed[sent_idx].replace('sun?4', 'sun? 4')\n",
    "    en_reconstructed[sent_idx] = en_reconstructed[sent_idx].replace('day :—', 'day : —')\n",
    "    en_reconstructed[sent_idx] = en_reconstructed[sent_idx].replace('every nerve. — ', 'every nerve.—')\n",
    "    en_reconstructed[sent_idx] = en_reconstructed[sent_idx].replace('fury !— But', 'fury ! —But')\n",
    "    en_reconstructed[sent_idx] = en_reconstructed[sent_idx].replace('flame. —', 'flame.—')\n",
    "    en_reconstructed[sent_idx] = en_reconstructed[sent_idx].replace('concealed. —', 'concealed.—')\n",
    "    en_reconstructed[sent_idx] = en_reconstructed[sent_idx].replace('rose:-', 'rose: -')\n",
    "    en_reconstructed[sent_idx] = en_reconstructed[sent_idx].replace('exhaustion:—such', 'exhaustion: —such')\n",
    "    en_reconstructed[sent_idx] = en_reconstructed[sent_idx].replace('beneath.-On', 'beneath. -On')\n",
    "    en_reconstructed[sent_idx] = en_reconstructed[sent_idx].replace('bring:-', 'bring: -')\n",
    "    en_reconstructed[sent_idx] = en_reconstructed[sent_idx].replace('Corporeal:—hence', 'Corporeal: —hence')\n",
    "    en_reconstructed[sent_idx] = en_reconstructed[sent_idx].replace(':-can', ': -can')\n",
    "    en_reconstructed[sent_idx] = en_reconstructed[sent_idx].replace(':-a', ': -a')\n",
    "    en_reconstructed[sent_idx] = en_reconstructed[sent_idx].replace(':-by', ': -by')\n",
    "    en_reconstructed[sent_idx] = en_reconstructed[sent_idx].replace('.And', '. And')\n",
    "    en_reconstructed[sent_idx] = en_reconstructed[sent_idx].replace('death.-Since', 'death. -Since')\n",
    "    en_reconstructed[sent_idx] = en_reconstructed[sent_idx].replace(':-some', ': -some')\n",
    "    en_reconstructed[sent_idx] = en_reconstructed[sent_idx].replace('ever!\"— But', 'ever!\" —But')\n",
    "    en_reconstructed[sent_idx] = en_reconstructed[sent_idx].replace('peace. —', 'peace.—')\n",
    "    en_reconstructed[sent_idx] = en_reconstructed[sent_idx].replace('aid.-No', 'aid. -No')\n",
    "    en_reconstructed[sent_idx] = en_reconstructed[sent_idx].replace('man. —', 'man.—')\n",
    "    en_reconstructed[sent_idx] = en_reconstructed[sent_idx].replace('?or', '? or')\n",
    "    en_reconstructed[sent_idx] = en_reconstructed[sent_idx].replace(':-it', ': -it')\n",
    "    en_reconstructed[sent_idx] = en_reconstructed[sent_idx].replace('ill. —', 'ill.—')\n",
    "    en_reconstructed[sent_idx] = en_reconstructed[sent_idx].replace('prevail.-Thus', 'prevail. -Thus')\n",
    "    en_reconstructed[sent_idx] = en_reconstructed[sent_idx].replace(':-for', ': -for')\n",
    "    en_reconstructed[sent_idx] = en_reconstructed[sent_idx].replace('well-spring:—creed', 'well-spring: —creed')\n",
    "    en_reconstructed[sent_idx] = en_reconstructed[sent_idx].replace(':different', ': different')\n",
    "    en_reconstructed[sent_idx] = en_reconstructed[sent_idx].replace('an:!', 'an: !')\n",
    "    en_reconstructed[sent_idx] = en_reconstructed[sent_idx].replace('v. 2. 5', 'v. 2.5')\n",
    "    en_reconstructed[sent_idx] = en_reconstructed[sent_idx].replace('v. 1116;', 'v.1116;')\n",
    "    en_reconstructed[sent_idx] = en_reconstructed[sent_idx].replace('1. 57,', '1.57,')\n",
    "    en_reconstructed[sent_idx] = en_reconstructed[sent_idx].replace(':voluntary', ': voluntary')\n",
    "    en_reconstructed[sent_idx] = en_reconstructed[sent_idx].replace('ib. ;   grow', 'ib. grow')\n",
    "    en_reconstructed[sent_idx] = en_reconstructed[sent_idx].replace('in, v. 30', 'in, v.30')    "
   ]
  },
  {
   "cell_type": "markdown",
   "id": "f37d95f8-684a-4af5-8b8b-796ddfae8ede",
   "metadata": {},
   "source": [
    "# Tokenize en1893 with and without section markers"
   ]
  },
  {
   "cell_type": "code",
   "execution_count": 1239,
   "id": "df4a2516-462d-4b08-985e-8f6530218d88",
   "metadata": {},
   "outputs": [],
   "source": [
    "en1983_sents_tokenized = []\n",
    "for idx, sent in enumerate(en1983_sents):\n",
    "    en1983_sents_tokenized.append(sent.split())"
   ]
  },
  {
   "cell_type": "code",
   "execution_count": 1240,
   "id": "4ca931f3-72af-41e2-b581-e248ced3992a",
   "metadata": {},
   "outputs": [],
   "source": [
    "en_reconstructed_tokenized = []\n",
    "for idx, sent in enumerate(en_reconstructed):\n",
    "    en_reconstructed_tokenized.append(sent.split())"
   ]
  },
  {
   "cell_type": "code",
   "execution_count": 1241,
   "id": "8a9437bb-b7dd-47da-8699-e3614210b776",
   "metadata": {},
   "outputs": [],
   "source": [
    "num_tokens_sents = 0\n",
    "for sent in en1983_sents_tokenized:\n",
    "    num_tokens_sents += len(sent)\n",
    "\n",
    "num_tokens_chapts = 0\n",
    "for sent in en_reconstructed_tokenized:\n",
    "    num_tokens_chapts += len(sent)"
   ]
  },
  {
   "cell_type": "code",
   "execution_count": 1242,
   "id": "6fe5131e-bffd-4342-bdb7-ce7962153479",
   "metadata": {},
   "outputs": [
    {
     "data": {
      "text/plain": [
       "True"
      ]
     },
     "execution_count": 1242,
     "metadata": {},
     "output_type": "execute_result"
    }
   ],
   "source": [
    "num_tokens_chapts == num_tokens_sents"
   ]
  },
  {
   "cell_type": "code",
   "execution_count": 1243,
   "id": "334889e9-a227-4826-bcba-34574dea494d",
   "metadata": {},
   "outputs": [
    {
     "name": "stdout",
     "output_type": "stream",
     "text": [
      "202635\n",
      "202635\n"
     ]
    }
   ],
   "source": [
    "print(num_tokens_chapts)\n",
    "print(num_tokens_sents)"
   ]
  },
  {
   "cell_type": "markdown",
   "id": "1a9ff2af-cdff-453c-b1a2-2142fa9c1ab0",
   "metadata": {},
   "source": [
    "## Find data errors in tokenized docs"
   ]
  },
  {
   "cell_type": "code",
   "execution_count": 1244,
   "id": "2ff6d018-d9f5-4893-8767-da4c1bc91030",
   "metadata": {},
   "outputs": [],
   "source": [
    "en1983_tokens_from_sents = flatten_list(en1983_sents_tokenized)\n",
    "en1983_tokens_from_chapts = flatten_list(en_reconstructed_tokenized)"
   ]
  },
  {
   "cell_type": "code",
   "execution_count": 1245,
   "id": "83e0a1c2-eb82-4ece-ae53-8bd01457618c",
   "metadata": {},
   "outputs": [
    {
     "data": {
      "text/plain": [
       "True"
      ]
     },
     "execution_count": 1245,
     "metadata": {},
     "output_type": "execute_result"
    }
   ],
   "source": [
    "en1983_tokens_from_sents == en1983_tokens_from_chapts"
   ]
  },
  {
   "cell_type": "code",
   "execution_count": 1246,
   "id": "fecf023f-dbc3-43c1-843d-04f200a557ba",
   "metadata": {},
   "outputs": [
    {
     "data": {
      "text/plain": [
       "['in,', 'v.30', 'Thunder,', 'not', 'supernatural,', 'vi.']"
      ]
     },
     "execution_count": 1246,
     "metadata": {},
     "output_type": "execute_result"
    }
   ],
   "source": [
    "en1983_tokens_from_sents[201703:201709]"
   ]
  },
  {
   "cell_type": "code",
   "execution_count": 1247,
   "id": "1fe9ae6a-4d88-4f89-9fdf-a5083cff9afc",
   "metadata": {},
   "outputs": [
    {
     "data": {
      "text/plain": [
       "['in,', 'v.30', 'Thunder,', 'not', 'supernatural,', 'vi.']"
      ]
     },
     "execution_count": 1247,
     "metadata": {},
     "output_type": "execute_result"
    }
   ],
   "source": [
    "en1983_tokens_from_chapts[201703:201709]"
   ]
  },
  {
   "cell_type": "code",
   "execution_count": 1248,
   "id": "c3c67411-b05a-4f1c-9007-701a01b49320",
   "metadata": {
    "tags": []
   },
   "outputs": [],
   "source": [
    "for idx, token in enumerate(en1983_tokens_from_chapts):\n",
    "    if token != en1983_tokens_from_sents[idx]:\n",
    "        print(idx)"
   ]
  },
  {
   "cell_type": "markdown",
   "id": "8f4aff12-4492-4596-887f-1a6ff7bf9c36",
   "metadata": {},
   "source": [
    "# Get sent idx to section name dict for en1893"
   ]
  },
  {
   "cell_type": "code",
   "execution_count": 1258,
   "id": "7f194191-68f1-40c1-9a4a-b5039030c8e2",
   "metadata": {},
   "outputs": [],
   "source": [
    "def build_sent_to_section_dict(lst_tokenized_sents, lst_tokenized_chapts,\n",
    "                               dict_chapter_2_section):\n",
    "    \"\"\"\n",
    "    Build dict of sentence idx to section name\n",
    "    \"\"\"\n",
    "    sent_idx_2_section_name = {}\n",
    "    token_counter = 0 # per section/chapter\n",
    "    current_section_idx = 0\n",
    "    for idx_sent, sent in enumerate(lst_tokenized_sents):\n",
    "        token_counter += len(sent)\n",
    "        current_chapter_length = len(lst_tokenized_chapts[current_section_idx])\n",
    "        if token_counter < current_chapter_length:\n",
    "            # add sent to dict\n",
    "            sent_idx_2_section_name[idx_sent] = dict_chapter_2_section[current_section_idx]\n",
    "        elif token_counter == current_chapter_length:\n",
    "            # add sent to dict as part of current section\n",
    "            sent_idx_2_section_name[idx_sent] = dict_chapter_2_section[current_section_idx]\n",
    "            # reset token counter and current section idx for next sent iteration\n",
    "            token_counter = 0\n",
    "            current_section_idx += 1\n",
    "        else: # token_counter > current_chapter_length, i.e. we've crossed a section boundary \n",
    "            # add sent to current section and next section\n",
    "            sent_idx_2_section_name[idx_sent] = [\n",
    "                dict_chapter_2_section[current_section_idx], \n",
    "                dict_chapter_2_section[current_section_idx+1]]\n",
    "            # adjust token counter by only including portion of sent in new section\n",
    "            token_counter = token_counter - current_chapter_length\n",
    "            # update current section idx for next sent iteration\n",
    "            current_section_idx += 1\n",
    "    return sent_idx_2_section_name"
   ]
  },
  {
   "cell_type": "code",
   "execution_count": 1260,
   "id": "ddd66e87-f78e-476e-b246-c53bc54f6ef5",
   "metadata": {},
   "outputs": [],
   "source": [
    "en1893_sent2section_name = build_sent_to_section_dict(\n",
    "    en1983_sents_tokenized, en_reconstructed_tokenized, idx2section_name)\n"
   ]
  },
  {
   "cell_type": "code",
   "execution_count": 1261,
   "id": "039bf91d-4e93-4cab-b125-1701eac2a3d0",
   "metadata": {
    "collapsed": true,
    "jupyter": {
     "outputs_hidden": true
    },
    "tags": []
   },
   "outputs": [
    {
     "data": {
      "text/plain": [
       "{0: 'forewordbook0title',\n",
       " 1: 'forewordbook0title',\n",
       " 2: 'forewordbook0title',\n",
       " 3: 'forewordbook0title',\n",
       " 4: 'forewordbook0title',\n",
       " 5: 'forewordbook0title',\n",
       " 6: 'forewordbook0title',\n",
       " 7: 'forewordbook0title',\n",
       " 8: 'forewordbook0title',\n",
       " 9: 'forewordbook0title',\n",
       " 10: 'forewordbook0title',\n",
       " 11: 'forewordbook0title',\n",
       " 12: 'forewordbook0title',\n",
       " 13: 'forewordbook0title',\n",
       " 14: 'forewordbook0title',\n",
       " 15: 'forewordbook0title',\n",
       " 16: 'forewordbook0title',\n",
       " 17: ['forewordbook0title', 'forewordbook0note'],\n",
       " 18: ['forewordbook0note', 'forewordbook0note'],\n",
       " 19: ['forewordbook0note', 'forewordbook0note'],\n",
       " 20: ['forewordbook0note', 'forewordbook0note'],\n",
       " 21: ['forewordbook0note', 'forewordbook0note'],\n",
       " 22: ['forewordbook0note', 'forewordbook0'],\n",
       " 23: 'forewordbook0',\n",
       " 24: 'forewordbook0',\n",
       " 25: 'forewordbook0',\n",
       " 26: 'forewordbook0',\n",
       " 27: 'forewordbook0',\n",
       " 28: 'forewordbook0',\n",
       " 29: 'forewordbook0',\n",
       " 30: 'forewordbook0',\n",
       " 31: 'forewordbook0',\n",
       " 32: 'forewordbook0',\n",
       " 33: 'forewordbook0',\n",
       " 34: 'forewordbook0',\n",
       " 35: 'forewordbook0',\n",
       " 36: 'forewordbook0',\n",
       " 37: ['forewordbook0note', 'forewordbook0note'],\n",
       " 38: ['forewordbook0note', 'forewordbook0note'],\n",
       " 39: 'forewordbook0note',\n",
       " 40: 'forewordbook0',\n",
       " 41: 'forewordbook0',\n",
       " 42: 'forewordbook0',\n",
       " 43: 'forewordbook0',\n",
       " 44: 'forewordbook0',\n",
       " 45: 'forewordbook0',\n",
       " 46: 'forewordbook0',\n",
       " 47: 'forewordbook0',\n",
       " 48: 'forewordbook0',\n",
       " 49: 'forewordbook0',\n",
       " 50: 'forewordbook0',\n",
       " 51: 'forewordbook0',\n",
       " 52: 'forewordbook0',\n",
       " 53: 'forewordbook0',\n",
       " 54: 'forewordbook0',\n",
       " 55: ['forewordbook0', 'forewordbook0note'],\n",
       " 56: ['forewordbook0note', 'forewordbook0note'],\n",
       " 57: ['forewordbook0note', 'forewordbook0note'],\n",
       " 58: ['forewordbook0note', 'forewordbook0note'],\n",
       " 59: ['forewordbook0note', 'forewordbook0'],\n",
       " 60: 'forewordbook0',\n",
       " 61: 'forewordbook0',\n",
       " 62: 'forewordbook0',\n",
       " 63: 'forewordbook0',\n",
       " 64: 'forewordbook0',\n",
       " 65: 'forewordbook0',\n",
       " 66: 'forewordbook0',\n",
       " 67: 'forewordbook0',\n",
       " 68: 'forewordbook0',\n",
       " 69: ['forewordbook0', 'forewordbook0note'],\n",
       " 70: ['forewordbook0note', 'forewordbook0note'],\n",
       " 71: ['forewordbook0note', 'forewordbook0'],\n",
       " 72: 'forewordbook0',\n",
       " 73: 'forewordbook0',\n",
       " 74: 'forewordbook0',\n",
       " 75: 'forewordbook0',\n",
       " 76: 'forewordbook0',\n",
       " 77: 'forewordbook0',\n",
       " 78: 'forewordbook0',\n",
       " 79: 'forewordbook0',\n",
       " 80: 'forewordbook0',\n",
       " 81: 'forewordbook0',\n",
       " 82: 'forewordbook0',\n",
       " 83: 'forewordbook0',\n",
       " 84: 'forewordbook0',\n",
       " 85: 'forewordbook0',\n",
       " 86: 'forewordbook0',\n",
       " 87: 'forewordbook0',\n",
       " 88: ['forewordbook0', 'forewordbook0note'],\n",
       " 89: 'forewordbook0note',\n",
       " 90: ['forewordbook0note', 'forewordbook0note'],\n",
       " 91: 'forewordbook0note',\n",
       " 92: ['forewordbook0note', 'forewordbook0note'],\n",
       " 93: ['forewordbook0note', 'forewordbook0note'],\n",
       " 94: ['forewordbook0note', 'forewordbook0note'],\n",
       " 95: ['forewordbook0note', 'forewordbook0note'],\n",
       " 96: ['forewordbook0note', 'forewordbook0'],\n",
       " 97: 'forewordbook0',\n",
       " 98: 'forewordbook0',\n",
       " 99: 'forewordbook0',\n",
       " 100: 'forewordbook0',\n",
       " 101: 'forewordbook0',\n",
       " 102: 'forewordbook0',\n",
       " 103: 'forewordbook0',\n",
       " 104: 'forewordbook0',\n",
       " 105: 'forewordbook0',\n",
       " 106: 'forewordbook0',\n",
       " 107: 'forewordbook0',\n",
       " 108: ['forewordbook0', 'forewordbook0note'],\n",
       " 109: ['forewordbook0note', 'forewordbook0note'],\n",
       " 110: ['forewordbook0note', 'forewordbook0note'],\n",
       " 111: ['forewordbook0note', 'forewordbook0note'],\n",
       " 112: ['forewordbook0note', 'forewordbook0note'],\n",
       " 113: ['forewordbook0note', 'forewordbook0note'],\n",
       " 114: ['forewordbook0note', 'forewordbook0note'],\n",
       " 115: ['forewordbook0note', 'forewordbook0note'],\n",
       " 116: ['forewordbook0note', 'forewordbook0note'],\n",
       " 117: ['forewordbook0note', 'forewordbook0note'],\n",
       " 118: ['forewordbook0note', 'forewordbook0note'],\n",
       " 119: ['forewordbook0note', 'forewordbook0note'],\n",
       " 120: ['forewordbook0note', 'forewordbook0'],\n",
       " 121: 'forewordbook0',\n",
       " 122: 'forewordbook0',\n",
       " 123: 'forewordbook0',\n",
       " 124: 'forewordbook0',\n",
       " 125: 'forewordbook0',\n",
       " 126: 'forewordbook0',\n",
       " 127: 'forewordbook0',\n",
       " 128: 'forewordbook0',\n",
       " 129: 'forewordbook0',\n",
       " 130: ['forewordbook0', 'forewordbook0note'],\n",
       " 131: 'forewordbook0note',\n",
       " 132: ['forewordbook0note', 'forewordbook0note'],\n",
       " 133: ['forewordbook0note', 'forewordbook0note'],\n",
       " 134: ['forewordbook0note', 'forewordbook0note'],\n",
       " 135: ['forewordbook0note', 'forewordbook0note'],\n",
       " 136: ['forewordbook0note', 'forewordbook0note'],\n",
       " 137: ['forewordbook0note', 'forewordbook0note'],\n",
       " 138: ['forewordbook0note', 'forewordbook0note'],\n",
       " 139: ['forewordbook0note', 'forewordbook0'],\n",
       " 140: 'forewordbook0',\n",
       " 141: 'forewordbook0',\n",
       " 142: 'forewordbook0',\n",
       " 143: 'forewordbook0',\n",
       " 144: 'forewordbook0',\n",
       " 145: 'forewordbook0',\n",
       " 146: 'forewordbook0',\n",
       " 147: 'forewordbook0',\n",
       " 148: 'forewordbook0',\n",
       " 149: 'forewordbook0',\n",
       " 150: 'forewordbook0',\n",
       " 151: 'forewordbook0',\n",
       " 152: 'forewordbook0',\n",
       " 153: 'forewordbook0',\n",
       " 154: 'forewordbook0',\n",
       " 155: 'forewordbook0',\n",
       " 156: 'forewordbook0',\n",
       " 157: 'forewordbook0',\n",
       " 158: ['forewordbook0', 'forewordbook0note'],\n",
       " 159: ['forewordbook0note', 'forewordbook0note'],\n",
       " 160: ['forewordbook0note', 'forewordbook0note'],\n",
       " 161: ['forewordbook0note', 'forewordbook0'],\n",
       " 162: 'forewordbook0',\n",
       " 163: 'forewordbook0',\n",
       " 164: 'forewordbook0',\n",
       " 165: 'forewordbook0',\n",
       " 166: 'forewordbook0',\n",
       " 167: 'forewordbook0',\n",
       " 168: 'forewordbook0',\n",
       " 169: 'forewordbook0',\n",
       " 170: 'forewordbook0',\n",
       " 171: 'forewordbook0',\n",
       " 172: 'forewordbook0',\n",
       " 173: 'forewordbook0',\n",
       " 174: 'forewordbook0',\n",
       " 175: 'forewordbook0',\n",
       " 176: 'forewordbook0',\n",
       " 177: 'forewordbook0',\n",
       " 178: 'forewordbook0',\n",
       " 179: 'forewordbook0',\n",
       " 180: 'forewordbook0',\n",
       " 181: 'forewordbook0',\n",
       " 182: 'forewordbook0',\n",
       " 183: 'forewordbook0',\n",
       " 184: 'forewordbook0',\n",
       " 185: ['forewordbook0', 'forewordbook0note'],\n",
       " 186: ['forewordbook0note', 'forewordbook0note'],\n",
       " 187: ['forewordbook0note', 'forewordbook0note'],\n",
       " 188: ['forewordbook0note', 'forewordbook0note'],\n",
       " 189: ['forewordbook0note', 'forewordbook0note'],\n",
       " 190: ['forewordbook0note', 'forewordbook0note'],\n",
       " 191: ['forewordbook0note', 'forewordbook0note'],\n",
       " 192: ['forewordbook0note', 'forewordbook0note'],\n",
       " 193: ['forewordbook0note', 'forewordbook0'],\n",
       " 194: 'forewordbook0',\n",
       " 195: 'forewordbook0',\n",
       " 196: 'forewordbook0',\n",
       " 197: 'forewordbook0',\n",
       " 198: 'forewordbook0',\n",
       " 199: 'forewordbook0',\n",
       " 200: 'forewordbook0',\n",
       " 201: 'forewordbook0',\n",
       " 202: 'forewordbook0',\n",
       " 203: 'forewordbook0',\n",
       " 204: 'forewordbook0',\n",
       " 205: 'forewordbook0',\n",
       " 206: 'forewordbook0',\n",
       " 207: 'forewordbook0',\n",
       " 208: 'forewordbook0',\n",
       " 209: 'forewordbook0',\n",
       " 210: 'forewordbook0',\n",
       " 211: 'forewordbook0',\n",
       " 212: 'forewordbook0',\n",
       " 213: 'forewordbook0',\n",
       " 214: 'forewordbook0',\n",
       " 215: ['forewordbook0', 'forewordbook0note'],\n",
       " 216: ['forewordbook0note', 'forewordbook0note'],\n",
       " 217: ['forewordbook0note', 'forewordbook0note'],\n",
       " 218: ['forewordbook0note', 'forewordbook0'],\n",
       " 219: 'forewordbook0',\n",
       " 220: 'forewordbook0',\n",
       " 221: 'forewordbook0',\n",
       " 222: 'forewordbook0',\n",
       " 223: 'forewordbook0',\n",
       " 224: 'forewordbook0',\n",
       " 225: 'forewordbook0',\n",
       " 226: 'forewordbook0',\n",
       " 227: 'forewordbook0',\n",
       " 228: 'forewordbook0',\n",
       " 229: 'forewordbook0',\n",
       " 230: 'forewordbook0',\n",
       " 231: 'forewordbook0',\n",
       " 232: 'forewordbook0',\n",
       " 233: 'forewordbook0',\n",
       " 234: 'forewordbook0',\n",
       " 235: 'forewordbook0',\n",
       " 236: 'forewordbook0',\n",
       " 237: ['forewordbook0', 'forewordbook0note'],\n",
       " 238: 'forewordbook0note',\n",
       " 239: ['forewordbook0note', 'forewordbook0note'],\n",
       " 240: ['forewordbook0note', 'forewordbook0note'],\n",
       " 241: ['forewordbook0note', 'forewordbook0'],\n",
       " 242: 'forewordbook0',\n",
       " 243: 'forewordbook0',\n",
       " 244: 'forewordbook0',\n",
       " 245: 'forewordbook0',\n",
       " 246: 'forewordbook0',\n",
       " 247: 'forewordbook0',\n",
       " 248: 'forewordbook0',\n",
       " 249: 'forewordbook0',\n",
       " 250: 'forewordbook0',\n",
       " 251: 'forewordbook0',\n",
       " 252: 'forewordbook0',\n",
       " 253: 'forewordbook0',\n",
       " 254: 'forewordbook0',\n",
       " 255: 'forewordbook0',\n",
       " 256: 'forewordbook0',\n",
       " 257: 'forewordbook0',\n",
       " 258: 'forewordbook0',\n",
       " 259: 'forewordbook0',\n",
       " 260: 'forewordbook0',\n",
       " 261: 'forewordbook0',\n",
       " 262: 'forewordbook0',\n",
       " 263: 'forewordbook0',\n",
       " 264: 'forewordbook0',\n",
       " 265: ['forewordbook0', 'forewordbook0note'],\n",
       " 266: ['forewordbook0note', 'forewordbook0note'],\n",
       " 267: ['forewordbook0note', 'forewordbook0'],\n",
       " 268: 'forewordbook0',\n",
       " 269: 'forewordbook0',\n",
       " 270: 'forewordbook0',\n",
       " 271: 'forewordbook0',\n",
       " 272: 'forewordbook0',\n",
       " 273: 'forewordbook0',\n",
       " 274: 'forewordbook0',\n",
       " 275: 'forewordbook0',\n",
       " 276: 'forewordbook0',\n",
       " 277: 'forewordbook0',\n",
       " 278: 'forewordbook0',\n",
       " 279: 'forewordbook0',\n",
       " 280: 'forewordbook0',\n",
       " 281: 'forewordbook0',\n",
       " 282: 'forewordbook0',\n",
       " 283: 'forewordbook0',\n",
       " 284: 'forewordbook0',\n",
       " 285: 'forewordbook0',\n",
       " 286: 'forewordbook0',\n",
       " 287: ['forewordbook0', 'forewordbook0note'],\n",
       " 288: ['forewordbook0note', 'forewordbook0note'],\n",
       " 289: ['forewordbook0note', 'forewordbook0note'],\n",
       " 290: ['forewordbook0note', 'forewordbook0note'],\n",
       " 291: 'forewordbook0note',\n",
       " 292: 'forewordbook0note',\n",
       " 293: ['forewordbook0note', 'forewordbook0note'],\n",
       " 294: ['forewordbook0note', 'forewordbook0'],\n",
       " 295: 'forewordbook0',\n",
       " 296: 'forewordbook0',\n",
       " 297: 'forewordbook0',\n",
       " 298: 'forewordbook0',\n",
       " 299: 'forewordbook0',\n",
       " 300: 'forewordbook0',\n",
       " 301: 'forewordbook0',\n",
       " 302: 'forewordbook0',\n",
       " 303: 'forewordbook0',\n",
       " 304: 'forewordbook0',\n",
       " 305: 'forewordbook0',\n",
       " 306: 'forewordbook0',\n",
       " 307: 'forewordbook0',\n",
       " 308: 'forewordbook0',\n",
       " 309: 'forewordbook0note',\n",
       " 310: 'forewordbook0',\n",
       " 311: 'forewordbook0',\n",
       " 312: 'forewordbook0',\n",
       " 313: 'forewordbook0',\n",
       " 314: 'forewordbook0',\n",
       " 315: 'forewordbook0',\n",
       " 316: 'forewordbook0',\n",
       " 317: 'forewordbook0',\n",
       " 318: 'forewordbook0',\n",
       " 319: 'forewordbook0',\n",
       " 320: 'forewordbook0',\n",
       " 321: 'forewordbook0',\n",
       " 322: 'forewordbook0',\n",
       " 323: 'forewordbook0',\n",
       " 324: 'forewordbook0',\n",
       " 325: 'forewordbook0',\n",
       " 326: 'forewordbook0',\n",
       " 327: 'forewordbook0',\n",
       " 328: 'forewordbook0',\n",
       " 329: 'forewordbook0',\n",
       " 330: 'forewordbook0',\n",
       " 331: 'forewordbook0',\n",
       " 332: 'forewordbook0',\n",
       " 333: 'forewordbook0',\n",
       " 334: 'forewordbook0',\n",
       " 335: 'forewordbook0',\n",
       " 336: 'forewordbook0',\n",
       " 337: 'forewordbook0',\n",
       " 338: 'forewordbook0',\n",
       " 339: 'forewordbook0',\n",
       " 340: 'forewordbook0',\n",
       " 341: 'forewordbook0',\n",
       " 342: 'forewordbook0',\n",
       " 343: 'forewordbook0',\n",
       " 344: 'forewordbook0',\n",
       " 345: 'forewordbook0',\n",
       " 346: 'forewordbook0',\n",
       " 347: 'forewordbook0',\n",
       " 348: 'forewordbook0',\n",
       " 349: 'forewordbook0',\n",
       " 350: 'forewordbook0',\n",
       " 351: 'forewordbook0',\n",
       " 352: 'forewordbook0',\n",
       " 353: 'forewordbook0',\n",
       " 354: 'forewordbook0',\n",
       " 355: 'forewordbook0',\n",
       " 356: 'forewordbook0',\n",
       " 357: 'forewordbook0',\n",
       " 358: 'forewordbook0',\n",
       " 359: 'forewordbook0',\n",
       " 360: 'forewordbook0',\n",
       " 361: 'forewordbook0',\n",
       " 362: 'forewordbook0',\n",
       " 363: 'forewordbook0',\n",
       " 364: 'forewordbook0',\n",
       " 365: 'forewordbook0',\n",
       " 366: 'forewordbook0',\n",
       " 367: 'forewordbook0',\n",
       " 368: 'forewordbook0',\n",
       " 369: 'forewordbook0',\n",
       " 370: 'forewordbook0',\n",
       " 371: 'forewordbook0',\n",
       " 372: 'forewordbook0',\n",
       " 373: 'forewordbook0',\n",
       " 374: 'forewordbook0',\n",
       " 375: 'forewordbook0',\n",
       " 376: 'forewordbook0',\n",
       " 377: 'forewordbook0',\n",
       " 378: 'forewordbook0',\n",
       " 379: 'forewordbook0',\n",
       " 380: 'forewordbook0',\n",
       " 381: 'forewordbook0',\n",
       " 382: 'forewordbook0',\n",
       " 383: 'forewordbook0',\n",
       " 384: 'forewordbook0',\n",
       " 385: 'forewordbook0',\n",
       " 386: 'forewordbook0',\n",
       " 387: 'forewordbook0',\n",
       " 388: 'forewordbook0',\n",
       " 389: 'forewordbook0',\n",
       " 390: 'forewordbook0',\n",
       " 391: 'forewordbook0',\n",
       " 392: 'forewordbook0',\n",
       " 393: 'forewordbook0',\n",
       " 394: 'forewordbook0',\n",
       " 395: 'forewordbook0',\n",
       " 396: 'forewordbook0',\n",
       " 397: 'forewordbook0',\n",
       " 398: 'forewordbook0',\n",
       " 399: 'forewordbook0',\n",
       " 400: 'forewordbook0',\n",
       " 401: 'prose_translationbook0title',\n",
       " 402: 'prose_translationbook1title',\n",
       " 403: 'prose_translationbook1commentary',\n",
       " 404: 'prose_translationbook1commentary',\n",
       " 405: 'prose_translationbook1commentary',\n",
       " 406: 'prose_translationbook1commentary',\n",
       " 407: 'prose_translationbook1commentary',\n",
       " 408: 'prose_translationbook1commentary',\n",
       " 409: 'prose_translationbook1commentary',\n",
       " 410: 'prose_translationbook1commentary',\n",
       " 411: 'prose_translationbook1commentary',\n",
       " 412: 'prose_translationbook1commentary',\n",
       " 413: 'prose_translationbook1commentary',\n",
       " 414: 'prose_translationbook1commentary',\n",
       " 415: 'prose_translationbook1commentary',\n",
       " 416: 'prose_translationbook1commentary',\n",
       " 417: 'prose_translationbook1commentary',\n",
       " 418: 'prose_translationbook1commentary',\n",
       " 419: 'prose_translationbook1commentary',\n",
       " 420: 'prose_translationbook1commentary',\n",
       " 421: 'prose_translationbook1commentary',\n",
       " 422: 'prose_translationbook1note',\n",
       " 423: 'prose_translationbook1',\n",
       " 424: ['prose_translationbook1', 'prose_translationbook1note'],\n",
       " 425: 'prose_translationbook1note',\n",
       " 426: 'prose_translationbook1note',\n",
       " 427: 'prose_translationbook1note',\n",
       " 428: 'prose_translationbook1note',\n",
       " 429: 'prose_translationbook1note',\n",
       " 430: 'prose_translationbook1note',\n",
       " 431: 'prose_translationbook1note',\n",
       " 432: 'prose_translationbook1note',\n",
       " 433: 'prose_translationbook1note',\n",
       " 434: 'prose_translationbook1note',\n",
       " 435: 'prose_translationbook1note',\n",
       " 436: 'prose_translationbook1note',\n",
       " 437: 'prose_translationbook1note',\n",
       " 438: 'prose_translationbook1note',\n",
       " 439: 'prose_translationbook1note',\n",
       " 440: 'prose_translationbook1note',\n",
       " 441: 'prose_translationbook1note',\n",
       " 442: 'prose_translationbook1note',\n",
       " 443: 'prose_translationbook1note',\n",
       " 444: 'prose_translationbook1note',\n",
       " 445: 'prose_translationbook1note',\n",
       " 446: 'prose_translationbook1note',\n",
       " 447: 'prose_translationbook1note',\n",
       " 448: 'prose_translationbook1note',\n",
       " 449: 'prose_translationbook1note',\n",
       " 450: 'prose_translationbook1note',\n",
       " 451: 'prose_translationbook1note',\n",
       " 452: 'prose_translationbook1note',\n",
       " 453: 'prose_translationbook1note',\n",
       " 454: 'prose_translationbook1note',\n",
       " 455: 'prose_translationbook1note',\n",
       " 456: 'prose_translationbook1note',\n",
       " 457: 'prose_translationbook1note',\n",
       " 458: 'prose_translationbook1note',\n",
       " 459: 'prose_translationbook1note',\n",
       " 460: 'prose_translationbook1note',\n",
       " 461: 'prose_translationbook1note',\n",
       " 462: 'prose_translationbook1note',\n",
       " 463: 'prose_translationbook1note',\n",
       " 464: 'prose_translationbook1note',\n",
       " 465: 'prose_translationbook1note',\n",
       " 466: 'prose_translationbook1note',\n",
       " 467: 'prose_translationbook1note',\n",
       " 468: 'prose_translationbook1',\n",
       " 469: 'prose_translationbook1',\n",
       " 470: 'prose_translationbook1',\n",
       " 471: 'prose_translationbook1',\n",
       " 472: 'prose_translationbook1',\n",
       " 473: 'prose_translationbook1',\n",
       " 474: 'prose_translationbook1',\n",
       " 475: 'prose_translationbook1',\n",
       " 476: 'prose_translationbook1',\n",
       " 477: 'prose_translationbook1',\n",
       " 478: ['prose_translationbook1', 'prose_translationbook1note'],\n",
       " 479: 'prose_translationbook1note',\n",
       " 480: 'prose_translationbook1note',\n",
       " 481: 'prose_translationbook1note',\n",
       " 482: 'prose_translationbook1note',\n",
       " 483: 'prose_translationbook1note',\n",
       " 484: 'prose_translationbook1note',\n",
       " 485: ['prose_translationbook1note', 'prose_translationbook1note'],\n",
       " 486: 'prose_translationbook1note',\n",
       " 487: 'prose_translationbook1note',\n",
       " 488: 'prose_translationbook1note',\n",
       " 489: 'prose_translationbook1note',\n",
       " 490: 'prose_translationbook1note',\n",
       " 491: 'prose_translationbook1note',\n",
       " 492: 'prose_translationbook1note',\n",
       " 493: 'prose_translationbook1note',\n",
       " 494: 'prose_translationbook1note',\n",
       " 495: 'prose_translationbook1note',\n",
       " 496: 'prose_translationbook1note',\n",
       " 497: ['prose_translationbook1note', 'prose_translationbook1note'],\n",
       " 498: 'prose_translationbook1note',\n",
       " 499: 'prose_translationbook1note',\n",
       " 500: 'prose_translationbook1note',\n",
       " 501: 'prose_translationbook1note',\n",
       " 502: 'prose_translationbook1note',\n",
       " 503: 'prose_translationbook1note',\n",
       " 504: 'prose_translationbook1note',\n",
       " 505: 'prose_translationbook1note',\n",
       " 506: 'prose_translationbook1note',\n",
       " 507: 'prose_translationbook1note',\n",
       " 508: 'prose_translationbook1note',\n",
       " 509: ['prose_translationbook1note', 'prose_translationbook1'],\n",
       " 510: 'prose_translationbook1',\n",
       " 511: 'prose_translationbook1',\n",
       " 512: 'prose_translationbook1',\n",
       " 513: 'prose_translationbook1',\n",
       " 514: ['prose_translationbook1', 'prose_translationbook1note'],\n",
       " 515: 'prose_translationbook1note',\n",
       " 516: ['prose_translationbook1note', 'prose_translationbook1note'],\n",
       " 517: 'prose_translationbook1note',\n",
       " 518: 'prose_translationbook1note',\n",
       " 519: 'prose_translationbook1note',\n",
       " 520: 'prose_translationbook1note',\n",
       " 521: 'prose_translationbook1note',\n",
       " 522: 'prose_translationbook1note',\n",
       " 523: 'prose_translationbook1note',\n",
       " 524: 'prose_translationbook1note',\n",
       " 525: 'prose_translationbook1note',\n",
       " 526: 'prose_translationbook1note',\n",
       " 527: 'prose_translationbook1note',\n",
       " 528: 'prose_translationbook1note',\n",
       " 529: 'prose_translationbook1note',\n",
       " 530: 'prose_translationbook1note',\n",
       " 531: 'prose_translationbook1note',\n",
       " 532: ['prose_translationbook1note', 'prose_translationbook1note'],\n",
       " 533: 'prose_translationbook1note',\n",
       " 534: 'prose_translationbook1note',\n",
       " 535: 'prose_translationbook1note',\n",
       " 536: 'prose_translationbook1note',\n",
       " 537: 'prose_translationbook1note',\n",
       " 538: 'prose_translationbook1note',\n",
       " 539: 'prose_translationbook1note',\n",
       " 540: 'prose_translationbook1note',\n",
       " 541: 'prose_translationbook1note',\n",
       " 542: 'prose_translationbook1note',\n",
       " 543: 'prose_translationbook1note',\n",
       " 544: 'prose_translationbook1note',\n",
       " 545: 'prose_translationbook1',\n",
       " 546: 'prose_translationbook1',\n",
       " 547: 'prose_translationbook1',\n",
       " 548: 'prose_translationbook1',\n",
       " 549: 'prose_translationbook1',\n",
       " 550: 'prose_translationbook1',\n",
       " 551: ['prose_translationbook1', 'prose_translationbook1note'],\n",
       " 552: 'prose_translationbook1note',\n",
       " 553: 'prose_translationbook1note',\n",
       " 554: 'prose_translationbook1note',\n",
       " 555: 'prose_translationbook1note',\n",
       " 556: 'prose_translationbook1note',\n",
       " 557: 'prose_translationbook1note',\n",
       " 558: 'prose_translationbook1note',\n",
       " 559: ['prose_translationbook1note', 'prose_translationbook1note'],\n",
       " 560: 'prose_translationbook1note',\n",
       " 561: 'prose_translationbook1note',\n",
       " 562: 'prose_translationbook1note',\n",
       " 563: 'prose_translationbook1note',\n",
       " 564: 'prose_translationbook1note',\n",
       " 565: 'prose_translationbook1note',\n",
       " 566: 'prose_translationbook1note',\n",
       " 567: 'prose_translationbook1note',\n",
       " 568: 'prose_translationbook1note',\n",
       " 569: 'prose_translationbook1note',\n",
       " 570: 'prose_translationbook1note',\n",
       " 571: 'prose_translationbook1note',\n",
       " 572: 'prose_translationbook1note',\n",
       " 573: 'prose_translationbook1note',\n",
       " 574: 'prose_translationbook1note',\n",
       " 575: 'prose_translationbook1note',\n",
       " 576: 'prose_translationbook1note',\n",
       " 577: 'prose_translationbook1note',\n",
       " 578: 'prose_translationbook1note',\n",
       " 579: 'prose_translationbook1note',\n",
       " 580: 'prose_translationbook1note',\n",
       " 581: 'prose_translationbook1note',\n",
       " 582: 'prose_translationbook1note',\n",
       " 583: 'prose_translationbook1note',\n",
       " 584: 'prose_translationbook1note',\n",
       " 585: 'prose_translationbook1note',\n",
       " 586: 'prose_translationbook1note',\n",
       " 587: 'prose_translationbook1note',\n",
       " 588: 'prose_translationbook1note',\n",
       " 589: 'prose_translationbook1',\n",
       " 590: 'prose_translationbook1',\n",
       " 591: 'prose_translationbook1',\n",
       " 592: 'prose_translationbook1',\n",
       " 593: ['prose_translationbook1', 'prose_translationbook1note'],\n",
       " 594: 'prose_translationbook1note',\n",
       " 595: 'prose_translationbook1note',\n",
       " 596: 'prose_translationbook1note',\n",
       " 597: 'prose_translationbook1note',\n",
       " 598: 'prose_translationbook1note',\n",
       " 599: 'prose_translationbook1note',\n",
       " 600: 'prose_translationbook1note',\n",
       " 601: 'prose_translationbook1note',\n",
       " 602: 'prose_translationbook1note',\n",
       " 603: 'prose_translationbook1note',\n",
       " 604: 'prose_translationbook1note',\n",
       " 605: 'prose_translationbook1note',\n",
       " 606: 'prose_translationbook1note',\n",
       " 607: 'prose_translationbook1note',\n",
       " 608: 'prose_translationbook1note',\n",
       " 609: 'prose_translationbook1note',\n",
       " 610: 'prose_translationbook1note',\n",
       " 611: 'prose_translationbook1note',\n",
       " 612: 'prose_translationbook1note',\n",
       " 613: 'prose_translationbook1note',\n",
       " 614: 'prose_translationbook1note',\n",
       " 615: 'prose_translationbook1note',\n",
       " 616: 'prose_translationbook1note',\n",
       " 617: 'prose_translationbook1note',\n",
       " 618: 'prose_translationbook1note',\n",
       " 619: ['prose_translationbook1note', 'prose_translationbook1note'],\n",
       " 620: 'prose_translationbook1note',\n",
       " 621: 'prose_translationbook1note',\n",
       " 622: ['prose_translationbook1note', 'prose_translationbook1'],\n",
       " 623: 'prose_translationbook1',\n",
       " 624: 'prose_translationbook1',\n",
       " 625: 'prose_translationbook1',\n",
       " 626: 'prose_translationbook1',\n",
       " 627: 'prose_translationbook1',\n",
       " 628: 'prose_translationbook1',\n",
       " 629: 'prose_translationbook1',\n",
       " 630: 'prose_translationbook1',\n",
       " 631: ['prose_translationbook1', 'prose_translationbook1note'],\n",
       " 632: 'prose_translationbook1note',\n",
       " 633: 'prose_translationbook1note',\n",
       " 634: 'prose_translationbook1note',\n",
       " 635: 'prose_translationbook1note',\n",
       " 636: 'prose_translationbook1note',\n",
       " 637: ['prose_translationbook1note', 'prose_translationbook1note'],\n",
       " 638: ['prose_translationbook1note', 'prose_translationbook1note'],\n",
       " 639: 'prose_translationbook1note',\n",
       " 640: 'prose_translationbook1note',\n",
       " 641: 'prose_translationbook1note',\n",
       " 642: 'prose_translationbook1note',\n",
       " 643: 'prose_translationbook1note',\n",
       " 644: 'prose_translationbook1note',\n",
       " 645: 'prose_translationbook1note',\n",
       " 646: 'prose_translationbook1',\n",
       " 647: 'prose_translationbook1',\n",
       " 648: 'prose_translationbook1',\n",
       " 649: 'prose_translationbook1',\n",
       " 650: 'prose_translationbook1',\n",
       " 651: 'prose_translationbook1',\n",
       " 652: 'prose_translationbook1',\n",
       " 653: 'prose_translationbook1',\n",
       " 654: 'prose_translationbook1',\n",
       " 655: 'prose_translationbook1',\n",
       " 656: 'prose_translationbook1',\n",
       " 657: 'prose_translationbook1',\n",
       " 658: 'prose_translationbook1',\n",
       " 659: ['prose_translationbook1', 'prose_translationbook1note'],\n",
       " 660: 'prose_translationbook1note',\n",
       " 661: 'prose_translationbook1note',\n",
       " 662: 'prose_translationbook1note',\n",
       " 663: 'prose_translationbook1note',\n",
       " 664: 'prose_translationbook1note',\n",
       " 665: 'prose_translationbook1note',\n",
       " 666: 'prose_translationbook1note',\n",
       " 667: 'prose_translationbook1note',\n",
       " 668: 'prose_translationbook1note',\n",
       " 669: 'prose_translationbook1note',\n",
       " 670: 'prose_translationbook1note',\n",
       " 671: 'prose_translationbook1note',\n",
       " 672: 'prose_translationbook1note',\n",
       " 673: ['prose_translationbook1note', 'prose_translationbook1note'],\n",
       " 674: 'prose_translationbook1note',\n",
       " 675: ['prose_translationbook1note', 'prose_translationbook1'],\n",
       " 676: 'prose_translationbook1',\n",
       " 677: 'prose_translationbook1',\n",
       " 678: 'prose_translationbook1',\n",
       " 679: 'prose_translationbook1',\n",
       " 680: 'prose_translationbook1',\n",
       " 681: ['prose_translationbook1', 'prose_translationbook1note'],\n",
       " 682: 'prose_translationbook1note',\n",
       " 683: 'prose_translationbook1note',\n",
       " 684: ['prose_translationbook1note', 'prose_translationbook1note'],\n",
       " 685: 'prose_translationbook1note',\n",
       " 686: 'prose_translationbook1note',\n",
       " 687: 'prose_translationbook1note',\n",
       " 688: 'prose_translationbook1note',\n",
       " 689: 'prose_translationbook1note',\n",
       " 690: 'prose_translationbook1note',\n",
       " 691: 'prose_translationbook1note',\n",
       " 692: 'prose_translationbook1note',\n",
       " 693: 'prose_translationbook1note',\n",
       " 694: 'prose_translationbook1note',\n",
       " 695: 'prose_translationbook1note',\n",
       " 696: 'prose_translationbook1note',\n",
       " 697: 'prose_translationbook1note',\n",
       " 698: ['prose_translationbook1note', 'prose_translationbook1'],\n",
       " 699: 'prose_translationbook1',\n",
       " 700: 'prose_translationbook1',\n",
       " 701: 'prose_translationbook1',\n",
       " 702: 'prose_translationbook1',\n",
       " 703: 'prose_translationbook1',\n",
       " 704: ['prose_translationbook1', 'prose_translationbook1note'],\n",
       " 705: ['prose_translationbook1note', 'prose_translationbook1note'],\n",
       " 706: 'prose_translationbook1note',\n",
       " 707: 'prose_translationbook1note',\n",
       " 708: 'prose_translationbook1note',\n",
       " 709: 'prose_translationbook1note',\n",
       " 710: 'prose_translationbook1note',\n",
       " 711: 'prose_translationbook1note',\n",
       " 712: 'prose_translationbook1note',\n",
       " 713: 'prose_translationbook1note',\n",
       " 714: 'prose_translationbook1note',\n",
       " 715: 'prose_translationbook1note',\n",
       " 716: 'prose_translationbook1note',\n",
       " 717: 'prose_translationbook1note',\n",
       " 718: 'prose_translationbook1note',\n",
       " 719: 'prose_translationbook1note',\n",
       " 720: 'prose_translationbook1note',\n",
       " 721: 'prose_translationbook1note',\n",
       " 722: 'prose_translationbook1note',\n",
       " 723: 'prose_translationbook1note',\n",
       " 724: 'prose_translationbook1note',\n",
       " 725: 'prose_translationbook1note',\n",
       " 726: 'prose_translationbook1note',\n",
       " 727: 'prose_translationbook1note',\n",
       " 728: 'prose_translationbook1note',\n",
       " 729: 'prose_translationbook1note',\n",
       " 730: 'prose_translationbook1note',\n",
       " 731: 'prose_translationbook1note',\n",
       " 732: 'prose_translationbook1note',\n",
       " 733: 'prose_translationbook1note',\n",
       " 734: 'prose_translationbook1note',\n",
       " 735: ['prose_translationbook1note', 'prose_translationbook1'],\n",
       " 736: 'prose_translationbook1',\n",
       " 737: 'prose_translationbook1',\n",
       " 738: 'prose_translationbook1',\n",
       " 739: 'prose_translationbook1',\n",
       " 740: 'prose_translationbook1',\n",
       " 741: 'prose_translationbook1',\n",
       " 742: 'prose_translationbook1',\n",
       " 743: 'prose_translationbook1',\n",
       " 744: 'prose_translationbook1',\n",
       " 745: 'prose_translationbook1',\n",
       " 746: 'prose_translationbook1',\n",
       " 747: 'prose_translationbook1',\n",
       " 748: ['prose_translationbook1', 'prose_translationbook1note'],\n",
       " 749: 'prose_translationbook1note',\n",
       " 750: 'prose_translationbook1note',\n",
       " 751: 'prose_translationbook1note',\n",
       " 752: 'prose_translationbook1note',\n",
       " 753: 'prose_translationbook1note',\n",
       " 754: 'prose_translationbook1note',\n",
       " 755: 'prose_translationbook1note',\n",
       " 756: 'prose_translationbook1note',\n",
       " 757: 'prose_translationbook1',\n",
       " 758: 'prose_translationbook1',\n",
       " 759: 'prose_translationbook1',\n",
       " 760: 'prose_translationbook1',\n",
       " 761: 'prose_translationbook1',\n",
       " 762: 'prose_translationbook1',\n",
       " 763: 'prose_translationbook1',\n",
       " 764: 'prose_translationbook1',\n",
       " 765: ['prose_translationbook1', 'prose_translationbook1note'],\n",
       " 766: 'prose_translationbook1note',\n",
       " 767: 'prose_translationbook1note',\n",
       " 768: 'prose_translationbook1note',\n",
       " 769: 'prose_translationbook1note',\n",
       " 770: 'prose_translationbook1note',\n",
       " 771: 'prose_translationbook1note',\n",
       " 772: 'prose_translationbook1note',\n",
       " 773: 'prose_translationbook1note',\n",
       " 774: 'prose_translationbook1note',\n",
       " 775: 'prose_translationbook1note',\n",
       " 776: 'prose_translationbook1note',\n",
       " 777: 'prose_translationbook1note',\n",
       " 778: 'prose_translationbook1note',\n",
       " 779: 'prose_translationbook1note',\n",
       " 780: ['prose_translationbook1note', 'prose_translationbook1'],\n",
       " 781: 'prose_translationbook1',\n",
       " 782: 'prose_translationbook1',\n",
       " 783: 'prose_translationbook1',\n",
       " 784: 'prose_translationbook1',\n",
       " 785: 'prose_translationbook1',\n",
       " 786: 'prose_translationbook1',\n",
       " 787: 'prose_translationbook1',\n",
       " 788: 'prose_translationbook1',\n",
       " 789: 'prose_translationbook1',\n",
       " 790: ['prose_translationbook1', 'prose_translationbook1note'],\n",
       " 791: ['prose_translationbook1note', 'prose_translationbook1note'],\n",
       " 792: 'prose_translationbook1note',\n",
       " 793: 'prose_translationbook1note',\n",
       " 794: 'prose_translationbook1note',\n",
       " 795: 'prose_translationbook1note',\n",
       " 796: 'prose_translationbook1note',\n",
       " 797: 'prose_translationbook1note',\n",
       " 798: 'prose_translationbook1note',\n",
       " 799: 'prose_translationbook1note',\n",
       " 800: 'prose_translationbook1note',\n",
       " 801: 'prose_translationbook1note',\n",
       " 802: 'prose_translationbook1note',\n",
       " 803: 'prose_translationbook1note',\n",
       " 804: 'prose_translationbook1',\n",
       " 805: 'prose_translationbook1',\n",
       " 806: 'prose_translationbook1',\n",
       " 807: 'prose_translationbook1',\n",
       " 808: 'prose_translationbook1',\n",
       " 809: 'prose_translationbook1',\n",
       " 810: 'prose_translationbook1',\n",
       " 811: 'prose_translationbook1',\n",
       " 812: 'prose_translationbook1',\n",
       " 813: 'prose_translationbook1',\n",
       " 814: 'prose_translationbook1',\n",
       " 815: ['prose_translationbook1', 'prose_translationbook1note'],\n",
       " 816: 'prose_translationbook1note',\n",
       " 817: 'prose_translationbook1note',\n",
       " 818: 'prose_translationbook1note',\n",
       " 819: 'prose_translationbook1note',\n",
       " 820: 'prose_translationbook1note',\n",
       " 821: 'prose_translationbook1note',\n",
       " 822: 'prose_translationbook1note',\n",
       " 823: 'prose_translationbook1note',\n",
       " 824: 'prose_translationbook1note',\n",
       " 825: 'prose_translationbook1note',\n",
       " 826: 'prose_translationbook1note',\n",
       " 827: 'prose_translationbook1note',\n",
       " 828: 'prose_translationbook1note',\n",
       " 829: 'prose_translationbook1note',\n",
       " 830: 'prose_translationbook1note',\n",
       " 831: 'prose_translationbook1note',\n",
       " 832: 'prose_translationbook1note',\n",
       " 833: 'prose_translationbook1note',\n",
       " 834: 'prose_translationbook1note',\n",
       " 835: 'prose_translationbook1',\n",
       " 836: 'prose_translationbook1',\n",
       " 837: 'prose_translationbook1',\n",
       " 838: 'prose_translationbook1',\n",
       " 839: 'prose_translationbook1',\n",
       " 840: 'prose_translationbook1',\n",
       " 841: 'prose_translationbook1',\n",
       " 842: 'prose_translationbook1',\n",
       " 843: 'prose_translationbook1',\n",
       " 844: 'prose_translationbook1',\n",
       " 845: 'prose_translationbook1',\n",
       " 846: ['prose_translationbook1', 'prose_translationbook1note'],\n",
       " 847: 'prose_translationbook1note',\n",
       " 848: 'prose_translationbook1note',\n",
       " 849: 'prose_translationbook1note',\n",
       " 850: 'prose_translationbook1note',\n",
       " 851: 'prose_translationbook1note',\n",
       " 852: 'prose_translationbook1note',\n",
       " 853: 'prose_translationbook1note',\n",
       " 854: 'prose_translationbook1note',\n",
       " 855: 'prose_translationbook1note',\n",
       " 856: 'prose_translationbook1note',\n",
       " 857: 'prose_translationbook1note',\n",
       " 858: ['prose_translationbook1note', 'prose_translationbook1note'],\n",
       " 859: 'prose_translationbook1note',\n",
       " 860: ['prose_translationbook1note', 'prose_translationbook1'],\n",
       " 861: 'prose_translationbook1',\n",
       " 862: 'prose_translationbook1',\n",
       " 863: 'prose_translationbook1',\n",
       " 864: 'prose_translationbook1',\n",
       " 865: 'prose_translationbook1',\n",
       " 866: 'prose_translationbook1',\n",
       " 867: 'prose_translationbook1',\n",
       " 868: 'prose_translationbook1',\n",
       " 869: 'prose_translationbook1',\n",
       " 870: 'prose_translationbook1',\n",
       " 871: 'prose_translationbook1',\n",
       " 872: 'prose_translationbook1',\n",
       " 873: 'prose_translationbook1',\n",
       " 874: 'prose_translationbook1',\n",
       " 875: 'prose_translationbook1',\n",
       " 876: ['prose_translationbook1', 'prose_translationbook1note'],\n",
       " 877: ['prose_translationbook1note', 'prose_translationbook1note'],\n",
       " 878: 'prose_translationbook1note',\n",
       " 879: 'prose_translationbook1note',\n",
       " 880: 'prose_translationbook1note',\n",
       " 881: 'prose_translationbook1note',\n",
       " 882: 'prose_translationbook1note',\n",
       " 883: 'prose_translationbook1note',\n",
       " 884: 'prose_translationbook1note',\n",
       " 885: 'prose_translationbook1',\n",
       " 886: 'prose_translationbook1',\n",
       " 887: 'prose_translationbook1',\n",
       " 888: 'prose_translationbook1',\n",
       " 889: 'prose_translationbook1',\n",
       " 890: 'prose_translationbook1',\n",
       " 891: 'prose_translationbook1',\n",
       " 892: 'prose_translationbook1',\n",
       " 893: 'prose_translationbook1',\n",
       " 894: 'prose_translationbook1',\n",
       " 895: 'prose_translationbook1',\n",
       " 896: 'prose_translationbook1',\n",
       " 897: 'prose_translationbook1',\n",
       " 898: 'prose_translationbook1',\n",
       " 899: 'prose_translationbook1',\n",
       " 900: 'prose_translationbook1',\n",
       " 901: 'prose_translationbook1',\n",
       " 902: 'prose_translationbook1',\n",
       " 903: ['prose_translationbook1', 'prose_translationbook1note'],\n",
       " 904: 'prose_translationbook1note',\n",
       " 905: 'prose_translationbook1note',\n",
       " 906: 'prose_translationbook1note',\n",
       " 907: 'prose_translationbook1note',\n",
       " 908: 'prose_translationbook1note',\n",
       " 909: 'prose_translationbook1note',\n",
       " 910: 'prose_translationbook1note',\n",
       " 911: ['prose_translationbook1note', 'prose_translationbook1note'],\n",
       " 912: 'prose_translationbook1note',\n",
       " 913: 'prose_translationbook1note',\n",
       " 914: 'prose_translationbook1note',\n",
       " 915: 'prose_translationbook1note',\n",
       " 916: 'prose_translationbook1note',\n",
       " 917: 'prose_translationbook1note',\n",
       " 918: 'prose_translationbook1note',\n",
       " 919: ['prose_translationbook1note', 'prose_translationbook1'],\n",
       " 920: 'prose_translationbook1',\n",
       " 921: 'prose_translationbook1',\n",
       " 922: 'prose_translationbook1',\n",
       " 923: 'prose_translationbook1',\n",
       " 924: 'prose_translationbook1',\n",
       " 925: 'prose_translationbook1',\n",
       " 926: 'prose_translationbook1',\n",
       " 927: 'prose_translationbook1',\n",
       " 928: 'prose_translationbook1',\n",
       " 929: 'prose_translationbook1',\n",
       " 930: 'prose_translationbook1',\n",
       " 931: 'prose_translationbook1',\n",
       " 932: 'prose_translationbook1',\n",
       " 933: 'prose_translationbook1',\n",
       " 934: 'prose_translationbook1',\n",
       " 935: ['prose_translationbook1', 'prose_translationbook1note'],\n",
       " 936: 'prose_translationbook1note',\n",
       " 937: 'prose_translationbook1note',\n",
       " 938: ['prose_translationbook1note', 'prose_translationbook1note'],\n",
       " 939: 'prose_translationbook1note',\n",
       " 940: 'prose_translationbook1note',\n",
       " 941: ['prose_translationbook1note', 'prose_translationbook1'],\n",
       " 942: 'prose_translationbook1',\n",
       " 943: 'prose_translationbook1',\n",
       " 944: 'prose_translationbook1',\n",
       " 945: 'prose_translationbook1',\n",
       " 946: 'prose_translationbook1',\n",
       " 947: 'prose_translationbook1',\n",
       " 948: 'prose_translationbook1',\n",
       " 949: 'prose_translationbook1',\n",
       " 950: 'prose_translationbook1',\n",
       " 951: 'prose_translationbook1',\n",
       " 952: 'prose_translationbook1',\n",
       " 953: 'prose_translationbook1',\n",
       " 954: 'prose_translationbook1',\n",
       " 955: 'prose_translationbook1',\n",
       " 956: 'prose_translationbook1',\n",
       " 957: 'prose_translationbook1',\n",
       " 958: ['prose_translationbook1', 'prose_translationbook1note'],\n",
       " 959: 'prose_translationbook1note',\n",
       " 960: 'prose_translationbook1note',\n",
       " 961: ['prose_translationbook1note', 'prose_translationbook1note'],\n",
       " 962: ['prose_translationbook1note', 'prose_translationbook1'],\n",
       " 963: 'prose_translationbook1',\n",
       " 964: 'prose_translationbook1',\n",
       " 965: 'prose_translationbook1',\n",
       " 966: 'prose_translationbook1',\n",
       " 967: 'prose_translationbook1',\n",
       " 968: 'prose_translationbook1',\n",
       " 969: 'prose_translationbook1',\n",
       " 970: 'prose_translationbook1',\n",
       " 971: 'prose_translationbook1',\n",
       " 972: ['prose_translationbook1', 'prose_translationbook1note'],\n",
       " 973: 'prose_translationbook1note',\n",
       " 974: 'prose_translationbook1note',\n",
       " 975: 'prose_translationbook1note',\n",
       " 976: 'prose_translationbook1note',\n",
       " 977: 'prose_translationbook1note',\n",
       " 978: 'prose_translationbook1note',\n",
       " 979: 'prose_translationbook1note',\n",
       " 980: 'prose_translationbook1note',\n",
       " 981: 'prose_translationbook1note',\n",
       " 982: 'prose_translationbook1note',\n",
       " 983: 'prose_translationbook1',\n",
       " 984: 'prose_translationbook1',\n",
       " 985: 'prose_translationbook1',\n",
       " 986: 'prose_translationbook1',\n",
       " 987: 'prose_translationbook1',\n",
       " 988: 'prose_translationbook1',\n",
       " 989: 'prose_translationbook1note',\n",
       " 990: 'prose_translationbook1note',\n",
       " 991: 'prose_translationbook1note',\n",
       " 992: 'prose_translationbook1note',\n",
       " 993: 'prose_translationbook1note',\n",
       " 994: 'prose_translationbook1note',\n",
       " 995: 'prose_translationbook1note',\n",
       " 996: 'prose_translationbook1note',\n",
       " 997: 'prose_translationbook1note',\n",
       " 998: 'prose_translationbook1note',\n",
       " 999: 'prose_translationbook1note',\n",
       " ...}"
      ]
     },
     "execution_count": 1261,
     "metadata": {},
     "output_type": "execute_result"
    }
   ],
   "source": [
    "en1893_sent2section_name"
   ]
  },
  {
   "cell_type": "markdown",
   "id": "bf1256d9-a421-4f9b-ba96-1b85f1f10dbc",
   "metadata": {},
   "source": [
    "## Write to json"
   ]
  },
  {
   "cell_type": "code",
   "execution_count": 1264,
   "id": "9e3008a8-46ce-4078-9f28-295c64985936",
   "metadata": {},
   "outputs": [],
   "source": [
    "# path_out = \"/home/craig.car/repos/chiron/align_texts_project/data/lucretius/en1893_sent2section_dict.json\"\n",
    "# with open(path_out, 'w') as fp:\n",
    "#     json.dump(en1893_sent2section_name, fp)"
   ]
  },
  {
   "cell_type": "code",
   "execution_count": null,
   "id": "2b7d7e3b-7c5e-4763-ae08-f35b4338221c",
   "metadata": {},
   "outputs": [],
   "source": []
  }
 ],
 "metadata": {
  "kernelspec": {
   "display_name": "Python 3 (ipykernel)",
   "language": "python",
   "name": "python3"
  },
  "language_info": {
   "codemirror_mode": {
    "name": "ipython",
    "version": 3
   },
   "file_extension": ".py",
   "mimetype": "text/x-python",
   "name": "python",
   "nbconvert_exporter": "python",
   "pygments_lexer": "ipython3",
   "version": "3.10.10"
  }
 },
 "nbformat": 4,
 "nbformat_minor": 5
}
