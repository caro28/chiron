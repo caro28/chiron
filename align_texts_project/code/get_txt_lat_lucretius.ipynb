{
 "cells": [
  {
   "cell_type": "code",
   "execution_count": 33,
   "id": "7b17f13e-d3af-412c-93d2-21402d303b94",
   "metadata": {},
   "outputs": [
    {
     "ename": "ModuleNotFoundError",
     "evalue": "No module named 'preprocessing_functions'",
     "output_type": "error",
     "traceback": [
      "\u001b[0;31m---------------------------------------------------------------------------\u001b[0m",
      "\u001b[0;31mModuleNotFoundError\u001b[0m                       Traceback (most recent call last)",
      "Cell \u001b[0;32mIn[33], line 11\u001b[0m\n\u001b[1;32m      8\u001b[0m \u001b[38;5;28;01mfrom\u001b[39;00m \u001b[38;5;21;01mitertools\u001b[39;00m \u001b[38;5;28;01mimport\u001b[39;00m chain\n\u001b[1;32m      9\u001b[0m \u001b[38;5;28;01mfrom\u001b[39;00m \u001b[38;5;21;01mast\u001b[39;00m \u001b[38;5;28;01mimport\u001b[39;00m literal_eval\n\u001b[0;32m---> 11\u001b[0m \u001b[38;5;28;01mfrom\u001b[39;00m \u001b[38;5;21;01mpreprocessing_functions\u001b[39;00m \u001b[38;5;28;01mimport\u001b[39;00m load_txt_as_lst, split_txt, \\\n\u001b[1;32m     12\u001b[0m run_stanza, flatten_list, segment_series\n",
      "\u001b[0;31mModuleNotFoundError\u001b[0m: No module named 'preprocessing_functions'"
     ]
    }
   ],
   "source": [
    "import re\n",
    "import json\n",
    "import stanza\n",
    "\n",
    "import numpy as np\n",
    "import pandas as pd\n",
    "\n",
    "from itertools import chain\n",
    "from ast import literal_eval\n",
    "\n",
    "from preprocessing_functions import load_txt_as_lst, split_txt, \\\n",
    "run_stanza, flatten_list, segment_series"
   ]
  },
  {
   "cell_type": "code",
   "execution_count": 3,
   "id": "e83ef711-3e16-4923-8f10-590809a6ee3c",
   "metadata": {},
   "outputs": [],
   "source": [
    "top10_path = \"/home/craig.car/repos/chiron/align_texts_project/data/top10-redo.jsonl\"\n",
    "top10_df = pd.read_json(top10_path, lines=True)"
   ]
  },
  {
   "cell_type": "code",
   "execution_count": 5,
   "id": "b4e61321-d290-40ac-b2c6-a496cc6da74c",
   "metadata": {},
   "outputs": [
    {
     "data": {
      "text/html": [
       "<div>\n",
       "<style scoped>\n",
       "    .dataframe tbody tr th:only-of-type {\n",
       "        vertical-align: middle;\n",
       "    }\n",
       "\n",
       "    .dataframe tbody tr th {\n",
       "        vertical-align: top;\n",
       "    }\n",
       "\n",
       "    .dataframe thead th {\n",
       "        text-align: right;\n",
       "    }\n",
       "</style>\n",
       "<table border=\"1\" class=\"dataframe\">\n",
       "  <thead>\n",
       "    <tr style=\"text-align: right;\">\n",
       "      <th></th>\n",
       "      <th>id</th>\n",
       "      <th>book</th>\n",
       "      <th>seq</th>\n",
       "      <th>loc</th>\n",
       "      <th>text</th>\n",
       "    </tr>\n",
       "  </thead>\n",
       "  <tbody>\n",
       "    <tr>\n",
       "      <th>0</th>\n",
       "      <td>urn:cts:latinLit:phi0550.phi001.perseus-lat1:1.1</td>\n",
       "      <td>urn:cts:latinLit:phi0550.phi001.perseus-lat1</td>\n",
       "      <td>0</td>\n",
       "      <td>urn:cts:latinLit:phi0550.phi001:1.1</td>\n",
       "      <td>Aeneadum genetrix, hominum divomque voluptas,\\n</td>\n",
       "    </tr>\n",
       "    <tr>\n",
       "      <th>1</th>\n",
       "      <td>urn:cts:latinLit:phi0550.phi001.perseus-lat1:1.2</td>\n",
       "      <td>urn:cts:latinLit:phi0550.phi001.perseus-lat1</td>\n",
       "      <td>1</td>\n",
       "      <td>urn:cts:latinLit:phi0550.phi001:1.2</td>\n",
       "      <td>alma Venus, caeli subter labentia signa\\n</td>\n",
       "    </tr>\n",
       "    <tr>\n",
       "      <th>2</th>\n",
       "      <td>urn:cts:latinLit:phi0550.phi001.perseus-lat1:1.3</td>\n",
       "      <td>urn:cts:latinLit:phi0550.phi001.perseus-lat1</td>\n",
       "      <td>2</td>\n",
       "      <td>urn:cts:latinLit:phi0550.phi001:1.3</td>\n",
       "      <td>quae mare navigerum, quae terras frugiferentis\\n</td>\n",
       "    </tr>\n",
       "    <tr>\n",
       "      <th>3</th>\n",
       "      <td>urn:cts:latinLit:phi0550.phi001.perseus-lat1:1.4</td>\n",
       "      <td>urn:cts:latinLit:phi0550.phi001.perseus-lat1</td>\n",
       "      <td>3</td>\n",
       "      <td>urn:cts:latinLit:phi0550.phi001:1.4</td>\n",
       "      <td>concelebras, per te quoniam genus omne animant...</td>\n",
       "    </tr>\n",
       "    <tr>\n",
       "      <th>4</th>\n",
       "      <td>urn:cts:latinLit:phi0550.phi001.perseus-lat1:1.5</td>\n",
       "      <td>urn:cts:latinLit:phi0550.phi001.perseus-lat1</td>\n",
       "      <td>4</td>\n",
       "      <td>urn:cts:latinLit:phi0550.phi001:1.5</td>\n",
       "      <td>concipitur visitque exortum lumina solis:\\n</td>\n",
       "    </tr>\n",
       "  </tbody>\n",
       "</table>\n",
       "</div>"
      ],
      "text/plain": [
       "                                                 id  \\\n",
       "0  urn:cts:latinLit:phi0550.phi001.perseus-lat1:1.1   \n",
       "1  urn:cts:latinLit:phi0550.phi001.perseus-lat1:1.2   \n",
       "2  urn:cts:latinLit:phi0550.phi001.perseus-lat1:1.3   \n",
       "3  urn:cts:latinLit:phi0550.phi001.perseus-lat1:1.4   \n",
       "4  urn:cts:latinLit:phi0550.phi001.perseus-lat1:1.5   \n",
       "\n",
       "                                           book  seq  \\\n",
       "0  urn:cts:latinLit:phi0550.phi001.perseus-lat1    0   \n",
       "1  urn:cts:latinLit:phi0550.phi001.perseus-lat1    1   \n",
       "2  urn:cts:latinLit:phi0550.phi001.perseus-lat1    2   \n",
       "3  urn:cts:latinLit:phi0550.phi001.perseus-lat1    3   \n",
       "4  urn:cts:latinLit:phi0550.phi001.perseus-lat1    4   \n",
       "\n",
       "                                   loc  \\\n",
       "0  urn:cts:latinLit:phi0550.phi001:1.1   \n",
       "1  urn:cts:latinLit:phi0550.phi001:1.2   \n",
       "2  urn:cts:latinLit:phi0550.phi001:1.3   \n",
       "3  urn:cts:latinLit:phi0550.phi001:1.4   \n",
       "4  urn:cts:latinLit:phi0550.phi001:1.5   \n",
       "\n",
       "                                                text  \n",
       "0    Aeneadum genetrix, hominum divomque voluptas,\\n  \n",
       "1          alma Venus, caeli subter labentia signa\\n  \n",
       "2   quae mare navigerum, quae terras frugiferentis\\n  \n",
       "3  concelebras, per te quoniam genus omne animant...  \n",
       "4        concipitur visitque exortum lumina solis:\\n  "
      ]
     },
     "execution_count": 5,
     "metadata": {},
     "output_type": "execute_result"
    }
   ],
   "source": [
    "top10_df.head()"
   ]
  },
  {
   "cell_type": "code",
   "execution_count": 6,
   "id": "83390c94-84d4-4e8d-9a80-972b783ed198",
   "metadata": {},
   "outputs": [
    {
     "data": {
      "text/html": [
       "<div>\n",
       "<style scoped>\n",
       "    .dataframe tbody tr th:only-of-type {\n",
       "        vertical-align: middle;\n",
       "    }\n",
       "\n",
       "    .dataframe tbody tr th {\n",
       "        vertical-align: top;\n",
       "    }\n",
       "\n",
       "    .dataframe thead th {\n",
       "        text-align: right;\n",
       "    }\n",
       "</style>\n",
       "<table border=\"1\" class=\"dataframe\">\n",
       "  <thead>\n",
       "    <tr style=\"text-align: right;\">\n",
       "      <th></th>\n",
       "      <th>id</th>\n",
       "      <th>seq</th>\n",
       "      <th>loc</th>\n",
       "      <th>text</th>\n",
       "    </tr>\n",
       "    <tr>\n",
       "      <th>book</th>\n",
       "      <th></th>\n",
       "      <th></th>\n",
       "      <th></th>\n",
       "      <th></th>\n",
       "    </tr>\n",
       "  </thead>\n",
       "  <tbody>\n",
       "    <tr>\n",
       "      <th>urn:cts:greekLit:tlg0011.tlg002.perseus-grc2</th>\n",
       "      <td>1257</td>\n",
       "      <td>1257</td>\n",
       "      <td>1257</td>\n",
       "      <td>1257</td>\n",
       "    </tr>\n",
       "    <tr>\n",
       "      <th>urn:cts:greekLit:tlg0012.tlg001.perseus-grc2</th>\n",
       "      <td>15686</td>\n",
       "      <td>15686</td>\n",
       "      <td>15686</td>\n",
       "      <td>15686</td>\n",
       "    </tr>\n",
       "    <tr>\n",
       "      <th>urn:cts:greekLit:tlg0012.tlg002.perseus-grc2</th>\n",
       "      <td>12107</td>\n",
       "      <td>12107</td>\n",
       "      <td>12107</td>\n",
       "      <td>12107</td>\n",
       "    </tr>\n",
       "    <tr>\n",
       "      <th>urn:cts:greekLit:tlg0085.tlg005.opp-grc3</th>\n",
       "      <td>1643</td>\n",
       "      <td>1643</td>\n",
       "      <td>1643</td>\n",
       "      <td>1643</td>\n",
       "    </tr>\n",
       "    <tr>\n",
       "      <th>urn:cts:greekLit:tlg0085.tlg005.perseus-grc2</th>\n",
       "      <td>1649</td>\n",
       "      <td>1649</td>\n",
       "      <td>1649</td>\n",
       "      <td>1649</td>\n",
       "    </tr>\n",
       "    <tr>\n",
       "      <th>urn:cts:latinLit:phi0550.phi001.perseus-lat1</th>\n",
       "      <td>7420</td>\n",
       "      <td>7420</td>\n",
       "      <td>7420</td>\n",
       "      <td>7420</td>\n",
       "    </tr>\n",
       "    <tr>\n",
       "      <th>urn:cts:latinLit:phi0959.phi006.perseus-lat2</th>\n",
       "      <td>11927</td>\n",
       "      <td>11927</td>\n",
       "      <td>11927</td>\n",
       "      <td>11927</td>\n",
       "    </tr>\n",
       "  </tbody>\n",
       "</table>\n",
       "</div>"
      ],
      "text/plain": [
       "                                                 id    seq    loc   text\n",
       "book                                                                    \n",
       "urn:cts:greekLit:tlg0011.tlg002.perseus-grc2   1257   1257   1257   1257\n",
       "urn:cts:greekLit:tlg0012.tlg001.perseus-grc2  15686  15686  15686  15686\n",
       "urn:cts:greekLit:tlg0012.tlg002.perseus-grc2  12107  12107  12107  12107\n",
       "urn:cts:greekLit:tlg0085.tlg005.opp-grc3       1643   1643   1643   1643\n",
       "urn:cts:greekLit:tlg0085.tlg005.perseus-grc2   1649   1649   1649   1649\n",
       "urn:cts:latinLit:phi0550.phi001.perseus-lat1   7420   7420   7420   7420\n",
       "urn:cts:latinLit:phi0959.phi006.perseus-lat2  11927  11927  11927  11927"
      ]
     },
     "execution_count": 6,
     "metadata": {},
     "output_type": "execute_result"
    }
   ],
   "source": [
    "top10_df.groupby(\"book\").count()"
   ]
  },
  {
   "cell_type": "code",
   "execution_count": 7,
   "id": "9200d54c-689a-4710-ae9c-c37111318dda",
   "metadata": {},
   "outputs": [],
   "source": [
    "lucretius_lat = top10_df.loc[top10_df[\"book\"]==\"urn:cts:latinLit:phi0550.phi001.perseus-lat1\"]"
   ]
  },
  {
   "cell_type": "code",
   "execution_count": 10,
   "id": "dabdcbfa-b947-473d-acf7-d940e8024327",
   "metadata": {},
   "outputs": [
    {
     "data": {
      "text/html": [
       "<div>\n",
       "<style scoped>\n",
       "    .dataframe tbody tr th:only-of-type {\n",
       "        vertical-align: middle;\n",
       "    }\n",
       "\n",
       "    .dataframe tbody tr th {\n",
       "        vertical-align: top;\n",
       "    }\n",
       "\n",
       "    .dataframe thead th {\n",
       "        text-align: right;\n",
       "    }\n",
       "</style>\n",
       "<table border=\"1\" class=\"dataframe\">\n",
       "  <thead>\n",
       "    <tr style=\"text-align: right;\">\n",
       "      <th></th>\n",
       "      <th>id</th>\n",
       "      <th>book</th>\n",
       "      <th>seq</th>\n",
       "      <th>loc</th>\n",
       "      <th>text</th>\n",
       "    </tr>\n",
       "  </thead>\n",
       "  <tbody>\n",
       "    <tr>\n",
       "      <th>0</th>\n",
       "      <td>urn:cts:latinLit:phi0550.phi001.perseus-lat1:1.1</td>\n",
       "      <td>urn:cts:latinLit:phi0550.phi001.perseus-lat1</td>\n",
       "      <td>0</td>\n",
       "      <td>urn:cts:latinLit:phi0550.phi001:1.1</td>\n",
       "      <td>Aeneadum genetrix, hominum divomque voluptas,\\n</td>\n",
       "    </tr>\n",
       "    <tr>\n",
       "      <th>1</th>\n",
       "      <td>urn:cts:latinLit:phi0550.phi001.perseus-lat1:1.2</td>\n",
       "      <td>urn:cts:latinLit:phi0550.phi001.perseus-lat1</td>\n",
       "      <td>1</td>\n",
       "      <td>urn:cts:latinLit:phi0550.phi001:1.2</td>\n",
       "      <td>alma Venus, caeli subter labentia signa\\n</td>\n",
       "    </tr>\n",
       "    <tr>\n",
       "      <th>2</th>\n",
       "      <td>urn:cts:latinLit:phi0550.phi001.perseus-lat1:1.3</td>\n",
       "      <td>urn:cts:latinLit:phi0550.phi001.perseus-lat1</td>\n",
       "      <td>2</td>\n",
       "      <td>urn:cts:latinLit:phi0550.phi001:1.3</td>\n",
       "      <td>quae mare navigerum, quae terras frugiferentis\\n</td>\n",
       "    </tr>\n",
       "    <tr>\n",
       "      <th>3</th>\n",
       "      <td>urn:cts:latinLit:phi0550.phi001.perseus-lat1:1.4</td>\n",
       "      <td>urn:cts:latinLit:phi0550.phi001.perseus-lat1</td>\n",
       "      <td>3</td>\n",
       "      <td>urn:cts:latinLit:phi0550.phi001:1.4</td>\n",
       "      <td>concelebras, per te quoniam genus omne animant...</td>\n",
       "    </tr>\n",
       "    <tr>\n",
       "      <th>4</th>\n",
       "      <td>urn:cts:latinLit:phi0550.phi001.perseus-lat1:1.5</td>\n",
       "      <td>urn:cts:latinLit:phi0550.phi001.perseus-lat1</td>\n",
       "      <td>4</td>\n",
       "      <td>urn:cts:latinLit:phi0550.phi001:1.5</td>\n",
       "      <td>concipitur visitque exortum lumina solis:\\n</td>\n",
       "    </tr>\n",
       "    <tr>\n",
       "      <th>...</th>\n",
       "      <td>...</td>\n",
       "      <td>...</td>\n",
       "      <td>...</td>\n",
       "      <td>...</td>\n",
       "      <td>...</td>\n",
       "    </tr>\n",
       "    <tr>\n",
       "      <th>7415</th>\n",
       "      <td>urn:cts:latinLit:phi0550.phi001.perseus-lat1:6...</td>\n",
       "      <td>urn:cts:latinLit:phi0550.phi001.perseus-lat1</td>\n",
       "      <td>7415</td>\n",
       "      <td>urn:cts:latinLit:phi0550.phi001:6.1282</td>\n",
       "      <td>inque aliis alium populum sepelire suorum\\n</td>\n",
       "    </tr>\n",
       "    <tr>\n",
       "      <th>7416</th>\n",
       "      <td>urn:cts:latinLit:phi0550.phi001.perseus-lat1:6...</td>\n",
       "      <td>urn:cts:latinLit:phi0550.phi001.perseus-lat1</td>\n",
       "      <td>7416</td>\n",
       "      <td>urn:cts:latinLit:phi0550.phi001:6.1283</td>\n",
       "      <td>certantes; lacrimis lassi luctuque redibant;\\n</td>\n",
       "    </tr>\n",
       "    <tr>\n",
       "      <th>7417</th>\n",
       "      <td>urn:cts:latinLit:phi0550.phi001.perseus-lat1:6...</td>\n",
       "      <td>urn:cts:latinLit:phi0550.phi001.perseus-lat1</td>\n",
       "      <td>7417</td>\n",
       "      <td>urn:cts:latinLit:phi0550.phi001:6.1284</td>\n",
       "      <td>inde bonam partem in lectum maerore dabantur;\\n</td>\n",
       "    </tr>\n",
       "    <tr>\n",
       "      <th>7418</th>\n",
       "      <td>urn:cts:latinLit:phi0550.phi001.perseus-lat1:6...</td>\n",
       "      <td>urn:cts:latinLit:phi0550.phi001.perseus-lat1</td>\n",
       "      <td>7418</td>\n",
       "      <td>urn:cts:latinLit:phi0550.phi001:6.1285</td>\n",
       "      <td>nec poterat quisquam reperiri, quem neque morb...</td>\n",
       "    </tr>\n",
       "    <tr>\n",
       "      <th>7419</th>\n",
       "      <td>urn:cts:latinLit:phi0550.phi001.perseus-lat1:6...</td>\n",
       "      <td>urn:cts:latinLit:phi0550.phi001.perseus-lat1</td>\n",
       "      <td>7419</td>\n",
       "      <td>urn:cts:latinLit:phi0550.phi001:6.1286</td>\n",
       "      <td>nec mors nec luctus temptaret tempore tali.\\n</td>\n",
       "    </tr>\n",
       "  </tbody>\n",
       "</table>\n",
       "<p>7420 rows × 5 columns</p>\n",
       "</div>"
      ],
      "text/plain": [
       "                                                     id  \\\n",
       "0      urn:cts:latinLit:phi0550.phi001.perseus-lat1:1.1   \n",
       "1      urn:cts:latinLit:phi0550.phi001.perseus-lat1:1.2   \n",
       "2      urn:cts:latinLit:phi0550.phi001.perseus-lat1:1.3   \n",
       "3      urn:cts:latinLit:phi0550.phi001.perseus-lat1:1.4   \n",
       "4      urn:cts:latinLit:phi0550.phi001.perseus-lat1:1.5   \n",
       "...                                                 ...   \n",
       "7415  urn:cts:latinLit:phi0550.phi001.perseus-lat1:6...   \n",
       "7416  urn:cts:latinLit:phi0550.phi001.perseus-lat1:6...   \n",
       "7417  urn:cts:latinLit:phi0550.phi001.perseus-lat1:6...   \n",
       "7418  urn:cts:latinLit:phi0550.phi001.perseus-lat1:6...   \n",
       "7419  urn:cts:latinLit:phi0550.phi001.perseus-lat1:6...   \n",
       "\n",
       "                                              book   seq  \\\n",
       "0     urn:cts:latinLit:phi0550.phi001.perseus-lat1     0   \n",
       "1     urn:cts:latinLit:phi0550.phi001.perseus-lat1     1   \n",
       "2     urn:cts:latinLit:phi0550.phi001.perseus-lat1     2   \n",
       "3     urn:cts:latinLit:phi0550.phi001.perseus-lat1     3   \n",
       "4     urn:cts:latinLit:phi0550.phi001.perseus-lat1     4   \n",
       "...                                            ...   ...   \n",
       "7415  urn:cts:latinLit:phi0550.phi001.perseus-lat1  7415   \n",
       "7416  urn:cts:latinLit:phi0550.phi001.perseus-lat1  7416   \n",
       "7417  urn:cts:latinLit:phi0550.phi001.perseus-lat1  7417   \n",
       "7418  urn:cts:latinLit:phi0550.phi001.perseus-lat1  7418   \n",
       "7419  urn:cts:latinLit:phi0550.phi001.perseus-lat1  7419   \n",
       "\n",
       "                                         loc  \\\n",
       "0        urn:cts:latinLit:phi0550.phi001:1.1   \n",
       "1        urn:cts:latinLit:phi0550.phi001:1.2   \n",
       "2        urn:cts:latinLit:phi0550.phi001:1.3   \n",
       "3        urn:cts:latinLit:phi0550.phi001:1.4   \n",
       "4        urn:cts:latinLit:phi0550.phi001:1.5   \n",
       "...                                      ...   \n",
       "7415  urn:cts:latinLit:phi0550.phi001:6.1282   \n",
       "7416  urn:cts:latinLit:phi0550.phi001:6.1283   \n",
       "7417  urn:cts:latinLit:phi0550.phi001:6.1284   \n",
       "7418  urn:cts:latinLit:phi0550.phi001:6.1285   \n",
       "7419  urn:cts:latinLit:phi0550.phi001:6.1286   \n",
       "\n",
       "                                                   text  \n",
       "0       Aeneadum genetrix, hominum divomque voluptas,\\n  \n",
       "1             alma Venus, caeli subter labentia signa\\n  \n",
       "2      quae mare navigerum, quae terras frugiferentis\\n  \n",
       "3     concelebras, per te quoniam genus omne animant...  \n",
       "4           concipitur visitque exortum lumina solis:\\n  \n",
       "...                                                 ...  \n",
       "7415        inque aliis alium populum sepelire suorum\\n  \n",
       "7416     certantes; lacrimis lassi luctuque redibant;\\n  \n",
       "7417    inde bonam partem in lectum maerore dabantur;\\n  \n",
       "7418  nec poterat quisquam reperiri, quem neque morb...  \n",
       "7419      nec mors nec luctus temptaret tempore tali.\\n  \n",
       "\n",
       "[7420 rows x 5 columns]"
      ]
     },
     "execution_count": 10,
     "metadata": {},
     "output_type": "execute_result"
    }
   ],
   "source": [
    "lucretius_lat"
   ]
  },
  {
   "cell_type": "markdown",
   "id": "0bc68f04-ad09-4ff4-8066-19c5d8b90d36",
   "metadata": {},
   "source": [
    "Each row corresponds to a line of text in [Perseus version](http://www.perseus.tufts.edu/hopper/text?doc=Perseus%3Atext%3A1999.02.0130%3Abook%3D1%3Acard%3D1)."
   ]
  },
  {
   "cell_type": "markdown",
   "id": "8975acdb-5fc4-4cfe-90d4-b53c32e84646",
   "metadata": {},
   "source": [
    "# Get Lucretius sentences, no section markings"
   ]
  },
  {
   "cell_type": "code",
   "execution_count": 19,
   "id": "42ee1996-69ee-4d68-95da-238d464acc4b",
   "metadata": {},
   "outputs": [],
   "source": [
    "# remove ending \\n\n",
    "lucretius_lat_lst = list(lucretius_lat[\"text\"].str.strip(\"\\n\"))"
   ]
  },
  {
   "cell_type": "code",
   "execution_count": 20,
   "id": "26f9b82a-9506-462f-92b6-0ac5ac0b09e8",
   "metadata": {},
   "outputs": [
    {
     "data": {
      "text/plain": [
       "['Aeneadum genetrix, hominum divomque voluptas,',\n",
       " 'alma Venus, caeli subter labentia signa',\n",
       " 'quae mare navigerum, quae terras frugiferentis',\n",
       " 'concelebras, per te quoniam genus omne animantum',\n",
       " 'concipitur visitque exortum lumina solis:',\n",
       " 'te, dea, te fugiunt venti, te nubila caeli',\n",
       " 'adventumque tuum, tibi suavis daedala tellus',\n",
       " 'summittit flores, tibi rident aequora ponti',\n",
       " 'placatumque nitet diffuso lumine caelum.',\n",
       " 'nam simul ac species patefactast verna diei']"
      ]
     },
     "execution_count": 20,
     "metadata": {},
     "output_type": "execute_result"
    }
   ],
   "source": [
    "lucretius_lat_lst[:10]"
   ]
  },
  {
   "cell_type": "code",
   "execution_count": 21,
   "id": "8fbfc264-a7d3-4787-932d-c702ba721952",
   "metadata": {},
   "outputs": [],
   "source": [
    "lucretius_lat_str = \" \".join(lucretius_lat_lst)"
   ]
  },
  {
   "cell_type": "code",
   "execution_count": 23,
   "id": "0077bef8-d6cb-402d-aa7d-43486f4f8565",
   "metadata": {},
   "outputs": [
    {
     "data": {
      "text/plain": [
       "'Aeneadum genetrix, hominum divomque voluptas, alma Venus, caeli subter labentia signa quae mare navigerum, quae terras frugiferentis concelebras, per te quoniam genus omne animantum concipitur visitque exortum lumina solis: te, dea, te fugiunt venti, te nubila caeli adventumque tuum, tibi suavis daedala tellus summittit flores, tibi rident aequora ponti placatumque nitet diffuso lumine caelum. nam simul ac species patefactast verna diei et reserata viget genitabilis aura favoni, aeriae primum volucris te, diva, tuumque significant initum perculsae corda tua vi. inde ferae pecudes persultant pabula laeta et rapidos tranant amnis: ita capta lepore te sequitur cupide quo quamque inducere pergis. denique per maria ac montis fluviosque rapacis frondiferasque domos avium camposque virentis omnibus incutiens blandum per pectora amorem efficis ut cupide generatim saecla propagent. quae quoniam rerum naturam sola gubernas nec sine te quicquam dias in luminis oras exoritur neque fit laetum neque'"
      ]
     },
     "execution_count": 23,
     "metadata": {},
     "output_type": "execute_result"
    }
   ],
   "source": [
    "lucretius_lat_str[:1000]"
   ]
  },
  {
   "cell_type": "code",
   "execution_count": 26,
   "id": "ad69a744-e628-4258-a358-651daeabaaee",
   "metadata": {},
   "outputs": [
    {
     "name": "stderr",
     "output_type": "stream",
     "text": [
      "2023-06-15 11:49:32 INFO: Checking for updates to resources.json in case models have been updated.  Note: this behavior can be turned off with download_method=None or download_method=DownloadMethod.REUSE_RESOURCES\n"
     ]
    },
    {
     "data": {
      "application/vnd.jupyter.widget-view+json": {
       "model_id": "51a25d6c8ca3405b980e1c4a755769ff",
       "version_major": 2,
       "version_minor": 0
      },
      "text/plain": [
       "Downloading https://raw.githubusercontent.com/stanfordnlp/stanza-resources/main/resources_1.5.0.json:   0%|   …"
      ]
     },
     "metadata": {},
     "output_type": "display_data"
    },
    {
     "data": {
      "application/vnd.jupyter.widget-view+json": {
       "model_id": "eb1011cf0f144495a29587f0238bb06d",
       "version_major": 2,
       "version_minor": 0
      },
      "text/plain": [
       "Downloading https://huggingface.co/stanfordnlp/stanza-la/resolve/v1.5.0/models/tokenize/ittb.pt:   0%|        …"
      ]
     },
     "metadata": {},
     "output_type": "display_data"
    },
    {
     "name": "stderr",
     "output_type": "stream",
     "text": [
      "2023-06-15 11:49:33 INFO: Loading these models for language: la (Latin):\n",
      "=======================\n",
      "| Processor | Package |\n",
      "-----------------------\n",
      "| tokenize  | ittb    |\n",
      "=======================\n",
      "\n",
      "2023-06-15 11:49:33 WARNING: GPU requested, but is not available!\n",
      "2023-06-15 11:49:33 INFO: Using device: cpu\n",
      "2023-06-15 11:49:33 INFO: Loading: tokenize\n",
      "2023-06-15 11:49:33 INFO: Done loading processors!\n"
     ]
    }
   ],
   "source": [
    "# load stanza model for Latin\n",
    "lang_ = \"la\"\n",
    "stanza_model_ = stanza.Pipeline(lang=lang_, processors='tokenize', use_gpu=True)"
   ]
  },
  {
   "cell_type": "code",
   "execution_count": null,
   "id": "162e4b74-3889-4547-8a41-32ed864030a8",
   "metadata": {},
   "outputs": [],
   "source": []
  }
 ],
 "metadata": {
  "kernelspec": {
   "display_name": "Python 3 (ipykernel)",
   "language": "python",
   "name": "python3"
  },
  "language_info": {
   "codemirror_mode": {
    "name": "ipython",
    "version": 3
   },
   "file_extension": ".py",
   "mimetype": "text/x-python",
   "name": "python",
   "nbconvert_exporter": "python",
   "pygments_lexer": "ipython3",
   "version": "3.10.10"
  }
 },
 "nbformat": 4,
 "nbformat_minor": 5
}
