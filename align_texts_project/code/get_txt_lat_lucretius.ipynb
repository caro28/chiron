{
 "cells": [
  {
   "cell_type": "code",
   "execution_count": 1,
   "id": "7b17f13e-d3af-412c-93d2-21402d303b94",
   "metadata": {},
   "outputs": [],
   "source": [
    "import re\n",
    "import json\n",
    "import stanza\n",
    "\n",
    "import numpy as np\n",
    "import pandas as pd\n",
    "\n",
    "from itertools import chain\n",
    "from ast import literal_eval\n",
    "\n",
    "from functions import load_txt_as_lst, split_txt, \\\n",
    "run_stanza, flatten_list, segment_series, preprocess_series, write_file, \\\n",
    "build_sent_to_section_dict"
   ]
  },
  {
   "cell_type": "code",
   "execution_count": 2,
   "id": "e83ef711-3e16-4923-8f10-590809a6ee3c",
   "metadata": {},
   "outputs": [],
   "source": [
    "top10_path = \"/home/craig.car/repos/chiron/align_texts_project/data/top10-redo.jsonl\"\n",
    "top10_df = pd.read_json(top10_path, lines=True)"
   ]
  },
  {
   "cell_type": "code",
   "execution_count": 3,
   "id": "b4e61321-d290-40ac-b2c6-a496cc6da74c",
   "metadata": {},
   "outputs": [
    {
     "data": {
      "text/html": [
       "<div>\n",
       "<style scoped>\n",
       "    .dataframe tbody tr th:only-of-type {\n",
       "        vertical-align: middle;\n",
       "    }\n",
       "\n",
       "    .dataframe tbody tr th {\n",
       "        vertical-align: top;\n",
       "    }\n",
       "\n",
       "    .dataframe thead th {\n",
       "        text-align: right;\n",
       "    }\n",
       "</style>\n",
       "<table border=\"1\" class=\"dataframe\">\n",
       "  <thead>\n",
       "    <tr style=\"text-align: right;\">\n",
       "      <th></th>\n",
       "      <th>id</th>\n",
       "      <th>book</th>\n",
       "      <th>seq</th>\n",
       "      <th>loc</th>\n",
       "      <th>text</th>\n",
       "    </tr>\n",
       "  </thead>\n",
       "  <tbody>\n",
       "    <tr>\n",
       "      <th>0</th>\n",
       "      <td>urn:cts:latinLit:phi0550.phi001.perseus-lat1:1.1</td>\n",
       "      <td>urn:cts:latinLit:phi0550.phi001.perseus-lat1</td>\n",
       "      <td>0</td>\n",
       "      <td>urn:cts:latinLit:phi0550.phi001:1.1</td>\n",
       "      <td>Aeneadum genetrix, hominum divomque voluptas,\\n</td>\n",
       "    </tr>\n",
       "    <tr>\n",
       "      <th>1</th>\n",
       "      <td>urn:cts:latinLit:phi0550.phi001.perseus-lat1:1.2</td>\n",
       "      <td>urn:cts:latinLit:phi0550.phi001.perseus-lat1</td>\n",
       "      <td>1</td>\n",
       "      <td>urn:cts:latinLit:phi0550.phi001:1.2</td>\n",
       "      <td>alma Venus, caeli subter labentia signa\\n</td>\n",
       "    </tr>\n",
       "    <tr>\n",
       "      <th>2</th>\n",
       "      <td>urn:cts:latinLit:phi0550.phi001.perseus-lat1:1.3</td>\n",
       "      <td>urn:cts:latinLit:phi0550.phi001.perseus-lat1</td>\n",
       "      <td>2</td>\n",
       "      <td>urn:cts:latinLit:phi0550.phi001:1.3</td>\n",
       "      <td>quae mare navigerum, quae terras frugiferentis\\n</td>\n",
       "    </tr>\n",
       "    <tr>\n",
       "      <th>3</th>\n",
       "      <td>urn:cts:latinLit:phi0550.phi001.perseus-lat1:1.4</td>\n",
       "      <td>urn:cts:latinLit:phi0550.phi001.perseus-lat1</td>\n",
       "      <td>3</td>\n",
       "      <td>urn:cts:latinLit:phi0550.phi001:1.4</td>\n",
       "      <td>concelebras, per te quoniam genus omne animant...</td>\n",
       "    </tr>\n",
       "    <tr>\n",
       "      <th>4</th>\n",
       "      <td>urn:cts:latinLit:phi0550.phi001.perseus-lat1:1.5</td>\n",
       "      <td>urn:cts:latinLit:phi0550.phi001.perseus-lat1</td>\n",
       "      <td>4</td>\n",
       "      <td>urn:cts:latinLit:phi0550.phi001:1.5</td>\n",
       "      <td>concipitur visitque exortum lumina solis:\\n</td>\n",
       "    </tr>\n",
       "  </tbody>\n",
       "</table>\n",
       "</div>"
      ],
      "text/plain": [
       "                                                 id  \\\n",
       "0  urn:cts:latinLit:phi0550.phi001.perseus-lat1:1.1   \n",
       "1  urn:cts:latinLit:phi0550.phi001.perseus-lat1:1.2   \n",
       "2  urn:cts:latinLit:phi0550.phi001.perseus-lat1:1.3   \n",
       "3  urn:cts:latinLit:phi0550.phi001.perseus-lat1:1.4   \n",
       "4  urn:cts:latinLit:phi0550.phi001.perseus-lat1:1.5   \n",
       "\n",
       "                                           book  seq  \\\n",
       "0  urn:cts:latinLit:phi0550.phi001.perseus-lat1    0   \n",
       "1  urn:cts:latinLit:phi0550.phi001.perseus-lat1    1   \n",
       "2  urn:cts:latinLit:phi0550.phi001.perseus-lat1    2   \n",
       "3  urn:cts:latinLit:phi0550.phi001.perseus-lat1    3   \n",
       "4  urn:cts:latinLit:phi0550.phi001.perseus-lat1    4   \n",
       "\n",
       "                                   loc  \\\n",
       "0  urn:cts:latinLit:phi0550.phi001:1.1   \n",
       "1  urn:cts:latinLit:phi0550.phi001:1.2   \n",
       "2  urn:cts:latinLit:phi0550.phi001:1.3   \n",
       "3  urn:cts:latinLit:phi0550.phi001:1.4   \n",
       "4  urn:cts:latinLit:phi0550.phi001:1.5   \n",
       "\n",
       "                                                text  \n",
       "0    Aeneadum genetrix, hominum divomque voluptas,\\n  \n",
       "1          alma Venus, caeli subter labentia signa\\n  \n",
       "2   quae mare navigerum, quae terras frugiferentis\\n  \n",
       "3  concelebras, per te quoniam genus omne animant...  \n",
       "4        concipitur visitque exortum lumina solis:\\n  "
      ]
     },
     "execution_count": 3,
     "metadata": {},
     "output_type": "execute_result"
    }
   ],
   "source": [
    "top10_df.head()"
   ]
  },
  {
   "cell_type": "code",
   "execution_count": 4,
   "id": "83390c94-84d4-4e8d-9a80-972b783ed198",
   "metadata": {},
   "outputs": [
    {
     "data": {
      "text/html": [
       "<div>\n",
       "<style scoped>\n",
       "    .dataframe tbody tr th:only-of-type {\n",
       "        vertical-align: middle;\n",
       "    }\n",
       "\n",
       "    .dataframe tbody tr th {\n",
       "        vertical-align: top;\n",
       "    }\n",
       "\n",
       "    .dataframe thead th {\n",
       "        text-align: right;\n",
       "    }\n",
       "</style>\n",
       "<table border=\"1\" class=\"dataframe\">\n",
       "  <thead>\n",
       "    <tr style=\"text-align: right;\">\n",
       "      <th></th>\n",
       "      <th>id</th>\n",
       "      <th>seq</th>\n",
       "      <th>loc</th>\n",
       "      <th>text</th>\n",
       "    </tr>\n",
       "    <tr>\n",
       "      <th>book</th>\n",
       "      <th></th>\n",
       "      <th></th>\n",
       "      <th></th>\n",
       "      <th></th>\n",
       "    </tr>\n",
       "  </thead>\n",
       "  <tbody>\n",
       "    <tr>\n",
       "      <th>urn:cts:greekLit:tlg0011.tlg002.perseus-grc2</th>\n",
       "      <td>1257</td>\n",
       "      <td>1257</td>\n",
       "      <td>1257</td>\n",
       "      <td>1257</td>\n",
       "    </tr>\n",
       "    <tr>\n",
       "      <th>urn:cts:greekLit:tlg0012.tlg001.perseus-grc2</th>\n",
       "      <td>15686</td>\n",
       "      <td>15686</td>\n",
       "      <td>15686</td>\n",
       "      <td>15686</td>\n",
       "    </tr>\n",
       "    <tr>\n",
       "      <th>urn:cts:greekLit:tlg0012.tlg002.perseus-grc2</th>\n",
       "      <td>12107</td>\n",
       "      <td>12107</td>\n",
       "      <td>12107</td>\n",
       "      <td>12107</td>\n",
       "    </tr>\n",
       "    <tr>\n",
       "      <th>urn:cts:greekLit:tlg0085.tlg005.opp-grc3</th>\n",
       "      <td>1643</td>\n",
       "      <td>1643</td>\n",
       "      <td>1643</td>\n",
       "      <td>1643</td>\n",
       "    </tr>\n",
       "    <tr>\n",
       "      <th>urn:cts:greekLit:tlg0085.tlg005.perseus-grc2</th>\n",
       "      <td>1649</td>\n",
       "      <td>1649</td>\n",
       "      <td>1649</td>\n",
       "      <td>1649</td>\n",
       "    </tr>\n",
       "    <tr>\n",
       "      <th>urn:cts:latinLit:phi0550.phi001.perseus-lat1</th>\n",
       "      <td>7420</td>\n",
       "      <td>7420</td>\n",
       "      <td>7420</td>\n",
       "      <td>7420</td>\n",
       "    </tr>\n",
       "    <tr>\n",
       "      <th>urn:cts:latinLit:phi0959.phi006.perseus-lat2</th>\n",
       "      <td>11927</td>\n",
       "      <td>11927</td>\n",
       "      <td>11927</td>\n",
       "      <td>11927</td>\n",
       "    </tr>\n",
       "  </tbody>\n",
       "</table>\n",
       "</div>"
      ],
      "text/plain": [
       "                                                 id    seq    loc   text\n",
       "book                                                                    \n",
       "urn:cts:greekLit:tlg0011.tlg002.perseus-grc2   1257   1257   1257   1257\n",
       "urn:cts:greekLit:tlg0012.tlg001.perseus-grc2  15686  15686  15686  15686\n",
       "urn:cts:greekLit:tlg0012.tlg002.perseus-grc2  12107  12107  12107  12107\n",
       "urn:cts:greekLit:tlg0085.tlg005.opp-grc3       1643   1643   1643   1643\n",
       "urn:cts:greekLit:tlg0085.tlg005.perseus-grc2   1649   1649   1649   1649\n",
       "urn:cts:latinLit:phi0550.phi001.perseus-lat1   7420   7420   7420   7420\n",
       "urn:cts:latinLit:phi0959.phi006.perseus-lat2  11927  11927  11927  11927"
      ]
     },
     "execution_count": 4,
     "metadata": {},
     "output_type": "execute_result"
    }
   ],
   "source": [
    "top10_df.groupby(\"book\").count()"
   ]
  },
  {
   "cell_type": "code",
   "execution_count": 5,
   "id": "9200d54c-689a-4710-ae9c-c37111318dda",
   "metadata": {},
   "outputs": [],
   "source": [
    "lucretius_lat = top10_df.loc[top10_df[\"book\"]==\"urn:cts:latinLit:phi0550.phi001.perseus-lat1\"]"
   ]
  },
  {
   "cell_type": "code",
   "execution_count": 6,
   "id": "dabdcbfa-b947-473d-acf7-d940e8024327",
   "metadata": {},
   "outputs": [
    {
     "data": {
      "text/html": [
       "<div>\n",
       "<style scoped>\n",
       "    .dataframe tbody tr th:only-of-type {\n",
       "        vertical-align: middle;\n",
       "    }\n",
       "\n",
       "    .dataframe tbody tr th {\n",
       "        vertical-align: top;\n",
       "    }\n",
       "\n",
       "    .dataframe thead th {\n",
       "        text-align: right;\n",
       "    }\n",
       "</style>\n",
       "<table border=\"1\" class=\"dataframe\">\n",
       "  <thead>\n",
       "    <tr style=\"text-align: right;\">\n",
       "      <th></th>\n",
       "      <th>id</th>\n",
       "      <th>book</th>\n",
       "      <th>seq</th>\n",
       "      <th>loc</th>\n",
       "      <th>text</th>\n",
       "    </tr>\n",
       "  </thead>\n",
       "  <tbody>\n",
       "    <tr>\n",
       "      <th>0</th>\n",
       "      <td>urn:cts:latinLit:phi0550.phi001.perseus-lat1:1.1</td>\n",
       "      <td>urn:cts:latinLit:phi0550.phi001.perseus-lat1</td>\n",
       "      <td>0</td>\n",
       "      <td>urn:cts:latinLit:phi0550.phi001:1.1</td>\n",
       "      <td>Aeneadum genetrix, hominum divomque voluptas,\\n</td>\n",
       "    </tr>\n",
       "    <tr>\n",
       "      <th>1</th>\n",
       "      <td>urn:cts:latinLit:phi0550.phi001.perseus-lat1:1.2</td>\n",
       "      <td>urn:cts:latinLit:phi0550.phi001.perseus-lat1</td>\n",
       "      <td>1</td>\n",
       "      <td>urn:cts:latinLit:phi0550.phi001:1.2</td>\n",
       "      <td>alma Venus, caeli subter labentia signa\\n</td>\n",
       "    </tr>\n",
       "    <tr>\n",
       "      <th>2</th>\n",
       "      <td>urn:cts:latinLit:phi0550.phi001.perseus-lat1:1.3</td>\n",
       "      <td>urn:cts:latinLit:phi0550.phi001.perseus-lat1</td>\n",
       "      <td>2</td>\n",
       "      <td>urn:cts:latinLit:phi0550.phi001:1.3</td>\n",
       "      <td>quae mare navigerum, quae terras frugiferentis\\n</td>\n",
       "    </tr>\n",
       "    <tr>\n",
       "      <th>3</th>\n",
       "      <td>urn:cts:latinLit:phi0550.phi001.perseus-lat1:1.4</td>\n",
       "      <td>urn:cts:latinLit:phi0550.phi001.perseus-lat1</td>\n",
       "      <td>3</td>\n",
       "      <td>urn:cts:latinLit:phi0550.phi001:1.4</td>\n",
       "      <td>concelebras, per te quoniam genus omne animant...</td>\n",
       "    </tr>\n",
       "    <tr>\n",
       "      <th>4</th>\n",
       "      <td>urn:cts:latinLit:phi0550.phi001.perseus-lat1:1.5</td>\n",
       "      <td>urn:cts:latinLit:phi0550.phi001.perseus-lat1</td>\n",
       "      <td>4</td>\n",
       "      <td>urn:cts:latinLit:phi0550.phi001:1.5</td>\n",
       "      <td>concipitur visitque exortum lumina solis:\\n</td>\n",
       "    </tr>\n",
       "  </tbody>\n",
       "</table>\n",
       "</div>"
      ],
      "text/plain": [
       "                                                 id  \\\n",
       "0  urn:cts:latinLit:phi0550.phi001.perseus-lat1:1.1   \n",
       "1  urn:cts:latinLit:phi0550.phi001.perseus-lat1:1.2   \n",
       "2  urn:cts:latinLit:phi0550.phi001.perseus-lat1:1.3   \n",
       "3  urn:cts:latinLit:phi0550.phi001.perseus-lat1:1.4   \n",
       "4  urn:cts:latinLit:phi0550.phi001.perseus-lat1:1.5   \n",
       "\n",
       "                                           book  seq  \\\n",
       "0  urn:cts:latinLit:phi0550.phi001.perseus-lat1    0   \n",
       "1  urn:cts:latinLit:phi0550.phi001.perseus-lat1    1   \n",
       "2  urn:cts:latinLit:phi0550.phi001.perseus-lat1    2   \n",
       "3  urn:cts:latinLit:phi0550.phi001.perseus-lat1    3   \n",
       "4  urn:cts:latinLit:phi0550.phi001.perseus-lat1    4   \n",
       "\n",
       "                                   loc  \\\n",
       "0  urn:cts:latinLit:phi0550.phi001:1.1   \n",
       "1  urn:cts:latinLit:phi0550.phi001:1.2   \n",
       "2  urn:cts:latinLit:phi0550.phi001:1.3   \n",
       "3  urn:cts:latinLit:phi0550.phi001:1.4   \n",
       "4  urn:cts:latinLit:phi0550.phi001:1.5   \n",
       "\n",
       "                                                text  \n",
       "0    Aeneadum genetrix, hominum divomque voluptas,\\n  \n",
       "1          alma Venus, caeli subter labentia signa\\n  \n",
       "2   quae mare navigerum, quae terras frugiferentis\\n  \n",
       "3  concelebras, per te quoniam genus omne animant...  \n",
       "4        concipitur visitque exortum lumina solis:\\n  "
      ]
     },
     "execution_count": 6,
     "metadata": {},
     "output_type": "execute_result"
    }
   ],
   "source": [
    "lucretius_lat.head()"
   ]
  },
  {
   "cell_type": "code",
   "execution_count": 7,
   "id": "93a5b460-f7b7-49c7-bae2-3b55ec2de44f",
   "metadata": {},
   "outputs": [
    {
     "data": {
      "text/plain": [
       "(7420, 5)"
      ]
     },
     "execution_count": 7,
     "metadata": {},
     "output_type": "execute_result"
    }
   ],
   "source": [
    "lucretius_lat.shape"
   ]
  },
  {
   "cell_type": "markdown",
   "id": "0bc68f04-ad09-4ff4-8066-19c5d8b90d36",
   "metadata": {},
   "source": [
    "Each row corresponds to a line of text in [Perseus version](http://www.perseus.tufts.edu/hopper/text?doc=Perseus%3Atext%3A1999.02.0130%3Abook%3D1%3Acard%3D1)."
   ]
  },
  {
   "cell_type": "markdown",
   "id": "8975acdb-5fc4-4cfe-90d4-b53c32e84646",
   "metadata": {},
   "source": [
    "# Get Lucretius sentences, no section markings"
   ]
  },
  {
   "cell_type": "code",
   "execution_count": 8,
   "id": "42ee1996-69ee-4d68-95da-238d464acc4b",
   "metadata": {},
   "outputs": [],
   "source": [
    "# remove ending \\n\n",
    "lucretius_lat_lst = list(lucretius_lat[\"text\"].str.strip(\"\\n\"))"
   ]
  },
  {
   "cell_type": "code",
   "execution_count": 9,
   "id": "26f9b82a-9506-462f-92b6-0ac5ac0b09e8",
   "metadata": {},
   "outputs": [
    {
     "data": {
      "text/plain": [
       "['Aeneadum genetrix, hominum divomque voluptas,',\n",
       " 'alma Venus, caeli subter labentia signa',\n",
       " 'quae mare navigerum, quae terras frugiferentis',\n",
       " 'concelebras, per te quoniam genus omne animantum',\n",
       " 'concipitur visitque exortum lumina solis:',\n",
       " 'te, dea, te fugiunt venti, te nubila caeli',\n",
       " 'adventumque tuum, tibi suavis daedala tellus',\n",
       " 'summittit flores, tibi rident aequora ponti',\n",
       " 'placatumque nitet diffuso lumine caelum.',\n",
       " 'nam simul ac species patefactast verna diei']"
      ]
     },
     "execution_count": 9,
     "metadata": {},
     "output_type": "execute_result"
    }
   ],
   "source": [
    "lucretius_lat_lst[:10]"
   ]
  },
  {
   "cell_type": "code",
   "execution_count": 10,
   "id": "8fbfc264-a7d3-4787-932d-c702ba721952",
   "metadata": {},
   "outputs": [],
   "source": [
    "lucretius_lat_str = \" \".join(lucretius_lat_lst)"
   ]
  },
  {
   "cell_type": "code",
   "execution_count": 11,
   "id": "0077bef8-d6cb-402d-aa7d-43486f4f8565",
   "metadata": {},
   "outputs": [
    {
     "data": {
      "text/plain": [
       "'Aeneadum genetrix, hominum divomque voluptas, alma Venus, caeli subter labentia signa quae mare navigerum, quae terras frugiferentis concelebras, per te quoniam genus omne animantum concipitur visitque exortum lumina solis: te, dea, te fugiunt venti, te nubila caeli adventumque tuum, tibi suavis daedala tellus summittit flores, tibi rident aequora ponti placatumque nitet diffuso lumine caelum. nam simul ac species patefactast verna diei et reserata viget genitabilis aura favoni, aeriae primum volucris te, diva, tuumque significant initum perculsae corda tua vi. inde ferae pecudes persultant pabula laeta et rapidos tranant amnis: ita capta lepore te sequitur cupide quo quamque inducere pergis. denique per maria ac montis fluviosque rapacis frondiferasque domos avium camposque virentis omnibus incutiens blandum per pectora amorem efficis ut cupide generatim saecla propagent. quae quoniam rerum naturam sola gubernas nec sine te quicquam dias in luminis oras exoritur neque fit laetum neque'"
      ]
     },
     "execution_count": 11,
     "metadata": {},
     "output_type": "execute_result"
    }
   ],
   "source": [
    "lucretius_lat_str[:1000]"
   ]
  },
  {
   "cell_type": "code",
   "execution_count": 12,
   "id": "ad69a744-e628-4258-a358-651daeabaaee",
   "metadata": {},
   "outputs": [
    {
     "name": "stderr",
     "output_type": "stream",
     "text": [
      "2023-07-25 15:00:40 INFO: Checking for updates to resources.json in case models have been updated.  Note: this behavior can be turned off with download_method=None or download_method=DownloadMethod.REUSE_RESOURCES\n"
     ]
    },
    {
     "data": {
      "application/vnd.jupyter.widget-view+json": {
       "model_id": "81c659334a5f448caaca92f936e20936",
       "version_major": 2,
       "version_minor": 0
      },
      "text/plain": [
       "Downloading https://raw.githubusercontent.com/stanfordnlp/stanza-resources/main/resources_1.5.0.json:   0%|   …"
      ]
     },
     "metadata": {},
     "output_type": "display_data"
    },
    {
     "name": "stderr",
     "output_type": "stream",
     "text": [
      "2023-07-25 15:00:40 INFO: Loading these models for language: la (Latin):\n",
      "=======================\n",
      "| Processor | Package |\n",
      "-----------------------\n",
      "| tokenize  | ittb    |\n",
      "=======================\n",
      "\n",
      "2023-07-25 15:00:40 WARNING: GPU requested, but is not available!\n",
      "2023-07-25 15:00:40 INFO: Using device: cpu\n",
      "2023-07-25 15:00:40 INFO: Loading: tokenize\n",
      "2023-07-25 15:00:40 INFO: Done loading processors!\n"
     ]
    }
   ],
   "source": [
    "# load stanza model for Latin\n",
    "lang_ = \"la\"\n",
    "stanza_model_ = stanza.Pipeline(lang=lang_, processors='tokenize', use_gpu=True)"
   ]
  },
  {
   "cell_type": "code",
   "execution_count": 13,
   "id": "ad82cfa0-2d34-4ef6-88d0-773beeb9a985",
   "metadata": {},
   "outputs": [
    {
     "name": "stdout",
     "output_type": "stream",
     "text": [
      "segmented str into sentences\n"
     ]
    }
   ],
   "source": [
    "lucretius_lat_sents_stanza = preprocess_series(lucretius_lat_str, \"la\", stanza_model_)"
   ]
  },
  {
   "cell_type": "code",
   "execution_count": 14,
   "id": "fbb89395-2570-482b-b2b5-14d762e3a675",
   "metadata": {},
   "outputs": [
    {
     "name": "stdout",
     "output_type": "stream",
     "text": [
      "segmented str into sentences\n"
     ]
    }
   ],
   "source": [
    "lucretius_lat_sents_nostanza = preprocess_series(lucretius_lat_str, \"el\", stanza_model_)"
   ]
  },
  {
   "cell_type": "code",
   "execution_count": 15,
   "id": "6a9763c0-4f3c-4d63-8da3-3bfddb7714a8",
   "metadata": {},
   "outputs": [
    {
     "data": {
      "text/plain": [
       "False"
      ]
     },
     "execution_count": 15,
     "metadata": {},
     "output_type": "execute_result"
    }
   ],
   "source": [
    "lucretius_lat_sents_stanza == lucretius_lat_sents_nostanza"
   ]
  },
  {
   "cell_type": "code",
   "execution_count": 16,
   "id": "225eee92-5941-4a56-afe6-a06cc0ffe55c",
   "metadata": {},
   "outputs": [
    {
     "data": {
      "text/plain": [
       "['quippe ubi non essent genitalia corpora cuique, qui posset mater rebus consistere certa?',\n",
       " 'at nunc seminibus quia certis quaeque creantur, inde enascitur atque oras in luminis exit, materies ubi inest cuiusque et corpora prima;']"
      ]
     },
     "execution_count": 16,
     "metadata": {},
     "output_type": "execute_result"
    }
   ],
   "source": [
    "lucretius_lat_sents_stanza[45:47] "
   ]
  },
  {
   "cell_type": "code",
   "execution_count": 17,
   "id": "c4b94358-d9db-4b07-9bbf-1534e8167161",
   "metadata": {},
   "outputs": [
    {
     "data": {
      "text/plain": [
       "['quippe ubi non essent genitalia corpora cuique, qui posset mater rebus consistere certa? at nunc seminibus quia certis quaeque creantur, inde enascitur atque oras in luminis exit, materies ubi inest cuiusque et corpora prima;',\n",
       " 'atque hac re nequeunt ex omnibus omnia gigni, quod certis in rebus inest secreta facultas.']"
      ]
     },
     "execution_count": 17,
     "metadata": {},
     "output_type": "execute_result"
    }
   ],
   "source": [
    "lucretius_lat_sents_nostanza[45:47]"
   ]
  },
  {
   "cell_type": "code",
   "execution_count": 18,
   "id": "d167e697-9525-4207-9f53-37e2a56b1b99",
   "metadata": {},
   "outputs": [
    {
     "data": {
      "text/plain": [
       "2428"
      ]
     },
     "execution_count": 18,
     "metadata": {},
     "output_type": "execute_result"
    }
   ],
   "source": [
    "len(lucretius_lat_sents_stanza)"
   ]
  },
  {
   "cell_type": "code",
   "execution_count": 19,
   "id": "0a6a7096-a80e-4006-a2fd-3e3fd12238fe",
   "metadata": {},
   "outputs": [
    {
     "data": {
      "text/plain": [
       "2264"
      ]
     },
     "execution_count": 19,
     "metadata": {},
     "output_type": "execute_result"
    }
   ],
   "source": [
    "len(lucretius_lat_sents_nostanza)"
   ]
  },
  {
   "cell_type": "code",
   "execution_count": 20,
   "id": "e5880237-c683-4065-be1b-07e2898ad277",
   "metadata": {},
   "outputs": [
    {
     "data": {
      "text/plain": [
       "['Aeneadum genetrix, hominum divomque voluptas, alma Venus, caeli subter labentia signa quae mare navigerum, quae terras frugiferentis concelebras, per te quoniam genus omne animantum concipitur visitque exortum lumina solis:',\n",
       " 'te, dea, te fugiunt venti, te nubila caeli adventumque tuum, tibi suavis daedala tellus summittit flores, tibi rident aequora ponti placatumque nitet diffuso lumine caelum.',\n",
       " 'nam simul ac species patefactast verna diei et reserata viget genitabilis aura favoni, aeriae primum volucris te, diva, tuumque significant initum perculsae corda tua vi.',\n",
       " 'inde ferae pecudes persultant pabula laeta et rapidos tranant amnis:',\n",
       " 'ita capta lepore te sequitur cupide quo quamque inducere pergis.',\n",
       " 'denique per maria ac montis fluviosque rapacis frondiferasque domos avium camposque virentis omnibus incutiens blandum per pectora amorem efficis ut cupide generatim saecla propagent.',\n",
       " 'quae quoniam rerum naturam sola gubernas nec sine te quicquam dias in luminis oras exoritur neque fit laetum neque amabile quicquam, te sociam studeo scribendis versibus esse, quos ego de rerum natura pangere conor Memmiadae nostro, quem tu, dea, tempore in omni omnibus ornatum voluisti excellere rebus.',\n",
       " 'quo magis aeternum da dictis, diva, leporem.',\n",
       " 'effice ut interea fera moenera militiai per maria ac terras omnis sopita quiescant;',\n",
       " 'nam tu sola potes tranquilla pace iuvare mortalis, quoniam belli fera moenera Mavors armipotens regit, in gremium qui saepe tuum se reiicit aeterno devictus vulnere amoris, atque ita suspiciens tereti cervice reposta pascit amore avidos inhians in te, dea, visus eque tuo pendet resupini spiritus ore.']"
      ]
     },
     "execution_count": 20,
     "metadata": {},
     "output_type": "execute_result"
    }
   ],
   "source": [
    "lucretius_lat_sents_stanza[:10]"
   ]
  },
  {
   "cell_type": "code",
   "execution_count": 21,
   "id": "9ef50729-0cd3-416b-ab10-cb383c8ef868",
   "metadata": {},
   "outputs": [
    {
     "data": {
      "text/plain": [
       "['omnia denique sancta deum delubra replerat corporibus mors exanimis onerataque passim cuncta cadaveribus caelestum templa manebant, hospitibus loca quae complerant aedituentes.',\n",
       " 'nec iam religio divom nec numina magni pendebantur enim:',\n",
       " 'praesens dolor exsuperabat.',\n",
       " 'nec mos ille sepulturae remanebat in urbe, quo prius hic populus semper consuerat humari;',\n",
       " 'perturbatus enim totus trepidabat et unus quisque suum pro re cognatum maestus humabat.',\n",
       " 'multaque res subita et paupertas horrida suasit;',\n",
       " 'namque suos consanguineos aliena rogorum insuper extructa ingenti clamore locabant subdebantque faces, multo cum sanguine saepe rixantes, potius quam corpora desererentur, inque aliis alium populum sepelire suorum certantes;',\n",
       " 'lacrimis lassi luctuque redibant;',\n",
       " 'inde bonam partem in lectum maerore dabantur;',\n",
       " 'nec poterat quisquam reperiri, quem neque morbus nec mors nec luctus temptaret tempore tali.']"
      ]
     },
     "execution_count": 21,
     "metadata": {},
     "output_type": "execute_result"
    }
   ],
   "source": [
    "lucretius_lat_sents_stanza[-10:]"
   ]
  },
  {
   "cell_type": "code",
   "execution_count": 22,
   "id": "7a24127c-9640-406d-b8d4-6ce36bcff55e",
   "metadata": {},
   "outputs": [],
   "source": [
    "# path_out = \"/home/craig.car/repos/chiron/align_texts_project/data/lucretius/lucretius_lat_sents.txt\"\n",
    "# write_file(lucretius_lat_sents_stanza, path_out)"
   ]
  },
  {
   "cell_type": "markdown",
   "id": "db9c824e-8386-44b6-be80-791ff9ed40ec",
   "metadata": {},
   "source": [
    "# Get Latin sentences, by book"
   ]
  },
  {
   "cell_type": "code",
   "execution_count": 23,
   "id": "ac0acaf7-29e1-4629-92f1-bf2db11f1850",
   "metadata": {},
   "outputs": [],
   "source": [
    "def concatenate_txt(txt_series):\n",
    "    '''\n",
    "    Converts to str (in case of NaN present as float) and concatenates rows \n",
    "    into one continuous string\n",
    "    '''\n",
    "    # convert all rows to string\n",
    "    txt_series = txt_series.apply(str)\n",
    "    # join into a single string\n",
    "    return ' '.join(txt_series)"
   ]
  },
  {
   "cell_type": "code",
   "execution_count": 24,
   "id": "c8222a78-a360-4578-82ff-a406e281aa4d",
   "metadata": {},
   "outputs": [],
   "source": [
    "def get_perseus_txt_by_book(df, cts_tag, num_books):\n",
    "    '''\n",
    "    Extract Perseus text in df by book\n",
    "    '''\n",
    "    txt_by_book = []\n",
    "    idx2book_name = {}\n",
    "    idx_counter = 0\n",
    "    for book_idx in range(1, num_books+1):\n",
    "        loc_tag = cts_tag_ + str(book_idx)\n",
    "        book_text = concatenate_txt(lucretius_lat[lucretius_lat['loc'].str.startswith(loc_tag)]['text'].replace('\\n',' ', regex=True))\n",
    "        txt_by_book.append(book_text)\n",
    "        # add to dict. chap name format: \"booknum\"\n",
    "        book_name = \"book\" + str(book_idx)\n",
    "        idx2book_name[idx_counter] = book_name\n",
    "        idx_counter += 1\n",
    "    return txt_by_book, idx2book_name"
   ]
  },
  {
   "cell_type": "code",
   "execution_count": 25,
   "id": "c5dfb103-62e3-463f-b56e-e3dda52c3085",
   "metadata": {
    "tags": []
   },
   "outputs": [
    {
     "data": {
      "text/plain": [
       "6"
      ]
     },
     "execution_count": 25,
     "metadata": {},
     "output_type": "execute_result"
    }
   ],
   "source": [
    "cts_tag_ = \"urn:cts:latinLit:phi0550.phi001:\"\n",
    "lucretius_by_book, lucretius_sent2book_name = get_perseus_txt_by_book(lucretius_lat, cts_tag_, 6)\n",
    "len(lucretius_by_book)"
   ]
  },
  {
   "cell_type": "code",
   "execution_count": 26,
   "id": "8b47266a-2363-45bb-aef9-4630fc1b6d2e",
   "metadata": {},
   "outputs": [],
   "source": [
    "# path_out = \"/home/craig.car/repos/chiron/align_texts_project/data/lucretius/lucretius_lat_bybook.txt\"\n",
    "# write_file(lucretius_by_book, path_out)"
   ]
  },
  {
   "cell_type": "markdown",
   "id": "6760b6b8-1e00-411d-97dc-02f3049ab125",
   "metadata": {},
   "source": [
    "# Tokenize Latin sents and by book"
   ]
  },
  {
   "cell_type": "code",
   "execution_count": 27,
   "id": "ca9696ff-e576-4dd9-b796-fee9a532ffed",
   "metadata": {},
   "outputs": [],
   "source": [
    "sents_tokenized = []\n",
    "for idx, sent in enumerate(lucretius_lat_sents_stanza):\n",
    "    sents_tokenized.append(sent.split())"
   ]
  },
  {
   "cell_type": "code",
   "execution_count": 28,
   "id": "3b8b6e3f-c8a1-4633-95cf-6b1d9d4c602b",
   "metadata": {},
   "outputs": [],
   "source": [
    "books_tokenized = []\n",
    "for idx, book in enumerate(lucretius_by_book):\n",
    "    books_tokenized.append(book.split())"
   ]
  },
  {
   "cell_type": "code",
   "execution_count": 29,
   "id": "8d846c77-4bda-4cee-8a41-0b4676a62530",
   "metadata": {},
   "outputs": [],
   "source": [
    "tokens_from_sents = flatten_list(sents_tokenized)\n",
    "tokens_from_books = flatten_list(books_tokenized)"
   ]
  },
  {
   "cell_type": "code",
   "execution_count": 30,
   "id": "86482869-a0cf-426c-a26c-ae471fc091fc",
   "metadata": {},
   "outputs": [
    {
     "data": {
      "text/plain": [
       "True"
      ]
     },
     "execution_count": 30,
     "metadata": {},
     "output_type": "execute_result"
    }
   ],
   "source": [
    "tokens_from_sents == tokens_from_books"
   ]
  },
  {
   "cell_type": "code",
   "execution_count": 31,
   "id": "922fefe5-322c-4182-81da-1aa2c82951e7",
   "metadata": {},
   "outputs": [
    {
     "data": {
      "text/plain": [
       "49036"
      ]
     },
     "execution_count": 31,
     "metadata": {},
     "output_type": "execute_result"
    }
   ],
   "source": [
    "len(tokens_from_sents)"
   ]
  },
  {
   "cell_type": "code",
   "execution_count": 32,
   "id": "26cf410a-796e-4fcb-a556-aca5eaf21884",
   "metadata": {},
   "outputs": [
    {
     "data": {
      "text/plain": [
       "49036"
      ]
     },
     "execution_count": 32,
     "metadata": {},
     "output_type": "execute_result"
    }
   ],
   "source": [
    "len(tokens_from_books)"
   ]
  },
  {
   "cell_type": "markdown",
   "id": "3ec9b2b5-bc0d-4237-b8a9-78688f0d68e2",
   "metadata": {
    "tags": []
   },
   "source": [
    "## build sent 2 book name dict and write to json"
   ]
  },
  {
   "cell_type": "code",
   "execution_count": 33,
   "id": "dfa42f70-7fe3-4822-9c62-0614d75223df",
   "metadata": {},
   "outputs": [],
   "source": [
    "lat_sent2bookname = build_sent_to_section_dict(sents_tokenized, books_tokenized, \n",
    "                                               lucretius_sent2book_name)"
   ]
  },
  {
   "cell_type": "code",
   "execution_count": 34,
   "id": "791f01d3-69da-4ed9-ade1-883f59363542",
   "metadata": {},
   "outputs": [],
   "source": [
    "path_out = \"/home/craig.car/repos/chiron/align_texts_project/data/lucretius/lat_sent2book_dict.json\"\n",
    "with open(path_out, 'w') as fp:\n",
    "    json.dump(lat_sent2bookname, fp)"
   ]
  },
  {
   "cell_type": "markdown",
   "id": "d037dc82-5c71-4cb1-9939-154e1a1edbd4",
   "metadata": {},
   "source": [
    "## check for sents that cross book boundaries - should be none"
   ]
  },
  {
   "cell_type": "code",
   "execution_count": 35,
   "id": "fba4112c-d1ff-4f5f-97b3-7789b6a39e9f",
   "metadata": {},
   "outputs": [],
   "source": [
    "values = list(lat_sent2bookname.values())"
   ]
  },
  {
   "cell_type": "code",
   "execution_count": 36,
   "id": "e2079901-2e4d-49fa-a11a-f5432f8d24bc",
   "metadata": {},
   "outputs": [],
   "source": [
    "# idx of sents that cross chapter boundaries (verified)\n",
    "for idx, value in enumerate(values):\n",
    "    if isinstance(value,list):\n",
    "        print(idx)"
   ]
  },
  {
   "cell_type": "code",
   "execution_count": null,
   "id": "ccee2beb-8339-4ef5-8d76-7b491247983f",
   "metadata": {},
   "outputs": [],
   "source": []
  }
 ],
 "metadata": {
  "kernelspec": {
   "display_name": "Python 3 (ipykernel)",
   "language": "python",
   "name": "python3"
  },
  "language_info": {
   "codemirror_mode": {
    "name": "ipython",
    "version": 3
   },
   "file_extension": ".py",
   "mimetype": "text/x-python",
   "name": "python",
   "nbconvert_exporter": "python",
   "pygments_lexer": "ipython3",
   "version": "3.10.10"
  }
 },
 "nbformat": 4,
 "nbformat_minor": 5
}
