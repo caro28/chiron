{
 "cells": [
  {
   "cell_type": "code",
   "execution_count": 1,
   "id": "0c84917c",
   "metadata": {},
   "outputs": [],
   "source": [
    "import pandas as pd"
   ]
  },
  {
   "cell_type": "markdown",
   "id": "bd468ee7-d9df-4746-ae53-611210994e09",
   "metadata": {},
   "source": [
    "# Get data from Perseus; Extract Thuc Grk and Translations"
   ]
  },
  {
   "cell_type": "code",
   "execution_count": 2,
   "id": "1e0b2603",
   "metadata": {},
   "outputs": [],
   "source": [
    "file = \"/home/craig.car/repos/chiron/align_texts_project/data/david_perseus_datadump_cts-sections.jsonl.gz\"\n",
    "\n",
    "df = pd.read_json(\n",
    "        file,\n",
    "        lines=True,\n",
    "        compression='gzip')"
   ]
  },
  {
   "cell_type": "code",
   "execution_count": 3,
   "id": "0260f8b4",
   "metadata": {},
   "outputs": [
    {
     "data": {
      "text/html": [
       "<div>\n",
       "<style scoped>\n",
       "    .dataframe tbody tr th:only-of-type {\n",
       "        vertical-align: middle;\n",
       "    }\n",
       "\n",
       "    .dataframe tbody tr th {\n",
       "        vertical-align: top;\n",
       "    }\n",
       "\n",
       "    .dataframe thead th {\n",
       "        text-align: right;\n",
       "    }\n",
       "</style>\n",
       "<table border=\"1\" class=\"dataframe\">\n",
       "  <thead>\n",
       "    <tr style=\"text-align: right;\">\n",
       "      <th></th>\n",
       "      <th>book</th>\n",
       "      <th>id</th>\n",
       "      <th>loc</th>\n",
       "      <th>seq</th>\n",
       "      <th>text</th>\n",
       "      <th>cites</th>\n",
       "      <th>group</th>\n",
       "      <th>lang</th>\n",
       "      <th>title</th>\n",
       "      <th>translation</th>\n",
       "      <th>wlang</th>\n",
       "      <th>work</th>\n",
       "    </tr>\n",
       "  </thead>\n",
       "  <tbody>\n",
       "    <tr>\n",
       "      <th>0</th>\n",
       "      <td>urn:cts:greekLit:tlg0003.tlg001.perseus-grc2</td>\n",
       "      <td>urn:cts:greekLit:tlg0003.tlg001.perseus-grc2:1...</td>\n",
       "      <td>urn:cts:greekLit:tlg0003.tlg001:1.1.1</td>\n",
       "      <td>0</td>\n",
       "      <td>Θουκυδίδης Ἀθηναῖος ξυνέγραψε τὸν πόλεμον τῶν\\...</td>\n",
       "      <td>[book, chapter, section]</td>\n",
       "      <td>Thucydides</td>\n",
       "      <td>grc</td>\n",
       "      <td>History of the Peloponnesian War</td>\n",
       "      <td>False</td>\n",
       "      <td>grc</td>\n",
       "      <td>urn:cts:greekLit:tlg0003.tlg001</td>\n",
       "    </tr>\n",
       "    <tr>\n",
       "      <th>1</th>\n",
       "      <td>urn:cts:greekLit:tlg0003.tlg001.perseus-grc2</td>\n",
       "      <td>urn:cts:greekLit:tlg0003.tlg001.perseus-grc2:1...</td>\n",
       "      <td>urn:cts:greekLit:tlg0003.tlg001:1.1.2</td>\n",
       "      <td>1</td>\n",
       "      <td>κίνησις γὰρ αὕτη μεγίστη δὴ τοῖς Ἕλλησιν ἐγένε...</td>\n",
       "      <td>[book, chapter, section]</td>\n",
       "      <td>Thucydides</td>\n",
       "      <td>grc</td>\n",
       "      <td>History of the Peloponnesian War</td>\n",
       "      <td>False</td>\n",
       "      <td>grc</td>\n",
       "      <td>urn:cts:greekLit:tlg0003.tlg001</td>\n",
       "    </tr>\n",
       "    <tr>\n",
       "      <th>2</th>\n",
       "      <td>urn:cts:greekLit:tlg0003.tlg001.perseus-grc2</td>\n",
       "      <td>urn:cts:greekLit:tlg0003.tlg001.perseus-grc2:1...</td>\n",
       "      <td>urn:cts:greekLit:tlg0003.tlg001:1.1.3</td>\n",
       "      <td>2</td>\n",
       "      <td>τὰ γὰρ πρὸ αὐτῶν καὶ τὰ ἔτι παλαίτερα σαφῶς μὲ...</td>\n",
       "      <td>[book, chapter, section]</td>\n",
       "      <td>Thucydides</td>\n",
       "      <td>grc</td>\n",
       "      <td>History of the Peloponnesian War</td>\n",
       "      <td>False</td>\n",
       "      <td>grc</td>\n",
       "      <td>urn:cts:greekLit:tlg0003.tlg001</td>\n",
       "    </tr>\n",
       "    <tr>\n",
       "      <th>3</th>\n",
       "      <td>urn:cts:greekLit:tlg0003.tlg001.perseus-grc2</td>\n",
       "      <td>urn:cts:greekLit:tlg0003.tlg001.perseus-grc2:1...</td>\n",
       "      <td>urn:cts:greekLit:tlg0003.tlg001:1.2.1</td>\n",
       "      <td>3</td>\n",
       "      <td>φαίνεται γὰρ ἡ νῦν Ἑλλὰς καλουμένη οὐ πάλαι βε...</td>\n",
       "      <td>[book, chapter, section]</td>\n",
       "      <td>Thucydides</td>\n",
       "      <td>grc</td>\n",
       "      <td>History of the Peloponnesian War</td>\n",
       "      <td>False</td>\n",
       "      <td>grc</td>\n",
       "      <td>urn:cts:greekLit:tlg0003.tlg001</td>\n",
       "    </tr>\n",
       "    <tr>\n",
       "      <th>4</th>\n",
       "      <td>urn:cts:greekLit:tlg0003.tlg001.perseus-grc2</td>\n",
       "      <td>urn:cts:greekLit:tlg0003.tlg001.perseus-grc2:1...</td>\n",
       "      <td>urn:cts:greekLit:tlg0003.tlg001:1.2.2</td>\n",
       "      <td>4</td>\n",
       "      <td>τῆς γὰρ ἐμπορίας οὐκ οὔσης, οὐδ’ ἐπιμειγνύντες...</td>\n",
       "      <td>[book, chapter, section]</td>\n",
       "      <td>Thucydides</td>\n",
       "      <td>grc</td>\n",
       "      <td>History of the Peloponnesian War</td>\n",
       "      <td>False</td>\n",
       "      <td>grc</td>\n",
       "      <td>urn:cts:greekLit:tlg0003.tlg001</td>\n",
       "    </tr>\n",
       "  </tbody>\n",
       "</table>\n",
       "</div>"
      ],
      "text/plain": [
       "                                           book  \\\n",
       "0  urn:cts:greekLit:tlg0003.tlg001.perseus-grc2   \n",
       "1  urn:cts:greekLit:tlg0003.tlg001.perseus-grc2   \n",
       "2  urn:cts:greekLit:tlg0003.tlg001.perseus-grc2   \n",
       "3  urn:cts:greekLit:tlg0003.tlg001.perseus-grc2   \n",
       "4  urn:cts:greekLit:tlg0003.tlg001.perseus-grc2   \n",
       "\n",
       "                                                  id  \\\n",
       "0  urn:cts:greekLit:tlg0003.tlg001.perseus-grc2:1...   \n",
       "1  urn:cts:greekLit:tlg0003.tlg001.perseus-grc2:1...   \n",
       "2  urn:cts:greekLit:tlg0003.tlg001.perseus-grc2:1...   \n",
       "3  urn:cts:greekLit:tlg0003.tlg001.perseus-grc2:1...   \n",
       "4  urn:cts:greekLit:tlg0003.tlg001.perseus-grc2:1...   \n",
       "\n",
       "                                     loc  seq  \\\n",
       "0  urn:cts:greekLit:tlg0003.tlg001:1.1.1    0   \n",
       "1  urn:cts:greekLit:tlg0003.tlg001:1.1.2    1   \n",
       "2  urn:cts:greekLit:tlg0003.tlg001:1.1.3    2   \n",
       "3  urn:cts:greekLit:tlg0003.tlg001:1.2.1    3   \n",
       "4  urn:cts:greekLit:tlg0003.tlg001:1.2.2    4   \n",
       "\n",
       "                                                text  \\\n",
       "0  Θουκυδίδης Ἀθηναῖος ξυνέγραψε τὸν πόλεμον τῶν\\...   \n",
       "1  κίνησις γὰρ αὕτη μεγίστη δὴ τοῖς Ἕλλησιν ἐγένε...   \n",
       "2  τὰ γὰρ πρὸ αὐτῶν καὶ τὰ ἔτι παλαίτερα σαφῶς μὲ...   \n",
       "3  φαίνεται γὰρ ἡ νῦν Ἑλλὰς καλουμένη οὐ πάλαι βε...   \n",
       "4  τῆς γὰρ ἐμπορίας οὐκ οὔσης, οὐδ’ ἐπιμειγνύντες...   \n",
       "\n",
       "                      cites       group lang  \\\n",
       "0  [book, chapter, section]  Thucydides  grc   \n",
       "1  [book, chapter, section]  Thucydides  grc   \n",
       "2  [book, chapter, section]  Thucydides  grc   \n",
       "3  [book, chapter, section]  Thucydides  grc   \n",
       "4  [book, chapter, section]  Thucydides  grc   \n",
       "\n",
       "                              title  translation wlang  \\\n",
       "0  History of the Peloponnesian War        False   grc   \n",
       "1  History of the Peloponnesian War        False   grc   \n",
       "2  History of the Peloponnesian War        False   grc   \n",
       "3  History of the Peloponnesian War        False   grc   \n",
       "4  History of the Peloponnesian War        False   grc   \n",
       "\n",
       "                              work  \n",
       "0  urn:cts:greekLit:tlg0003.tlg001  \n",
       "1  urn:cts:greekLit:tlg0003.tlg001  \n",
       "2  urn:cts:greekLit:tlg0003.tlg001  \n",
       "3  urn:cts:greekLit:tlg0003.tlg001  \n",
       "4  urn:cts:greekLit:tlg0003.tlg001  "
      ]
     },
     "execution_count": 3,
     "metadata": {},
     "output_type": "execute_result"
    }
   ],
   "source": [
    "df.head()"
   ]
  },
  {
   "cell_type": "code",
   "execution_count": 4,
   "id": "a677d797",
   "metadata": {},
   "outputs": [
    {
     "data": {
      "text/html": [
       "<div>\n",
       "<style scoped>\n",
       "    .dataframe tbody tr th:only-of-type {\n",
       "        vertical-align: middle;\n",
       "    }\n",
       "\n",
       "    .dataframe tbody tr th {\n",
       "        vertical-align: top;\n",
       "    }\n",
       "\n",
       "    .dataframe thead th {\n",
       "        text-align: right;\n",
       "    }\n",
       "</style>\n",
       "<table border=\"1\" class=\"dataframe\">\n",
       "  <thead>\n",
       "    <tr style=\"text-align: right;\">\n",
       "      <th></th>\n",
       "      <th>book</th>\n",
       "      <th>id</th>\n",
       "      <th>loc</th>\n",
       "      <th>seq</th>\n",
       "      <th>text</th>\n",
       "      <th>cites</th>\n",
       "      <th>lang</th>\n",
       "      <th>title</th>\n",
       "      <th>translation</th>\n",
       "      <th>wlang</th>\n",
       "      <th>work</th>\n",
       "    </tr>\n",
       "    <tr>\n",
       "      <th>group</th>\n",
       "      <th></th>\n",
       "      <th></th>\n",
       "      <th></th>\n",
       "      <th></th>\n",
       "      <th></th>\n",
       "      <th></th>\n",
       "      <th></th>\n",
       "      <th></th>\n",
       "      <th></th>\n",
       "      <th></th>\n",
       "      <th></th>\n",
       "    </tr>\n",
       "  </thead>\n",
       "  <tbody>\n",
       "    <tr>\n",
       "      <th>Acta Philippi</th>\n",
       "      <td>293</td>\n",
       "      <td>293</td>\n",
       "      <td>293</td>\n",
       "      <td>293</td>\n",
       "      <td>293</td>\n",
       "      <td>293</td>\n",
       "      <td>293</td>\n",
       "      <td>293</td>\n",
       "      <td>293</td>\n",
       "      <td>293</td>\n",
       "      <td>293</td>\n",
       "    </tr>\n",
       "    <tr>\n",
       "      <th>Acta Thomae</th>\n",
       "      <td>341</td>\n",
       "      <td>341</td>\n",
       "      <td>341</td>\n",
       "      <td>341</td>\n",
       "      <td>341</td>\n",
       "      <td>341</td>\n",
       "      <td>341</td>\n",
       "      <td>341</td>\n",
       "      <td>341</td>\n",
       "      <td>341</td>\n",
       "      <td>341</td>\n",
       "    </tr>\n",
       "    <tr>\n",
       "      <th>Agathemerus</th>\n",
       "      <td>234</td>\n",
       "      <td>234</td>\n",
       "      <td>234</td>\n",
       "      <td>234</td>\n",
       "      <td>234</td>\n",
       "      <td>234</td>\n",
       "      <td>234</td>\n",
       "      <td>234</td>\n",
       "      <td>234</td>\n",
       "      <td>234</td>\n",
       "      <td>234</td>\n",
       "    </tr>\n",
       "    <tr>\n",
       "      <th>Anonymi Paradoxographi</th>\n",
       "      <td>46</td>\n",
       "      <td>46</td>\n",
       "      <td>46</td>\n",
       "      <td>46</td>\n",
       "      <td>46</td>\n",
       "      <td>46</td>\n",
       "      <td>46</td>\n",
       "      <td>46</td>\n",
       "      <td>46</td>\n",
       "      <td>46</td>\n",
       "      <td>46</td>\n",
       "    </tr>\n",
       "    <tr>\n",
       "      <th>Appianus of Alexandria</th>\n",
       "      <td>2334</td>\n",
       "      <td>2334</td>\n",
       "      <td>2334</td>\n",
       "      <td>2334</td>\n",
       "      <td>2334</td>\n",
       "      <td>2334</td>\n",
       "      <td>2334</td>\n",
       "      <td>2334</td>\n",
       "      <td>2334</td>\n",
       "      <td>2334</td>\n",
       "      <td>2334</td>\n",
       "    </tr>\n",
       "    <tr>\n",
       "      <th>Clemens Romanus (Clement of Rome)</th>\n",
       "      <td>1036</td>\n",
       "      <td>1036</td>\n",
       "      <td>1036</td>\n",
       "      <td>1036</td>\n",
       "      <td>1036</td>\n",
       "      <td>1036</td>\n",
       "      <td>1036</td>\n",
       "      <td>1036</td>\n",
       "      <td>1036</td>\n",
       "      <td>1036</td>\n",
       "      <td>1036</td>\n",
       "    </tr>\n",
       "    <tr>\n",
       "      <th>Demosthenes</th>\n",
       "      <td>8930</td>\n",
       "      <td>8930</td>\n",
       "      <td>8930</td>\n",
       "      <td>8930</td>\n",
       "      <td>8930</td>\n",
       "      <td>8930</td>\n",
       "      <td>8930</td>\n",
       "      <td>8930</td>\n",
       "      <td>8930</td>\n",
       "      <td>8930</td>\n",
       "      <td>8930</td>\n",
       "    </tr>\n",
       "    <tr>\n",
       "      <th>Hermas, 2nd cent.</th>\n",
       "      <td>1454</td>\n",
       "      <td>1454</td>\n",
       "      <td>1454</td>\n",
       "      <td>1454</td>\n",
       "      <td>1454</td>\n",
       "      <td>1454</td>\n",
       "      <td>1454</td>\n",
       "      <td>1454</td>\n",
       "      <td>1454</td>\n",
       "      <td>1454</td>\n",
       "      <td>1454</td>\n",
       "    </tr>\n",
       "    <tr>\n",
       "      <th>Herodotus</th>\n",
       "      <td>8676</td>\n",
       "      <td>8676</td>\n",
       "      <td>8676</td>\n",
       "      <td>8676</td>\n",
       "      <td>8676</td>\n",
       "      <td>8676</td>\n",
       "      <td>8676</td>\n",
       "      <td>8676</td>\n",
       "      <td>8676</td>\n",
       "      <td>8676</td>\n",
       "      <td>8676</td>\n",
       "    </tr>\n",
       "    <tr>\n",
       "      <th>Isocrates</th>\n",
       "      <td>4008</td>\n",
       "      <td>4008</td>\n",
       "      <td>4008</td>\n",
       "      <td>4008</td>\n",
       "      <td>4008</td>\n",
       "      <td>4008</td>\n",
       "      <td>4008</td>\n",
       "      <td>4008</td>\n",
       "      <td>4008</td>\n",
       "      <td>4008</td>\n",
       "      <td>4008</td>\n",
       "    </tr>\n",
       "    <tr>\n",
       "      <th>Plato</th>\n",
       "      <td>1340</td>\n",
       "      <td>1340</td>\n",
       "      <td>1340</td>\n",
       "      <td>1340</td>\n",
       "      <td>1340</td>\n",
       "      <td>1340</td>\n",
       "      <td>1340</td>\n",
       "      <td>1340</td>\n",
       "      <td>1340</td>\n",
       "      <td>1340</td>\n",
       "      <td>1340</td>\n",
       "    </tr>\n",
       "    <tr>\n",
       "      <th>Plutarch</th>\n",
       "      <td>27756</td>\n",
       "      <td>27756</td>\n",
       "      <td>27756</td>\n",
       "      <td>27756</td>\n",
       "      <td>27755</td>\n",
       "      <td>27756</td>\n",
       "      <td>27756</td>\n",
       "      <td>27756</td>\n",
       "      <td>27756</td>\n",
       "      <td>27756</td>\n",
       "      <td>27756</td>\n",
       "    </tr>\n",
       "    <tr>\n",
       "      <th>Thucydides</th>\n",
       "      <td>14314</td>\n",
       "      <td>14314</td>\n",
       "      <td>14314</td>\n",
       "      <td>14314</td>\n",
       "      <td>14314</td>\n",
       "      <td>14314</td>\n",
       "      <td>14314</td>\n",
       "      <td>14314</td>\n",
       "      <td>14314</td>\n",
       "      <td>14314</td>\n",
       "      <td>14314</td>\n",
       "    </tr>\n",
       "    <tr>\n",
       "      <th>Xenophon</th>\n",
       "      <td>12546</td>\n",
       "      <td>12546</td>\n",
       "      <td>12546</td>\n",
       "      <td>12546</td>\n",
       "      <td>12545</td>\n",
       "      <td>12546</td>\n",
       "      <td>12546</td>\n",
       "      <td>12546</td>\n",
       "      <td>12546</td>\n",
       "      <td>12546</td>\n",
       "      <td>12546</td>\n",
       "    </tr>\n",
       "  </tbody>\n",
       "</table>\n",
       "</div>"
      ],
      "text/plain": [
       "                                    book     id    loc    seq   text  cites  \\\n",
       "group                                                                         \n",
       "Acta Philippi                        293    293    293    293    293    293   \n",
       "Acta Thomae                          341    341    341    341    341    341   \n",
       "Agathemerus                          234    234    234    234    234    234   \n",
       "Anonymi Paradoxographi                46     46     46     46     46     46   \n",
       "Appianus of Alexandria              2334   2334   2334   2334   2334   2334   \n",
       "Clemens Romanus (Clement of Rome)   1036   1036   1036   1036   1036   1036   \n",
       "Demosthenes                         8930   8930   8930   8930   8930   8930   \n",
       "Hermas, 2nd cent.                   1454   1454   1454   1454   1454   1454   \n",
       "Herodotus                           8676   8676   8676   8676   8676   8676   \n",
       "Isocrates                           4008   4008   4008   4008   4008   4008   \n",
       "Plato                               1340   1340   1340   1340   1340   1340   \n",
       "Plutarch                           27756  27756  27756  27756  27755  27756   \n",
       "Thucydides                         14314  14314  14314  14314  14314  14314   \n",
       "Xenophon                           12546  12546  12546  12546  12545  12546   \n",
       "\n",
       "                                    lang  title  translation  wlang   work  \n",
       "group                                                                       \n",
       "Acta Philippi                        293    293          293    293    293  \n",
       "Acta Thomae                          341    341          341    341    341  \n",
       "Agathemerus                          234    234          234    234    234  \n",
       "Anonymi Paradoxographi                46     46           46     46     46  \n",
       "Appianus of Alexandria              2334   2334         2334   2334   2334  \n",
       "Clemens Romanus (Clement of Rome)   1036   1036         1036   1036   1036  \n",
       "Demosthenes                         8930   8930         8930   8930   8930  \n",
       "Hermas, 2nd cent.                   1454   1454         1454   1454   1454  \n",
       "Herodotus                           8676   8676         8676   8676   8676  \n",
       "Isocrates                           4008   4008         4008   4008   4008  \n",
       "Plato                               1340   1340         1340   1340   1340  \n",
       "Plutarch                           27756  27756        27756  27756  27756  \n",
       "Thucydides                         14314  14314        14314  14314  14314  \n",
       "Xenophon                           12546  12546        12546  12546  12546  "
      ]
     },
     "execution_count": 4,
     "metadata": {},
     "output_type": "execute_result"
    }
   ],
   "source": [
    "df.groupby('group').count()"
   ]
  },
  {
   "cell_type": "code",
   "execution_count": 5,
   "id": "a200f3b2",
   "metadata": {},
   "outputs": [],
   "source": [
    "thuc_df = df.loc[df['group']=='Thucydides']"
   ]
  },
  {
   "cell_type": "code",
   "execution_count": 6,
   "id": "dae81a44",
   "metadata": {},
   "outputs": [
    {
     "data": {
      "text/plain": [
       "14314"
      ]
     },
     "execution_count": 6,
     "metadata": {},
     "output_type": "execute_result"
    }
   ],
   "source": [
    "len(thuc_df)"
   ]
  },
  {
   "cell_type": "code",
   "execution_count": 7,
   "id": "eb7282e6",
   "metadata": {},
   "outputs": [
    {
     "data": {
      "text/plain": [
       "14314"
      ]
     },
     "execution_count": 7,
     "metadata": {},
     "output_type": "execute_result"
    }
   ],
   "source": [
    "# id is unique per row\n",
    "len(thuc_df['id'].unique())"
   ]
  },
  {
   "cell_type": "code",
   "execution_count": 8,
   "id": "fb218e1f",
   "metadata": {},
   "outputs": [
    {
     "data": {
      "text/plain": [
       "array(['urn:cts:greekLit:tlg0003.tlg001.perseus-grc2',\n",
       "       'urn:cts:greekLit:tlg0003.tlg001.perseus-eng4',\n",
       "       'urn:cts:greekLit:tlg0003.tlg001.perseus-eng5',\n",
       "       'urn:cts:greekLit:tlg0003.tlg001.perseus-eng6'], dtype=object)"
      ]
     },
     "execution_count": 8,
     "metadata": {},
     "output_type": "execute_result"
    }
   ],
   "source": [
    "# 1 grk book and 3 eng translations\n",
    "thuc_df['book'].unique()"
   ]
  },
  {
   "cell_type": "code",
   "execution_count": 9,
   "id": "16722f91",
   "metadata": {},
   "outputs": [
    {
     "data": {
      "text/plain": [
       "array(['grc', 'eng'], dtype=object)"
      ]
     },
     "execution_count": 9,
     "metadata": {},
     "output_type": "execute_result"
    }
   ],
   "source": [
    "# only eng translations in this data dump\n",
    "thuc_df['lang'].unique()"
   ]
  },
  {
   "cell_type": "code",
   "execution_count": 10,
   "id": "f721af96",
   "metadata": {},
   "outputs": [
    {
     "data": {
      "text/html": [
       "<div>\n",
       "<style scoped>\n",
       "    .dataframe tbody tr th:only-of-type {\n",
       "        vertical-align: middle;\n",
       "    }\n",
       "\n",
       "    .dataframe tbody tr th {\n",
       "        vertical-align: top;\n",
       "    }\n",
       "\n",
       "    .dataframe thead th {\n",
       "        text-align: right;\n",
       "    }\n",
       "</style>\n",
       "<table border=\"1\" class=\"dataframe\">\n",
       "  <thead>\n",
       "    <tr style=\"text-align: right;\">\n",
       "      <th></th>\n",
       "      <th>book</th>\n",
       "      <th>id</th>\n",
       "      <th>loc</th>\n",
       "      <th>seq</th>\n",
       "      <th>text</th>\n",
       "      <th>cites</th>\n",
       "      <th>group</th>\n",
       "      <th>lang</th>\n",
       "      <th>title</th>\n",
       "      <th>translation</th>\n",
       "      <th>wlang</th>\n",
       "      <th>work</th>\n",
       "    </tr>\n",
       "  </thead>\n",
       "  <tbody>\n",
       "    <tr>\n",
       "      <th>3572</th>\n",
       "      <td>urn:cts:greekLit:tlg0003.tlg001.perseus-grc2</td>\n",
       "      <td>urn:cts:greekLit:tlg0003.tlg001.perseus-grc2:8...</td>\n",
       "      <td>urn:cts:greekLit:tlg0003.tlg001:8.108.3</td>\n",
       "      <td>3572</td>\n",
       "      <td>καὶ ὁ Τισσαφέρνης ἀπὸ τῆς Ἀσπένδου, ὡς ἐπύθετο...</td>\n",
       "      <td>[book, chapter, section]</td>\n",
       "      <td>Thucydides</td>\n",
       "      <td>grc</td>\n",
       "      <td>History of the Peloponnesian War</td>\n",
       "      <td>False</td>\n",
       "      <td>grc</td>\n",
       "      <td>urn:cts:greekLit:tlg0003.tlg001</td>\n",
       "    </tr>\n",
       "    <tr>\n",
       "      <th>7151</th>\n",
       "      <td>urn:cts:greekLit:tlg0003.tlg001.perseus-eng4</td>\n",
       "      <td>urn:cts:greekLit:tlg0003.tlg001.perseus-eng4:8...</td>\n",
       "      <td>urn:cts:greekLit:tlg0003.tlg001:8.108.3</td>\n",
       "      <td>3574</td>\n",
       "      <td>The Peloponnesians being now in Hellespont, th...</td>\n",
       "      <td>[book, chapter, section]</td>\n",
       "      <td>Thucydides</td>\n",
       "      <td>eng</td>\n",
       "      <td>History of the Peloponnesian War</td>\n",
       "      <td>True</td>\n",
       "      <td>grc</td>\n",
       "      <td>urn:cts:greekLit:tlg0003.tlg001</td>\n",
       "    </tr>\n",
       "    <tr>\n",
       "      <th>10730</th>\n",
       "      <td>urn:cts:greekLit:tlg0003.tlg001.perseus-eng5</td>\n",
       "      <td>urn:cts:greekLit:tlg0003.tlg001.perseus-eng5:8...</td>\n",
       "      <td>urn:cts:greekLit:tlg0003.tlg001:8.108.3</td>\n",
       "      <td>3574</td>\n",
       "      <td>Now after the arrival of the Peloponnesians at...</td>\n",
       "      <td>[book, chapter, section]</td>\n",
       "      <td>Thucydides</td>\n",
       "      <td>eng</td>\n",
       "      <td>History of the Peloponnesian War</td>\n",
       "      <td>True</td>\n",
       "      <td>grc</td>\n",
       "      <td>urn:cts:greekLit:tlg0003.tlg001</td>\n",
       "    </tr>\n",
       "    <tr>\n",
       "      <th>14309</th>\n",
       "      <td>urn:cts:greekLit:tlg0003.tlg001.perseus-eng6</td>\n",
       "      <td>urn:cts:greekLit:tlg0003.tlg001.perseus-eng6:8...</td>\n",
       "      <td>urn:cts:greekLit:tlg0003.tlg001:8.108.3</td>\n",
       "      <td>3574</td>\n",
       "      <td>Meanwhile Tissaphernes, upon hearing that the ...</td>\n",
       "      <td>[book, chapter, section]</td>\n",
       "      <td>Thucydides</td>\n",
       "      <td>eng</td>\n",
       "      <td>History of the Peloponnesian War</td>\n",
       "      <td>True</td>\n",
       "      <td>grc</td>\n",
       "      <td>urn:cts:greekLit:tlg0003.tlg001</td>\n",
       "    </tr>\n",
       "  </tbody>\n",
       "</table>\n",
       "</div>"
      ],
      "text/plain": [
       "                                               book  \\\n",
       "3572   urn:cts:greekLit:tlg0003.tlg001.perseus-grc2   \n",
       "7151   urn:cts:greekLit:tlg0003.tlg001.perseus-eng4   \n",
       "10730  urn:cts:greekLit:tlg0003.tlg001.perseus-eng5   \n",
       "14309  urn:cts:greekLit:tlg0003.tlg001.perseus-eng6   \n",
       "\n",
       "                                                      id  \\\n",
       "3572   urn:cts:greekLit:tlg0003.tlg001.perseus-grc2:8...   \n",
       "7151   urn:cts:greekLit:tlg0003.tlg001.perseus-eng4:8...   \n",
       "10730  urn:cts:greekLit:tlg0003.tlg001.perseus-eng5:8...   \n",
       "14309  urn:cts:greekLit:tlg0003.tlg001.perseus-eng6:8...   \n",
       "\n",
       "                                           loc   seq  \\\n",
       "3572   urn:cts:greekLit:tlg0003.tlg001:8.108.3  3572   \n",
       "7151   urn:cts:greekLit:tlg0003.tlg001:8.108.3  3574   \n",
       "10730  urn:cts:greekLit:tlg0003.tlg001:8.108.3  3574   \n",
       "14309  urn:cts:greekLit:tlg0003.tlg001:8.108.3  3574   \n",
       "\n",
       "                                                    text  \\\n",
       "3572   καὶ ὁ Τισσαφέρνης ἀπὸ τῆς Ἀσπένδου, ὡς ἐπύθετο...   \n",
       "7151   The Peloponnesians being now in Hellespont, th...   \n",
       "10730  Now after the arrival of the Peloponnesians at...   \n",
       "14309  Meanwhile Tissaphernes, upon hearing that the ...   \n",
       "\n",
       "                          cites       group lang  \\\n",
       "3572   [book, chapter, section]  Thucydides  grc   \n",
       "7151   [book, chapter, section]  Thucydides  eng   \n",
       "10730  [book, chapter, section]  Thucydides  eng   \n",
       "14309  [book, chapter, section]  Thucydides  eng   \n",
       "\n",
       "                                  title  translation wlang  \\\n",
       "3572   History of the Peloponnesian War        False   grc   \n",
       "7151   History of the Peloponnesian War         True   grc   \n",
       "10730  History of the Peloponnesian War         True   grc   \n",
       "14309  History of the Peloponnesian War         True   grc   \n",
       "\n",
       "                                  work  \n",
       "3572   urn:cts:greekLit:tlg0003.tlg001  \n",
       "7151   urn:cts:greekLit:tlg0003.tlg001  \n",
       "10730  urn:cts:greekLit:tlg0003.tlg001  \n",
       "14309  urn:cts:greekLit:tlg0003.tlg001  "
      ]
     },
     "execution_count": 10,
     "metadata": {},
     "output_type": "execute_result"
    }
   ],
   "source": [
    "# loc is the chunk identifier\n",
    "thuc_df.loc[thuc_df['loc']=='urn:cts:greekLit:tlg0003.tlg001:8.108.3']"
   ]
  },
  {
   "cell_type": "code",
   "execution_count": 43,
   "id": "8d5a9b2c",
   "metadata": {},
   "outputs": [],
   "source": [
    "# get grc and eng translations as separate df's\n",
    "thuc_grc_df = thuc_df.loc[thuc_df['book']=='urn:cts:greekLit:tlg0003.tlg001.perseus-grc2']\n",
    "# get eng translations\n",
    "thuc_eng4_df = thuc_df.loc[thuc_df['book']=='urn:cts:greekLit:tlg0003.tlg001.perseus-eng4']\n",
    "thuc_eng5_df = thuc_df.loc[thuc_df['book']=='urn:cts:greekLit:tlg0003.tlg001.perseus-eng5']\n",
    "thuc_eng6_df = thuc_df.loc[thuc_df['book']=='urn:cts:greekLit:tlg0003.tlg001.perseus-eng6']"
   ]
  },
  {
   "cell_type": "code",
   "execution_count": 44,
   "id": "c3d702e6",
   "metadata": {
    "scrolled": true
   },
   "outputs": [
    {
     "data": {
      "text/plain": [
       "book           0\n",
       "id             0\n",
       "loc            0\n",
       "seq            0\n",
       "text           0\n",
       "cites          0\n",
       "group          0\n",
       "lang           0\n",
       "title          0\n",
       "translation    0\n",
       "wlang          0\n",
       "work           0\n",
       "dtype: int64"
      ]
     },
     "execution_count": 44,
     "metadata": {},
     "output_type": "execute_result"
    }
   ],
   "source": [
    "# no NAN in any of the 4 df's\n",
    "thuc_eng6_df.isna().sum()"
   ]
  },
  {
   "cell_type": "code",
   "execution_count": 45,
   "id": "b05261e1",
   "metadata": {
    "scrolled": true
   },
   "outputs": [
    {
     "data": {
      "text/plain": [
       "0       Θουκυδίδης Ἀθηναῖος ξυνέγραψε τὸν πόλεμον τῶν\\...\n",
       "1       κίνησις γὰρ αὕτη μεγίστη δὴ τοῖς Ἕλλησιν ἐγένε...\n",
       "2       τὰ γὰρ πρὸ αὐτῶν καὶ τὰ ἔτι παλαίτερα σαφῶς μὲ...\n",
       "3       φαίνεται γὰρ ἡ νῦν Ἑλλὰς καλουμένη οὐ πάλαι βε...\n",
       "4       τῆς γὰρ ἐμπορίας οὐκ οὔσης, οὐδ’ ἐπιμειγνύντες...\n",
       "                              ...                        \n",
       "3572    καὶ ὁ Τισσαφέρνης ἀπὸ τῆς Ἀσπένδου, ὡς ἐπύθετο...\n",
       "3573    ὄντων δὲ τῶν Πελοποννησίων ἐν τῷ Ἑλλησπόντῳ, Ἀ...\n",
       "3574    φοβούμενοι οὖν αὐτὸν διὰ τοῦτο τὸ ἔργον μήποτε...\n",
       "3575    ὁ δὲ Τισσαφέρνης αἰσθόμενος καὶ τοῦτο τῶν Πελο...\n",
       "3576    [ὅταν ὁ μετὰ τοῦτο τὸ θέρος χειμὼν τελευτήσῃ, ...\n",
       "Name: text, Length: 3577, dtype: object"
      ]
     },
     "execution_count": 45,
     "metadata": {},
     "output_type": "execute_result"
    }
   ],
   "source": [
    "thuc_grc_df['text']"
   ]
  },
  {
   "cell_type": "code",
   "execution_count": 46,
   "id": "265cff27",
   "metadata": {},
   "outputs": [
    {
     "data": {
      "text/plain": [
       "str"
      ]
     },
     "execution_count": 46,
     "metadata": {},
     "output_type": "execute_result"
    }
   ],
   "source": [
    "type(thuc_grc_df['text'][3576])"
   ]
  },
  {
   "cell_type": "code",
   "execution_count": 47,
   "id": "9d247a20",
   "metadata": {},
   "outputs": [
    {
     "data": {
      "text/plain": [
       "0"
      ]
     },
     "execution_count": 47,
     "metadata": {},
     "output_type": "execute_result"
    }
   ],
   "source": [
    "# all rows of text col are str, in all 4 df's\n",
    "not_string = 0\n",
    "for chunk in thuc_eng6_df['text']:\n",
    "    if not isinstance(chunk, str):\n",
    "        not_string += 1\n",
    "not_string"
   ]
  },
  {
   "cell_type": "markdown",
   "id": "8d7f65b3-f962-4942-8c92-1e7a495b6a17",
   "metadata": {},
   "source": [
    "# Find data issue"
   ]
  },
  {
   "cell_type": "code",
   "execution_count": 48,
   "id": "d324d282",
   "metadata": {},
   "outputs": [
    {
     "name": "stdout",
     "output_type": "stream",
     "text": [
      "len of grc: 3577\n",
      "len of eng4: 3579\n",
      "len of eng5: 3579\n",
      "len of eng6: 3579\n"
     ]
    }
   ],
   "source": [
    "print(f'len of grc: {len(thuc_grc_df)}')\n",
    "print(f'len of eng4: {len(thuc_eng4_df)}')\n",
    "print(f'len of eng5: {len(thuc_eng5_df)}')\n",
    "print(f'len of eng6: {len(thuc_eng6_df)}')"
   ]
  },
  {
   "cell_type": "code",
   "execution_count": 49,
   "id": "adcbac8e",
   "metadata": {
    "scrolled": true
   },
   "outputs": [],
   "source": [
    "# reset index\n",
    "thuc_eng4_df.reset_index(inplace=True)\n",
    "thuc_eng5_df.reset_index(inplace=True)\n",
    "thuc_eng6_df.reset_index(inplace=True)"
   ]
  },
  {
   "cell_type": "code",
   "execution_count": 50,
   "id": "53dbe94c",
   "metadata": {
    "scrolled": true
   },
   "outputs": [
    {
     "data": {
      "text/plain": [
       "book                urn:cts:greekLit:tlg0003.tlg001.perseus-grc2\n",
       "id             urn:cts:greekLit:tlg0003.tlg001.perseus-grc2:7...\n",
       "loc                       urn:cts:greekLit:tlg0003.tlg001:7.45.2\n",
       "seq                                                         3000\n",
       "text           ἀπέθανον δὲ οὐκ ὀλίγοι αὐτῶν τε καὶ τῶν ξυμμάχ...\n",
       "cites                                   [book, chapter, section]\n",
       "group                                                 Thucydides\n",
       "lang                                                         grc\n",
       "title                           History of the Peloponnesian War\n",
       "translation                                                False\n",
       "wlang                                                        grc\n",
       "work                             urn:cts:greekLit:tlg0003.tlg001\n",
       "Name: 3000, dtype: object"
      ]
     },
     "execution_count": 50,
     "metadata": {},
     "output_type": "execute_result"
    }
   ],
   "source": [
    "thuc_grc_df.loc[3000]"
   ]
  },
  {
   "cell_type": "code",
   "execution_count": 51,
   "id": "354f6ccf",
   "metadata": {},
   "outputs": [
    {
     "data": {
      "text/plain": [
       "index                                                      10156\n",
       "book                urn:cts:greekLit:tlg0003.tlg001.perseus-eng5\n",
       "id             urn:cts:greekLit:tlg0003.tlg001.perseus-eng5:7...\n",
       "loc                       urn:cts:greekLit:tlg0003.tlg001:7.44.8\n",
       "seq                                                         3000\n",
       "text           The greater number of those who were pursued a...\n",
       "cites                                   [book, chapter, section]\n",
       "group                                                 Thucydides\n",
       "lang                                                         eng\n",
       "title                           History of the Peloponnesian War\n",
       "translation                                                 True\n",
       "wlang                                                        grc\n",
       "work                             urn:cts:greekLit:tlg0003.tlg001\n",
       "Name: 3000, dtype: object"
      ]
     },
     "execution_count": 51,
     "metadata": {},
     "output_type": "execute_result"
    }
   ],
   "source": [
    "thuc_eng5_df.loc[3000]"
   ]
  },
  {
   "cell_type": "code",
   "execution_count": 52,
   "id": "50a08e50",
   "metadata": {},
   "outputs": [
    {
     "name": "stdout",
     "output_type": "stream",
     "text": [
      "[ὅταν ὁ μετὰ τοῦτο τὸ θέρος χειμὼν τελευτήσῃ, ἓν καὶ εἰκοστὸν ἔτος πληροῦται.]\n",
      "\n"
     ]
    }
   ],
   "source": [
    "print(thuc_grc_df['text'][3576])"
   ]
  },
  {
   "cell_type": "code",
   "execution_count": 53,
   "id": "a39bae7f",
   "metadata": {},
   "outputs": [
    {
     "name": "stdout",
     "output_type": "stream",
     "text": [
      "When the winter following this summer shall be ended, the\n",
      "one-and-twentieth year [of this war] shall be complete.\n",
      "\n"
     ]
    }
   ],
   "source": [
    "print(thuc_eng4_df['text'][3578])"
   ]
  },
  {
   "cell_type": "code",
   "execution_count": 54,
   "id": "2e52694b",
   "metadata": {},
   "outputs": [
    {
     "name": "stdout",
     "output_type": "stream",
     "text": [
      "[With the end of the winter which follows this summer the\n",
      "twenty-first year of the Peloponnesian War is completed.]\n",
      "\n"
     ]
    }
   ],
   "source": [
    "print(thuc_eng5_df['text'][3578])"
   ]
  },
  {
   "cell_type": "code",
   "execution_count": 55,
   "id": "d02c6bfd",
   "metadata": {},
   "outputs": [
    {
     "name": "stdout",
     "output_type": "stream",
     "text": [
      "[When the winter after this summer\n",
      "is over the twenty-first year of this war will be completed.]\n",
      "\n"
     ]
    }
   ],
   "source": [
    "print(thuc_eng6_df['text'][3578])"
   ]
  },
  {
   "cell_type": "code",
   "execution_count": 56,
   "id": "d9f2d55d",
   "metadata": {},
   "outputs": [
    {
     "data": {
      "text/plain": [
       "3579"
      ]
     },
     "execution_count": 56,
     "metadata": {},
     "output_type": "execute_result"
    }
   ],
   "source": [
    "# Checked: only unique loc identifiers for all 4 books\n",
    "len(thuc_eng5_df['loc'].unique())"
   ]
  },
  {
   "cell_type": "code",
   "execution_count": 57,
   "id": "1957f121",
   "metadata": {},
   "outputs": [],
   "source": [
    "grc_loc = thuc_grc_df['loc']"
   ]
  },
  {
   "cell_type": "code",
   "execution_count": 58,
   "id": "4891f6fa",
   "metadata": {},
   "outputs": [
    {
     "data": {
      "text/plain": [
       "3577"
      ]
     },
     "execution_count": 58,
     "metadata": {},
     "output_type": "execute_result"
    }
   ],
   "source": [
    "len(grc_loc)"
   ]
  },
  {
   "cell_type": "code",
   "execution_count": 59,
   "id": "1360d978",
   "metadata": {},
   "outputs": [],
   "source": [
    "eng4_loc = thuc_eng4_df['loc']"
   ]
  },
  {
   "cell_type": "code",
   "execution_count": 60,
   "id": "a4feb38f",
   "metadata": {},
   "outputs": [
    {
     "data": {
      "text/plain": [
       "3579"
      ]
     },
     "execution_count": 60,
     "metadata": {},
     "output_type": "execute_result"
    }
   ],
   "source": [
    "len(eng4_loc)"
   ]
  },
  {
   "cell_type": "code",
   "execution_count": 61,
   "id": "33187150",
   "metadata": {},
   "outputs": [],
   "source": [
    "not_same = []\n",
    "for idx in range(len(grc_loc)):\n",
    "    if grc_loc[idx] != eng4_loc[idx]:\n",
    "        not_same.append(idx)"
   ]
  },
  {
   "cell_type": "code",
   "execution_count": 62,
   "id": "460f2690",
   "metadata": {},
   "outputs": [
    {
     "data": {
      "text/plain": [
       "2539"
      ]
     },
     "execution_count": 62,
     "metadata": {},
     "output_type": "execute_result"
    }
   ],
   "source": [
    "len(not_same)"
   ]
  },
  {
   "cell_type": "code",
   "execution_count": 63,
   "id": "85ce7ed1",
   "metadata": {},
   "outputs": [
    {
     "data": {
      "text/plain": [
       "1038"
      ]
     },
     "execution_count": 63,
     "metadata": {},
     "output_type": "execute_result"
    }
   ],
   "source": [
    "min(not_same)"
   ]
  },
  {
   "cell_type": "code",
   "execution_count": 64,
   "id": "907b15f9",
   "metadata": {},
   "outputs": [
    {
     "data": {
      "text/plain": [
       "0"
      ]
     },
     "execution_count": 64,
     "metadata": {},
     "output_type": "execute_result"
    }
   ],
   "source": [
    "# mismatch begins at item 1038\n",
    "test = [num for num in range(1038, 1038+2539)]\n",
    "check = 0\n",
    "for idx in range(len(not_same)):\n",
    "    if not_same[idx] != test[idx]:\n",
    "        check += 1\n",
    "check"
   ]
  },
  {
   "cell_type": "code",
   "execution_count": 65,
   "id": "7dc5c6e3",
   "metadata": {},
   "outputs": [
    {
     "data": {
      "text/plain": [
       "book                urn:cts:greekLit:tlg0003.tlg001.perseus-grc2\n",
       "id             urn:cts:greekLit:tlg0003.tlg001.perseus-grc2:2...\n",
       "loc                      urn:cts:greekLit:tlg0003.tlg001:2.103.1\n",
       "seq                                                         1037\n",
       "text           οἱ δὲ Ἀθηναῖοι καὶ ὁ Φορμίων ἄραντες ἐκ τῆς Ἀκ...\n",
       "cites                                   [book, chapter, section]\n",
       "group                                                 Thucydides\n",
       "lang                                                         grc\n",
       "title                           History of the Peloponnesian War\n",
       "translation                                                False\n",
       "wlang                                                        grc\n",
       "work                             urn:cts:greekLit:tlg0003.tlg001\n",
       "Name: 1037, dtype: object"
      ]
     },
     "execution_count": 65,
     "metadata": {},
     "output_type": "execute_result"
    }
   ],
   "source": [
    "thuc_grc_df.loc[1037]"
   ]
  },
  {
   "cell_type": "code",
   "execution_count": 66,
   "id": "b8c2dcb1",
   "metadata": {},
   "outputs": [
    {
     "data": {
      "text/plain": [
       "book                urn:cts:greekLit:tlg0003.tlg001.perseus-grc2\n",
       "id             urn:cts:greekLit:tlg0003.tlg001.perseus-grc2:3...\n",
       "loc                        urn:cts:greekLit:tlg0003.tlg001:3.1.1\n",
       "seq                                                         1038\n",
       "text           τοῦ δ’ ἐπιγιγνομένου θέρους Πελοποννήσιοι καὶ ...\n",
       "cites                                   [book, chapter, section]\n",
       "group                                                 Thucydides\n",
       "lang                                                         grc\n",
       "title                           History of the Peloponnesian War\n",
       "translation                                                False\n",
       "wlang                                                        grc\n",
       "work                             urn:cts:greekLit:tlg0003.tlg001\n",
       "Name: 1038, dtype: object"
      ]
     },
     "execution_count": 66,
     "metadata": {},
     "output_type": "execute_result"
    }
   ],
   "source": [
    "thuc_grc_df.loc[1038]"
   ]
  },
  {
   "cell_type": "code",
   "execution_count": 67,
   "id": "f9f8a54c",
   "metadata": {
    "scrolled": true
   },
   "outputs": [
    {
     "data": {
      "text/plain": [
       "index                                                       4614\n",
       "book                urn:cts:greekLit:tlg0003.tlg001.perseus-eng4\n",
       "id             urn:cts:greekLit:tlg0003.tlg001.perseus-eng4:2...\n",
       "loc                      urn:cts:greekLit:tlg0003.tlg001:2.103.1\n",
       "seq                                                         1037\n",
       "text           But Phormio and the Athenians, leaving Acarnan...\n",
       "cites                                   [book, chapter, section]\n",
       "group                                                 Thucydides\n",
       "lang                                                         eng\n",
       "title                           History of the Peloponnesian War\n",
       "translation                                                 True\n",
       "wlang                                                        grc\n",
       "work                             urn:cts:greekLit:tlg0003.tlg001\n",
       "Name: 1037, dtype: object"
      ]
     },
     "execution_count": 67,
     "metadata": {},
     "output_type": "execute_result"
    }
   ],
   "source": [
    "thuc_eng4_df.loc[1037]"
   ]
  },
  {
   "cell_type": "code",
   "execution_count": 68,
   "id": "73caa50c",
   "metadata": {
    "scrolled": true
   },
   "outputs": [
    {
     "data": {
      "text/plain": [
       "index                                                       4615\n",
       "book                urn:cts:greekLit:tlg0003.tlg001.perseus-eng4\n",
       "id             urn:cts:greekLit:tlg0003.tlg001.perseus-eng4:2...\n",
       "loc                      urn:cts:greekLit:tlg0003.tlg001:2.103.2\n",
       "seq                                                         1038\n",
       "text           So ended that winter, and the third year of th...\n",
       "cites                                   [book, chapter, section]\n",
       "group                                                 Thucydides\n",
       "lang                                                         eng\n",
       "title                           History of the Peloponnesian War\n",
       "translation                                                 True\n",
       "wlang                                                        grc\n",
       "work                             urn:cts:greekLit:tlg0003.tlg001\n",
       "Name: 1038, dtype: object"
      ]
     },
     "execution_count": 68,
     "metadata": {},
     "output_type": "execute_result"
    }
   ],
   "source": [
    "thuc_eng4_df.loc[1038]"
   ]
  },
  {
   "cell_type": "code",
   "execution_count": 69,
   "id": "a261f177",
   "metadata": {
    "scrolled": true
   },
   "outputs": [
    {
     "data": {
      "text/plain": [
       "book                urn:cts:greekLit:tlg0003.tlg001.perseus-grc2\n",
       "id             urn:cts:greekLit:tlg0003.tlg001.perseus-grc2:3...\n",
       "loc                        urn:cts:greekLit:tlg0003.tlg001:3.1.2\n",
       "seq                                                         1039\n",
       "text           καὶ ἐγκαθεζόμενοι ἐδῄουν τὴν γῆν: καὶ προσβολα...\n",
       "cites                                   [book, chapter, section]\n",
       "group                                                 Thucydides\n",
       "lang                                                         grc\n",
       "title                           History of the Peloponnesian War\n",
       "translation                                                False\n",
       "wlang                                                        grc\n",
       "work                             urn:cts:greekLit:tlg0003.tlg001\n",
       "Name: 1039, dtype: object"
      ]
     },
     "execution_count": 69,
     "metadata": {},
     "output_type": "execute_result"
    }
   ],
   "source": [
    "thuc_grc_df.loc[1039]"
   ]
  },
  {
   "cell_type": "markdown",
   "id": "8655524a-af77-4b9d-aa34-f5e6ce9feeb1",
   "metadata": {},
   "source": [
    "## Save dfs to file with data issue"
   ]
  },
  {
   "cell_type": "code",
   "execution_count": 70,
   "id": "db7e22c7",
   "metadata": {},
   "outputs": [],
   "source": [
    "# send df's to csv, with data issue\n",
    "# thuc_grc_df.to_csv('/home/craig.car/spring2023/data/thuc_grc_df.csv', index=False)\n",
    "# thuc_eng4_df.to_csv('/home/craig.car/spring2023/data/thuc_eng4_df.csv', index=False)\n",
    "# thuc_eng5_df.to_csv('/home/craig.car/spring2023/data/thuc_eng5_df.csv', index=False)\n",
    "# thuc_eng6_df.to_csv('/home/craig.car/spring2023/data/thuc_eng6_df.csv', index=False)"
   ]
  },
  {
   "cell_type": "markdown",
   "id": "7c9234ab",
   "metadata": {},
   "source": [
    "## Fix Data Issue 1"
   ]
  },
  {
   "cell_type": "code",
   "execution_count": 71,
   "id": "63caad74",
   "metadata": {},
   "outputs": [
    {
     "data": {
      "text/plain": [
       "book                urn:cts:greekLit:tlg0003.tlg001.perseus-grc2\n",
       "id             urn:cts:greekLit:tlg0003.tlg001.perseus-grc2:3...\n",
       "loc                        urn:cts:greekLit:tlg0003.tlg001:3.1.1\n",
       "seq                                                         1038\n",
       "text           τοῦ δ’ ἐπιγιγνομένου θέρους Πελοποννήσιοι καὶ ...\n",
       "cites                                   [book, chapter, section]\n",
       "group                                                 Thucydides\n",
       "lang                                                         grc\n",
       "title                           History of the Peloponnesian War\n",
       "translation                                                False\n",
       "wlang                                                        grc\n",
       "work                             urn:cts:greekLit:tlg0003.tlg001\n",
       "Name: 1038, dtype: object"
      ]
     },
     "execution_count": 71,
     "metadata": {},
     "output_type": "execute_result"
    }
   ],
   "source": [
    "# drop 2.103.1 from grk and 2.103.1 and 2.103.2 from eng\n",
    "# thuc_grc_df.drop(1037, axis=0, inplace=True)\n",
    "thuc_grc_df = thuc_grc_df.drop(1037, axis=0)\n",
    "thuc_grc_df.loc[1038]"
   ]
  },
  {
   "cell_type": "code",
   "execution_count": 72,
   "id": "913b6ed5",
   "metadata": {},
   "outputs": [
    {
     "data": {
      "text/plain": [
       "index                                                      11774\n",
       "book                urn:cts:greekLit:tlg0003.tlg001.perseus-eng6\n",
       "id             urn:cts:greekLit:tlg0003.tlg001.perseus-eng6:3...\n",
       "loc                        urn:cts:greekLit:tlg0003.tlg001:3.1.1\n",
       "seq                                                         1039\n",
       "text           The next summer, just as the corn was\\ngetting...\n",
       "cites                                   [book, chapter, section]\n",
       "group                                                 Thucydides\n",
       "lang                                                         eng\n",
       "title                           History of the Peloponnesian War\n",
       "translation                                                 True\n",
       "wlang                                                        grc\n",
       "work                             urn:cts:greekLit:tlg0003.tlg001\n",
       "Name: 1039, dtype: object"
      ]
     },
     "execution_count": 72,
     "metadata": {},
     "output_type": "execute_result"
    }
   ],
   "source": [
    "thuc_eng6_df = thuc_eng6_df.drop([1037,1038], axis=0)\n",
    "thuc_eng6_df.loc[1039]"
   ]
  },
  {
   "cell_type": "code",
   "execution_count": 73,
   "id": "a84d3228",
   "metadata": {},
   "outputs": [
    {
     "data": {
      "text/plain": [
       "3576"
      ]
     },
     "execution_count": 73,
     "metadata": {},
     "output_type": "execute_result"
    }
   ],
   "source": [
    "len(thuc_grc_df)"
   ]
  },
  {
   "cell_type": "code",
   "execution_count": 74,
   "id": "344e6c58-8bb8-427e-ba0f-1faab808861c",
   "metadata": {},
   "outputs": [
    {
     "data": {
      "text/plain": [
       "3577"
      ]
     },
     "execution_count": 74,
     "metadata": {},
     "output_type": "execute_result"
    }
   ],
   "source": [
    "len(thuc_eng6_df)"
   ]
  },
  {
   "cell_type": "code",
   "execution_count": 75,
   "id": "12dd88da-895d-42a8-b10a-d18540c0d60c",
   "metadata": {},
   "outputs": [],
   "source": [
    "# reset index\n",
    "thuc_grc_df.reset_index(drop=True, inplace=True)"
   ]
  },
  {
   "cell_type": "code",
   "execution_count": 76,
   "id": "f98d5714-f0d3-410e-8165-5a11f45ce64c",
   "metadata": {},
   "outputs": [
    {
     "data": {
      "text/plain": [
       "book                urn:cts:greekLit:tlg0003.tlg001.perseus-grc2\n",
       "id             urn:cts:greekLit:tlg0003.tlg001.perseus-grc2:3...\n",
       "loc                        urn:cts:greekLit:tlg0003.tlg001:3.1.1\n",
       "seq                                                         1038\n",
       "text           τοῦ δ’ ἐπιγιγνομένου θέρους Πελοποννήσιοι καὶ ...\n",
       "cites                                   [book, chapter, section]\n",
       "group                                                 Thucydides\n",
       "lang                                                         grc\n",
       "title                           History of the Peloponnesian War\n",
       "translation                                                False\n",
       "wlang                                                        grc\n",
       "work                             urn:cts:greekLit:tlg0003.tlg001\n",
       "Name: 1037, dtype: object"
      ]
     },
     "execution_count": 76,
     "metadata": {},
     "output_type": "execute_result"
    }
   ],
   "source": [
    "thuc_grc_df.loc[1037]"
   ]
  },
  {
   "cell_type": "code",
   "execution_count": 77,
   "id": "0787c79a-5248-4547-8cf9-ddc441758b55",
   "metadata": {},
   "outputs": [],
   "source": [
    "thuc_eng6_df.reset_index(drop=True, inplace=True)"
   ]
  },
  {
   "cell_type": "code",
   "execution_count": 78,
   "id": "edcebd88-65ab-444f-9304-8161cc422d44",
   "metadata": {},
   "outputs": [
    {
     "data": {
      "text/plain": [
       "index                                                      11774\n",
       "book                urn:cts:greekLit:tlg0003.tlg001.perseus-eng6\n",
       "id             urn:cts:greekLit:tlg0003.tlg001.perseus-eng6:3...\n",
       "loc                        urn:cts:greekLit:tlg0003.tlg001:3.1.1\n",
       "seq                                                         1039\n",
       "text           The next summer, just as the corn was\\ngetting...\n",
       "cites                                   [book, chapter, section]\n",
       "group                                                 Thucydides\n",
       "lang                                                         eng\n",
       "title                           History of the Peloponnesian War\n",
       "translation                                                 True\n",
       "wlang                                                        grc\n",
       "work                             urn:cts:greekLit:tlg0003.tlg001\n",
       "Name: 1037, dtype: object"
      ]
     },
     "execution_count": 78,
     "metadata": {},
     "output_type": "execute_result"
    }
   ],
   "source": [
    "thuc_eng6_df.loc[1037]"
   ]
  },
  {
   "cell_type": "code",
   "execution_count": 79,
   "id": "39e4006d-154b-4c46-abb3-01b2443dd73a",
   "metadata": {},
   "outputs": [],
   "source": [
    "# check for other data issue\n",
    "\n",
    "grc_loc_ids = list(thuc_grc_df['loc'])\n",
    "eng6_loc_ids = list(thuc_eng6_df['loc'])\n",
    "\n",
    "not_same = []\n",
    "for idx in range(len(grc_loc_ids)):\n",
    "    if grc_loc_ids[idx] != eng6_loc_ids[idx]:\n",
    "        not_same.append(idx)"
   ]
  },
  {
   "cell_type": "code",
   "execution_count": 80,
   "id": "c4bd2dca-87bc-48b5-bc27-4653ce6b0300",
   "metadata": {},
   "outputs": [
    {
     "data": {
      "text/plain": [
       "2514"
      ]
     },
     "execution_count": 80,
     "metadata": {},
     "output_type": "execute_result"
    }
   ],
   "source": [
    "# data issue starts at min\n",
    "min(not_same)"
   ]
  },
  {
   "cell_type": "code",
   "execution_count": 81,
   "id": "cbe42ced-5a65-4f6e-a7e1-6222b5c0e017",
   "metadata": {},
   "outputs": [
    {
     "data": {
      "text/plain": [
       "book                urn:cts:greekLit:tlg0003.tlg001.perseus-grc2\n",
       "id             urn:cts:greekLit:tlg0003.tlg001.perseus-grc2:6...\n",
       "loc                       urn:cts:greekLit:tlg0003.tlg001:6.23.3\n",
       "seq                                                         2514\n",
       "text           ὅπερ ἐγὼ φοβούμενος, καὶ εἰδὼς πολλὰ μὲν ἡμᾶς ...\n",
       "cites                                   [book, chapter, section]\n",
       "group                                                 Thucydides\n",
       "lang                                                         grc\n",
       "title                           History of the Peloponnesian War\n",
       "translation                                                False\n",
       "wlang                                                        grc\n",
       "work                             urn:cts:greekLit:tlg0003.tlg001\n",
       "Name: 2513, dtype: object"
      ]
     },
     "execution_count": 81,
     "metadata": {},
     "output_type": "execute_result"
    }
   ],
   "source": [
    "thuc_grc_df.loc[2513]"
   ]
  },
  {
   "cell_type": "markdown",
   "id": "c1ca5f9b-5385-46e9-96a8-d2aa5bf896c2",
   "metadata": {},
   "source": [
    "## Data issue 2"
   ]
  },
  {
   "cell_type": "markdown",
   "id": "3ab2c7a9-cbef-409e-9d06-1a0aecf45323",
   "metadata": {},
   "source": [
    "Grk 6.23.3 --> Eng 6.23.3, 6.23.4\n",
    "Grk 6.24.1 --> Eng 6.24.1\n",
    "\n",
    "- 2513 --> 6.23.3\n",
    "- 2514 --> 6.24.1\n",
    "- 2515 --> 6.24.2\n",
    "\n",
    "Eng:\n",
    "- 2513 --> 6.23.3\n",
    "- 2514 --> 6.23.4\n",
    "- 2515 --> 6.24.1\n",
    "- 2516 --> 6.24.2\n",
    "\n",
    "Therefore, remove 6.23.3 from Grk (2513) and 6.23.3, 6.23.4 from English (2513-2514)"
   ]
  },
  {
   "cell_type": "code",
   "execution_count": 83,
   "id": "587f49d1-9757-424f-bc87-71cecac0b9da",
   "metadata": {},
   "outputs": [],
   "source": [
    "thuc_grc_df = thuc_grc_df.drop(2513, axis=0)\n",
    "thuc_eng6_df = thuc_eng6_df.drop([2513,2514], axis=0)"
   ]
  },
  {
   "cell_type": "code",
   "execution_count": 84,
   "id": "7cb82645-3a5b-4c0f-bbc7-b1700dc4d2ed",
   "metadata": {},
   "outputs": [],
   "source": [
    "# reset index\n",
    "thuc_grc_df.reset_index(drop=True, inplace=True)\n",
    "thuc_eng6_df.reset_index(drop=True, inplace=True)"
   ]
  },
  {
   "cell_type": "code",
   "execution_count": 85,
   "id": "1d542647-1ad4-4b88-83e5-604cb57f6104",
   "metadata": {},
   "outputs": [
    {
     "name": "stdout",
     "output_type": "stream",
     "text": [
      "3575\n",
      "3575\n"
     ]
    }
   ],
   "source": [
    "print(len(thuc_grc_df))\n",
    "print(len(thuc_eng6_df))"
   ]
  },
  {
   "cell_type": "code",
   "execution_count": 87,
   "id": "f9b3959d-c699-46c5-a2f9-41d709369ed5",
   "metadata": {},
   "outputs": [
    {
     "data": {
      "text/plain": [
       "0"
      ]
     },
     "execution_count": 87,
     "metadata": {},
     "output_type": "execute_result"
    }
   ],
   "source": [
    "# check for any remaining data issues\n",
    "\n",
    "grc_loc_ids = list(thuc_grc_df['loc'])\n",
    "eng6_loc_ids = list(thuc_eng6_df['loc'])\n",
    "\n",
    "not_same = []\n",
    "for idx in range(len(grc_loc_ids)):\n",
    "    if grc_loc_ids[idx] != eng6_loc_ids[idx]:\n",
    "        not_same.append(idx)\n",
    "len(not_same)"
   ]
  },
  {
   "cell_type": "code",
   "execution_count": 89,
   "id": "8a440db0-7711-4fd6-a485-e81ee545a1f8",
   "metadata": {},
   "outputs": [],
   "source": [
    "# remove \\n\n",
    "thuc_grc_df['text'] = thuc_grc_df['text'].replace('\\n',' ', regex=True)\n",
    "thuc_eng6_df['text'] = thuc_eng6_df['text'].replace('\\n',' ', regex=True)\n",
    "\n",
    "# with open(\"/home/craig.car/repos/chiron/align_texts_project/data/thucydides/thuc_all_chunks_el.txt\", 'w') as f:\n",
    "#     for grk_chunk in list(thuc_grc_df['text']):\n",
    "#         f.write(f\"{grk_chunk}\\n\")\n",
    "\n",
    "# with open(\"/home/craig.car/repos/chiron/align_texts_project/data/thucydides/thuc_all_chunks_crawley.txt\", 'w') as f:\n",
    "#     for eng6_chunk in list(thuc_eng6_df['text']):\n",
    "#         f.write(f\"{eng6_chunk}\\n\")"
   ]
  },
  {
   "cell_type": "code",
   "execution_count": null,
   "id": "5edd3ba1-3b5c-489f-9dab-5f7d298af15b",
   "metadata": {},
   "outputs": [],
   "source": []
  }
 ],
 "metadata": {
  "kernelspec": {
   "display_name": "Python 3 (ipykernel)",
   "language": "python",
   "name": "python3"
  },
  "language_info": {
   "codemirror_mode": {
    "name": "ipython",
    "version": 3
   },
   "file_extension": ".py",
   "mimetype": "text/x-python",
   "name": "python",
   "nbconvert_exporter": "python",
   "pygments_lexer": "ipython3",
   "version": "3.7.13"
  }
 },
 "nbformat": 4,
 "nbformat_minor": 5
}
