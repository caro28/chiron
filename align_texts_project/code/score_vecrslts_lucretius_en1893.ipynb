{
 "cells": [
  {
   "cell_type": "code",
   "execution_count": 79,
   "id": "e69294a4-0c1d-4b71-a184-8ce8de03d64a",
   "metadata": {},
   "outputs": [],
   "source": [
    "import re\n",
    "import json\n",
    "import stanza\n",
    "import argparse\n",
    "\n",
    "import numpy as np\n",
    "import pandas as pd\n",
    "\n",
    "from itertools import chain\n",
    "from ast import literal_eval\n",
    "from collections import defaultdict\n",
    "\n",
    "from functions_score_section import read_alignments, score_vec_rslts_chapter_level, \\\n",
    "build__src_2_tgt_dict, build_tgt_2_src_dict, score_fr_sents"
   ]
  },
  {
   "cell_type": "code",
   "execution_count": 8,
   "id": "e9a82b24-56aa-40c4-a12a-e191e834eff9",
   "metadata": {},
   "outputs": [],
   "source": [
    "# get vecalign results\n",
    "vec_rslts_path = \"/home/craig.car/repos/chiron/align_texts_project/data/lucretius/lucretius_en1893_vecrslts\"\n",
    "vec_rslts = read_alignments(vec_rslts_path)"
   ]
  },
  {
   "cell_type": "code",
   "execution_count": 9,
   "id": "3e07c06f-ae75-485c-a867-e1b091b126cc",
   "metadata": {
    "tags": []
   },
   "outputs": [],
   "source": [
    "lat_dict_path = \"/home/craig.car/repos/chiron/align_texts_project/data/lucretius/lat_sent2book_dict.json\"\n",
    "\n",
    "with open(lat_dict_path) as f:\n",
    "    lat_sent2book_name = json.load(f)\n",
    "\n",
    "en1893_dict_path = \"/home/craig.car/repos/chiron/align_texts_project/data/lucretius/en1893_sent2section_dict.json\"\n",
    "\n",
    "with open(en1893_dict_path) as f:\n",
    "    en1893_sent2section_name = json.load(f)\n",
    "    "
   ]
  },
  {
   "cell_type": "code",
   "execution_count": 57,
   "id": "7db71505-7c39-4ea1-8e72-af20f4582966",
   "metadata": {},
   "outputs": [],
   "source": [
    "# get peritext sections in en1893\n",
    "extraneous_sections = []\n",
    "for item in list(en1893_sent2section_name.values()):\n",
    "    if isinstance(item, str):\n",
    "        extraneous_sections.append(item)\n",
    "    else:\n",
    "        extraneous_sections.extend(item)"
   ]
  },
  {
   "cell_type": "code",
   "execution_count": 58,
   "id": "9d51fe3d-b309-4e75-af55-49102f03ba4d",
   "metadata": {},
   "outputs": [],
   "source": [
    "extraneous_sections = np.unique(np.array(extraneous_sections))"
   ]
  },
  {
   "cell_type": "markdown",
   "id": "c1ed229e-24ea-4c4c-97df-408366659b3a",
   "metadata": {},
   "source": [
    "# Score vecalign results: by prediction"
   ]
  },
  {
   "cell_type": "code",
   "execution_count": 59,
   "id": "279b2ee1-21b3-4c16-b3bc-bd5316e49c17",
   "metadata": {},
   "outputs": [],
   "source": [
    "tp_strict_, tp_lax_, overlaps_, errors_, correct_nulls_ = score_vec_rslts_chapter_level(\n",
    "    vec_rslts, lat_sent2book_name, en1893_sent2section_name, extraneous_sections)"
   ]
  },
  {
   "cell_type": "code",
   "execution_count": 63,
   "id": "74c4fa61-7e90-41c8-bfea-839ce5246cd5",
   "metadata": {},
   "outputs": [
    {
     "name": "stdout",
     "output_type": "stream",
     "text": [
      "8146\n",
      "0\n",
      "[]\n",
      "8146\n"
     ]
    }
   ],
   "source": [
    "print(tp_strict_)\n",
    "print(tp_lax_)\n",
    "print(overlaps_)\n",
    "print(correct_nulls_)"
   ]
  },
  {
   "cell_type": "code",
   "execution_count": 66,
   "id": "58ebccf8-166f-432b-91ac-9bfee634a8f0",
   "metadata": {},
   "outputs": [
    {
     "data": {
      "text/plain": [
       "10534"
      ]
     },
     "execution_count": 66,
     "metadata": {},
     "output_type": "execute_result"
    }
   ],
   "source": [
    "len(vec_rslts)"
   ]
  },
  {
   "cell_type": "markdown",
   "id": "47764793-7fee-4de4-9e60-b6dd3857ea62",
   "metadata": {},
   "source": [
    "# Analyze vecalign results: by French sentences"
   ]
  },
  {
   "cell_type": "code",
   "execution_count": 65,
   "id": "f4dd4751-d014-485f-84be-8ebf3a7779d0",
   "metadata": {},
   "outputs": [],
   "source": [
    "# get dict of tgt sentences' alignments to src sents\n",
    "tgt_sent_2_src_sent_aligns = build_tgt_2_src_dict(vec_rslts)"
   ]
  },
  {
   "cell_type": "code",
   "execution_count": 69,
   "id": "459f5600-a4f4-45a4-b58c-f9116a45bc0e",
   "metadata": {},
   "outputs": [
    {
     "data": {
      "text/plain": [
       "True"
      ]
     },
     "execution_count": 69,
     "metadata": {},
     "output_type": "execute_result"
    }
   ],
   "source": [
    "# test\n",
    "keys = list(tgt_sent_2_src_sent_aligns.keys())\n",
    "keys = sorted(keys)\n",
    "keys == [x for x in range(0, 13966)]"
   ]
  },
  {
   "cell_type": "code",
   "execution_count": 80,
   "id": "9c4bc365-60df-405e-971c-b48867ab5490",
   "metadata": {
    "tags": []
   },
   "outputs": [
    {
     "name": "stdout",
     "output_type": "stream",
     "text": [
      "el aligned sents is {'null'}\n",
      "fr chapter is forewordbook0title\n",
      "el aligned sents is {'null'}\n",
      "fr chapter is forewordbook0title\n",
      "el aligned sents is {'null'}\n",
      "fr chapter is forewordbook0title\n",
      "el aligned sents is {'null'}\n",
      "fr chapter is forewordbook0title\n",
      "el aligned sents is {'null'}\n",
      "fr chapter is forewordbook0title\n",
      "el aligned sents is {'null'}\n",
      "fr chapter is forewordbook0title\n",
      "el aligned sents is {'null'}\n",
      "fr chapter is forewordbook0title\n",
      "el aligned sents is {'null'}\n",
      "fr chapter is forewordbook0title\n",
      "el aligned sents is {'null'}\n",
      "fr chapter is forewordbook0title\n",
      "el aligned sents is {'null'}\n",
      "fr chapter is forewordbook0title\n",
      "el aligned sents is {'null'}\n",
      "fr chapter is forewordbook0title\n",
      "el aligned sents is {'null'}\n",
      "fr chapter is forewordbook0title\n",
      "el aligned sents is {'null'}\n",
      "fr chapter is forewordbook0title\n",
      "el aligned sents is {'null'}\n",
      "fr chapter is forewordbook0title\n",
      "el aligned sents is {'null'}\n",
      "fr chapter is forewordbook0title\n",
      "el aligned sents is {'null'}\n",
      "fr chapter is forewordbook0title\n",
      "el aligned sents is {'null'}\n",
      "fr chapter is forewordbook0title\n",
      "el aligned sents is {'null'}\n",
      "fr chapter is ['forewordbook0title', 'forewordbook0note']\n"
     ]
    },
    {
     "ename": "ValueError",
     "evalue": "shape mismatch: objects cannot be broadcast to a single shape.  Mismatch is between arg 0 with shape (48,) and arg 1 with shape (2,).",
     "output_type": "error",
     "traceback": [
      "\u001b[0;31m---------------------------------------------------------------------------\u001b[0m",
      "\u001b[0;31mValueError\u001b[0m                                Traceback (most recent call last)",
      "Cell \u001b[0;32mIn[80], line 1\u001b[0m\n\u001b[0;32m----> 1\u001b[0m rslts_en1893_sents \u001b[38;5;241m=\u001b[39m \u001b[43mscore_fr_sents\u001b[49m\u001b[43m(\u001b[49m\u001b[43mtgt_sent_2_src_sent_aligns\u001b[49m\u001b[43m,\u001b[49m\u001b[43m \u001b[49m\u001b[43men1893_sent2section_name\u001b[49m\u001b[43m,\u001b[49m\n\u001b[1;32m      2\u001b[0m \u001b[43m                   \u001b[49m\u001b[43mlat_sent2book_name\u001b[49m\u001b[43m,\u001b[49m\u001b[43m \u001b[49m\u001b[43mextraneous_sections\u001b[49m\u001b[43m)\u001b[49m\n",
      "File \u001b[0;32m~/repos/chiron/align_texts_project/code/functions_score_section.py:163\u001b[0m, in \u001b[0;36mscore_fr_sents\u001b[0;34m(fr2el_sent_aligns_dict, fr_sent2section_name_dict, el_sent2section_name_dict, fr_extraneous_chapter_names)\u001b[0m\n\u001b[1;32m    160\u001b[0m fr_sent_chapter \u001b[38;5;241m=\u001b[39m fr_sent2section_name_dict[\u001b[38;5;28mstr\u001b[39m(fr_sent_idx)]\n\u001b[1;32m    161\u001b[0m \u001b[38;5;28mprint\u001b[39m(\u001b[38;5;124mf\u001b[39m\u001b[38;5;124m\"\u001b[39m\u001b[38;5;124mfr chapter is \u001b[39m\u001b[38;5;132;01m{\u001b[39;00mfr_sent_chapter\u001b[38;5;132;01m}\u001b[39;00m\u001b[38;5;124m\"\u001b[39m)\n\u001b[0;32m--> 163\u001b[0m \u001b[38;5;28;01mif\u001b[39;00m \u001b[43mfr_sent_chapter\u001b[49m\u001b[43m \u001b[49m\u001b[38;5;129;43;01min\u001b[39;49;00m\u001b[43m \u001b[49m\u001b[43mfr_extraneous_chapter_names\u001b[49m:\n\u001b[1;32m    164\u001b[0m     \u001b[38;5;66;03m# get num of fr - null alignments\u001b[39;00m\n\u001b[1;32m    165\u001b[0m     extraneous2null_counter \u001b[38;5;241m=\u001b[39m \u001b[38;5;241m0\u001b[39m\n\u001b[1;32m    166\u001b[0m     \u001b[38;5;28;01mfor\u001b[39;00m item \u001b[38;5;129;01min\u001b[39;00m el_aligned_sents:\n",
      "\u001b[0;31mValueError\u001b[0m: shape mismatch: objects cannot be broadcast to a single shape.  Mismatch is between arg 0 with shape (48,) and arg 1 with shape (2,)."
     ]
    }
   ],
   "source": [
    "rslts_en1893_sents = score_fr_sents(tgt_sent_2_src_sent_aligns, en1893_sent2section_name,\n",
    "                   lat_sent2book_name, extraneous_sections)"
   ]
  },
  {
   "cell_type": "code",
   "execution_count": 71,
   "id": "bf227658-03c2-41de-8b33-d823e8f911e7",
   "metadata": {},
   "outputs": [
    {
     "ename": "NameError",
     "evalue": "name 'rslts_en1893_sents' is not defined",
     "output_type": "error",
     "traceback": [
      "\u001b[0;31m---------------------------------------------------------------------------\u001b[0m",
      "\u001b[0;31mNameError\u001b[0m                                 Traceback (most recent call last)",
      "Cell \u001b[0;32mIn[71], line 1\u001b[0m\n\u001b[0;32m----> 1\u001b[0m \u001b[43mrslts_en1893_sents\u001b[49m\n",
      "\u001b[0;31mNameError\u001b[0m: name 'rslts_en1893_sents' is not defined"
     ]
    }
   ],
   "source": [
    "rslts_en1893_sents"
   ]
  },
  {
   "cell_type": "code",
   "execution_count": null,
   "id": "0c99c076-65d6-47fd-90f2-3ff4dba61729",
   "metadata": {},
   "outputs": [],
   "source": []
  }
 ],
 "metadata": {
  "kernelspec": {
   "display_name": "Python 3 (ipykernel)",
   "language": "python",
   "name": "python3"
  },
  "language_info": {
   "codemirror_mode": {
    "name": "ipython",
    "version": 3
   },
   "file_extension": ".py",
   "mimetype": "text/x-python",
   "name": "python",
   "nbconvert_exporter": "python",
   "pygments_lexer": "ipython3",
   "version": "3.10.10"
  }
 },
 "nbformat": 4,
 "nbformat_minor": 5
}
