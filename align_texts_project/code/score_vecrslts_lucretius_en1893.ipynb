{
 "cells": [
  {
   "cell_type": "code",
   "execution_count": 1,
   "id": "e69294a4-0c1d-4b71-a184-8ce8de03d64a",
   "metadata": {},
   "outputs": [],
   "source": [
    "import re\n",
    "import json\n",
    "import stanza\n",
    "import argparse\n",
    "\n",
    "import numpy as np\n",
    "import pandas as pd\n",
    "\n",
    "from itertools import chain\n",
    "from ast import literal_eval\n",
    "from collections import defaultdict\n",
    "\n",
    "from functions_score_section import read_alignments, score_vec_rslts_chapter_level, \\\n",
    "build__src_2_tgt_dict, build_tgt_2_src_dict, score_fr_sents"
   ]
  },
  {
   "cell_type": "code",
   "execution_count": 2,
   "id": "e9a82b24-56aa-40c4-a12a-e191e834eff9",
   "metadata": {},
   "outputs": [],
   "source": [
    "# get vecalign results\n",
    "vec_rslts_path = \"/home/craig.car/repos/chiron/align_texts_project/data/lucretius/lucretius_en1893_vecrsltsNEW\"\n",
    "vec_rslts = read_alignments(vec_rslts_path)"
   ]
  },
  {
   "cell_type": "code",
   "execution_count": 3,
   "id": "3e07c06f-ae75-485c-a867-e1b091b126cc",
   "metadata": {
    "tags": []
   },
   "outputs": [],
   "source": [
    "lat_dict_path = \"/home/craig.car/repos/chiron/align_texts_project/data/lucretius/lat_sent2book_dict.json\"\n",
    "\n",
    "with open(lat_dict_path) as f:\n",
    "    lat_sent2book_name = json.load(f)\n",
    "\n",
    "en1893_dict_path = \"/home/craig.car/repos/chiron/align_texts_project/data/lucretius/en1893_sent2section_dict_NEW.json\"\n",
    "\n",
    "with open(en1893_dict_path) as f:\n",
    "    en1893_sent2section_name = json.load(f)\n",
    "    "
   ]
  },
  {
   "cell_type": "code",
   "execution_count": 4,
   "id": "160e5320-3cdd-49f3-b2e5-cd424f6d3339",
   "metadata": {},
   "outputs": [],
   "source": [
    "en1893_dict_path_jul25 = \"/home/craig.car/repos/chiron/align_texts_project/data/lucretius/en1893_sent2section_dict_jul25_NEW.json\"\n",
    "\n",
    "with open(en1893_dict_path_jul25) as f:\n",
    "    en1893_sent2section_name_jul25 = json.load(f)\n",
    "    "
   ]
  },
  {
   "cell_type": "code",
   "execution_count": 5,
   "id": "acfd63c8-bc90-44c8-ba2e-59b3c7e3f859",
   "metadata": {},
   "outputs": [
    {
     "data": {
      "text/plain": [
       "False"
      ]
     },
     "execution_count": 5,
     "metadata": {},
     "output_type": "execute_result"
    }
   ],
   "source": [
    "en1893_sent2section_name_jul25 == en1893_sent2section_name"
   ]
  },
  {
   "cell_type": "code",
   "execution_count": 6,
   "id": "7db71505-7c39-4ea1-8e72-af20f4582966",
   "metadata": {},
   "outputs": [],
   "source": [
    "# get paratext sections in en1893\n",
    "section_names = []\n",
    "for item in list(en1893_sent2section_name_jul25.values()):\n",
    "    if isinstance(item, str):\n",
    "        section_names.append(item)\n",
    "    else:\n",
    "        section_names.extend(item)"
   ]
  },
  {
   "cell_type": "code",
   "execution_count": 7,
   "id": "9d51fe3d-b309-4e75-af55-49102f03ba4d",
   "metadata": {},
   "outputs": [],
   "source": [
    "section_names = np.unique(np.array(section_names))"
   ]
  },
  {
   "cell_type": "code",
   "execution_count": 8,
   "id": "0c58474d-e27f-4546-b3ef-8b3c2fb77ed2",
   "metadata": {},
   "outputs": [
    {
     "data": {
      "text/plain": [
       "array(['forewordbook0', 'forewordbook0note', 'forewordbook0title',\n",
       "       'index', 'metric_translationbook0title', 'metric_translationbook1',\n",
       "       'metric_translationbook1note', 'metric_translationbook1title',\n",
       "       'metric_translationbook2', 'metric_translationbook2note',\n",
       "       'metric_translationbook2title', 'metric_translationbook3',\n",
       "       'metric_translationbook3note', 'metric_translationbook3title',\n",
       "       'metric_translationbook4', 'metric_translationbook4note',\n",
       "       'metric_translationbook4title', 'metric_translationbook5',\n",
       "       'metric_translationbook5note', 'metric_translationbook5title',\n",
       "       'metric_translationbook6', 'metric_translationbook6note',\n",
       "       'prose_translationbook0title', 'prose_translationbook1',\n",
       "       'prose_translationbook1commentary', 'prose_translationbook1note',\n",
       "       'prose_translationbook1title', 'prose_translationbook2',\n",
       "       'prose_translationbook2commentary', 'prose_translationbook2note',\n",
       "       'prose_translationbook2title', 'prose_translationbook3',\n",
       "       'prose_translationbook3commentary', 'prose_translationbook3note',\n",
       "       'prose_translationbook3title', 'prose_translationbook4',\n",
       "       'prose_translationbook4commentary', 'prose_translationbook4note',\n",
       "       'prose_translationbook4title', 'prose_translationbook5',\n",
       "       'prose_translationbook5commentary', 'prose_translationbook5note',\n",
       "       'prose_translationbook5title', 'prose_translationbook6',\n",
       "       'prose_translationbook6commentary', 'prose_translationbook6note'],\n",
       "      dtype='<U32')"
      ]
     },
     "execution_count": 8,
     "metadata": {},
     "output_type": "execute_result"
    }
   ],
   "source": [
    "section_names"
   ]
  },
  {
   "cell_type": "code",
   "execution_count": 9,
   "id": "99fde721-bea0-43dc-9bb6-d31559a2e9c4",
   "metadata": {
    "tags": []
   },
   "outputs": [
    {
     "data": {
      "text/plain": [
       "['forewordbook0',\n",
       " 'forewordbook0note',\n",
       " 'forewordbook0title',\n",
       " 'index',\n",
       " 'metric_translationbook0title',\n",
       " 'metric_translationbook1note',\n",
       " 'metric_translationbook1title',\n",
       " 'metric_translationbook2note',\n",
       " 'metric_translationbook2title',\n",
       " 'metric_translationbook3note',\n",
       " 'metric_translationbook3title',\n",
       " 'metric_translationbook4note',\n",
       " 'metric_translationbook4title',\n",
       " 'metric_translationbook5note',\n",
       " 'metric_translationbook5title',\n",
       " 'metric_translationbook6note',\n",
       " 'prose_translationbook0title',\n",
       " 'prose_translationbook1commentary',\n",
       " 'prose_translationbook1note',\n",
       " 'prose_translationbook1title',\n",
       " 'prose_translationbook2commentary',\n",
       " 'prose_translationbook2note',\n",
       " 'prose_translationbook2title',\n",
       " 'prose_translationbook3commentary',\n",
       " 'prose_translationbook3note',\n",
       " 'prose_translationbook3title',\n",
       " 'prose_translationbook4commentary',\n",
       " 'prose_translationbook4note',\n",
       " 'prose_translationbook4title',\n",
       " 'prose_translationbook5commentary',\n",
       " 'prose_translationbook5note',\n",
       " 'prose_translationbook5title',\n",
       " 'prose_translationbook6commentary',\n",
       " 'prose_translationbook6note']"
      ]
     },
     "execution_count": 9,
     "metadata": {},
     "output_type": "execute_result"
    }
   ],
   "source": [
    "extraneous_sections = []\n",
    "for item in section_names:\n",
    "    if item == \"forewordbook0\":\n",
    "        extraneous_sections.append(item)\n",
    "    elif item[-1].isdigit():\n",
    "        continue\n",
    "    else:\n",
    "        extraneous_sections.append(item)\n",
    "extraneous_sections"
   ]
  },
  {
   "cell_type": "markdown",
   "id": "c1ed229e-24ea-4c4c-97df-408366659b3a",
   "metadata": {},
   "source": [
    "# Score vecalign results: by prediction"
   ]
  },
  {
   "cell_type": "code",
   "execution_count": 19,
   "id": "f39da0b2-42aa-49f7-a728-560c2c132c4c",
   "metadata": {
    "tags": []
   },
   "outputs": [],
   "source": [
    "def score_vec_rslts_chapter_level(vr_rslts_lst, el_sent2section_dict,\n",
    "                                 fr_sent2section_dict, fr_extra_section_names):\n",
    "\n",
    "    tp_strict = 0 # +1 per alignment if there's an exact match\n",
    "    tp_lax = 0 # +1 per alignment if there's any overlap\n",
    "    overlaps = []\n",
    "    errors = []\n",
    "    correct_nulls = 0\n",
    "    correct_text2text = {}\n",
    "\n",
    "    for idx_align, alignment in enumerate(vr_rslts_lst):\n",
    "    # for idx_align, alignment in enumerate(vr_rslts_lst[518:523]):\n",
    "        # skip alignments null on both sides\n",
    "        if alignment == ([],[]):\n",
    "            continue\n",
    "        else:\n",
    "            src_sents = alignment[0]\n",
    "            tgt_sents = alignment[1]\n",
    "            # get set of chapters from src, then from tgt\n",
    "            chapters_from_src = set()\n",
    "            chapters_from_tgt = set()\n",
    "            # if alignment is null on src side, then chapters_from_src remains empty set\n",
    "            if src_sents != []:\n",
    "                for src_id in src_sents:\n",
    "                    if isinstance(el_sent2section_dict[str(src_id)], list):\n",
    "                        for section_name in el_sent2section_dict[str(src_id)]:\n",
    "                            chapters_from_src.add(section_name)\n",
    "                    else:\n",
    "                        chapters_from_src.add(el_sent2section_dict[str(src_id)])\n",
    "            # if alignment is null on tgt side, then chapters_from_tgt remains empty set\n",
    "            if tgt_sents != []:\n",
    "                for tgt_id in tgt_sents:\n",
    "                    if isinstance(fr_sent2section_dict[str(tgt_id)], list):\n",
    "                        for section_name_ in fr_sent2section_dict[str(tgt_id)]:\n",
    "                            chapters_from_tgt.add(section_name_)\n",
    "                    else:\n",
    "                        chapters_from_tgt.add(fr_sent2section_dict[str(tgt_id)])\n",
    "\n",
    "            # compare the sets: if text, then last 5 characters in format \"book[1-6]\"\n",
    "            src_chaps_compare = set()\n",
    "            for src_chap in chapters_from_src:\n",
    "                src_chaps_compare.add(src_chap[-5:])\n",
    "            tgt_chaps_compare = set()\n",
    "            for tgt_chap in chapters_from_tgt:\n",
    "                tgt_chaps_compare.add(tgt_chap[-5:])\n",
    "            # print(f\"{src_chaps_compare} : {tgt_chaps_compare}\")\n",
    "            \n",
    "            if src_chaps_compare == tgt_chaps_compare:\n",
    "                tp_strict += 1\n",
    "                # for correct text2text aligns, en is from prose or metric translation?\n",
    "                correct_text2text[str(alignment)] = chapters_from_tgt\n",
    "            \n",
    "            # account for correct null : fr extraneous sections \n",
    "            elif chapters_from_src == set():\n",
    "                # print(f\"have null on src\")\n",
    "                tgt_counter = 0\n",
    "                for chapter in chapters_from_tgt:\n",
    "                    if chapter in fr_extra_section_names:\n",
    "                        tgt_counter += 1\n",
    "                # tp_strict if all tgt chapters are extraneous\n",
    "                if tgt_counter == len(chapters_from_tgt):\n",
    "                    # tp_strict += 1\n",
    "                    correct_nulls += 1\n",
    "                elif tgt_counter == 0:\n",
    "                    # print(\"HAVE ERROR\")\n",
    "                    # save errors\n",
    "                    error_dict = {}\n",
    "                    error_dict[\"alignment\"] = alignment\n",
    "                    error_dict[\"alignmnent_idx\"] = idx_align\n",
    "                    error_dict[\"src_chapters\"] = chapters_from_src\n",
    "                    error_dict[\"tgt_chapters\"] = chapters_from_tgt\n",
    "                    errors.append(error_dict)\n",
    "                else: # null to multiple tgt including peritext and text\n",
    "                    tp_lax += 1\n",
    "                    overlaps.append(alignment)\n",
    "                    # print(src_chaps_compare)\n",
    "                    # print(tgt_chaps_compare)\n",
    "\n",
    "            else:\n",
    "                overlap = src_chaps_compare.intersection(tgt_chaps_compare)\n",
    "                # print(f\"len overlap {len(overlap)}\")\n",
    "                if len(overlap) != 0:\n",
    "                    tp_lax += 1\n",
    "                    overlaps.append(alignment)\n",
    "                    # print(src_chaps_compare)\n",
    "                    # print(tgt_chaps_compare)\n",
    "                else:\n",
    "                    # print(\"HAVE ERROR%%%%\")\n",
    "                    # save errors\n",
    "                    error_dict = {}\n",
    "                    error_dict[\"alignment\"] = alignment\n",
    "                    error_dict[\"alignmnent_idx\"] = idx_align\n",
    "                    error_dict[\"src_chapters\"] = chapters_from_src\n",
    "                    error_dict[\"tgt_chapters\"] = chapters_from_tgt\n",
    "                    errors.append(error_dict)\n",
    "        \n",
    "    return tp_strict, tp_lax, overlaps, errors, correct_nulls, correct_text2text\n"
   ]
  },
  {
   "cell_type": "code",
   "execution_count": 20,
   "id": "d808d903-47d8-453c-9412-d63b457d5009",
   "metadata": {},
   "outputs": [
    {
     "data": {
      "text/plain": [
       "([], [13980])"
      ]
     },
     "execution_count": 20,
     "metadata": {},
     "output_type": "execute_result"
    }
   ],
   "source": [
    "vec_rslts[10423]"
   ]
  },
  {
   "cell_type": "code",
   "execution_count": 21,
   "id": "6d7c9bf8-a9ba-4f42-9694-346751b40632",
   "metadata": {},
   "outputs": [],
   "source": [
    "test = {}\n",
    "test[0] = [1,3]"
   ]
  },
  {
   "cell_type": "code",
   "execution_count": 22,
   "id": "7914a350-86c0-4cc9-9bc3-7eb392dd24b9",
   "metadata": {},
   "outputs": [
    {
     "data": {
      "text/plain": [
       "2428"
      ]
     },
     "execution_count": 22,
     "metadata": {},
     "output_type": "execute_result"
    }
   ],
   "source": [
    "len(lat_sent2book_name)"
   ]
  },
  {
   "cell_type": "code",
   "execution_count": 23,
   "id": "ef1ec129-3a1c-42f1-955a-08ee76bb9d20",
   "metadata": {},
   "outputs": [
    {
     "data": {
      "text/plain": [
       "14648"
      ]
     },
     "execution_count": 23,
     "metadata": {},
     "output_type": "execute_result"
    }
   ],
   "source": [
    "len(en1893_sent2section_name_jul25)"
   ]
  },
  {
   "cell_type": "code",
   "execution_count": 24,
   "id": "a3d3c767-f183-42a6-8c81-c91befa44c5b",
   "metadata": {},
   "outputs": [
    {
     "data": {
      "text/plain": [
       "11073"
      ]
     },
     "execution_count": 24,
     "metadata": {},
     "output_type": "execute_result"
    }
   ],
   "source": [
    "len(vec_rslts)"
   ]
  },
  {
   "cell_type": "code",
   "execution_count": 25,
   "id": "279b2ee1-21b3-4c16-b3bc-bd5316e49c17",
   "metadata": {
    "tags": []
   },
   "outputs": [],
   "source": [
    "tp_strict_, tp_lax_, overlaps_, errors_, correct_nulls_, correct_text2text_ = score_vec_rslts_chapter_level(\n",
    "    vec_rslts, lat_sent2book_name, en1893_sent2section_name_jul25, extraneous_sections)\n"
   ]
  },
  {
   "cell_type": "code",
   "execution_count": 26,
   "id": "6c0378ba-0ce2-47be-ae6e-d3c1f974de14",
   "metadata": {},
   "outputs": [
    {
     "data": {
      "text/plain": [
       "11073"
      ]
     },
     "execution_count": 26,
     "metadata": {},
     "output_type": "execute_result"
    }
   ],
   "source": [
    "tp_strict_ + tp_lax_ + len(errors_) + correct_nulls_"
   ]
  },
  {
   "cell_type": "code",
   "execution_count": 27,
   "id": "4fced17e-7099-414d-b3e3-d17525c1ef17",
   "metadata": {},
   "outputs": [],
   "source": [
    "# with en1893_sent2section_name - results:\n",
    "# 1707\n",
    "# 451\n",
    "# 4867\n",
    "# 4048"
   ]
  },
  {
   "cell_type": "code",
   "execution_count": 28,
   "id": "74c4fa61-7e90-41c8-bfea-839ce5246cd5",
   "metadata": {},
   "outputs": [
    {
     "name": "stdout",
     "output_type": "stream",
     "text": [
      "1707\n",
      "451\n",
      "4934\n",
      "3981\n"
     ]
    }
   ],
   "source": [
    "print(tp_strict_)\n",
    "print(tp_lax_)\n",
    "# print(len(overlaps_))\n",
    "print(len(errors_))\n",
    "print(correct_nulls_)\n",
    "# print(len(correct_text2text_))"
   ]
  },
  {
   "cell_type": "code",
   "execution_count": 29,
   "id": "bf722f9e-05ff-460b-9394-caa2a24a80f7",
   "metadata": {},
   "outputs": [
    {
     "data": {
      "text/plain": [
       "0.5136819290165267"
      ]
     },
     "execution_count": 29,
     "metadata": {},
     "output_type": "execute_result"
    }
   ],
   "source": [
    "# old results: 0.5197326831030434\n",
    "(tp_strict_ + correct_nulls_) / len(vec_rslts)"
   ]
  },
  {
   "cell_type": "code",
   "execution_count": 30,
   "id": "a91c9369-2ba2-4eec-8643-be8337a3d6bc",
   "metadata": {},
   "outputs": [
    {
     "data": {
      "text/plain": [
       "0.1541587645624492"
      ]
     },
     "execution_count": 30,
     "metadata": {},
     "output_type": "execute_result"
    }
   ],
   "source": [
    "# old results: 0.1541587645624492\n",
    "tp_strict_ / len(vec_rslts)"
   ]
  },
  {
   "cell_type": "code",
   "execution_count": 31,
   "id": "09de1d14-dba6-4298-a807-353a764a0814",
   "metadata": {},
   "outputs": [
    {
     "data": {
      "text/plain": [
       "0.04072970288088142"
      ]
     },
     "execution_count": 31,
     "metadata": {},
     "output_type": "execute_result"
    }
   ],
   "source": [
    "# old: 0.04072970288088142\n",
    "tp_lax_ / len(vec_rslts)"
   ]
  },
  {
   "cell_type": "code",
   "execution_count": 32,
   "id": "79daa47d-b58f-44d2-9ed6-e05f581a8524",
   "metadata": {},
   "outputs": [
    {
     "data": {
      "text/plain": [
       "0.19488846744333063"
      ]
     },
     "execution_count": 32,
     "metadata": {},
     "output_type": "execute_result"
    }
   ],
   "source": [
    "(tp_strict_ + tp_lax_) / len(vec_rslts)"
   ]
  },
  {
   "cell_type": "code",
   "execution_count": 33,
   "id": "a5864c1f-b7bd-436f-90b4-93be3f6a74be",
   "metadata": {},
   "outputs": [
    {
     "data": {
      "text/plain": [
       "0.4455883681025919"
      ]
     },
     "execution_count": 33,
     "metadata": {},
     "output_type": "execute_result"
    }
   ],
   "source": [
    "len(errors_) / len(vec_rslts)"
   ]
  },
  {
   "cell_type": "code",
   "execution_count": 34,
   "id": "2a1f851b-50e0-4c94-9f72-6fd6af41ff34",
   "metadata": {},
   "outputs": [
    {
     "data": {
      "text/plain": [
       "0.3595231644540775"
      ]
     },
     "execution_count": 34,
     "metadata": {},
     "output_type": "execute_result"
    }
   ],
   "source": [
    "correct_nulls_ / len(vec_rslts)"
   ]
  },
  {
   "cell_type": "code",
   "execution_count": 35,
   "id": "2dc68846-7c4d-4987-8740-70a5255e642b",
   "metadata": {},
   "outputs": [
    {
     "data": {
      "text/plain": [
       "1.0"
      ]
     },
     "execution_count": 35,
     "metadata": {},
     "output_type": "execute_result"
    }
   ],
   "source": [
    "0.3595231644540775 + 0.4455883681025919 + 0.04072970288088142 + 0.1541587645624492"
   ]
  },
  {
   "cell_type": "code",
   "execution_count": 36,
   "id": "a274dc91-95f6-48a5-b7d8-618ae150d72c",
   "metadata": {
    "tags": []
   },
   "outputs": [
    {
     "data": {
      "text/plain": [
       "0"
      ]
     },
     "execution_count": 36,
     "metadata": {},
     "output_type": "execute_result"
    }
   ],
   "source": [
    "# check if any en sents overlap sections\n",
    "num_ensents_manychaps = 0\n",
    "for values in en1893_sent2section_name_jul25.values():\n",
    "    if isinstance(values, list):\n",
    "        if len(values) > 1:\n",
    "            num_ensents_manychaps += 1\n",
    "num_ensents_manychaps"
   ]
  },
  {
   "cell_type": "code",
   "execution_count": 39,
   "id": "87c8ca71-b3cf-4f85-b1f4-325b1ee646ae",
   "metadata": {
    "tags": []
   },
   "outputs": [],
   "source": [
    "# correct_text2text_"
   ]
  },
  {
   "cell_type": "code",
   "execution_count": 40,
   "id": "39173860-9c50-4bb5-9308-f76d6bb8a70f",
   "metadata": {},
   "outputs": [],
   "source": [
    "# was latin text aligned to any metric translation sentences?\n",
    "correct_lat2entext = set()\n",
    "for tgt_set in list(correct_text2text_.values()):\n",
    "    for item in tgt_set:\n",
    "        correct_lat2entext.add(item)"
   ]
  },
  {
   "cell_type": "code",
   "execution_count": 41,
   "id": "48bb3ffc-39f0-4fcb-b72f-1c75740ac403",
   "metadata": {},
   "outputs": [
    {
     "data": {
      "text/plain": [
       "{'metric_translationbook6',\n",
       " 'prose_translationbook1',\n",
       " 'prose_translationbook2',\n",
       " 'prose_translationbook3',\n",
       " 'prose_translationbook4',\n",
       " 'prose_translationbook5',\n",
       " 'prose_translationbook6'}"
      ]
     },
     "execution_count": 41,
     "metadata": {},
     "output_type": "execute_result"
    }
   ],
   "source": [
    "correct_lat2entext"
   ]
  },
  {
   "cell_type": "code",
   "execution_count": 42,
   "id": "4af74119-d912-4bcc-af3e-389f95895ceb",
   "metadata": {},
   "outputs": [],
   "source": [
    "correct_metric2lat = []\n",
    "for keys, values in correct_text2text_.items():\n",
    "    for section_set in values:\n",
    "        if section_set.startswith('metric_translation'):\n",
    "            correct_metric2lat.append((keys, values))"
   ]
  },
  {
   "cell_type": "code",
   "execution_count": 43,
   "id": "d56dc1b7-0537-4f57-bbe5-499595ca7479",
   "metadata": {},
   "outputs": [
    {
     "data": {
      "text/plain": [
       "[('([2423], [13348, 13349, 13350, 13351, 13352, 13353, 13354])',\n",
       "  {'metric_translationbook6'}),\n",
       " ('([2424], [13375, 13376, 13377, 13378, 13379, 13380, 13381])',\n",
       "  {'metric_translationbook6'})]"
      ]
     },
     "execution_count": 43,
     "metadata": {},
     "output_type": "execute_result"
    }
   ],
   "source": [
    "correct_metric2lat"
   ]
  },
  {
   "cell_type": "markdown",
   "id": "47764793-7fee-4de4-9e60-b6dd3857ea62",
   "metadata": {},
   "source": [
    "# Analyze vecalign results: by English sentences"
   ]
  },
  {
   "cell_type": "code",
   "execution_count": 44,
   "id": "f4dd4751-d014-485f-84be-8ebf3a7779d0",
   "metadata": {},
   "outputs": [],
   "source": [
    "# get dict of tgt sentences' alignments to src sents\n",
    "en1893_sent2lat_sent_aligns = build_tgt_2_src_dict(vec_rslts)"
   ]
  },
  {
   "cell_type": "code",
   "execution_count": 45,
   "id": "459f5600-a4f4-45a4-b58c-f9116a45bc0e",
   "metadata": {},
   "outputs": [
    {
     "data": {
      "text/plain": [
       "False"
      ]
     },
     "execution_count": 45,
     "metadata": {},
     "output_type": "execute_result"
    }
   ],
   "source": [
    "# test\n",
    "keys = list(en1893_sent2lat_sent_aligns.keys())\n",
    "keys = sorted(keys)\n",
    "keys == [x for x in range(0, 13966)]"
   ]
  },
  {
   "cell_type": "code",
   "execution_count": 46,
   "id": "76f3add6-22d4-4cc6-8ea9-dd85908af473",
   "metadata": {
    "tags": []
   },
   "outputs": [],
   "source": [
    "# def score_tgt_sents(tgt2src_sent_aligns_dict, tgt_sent2section_name_dict,\n",
    "#                    src_sent2section_name_dict, extraneous_chapter_names):\n",
    "#     extraneous2null_tpstrict = 0\n",
    "#     extraneous2null_tplax = 0 # at least one overlap\n",
    "#     extraneous2text = 0 # no overlap\n",
    "\n",
    "#     text2text_tpstrict = 0\n",
    "#     text2text_tplax = 0\n",
    "#     text2text_incorrect = 0\n",
    "#     text2text_incorrect_lst = []\n",
    "\n",
    "#     text2null_incorrect = 0\n",
    "#     text2null_lst = []\n",
    "\n",
    "#     for tgt_sent_idx in tgt2src_sent_aligns_dict.keys():\n",
    "#         # get src sentences aligned to it (returns a set)\n",
    "#         src_aligned_sents = tgt2src_sent_aligns_dict[tgt_sent_idx]\n",
    "#         # print(f\"src aligned sents is {src_aligned_sents}\")\n",
    "        \n",
    "#         # TODO: necessary? to skip null-null alignments (\"null\" will not appear as key in dict)\n",
    "#         if str(tgt_sent_idx) in tgt_sent2section_name_dict.keys():\n",
    "#             # get tgt sent chapter (keys are str)\n",
    "#             tgt_sent_chapter = tgt_sent2section_name_dict[str(tgt_sent_idx)]\n",
    "#             # print(f\"tgt chapter is {tgt_sent_chapter}\")\n",
    "#             # convert to list in case of multiple chapters per sent\n",
    "#             if isinstance(tgt_sent_chapter, str):\n",
    "#                 tgt_sent_chapter = [tgt_sent_chapter]\n",
    "#                 # print(tgt_sent_chapter)\n",
    "            \n",
    "#             tgt_chapter_counter = 0\n",
    "#             for tgt_chapter in tgt_sent_chapter:\n",
    "#                 if tgt_chapter in extraneous_chapter_names:\n",
    "#                     # print(tgt_sent_idx)\n",
    "#                     # print(tgt_chapter)\n",
    "#                     # get num of tgt to null alignments\n",
    "#                     extraneous2null_counter = 0\n",
    "#                     for item in src_aligned_sents:\n",
    "#                         if item == \"null\":\n",
    "#                             extraneous2null_counter += 1\n",
    "#                     # compare to number of src sents in alignmnent\n",
    "#                     if extraneous2null_counter == len(src_aligned_sents):\n",
    "#                         # then all src aligned sents are null\n",
    "#                         extraneous2null_tpstrict += 1\n",
    "#                     elif extraneous2null_counter > 0:\n",
    "#                         # then at least one src sent is null (also captures tpstrict)\n",
    "#                         extraneous2null_tplax += 1\n",
    "#                     else:\n",
    "#                         # no src sents are null\n",
    "#                         extraneous2text += 1\n",
    "                \n",
    "#                 #### TODO: ADAPT TO ACCOUNT FOR DIFFERENT FORMATTING (\"BOOK 2\" for LATIN) ####\n",
    "#                 else: # compare src and tgt chapters\n",
    "#                     src_aligned_chapters = set()\n",
    "#                     src_text2text_correct_counter = 0\n",
    "#                     src_text2text_incorrect_counter = 0\n",
    "\n",
    "#                     for item in src_aligned_sents:\n",
    "#                         if item == \"null\":\n",
    "#                             text2null_incorrect += 1\n",
    "#                             text2null_lst.append(tgt_sent_idx)\n",
    "#                         else:\n",
    "#                             # get chapters of src sent (keys are str)\n",
    "#                             if isinstance(src_sent2section_name_dict[str(item)], list):\n",
    "#                                 for section_name in src_sent2section_name_dict[str(item)]:\n",
    "#                                     src_aligned_chapters.add(section_name)\n",
    "#                             else:\n",
    "#                                 src_aligned_chapters.add(src_sent2section_name_dict[str(item)])\n",
    "\n",
    "#                     # print(f\"src chapters are {src_aligned_chapters}\")\n",
    "#                     #### TODO: IS THIS WRONG? ############\n",
    "#                     tgt_chaps_compare = tgt_chapter[-5:]\n",
    "#                     for item in src_aligned_chapters:\n",
    "#                         if tgt_chaps_compare == item:\n",
    "#                             src_text2text_correct_counter += 1\n",
    "#                         else:\n",
    "#                             src_text2text_incorrect_counter += 1\n",
    "\n",
    "#                     if src_text2text_correct_counter == len(src_aligned_sents):\n",
    "#                         text2text_tpstrict += 1\n",
    "#                     elif src_text2text_correct_counter > 0:\n",
    "#                         text2text_tplax += 1\n",
    "#                     else:\n",
    "#                         text2text_incorrect += 1\n",
    "#                         text2text_incorrect_lst.append(tgt_sent_idx)\n",
    "\n",
    "#                 tgt_chapter_counter += 1\n",
    "#             if tgt_chapter_counter > 1:\n",
    "#                 print(tgt_sent_idx)\n",
    "\n",
    "#     # remove text2null from text2text_incorrect_lst\n",
    "#     text2null_lst = set(text2null_lst)\n",
    "#     text2text_incorrect_lst = set(text2text_incorrect_lst)\n",
    "#     text2text_incorrect_lst -= text2null_lst\n",
    "#     # update num of text2text_incorrect\n",
    "#     text2text_incorrect -= text2null_incorrect\n",
    "    \n",
    "#     results = [extraneous2null_tpstrict, extraneous2null_tplax, extraneous2text,\n",
    "#                text2text_tpstrict, text2text_tplax, \n",
    "#                text2text_incorrect, text2text_incorrect_lst,\n",
    "#                text2null_incorrect, text2null_lst]\n",
    "    \n",
    "#     return results"
   ]
  },
  {
   "cell_type": "code",
   "execution_count": 47,
   "id": "e7f8b3e1-68b0-4ac6-81a8-9dba700bdd4a",
   "metadata": {},
   "outputs": [],
   "source": [
    "def score_tgt_sents(tgt2src_sent_aligns_dict, tgt_sent2section_name_dict,\n",
    "                   src_sent2section_name_dict, extraneous_chapter_names):\n",
    "    extraneous2null_tpstrict = 0\n",
    "    extraneous2null_tpstrict_lst = []\n",
    "    extraneous2null_tplax = 0 # at least one overlap\n",
    "    extraneous2text = 0 # no overlap\n",
    "    extraneous2text_lst = []\n",
    "\n",
    "    text2text_tpstrict = 0\n",
    "    text2text_tpstrict_lst = []\n",
    "    \n",
    "    text2text_tplax = 0\n",
    "    text2text_tplax_lst = []\n",
    "    \n",
    "    text2text_incorrect = 0\n",
    "    text2text_incorrect_lst = []\n",
    "\n",
    "    text2null_incorrect = 0\n",
    "    text2null_lst = []\n",
    "    \n",
    "    for tgt_sent_idx in range(len(tgt_sent2section_name_dict)):        \n",
    "        # get src sentences aligned to it (returns a set)\n",
    "        src_aligned_sents = tgt2src_sent_aligns_dict[tgt_sent_idx]\n",
    "        # print(f\"src aligned sents is {src_aligned_sents}\")\n",
    "        \n",
    "        # TODO: necessary? to skip null-null alignments (\"null\" will not appear as key in dict)\n",
    "        if str(tgt_sent_idx) in tgt_sent2section_name_dict.keys():\n",
    "            # get tgt sent chapter (keys are str)\n",
    "            tgt_sent_chapter = tgt_sent2section_name_dict[str(tgt_sent_idx)]\n",
    "            # print(f\"tgt chapter is {tgt_sent_chapter}\")\n",
    "            \n",
    "            if tgt_sent_chapter in extraneous_chapter_names:\n",
    "            # tgt_chapter_counter = 0\n",
    "            # for tgt_chapter in tgt_sent_chapter:\n",
    "                # if tgt_chapter in extraneous_chapter_names:\n",
    "                    # print(tgt_sent_idx)\n",
    "                    # print(tgt_chapter)\n",
    "                    # get num of tgt to null alignments\n",
    "                extraneous2null_counter = 0\n",
    "                for item in src_aligned_sents:\n",
    "                    if item == \"null\":\n",
    "                        extraneous2null_counter += 1\n",
    "                        # print(\"have extra2null\")\n",
    "                # compare to number of src sents in alignmnent\n",
    "                if extraneous2null_counter == len(src_aligned_sents):\n",
    "                    # then all src aligned sents are null\n",
    "                    extraneous2null_tpstrict += 1\n",
    "                    extraneous2null_tpstrict_lst.append((src_aligned_sents,tgt_sent_chapter))\n",
    "                elif extraneous2null_counter == 0:\n",
    "                    # no src sents are null\n",
    "                    extraneous2text += 1\n",
    "                    extraneous2text_lst.append((src_aligned_sents,tgt_sent_chapter))\n",
    "                    # print(\"have extra2text\")\n",
    "                else:\n",
    "                    # then at least one src sent is null\n",
    "                    extraneous2null_tplax += 1\n",
    "\n",
    "            else: # compare src and tgt chapters\n",
    "                src_aligned_chapters = set()\n",
    "                src_text2text_correct_counter = 0\n",
    "                src_text2text_incorrect_counter = 0\n",
    "\n",
    "                for item in src_aligned_sents:\n",
    "                    if item == \"null\":\n",
    "                        text2null_incorrect += 1\n",
    "                        text2null_lst.append(tgt_sent_idx)\n",
    "                    else:\n",
    "                        # get chapters of src sent (keys are str)\n",
    "                        if isinstance(src_sent2section_name_dict[str(item)], list):\n",
    "                            for section_name in src_sent2section_name_dict[str(item)]:\n",
    "                                src_aligned_chapters.add(section_name)\n",
    "                        else:\n",
    "                            src_aligned_chapters.add(src_sent2section_name_dict[str(item)])\n",
    "\n",
    "                # print(f\"src chapters are {src_aligned_chapters}\")\n",
    "                tgt_chaps_compare = tgt_sent_chapter[-5:]\n",
    "                for item in src_aligned_chapters:\n",
    "                    if tgt_chaps_compare == item:\n",
    "                        src_text2text_correct_counter += 1\n",
    "                    else:\n",
    "                        src_text2text_incorrect_counter += 1\n",
    "\n",
    "                if src_text2text_correct_counter == len(src_aligned_sents):\n",
    "                    text2text_tpstrict += 1\n",
    "                    text2text_tpstrict_lst.append((src_aligned_sents,tgt_sent_chapter))\n",
    "                elif src_text2text_correct_counter > 0:\n",
    "                    text2text_tplax += 1\n",
    "                    text2text_tplax_lst.append((src_aligned_sents,tgt_sent_chapter)) \n",
    "                else:\n",
    "                    text2text_incorrect += 1\n",
    "                    text2text_incorrect_lst.append(tgt_sent_idx)\n",
    "\n",
    "    # remove text2null from text2text_incorrect_lst\n",
    "    text2null_lst = set(text2null_lst)\n",
    "    text2text_incorrect_lst = set(text2text_incorrect_lst)\n",
    "    text2text_incorrect_lst -= text2null_lst\n",
    "    # update num of text2text_incorrect\n",
    "    text2text_incorrect -= text2null_incorrect\n",
    "    \n",
    "    results = [extraneous2null_tpstrict, #0\n",
    "               extraneous2null_tplax, #1\n",
    "               extraneous2text, #2\n",
    "               text2text_tpstrict, #3 \n",
    "               text2text_tplax, #4\n",
    "               text2text_incorrect, #5 \n",
    "               text2text_incorrect_lst, #6\n",
    "               text2null_incorrect, #7\n",
    "               text2null_lst,\n",
    "               extraneous2null_tpstrict_lst,\n",
    "               extraneous2text_lst,\n",
    "               text2text_tpstrict_lst,\n",
    "               text2text_tplax_lst]\n",
    "    \n",
    "    return results"
   ]
  },
  {
   "cell_type": "code",
   "execution_count": 48,
   "id": "00b2cd3d-d306-4350-986e-595d24b65bf3",
   "metadata": {},
   "outputs": [
    {
     "data": {
      "text/plain": [
       "11073"
      ]
     },
     "execution_count": 48,
     "metadata": {},
     "output_type": "execute_result"
    }
   ],
   "source": [
    "len(vec_rslts)"
   ]
  },
  {
   "cell_type": "code",
   "execution_count": 49,
   "id": "cf9f6813-bfa4-4d95-8be5-d024740040b2",
   "metadata": {},
   "outputs": [
    {
     "data": {
      "text/plain": [
       "14648"
      ]
     },
     "execution_count": 49,
     "metadata": {},
     "output_type": "execute_result"
    }
   ],
   "source": [
    "len(en1893_sent2section_name)"
   ]
  },
  {
   "cell_type": "code",
   "execution_count": 50,
   "id": "ed249c21-11ad-4792-a54a-97011699f474",
   "metadata": {},
   "outputs": [
    {
     "data": {
      "text/plain": [
       "14648"
      ]
     },
     "execution_count": 50,
     "metadata": {},
     "output_type": "execute_result"
    }
   ],
   "source": [
    "len(en1893_sent2lat_sent_aligns)"
   ]
  },
  {
   "cell_type": "code",
   "execution_count": 51,
   "id": "cb4dd259-b27a-40dd-8f85-4d7be4f7f73f",
   "metadata": {},
   "outputs": [
    {
     "data": {
      "text/plain": [
       "'prose_translationbook6note'"
      ]
     },
     "execution_count": 51,
     "metadata": {},
     "output_type": "execute_result"
    }
   ],
   "source": [
    "en1893_sent2section_name[\"8412\"]"
   ]
  },
  {
   "cell_type": "code",
   "execution_count": 52,
   "id": "fa7d6f60-f036-40e2-b1c9-211d7f1741c4",
   "metadata": {},
   "outputs": [
    {
     "data": {
      "text/plain": [
       "{'null'}"
      ]
     },
     "execution_count": 52,
     "metadata": {},
     "output_type": "execute_result"
    }
   ],
   "source": [
    "en1893_sent2lat_sent_aligns[14647]"
   ]
  },
  {
   "cell_type": "code",
   "execution_count": 53,
   "id": "351e7b2d-7416-4fab-bc4e-df34450dfed8",
   "metadata": {},
   "outputs": [
    {
     "data": {
      "text/plain": [
       "'book6'"
      ]
     },
     "execution_count": 53,
     "metadata": {},
     "output_type": "execute_result"
    }
   ],
   "source": [
    "lat_sent2book_name[\"2395\"]"
   ]
  },
  {
   "cell_type": "code",
   "execution_count": 54,
   "id": "9c4bc365-60df-405e-971c-b48867ab5490",
   "metadata": {
    "tags": []
   },
   "outputs": [],
   "source": [
    "rslts_en1893_sents = score_tgt_sents(en1893_sent2lat_sent_aligns, en1893_sent2section_name_jul25,\n",
    "                   lat_sent2book_name, extraneous_sections)"
   ]
  },
  {
   "cell_type": "code",
   "execution_count": 55,
   "id": "cf6c1788-feff-40c9-a9d6-b72d1e1b306c",
   "metadata": {},
   "outputs": [],
   "source": [
    "# old results:\n",
    "# 4048\n",
    "# 0\n",
    "# 2146\n",
    "# 3770\n",
    "# 42\n",
    "# 3\n",
    "# 4639"
   ]
  },
  {
   "cell_type": "code",
   "execution_count": 56,
   "id": "573cf045-9d5a-4652-9ca4-a755d2d8c78a",
   "metadata": {},
   "outputs": [
    {
     "name": "stdout",
     "output_type": "stream",
     "text": [
      "3981\n",
      "0\n",
      "2146\n",
      "3770\n",
      "42\n",
      "3\n",
      "4706\n"
     ]
    }
   ],
   "source": [
    "print(rslts_en1893_sents[0])\n",
    "print(rslts_en1893_sents[1])\n",
    "print(rslts_en1893_sents[2])\n",
    "print(rslts_en1893_sents[3])\n",
    "print(rslts_en1893_sents[4])\n",
    "print(rslts_en1893_sents[5])\n",
    "print(rslts_en1893_sents[7])"
   ]
  },
  {
   "cell_type": "code",
   "execution_count": 57,
   "id": "f819ec71-efe9-41a0-b40c-f7b860f33406",
   "metadata": {},
   "outputs": [
    {
     "data": {
      "text/plain": [
       "14648"
      ]
     },
     "execution_count": 57,
     "metadata": {},
     "output_type": "execute_result"
    }
   ],
   "source": [
    "sum(rslts_en1893_sents[0:6])+rslts_en1893_sents[7]"
   ]
  },
  {
   "cell_type": "code",
   "execution_count": 58,
   "id": "4bab7166-51bc-448c-a733-24bc48bf4255",
   "metadata": {},
   "outputs": [
    {
     "name": "stdout",
     "output_type": "stream",
     "text": [
      "{8760, 8763, 8764}\n"
     ]
    }
   ],
   "source": [
    "print(rslts_en1893_sents[6])"
   ]
  },
  {
   "cell_type": "markdown",
   "id": "67acabb3-1a5d-46b9-bf0d-9bc48d45d3ec",
   "metadata": {
    "tags": []
   },
   "source": [
    "## Get number of paratext and text sentences"
   ]
  },
  {
   "cell_type": "code",
   "execution_count": 59,
   "id": "25efce98-3b88-41e4-9105-e570bd85107d",
   "metadata": {},
   "outputs": [
    {
     "name": "stdout",
     "output_type": "stream",
     "text": [
      "3902\n",
      "4619\n",
      "8521\n",
      "===\n",
      "4247\n",
      "214\n",
      "1205\n",
      "461\n",
      "6127\n",
      "===\n",
      "True\n",
      "True\n",
      "4376\n"
     ]
    }
   ],
   "source": [
    "metric_sents = ['metric_translationbook1',\n",
    "                'metric_translationbook2',\n",
    "                'metric_translationbook3',\n",
    "                'metric_translationbook4',\n",
    "                'metric_translationbook5',\n",
    "                'metric_translationbook6']\n",
    "\n",
    "metric_paratext = ['metric_translationbook0title',\n",
    "                   'metric_translationbook1note',\n",
    "                   'metric_translationbook1title',\n",
    "                   'metric_translationbook2note',\n",
    "                   'metric_translationbook2title',\n",
    "                   'metric_translationbook3note',\n",
    "                   'metric_translationbook3title',\n",
    "                   'metric_translationbook4note',\n",
    "                   'metric_translationbook4title',\n",
    "                   'metric_translationbook5note',\n",
    "                   'metric_translationbook5title',\n",
    "                   'metric_translationbook6note',\n",
    "                   'metric_translationbook6title'\n",
    "                  ]\n",
    "\n",
    "prose_sents = ['prose_translationbook1',\n",
    "               'prose_translationbook2',\n",
    "               'prose_translationbook3',\n",
    "               'prose_translationbook4',\n",
    "               'prose_translationbook5',\n",
    "               'prose_translationbook6']\n",
    "\n",
    "prose_paratext = ['prose_translationbook0title',\n",
    "                  'prose_translationbook1commentary',\n",
    "                  'prose_translationbook1note',\n",
    "                  'prose_translationbook1title',\n",
    "                  'prose_translationbook2commentary',\n",
    "                  'prose_translationbook2note',\n",
    "                  'prose_translationbook2title',\n",
    "                  'prose_translationbook3commentary',\n",
    "                  'prose_translationbook3note',\n",
    "                  'prose_translationbook3title',\n",
    "                  'prose_translationbook4commentary',\n",
    "                  'prose_translationbook4note',\n",
    "                  'prose_translationbook4title',\n",
    "                  'prose_translationbook5commentary',\n",
    "                  'prose_translationbook5note',\n",
    "                  'prose_translationbook5title',\n",
    "                  'prose_translationbook6commentary',\n",
    "                  'prose_translationbook6note',\n",
    "                  'prose_translationbook6title'\n",
    "                 ]\n",
    "\n",
    "prose_sent_counter = 0\n",
    "metric_sent_counter = 0\n",
    "prose_paratext_counter = 0\n",
    "metric_paratext_counter = 0\n",
    "num_paratext_sents = 0\n",
    "num_notes = 0\n",
    "num_index = 0\n",
    "num_foreword = 0\n",
    "for vals in en1893_sent2section_name_jul25.values():    \n",
    "    if vals in metric_sents:\n",
    "        metric_sent_counter += 1\n",
    "    elif vals in prose_sents:\n",
    "        prose_sent_counter += 1\n",
    "    elif vals in metric_paratext:\n",
    "        metric_paratext_counter += 1\n",
    "    elif vals in prose_paratext:\n",
    "        prose_paratext_counter += 1\n",
    "\n",
    "for vals in en1893_sent2section_name_jul25.values():        \n",
    "    if vals in extraneous_sections:\n",
    "        num_paratext_sents += 1\n",
    "\n",
    "num_en1893_text_sents = prose_sent_counter + metric_sent_counter\n",
    "\n",
    "num_footnote_sents = 0\n",
    "for vals in en1893_sent2section_name_jul25.values():    \n",
    "    if vals.endswith(\"note\"):\n",
    "        num_footnote_sents += 1\n",
    "\n",
    "for vals in en1893_sent2section_name_jul25.values():      \n",
    "    if vals == \"index\":\n",
    "        num_index += 1\n",
    "    elif vals.startswith(\"foreword\"):\n",
    "        num_foreword += 1\n",
    "\n",
    "\n",
    "print(prose_sent_counter)\n",
    "print(metric_sent_counter)\n",
    "print(num_en1893_text_sents)\n",
    "print(\"===\")\n",
    "print(prose_paratext_counter)\n",
    "print(metric_paratext_counter)\n",
    "print(num_index)\n",
    "print(num_foreword)\n",
    "print(num_paratext_sents)\n",
    "print(\"===\")\n",
    "print((num_en1893_text_sents + num_paratext_sents) == len(en1893_sent2section_name_jul25))\n",
    "print((num_en1893_text_sents + num_paratext_sents) == len(en1893_sent2lat_sent_aligns))\n",
    "print(num_footnote_sents)"
   ]
  },
  {
   "cell_type": "code",
   "execution_count": 60,
   "id": "2e6fcf8a-1c2c-4c21-aba0-6d7fc448368c",
   "metadata": {},
   "outputs": [],
   "source": [
    "# extraneous2null_tpstrict, #0\n",
    "#                extraneous2null_tplax, #1\n",
    "#                extraneous2text, #2\n",
    "#                text2text_tpstrict, #3 \n",
    "#                text2text_tplax, #4\n",
    "#                text2text_incorrect, #5 \n",
    "#                text2text_incorrect_lst, #6\n",
    "#                text2null_incorrect, #7\n",
    "               # text2null_lst"
   ]
  },
  {
   "cell_type": "code",
   "execution_count": 61,
   "id": "5d3935ee-738f-465f-a9b1-177a9ffdd5e6",
   "metadata": {},
   "outputs": [
    {
     "data": {
      "text/plain": [
       "6127"
      ]
     },
     "execution_count": 61,
     "metadata": {},
     "output_type": "execute_result"
    }
   ],
   "source": [
    "num_paratext_sents"
   ]
  },
  {
   "cell_type": "code",
   "execution_count": 62,
   "id": "82fdbf1d-a930-4370-8d15-9db0023ea360",
   "metadata": {},
   "outputs": [
    {
     "data": {
      "text/plain": [
       "8521"
      ]
     },
     "execution_count": 62,
     "metadata": {},
     "output_type": "execute_result"
    }
   ],
   "source": [
    "num_en1893_text_sents"
   ]
  },
  {
   "cell_type": "code",
   "execution_count": 63,
   "id": "6d56a7f8-35d2-445b-8ae9-5d28f28e3654",
   "metadata": {},
   "outputs": [
    {
     "data": {
      "text/plain": [
       "0.6497470213807737"
      ]
     },
     "execution_count": 63,
     "metadata": {},
     "output_type": "execute_result"
    }
   ],
   "source": [
    "# extraneous2null_tpstrict to num paratext sents\n",
    "rslts_en1893_sents[0]/num_paratext_sents"
   ]
  },
  {
   "cell_type": "code",
   "execution_count": 64,
   "id": "1c244c6f-2fdd-479b-8664-88efb7c1e5d1",
   "metadata": {},
   "outputs": [
    {
     "data": {
      "text/plain": [
       "0.0"
      ]
     },
     "execution_count": 64,
     "metadata": {},
     "output_type": "execute_result"
    }
   ],
   "source": [
    "# extraneous2null_tplax to num paratext sents\n",
    "rslts_en1893_sents[1]/num_paratext_sents"
   ]
  },
  {
   "cell_type": "code",
   "execution_count": 65,
   "id": "ea7b3b19-89c1-4e44-a232-d07c16296c11",
   "metadata": {},
   "outputs": [
    {
     "data": {
      "text/plain": [
       "0.3502529786192264"
      ]
     },
     "execution_count": 65,
     "metadata": {},
     "output_type": "execute_result"
    }
   ],
   "source": [
    "# extraneous2text to num paratext sents\n",
    "rslts_en1893_sents[2]/num_paratext_sents"
   ]
  },
  {
   "cell_type": "code",
   "execution_count": 66,
   "id": "7eee73dc-06eb-48c8-a846-f8cc56cb278e",
   "metadata": {},
   "outputs": [
    {
     "data": {
      "text/plain": [
       "0.25184837460391973"
      ]
     },
     "execution_count": 66,
     "metadata": {},
     "output_type": "execute_result"
    }
   ],
   "source": [
    "# extraneous2text to num text sents\n",
    "rslts_en1893_sents[2]/num_en1893_text_sents"
   ]
  },
  {
   "cell_type": "code",
   "execution_count": 67,
   "id": "a6b0c221-391e-401d-8cbd-4f1ced1dc8d1",
   "metadata": {},
   "outputs": [
    {
     "data": {
      "text/plain": [
       "0.4424363337636428"
      ]
     },
     "execution_count": 67,
     "metadata": {},
     "output_type": "execute_result"
    }
   ],
   "source": [
    "# text2text_tpstrict to num text sents\n",
    "rslts_en1893_sents[3]/num_en1893_text_sents"
   ]
  },
  {
   "cell_type": "code",
   "execution_count": 68,
   "id": "a32ee599-2606-4e8a-beb3-41eb252062ff",
   "metadata": {},
   "outputs": [
    {
     "data": {
      "text/plain": [
       "0.00492899894378594"
      ]
     },
     "execution_count": 68,
     "metadata": {},
     "output_type": "execute_result"
    }
   ],
   "source": [
    "# text2text_tplax to num text sents\n",
    "rslts_en1893_sents[4]/num_en1893_text_sents"
   ]
  },
  {
   "cell_type": "code",
   "execution_count": 69,
   "id": "81477f7c-5e62-49e4-b2bb-36290dedec2e",
   "metadata": {},
   "outputs": [
    {
     "data": {
      "text/plain": [
       "0.0003520713531275672"
      ]
     },
     "execution_count": 69,
     "metadata": {},
     "output_type": "execute_result"
    }
   ],
   "source": [
    "# text2text_incorrect to num text sents\n",
    "rslts_en1893_sents[5]/num_en1893_text_sents"
   ]
  },
  {
   "cell_type": "code",
   "execution_count": 70,
   "id": "c4877937-44f4-4fbc-b4ea-0db99c0055a2",
   "metadata": {},
   "outputs": [
    {
     "data": {
      "text/plain": [
       "0.5522825959394437"
      ]
     },
     "execution_count": 70,
     "metadata": {},
     "output_type": "execute_result"
    }
   ],
   "source": [
    "# text2null_incorrect to num text sents\n",
    "rslts_en1893_sents[7]/num_en1893_text_sents"
   ]
  },
  {
   "cell_type": "code",
   "execution_count": 71,
   "id": "9d8f2942-031e-4efe-a9c3-f86c0818036b",
   "metadata": {},
   "outputs": [
    {
     "data": {
      "text/plain": [
       "11073"
      ]
     },
     "execution_count": 71,
     "metadata": {},
     "output_type": "execute_result"
    }
   ],
   "source": [
    "len(vec_rslts)"
   ]
  },
  {
   "cell_type": "markdown",
   "id": "390fb908-6a94-4c41-b2f7-6d7480d4cdfa",
   "metadata": {},
   "source": [
    "# 2nd eval by English sents: without 2nd translation"
   ]
  },
  {
   "cell_type": "code",
   "execution_count": 72,
   "id": "4ad93757-ba57-4524-9ecc-d1e658ef5fff",
   "metadata": {},
   "outputs": [],
   "source": [
    "# rslts_en1893_sents\n",
    "               #  extraneous2null_tpstrict, #0\n",
    "               # extraneous2null_tplax, #1\n",
    "               # extraneous2text, #2\n",
    "               # text2text_tpstrict, #3 \n",
    "               # text2text_tplax, #4\n",
    "               # text2text_incorrect, #5 \n",
    "               # text2text_incorrect_lst, #6\n",
    "               # text2null_incorrect, #7\n",
    "               # text2null_lst, #8\n",
    "               # extraneous2null_tpstrict_lst, #9\n",
    "               # extraneous2text_lst, #10\n",
    "               # text2text_tpstrict_lst, #11\n",
    "               # text2text_tplax_lst #12"
   ]
  },
  {
   "cell_type": "code",
   "execution_count": 73,
   "id": "f08f580b-c67e-40db-a977-fafde449b097",
   "metadata": {
    "tags": []
   },
   "outputs": [
    {
     "name": "stdout",
     "output_type": "stream",
     "text": [
      "3902\n",
      "4619\n",
      "8521\n",
      "6127\n"
     ]
    }
   ],
   "source": [
    "print(prose_sent_counter)\n",
    "print(metric_sent_counter)\n",
    "print(num_en1893_text_sents)\n",
    "print(num_paratext_sents)"
   ]
  },
  {
   "cell_type": "code",
   "execution_count": 74,
   "id": "b78f8575-8778-445c-b67c-450c694ca604",
   "metadata": {},
   "outputs": [
    {
     "data": {
      "text/plain": [
       "8521"
      ]
     },
     "execution_count": 74,
     "metadata": {},
     "output_type": "execute_result"
    }
   ],
   "source": [
    "prose_sent_counter + metric_sent_counter"
   ]
  },
  {
   "cell_type": "markdown",
   "id": "14a3ae47-cbd8-4f2d-a9ea-061082548e9b",
   "metadata": {},
   "source": [
    "## Get verse translation sentences in each metric"
   ]
  },
  {
   "cell_type": "code",
   "execution_count": 75,
   "id": "762bc550-798a-4d67-bb44-5c2214199f33",
   "metadata": {
    "tags": []
   },
   "outputs": [
    {
     "name": "stdout",
     "output_type": "stream",
     "text": [
      "metric_translationbook1\n",
      "lat section is book6\n",
      "metric_translationbook1\n",
      "lat section is book6\n",
      "metric_translationbook1\n",
      "lat section is book6\n"
     ]
    },
    {
     "data": {
      "text/plain": [
       "3"
      ]
     },
     "execution_count": 75,
     "metadata": {},
     "output_type": "execute_result"
    }
   ],
   "source": [
    "# text2text_incorrect_lst: tgt_sent_idx's\n",
    "# These are all from book 1 of the metric translation aligned to Latin book 6\n",
    "text2text_incorrect_counter = 0\n",
    "for tgt_sent in rslts_en1893_sents[6]:\n",
    "    tgt_text_section = en1893_sent2section_name_jul25[str(tgt_sent)]\n",
    "    if tgt_text_section.startswith(\"metric_translation\"):\n",
    "        text2text_incorrect_counter += 1\n",
    "        print(tgt_text_section)\n",
    "        # get book of aligned Latin sents\n",
    "        lat_sent = en1893_sent2lat_sent_aligns[tgt_sent]\n",
    "        for sent in lat_sent:\n",
    "            print(f\"lat section is {lat_sent2book_name[str(sent)]}\")\n",
    "text2text_incorrect_counter"
   ]
  },
  {
   "cell_type": "code",
   "execution_count": 76,
   "id": "cc336ee9-7716-410d-be91-7ea7eab059a6",
   "metadata": {
    "tags": []
   },
   "outputs": [
    {
     "name": "stdout",
     "output_type": "stream",
     "text": [
      "4602\n",
      "104\n"
     ]
    }
   ],
   "source": [
    "# text2null_lst: tgt_sent_idx's\n",
    "text2null_metric = 0\n",
    "text2null_prose = 0\n",
    "for tgt_sent in rslts_en1893_sents[8]:\n",
    "    tgt_text_section = en1893_sent2section_name_jul25[str(tgt_sent)]\n",
    "    if tgt_text_section.startswith(\"metric_translation\"):\n",
    "        text2null_metric += 1\n",
    "    elif tgt_text_section.startswith(\"prose_translation\"):\n",
    "        text2null_prose += 1\n",
    "print(text2null_metric)\n",
    "print(text2null_prose)"
   ]
  },
  {
   "cell_type": "code",
   "execution_count": 77,
   "id": "38fc7ef9-db6a-469f-a1b7-21aae05ea5dd",
   "metadata": {},
   "outputs": [
    {
     "data": {
      "text/plain": [
       "4706"
      ]
     },
     "execution_count": 77,
     "metadata": {},
     "output_type": "execute_result"
    }
   ],
   "source": [
    "len(rslts_en1893_sents[8])"
   ]
  },
  {
   "cell_type": "code",
   "execution_count": 78,
   "id": "ee2236b9-ad20-49f6-bb19-cfdc69a20c15",
   "metadata": {},
   "outputs": [
    {
     "data": {
      "text/plain": [
       "3981"
      ]
     },
     "execution_count": 78,
     "metadata": {},
     "output_type": "execute_result"
    }
   ],
   "source": [
    "rslts_en1893_sents[0]"
   ]
  },
  {
   "cell_type": "code",
   "execution_count": 79,
   "id": "367f5b89-aa4b-4ae2-a0b8-c29b3170154d",
   "metadata": {
    "tags": []
   },
   "outputs": [
    {
     "name": "stdout",
     "output_type": "stream",
     "text": [
      "212\n",
      "2124\n",
      "1184\n",
      "461\n"
     ]
    }
   ],
   "source": [
    "# extraneous2null_tpstrict_lst, #9 (src_sents, tgt_sent)\n",
    "# these will be paratext sents within the metric translation, correctly aligned to null\n",
    "extraneous2null_tpstrict_metric = 0\n",
    "extraneous2null_tpstrict_prose = 0\n",
    "extraneous2null_tpstrict_index = 0\n",
    "extraneous2null_tpstrict_foreword = 0\n",
    "for src_tgt_tuple in rslts_en1893_sents[9]:\n",
    "    tgt_section = src_tgt_tuple[1]\n",
    "    if tgt_section.startswith(\"metric_translation\"):\n",
    "        extraneous2null_tpstrict_metric += 1\n",
    "    elif tgt_section.startswith(\"prose_translation\"):\n",
    "        extraneous2null_tpstrict_prose += 1\n",
    "    elif tgt_section.startswith(\"foreword\"):\n",
    "        extraneous2null_tpstrict_foreword += 1\n",
    "    else:\n",
    "        extraneous2null_tpstrict_index += 1\n",
    "print(extraneous2null_tpstrict_metric)\n",
    "print(extraneous2null_tpstrict_prose)\n",
    "print(extraneous2null_tpstrict_index)\n",
    "print(extraneous2null_tpstrict_foreword)"
   ]
  },
  {
   "cell_type": "code",
   "execution_count": 80,
   "id": "ea991214-e071-4779-a548-2665f95c3fbd",
   "metadata": {},
   "outputs": [
    {
     "name": "stdout",
     "output_type": "stream",
     "text": [
      "2\n",
      "2123\n",
      "21\n",
      "0\n"
     ]
    }
   ],
   "source": [
    "# extraneous2text_lst, #10 (src_sents, tgt_sent)\n",
    "extraneous2text_counter_metric = 0\n",
    "extraneous2text_counter_prose = 0\n",
    "extraneous2text_counter_index = 0\n",
    "extraneous2text_counter_foreword = 0\n",
    "\n",
    "for src_tgt_tuple in rslts_en1893_sents[10]:\n",
    "    tgt_section = src_tgt_tuple[1]\n",
    "    if tgt_section.startswith(\"metric_translation\"):\n",
    "        extraneous2text_counter_metric += 1\n",
    "    elif tgt_section.startswith(\"prose_translation\"):\n",
    "        extraneous2text_counter_prose += 1\n",
    "    elif tgt_section == \"index\":\n",
    "        extraneous2text_counter_index += 1\n",
    "    elif tgt_section.startswith(\"foreword\"):\n",
    "        extraneous2text_counter_foreword += 1\n",
    "print(extraneous2text_counter_metric)\n",
    "print(extraneous2text_counter_prose)\n",
    "print(extraneous2text_counter_index)\n",
    "print(extraneous2text_counter_foreword)"
   ]
  },
  {
   "cell_type": "code",
   "execution_count": 81,
   "id": "db845960-c90b-492f-8a59-0ea8b39ecfba",
   "metadata": {},
   "outputs": [
    {
     "name": "stdout",
     "output_type": "stream",
     "text": [
      "lat section is book6\n",
      "metric_translationbook6\n",
      "lat section is book6\n",
      "metric_translationbook6\n",
      "lat section is book6\n",
      "metric_translationbook6\n",
      "lat section is book6\n",
      "metric_translationbook6\n",
      "lat section is book6\n",
      "metric_translationbook6\n",
      "lat section is book6\n",
      "metric_translationbook6\n",
      "lat section is book6\n",
      "metric_translationbook6\n",
      "lat section is book6\n",
      "metric_translationbook6\n",
      "lat section is book6\n",
      "metric_translationbook6\n",
      "lat section is book6\n",
      "metric_translationbook6\n",
      "lat section is book6\n",
      "metric_translationbook6\n",
      "lat section is book6\n",
      "metric_translationbook6\n",
      "lat section is book6\n",
      "metric_translationbook6\n",
      "lat section is book6\n",
      "metric_translationbook6\n"
     ]
    },
    {
     "data": {
      "text/plain": [
       "14"
      ]
     },
     "execution_count": 81,
     "metadata": {},
     "output_type": "execute_result"
    }
   ],
   "source": [
    "# text2text_tpstrict_lst, #11\n",
    "# These are metric translation text sentences aligned to Latin sents from the same Latin book\n",
    "# They are all from book 6 of the metric translation\n",
    "text2text_tpstrict_counter = 0\n",
    "for src_tgt_tuple in rslts_en1893_sents[11]:\n",
    "    tgt_section = src_tgt_tuple[1]\n",
    "    if tgt_section.startswith(\"metric_translation\"):\n",
    "        text2text_tpstrict_counter += 1\n",
    "        # get book of aligned Latin sents\n",
    "        for idx in src_tgt_tuple[0]: # idx is in set\n",
    "            lat_sent = lat_sent2book_name[str(idx)]\n",
    "            print(f\"lat section is {lat_sent}\")\n",
    "        print(src_tgt_tuple[1])\n",
    "text2text_tpstrict_counter"
   ]
  },
  {
   "cell_type": "code",
   "execution_count": 82,
   "id": "acb61268-ad5f-4efa-b46b-a24f825e061e",
   "metadata": {},
   "outputs": [
    {
     "data": {
      "text/plain": [
       "0"
      ]
     },
     "execution_count": 82,
     "metadata": {},
     "output_type": "execute_result"
    }
   ],
   "source": [
    "# text2text_tplax_lst #12\n",
    "text2text_tplax_counter = 0\n",
    "for src_tgt_tuple in rslts_en1893_sents[12]:\n",
    "    tgt_section = src_tgt_tuple[1]\n",
    "    if tgt_section.startswith(\"metric_translation\"):\n",
    "        text2text_tplax_counter += 1\n",
    "text2text_tplax_counter"
   ]
  },
  {
   "cell_type": "markdown",
   "id": "b7aba2ab-c023-4390-b622-ca063fa60fe8",
   "metadata": {},
   "source": [
    "## Redo eval after backing out sents related to 2nd translation"
   ]
  },
  {
   "cell_type": "code",
   "execution_count": 83,
   "id": "48e789cd-4ac9-4bc8-825b-ddd3d076d43a",
   "metadata": {},
   "outputs": [],
   "source": [
    "# rslts_en1893_sents\n",
    "               #  extraneous2null_tpstrict, #0\n",
    "               # extraneous2null_tplax, #1\n",
    "               # extraneous2text, #2\n",
    "               # text2text_tpstrict, #3 \n",
    "               # text2text_tplax, #4\n",
    "               # text2text_incorrect, #5 \n",
    "               # text2text_incorrect_lst, #6\n",
    "               # text2null_incorrect, #7\n",
    "               # text2null_lst, #8\n",
    "               # extraneous2null_tpstrict_lst, #9\n",
    "               # extraneous2text_lst, #10\n",
    "               # text2text_tpstrict_lst, #11\n",
    "               # text2text_tplax_lst #12"
   ]
  },
  {
   "cell_type": "code",
   "execution_count": 84,
   "id": "b5aa6c82-301b-47cc-b442-00d2e8088a52",
   "metadata": {},
   "outputs": [
    {
     "data": {
      "text/plain": [
       "0.6374090985963132"
      ]
     },
     "execution_count": 84,
     "metadata": {},
     "output_type": "execute_result"
    }
   ],
   "source": [
    "# extraneous2null_tpstrict to num paratext sents\n",
    "(rslts_en1893_sents[0] - extraneous2null_tpstrict_metric) / (num_paratext_sents - metric_paratext_counter)"
   ]
  },
  {
   "cell_type": "code",
   "execution_count": 85,
   "id": "984f197c-bdaa-49ad-975f-23267a999ed3",
   "metadata": {},
   "outputs": [
    {
     "data": {
      "text/plain": [
       "0.36259090140368677"
      ]
     },
     "execution_count": 85,
     "metadata": {},
     "output_type": "execute_result"
    }
   ],
   "source": [
    "# extraneous2text to num paratext sents\n",
    "(rslts_en1893_sents[2] - extraneous2text_counter_metric) / (num_paratext_sents - metric_paratext_counter)"
   ]
  },
  {
   "cell_type": "code",
   "execution_count": 86,
   "id": "ff3e6eae-3079-4e18-83b7-e7dd8ec7a81c",
   "metadata": {},
   "outputs": [
    {
     "data": {
      "text/plain": [
       "0.9625832906201948"
      ]
     },
     "execution_count": 86,
     "metadata": {},
     "output_type": "execute_result"
    }
   ],
   "source": [
    "# text2text_tpstrict to num text sents\n",
    "(rslts_en1893_sents[3] - text2text_tpstrict_counter) / prose_sent_counter"
   ]
  },
  {
   "cell_type": "code",
   "execution_count": 87,
   "id": "9e85eddf-eba8-48dc-b008-d751ef8fb742",
   "metadata": {},
   "outputs": [
    {
     "data": {
      "text/plain": [
       "0.010763710917478216"
      ]
     },
     "execution_count": 87,
     "metadata": {},
     "output_type": "execute_result"
    }
   ],
   "source": [
    "# text2text_tplax to num text sents\n",
    "(rslts_en1893_sents[4] - text2text_tplax_counter) / prose_sent_counter"
   ]
  },
  {
   "cell_type": "code",
   "execution_count": 88,
   "id": "476526b6-2a51-45a8-9808-fb7712ae5e76",
   "metadata": {},
   "outputs": [
    {
     "data": {
      "text/plain": [
       "0.0"
      ]
     },
     "execution_count": 88,
     "metadata": {},
     "output_type": "execute_result"
    }
   ],
   "source": [
    "# text2text_incorrect to num text sents\n",
    "(rslts_en1893_sents[5] - text2text_incorrect_counter) / prose_sent_counter"
   ]
  },
  {
   "cell_type": "code",
   "execution_count": 89,
   "id": "134f6578-0baa-4006-a90e-2712c4a6c125",
   "metadata": {},
   "outputs": [
    {
     "data": {
      "text/plain": [
       "0.02665299846232701"
      ]
     },
     "execution_count": 89,
     "metadata": {},
     "output_type": "execute_result"
    }
   ],
   "source": [
    "# text2null_incorrect to num text sents\n",
    "(rslts_en1893_sents[7] - text2null_metric) / prose_sent_counter"
   ]
  },
  {
   "cell_type": "code",
   "execution_count": 90,
   "id": "46422d38-5b66-412f-897c-0793d5084e11",
   "metadata": {},
   "outputs": [
    {
     "data": {
      "text/plain": [
       "0.9999999999999999"
      ]
     },
     "execution_count": 90,
     "metadata": {},
     "output_type": "execute_result"
    }
   ],
   "source": [
    "0.0350609756097561 + 0.9542682926829268 + 0.010670731707317074"
   ]
  },
  {
   "cell_type": "code",
   "execution_count": 91,
   "id": "60f1be7d-dd94-45fa-b35a-ddb588f48afc",
   "metadata": {},
   "outputs": [
    {
     "name": "stdout",
     "output_type": "stream",
     "text": [
      "3902\n",
      "4619\n",
      "8521\n",
      "===\n",
      "4247\n",
      "214\n",
      "1205\n",
      "461\n",
      "6127\n",
      "===\n",
      "True\n",
      "True\n",
      "4376\n"
     ]
    }
   ],
   "source": [
    "# vals to back out of numerator and denominator\n",
    "print(prose_sent_counter)\n",
    "print(metric_sent_counter)\n",
    "print(num_en1893_text_sents)\n",
    "print(\"===\")\n",
    "print(prose_paratext_counter)\n",
    "print(metric_paratext_counter)\n",
    "print(num_index)\n",
    "print(num_foreword)\n",
    "print(num_paratext_sents)\n",
    "print(\"===\")\n",
    "print((num_en1893_text_sents + num_paratext_sents) == len(en1893_sent2section_name_jul25))\n",
    "print((num_en1893_text_sents + num_paratext_sents) == len(en1893_sent2lat_sent_aligns))\n",
    "print(num_footnote_sents)"
   ]
  },
  {
   "cell_type": "code",
   "execution_count": 92,
   "id": "2a2f1c23-c13a-42fa-a9b1-e176121c0709",
   "metadata": {},
   "outputs": [
    {
     "data": {
      "text/plain": [
       "2146"
      ]
     },
     "execution_count": 92,
     "metadata": {},
     "output_type": "execute_result"
    }
   ],
   "source": [
    "rslts_en1893_sents[2]"
   ]
  },
  {
   "cell_type": "code",
   "execution_count": 93,
   "id": "ce1778eb-43e2-490a-9d8d-c5924db1c6f4",
   "metadata": {},
   "outputs": [
    {
     "data": {
      "text/plain": [
       "'prose_translationbook0title'"
      ]
     },
     "execution_count": 93,
     "metadata": {},
     "output_type": "execute_result"
    }
   ],
   "source": [
    "en1893_sent2section_name_jul25[\"461\"]"
   ]
  },
  {
   "cell_type": "code",
   "execution_count": 94,
   "id": "d3151af0-6afe-43ea-a0a6-ded714460ba9",
   "metadata": {},
   "outputs": [
    {
     "data": {
      "text/plain": [
       "5980"
      ]
     },
     "execution_count": 94,
     "metadata": {},
     "output_type": "execute_result"
    }
   ],
   "source": [
    "6194-metric_paratext_counter"
   ]
  },
  {
   "cell_type": "markdown",
   "id": "a233dedd-7d5a-4b45-88dc-14c880e3f5f7",
   "metadata": {},
   "source": [
    "# Score Text only experiment"
   ]
  },
  {
   "cell_type": "code",
   "execution_count": 95,
   "id": "8246ea46-5724-45d7-bdd5-76a5d6fe85c3",
   "metadata": {},
   "outputs": [],
   "source": [
    "textonly_dict_path = \"/home/craig.car/repos/chiron/align_texts_project/data/lucretius/en1893_sent2section_dict_textonly.json\"\n",
    "\n",
    "with open(textonly_dict_path) as f:\n",
    "    en1893_sent2section_name_textonly = json.load(f)\n"
   ]
  },
  {
   "cell_type": "code",
   "execution_count": 96,
   "id": "11b8f086-532f-4fea-b25b-6c72563c8cee",
   "metadata": {},
   "outputs": [],
   "source": [
    "vecrslts_textonly_path = \"/home/craig.car/repos/chiron/align_texts_project/data/lucretius/lucretius_en1893_vecrslts_textonly\"\n",
    "vecrslts_textonly = read_alignments(vecrslts_textonly_path)"
   ]
  },
  {
   "cell_type": "markdown",
   "id": "0395d51e-aece-4a31-8901-a8ba2880a8ba",
   "metadata": {},
   "source": [
    "## Score by prediction"
   ]
  },
  {
   "cell_type": "code",
   "execution_count": 98,
   "id": "5180579c-a371-46bb-84ac-c7d0f2ace9bf",
   "metadata": {},
   "outputs": [],
   "source": [
    "def score_textonly_book_level(vr_rslts_lst, src_sent2section_dict,\n",
    "                                 tgt_sent2section_dict):\n",
    "\n",
    "    tp_strict = 0 # +1 per alignment if there's an exact match\n",
    "    tp_lax = 0 # +1 per alignment if there's any overlap\n",
    "    overlaps = []\n",
    "    errors = []\n",
    "    correct_text2text = {}\n",
    "    text2null = 0\n",
    "\n",
    "    for idx_align, alignment in enumerate(vr_rslts_lst):\n",
    "    # for idx_align, alignment in enumerate(vr_rslts_lst[518:523]):\n",
    "        # skip alignments null on both sides\n",
    "        if alignment == ([],[]):\n",
    "            continue\n",
    "        else:\n",
    "            src_sents = alignment[0]\n",
    "            tgt_sents = alignment[1]\n",
    "            # get set of chapters from src, then from tgt\n",
    "            chapters_from_src = set()\n",
    "            chapters_from_tgt = set()\n",
    "            # if alignment is null on src side, then chapters_from_src remains empty set\n",
    "            if src_sents != []:\n",
    "                for src_id in src_sents:\n",
    "                    if isinstance(src_sent2section_dict[str(src_id)], list):\n",
    "                        for section_name in src_sent2section_dict[str(src_id)]:\n",
    "                            chapters_from_src.add(section_name)\n",
    "                    else:\n",
    "                        chapters_from_src.add(src_sent2section_dict[str(src_id)])\n",
    "            # if alignment is null on tgt side, then chapters_from_tgt remains empty set\n",
    "            if tgt_sents != []:\n",
    "                for tgt_id in tgt_sents:\n",
    "                    if isinstance(tgt_sent2section_dict[str(tgt_id)], list):\n",
    "                        for section_name_ in tgt_sent2section_dict[str(tgt_id)]:\n",
    "                            chapters_from_tgt.add(section_name_)\n",
    "                    else:\n",
    "                        chapters_from_tgt.add(tgt_sent2section_dict[str(tgt_id)])\n",
    "\n",
    "            # compare the sets: if text, then last 5 characters in format \"book[1-6]\"\n",
    "            src_chaps_compare = set()\n",
    "            for src_chap in chapters_from_src:\n",
    "                src_chaps_compare.add(src_chap[-5:])\n",
    "            tgt_chaps_compare = set()\n",
    "            for tgt_chap in chapters_from_tgt:\n",
    "                tgt_chaps_compare.add(tgt_chap[-5:])\n",
    "            # print(f\"{src_chaps_compare} : {tgt_chaps_compare}\")\n",
    "            \n",
    "            if src_chaps_compare == tgt_chaps_compare:\n",
    "                tp_strict += 1\n",
    "                # for correct text2text aligns, en is from prose or metric translation?\n",
    "                correct_text2text[str(alignment)] = chapters_from_tgt\n",
    "            \n",
    "            elif chapters_from_src == set():\n",
    "                text2null += 1\n",
    "                # print(alignment)\n",
    "\n",
    "            else:\n",
    "                overlap = src_chaps_compare.intersection(tgt_chaps_compare)\n",
    "                # print(f\"len overlap {len(overlap)}\")\n",
    "                if len(overlap) != 0:\n",
    "                    tp_lax += 1\n",
    "                    overlaps.append(alignment)\n",
    "                    # print(src_chaps_compare)\n",
    "                    # print(tgt_chaps_compare)\n",
    "                else:\n",
    "                    # print(\"HAVE ERROR%%%%\")\n",
    "                    # print(f\"len overlap {len(overlap)}\")\n",
    "                    # save errors\n",
    "                    error_dict = {}\n",
    "                    error_dict[\"alignment\"] = alignment\n",
    "                    error_dict[\"alignmnent_idx\"] = idx_align\n",
    "                    error_dict[\"src_chapters\"] = chapters_from_src\n",
    "                    error_dict[\"tgt_chapters\"] = chapters_from_tgt\n",
    "                    errors.append(error_dict)\n",
    "        \n",
    "    return [tp_strict, tp_lax, overlaps, errors, correct_text2text, text2null]\n"
   ]
  },
  {
   "cell_type": "code",
   "execution_count": 99,
   "id": "ecae20e9-f043-4806-bf05-e1bb0c0b267f",
   "metadata": {
    "tags": []
   },
   "outputs": [],
   "source": [
    "rslts_txtonly_byprediction = score_textonly_book_level(vecrslts_textonly,\n",
    "                                                       lat_sent2book_name,\n",
    "                                                       en1893_sent2section_name_textonly)"
   ]
  },
  {
   "cell_type": "code",
   "execution_count": 100,
   "id": "d4869e19-9548-4c64-86e0-c058536261c4",
   "metadata": {},
   "outputs": [],
   "source": [
    "# old results (before adding text2null):\n",
    "# 2367\n",
    "# 0\n",
    "# 4509"
   ]
  },
  {
   "cell_type": "code",
   "execution_count": 101,
   "id": "166f48be-bb08-459d-990c-45330d31f828",
   "metadata": {},
   "outputs": [
    {
     "name": "stdout",
     "output_type": "stream",
     "text": [
      "2367\n",
      "0\n",
      "1\n",
      "4508\n"
     ]
    }
   ],
   "source": [
    "print(rslts_txtonly_byprediction[0]) # tpstrict\n",
    "print(rslts_txtonly_byprediction[1]) # tplax\n",
    "print(len(rslts_txtonly_byprediction[3]))\n",
    "print(rslts_txtonly_byprediction[5]) # text2null"
   ]
  },
  {
   "cell_type": "code",
   "execution_count": 102,
   "id": "66b4d39d-54ca-488a-a097-035def96f6c0",
   "metadata": {},
   "outputs": [
    {
     "data": {
      "text/plain": [
       "True"
      ]
     },
     "execution_count": 102,
     "metadata": {},
     "output_type": "execute_result"
    }
   ],
   "source": [
    "2367+4509 == len(vecrslts_textonly)"
   ]
  },
  {
   "cell_type": "code",
   "execution_count": 103,
   "id": "2bff0cdd-637d-4e20-9953-0567a918504f",
   "metadata": {},
   "outputs": [
    {
     "data": {
      "text/plain": [
       "0.34424083769633507"
      ]
     },
     "execution_count": 103,
     "metadata": {},
     "output_type": "execute_result"
    }
   ],
   "source": [
    "rslts_txtonly_byprediction[0] / len(vecrslts_textonly)"
   ]
  },
  {
   "cell_type": "code",
   "execution_count": 104,
   "id": "c91e2cc4-dbdd-40d6-b648-2fe53ee27584",
   "metadata": {},
   "outputs": [
    {
     "data": {
      "text/plain": [
       "0.00014543339150668993"
      ]
     },
     "execution_count": 104,
     "metadata": {},
     "output_type": "execute_result"
    }
   ],
   "source": [
    "len(rslts_txtonly_byprediction[3]) / len(vecrslts_textonly)"
   ]
  },
  {
   "cell_type": "code",
   "execution_count": 105,
   "id": "2ed1959f-a00a-4a3f-813e-cb58a2157495",
   "metadata": {},
   "outputs": [
    {
     "data": {
      "text/plain": [
       "0.6556137289121582"
      ]
     },
     "execution_count": 105,
     "metadata": {},
     "output_type": "execute_result"
    }
   ],
   "source": [
    "rslts_txtonly_byprediction[5] / len(vecrslts_textonly)"
   ]
  },
  {
   "cell_type": "code",
   "execution_count": 106,
   "id": "8ad4e0e9-84a9-48e7-a74f-98919a96f049",
   "metadata": {},
   "outputs": [
    {
     "data": {
      "text/plain": [
       "6876"
      ]
     },
     "execution_count": 106,
     "metadata": {},
     "output_type": "execute_result"
    }
   ],
   "source": [
    "len(vecrslts_textonly)"
   ]
  },
  {
   "cell_type": "markdown",
   "id": "81927442-9cd7-4d20-810d-7ca2bf56f5b3",
   "metadata": {},
   "source": [
    "## Score by English sentences"
   ]
  },
  {
   "cell_type": "code",
   "execution_count": 107,
   "id": "bc8104b9-5fe8-49b2-a944-ccdad58dcbb0",
   "metadata": {},
   "outputs": [],
   "source": [
    "# get dict of tgt sentences' alignments to src sents\n",
    "en1893_sent2lat_sent_aligns_textonly = build_tgt_2_src_dict(vecrslts_textonly)"
   ]
  },
  {
   "cell_type": "code",
   "execution_count": 108,
   "id": "bf5921ce-7e49-4dca-9d04-e38c37d05e44",
   "metadata": {},
   "outputs": [],
   "source": [
    "def score_tgt_sents_textonly(tgt2src_sent_aligns_dict, tgt_sent2section_name_dict,\n",
    "                   src_sent2section_name_dict):\n",
    "\n",
    "    text2text_tpstrict = 0\n",
    "    text2text_tpstrict_lst = []\n",
    "    \n",
    "    text2text_tplax = 0\n",
    "    text2text_tplax_lst = []\n",
    "    \n",
    "    text2text_incorrect = 0\n",
    "    text2text_incorrect_lst = []\n",
    "\n",
    "    text2null = 0\n",
    "    text2null_lst = []\n",
    "    \n",
    "    for tgt_sent_idx in range(len(tgt_sent2section_name_dict)):        \n",
    "        # get src sentences aligned to it (returns a set)\n",
    "        src_aligned_sents = tgt2src_sent_aligns_dict[tgt_sent_idx]\n",
    "        # print(f\"src aligned sents is {src_aligned_sents}\")\n",
    "        \n",
    "        # TODO: necessary? to skip null-null alignments (\"null\" will not appear as key in dict)\n",
    "        if str(tgt_sent_idx) in tgt_sent2section_name_dict.keys():\n",
    "            # get tgt sent chapter (keys are str)\n",
    "            tgt_sent_chapter = tgt_sent2section_name_dict[str(tgt_sent_idx)]\n",
    "            # print(f\"tgt chapter is {tgt_sent_chapter}\")\n",
    "\n",
    "            src_aligned_chapters = set()\n",
    "            src_text2text_correct_counter = 0\n",
    "            src_text2text_incorrect_counter = 0\n",
    "\n",
    "            for item in src_aligned_sents:\n",
    "                if item == \"null\":\n",
    "                    text2null += 1\n",
    "                    text2null_lst.append(tgt_sent_idx)\n",
    "                else:\n",
    "                    # get chapters of src sent (keys are str)\n",
    "                    if isinstance(src_sent2section_name_dict[str(item)], list):\n",
    "                        for section_name in src_sent2section_name_dict[str(item)]:\n",
    "                            src_aligned_chapters.add(section_name)\n",
    "                    else:\n",
    "                        src_aligned_chapters.add(src_sent2section_name_dict[str(item)])\n",
    "\n",
    "            # print(f\"src chapters are {src_aligned_chapters}\")\n",
    "            tgt_chaps_compare = tgt_sent_chapter[-5:]\n",
    "            for item in src_aligned_chapters:\n",
    "                if tgt_chaps_compare == item:\n",
    "                    src_text2text_correct_counter += 1\n",
    "                else:\n",
    "                    src_text2text_incorrect_counter += 1\n",
    "\n",
    "            if src_text2text_correct_counter == len(src_aligned_sents):\n",
    "                text2text_tpstrict += 1\n",
    "                text2text_tpstrict_lst.append((src_aligned_chapters,tgt_sent_chapter))\n",
    "            elif src_text2text_correct_counter > 0:\n",
    "                text2text_tplax += 1\n",
    "                text2text_tplax_lst.append((src_aligned_chapters,tgt_sent_chapter)) \n",
    "            else:\n",
    "                text2text_incorrect += 1\n",
    "                text2text_incorrect_lst.append(tgt_sent_idx)\n",
    "\n",
    "    # remove text2null from text2text_incorrect_lst\n",
    "    text2null_lst = set(text2null_lst)\n",
    "    text2text_incorrect_lst = set(text2text_incorrect_lst)\n",
    "    text2text_incorrect_lst -= text2null_lst\n",
    "    # update num of text2text_incorrect\n",
    "    text2text_incorrect -= text2null\n",
    "    \n",
    "    results = [text2text_tpstrict, #0 \n",
    "               text2text_tplax, #1\n",
    "               text2text_incorrect, #2\n",
    "               text2text_incorrect_lst, #3\n",
    "               text2null, #4\n",
    "               text2null_lst, #5\n",
    "               text2text_tpstrict_lst, #6\n",
    "               text2text_tplax_lst] #7\n",
    "    \n",
    "    return results"
   ]
  },
  {
   "cell_type": "code",
   "execution_count": 109,
   "id": "9f625cae-1f62-44aa-a1ec-f2634ed5e7ea",
   "metadata": {},
   "outputs": [],
   "source": [
    "rslts_txtonly_by_ensentence = score_tgt_sents_textonly(en1893_sent2lat_sent_aligns_textonly,\n",
    "                                                       en1893_sent2section_name_textonly,\n",
    "                                                       lat_sent2book_name)"
   ]
  },
  {
   "cell_type": "code",
   "execution_count": 110,
   "id": "0177082c-f453-42cf-8fe3-207316cf0c71",
   "metadata": {},
   "outputs": [
    {
     "data": {
      "text/plain": [
       "'book1'"
      ]
     },
     "execution_count": 110,
     "metadata": {},
     "output_type": "execute_result"
    }
   ],
   "source": [
    "lat_sent2book_name[str(0)]"
   ]
  },
  {
   "cell_type": "code",
   "execution_count": 111,
   "id": "bb1f5f80-ee5a-4d31-9004-356801b7af2a",
   "metadata": {},
   "outputs": [
    {
     "name": "stdout",
     "output_type": "stream",
     "text": [
      "3592\n",
      "61\n",
      "4\n",
      "4508\n",
      "4508\n"
     ]
    }
   ],
   "source": [
    "print(rslts_txtonly_by_ensentence[0])\n",
    "print(rslts_txtonly_by_ensentence[1])\n",
    "print(rslts_txtonly_by_ensentence[2])\n",
    "print(rslts_txtonly_by_ensentence[4])\n",
    "print(len(rslts_txtonly_by_ensentence[5]))"
   ]
  },
  {
   "cell_type": "code",
   "execution_count": 112,
   "id": "12fd5863-df6a-4657-9291-fa645aee0cc6",
   "metadata": {},
   "outputs": [
    {
     "data": {
      "text/plain": [
       "8165"
      ]
     },
     "execution_count": 112,
     "metadata": {},
     "output_type": "execute_result"
    }
   ],
   "source": [
    "len(en1893_sent2section_name_textonly)"
   ]
  },
  {
   "cell_type": "code",
   "execution_count": 113,
   "id": "5b1ef446-df5b-44ea-8c36-b868c8468f36",
   "metadata": {},
   "outputs": [
    {
     "data": {
      "text/plain": [
       "True"
      ]
     },
     "execution_count": 113,
     "metadata": {},
     "output_type": "execute_result"
    }
   ],
   "source": [
    "3592+61+4+4508 == len(en1893_sent2section_name_textonly)"
   ]
  },
  {
   "cell_type": "code",
   "execution_count": 114,
   "id": "40b66b7f-67a8-4bab-b44c-d586eea24c13",
   "metadata": {},
   "outputs": [
    {
     "data": {
      "text/plain": [
       "0.4399265156154317"
      ]
     },
     "execution_count": 114,
     "metadata": {},
     "output_type": "execute_result"
    }
   ],
   "source": [
    "# tpstrict\n",
    "rslts_txtonly_by_ensentence[0]/ len(en1893_sent2section_name_textonly)"
   ]
  },
  {
   "cell_type": "code",
   "execution_count": 115,
   "id": "2d1b0539-53ee-4489-abf4-75a34319d6e7",
   "metadata": {},
   "outputs": [
    {
     "data": {
      "text/plain": [
       "0.007470912431108389"
      ]
     },
     "execution_count": 115,
     "metadata": {},
     "output_type": "execute_result"
    }
   ],
   "source": [
    "#tplax\n",
    "rslts_txtonly_by_ensentence[1] / len(en1893_sent2section_name_textonly)"
   ]
  },
  {
   "cell_type": "code",
   "execution_count": 116,
   "id": "a1757367-32cb-47ce-ac7c-14cf26aa94d7",
   "metadata": {},
   "outputs": [
    {
     "data": {
      "text/plain": [
       "0.0004898958971218616"
      ]
     },
     "execution_count": 116,
     "metadata": {},
     "output_type": "execute_result"
    }
   ],
   "source": [
    "#text2text incorrect\n",
    "rslts_txtonly_by_ensentence[2] / len(en1893_sent2section_name_textonly)"
   ]
  },
  {
   "cell_type": "code",
   "execution_count": 117,
   "id": "24884219-37c3-4e71-9448-b93d204ad8fb",
   "metadata": {},
   "outputs": [
    {
     "data": {
      "text/plain": [
       "0.5521126760563381"
      ]
     },
     "execution_count": 117,
     "metadata": {},
     "output_type": "execute_result"
    }
   ],
   "source": [
    "# text2null - all incorrect\n",
    "rslts_txtonly_by_ensentence[4] / len(en1893_sent2section_name_textonly)"
   ]
  },
  {
   "cell_type": "code",
   "execution_count": 118,
   "id": "2d05bac1-fc09-482c-a794-018720b9ae28",
   "metadata": {},
   "outputs": [
    {
     "data": {
      "text/plain": [
       "0.5526025719534599"
      ]
     },
     "execution_count": 118,
     "metadata": {},
     "output_type": "execute_result"
    }
   ],
   "source": [
    "# total errors: text2textincorrect + text2null\n",
    "(rslts_txtonly_by_ensentence[2] + rslts_txtonly_by_ensentence[4]) / len(en1893_sent2section_name_textonly)"
   ]
  },
  {
   "cell_type": "markdown",
   "id": "8b21f4d8-d2fa-469d-b9be-f1e9a7d3955f",
   "metadata": {},
   "source": [
    "### get number of prose and metric sentences"
   ]
  },
  {
   "cell_type": "code",
   "execution_count": 119,
   "id": "fb8a708b-d4d0-4399-9328-f4d27854f8a0",
   "metadata": {},
   "outputs": [
    {
     "name": "stdout",
     "output_type": "stream",
     "text": [
      "3648\n",
      "4517\n"
     ]
    }
   ],
   "source": [
    "num_prose_textonly = 0\n",
    "num_metric_textonly = 0\n",
    "\n",
    "for vals in en1893_sent2section_name_textonly.values():\n",
    "    # b/c of one sentence that overlaps two metric books\n",
    "    if isinstance(vals, list):\n",
    "        num_metric_textonly += 1\n",
    "    elif vals.startswith(\"metric_translation\"):\n",
    "        num_metric_textonly += 1\n",
    "    elif vals.startswith(\"prose_translation\"):\n",
    "        num_prose_textonly += 1\n",
    "print(num_prose_textonly)\n",
    "print(num_metric_textonly)"
   ]
  },
  {
   "cell_type": "code",
   "execution_count": 120,
   "id": "6810009c-5777-44cc-a5b8-40d31e1b2f5f",
   "metadata": {},
   "outputs": [
    {
     "data": {
      "text/plain": [
       "8165"
      ]
     },
     "execution_count": 120,
     "metadata": {},
     "output_type": "execute_result"
    }
   ],
   "source": [
    "3648+4517"
   ]
  },
  {
   "cell_type": "markdown",
   "id": "e004143b-ab45-4f43-890c-a2f94abe6602",
   "metadata": {},
   "source": [
    "### get breakdown by translation per result"
   ]
  },
  {
   "cell_type": "code",
   "execution_count": 121,
   "id": "beedf359-c3dc-4386-9fef-203e9c4f6c12",
   "metadata": {
    "tags": []
   },
   "outputs": [
    {
     "name": "stdout",
     "output_type": "stream",
     "text": [
      "3574\n",
      "18\n"
     ]
    }
   ],
   "source": [
    "# text2text_tpstrict ({src_sents},{tgt_sents})\n",
    "text2text_tpstrict_prose = 0\n",
    "for alignment in rslts_txtonly_by_ensentence[6]:\n",
    "    tgt_text_section = alignment[1]\n",
    "    if tgt_text_section.startswith(\"prose_translation\"):\n",
    "        text2text_tpstrict_prose += 1\n",
    "        # get book of aligned Latin sents\n",
    "        lat_sent = alignment[0]\n",
    "text2text_tpstrict_metric = rslts_txtonly_by_ensentence[0] - text2text_tpstrict_prose\n",
    "\n",
    "print(text2text_tpstrict_prose)\n",
    "print(text2text_tpstrict_metric)"
   ]
  },
  {
   "cell_type": "code",
   "execution_count": 122,
   "id": "b08c0c1b-0f56-418f-997d-a96bdf68e22d",
   "metadata": {},
   "outputs": [
    {
     "name": "stdout",
     "output_type": "stream",
     "text": [
      "61\n",
      "0\n"
     ]
    }
   ],
   "source": [
    "# text2text_tplax ({src_sents},{tgt_sents})\n",
    "text2text_tplax_prose = 0\n",
    "for alignment in rslts_txtonly_by_ensentence[7]:\n",
    "    tgt_text_section = alignment[1]\n",
    "    if tgt_text_section.startswith(\"prose_translation\"):\n",
    "        text2text_tplax_prose += 1\n",
    "        # get book of aligned Latin sents\n",
    "        lat_sent = alignment[0]\n",
    "text2text_tplax_metric = rslts_txtonly_by_ensentence[1] - text2text_tplax_prose\n",
    "\n",
    "print(text2text_tplax_prose)\n",
    "print(text2text_tplax_metric)"
   ]
  },
  {
   "cell_type": "code",
   "execution_count": 123,
   "id": "05717291-50c3-4ef3-a28f-ab4069dd268e",
   "metadata": {},
   "outputs": [
    {
     "data": {
      "text/plain": [
       "{'null'}"
      ]
     },
     "execution_count": 123,
     "metadata": {},
     "output_type": "execute_result"
    }
   ],
   "source": [
    "en1893_sent2lat_sent_aligns_textonly[2253]"
   ]
  },
  {
   "cell_type": "code",
   "execution_count": 124,
   "id": "c2282436-403a-494c-97bf-116f14589fbe",
   "metadata": {},
   "outputs": [
    {
     "data": {
      "text/plain": [
       "'prose_translationbook4'"
      ]
     },
     "execution_count": 124,
     "metadata": {},
     "output_type": "execute_result"
    }
   ],
   "source": [
    "en1893_sent2section_name_textonly[str(2253)]"
   ]
  },
  {
   "cell_type": "code",
   "execution_count": 125,
   "id": "ee9bcb0f-4c56-4c49-a87e-4265ed94ff67",
   "metadata": {},
   "outputs": [
    {
     "name": "stdout",
     "output_type": "stream",
     "text": [
      "4495\n",
      "13\n"
     ]
    }
   ],
   "source": [
    "# text2null_lst: tgt_sent_idx's\n",
    "text2null_metric = 0\n",
    "text2null_prose = 0\n",
    "for tgt_sent in rslts_txtonly_by_ensentence[5]:\n",
    "    tgt_text_section = en1893_sent2section_name_textonly[str(tgt_sent)]\n",
    "    # print(tgt_text_section)\n",
    "    if isinstance(tgt_text_section, list):\n",
    "        # means tgt sentence overlaps two sections; don't doublecount. \n",
    "        # this is sent 6519, the first sent of metric book5, which contains \"* * * * * * *\" from end of metric book 4\n",
    "        lst_counter_prose = 0\n",
    "        lst_counter_metric = 0\n",
    "        for item in tgt_text_section:\n",
    "            if item.startswith(\"metric_translation\"):\n",
    "                lst_counter_metric += 1\n",
    "            elif item.startswith(\"prose_translation\"):\n",
    "                lst_counter_prose += 1\n",
    "        if lst_counter_metric != 0:\n",
    "            text2null_metric += 1\n",
    "        elif lst_counter_prose != 0:\n",
    "            text2null_prose += 1\n",
    "    else:\n",
    "        if tgt_text_section.startswith(\"metric_translation\"):\n",
    "            text2null_metric += 1\n",
    "        elif tgt_text_section.startswith(\"prose_translation\"):\n",
    "            text2null_prose += 1\n",
    "print(text2null_metric)\n",
    "print(text2null_prose)"
   ]
  },
  {
   "cell_type": "code",
   "execution_count": 126,
   "id": "48a5194a-d2c8-4680-9b73-3da783d1e0fc",
   "metadata": {},
   "outputs": [
    {
     "name": "stdout",
     "output_type": "stream",
     "text": [
      "4\n",
      "0\n"
     ]
    }
   ],
   "source": [
    "# text2text_incorrect_lst: tgt_sent_idx's\n",
    "text2text_incorrect_metric = 0\n",
    "text2text_incorrect_prose = 0\n",
    "for tgt_sent in rslts_txtonly_by_ensentence[3]:\n",
    "    tgt_text_section = en1893_sent2section_name_textonly[str(tgt_sent)]\n",
    "    if isinstance(tgt_text_section, list):\n",
    "        for item in tgt_text_section:\n",
    "            if item.startswith(\"metric_translation\"):\n",
    "                text2text_incorrect_metric += 1\n",
    "            elif item.startswith(\"prose_translation\"):\n",
    "                text2text_incorrect_prose += 1\n",
    "    else:\n",
    "        if tgt_text_section.startswith(\"metric_translation\"):\n",
    "            text2text_incorrect_metric += 1\n",
    "        elif tgt_text_section.startswith(\"prose_translation\"):\n",
    "            text2text_incorrect_prose += 1\n",
    "print(text2text_incorrect_metric)\n",
    "print(text2text_incorrect_prose)"
   ]
  },
  {
   "cell_type": "code",
   "execution_count": 127,
   "id": "37d025e4-3155-4c88-9630-4287fa05e3b6",
   "metadata": {},
   "outputs": [
    {
     "data": {
      "text/plain": [
       "'prose_translationbook1'"
      ]
     },
     "execution_count": 127,
     "metadata": {},
     "output_type": "execute_result"
    }
   ],
   "source": [
    "en1893_sent2section_name_textonly[\"0\"]"
   ]
  },
  {
   "cell_type": "markdown",
   "id": "f5111068-abea-4906-a462-9cb675a2259f",
   "metadata": {},
   "source": [
    "### Redo eval after backing out sents related to 2nd translation"
   ]
  },
  {
   "cell_type": "code",
   "execution_count": 128,
   "id": "78274d89-8ba8-4ef6-bbc3-84b50317e811",
   "metadata": {},
   "outputs": [],
   "source": [
    "    # results = [text2text_tpstrict, #0 \n",
    "    #            text2text_tplax, #1\n",
    "    #            text2text_incorrect, #2\n",
    "    #            text2text_incorrect_lst, #3\n",
    "    #            text2null, #4\n",
    "    #            text2null_lst, #5\n",
    "    #            text2text_tpstrict_lst, #6\n",
    "    #            text2text_tplax_lst] #7"
   ]
  },
  {
   "cell_type": "code",
   "execution_count": 129,
   "id": "645d00be-b128-432a-8fca-678c9184c9da",
   "metadata": {},
   "outputs": [
    {
     "name": "stdout",
     "output_type": "stream",
     "text": [
      "3648\n",
      "4517\n"
     ]
    }
   ],
   "source": [
    "print(num_prose_textonly)\n",
    "print(num_metric_textonly)"
   ]
  },
  {
   "cell_type": "code",
   "execution_count": 130,
   "id": "a436081b-1b8f-4ef4-beda-42d49874197f",
   "metadata": {},
   "outputs": [
    {
     "data": {
      "text/plain": [
       "0.9797149122807017"
      ]
     },
     "execution_count": 130,
     "metadata": {},
     "output_type": "execute_result"
    }
   ],
   "source": [
    "# text2text_tpstrict\n",
    "(rslts_txtonly_by_ensentence[0] - text2text_tpstrict_metric) / num_prose_textonly"
   ]
  },
  {
   "cell_type": "code",
   "execution_count": 131,
   "id": "b2bd5def-725d-4685-b364-4faea5502887",
   "metadata": {},
   "outputs": [
    {
     "data": {
      "text/plain": [
       "0.016721491228070175"
      ]
     },
     "execution_count": 131,
     "metadata": {},
     "output_type": "execute_result"
    }
   ],
   "source": [
    "# text2text_tplax\n",
    "(rslts_txtonly_by_ensentence[1] - text2text_tplax_metric) / num_prose_textonly"
   ]
  },
  {
   "cell_type": "code",
   "execution_count": 132,
   "id": "52f34ab3-8ad3-4e13-8c91-cf91cf57e736",
   "metadata": {},
   "outputs": [
    {
     "data": {
      "text/plain": [
       "0.0"
      ]
     },
     "execution_count": 132,
     "metadata": {},
     "output_type": "execute_result"
    }
   ],
   "source": [
    "# text2text_incorrect\n",
    "(rslts_txtonly_by_ensentence[2] - text2text_incorrect_metric) / num_prose_textonly"
   ]
  },
  {
   "cell_type": "code",
   "execution_count": 133,
   "id": "45c1793b-7a6b-4e18-a971-00958dd2ed15",
   "metadata": {},
   "outputs": [
    {
     "data": {
      "text/plain": [
       "0.00356359649122807"
      ]
     },
     "execution_count": 133,
     "metadata": {},
     "output_type": "execute_result"
    }
   ],
   "source": [
    "#text2null\n",
    "(rslts_txtonly_by_ensentence[4] - text2null_metric) / num_prose_textonly"
   ]
  },
  {
   "cell_type": "code",
   "execution_count": null,
   "id": "274603fa-84b8-41aa-9c70-a2f6642abe9f",
   "metadata": {},
   "outputs": [],
   "source": []
  }
 ],
 "metadata": {
  "kernelspec": {
   "display_name": "Python 3 (ipykernel)",
   "language": "python",
   "name": "python3"
  },
  "language_info": {
   "codemirror_mode": {
    "name": "ipython",
    "version": 3
   },
   "file_extension": ".py",
   "mimetype": "text/x-python",
   "name": "python",
   "nbconvert_exporter": "python",
   "pygments_lexer": "ipython3",
   "version": "3.7.13"
  },
  "toc-autonumbering": false
 },
 "nbformat": 4,
 "nbformat_minor": 5
}
