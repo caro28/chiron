{
 "cells": [
  {
   "cell_type": "code",
   "execution_count": 2,
   "id": "2322d76e",
   "metadata": {},
   "outputs": [],
   "source": [
    "import re\n",
    "import json\n",
    "import stanza\n",
    "import argparse\n",
    "\n",
    "import pandas as pd\n",
    "\n",
    "from itertools import chain\n",
    "from ast import literal_eval"
   ]
  },
  {
   "cell_type": "code",
   "execution_count": 3,
   "id": "6c162340",
   "metadata": {},
   "outputs": [],
   "source": [
    "from functions import load_txt_as_lst"
   ]
  },
  {
   "cell_type": "code",
   "execution_count": 6,
   "id": "913da7a3",
   "metadata": {},
   "outputs": [],
   "source": [
    "path_thuc_de_1864 = \"/Users/carolinecraig/Documents/Northeastern/translation_project/summer2023/thucydides_1_1864_de_str.txt\"\n",
    "thuc_de_1864_lst_raw = load_txt_as_lst(path_thuc_de_1864)\n"
   ]
  },
  {
   "cell_type": "code",
   "execution_count": 7,
   "id": "5f9ad314",
   "metadata": {},
   "outputs": [
    {
     "data": {
      "text/plain": [
       "['Vorwort\\n',\n",
       " '\\n',\n",
       " 'Dieser neuen Uebersetzung des großen  Geschichtschreibers wünscht der Verdentscher, daß sie ihr bescheidenes Theil  beitragen möge, den Schatz politischer Weisheit und  richtiger Beurtheilung menschlicher Dinge, welche das Bnch  auszeichnen und es zu „einem Besitzthum für alle Zeiten\"  mahcen, mehr und mehr auch in den Besitz unseres Volks zu  bringen. Die Aehnlichkeit der Zustände in geistigen und  politischen Dingen im damaligen Hellas und im heutigen  Deutschland ist zwar nicht so groß, wie Viele glauben und fürchten,  aber doch immer groß genug, um für unsere Gegenwart  reiche Belehrung und Zurechtweisung zu bieten, und das  Geschichtswerk des Thukydides ist das Buch, welches solche am  reichlichsten enthält.\\n',\n",
       " '\\n',\n",
       " \"Dieser Uebersetzung liegt vorzugsweise der Text und  die Texterklärung der Krüger'schen Ausgabe zu Grunde,   die wohl lange Zeit ein Muster für Herausgeber griechischer  Schriftsteller bleiben wird. Auch ist eine gute Zahl  Anmerkungen mit hernbergenommen worden. Ueber meine  Auffassung einiger schwierigen Stellen werde ich mich an einem  anderen Orte aussprechen.\\n\"]"
      ]
     },
     "execution_count": 7,
     "metadata": {},
     "output_type": "execute_result"
    }
   ],
   "source": [
    "thuc_de_1864_lst_raw[:5]"
   ]
  },
  {
   "cell_type": "code",
   "execution_count": null,
   "id": "f19e3c19",
   "metadata": {},
   "outputs": [],
   "source": []
  }
 ],
 "metadata": {
  "kernelspec": {
   "display_name": "Python 3 (ipykernel)",
   "language": "python",
   "name": "python3"
  },
  "language_info": {
   "codemirror_mode": {
    "name": "ipython",
    "version": 3
   },
   "file_extension": ".py",
   "mimetype": "text/x-python",
   "name": "python",
   "nbconvert_exporter": "python",
   "pygments_lexer": "ipython3",
   "version": "3.11.3"
  }
 },
 "nbformat": 4,
 "nbformat_minor": 5
}
