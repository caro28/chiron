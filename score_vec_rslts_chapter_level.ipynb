{
 "cells": [
  {
   "cell_type": "code",
   "execution_count": 1,
   "id": "d4cb692b-afff-48e6-9014-10ec77bb1795",
   "metadata": {},
   "outputs": [],
   "source": [
    "import re\n",
    "import json\n",
    "import stanza\n",
    "import argparse\n",
    "\n",
    "import numpy as np\n",
    "import pandas as pd\n",
    "\n",
    "from itertools import chain\n",
    "from ast import literal_eval\n",
    "from collections import defaultdict"
   ]
  },
  {
   "cell_type": "code",
   "execution_count": 2,
   "id": "d510b113-a417-41d9-8f10-250e91a79df8",
   "metadata": {
    "tags": []
   },
   "outputs": [],
   "source": [
    "def read_alignments(fin):\n",
    "    \"\"\"\n",
    "    function built by vecalign. see:\n",
    "    https://github.com/caro28/vecalign/blob/master/dp_utils.py\n",
    "    \"\"\"\n",
    "    \n",
    "    alignments = []\n",
    "    with open(fin, 'rt', encoding=\"utf-8\") as infile:\n",
    "        for line in infile:\n",
    "            fields = [x.strip() for x in line.split(':') if len(x.strip())]\n",
    "            if len(fields) < 2:\n",
    "                raise Exception('Got line \"%s\", which does not have at least two \":\" separated fields' % line.strip())\n",
    "            try:\n",
    "                src = literal_eval(fields[0])\n",
    "                tgt = literal_eval(fields[1])\n",
    "            except:\n",
    "                raise Exception('Failed to parse line \"%s\"' % line.strip())\n",
    "            alignments.append((src, tgt))\n",
    "\n",
    "    # I know bluealign files have a few entries entries missing,\n",
    "    #   but I don't fix them in order to be consistent previous reported scores\n",
    "    return alignments\n",
    "\n",
    "\n",
    "def score_vec_rslts_chapter_level(vr_rslts_lst, el_sent2section_dict,\n",
    "                                 fr_sent2section_dict, fr_extra_section_names):\n",
    "\n",
    "    tp_strict = 0 # +1 per alignment if there's an exact match\n",
    "    tp_lax = 0 # +1 per alignment if there's any overlap\n",
    "    overlaps = []\n",
    "    errors = []\n",
    "    correct_nulls = 0\n",
    "    text2null = 0\n",
    "\n",
    "    for idx_align, alignment in enumerate(vr_rslts_lst):\n",
    "        # skip alignments null on both sides\n",
    "        if alignment == ([],[]):\n",
    "            continue\n",
    "        else:\n",
    "            src_sents = alignment[0]\n",
    "            tgt_sents = alignment[1]\n",
    "            # get set of chapters from src, then from tgt\n",
    "            chapters_from_src = set()\n",
    "            chapters_from_tgt = set()\n",
    "            # if alignment is null on src side, then chapters_from_src remains empty set\n",
    "            if src_sents != []:\n",
    "                for src_id in src_sents:\n",
    "                    if isinstance(el_sent2section_dict[str(src_id)], list):\n",
    "                        for section_name in el_sent2section_dict[str(src_id)]:\n",
    "                            chapters_from_src.add(section_name)\n",
    "                    else:\n",
    "                        chapters_from_src.add(el_sent2section_dict[str(src_id)])\n",
    "            # if alignment is null on tgt side, then chapters_from_tgt remains empty set\n",
    "            if tgt_sents != []:\n",
    "                for tgt_id in tgt_sents:\n",
    "                    if isinstance(fr_sent2section_dict[str(tgt_id)], list):\n",
    "                        for section_name_ in fr_sent2section_dict[str(tgt_id)]:\n",
    "                            chapters_from_tgt.add(section_name_)\n",
    "                    else:\n",
    "                        chapters_from_tgt.add(fr_sent2section_dict[str(tgt_id)])\n",
    "\n",
    "            # compare the sets, get tp strict and lax\n",
    "            if chapters_from_src == chapters_from_tgt:\n",
    "                tp_strict += 1\n",
    "\n",
    "            # account for correct null : fr extraneous sections \n",
    "            elif chapters_from_src == set():\n",
    "                if len(chapters_from_tgt) > 1:\n",
    "                    print(\"$$$$\")\n",
    "                tgt_counter = 0\n",
    "                for chapter in chapters_from_tgt:\n",
    "                    if chapter in fr_extra_section_names:\n",
    "                        tgt_counter += 1\n",
    "                # correc_null if all tgt chapters are extraneous\n",
    "                if tgt_counter == len(chapters_from_tgt):\n",
    "                    correct_nulls += 1\n",
    "                # and error if not\n",
    "                elif tgt_counter == 0:\n",
    "                    # print(\"HAVE ERROR\")\n",
    "                    # save errors\n",
    "                    error_dict = {}\n",
    "                    error_dict[\"alignment\"] = alignment\n",
    "                    error_dict[\"alignmnent_idx\"] = idx_align\n",
    "                    error_dict[\"src_chapters\"] = chapters_from_src\n",
    "                    error_dict[\"tgt_chapters\"] = chapters_from_tgt\n",
    "                    errors.append(error_dict)\n",
    "            \n",
    "            elif chapters_from_tgt == set():\n",
    "                # if len(chapters_from_src) > 0:\n",
    "                text2null += 1\n",
    "\n",
    "            else:\n",
    "                overlap = chapters_from_src.intersection(chapters_from_tgt)\n",
    "                if len(overlap) != 0:\n",
    "                    tp_lax += 1\n",
    "                    overlaps.append(alignment)\n",
    "                else:\n",
    "                    # save errors\n",
    "                    error_dict = {}\n",
    "                    error_dict[\"alignment\"] = alignment\n",
    "                    error_dict[\"alignmnent_idx\"] = idx_align\n",
    "                    error_dict[\"src_chapters\"] = chapters_from_src\n",
    "                    error_dict[\"tgt_chapters\"] = chapters_from_tgt\n",
    "                    errors.append(error_dict)\n",
    "        \n",
    "    return tp_strict, tp_lax, overlaps, errors, correct_nulls, text2null\n",
    "\n"
   ]
  },
  {
   "cell_type": "code",
   "execution_count": 3,
   "id": "2d32a142-1070-413f-932c-9967b1aab079",
   "metadata": {},
   "outputs": [],
   "source": [
    "# get vecalign results\n",
    "vec_rslts_path = \"/home/craig.car/spring2023/data/align_noisy_data/thucydides/el2fr_rslts_0429.txt\"\n",
    "el_2_fr_vec_rslts = read_alignments(vec_rslts_path)"
   ]
  },
  {
   "cell_type": "code",
   "execution_count": 4,
   "id": "fb2ed21c-efed-42f6-9ab8-8ce2f68595bc",
   "metadata": {},
   "outputs": [
    {
     "data": {
      "text/plain": [
       "12046"
      ]
     },
     "execution_count": 4,
     "metadata": {},
     "output_type": "execute_result"
    }
   ],
   "source": [
    "len(el_2_fr_vec_rslts)"
   ]
  },
  {
   "cell_type": "markdown",
   "id": "f5e1d581-f2f7-4728-b272-dc801b595002",
   "metadata": {},
   "source": [
    "# Score vecalign results: by prediction"
   ]
  },
  {
   "cell_type": "code",
   "execution_count": 12,
   "id": "22a6083e-0ad7-4b76-b3a0-ef2e4dfc1787",
   "metadata": {},
   "outputs": [],
   "source": [
    "el_dict_path = \"/home/craig.car/spring2023/data/align_noisy_data/thucydides/grk_sent_2_section_name_dict.json\"\n",
    "\n",
    "with open(el_dict_path) as f:\n",
    "    el_sent_2_section_name = json.load(f)\n",
    "\n",
    "fr_dict_path = \"/home/craig.car/repos/chiron/align_texts_project/data/thucydides/fr_sent_2_section_name_dict_withfootnotes.json\"\n",
    "\n",
    "with open(fr_dict_path) as f:\n",
    "    fr_sent_2_section_name = json.load(f)\n",
    "    "
   ]
  },
  {
   "cell_type": "code",
   "execution_count": 13,
   "id": "86827ce4-32a6-4ab8-8dbe-f841652c5b98",
   "metadata": {},
   "outputs": [],
   "source": [
    "# get paratext sections\n",
    "section_names = []\n",
    "for item in list(fr_sent_2_section_name.values()):\n",
    "    if isinstance(item, str):\n",
    "        section_names.append(item)\n",
    "    else:\n",
    "        section_names.extend(item)"
   ]
  },
  {
   "cell_type": "code",
   "execution_count": 14,
   "id": "a625adc3-9a32-460e-a357-9d72e1a987e8",
   "metadata": {
    "tags": []
   },
   "outputs": [],
   "source": [
    "section_names = np.unique(np.array(section_names))\n",
    "# section_names"
   ]
  },
  {
   "cell_type": "code",
   "execution_count": 15,
   "id": "94be2c90-989a-492a-a16c-7f2235a445a2",
   "metadata": {
    "tags": []
   },
   "outputs": [],
   "source": [
    "extraneous_sections = []\n",
    "text_sections = []\n",
    "for item in section_names:\n",
    "    if item[-1].isdigit():\n",
    "        text_sections.append(item)\n",
    "    else:\n",
    "        extraneous_sections.append(item)\n",
    "# extraneous_sections"
   ]
  },
  {
   "cell_type": "code",
   "execution_count": 16,
   "id": "60720b92-4f0f-4a71-8466-0928311c67ea",
   "metadata": {
    "tags": []
   },
   "outputs": [],
   "source": [
    "tp_strict_, tp_lax_, overlaps_, errors_, correct_nulls_, text2null_ = score_vec_rslts_chapter_level(\n",
    "    el_2_fr_vec_rslts, el_sent_2_section_name, fr_sent_2_section_name, extraneous_sections)"
   ]
  },
  {
   "cell_type": "code",
   "execution_count": 17,
   "id": "4c3a6e4a-d799-4153-9549-3d24a9b35578",
   "metadata": {},
   "outputs": [
    {
     "data": {
      "text/plain": [
       "0.4529304333388677"
      ]
     },
     "execution_count": 17,
     "metadata": {},
     "output_type": "execute_result"
    }
   ],
   "source": [
    "tp_strict_ / len(el_2_fr_vec_rslts)"
   ]
  },
  {
   "cell_type": "code",
   "execution_count": 18,
   "id": "4adbdc98-9bbf-4830-98d6-51157bae2b05",
   "metadata": {},
   "outputs": [
    {
     "data": {
      "text/plain": [
       "0.03619458741490952"
      ]
     },
     "execution_count": 18,
     "metadata": {},
     "output_type": "execute_result"
    }
   ],
   "source": [
    "tp_lax_ / len(el_2_fr_vec_rslts)"
   ]
  },
  {
   "cell_type": "code",
   "execution_count": 19,
   "id": "117529e4-7955-4aea-b474-117223981499",
   "metadata": {},
   "outputs": [
    {
     "data": {
      "text/plain": [
       "0.4891250207537772"
      ]
     },
     "execution_count": 19,
     "metadata": {},
     "output_type": "execute_result"
    }
   ],
   "source": [
    "(tp_strict_ + tp_lax_) / len(el_2_fr_vec_rslts)"
   ]
  },
  {
   "cell_type": "code",
   "execution_count": 20,
   "id": "5273d394-095b-4f57-86ee-11e3af991758",
   "metadata": {},
   "outputs": [
    {
     "data": {
      "text/plain": [
       "0.00946372239747634"
      ]
     },
     "execution_count": 20,
     "metadata": {},
     "output_type": "execute_result"
    }
   ],
   "source": [
    "len(errors_)/len(el_2_fr_vec_rslts)"
   ]
  },
  {
   "cell_type": "code",
   "execution_count": 21,
   "id": "7f491af4-96bf-46a6-8c2c-25d818f87ff7",
   "metadata": {},
   "outputs": [
    {
     "data": {
      "text/plain": [
       "0.5014112568487464"
      ]
     },
     "execution_count": 21,
     "metadata": {},
     "output_type": "execute_result"
    }
   ],
   "source": [
    "correct_nulls_/len(el_2_fr_vec_rslts)"
   ]
  },
  {
   "cell_type": "code",
   "execution_count": 22,
   "id": "e980a306-8c82-49af-80a0-abd659b36b7a",
   "metadata": {
    "tags": []
   },
   "outputs": [
    {
     "data": {
      "text/plain": [
       "0.9543416901876142"
      ]
     },
     "execution_count": 22,
     "metadata": {},
     "output_type": "execute_result"
    }
   ],
   "source": [
    "(correct_nulls_+tp_strict_)/len(el_2_fr_vec_rslts)"
   ]
  },
  {
   "cell_type": "code",
   "execution_count": 23,
   "id": "ea95cdac-1d2a-4358-a82e-0265d723b649",
   "metadata": {},
   "outputs": [
    {
     "data": {
      "text/plain": [
       "12046"
      ]
     },
     "execution_count": 23,
     "metadata": {},
     "output_type": "execute_result"
    }
   ],
   "source": [
    "len(el_2_fr_vec_rslts)"
   ]
  },
  {
   "cell_type": "code",
   "execution_count": 24,
   "id": "ec976134-b384-482d-9957-8359d1700aaa",
   "metadata": {},
   "outputs": [
    {
     "data": {
      "text/plain": [
       "12046"
      ]
     },
     "execution_count": 24,
     "metadata": {},
     "output_type": "execute_result"
    }
   ],
   "source": [
    "tp_strict_ + tp_lax_ + correct_nulls_ + len(errors_)"
   ]
  },
  {
   "cell_type": "markdown",
   "id": "6d5a8352-d35e-4ad8-bf00-02f39700c105",
   "metadata": {},
   "source": [
    "# Analyze vecalign results: by French sentences"
   ]
  },
  {
   "cell_type": "code",
   "execution_count": 25,
   "id": "8e2b6bb9-25df-4452-b2aa-6956caddea23",
   "metadata": {},
   "outputs": [],
   "source": [
    "def build__src_2_tgt_dict(alignments_lst):\n",
    "    '''\n",
    "    If alignment is null on one side, inserts \"null\" \n",
    "    '''\n",
    "    src_id_to_tgt_ids = defaultdict(set)\n",
    "    for src, tgt in alignments_lst:\n",
    "        if src == []:\n",
    "            src = [\"null\"]\n",
    "        if tgt == []:\n",
    "            tgt = [\"null\"]\n",
    "        for src_id in src:\n",
    "            for tgt_id in tgt:\n",
    "                src_id_to_tgt_ids[src_id].add(tgt_id)\n",
    "    return src_id_to_tgt_ids\n",
    "\n",
    "def build_tgt_2_src_dict(alignments_lst):\n",
    "    '''\n",
    "    If alignment is null on one side, inserts \"null\" \n",
    "    '''\n",
    "    tgt_id_to_src_ids = defaultdict(set)\n",
    "    for src, tgt in alignments_lst:\n",
    "        if src == []:\n",
    "            src = [\"null\"]\n",
    "        if tgt == []:\n",
    "            tgt = [\"null\"]\n",
    "        for tgt_id in tgt:\n",
    "            for src_id in src:\n",
    "                tgt_id_to_src_ids[tgt_id].add(src_id)\n",
    "    return tgt_id_to_src_ids"
   ]
  },
  {
   "cell_type": "code",
   "execution_count": 26,
   "id": "5caeb716-4b3f-4eb8-95ee-3ced9f2e2ca4",
   "metadata": {},
   "outputs": [],
   "source": [
    "# get dict of french sentences' alignments to greek sents\n",
    "fr_sent_2_el_sent_aligns = build_tgt_2_src_dict(el_2_fr_vec_rslts)"
   ]
  },
  {
   "cell_type": "code",
   "execution_count": 27,
   "id": "10c21862-4325-4995-a468-6e834d5cd913",
   "metadata": {
    "tags": []
   },
   "outputs": [
    {
     "data": {
      "text/plain": [
       "True"
      ]
     },
     "execution_count": 27,
     "metadata": {},
     "output_type": "execute_result"
    }
   ],
   "source": [
    "# test\n",
    "fr_keys = list(fr_sent_2_el_sent_aligns.keys())\n",
    "fr_keys = sorted(fr_keys)\n",
    "fr_keys == [x for x in range(0, 17203)]"
   ]
  },
  {
   "cell_type": "code",
   "execution_count": 28,
   "id": "1909967a-1bcf-4c79-b99c-7af629cb716b",
   "metadata": {},
   "outputs": [
    {
     "data": {
      "text/plain": [
       "{'null'}"
      ]
     },
     "execution_count": 28,
     "metadata": {},
     "output_type": "execute_result"
    }
   ],
   "source": [
    "fr_sent_2_el_sent_aligns[0]"
   ]
  },
  {
   "cell_type": "code",
   "execution_count": 29,
   "id": "1b424a32-667c-4aa6-abf5-ff6fb4d1afde",
   "metadata": {},
   "outputs": [
    {
     "data": {
      "text/plain": [
       "'foreword'"
      ]
     },
     "execution_count": 29,
     "metadata": {},
     "output_type": "execute_result"
    }
   ],
   "source": [
    "fr_sent_2_section_name[\"0\"]"
   ]
  },
  {
   "cell_type": "code",
   "execution_count": 30,
   "id": "586d2171-81ed-4156-babe-672f19f96d8a",
   "metadata": {},
   "outputs": [],
   "source": [
    "def score_fr_sents(fr2el_sent_aligns_dict, fr_sent2section_name_dict,\n",
    "                   el_sent2section_name_dict, fr_extraneous_chapter_names):\n",
    "    extraneous2null_tpstrict = 0\n",
    "    extraneous2null_tplax = 0 # at least one overlap\n",
    "    extraneous2text = 0 # no overlap\n",
    "\n",
    "    text2text_tpstrict = 0\n",
    "    text2text_tplax = 0\n",
    "    text2text_incorrect = 0\n",
    "    text2text_incorrect_lst = []\n",
    "\n",
    "    text2null_incorrect = 0\n",
    "    text2null_lst = []\n",
    "\n",
    "    for fr_sent_idx in fr2el_sent_aligns_dict.keys():\n",
    "    # for fr_sent_idx in [0,1000,10000]:\n",
    "        # get grk sentences aligned to it\n",
    "        el_aligned_sents = fr2el_sent_aligns_dict[fr_sent_idx]\n",
    "        # print(f\"el aligned sents is {el_aligned_sents}\")\n",
    "        \n",
    "        # TODO: necessary? to skip null-null alignments (\"null\" will not appear as key in dict)\n",
    "        if str(fr_sent_idx) in fr_sent2section_name_dict.keys():\n",
    "            # get fr sent chapter (keys are str). only 1 chapter per french sent\n",
    "            fr_sent_chapter = fr_sent2section_name_dict[str(fr_sent_idx)]\n",
    "            # print(f\"fr chapter is {fr_sent_chapter}\")\n",
    "\n",
    "            if fr_sent_chapter in fr_extraneous_chapter_names:\n",
    "                # get num of fr - null alignments\n",
    "                extraneous2null_counter = 0\n",
    "                for item in el_aligned_sents:\n",
    "                    if item == \"null\":\n",
    "                        extraneous2null_counter += 1\n",
    "                # compare to number of el sents in alignmnent\n",
    "                if extraneous2null_counter == len(el_aligned_sents):\n",
    "                    # then all grk aligned sents are null\n",
    "                    extraneous2null_tpstrict += 1\n",
    "                elif extraneous2null_counter > 0:\n",
    "                    # then at least one grk sent is null (also captures tpstrict)\n",
    "                    extraneous2null_tplax += 1\n",
    "                else:\n",
    "                    # no greek sents are null\n",
    "                    extraneous2text += 1\n",
    "\n",
    "                # fr_extraneous2null_correct += el_counter/len(el_aligned_sents)\n",
    "                # fr_extraneous2text += (len(el_aligned_sents) - el_counter)/len(el_aligned_sents)\n",
    "                    # if item == \"null\":\n",
    "                    #     fr_extraneous2null_correct += 1\n",
    "                    # else:\n",
    "                    #     fr_extraneous2text += 1\n",
    "\n",
    "            else: # compare fr and grk chapters\n",
    "                el_aligned_chapters = set()\n",
    "                el_text2text_correct_counter = 0\n",
    "                el_text2text_incorrect_counter = 0\n",
    "\n",
    "                for item in el_aligned_sents:\n",
    "                    if item == \"null\":\n",
    "                        text2null_incorrect += 1\n",
    "                        text2null_lst.append(fr_sent_idx)\n",
    "                    # if item == \"null\":\n",
    "                    #     fr_text2null += 1\n",
    "                    #     fr_text2null_lst.append(fr_sent_idx)\n",
    "                    else:\n",
    "                        # get chapters of el sent (keys are str)\n",
    "                        if isinstance(el_sent2section_name_dict[str(item)], list):\n",
    "                            for section_name in el_sent2section_name_dict[str(item)]:\n",
    "                                el_aligned_chapters.add(section_name)\n",
    "                        else:\n",
    "                            el_aligned_chapters.add(el_sent2section_name_dict[str(item)])\n",
    "\n",
    "                # print(f\"el chapters are {el_aligned_chapters}\")\n",
    "\n",
    "                for item in el_aligned_chapters:\n",
    "                    if fr_sent_chapter == item:\n",
    "                        el_text2text_correct_counter += 1\n",
    "                        # fr_text2text_correct += 1\n",
    "                    else:\n",
    "                        el_text2text_incorrect_counter += 1\n",
    "                        # fr_text2text_incorrect += 1\n",
    "\n",
    "                if el_text2text_correct_counter == len(el_aligned_sents):\n",
    "                    text2text_tpstrict += 1\n",
    "                elif el_text2text_correct_counter > 0:\n",
    "                    text2text_tplax += 1\n",
    "                else:\n",
    "                    text2text_incorrect += 1\n",
    "                    text2text_incorrect_lst.append(fr_sent_idx)\n",
    "\n",
    "                # fr_text2text_correct += el_counter_text2text_correct/(len(el_aligned_sents))\n",
    "                # fr_text2text_incorrect += el_counter_text2text_incorrect/(len(el_aligned_sents))\n",
    "\n",
    "    # remove text2null from text2text_incorrect_lst\n",
    "    text2null_lst = set(text2null_lst)\n",
    "    text2text_incorrect_lst = set(text2text_incorrect_lst)\n",
    "    text2text_incorrect_lst -= text2null_lst\n",
    "    # update num of text2text_incorrect\n",
    "    text2text_incorrect -= text2null_incorrect\n",
    "    \n",
    "    results = [extraneous2null_tpstrict, extraneous2null_tplax, extraneous2text,\n",
    "               text2text_tpstrict, text2text_tplax, \n",
    "               text2text_incorrect, text2text_incorrect_lst,\n",
    "               text2null_incorrect, text2null_lst]\n",
    "    \n",
    "    return results"
   ]
  },
  {
   "cell_type": "code",
   "execution_count": 31,
   "id": "e3b92089-e947-4c5c-a647-4f055f8bd77e",
   "metadata": {
    "tags": []
   },
   "outputs": [],
   "source": [
    "rslts_fr_sents = score_fr_sents(fr_sent_2_el_sent_aligns, fr_sent_2_section_name,\n",
    "                   el_sent_2_section_name, extraneous_sections)"
   ]
  },
  {
   "cell_type": "code",
   "execution_count": 32,
   "id": "b10556b7-0732-4fcd-82b4-54ff6db2d4da",
   "metadata": {
    "tags": []
   },
   "outputs": [
    {
     "name": "stdout",
     "output_type": "stream",
     "text": [
      "[6040, 0, 205, 10305, 102, 540]\n",
      "11\n"
     ]
    }
   ],
   "source": [
    "print(rslts_fr_sents[0:6])\n",
    "print(rslts_fr_sents[7])"
   ]
  },
  {
   "cell_type": "markdown",
   "id": "65c6612b-881c-47da-a9ef-c41ec0920396",
   "metadata": {},
   "source": [
    "## Show results as ratio to num of sent type"
   ]
  },
  {
   "cell_type": "code",
   "execution_count": 33,
   "id": "16f939d0-429c-48d9-baa1-56adcbd49eff",
   "metadata": {},
   "outputs": [],
   "source": [
    "# results = [extraneous2null_tpstrict, extraneous2null_tplax, extraneous2text,\n",
    "#                text2text_tpstrict, text2text_tplax, \n",
    "#                text2text_incorrect, text2text_incorrect_lst,\n",
    "#                text2null_incorrect, text2null_lst]"
   ]
  },
  {
   "cell_type": "code",
   "execution_count": 34,
   "id": "22012045-d5ad-4d71-b72d-acf4c349caeb",
   "metadata": {},
   "outputs": [],
   "source": [
    "fr_vals = np.array(list(fr_sent_2_section_name.values()))\n",
    "unique, counts = np.unique(fr_vals, return_counts=True)\n",
    "fr_section_counts = dict(zip(unique, counts))"
   ]
  },
  {
   "cell_type": "code",
   "execution_count": 35,
   "id": "16c5f262-b54c-4838-9b6c-f294fd3a3441",
   "metadata": {},
   "outputs": [
    {
     "data": {
      "text/plain": [
       "True"
      ]
     },
     "execution_count": 35,
     "metadata": {},
     "output_type": "execute_result"
    }
   ],
   "source": [
    "# check\n",
    "sum(unique == section_names) == len(section_names)"
   ]
  },
  {
   "cell_type": "code",
   "execution_count": 36,
   "id": "7414a308-4958-4d8d-9539-ec8a63156044",
   "metadata": {},
   "outputs": [
    {
     "data": {
      "text/plain": [
       "6245"
      ]
     },
     "execution_count": 36,
     "metadata": {},
     "output_type": "execute_result"
    }
   ],
   "source": [
    "num_extraneous_sents = 0\n",
    "for section in extraneous_sections:\n",
    "    section_len = fr_section_counts[section]\n",
    "    num_extraneous_sents += section_len\n",
    "num_extraneous_sents"
   ]
  },
  {
   "cell_type": "code",
   "execution_count": 37,
   "id": "b52f8e32-18b7-482f-952e-949e1603c85f",
   "metadata": {},
   "outputs": [
    {
     "data": {
      "text/plain": [
       "10958"
      ]
     },
     "execution_count": 37,
     "metadata": {},
     "output_type": "execute_result"
    }
   ],
   "source": [
    "num_text_sents = len(fr_sent_2_section_name)-num_extraneous_sents\n",
    "num_text_sents"
   ]
  },
  {
   "cell_type": "code",
   "execution_count": 38,
   "id": "b4ab5a90-a58f-48ee-861a-8be8ac60fc5d",
   "metadata": {},
   "outputs": [
    {
     "data": {
      "text/plain": [
       "True"
      ]
     },
     "execution_count": 38,
     "metadata": {},
     "output_type": "execute_result"
    }
   ],
   "source": [
    "rslts_fr_sents[0] + rslts_fr_sents[2] == num_extraneous_sents"
   ]
  },
  {
   "cell_type": "code",
   "execution_count": 39,
   "id": "cc624d51-bcb3-41a5-b1cf-3f44e3093ee2",
   "metadata": {},
   "outputs": [
    {
     "data": {
      "text/plain": [
       "True"
      ]
     },
     "execution_count": 39,
     "metadata": {},
     "output_type": "execute_result"
    }
   ],
   "source": [
    "rslts_fr_sents[3] + rslts_fr_sents[4] + rslts_fr_sents[5] + rslts_fr_sents[7] == num_text_sents"
   ]
  },
  {
   "cell_type": "code",
   "execution_count": 40,
   "id": "6f316a9f-5bf0-4ce4-9356-a6fe61febde1",
   "metadata": {},
   "outputs": [
    {
     "data": {
      "text/plain": [
       "0.967173738991193"
      ]
     },
     "execution_count": 40,
     "metadata": {},
     "output_type": "execute_result"
    }
   ],
   "source": [
    "rslts_fr_sents[0]/num_extraneous_sents"
   ]
  },
  {
   "cell_type": "code",
   "execution_count": 41,
   "id": "a5cfa3fd-80fb-49c5-93a5-1b5e129c3655",
   "metadata": {},
   "outputs": [
    {
     "data": {
      "text/plain": [
       "0.0"
      ]
     },
     "execution_count": 41,
     "metadata": {},
     "output_type": "execute_result"
    }
   ],
   "source": [
    "rslts_fr_sents[1]/num_extraneous_sents"
   ]
  },
  {
   "cell_type": "code",
   "execution_count": 42,
   "id": "d835cfc1-e3db-4186-af63-1091df652ec1",
   "metadata": {},
   "outputs": [
    {
     "data": {
      "text/plain": [
       "0.03282626100880705"
      ]
     },
     "execution_count": 42,
     "metadata": {},
     "output_type": "execute_result"
    }
   ],
   "source": [
    "rslts_fr_sents[2]/num_extraneous_sents"
   ]
  },
  {
   "cell_type": "code",
   "execution_count": 43,
   "id": "d028e037-b5ed-46b8-a244-b072f59dda4c",
   "metadata": {},
   "outputs": [
    {
     "data": {
      "text/plain": [
       "0.9404088337287826"
      ]
     },
     "execution_count": 43,
     "metadata": {},
     "output_type": "execute_result"
    }
   ],
   "source": [
    "rslts_fr_sents[3]/num_text_sents"
   ]
  },
  {
   "cell_type": "code",
   "execution_count": 44,
   "id": "1feddda2-7023-49ff-91e2-b8f9e0eded46",
   "metadata": {},
   "outputs": [
    {
     "data": {
      "text/plain": [
       "0.0093082679321044"
      ]
     },
     "execution_count": 44,
     "metadata": {},
     "output_type": "execute_result"
    }
   ],
   "source": [
    "rslts_fr_sents[4]/num_text_sents"
   ]
  },
  {
   "cell_type": "code",
   "execution_count": 45,
   "id": "0e73e015-ddcc-4d53-9081-c4f47dbaa215",
   "metadata": {},
   "outputs": [
    {
     "data": {
      "text/plain": [
       "0.04927906552290564"
      ]
     },
     "execution_count": 45,
     "metadata": {},
     "output_type": "execute_result"
    }
   ],
   "source": [
    "rslts_fr_sents[5]/num_text_sents"
   ]
  },
  {
   "cell_type": "code",
   "execution_count": 46,
   "id": "a789e64a-278a-475a-ba7b-5f0cfa979ac7",
   "metadata": {},
   "outputs": [
    {
     "data": {
      "text/plain": [
       "0.001003832816207337"
      ]
     },
     "execution_count": 46,
     "metadata": {},
     "output_type": "execute_result"
    }
   ],
   "source": [
    "rslts_fr_sents[7]/num_text_sents"
   ]
  },
  {
   "cell_type": "code",
   "execution_count": 47,
   "id": "e039d300-99f2-4e46-8b1d-6bfb432fe7c2",
   "metadata": {},
   "outputs": [
    {
     "data": {
      "text/plain": [
       "17203"
      ]
     },
     "execution_count": 47,
     "metadata": {},
     "output_type": "execute_result"
    }
   ],
   "source": [
    "len(fr_sent_2_section_name)"
   ]
  },
  {
   "cell_type": "code",
   "execution_count": null,
   "id": "558604ef-bc70-483a-a1c1-9772ff87c4cb",
   "metadata": {},
   "outputs": [],
   "source": []
  },
  {
   "cell_type": "code",
   "execution_count": null,
   "id": "d136cf3b-dd29-42c6-9f06-e37c3103bee7",
   "metadata": {},
   "outputs": [],
   "source": []
  }
 ],
 "metadata": {
  "kernelspec": {
   "display_name": "Python 3 (ipykernel)",
   "language": "python",
   "name": "python3"
  },
  "language_info": {
   "codemirror_mode": {
    "name": "ipython",
    "version": 3
   },
   "file_extension": ".py",
   "mimetype": "text/x-python",
   "name": "python",
   "nbconvert_exporter": "python",
   "pygments_lexer": "ipython3",
   "version": "3.7.13"
  },
  "toc-autonumbering": true
 },
 "nbformat": 4,
 "nbformat_minor": 5
}
